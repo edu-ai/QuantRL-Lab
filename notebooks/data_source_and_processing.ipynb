{
 "cells": [
  {
   "cell_type": "code",
   "execution_count": 1,
   "id": "fc2dfa9a",
   "metadata": {},
   "outputs": [],
   "source": [
    "import pandas as pd\n",
    "from quantrl_lab.data import (\n",
    "    DataSourceRegistry,\n",
    "    DataProcessor,\n",
    "    IndicatorRegistry,\n",
    "    AlpacaDataLoader, \n",
    "    YfinanceDataloader, \n",
    "    AlphaVantageDataLoader\n",
    ")\n",
    "from quantrl_lab.data.indicators.technical_indicators import *\n",
    "pd.set_option('display.max_columns', None)\n",
    "pd.set_option('display.max_rows', None)\n",
    "pd.set_option('display.width', None)"
   ]
  },
  {
   "cell_type": "markdown",
   "id": "c2fb8075",
   "metadata": {},
   "source": [
    "#### What each data source supports (as of the latest implementation)"
   ]
  },
  {
   "cell_type": "code",
   "execution_count": 2,
   "id": "1de6e940",
   "metadata": {},
   "outputs": [
    {
     "name": "stdout",
     "output_type": "stream",
     "text": [
      "Supported features for AlpacaDataLoader: ['historical_bars', 'news', 'live_data', 'streaming']\n",
      "Supported features for YfinanceDataLoader: ['historical_bars']\n",
      "Supported features for AlphaVantageDataLoader: ['historical_bars', 'news']\n"
     ]
    }
   ],
   "source": [
    "data_source_apc = AlpacaDataLoader()\n",
    "supported_features = data_source_apc.supported_features\n",
    "print(f\"Supported features for AlpacaDataLoader: {supported_features}\") \n",
    "\n",
    "data_source_yf = YfinanceDataloader()\n",
    "supported_features = data_source_yf.supported_features\n",
    "print(f\"Supported features for YfinanceDataLoader: {supported_features}\")\n",
    "\n",
    "data_source_av = AlphaVantageDataLoader()\n",
    "supported_features = data_source_av.supported_features\n",
    "print(f\"Supported features for AlphaVantageDataLoader: {supported_features}\")"
   ]
  },
  {
   "cell_type": "markdown",
   "id": "bfc090a1",
   "metadata": {},
   "source": [
    "#### The technical indicators that are supported as of now (more can be added later on)"
   ]
  },
  {
   "cell_type": "code",
   "execution_count": 3,
   "id": "65f258f6",
   "metadata": {},
   "outputs": [
    {
     "name": "stdout",
     "output_type": "stream",
     "text": [
      "Available indicators:  ['SMA', 'EMA', 'RSI', 'MACD', 'ATR', 'BB', 'STOCH', 'OBV']\n"
     ]
    }
   ],
   "source": [
    "print(f\"Available indicators:  {IndicatorRegistry.list_all()}\")"
   ]
  },
  {
   "cell_type": "code",
   "execution_count": 4,
   "id": "173d75f2",
   "metadata": {},
   "outputs": [],
   "source": [
    "data_loader = DataSourceRegistry()"
   ]
  },
  {
   "cell_type": "code",
   "execution_count": 5,
   "id": "ebafc528",
   "metadata": {},
   "outputs": [
    {
     "data": {
      "text/html": [
       "<pre style=\"white-space:pre;overflow-x:auto;line-height:normal;font-family:Menlo,'DejaVu Sans Mono',consolas,'Courier New',monospace\"><span style=\"color: #008000; text-decoration-color: #008000\">Fetching historical data for MU from </span><span style=\"color: #008000; text-decoration-color: #008000; font-weight: bold\">2023</span><span style=\"color: #008000; text-decoration-color: #008000\">-</span><span style=\"color: #008000; text-decoration-color: #008000; font-weight: bold\">01</span><span style=\"color: #008000; text-decoration-color: #008000\">-</span><span style=\"color: #008000; text-decoration-color: #008000; font-weight: bold\">01</span><span style=\"color: #008000; text-decoration-color: #008000\"> to </span><span style=\"color: #008000; text-decoration-color: #008000; font-weight: bold\">2025</span><span style=\"color: #008000; text-decoration-color: #008000\">-</span><span style=\"color: #008000; text-decoration-color: #008000; font-weight: bold\">06</span><span style=\"color: #008000; text-decoration-color: #008000\">-</span><span style=\"color: #008000; text-decoration-color: #008000; font-weight: bold\">30</span><span style=\"color: #008000; text-decoration-color: #008000\"> with timeframe 1d</span>\n",
       "</pre>\n"
      ],
      "text/plain": [
       "\u001b[32mFetching historical data for MU from \u001b[0m\u001b[1;32m2023\u001b[0m\u001b[32m-\u001b[0m\u001b[1;32m01\u001b[0m\u001b[32m-\u001b[0m\u001b[1;32m01\u001b[0m\u001b[32m to \u001b[0m\u001b[1;32m2025\u001b[0m\u001b[32m-\u001b[0m\u001b[1;32m06\u001b[0m\u001b[32m-\u001b[0m\u001b[1;32m30\u001b[0m\u001b[32m with timeframe 1d\u001b[0m\n"
      ]
     },
     "metadata": {},
     "output_type": "display_data"
    }
   ],
   "source": [
    "olhcv_df = data_loader.get_historical_ohlcv_data(\n",
    "    symbols=\"MU\",\n",
    "    start=\"2023-01-01\",\n",
    "    end=\"2025-06-30\",\n",
    "    timeframe=\"1d\",\n",
    ")"
   ]
  },
  {
   "cell_type": "code",
   "execution_count": 6,
   "id": "dbf65a59",
   "metadata": {},
   "outputs": [
    {
     "data": {
      "text/html": [
       "<div>\n",
       "<style scoped>\n",
       "    .dataframe tbody tr th:only-of-type {\n",
       "        vertical-align: middle;\n",
       "    }\n",
       "\n",
       "    .dataframe tbody tr th {\n",
       "        vertical-align: top;\n",
       "    }\n",
       "\n",
       "    .dataframe thead th {\n",
       "        text-align: right;\n",
       "    }\n",
       "</style>\n",
       "<table border=\"1\" class=\"dataframe\">\n",
       "  <thead>\n",
       "    <tr style=\"text-align: right;\">\n",
       "      <th></th>\n",
       "      <th>Symbol</th>\n",
       "      <th>Timestamp</th>\n",
       "      <th>Open</th>\n",
       "      <th>High</th>\n",
       "      <th>Low</th>\n",
       "      <th>Close</th>\n",
       "      <th>Volume</th>\n",
       "      <th>Trade_count</th>\n",
       "      <th>VWAP</th>\n",
       "      <th>Date</th>\n",
       "    </tr>\n",
       "  </thead>\n",
       "  <tbody>\n",
       "    <tr>\n",
       "      <th>0</th>\n",
       "      <td>MU</td>\n",
       "      <td>2023-01-03 05:00:00+00:00</td>\n",
       "      <td>50.56</td>\n",
       "      <td>50.960</td>\n",
       "      <td>49.55</td>\n",
       "      <td>50.37</td>\n",
       "      <td>14357184.0</td>\n",
       "      <td>126221.0</td>\n",
       "      <td>50.323799</td>\n",
       "      <td>2023-01-03</td>\n",
       "    </tr>\n",
       "    <tr>\n",
       "      <th>1</th>\n",
       "      <td>MU</td>\n",
       "      <td>2023-01-04 05:00:00+00:00</td>\n",
       "      <td>53.05</td>\n",
       "      <td>54.520</td>\n",
       "      <td>52.73</td>\n",
       "      <td>54.20</td>\n",
       "      <td>27565757.0</td>\n",
       "      <td>208706.0</td>\n",
       "      <td>53.718035</td>\n",
       "      <td>2023-01-04</td>\n",
       "    </tr>\n",
       "    <tr>\n",
       "      <th>2</th>\n",
       "      <td>MU</td>\n",
       "      <td>2023-01-05 05:00:00+00:00</td>\n",
       "      <td>53.89</td>\n",
       "      <td>55.390</td>\n",
       "      <td>53.89</td>\n",
       "      <td>54.71</td>\n",
       "      <td>21227741.0</td>\n",
       "      <td>153295.0</td>\n",
       "      <td>54.692799</td>\n",
       "      <td>2023-01-05</td>\n",
       "    </tr>\n",
       "    <tr>\n",
       "      <th>3</th>\n",
       "      <td>MU</td>\n",
       "      <td>2023-01-06 05:00:00+00:00</td>\n",
       "      <td>55.43</td>\n",
       "      <td>57.290</td>\n",
       "      <td>54.03</td>\n",
       "      <td>56.77</td>\n",
       "      <td>23910501.0</td>\n",
       "      <td>173995.0</td>\n",
       "      <td>56.297094</td>\n",
       "      <td>2023-01-06</td>\n",
       "    </tr>\n",
       "    <tr>\n",
       "      <th>4</th>\n",
       "      <td>MU</td>\n",
       "      <td>2023-01-09 05:00:00+00:00</td>\n",
       "      <td>56.82</td>\n",
       "      <td>57.515</td>\n",
       "      <td>55.65</td>\n",
       "      <td>56.36</td>\n",
       "      <td>17380586.0</td>\n",
       "      <td>166496.0</td>\n",
       "      <td>56.625176</td>\n",
       "      <td>2023-01-09</td>\n",
       "    </tr>\n",
       "  </tbody>\n",
       "</table>\n",
       "</div>"
      ],
      "text/plain": [
       "  Symbol                 Timestamp   Open    High    Low  Close      Volume  \\\n",
       "0     MU 2023-01-03 05:00:00+00:00  50.56  50.960  49.55  50.37  14357184.0   \n",
       "1     MU 2023-01-04 05:00:00+00:00  53.05  54.520  52.73  54.20  27565757.0   \n",
       "2     MU 2023-01-05 05:00:00+00:00  53.89  55.390  53.89  54.71  21227741.0   \n",
       "3     MU 2023-01-06 05:00:00+00:00  55.43  57.290  54.03  56.77  23910501.0   \n",
       "4     MU 2023-01-09 05:00:00+00:00  56.82  57.515  55.65  56.36  17380586.0   \n",
       "\n",
       "   Trade_count       VWAP        Date  \n",
       "0     126221.0  50.323799  2023-01-03  \n",
       "1     208706.0  53.718035  2023-01-04  \n",
       "2     153295.0  54.692799  2023-01-05  \n",
       "3     173995.0  56.297094  2023-01-06  \n",
       "4     166496.0  56.625176  2023-01-09  "
      ]
     },
     "execution_count": 6,
     "metadata": {},
     "output_type": "execute_result"
    }
   ],
   "source": [
    "olhcv_df.head()"
   ]
  },
  {
   "cell_type": "code",
   "execution_count": 7,
   "id": "7d3648d6",
   "metadata": {},
   "outputs": [
    {
     "data": {
      "application/vnd.jupyter.widget-view+json": {
       "model_id": "478219b507404ec0ad3e7e97680b89c4",
       "version_major": 2,
       "version_minor": 0
      },
      "text/plain": [
       "Output()"
      ]
     },
     "metadata": {},
     "output_type": "display_data"
    },
    {
     "data": {
      "text/html": [
       "<pre style=\"white-space:pre;overflow-x:auto;line-height:normal;font-family:Menlo,'DejaVu Sans Mono',consolas,'Courier New',monospace\"></pre>\n"
      ],
      "text/plain": []
     },
     "metadata": {},
     "output_type": "display_data"
    },
    {
     "data": {
      "text/html": [
       "<pre style=\"white-space:pre;overflow-x:auto;line-height:normal;font-family:Menlo,'DejaVu Sans Mono',consolas,'Courier New',monospace\"><span style=\"color: #008000; text-decoration-color: #008000\">✓ Total news items fetched: </span><span style=\"color: #008000; text-decoration-color: #008000; font-weight: bold\">1648</span>\n",
       "</pre>\n"
      ],
      "text/plain": [
       "\u001b[32m✓ Total news items fetched: \u001b[0m\u001b[1;32m1648\u001b[0m\n"
      ]
     },
     "metadata": {},
     "output_type": "display_data"
    }
   ],
   "source": [
    "news_df = data_loader.get_news_data(\n",
    "    \"MU\",\n",
    "    start=\"2023-01-01\",\n",
    "    end=\"2025-06-30\",\n",
    ")"
   ]
  },
  {
   "cell_type": "code",
   "execution_count": 8,
   "id": "17ff781c",
   "metadata": {},
   "outputs": [
    {
     "data": {
      "text/html": [
       "<pre style=\"white-space:pre;overflow-x:auto;line-height:normal;font-family:Menlo,'DejaVu Sans Mono',consolas,'Courier New',monospace\"><span style=\"color: #008080; text-decoration-color: #008080\">Applying SMA with params: </span><span style=\"color: #008080; text-decoration-color: #008080; font-weight: bold\">{</span><span style=\"color: #008080; text-decoration-color: #008080\">'window'</span><span style=\"color: #008080; text-decoration-color: #008080\">: </span><span style=\"color: #008080; text-decoration-color: #008080; font-weight: bold\">20</span><span style=\"color: #008080; text-decoration-color: #008080; font-weight: bold\">}</span>\n",
       "</pre>\n"
      ],
      "text/plain": [
       "\u001b[36mApplying SMA with params: \u001b[0m\u001b[1;36m{\u001b[0m\u001b[36m'window'\u001b[0m\u001b[36m: \u001b[0m\u001b[1;36m20\u001b[0m\u001b[1;36m}\u001b[0m\n"
      ]
     },
     "metadata": {},
     "output_type": "display_data"
    },
    {
     "data": {
      "text/html": [
       "<pre style=\"white-space:pre;overflow-x:auto;line-height:normal;font-family:Menlo,'DejaVu Sans Mono',consolas,'Courier New',monospace\"><span style=\"color: #008080; text-decoration-color: #008080\">Applying EMA with params: </span><span style=\"color: #008080; text-decoration-color: #008080; font-weight: bold\">{</span><span style=\"color: #008080; text-decoration-color: #008080\">'window'</span><span style=\"color: #008080; text-decoration-color: #008080\">: </span><span style=\"color: #008080; text-decoration-color: #008080; font-weight: bold\">9</span><span style=\"color: #008080; text-decoration-color: #008080; font-weight: bold\">}</span>\n",
       "</pre>\n"
      ],
      "text/plain": [
       "\u001b[36mApplying EMA with params: \u001b[0m\u001b[1;36m{\u001b[0m\u001b[36m'window'\u001b[0m\u001b[36m: \u001b[0m\u001b[1;36m9\u001b[0m\u001b[1;36m}\u001b[0m\n"
      ]
     },
     "metadata": {},
     "output_type": "display_data"
    },
    {
     "data": {
      "text/html": [
       "<pre style=\"white-space:pre;overflow-x:auto;line-height:normal;font-family:Menlo,'DejaVu Sans Mono',consolas,'Courier New',monospace\"><span style=\"color: #008080; text-decoration-color: #008080\">Applying RSI with params: </span><span style=\"color: #008080; text-decoration-color: #008080; font-weight: bold\">{</span><span style=\"color: #008080; text-decoration-color: #008080\">'window'</span><span style=\"color: #008080; text-decoration-color: #008080\">: </span><span style=\"color: #008080; text-decoration-color: #008080; font-weight: bold\">7</span><span style=\"color: #008080; text-decoration-color: #008080; font-weight: bold\">}</span>\n",
       "</pre>\n"
      ],
      "text/plain": [
       "\u001b[36mApplying RSI with params: \u001b[0m\u001b[1;36m{\u001b[0m\u001b[36m'window'\u001b[0m\u001b[36m: \u001b[0m\u001b[1;36m7\u001b[0m\u001b[1;36m}\u001b[0m\n"
      ]
     },
     "metadata": {},
     "output_type": "display_data"
    },
    {
     "data": {
      "text/html": [
       "<pre style=\"white-space:pre;overflow-x:auto;line-height:normal;font-family:Menlo,'DejaVu Sans Mono',consolas,'Courier New',monospace\"><span style=\"color: #008080; text-decoration-color: #008080\">Applying MACD with params: </span><span style=\"color: #008080; text-decoration-color: #008080; font-weight: bold\">{</span><span style=\"color: #008080; text-decoration-color: #008080\">'fast'</span><span style=\"color: #008080; text-decoration-color: #008080\">: </span><span style=\"color: #008080; text-decoration-color: #008080; font-weight: bold\">12</span><span style=\"color: #008080; text-decoration-color: #008080\">, </span><span style=\"color: #008080; text-decoration-color: #008080\">'slow'</span><span style=\"color: #008080; text-decoration-color: #008080\">: </span><span style=\"color: #008080; text-decoration-color: #008080; font-weight: bold\">26</span><span style=\"color: #008080; text-decoration-color: #008080\">, </span><span style=\"color: #008080; text-decoration-color: #008080\">'signal'</span><span style=\"color: #008080; text-decoration-color: #008080\">: </span><span style=\"color: #008080; text-decoration-color: #008080; font-weight: bold\">9</span><span style=\"color: #008080; text-decoration-color: #008080; font-weight: bold\">}</span>\n",
       "</pre>\n"
      ],
      "text/plain": [
       "\u001b[36mApplying MACD with params: \u001b[0m\u001b[1;36m{\u001b[0m\u001b[36m'fast'\u001b[0m\u001b[36m: \u001b[0m\u001b[1;36m12\u001b[0m\u001b[36m, \u001b[0m\u001b[36m'slow'\u001b[0m\u001b[36m: \u001b[0m\u001b[1;36m26\u001b[0m\u001b[36m, \u001b[0m\u001b[36m'signal'\u001b[0m\u001b[36m: \u001b[0m\u001b[1;36m9\u001b[0m\u001b[1;36m}\u001b[0m\n"
      ]
     },
     "metadata": {},
     "output_type": "display_data"
    },
    {
     "data": {
      "text/html": [
       "<pre style=\"white-space:pre;overflow-x:auto;line-height:normal;font-family:Menlo,'DejaVu Sans Mono',consolas,'Courier New',monospace\"><span style=\"color: #008080; text-decoration-color: #008080\">Applying ATR with params: </span><span style=\"color: #008080; text-decoration-color: #008080; font-weight: bold\">{</span><span style=\"color: #008080; text-decoration-color: #008080\">'window'</span><span style=\"color: #008080; text-decoration-color: #008080\">: </span><span style=\"color: #008080; text-decoration-color: #008080; font-weight: bold\">14</span><span style=\"color: #008080; text-decoration-color: #008080; font-weight: bold\">}</span>\n",
       "</pre>\n"
      ],
      "text/plain": [
       "\u001b[36mApplying ATR with params: \u001b[0m\u001b[1;36m{\u001b[0m\u001b[36m'window'\u001b[0m\u001b[36m: \u001b[0m\u001b[1;36m14\u001b[0m\u001b[1;36m}\u001b[0m\n"
      ]
     },
     "metadata": {},
     "output_type": "display_data"
    },
    {
     "data": {
      "text/html": [
       "<pre style=\"white-space:pre;overflow-x:auto;line-height:normal;font-family:Menlo,'DejaVu Sans Mono',consolas,'Courier New',monospace\"><span style=\"color: #008080; text-decoration-color: #008080\">Applying BB with params: </span><span style=\"color: #008080; text-decoration-color: #008080; font-weight: bold\">{</span><span style=\"color: #008080; text-decoration-color: #008080\">'window'</span><span style=\"color: #008080; text-decoration-color: #008080\">: </span><span style=\"color: #008080; text-decoration-color: #008080; font-weight: bold\">20</span><span style=\"color: #008080; text-decoration-color: #008080\">, </span><span style=\"color: #008080; text-decoration-color: #008080\">'num_std'</span><span style=\"color: #008080; text-decoration-color: #008080\">: </span><span style=\"color: #008080; text-decoration-color: #008080; font-weight: bold\">2</span><span style=\"color: #008080; text-decoration-color: #008080; font-weight: bold\">}</span>\n",
       "</pre>\n"
      ],
      "text/plain": [
       "\u001b[36mApplying BB with params: \u001b[0m\u001b[1;36m{\u001b[0m\u001b[36m'window'\u001b[0m\u001b[36m: \u001b[0m\u001b[1;36m20\u001b[0m\u001b[36m, \u001b[0m\u001b[36m'num_std'\u001b[0m\u001b[36m: \u001b[0m\u001b[1;36m2\u001b[0m\u001b[1;36m}\u001b[0m\n"
      ]
     },
     "metadata": {},
     "output_type": "display_data"
    },
    {
     "data": {
      "text/html": [
       "<pre style=\"white-space:pre;overflow-x:auto;line-height:normal;font-family:Menlo,'DejaVu Sans Mono',consolas,'Courier New',monospace\"><span style=\"color: #008080; text-decoration-color: #008080\">Applying STOCH with params: </span><span style=\"color: #008080; text-decoration-color: #008080; font-weight: bold\">{</span><span style=\"color: #008080; text-decoration-color: #008080\">'k_window'</span><span style=\"color: #008080; text-decoration-color: #008080\">: </span><span style=\"color: #008080; text-decoration-color: #008080; font-weight: bold\">14</span><span style=\"color: #008080; text-decoration-color: #008080\">, </span><span style=\"color: #008080; text-decoration-color: #008080\">'d_window'</span><span style=\"color: #008080; text-decoration-color: #008080\">: </span><span style=\"color: #008080; text-decoration-color: #008080; font-weight: bold\">3</span><span style=\"color: #008080; text-decoration-color: #008080\">, </span><span style=\"color: #008080; text-decoration-color: #008080\">'smooth_k'</span><span style=\"color: #008080; text-decoration-color: #008080\">: </span><span style=\"color: #008080; text-decoration-color: #008080; font-weight: bold\">1</span><span style=\"color: #008080; text-decoration-color: #008080; font-weight: bold\">}</span>\n",
       "</pre>\n"
      ],
      "text/plain": [
       "\u001b[36mApplying STOCH with params: \u001b[0m\u001b[1;36m{\u001b[0m\u001b[36m'k_window'\u001b[0m\u001b[36m: \u001b[0m\u001b[1;36m14\u001b[0m\u001b[36m, \u001b[0m\u001b[36m'd_window'\u001b[0m\u001b[36m: \u001b[0m\u001b[1;36m3\u001b[0m\u001b[36m, \u001b[0m\u001b[36m'smooth_k'\u001b[0m\u001b[36m: \u001b[0m\u001b[1;36m1\u001b[0m\u001b[1;36m}\u001b[0m\n"
      ]
     },
     "metadata": {},
     "output_type": "display_data"
    },
    {
     "data": {
      "text/html": [
       "<pre style=\"white-space:pre;overflow-x:auto;line-height:normal;font-family:Menlo,'DejaVu Sans Mono',consolas,'Courier New',monospace\"><span style=\"color: #008080; text-decoration-color: #008080\">Applying OBV with params: </span><span style=\"color: #008080; text-decoration-color: #008080; font-weight: bold\">{}</span>\n",
       "</pre>\n"
      ],
      "text/plain": [
       "\u001b[36mApplying OBV with params: \u001b[0m\u001b[1;36m{\u001b[0m\u001b[1;36m}\u001b[0m\n"
      ]
     },
     "metadata": {},
     "output_type": "display_data"
    },
    {
     "name": "stderr",
     "output_type": "stream",
     "text": [
      "Device set to use cpu\n"
     ]
    },
    {
     "data": {
      "text/html": [
       "<pre style=\"white-space:pre;overflow-x:auto;line-height:normal;font-family:Menlo,'DejaVu Sans Mono',consolas,'Courier New',monospace\"><span style=\"color: #008000; text-decoration-color: #008000\">✓ Sentiment analysis pipeline initialized with model: ProsusAI/finbert</span>\n",
       "</pre>\n"
      ],
      "text/plain": [
       "\u001b[32m✓ Sentiment analysis pipeline initialized with model: ProsusAI/finbert\u001b[0m\n"
      ]
     },
     "metadata": {},
     "output_type": "display_data"
    }
   ],
   "source": [
    "data_processor = DataProcessor(olhcv_data=olhcv_df, news_data=news_df)\n",
    "\n",
    "# configuring the technical indicators with specific parameters\n",
    "processed_data = data_processor.data_processing_pipeline(\n",
    "    indicators=[\"SMA\", \"EMA\", \"RSI\", \"MACD\", \"ATR\", \"BB\", \"STOCH\", \"OBV\"],\n",
    "    # The following are optional, you could do\n",
    "    # data_processor.append_technical_indicators(olhcv_df, indicators=[\"SMA\", \"EMA\"])\n",
    "    # and the default parameters will be used.\n",
    "    \n",
    "    # fillna_strategy=\"neutral\",\n",
    "    SMA_params={\n",
    "        \"window\": 20,\n",
    "    },\n",
    "    EMA_params={\"window\": 9},\n",
    "    RSI_params={\"window\": 7},\n",
    "    MACD_params={\"fast\": 12, \"slow\": 26, \"signal\": 9},\n",
    "    ATR_params={\"window\": 14},\n",
    "    BB_params={\"window\": 20, \"num_std\": 2},\n",
    "    STOCH_params={\"k_window\": 14, \"d_window\": 3, \"smooth_k\": 1},\n",
    "    OBV_params={},\n",
    ")"
   ]
  },
  {
   "cell_type": "code",
   "execution_count": 9,
   "id": "03a00671",
   "metadata": {},
   "outputs": [
    {
     "data": {
      "text/html": [
       "<div>\n",
       "<style scoped>\n",
       "    .dataframe tbody tr th:only-of-type {\n",
       "        vertical-align: middle;\n",
       "    }\n",
       "\n",
       "    .dataframe tbody tr th {\n",
       "        vertical-align: top;\n",
       "    }\n",
       "\n",
       "    .dataframe thead th {\n",
       "        text-align: right;\n",
       "    }\n",
       "</style>\n",
       "<table border=\"1\" class=\"dataframe\">\n",
       "  <thead>\n",
       "    <tr style=\"text-align: right;\">\n",
       "      <th></th>\n",
       "      <th>Open</th>\n",
       "      <th>High</th>\n",
       "      <th>Low</th>\n",
       "      <th>Close</th>\n",
       "      <th>Volume</th>\n",
       "      <th>Trade_count</th>\n",
       "      <th>VWAP</th>\n",
       "      <th>SMA_20</th>\n",
       "      <th>EMA_9</th>\n",
       "      <th>RSI_7</th>\n",
       "      <th>MACD_line_12_26</th>\n",
       "      <th>MACD_signal_9</th>\n",
       "      <th>MACD_histogram</th>\n",
       "      <th>ATR_14</th>\n",
       "      <th>BB_middle_20</th>\n",
       "      <th>BB_upper_20_2</th>\n",
       "      <th>BB_lower_20_2</th>\n",
       "      <th>BB_bandwidth_20</th>\n",
       "      <th>STOCH_%K_14</th>\n",
       "      <th>STOCH_%D_3</th>\n",
       "      <th>OBV</th>\n",
       "      <th>sentiment_score</th>\n",
       "    </tr>\n",
       "  </thead>\n",
       "  <tbody>\n",
       "    <tr>\n",
       "      <th>0</th>\n",
       "      <td>59.10</td>\n",
       "      <td>60.34</td>\n",
       "      <td>58.6500</td>\n",
       "      <td>60.30</td>\n",
       "      <td>27000145.0</td>\n",
       "      <td>199847.0</td>\n",
       "      <td>59.869803</td>\n",
       "      <td>58.1680</td>\n",
       "      <td>60.708337</td>\n",
       "      <td>56.319683</td>\n",
       "      <td>2.619337</td>\n",
       "      <td>2.408994</td>\n",
       "      <td>0.210343</td>\n",
       "      <td>2.099526</td>\n",
       "      <td>58.1680</td>\n",
       "      <td>64.819805</td>\n",
       "      <td>51.516195</td>\n",
       "      <td>0.228710</td>\n",
       "      <td>55.408389</td>\n",
       "      <td>73.730684</td>\n",
       "      <td>53231005.0</td>\n",
       "      <td>0.966646</td>\n",
       "    </tr>\n",
       "    <tr>\n",
       "      <th>1</th>\n",
       "      <td>60.62</td>\n",
       "      <td>63.23</td>\n",
       "      <td>60.3850</td>\n",
       "      <td>62.60</td>\n",
       "      <td>24275883.0</td>\n",
       "      <td>186598.0</td>\n",
       "      <td>61.915838</td>\n",
       "      <td>58.7795</td>\n",
       "      <td>61.086669</td>\n",
       "      <td>66.379157</td>\n",
       "      <td>2.628630</td>\n",
       "      <td>2.452922</td>\n",
       "      <td>0.175708</td>\n",
       "      <td>2.158846</td>\n",
       "      <td>58.7795</td>\n",
       "      <td>64.610923</td>\n",
       "      <td>52.948077</td>\n",
       "      <td>0.198417</td>\n",
       "      <td>80.794702</td>\n",
       "      <td>69.058131</td>\n",
       "      <td>77506888.0</td>\n",
       "      <td>0.914797</td>\n",
       "    </tr>\n",
       "    <tr>\n",
       "      <th>2</th>\n",
       "      <td>63.56</td>\n",
       "      <td>63.92</td>\n",
       "      <td>61.8600</td>\n",
       "      <td>63.17</td>\n",
       "      <td>16087925.0</td>\n",
       "      <td>160979.0</td>\n",
       "      <td>62.950759</td>\n",
       "      <td>59.2280</td>\n",
       "      <td>61.503335</td>\n",
       "      <td>68.478078</td>\n",
       "      <td>2.651424</td>\n",
       "      <td>2.492622</td>\n",
       "      <td>0.158802</td>\n",
       "      <td>2.151785</td>\n",
       "      <td>59.2280</td>\n",
       "      <td>64.955270</td>\n",
       "      <td>53.500730</td>\n",
       "      <td>0.193397</td>\n",
       "      <td>87.086093</td>\n",
       "      <td>74.429728</td>\n",
       "      <td>93594813.0</td>\n",
       "      <td>0.000000</td>\n",
       "    </tr>\n",
       "    <tr>\n",
       "      <th>3</th>\n",
       "      <td>62.00</td>\n",
       "      <td>63.79</td>\n",
       "      <td>61.9000</td>\n",
       "      <td>62.41</td>\n",
       "      <td>14142431.0</td>\n",
       "      <td>110665.0</td>\n",
       "      <td>62.757956</td>\n",
       "      <td>59.6130</td>\n",
       "      <td>61.684668</td>\n",
       "      <td>62.416669</td>\n",
       "      <td>2.578441</td>\n",
       "      <td>2.509786</td>\n",
       "      <td>0.068655</td>\n",
       "      <td>2.133086</td>\n",
       "      <td>59.6130</td>\n",
       "      <td>65.091302</td>\n",
       "      <td>54.134698</td>\n",
       "      <td>0.183796</td>\n",
       "      <td>78.697572</td>\n",
       "      <td>82.192789</td>\n",
       "      <td>79452382.0</td>\n",
       "      <td>0.000000</td>\n",
       "    </tr>\n",
       "    <tr>\n",
       "      <th>4</th>\n",
       "      <td>60.94</td>\n",
       "      <td>61.18</td>\n",
       "      <td>59.7401</td>\n",
       "      <td>59.98</td>\n",
       "      <td>13316275.0</td>\n",
       "      <td>111271.0</td>\n",
       "      <td>60.216354</td>\n",
       "      <td>59.7735</td>\n",
       "      <td>61.343735</td>\n",
       "      <td>46.923190</td>\n",
       "      <td>2.298030</td>\n",
       "      <td>2.467435</td>\n",
       "      <td>-0.169404</td>\n",
       "      <td>2.171430</td>\n",
       "      <td>59.7735</td>\n",
       "      <td>65.086698</td>\n",
       "      <td>54.460302</td>\n",
       "      <td>0.177778</td>\n",
       "      <td>51.876380</td>\n",
       "      <td>72.553348</td>\n",
       "      <td>66136107.0</td>\n",
       "      <td>0.000000</td>\n",
       "    </tr>\n",
       "  </tbody>\n",
       "</table>\n",
       "</div>"
      ],
      "text/plain": [
       "    Open   High      Low  Close      Volume  Trade_count       VWAP   SMA_20  \\\n",
       "0  59.10  60.34  58.6500  60.30  27000145.0     199847.0  59.869803  58.1680   \n",
       "1  60.62  63.23  60.3850  62.60  24275883.0     186598.0  61.915838  58.7795   \n",
       "2  63.56  63.92  61.8600  63.17  16087925.0     160979.0  62.950759  59.2280   \n",
       "3  62.00  63.79  61.9000  62.41  14142431.0     110665.0  62.757956  59.6130   \n",
       "4  60.94  61.18  59.7401  59.98  13316275.0     111271.0  60.216354  59.7735   \n",
       "\n",
       "       EMA_9      RSI_7  MACD_line_12_26  MACD_signal_9  MACD_histogram  \\\n",
       "0  60.708337  56.319683         2.619337       2.408994        0.210343   \n",
       "1  61.086669  66.379157         2.628630       2.452922        0.175708   \n",
       "2  61.503335  68.478078         2.651424       2.492622        0.158802   \n",
       "3  61.684668  62.416669         2.578441       2.509786        0.068655   \n",
       "4  61.343735  46.923190         2.298030       2.467435       -0.169404   \n",
       "\n",
       "     ATR_14  BB_middle_20  BB_upper_20_2  BB_lower_20_2  BB_bandwidth_20  \\\n",
       "0  2.099526       58.1680      64.819805      51.516195         0.228710   \n",
       "1  2.158846       58.7795      64.610923      52.948077         0.198417   \n",
       "2  2.151785       59.2280      64.955270      53.500730         0.193397   \n",
       "3  2.133086       59.6130      65.091302      54.134698         0.183796   \n",
       "4  2.171430       59.7735      65.086698      54.460302         0.177778   \n",
       "\n",
       "   STOCH_%K_14  STOCH_%D_3         OBV  sentiment_score  \n",
       "0    55.408389   73.730684  53231005.0         0.966646  \n",
       "1    80.794702   69.058131  77506888.0         0.914797  \n",
       "2    87.086093   74.429728  93594813.0         0.000000  \n",
       "3    78.697572   82.192789  79452382.0         0.000000  \n",
       "4    51.876380   72.553348  66136107.0         0.000000  "
      ]
     },
     "execution_count": 9,
     "metadata": {},
     "output_type": "execute_result"
    }
   ],
   "source": [
    "processed_data.head()"
   ]
  }
 ],
 "metadata": {
  "kernelspec": {
   "display_name": "quantrl-lab-iz6bnoqa-py3.10",
   "language": "python",
   "name": "python3"
  },
  "language_info": {
   "codemirror_mode": {
    "name": "ipython",
    "version": 3
   },
   "file_extension": ".py",
   "mimetype": "text/x-python",
   "name": "python",
   "nbconvert_exporter": "python",
   "pygments_lexer": "ipython3",
   "version": "3.10.4"
  }
 },
 "nbformat": 4,
 "nbformat_minor": 5
}
