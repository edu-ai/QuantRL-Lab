{
 "cells": [
  {
   "cell_type": "markdown",
   "id": "98c917a7",
   "metadata": {},
   "source": [
    "# Tutorial on running backtesting"
   ]
  },
  {
   "cell_type": "code",
   "execution_count": 1,
   "id": "7252b96a",
   "metadata": {},
   "outputs": [],
   "source": [
    "import mlflow\n",
    "import torch\n",
    "import torch.nn as nn\n",
    "import pandas as pd\n",
    "import numpy as np\n",
    "from quantrl_lab.data import (\n",
    "    DataSourceRegistry,\n",
    "    DataProcessor,\n",
    "    IndicatorRegistry,\n",
    ")\n",
    "from quantrl_lab.data.indicators.technical_indicators import *\n",
    "from quantrl_lab.backtesting.runner import BacktestRunner\n",
    "from quantrl_lab.custom_envs.stock import SingleStockTradingEnv, SingleStockEnvConfig\n",
    "from quantrl_lab.custom_envs.stock.strategies.actions.types import StandardMarketActionStrategy\n",
    "from quantrl_lab.custom_envs.stock.strategies.rewards import (\n",
    "    PortfolioValueChangeReward,\n",
    "    InvalidActionPenalty,\n",
    "    TrendFollowingReward,\n",
    "    HoldPenalty,\n",
    "    PositionSizingRiskReward,\n",
    "    WeightedCompositeReward\n",
    ")\n",
    "from quantrl_lab.custom_envs.stock.strategies.observations import PortfolioWithTrendObservation\n",
    "from quantrl_lab.tuning.mlflow_runner import (\n",
    "    MLflowOptunaRunner, \n",
    "    create_sac_search_space, \n",
    "    create_ppo_search_space, \n",
    "    create_a2c_search_space\n",
    ")\n",
    "from stable_baselines3 import PPO, A2C, SAC\n",
    "\n",
    "pd.set_option('display.max_columns', None)\n",
    "pd.set_option('display.max_rows', None)\n",
    "pd.set_option('display.width', None)\n"
   ]
  },
  {
   "cell_type": "markdown",
   "id": "9a4bcdfd",
   "metadata": {},
   "source": [
    "# Using DataSourceRegistry as the loader to extract different sources of data\n",
    "\n",
    "Currently supports OLHCV data an Sentiment data from Alpaca primarily, \n",
    "working on integrating Alpha Vantage's data (format standardization required)."
   ]
  },
  {
   "cell_type": "code",
   "execution_count": 2,
   "id": "f484174d",
   "metadata": {},
   "outputs": [],
   "source": [
    "data_loader = DataSourceRegistry()"
   ]
  },
  {
   "cell_type": "code",
   "execution_count": 3,
   "id": "1178cbd2",
   "metadata": {},
   "outputs": [
    {
     "data": {
      "text/html": [
       "<pre style=\"white-space:pre;overflow-x:auto;line-height:normal;font-family:Menlo,'DejaVu Sans Mono',consolas,'Courier New',monospace\"><span style=\"color: #008000; text-decoration-color: #008000\">Fetching historical data for MU from </span><span style=\"color: #008000; text-decoration-color: #008000; font-weight: bold\">2022</span><span style=\"color: #008000; text-decoration-color: #008000\">-</span><span style=\"color: #008000; text-decoration-color: #008000; font-weight: bold\">01</span><span style=\"color: #008000; text-decoration-color: #008000\">-</span><span style=\"color: #008000; text-decoration-color: #008000; font-weight: bold\">01</span><span style=\"color: #008000; text-decoration-color: #008000\"> to </span><span style=\"color: #008000; text-decoration-color: #008000; font-weight: bold\">2025</span><span style=\"color: #008000; text-decoration-color: #008000\">-</span><span style=\"color: #008000; text-decoration-color: #008000; font-weight: bold\">07</span><span style=\"color: #008000; text-decoration-color: #008000\">-</span><span style=\"color: #008000; text-decoration-color: #008000; font-weight: bold\">31</span><span style=\"color: #008000; text-decoration-color: #008000\"> with timeframe 1d</span>\n",
       "</pre>\n"
      ],
      "text/plain": [
       "\u001b[32mFetching historical data for MU from \u001b[0m\u001b[1;32m2022\u001b[0m\u001b[32m-\u001b[0m\u001b[1;32m01\u001b[0m\u001b[32m-\u001b[0m\u001b[1;32m01\u001b[0m\u001b[32m to \u001b[0m\u001b[1;32m2025\u001b[0m\u001b[32m-\u001b[0m\u001b[1;32m07\u001b[0m\u001b[32m-\u001b[0m\u001b[1;32m31\u001b[0m\u001b[32m with timeframe 1d\u001b[0m\n"
      ]
     },
     "metadata": {},
     "output_type": "display_data"
    }
   ],
   "source": [
    "olhcv_df = data_loader.get_historical_ohlcv_data(\n",
    "    symbols=\"MU\",\n",
    "    start=\"2022-01-01\",\n",
    "    end=\"2025-07-31\",\n",
    "    timeframe=\"1d\", # can be adjusted based on the data granularity needed\n",
    ")"
   ]
  },
  {
   "cell_type": "code",
   "execution_count": 4,
   "id": "a9084dd5",
   "metadata": {},
   "outputs": [
    {
     "data": {
      "text/html": [
       "<div>\n",
       "<style scoped>\n",
       "    .dataframe tbody tr th:only-of-type {\n",
       "        vertical-align: middle;\n",
       "    }\n",
       "\n",
       "    .dataframe tbody tr th {\n",
       "        vertical-align: top;\n",
       "    }\n",
       "\n",
       "    .dataframe thead th {\n",
       "        text-align: right;\n",
       "    }\n",
       "</style>\n",
       "<table border=\"1\" class=\"dataframe\">\n",
       "  <thead>\n",
       "    <tr style=\"text-align: right;\">\n",
       "      <th></th>\n",
       "      <th>Symbol</th>\n",
       "      <th>Timestamp</th>\n",
       "      <th>Open</th>\n",
       "      <th>High</th>\n",
       "      <th>Low</th>\n",
       "      <th>Close</th>\n",
       "      <th>Volume</th>\n",
       "      <th>Trade_count</th>\n",
       "      <th>VWAP</th>\n",
       "      <th>Date</th>\n",
       "    </tr>\n",
       "  </thead>\n",
       "  <tbody>\n",
       "    <tr>\n",
       "      <th>0</th>\n",
       "      <td>MU</td>\n",
       "      <td>2022-01-03 05:00:00+00:00</td>\n",
       "      <td>93.9050</td>\n",
       "      <td>95.835</td>\n",
       "      <td>93.48</td>\n",
       "      <td>95.75</td>\n",
       "      <td>19907641.0</td>\n",
       "      <td>163032.0</td>\n",
       "      <td>95.028965</td>\n",
       "      <td>2022-01-03</td>\n",
       "    </tr>\n",
       "    <tr>\n",
       "      <th>1</th>\n",
       "      <td>MU</td>\n",
       "      <td>2022-01-04 05:00:00+00:00</td>\n",
       "      <td>95.6000</td>\n",
       "      <td>96.590</td>\n",
       "      <td>93.54</td>\n",
       "      <td>96.34</td>\n",
       "      <td>20892833.0</td>\n",
       "      <td>192840.0</td>\n",
       "      <td>95.386837</td>\n",
       "      <td>2022-01-04</td>\n",
       "    </tr>\n",
       "    <tr>\n",
       "      <th>2</th>\n",
       "      <td>MU</td>\n",
       "      <td>2022-01-05 05:00:00+00:00</td>\n",
       "      <td>95.3800</td>\n",
       "      <td>98.450</td>\n",
       "      <td>94.35</td>\n",
       "      <td>94.40</td>\n",
       "      <td>28880722.0</td>\n",
       "      <td>252641.0</td>\n",
       "      <td>96.712594</td>\n",
       "      <td>2022-01-05</td>\n",
       "    </tr>\n",
       "    <tr>\n",
       "      <th>3</th>\n",
       "      <td>MU</td>\n",
       "      <td>2022-01-06 05:00:00+00:00</td>\n",
       "      <td>95.1046</td>\n",
       "      <td>96.710</td>\n",
       "      <td>94.12</td>\n",
       "      <td>95.65</td>\n",
       "      <td>23737246.0</td>\n",
       "      <td>215101.0</td>\n",
       "      <td>95.715463</td>\n",
       "      <td>2022-01-06</td>\n",
       "    </tr>\n",
       "    <tr>\n",
       "      <th>4</th>\n",
       "      <td>MU</td>\n",
       "      <td>2022-01-07 05:00:00+00:00</td>\n",
       "      <td>96.0900</td>\n",
       "      <td>97.190</td>\n",
       "      <td>93.94</td>\n",
       "      <td>94.45</td>\n",
       "      <td>16618859.0</td>\n",
       "      <td>153941.0</td>\n",
       "      <td>95.030314</td>\n",
       "      <td>2022-01-07</td>\n",
       "    </tr>\n",
       "  </tbody>\n",
       "</table>\n",
       "</div>"
      ],
      "text/plain": [
       "  Symbol                 Timestamp     Open    High    Low  Close      Volume  \\\n",
       "0     MU 2022-01-03 05:00:00+00:00  93.9050  95.835  93.48  95.75  19907641.0   \n",
       "1     MU 2022-01-04 05:00:00+00:00  95.6000  96.590  93.54  96.34  20892833.0   \n",
       "2     MU 2022-01-05 05:00:00+00:00  95.3800  98.450  94.35  94.40  28880722.0   \n",
       "3     MU 2022-01-06 05:00:00+00:00  95.1046  96.710  94.12  95.65  23737246.0   \n",
       "4     MU 2022-01-07 05:00:00+00:00  96.0900  97.190  93.94  94.45  16618859.0   \n",
       "\n",
       "   Trade_count       VWAP        Date  \n",
       "0     163032.0  95.028965  2022-01-03  \n",
       "1     192840.0  95.386837  2022-01-04  \n",
       "2     252641.0  96.712594  2022-01-05  \n",
       "3     215101.0  95.715463  2022-01-06  \n",
       "4     153941.0  95.030314  2022-01-07  "
      ]
     },
     "execution_count": 4,
     "metadata": {},
     "output_type": "execute_result"
    }
   ],
   "source": [
    "olhcv_df.head()"
   ]
  },
  {
   "cell_type": "code",
   "execution_count": 5,
   "id": "19587baf",
   "metadata": {},
   "outputs": [
    {
     "data": {
      "application/vnd.jupyter.widget-view+json": {
       "model_id": "4bcb3eae6bd94ba68b669cff506cd78e",
       "version_major": 2,
       "version_minor": 0
      },
      "text/plain": [
       "Output()"
      ]
     },
     "metadata": {},
     "output_type": "display_data"
    },
    {
     "data": {
      "text/html": [
       "<pre style=\"white-space:pre;overflow-x:auto;line-height:normal;font-family:Menlo,'DejaVu Sans Mono',consolas,'Courier New',monospace\"></pre>\n"
      ],
      "text/plain": []
     },
     "metadata": {},
     "output_type": "display_data"
    },
    {
     "data": {
      "text/html": [
       "<pre style=\"white-space:pre;overflow-x:auto;line-height:normal;font-family:Menlo,'DejaVu Sans Mono',consolas,'Courier New',monospace\"><span style=\"color: #008000; text-decoration-color: #008000\">✓ Total news items fetched: </span><span style=\"color: #008000; text-decoration-color: #008000; font-weight: bold\">2310</span>\n",
       "</pre>\n"
      ],
      "text/plain": [
       "\u001b[32m✓ Total news items fetched: \u001b[0m\u001b[1;32m2310\u001b[0m\n"
      ]
     },
     "metadata": {},
     "output_type": "display_data"
    }
   ],
   "source": [
    "news_df = data_loader.get_news_data(\n",
    "    \"MU\",\n",
    "    start=\"2022-01-01\",\n",
    "    end=\"2025-07-31\",\n",
    ")"
   ]
  },
  {
   "cell_type": "markdown",
   "id": "170fb42d",
   "metadata": {},
   "source": [
    "Current list of technical indicators supported:\n",
    "- SMA\n",
    "- EMA\n",
    "- RSI\n",
    "- MACD\n",
    "- ATR\n",
    "- BB\n",
    "- STOCH\n",
    "- OBV\n",
    "\n",
    "(Working on supporting more indicators)"
   ]
  },
  {
   "cell_type": "code",
   "execution_count": 6,
   "id": "4b450692",
   "metadata": {},
   "outputs": [
    {
     "data": {
      "text/html": [
       "<pre style=\"white-space:pre;overflow-x:auto;line-height:normal;font-family:Menlo,'DejaVu Sans Mono',consolas,'Courier New',monospace\"><span style=\"color: #008080; text-decoration-color: #008080\">Applying SMA with params: </span><span style=\"color: #008080; text-decoration-color: #008080; font-weight: bold\">{</span><span style=\"color: #008080; text-decoration-color: #008080\">'window'</span><span style=\"color: #008080; text-decoration-color: #008080\">: </span><span style=\"color: #008080; text-decoration-color: #008080; font-weight: bold\">20</span><span style=\"color: #008080; text-decoration-color: #008080; font-weight: bold\">}</span>\n",
       "</pre>\n"
      ],
      "text/plain": [
       "\u001b[36mApplying SMA with params: \u001b[0m\u001b[1;36m{\u001b[0m\u001b[36m'window'\u001b[0m\u001b[36m: \u001b[0m\u001b[1;36m20\u001b[0m\u001b[1;36m}\u001b[0m\n"
      ]
     },
     "metadata": {},
     "output_type": "display_data"
    },
    {
     "data": {
      "text/html": [
       "<pre style=\"white-space:pre;overflow-x:auto;line-height:normal;font-family:Menlo,'DejaVu Sans Mono',consolas,'Courier New',monospace\"><span style=\"color: #008080; text-decoration-color: #008080\">Applying EMA with params: </span><span style=\"color: #008080; text-decoration-color: #008080; font-weight: bold\">{</span><span style=\"color: #008080; text-decoration-color: #008080\">'window'</span><span style=\"color: #008080; text-decoration-color: #008080\">: </span><span style=\"color: #008080; text-decoration-color: #008080; font-weight: bold\">9</span><span style=\"color: #008080; text-decoration-color: #008080; font-weight: bold\">}</span>\n",
       "</pre>\n"
      ],
      "text/plain": [
       "\u001b[36mApplying EMA with params: \u001b[0m\u001b[1;36m{\u001b[0m\u001b[36m'window'\u001b[0m\u001b[36m: \u001b[0m\u001b[1;36m9\u001b[0m\u001b[1;36m}\u001b[0m\n"
      ]
     },
     "metadata": {},
     "output_type": "display_data"
    },
    {
     "data": {
      "text/html": [
       "<pre style=\"white-space:pre;overflow-x:auto;line-height:normal;font-family:Menlo,'DejaVu Sans Mono',consolas,'Courier New',monospace\"><span style=\"color: #008080; text-decoration-color: #008080\">Applying RSI with params: </span><span style=\"color: #008080; text-decoration-color: #008080; font-weight: bold\">{</span><span style=\"color: #008080; text-decoration-color: #008080\">'window'</span><span style=\"color: #008080; text-decoration-color: #008080\">: </span><span style=\"color: #008080; text-decoration-color: #008080; font-weight: bold\">7</span><span style=\"color: #008080; text-decoration-color: #008080; font-weight: bold\">}</span>\n",
       "</pre>\n"
      ],
      "text/plain": [
       "\u001b[36mApplying RSI with params: \u001b[0m\u001b[1;36m{\u001b[0m\u001b[36m'window'\u001b[0m\u001b[36m: \u001b[0m\u001b[1;36m7\u001b[0m\u001b[1;36m}\u001b[0m\n"
      ]
     },
     "metadata": {},
     "output_type": "display_data"
    },
    {
     "data": {
      "text/html": [
       "<pre style=\"white-space:pre;overflow-x:auto;line-height:normal;font-family:Menlo,'DejaVu Sans Mono',consolas,'Courier New',monospace\"><span style=\"color: #008080; text-decoration-color: #008080\">Applying MACD with params: </span><span style=\"color: #008080; text-decoration-color: #008080; font-weight: bold\">{</span><span style=\"color: #008080; text-decoration-color: #008080\">'fast'</span><span style=\"color: #008080; text-decoration-color: #008080\">: </span><span style=\"color: #008080; text-decoration-color: #008080; font-weight: bold\">12</span><span style=\"color: #008080; text-decoration-color: #008080\">, </span><span style=\"color: #008080; text-decoration-color: #008080\">'slow'</span><span style=\"color: #008080; text-decoration-color: #008080\">: </span><span style=\"color: #008080; text-decoration-color: #008080; font-weight: bold\">26</span><span style=\"color: #008080; text-decoration-color: #008080\">, </span><span style=\"color: #008080; text-decoration-color: #008080\">'signal'</span><span style=\"color: #008080; text-decoration-color: #008080\">: </span><span style=\"color: #008080; text-decoration-color: #008080; font-weight: bold\">9</span><span style=\"color: #008080; text-decoration-color: #008080; font-weight: bold\">}</span>\n",
       "</pre>\n"
      ],
      "text/plain": [
       "\u001b[36mApplying MACD with params: \u001b[0m\u001b[1;36m{\u001b[0m\u001b[36m'fast'\u001b[0m\u001b[36m: \u001b[0m\u001b[1;36m12\u001b[0m\u001b[36m, \u001b[0m\u001b[36m'slow'\u001b[0m\u001b[36m: \u001b[0m\u001b[1;36m26\u001b[0m\u001b[36m, \u001b[0m\u001b[36m'signal'\u001b[0m\u001b[36m: \u001b[0m\u001b[1;36m9\u001b[0m\u001b[1;36m}\u001b[0m\n"
      ]
     },
     "metadata": {},
     "output_type": "display_data"
    },
    {
     "data": {
      "text/html": [
       "<pre style=\"white-space:pre;overflow-x:auto;line-height:normal;font-family:Menlo,'DejaVu Sans Mono',consolas,'Courier New',monospace\"><span style=\"color: #008080; text-decoration-color: #008080\">Applying ATR with params: </span><span style=\"color: #008080; text-decoration-color: #008080; font-weight: bold\">{</span><span style=\"color: #008080; text-decoration-color: #008080\">'window'</span><span style=\"color: #008080; text-decoration-color: #008080\">: </span><span style=\"color: #008080; text-decoration-color: #008080; font-weight: bold\">14</span><span style=\"color: #008080; text-decoration-color: #008080; font-weight: bold\">}</span>\n",
       "</pre>\n"
      ],
      "text/plain": [
       "\u001b[36mApplying ATR with params: \u001b[0m\u001b[1;36m{\u001b[0m\u001b[36m'window'\u001b[0m\u001b[36m: \u001b[0m\u001b[1;36m14\u001b[0m\u001b[1;36m}\u001b[0m\n"
      ]
     },
     "metadata": {},
     "output_type": "display_data"
    },
    {
     "data": {
      "text/html": [
       "<pre style=\"white-space:pre;overflow-x:auto;line-height:normal;font-family:Menlo,'DejaVu Sans Mono',consolas,'Courier New',monospace\"><span style=\"color: #008080; text-decoration-color: #008080\">Applying BB with params: </span><span style=\"color: #008080; text-decoration-color: #008080; font-weight: bold\">{</span><span style=\"color: #008080; text-decoration-color: #008080\">'window'</span><span style=\"color: #008080; text-decoration-color: #008080\">: </span><span style=\"color: #008080; text-decoration-color: #008080; font-weight: bold\">20</span><span style=\"color: #008080; text-decoration-color: #008080\">, </span><span style=\"color: #008080; text-decoration-color: #008080\">'num_std'</span><span style=\"color: #008080; text-decoration-color: #008080\">: </span><span style=\"color: #008080; text-decoration-color: #008080; font-weight: bold\">2</span><span style=\"color: #008080; text-decoration-color: #008080; font-weight: bold\">}</span>\n",
       "</pre>\n"
      ],
      "text/plain": [
       "\u001b[36mApplying BB with params: \u001b[0m\u001b[1;36m{\u001b[0m\u001b[36m'window'\u001b[0m\u001b[36m: \u001b[0m\u001b[1;36m20\u001b[0m\u001b[36m, \u001b[0m\u001b[36m'num_std'\u001b[0m\u001b[36m: \u001b[0m\u001b[1;36m2\u001b[0m\u001b[1;36m}\u001b[0m\n"
      ]
     },
     "metadata": {},
     "output_type": "display_data"
    },
    {
     "data": {
      "text/html": [
       "<pre style=\"white-space:pre;overflow-x:auto;line-height:normal;font-family:Menlo,'DejaVu Sans Mono',consolas,'Courier New',monospace\"><span style=\"color: #008080; text-decoration-color: #008080\">Applying STOCH with params: </span><span style=\"color: #008080; text-decoration-color: #008080; font-weight: bold\">{</span><span style=\"color: #008080; text-decoration-color: #008080\">'k_window'</span><span style=\"color: #008080; text-decoration-color: #008080\">: </span><span style=\"color: #008080; text-decoration-color: #008080; font-weight: bold\">14</span><span style=\"color: #008080; text-decoration-color: #008080\">, </span><span style=\"color: #008080; text-decoration-color: #008080\">'d_window'</span><span style=\"color: #008080; text-decoration-color: #008080\">: </span><span style=\"color: #008080; text-decoration-color: #008080; font-weight: bold\">3</span><span style=\"color: #008080; text-decoration-color: #008080\">, </span><span style=\"color: #008080; text-decoration-color: #008080\">'smooth_k'</span><span style=\"color: #008080; text-decoration-color: #008080\">: </span><span style=\"color: #008080; text-decoration-color: #008080; font-weight: bold\">1</span><span style=\"color: #008080; text-decoration-color: #008080; font-weight: bold\">}</span>\n",
       "</pre>\n"
      ],
      "text/plain": [
       "\u001b[36mApplying STOCH with params: \u001b[0m\u001b[1;36m{\u001b[0m\u001b[36m'k_window'\u001b[0m\u001b[36m: \u001b[0m\u001b[1;36m14\u001b[0m\u001b[36m, \u001b[0m\u001b[36m'd_window'\u001b[0m\u001b[36m: \u001b[0m\u001b[1;36m3\u001b[0m\u001b[36m, \u001b[0m\u001b[36m'smooth_k'\u001b[0m\u001b[36m: \u001b[0m\u001b[1;36m1\u001b[0m\u001b[1;36m}\u001b[0m\n"
      ]
     },
     "metadata": {},
     "output_type": "display_data"
    },
    {
     "data": {
      "text/html": [
       "<pre style=\"white-space:pre;overflow-x:auto;line-height:normal;font-family:Menlo,'DejaVu Sans Mono',consolas,'Courier New',monospace\"><span style=\"color: #008080; text-decoration-color: #008080\">Applying OBV with params: </span><span style=\"color: #008080; text-decoration-color: #008080; font-weight: bold\">{}</span>\n",
       "</pre>\n"
      ],
      "text/plain": [
       "\u001b[36mApplying OBV with params: \u001b[0m\u001b[1;36m{\u001b[0m\u001b[1;36m}\u001b[0m\n"
      ]
     },
     "metadata": {},
     "output_type": "display_data"
    },
    {
     "name": "stderr",
     "output_type": "stream",
     "text": [
      "Device set to use cpu\n"
     ]
    },
    {
     "data": {
      "text/html": [
       "<pre style=\"white-space:pre;overflow-x:auto;line-height:normal;font-family:Menlo,'DejaVu Sans Mono',consolas,'Courier New',monospace\"><span style=\"color: #008000; text-decoration-color: #008000\">✓ Sentiment analysis pipeline initialized with model: ProsusAI/finbert</span>\n",
       "</pre>\n"
      ],
      "text/plain": [
       "\u001b[32m✓ Sentiment analysis pipeline initialized with model: ProsusAI/finbert\u001b[0m\n"
      ]
     },
     "metadata": {},
     "output_type": "display_data"
    }
   ],
   "source": [
    "data_processor = DataProcessor(olhcv_data=olhcv_df, news_data=news_df)\n",
    "\n",
    "# The window sizes can be adjusted based on the signals from feature importance analysis.\n",
    "\n",
    "# configuring the technical indicators with specific parameters\n",
    "processed_data = data_processor.data_processing_pipeline(\n",
    "    indicators=[\"SMA\", \"EMA\", \"RSI\", \"MACD\", \"ATR\", \"BB\", \"STOCH\", \"OBV\"],\n",
    "    # The following are optional, you could do\n",
    "    # data_processor.append_technical_indicators(olhcv_df, indicators=[\"SMA\", \"EMA\"])\n",
    "    # and the default parameters will be used.\n",
    "    \n",
    "    # fillna_strategy=\"neutral\",\n",
    "    SMA_params={\n",
    "        \"window\": 20,\n",
    "    },\n",
    "    EMA_params={\"window\": 9},\n",
    "    RSI_params={\"window\": 7},\n",
    "    MACD_params={\"fast\": 12, \"slow\": 26, \"signal\": 9},\n",
    "    ATR_params={\"window\": 14},\n",
    "    BB_params={\"window\": 20, \"num_std\": 2},\n",
    "    STOCH_params={\"k_window\": 14, \"d_window\": 3, \"smooth_k\": 1},\n",
    "    # OBV_params={},\n",
    ")"
   ]
  },
  {
   "cell_type": "code",
   "execution_count": 7,
   "id": "b12c6ef6",
   "metadata": {},
   "outputs": [
    {
     "data": {
      "text/html": [
       "<div>\n",
       "<style scoped>\n",
       "    .dataframe tbody tr th:only-of-type {\n",
       "        vertical-align: middle;\n",
       "    }\n",
       "\n",
       "    .dataframe tbody tr th {\n",
       "        vertical-align: top;\n",
       "    }\n",
       "\n",
       "    .dataframe thead th {\n",
       "        text-align: right;\n",
       "    }\n",
       "</style>\n",
       "<table border=\"1\" class=\"dataframe\">\n",
       "  <thead>\n",
       "    <tr style=\"text-align: right;\">\n",
       "      <th></th>\n",
       "      <th>Open</th>\n",
       "      <th>High</th>\n",
       "      <th>Low</th>\n",
       "      <th>Close</th>\n",
       "      <th>Volume</th>\n",
       "      <th>Trade_count</th>\n",
       "      <th>VWAP</th>\n",
       "      <th>SMA_20</th>\n",
       "      <th>EMA_9</th>\n",
       "      <th>RSI_7</th>\n",
       "      <th>MACD_line_12_26</th>\n",
       "      <th>MACD_signal_9</th>\n",
       "      <th>MACD_histogram</th>\n",
       "      <th>ATR_14</th>\n",
       "      <th>BB_middle_20</th>\n",
       "      <th>BB_upper_20_2</th>\n",
       "      <th>BB_lower_20_2</th>\n",
       "      <th>BB_bandwidth_20</th>\n",
       "      <th>STOCH_%K_14</th>\n",
       "      <th>STOCH_%D_3</th>\n",
       "      <th>OBV</th>\n",
       "      <th>sentiment_score</th>\n",
       "    </tr>\n",
       "  </thead>\n",
       "  <tbody>\n",
       "    <tr>\n",
       "      <th>0</th>\n",
       "      <td>78.960</td>\n",
       "      <td>82.31</td>\n",
       "      <td>78.02</td>\n",
       "      <td>82.27</td>\n",
       "      <td>25587263.0</td>\n",
       "      <td>177832.0</td>\n",
       "      <td>81.231750</td>\n",
       "      <td>89.4270</td>\n",
       "      <td>83.289881</td>\n",
       "      <td>38.546670</td>\n",
       "      <td>-4.056880</td>\n",
       "      <td>-2.957446</td>\n",
       "      <td>-1.099434</td>\n",
       "      <td>3.908338</td>\n",
       "      <td>89.4270</td>\n",
       "      <td>103.057519</td>\n",
       "      <td>75.796481</td>\n",
       "      <td>0.304841</td>\n",
       "      <td>29.887093</td>\n",
       "      <td>17.256112</td>\n",
       "      <td>29104168.0</td>\n",
       "      <td>0.615621</td>\n",
       "    </tr>\n",
       "    <tr>\n",
       "      <th>1</th>\n",
       "      <td>82.200</td>\n",
       "      <td>82.39</td>\n",
       "      <td>80.42</td>\n",
       "      <td>81.45</td>\n",
       "      <td>16677706.0</td>\n",
       "      <td>156159.0</td>\n",
       "      <td>81.282006</td>\n",
       "      <td>88.7120</td>\n",
       "      <td>82.921905</td>\n",
       "      <td>36.195812</td>\n",
       "      <td>-4.012427</td>\n",
       "      <td>-3.168442</td>\n",
       "      <td>-0.843985</td>\n",
       "      <td>3.769885</td>\n",
       "      <td>88.7120</td>\n",
       "      <td>102.445824</td>\n",
       "      <td>74.978176</td>\n",
       "      <td>0.309627</td>\n",
       "      <td>26.256365</td>\n",
       "      <td>24.249133</td>\n",
       "      <td>12426462.0</td>\n",
       "      <td>0.861282</td>\n",
       "    </tr>\n",
       "    <tr>\n",
       "      <th>2</th>\n",
       "      <td>82.920</td>\n",
       "      <td>84.70</td>\n",
       "      <td>82.54</td>\n",
       "      <td>84.51</td>\n",
       "      <td>21429140.0</td>\n",
       "      <td>174863.0</td>\n",
       "      <td>83.930710</td>\n",
       "      <td>88.1205</td>\n",
       "      <td>83.239524</td>\n",
       "      <td>49.582550</td>\n",
       "      <td>-3.687770</td>\n",
       "      <td>-3.272308</td>\n",
       "      <td>-0.415463</td>\n",
       "      <td>3.732750</td>\n",
       "      <td>88.1205</td>\n",
       "      <td>101.485089</td>\n",
       "      <td>74.755911</td>\n",
       "      <td>0.303325</td>\n",
       "      <td>39.805180</td>\n",
       "      <td>31.982879</td>\n",
       "      <td>33855602.0</td>\n",
       "      <td>0.000000</td>\n",
       "    </tr>\n",
       "    <tr>\n",
       "      <th>3</th>\n",
       "      <td>82.670</td>\n",
       "      <td>85.18</td>\n",
       "      <td>81.71</td>\n",
       "      <td>81.97</td>\n",
       "      <td>21519262.0</td>\n",
       "      <td>183404.0</td>\n",
       "      <td>83.199568</td>\n",
       "      <td>87.4990</td>\n",
       "      <td>82.985619</td>\n",
       "      <td>41.209527</td>\n",
       "      <td>-3.594005</td>\n",
       "      <td>-3.336647</td>\n",
       "      <td>-0.257358</td>\n",
       "      <td>3.713982</td>\n",
       "      <td>87.4990</td>\n",
       "      <td>100.789910</td>\n",
       "      <td>74.208090</td>\n",
       "      <td>0.303796</td>\n",
       "      <td>29.438613</td>\n",
       "      <td>31.833386</td>\n",
       "      <td>12336340.0</td>\n",
       "      <td>0.000000</td>\n",
       "    </tr>\n",
       "    <tr>\n",
       "      <th>4</th>\n",
       "      <td>81.222</td>\n",
       "      <td>82.19</td>\n",
       "      <td>79.84</td>\n",
       "      <td>81.17</td>\n",
       "      <td>16827299.0</td>\n",
       "      <td>153181.0</td>\n",
       "      <td>81.113986</td>\n",
       "      <td>86.7750</td>\n",
       "      <td>82.622495</td>\n",
       "      <td>38.801794</td>\n",
       "      <td>-3.543403</td>\n",
       "      <td>-3.377998</td>\n",
       "      <td>-0.165404</td>\n",
       "      <td>3.616555</td>\n",
       "      <td>86.7750</td>\n",
       "      <td>99.770654</td>\n",
       "      <td>73.779346</td>\n",
       "      <td>0.299525</td>\n",
       "      <td>27.655409</td>\n",
       "      <td>32.299734</td>\n",
       "      <td>-4490959.0</td>\n",
       "      <td>0.000000</td>\n",
       "    </tr>\n",
       "  </tbody>\n",
       "</table>\n",
       "</div>"
      ],
      "text/plain": [
       "     Open   High    Low  Close      Volume  Trade_count       VWAP   SMA_20  \\\n",
       "0  78.960  82.31  78.02  82.27  25587263.0     177832.0  81.231750  89.4270   \n",
       "1  82.200  82.39  80.42  81.45  16677706.0     156159.0  81.282006  88.7120   \n",
       "2  82.920  84.70  82.54  84.51  21429140.0     174863.0  83.930710  88.1205   \n",
       "3  82.670  85.18  81.71  81.97  21519262.0     183404.0  83.199568  87.4990   \n",
       "4  81.222  82.19  79.84  81.17  16827299.0     153181.0  81.113986  86.7750   \n",
       "\n",
       "       EMA_9      RSI_7  MACD_line_12_26  MACD_signal_9  MACD_histogram  \\\n",
       "0  83.289881  38.546670        -4.056880      -2.957446       -1.099434   \n",
       "1  82.921905  36.195812        -4.012427      -3.168442       -0.843985   \n",
       "2  83.239524  49.582550        -3.687770      -3.272308       -0.415463   \n",
       "3  82.985619  41.209527        -3.594005      -3.336647       -0.257358   \n",
       "4  82.622495  38.801794        -3.543403      -3.377998       -0.165404   \n",
       "\n",
       "     ATR_14  BB_middle_20  BB_upper_20_2  BB_lower_20_2  BB_bandwidth_20  \\\n",
       "0  3.908338       89.4270     103.057519      75.796481         0.304841   \n",
       "1  3.769885       88.7120     102.445824      74.978176         0.309627   \n",
       "2  3.732750       88.1205     101.485089      74.755911         0.303325   \n",
       "3  3.713982       87.4990     100.789910      74.208090         0.303796   \n",
       "4  3.616555       86.7750      99.770654      73.779346         0.299525   \n",
       "\n",
       "   STOCH_%K_14  STOCH_%D_3         OBV  sentiment_score  \n",
       "0    29.887093   17.256112  29104168.0         0.615621  \n",
       "1    26.256365   24.249133  12426462.0         0.861282  \n",
       "2    39.805180   31.982879  33855602.0         0.000000  \n",
       "3    29.438613   31.833386  12336340.0         0.000000  \n",
       "4    27.655409   32.299734  -4490959.0         0.000000  "
      ]
     },
     "execution_count": 7,
     "metadata": {},
     "output_type": "execute_result"
    }
   ],
   "source": [
    "processed_data.head()"
   ]
  },
  {
   "cell_type": "markdown",
   "id": "869f9004",
   "metadata": {},
   "source": [
    "## Comprehensive Backtesting Example"
   ]
  },
  {
   "cell_type": "markdown",
   "id": "30d09aa0",
   "metadata": {},
   "source": [
    "#### Train-test split and keeping them as dataframes. The environment will handle to price column detection and numpy conversion"
   ]
  },
  {
   "cell_type": "code",
   "execution_count": 8,
   "id": "ec692dff",
   "metadata": {},
   "outputs": [],
   "source": [
    "train_size = int(len(processed_data) * 0.8)\n",
    "train_data_df = processed_data[:train_size]  # Keep as DataFrame\n",
    "test_data_df = processed_data[train_size:]   # Keep as DataFrame"
   ]
  },
  {
   "cell_type": "markdown",
   "id": "21c5656f",
   "metadata": {},
   "source": [
    "#### Strategy instances"
   ]
  },
  {
   "cell_type": "code",
   "execution_count": 9,
   "id": "1ae7e1fd",
   "metadata": {},
   "outputs": [],
   "source": [
    "# Create strategy instances\n",
    "action_strategy = StandardMarketActionStrategy()\n",
    "observation_strategy = PortfolioWithTrendObservation()\n",
    "\n",
    "# Create composite reward strategy\n",
    "portfolio_reward = PortfolioValueChangeReward()\n",
    "invalid_penalty = InvalidActionPenalty(penalty=-1.0)\n",
    "trend_reward = TrendFollowingReward()\n",
    "hold_penalty = HoldPenalty(penalty=-0.5)\n",
    "position_sizing_reward = PositionSizingRiskReward()\n",
    "\n",
    "# Multiple reward strategies with different weights\n",
    "# These weights can be adjusted based on the emphasis on each strategy or the risk appetite of the trading strategy.\n",
    "reward_strategies = {\n",
    "    \"balanced\": WeightedCompositeReward(\n",
    "        strategies=[portfolio_reward, invalid_penalty, trend_reward, hold_penalty, position_sizing_reward],\n",
    "        weights=[1.0, 2.0, 0.3, 0.1, 0.5]\n",
    "        #        ^     ^    ^    ^    ^\n",
    "        #        |     |    |    |    position sizing (moderate importance)\n",
    "        #        |     |    |    hold penalty (low)\n",
    "        #        |     |    trend following (low-med)\n",
    "        #        |     invalid actions (high penalty)\n",
    "        #        portfolio value (primary objective)\n",
    "    ),\n",
    "    \n",
    "    \"conservative\": WeightedCompositeReward(\n",
    "        strategies=[portfolio_reward, invalid_penalty, trend_reward, hold_penalty, position_sizing_reward],\n",
    "        weights=[1.0, 3.0, 0.2, 0.05, 0.8]\n",
    "        #        ^     ^    ^     ^     ^\n",
    "        #        |     |    |     |     HIGH weight on risk management\n",
    "        #        |     |    |     very low hold penalty\n",
    "        #        |     |    low trend following\n",
    "        #        |     high invalid penalty\n",
    "        #        steady portfolio growth\n",
    "    ),\n",
    "    \n",
    "    \"aggressive\": WeightedCompositeReward(\n",
    "        strategies=[portfolio_reward, invalid_penalty, trend_reward, hold_penalty, position_sizing_reward],\n",
    "        weights=[0.8, 1.5, 0.6, 0.3, 0.3]\n",
    "        #        ^     ^    ^    ^    ^\n",
    "        #        |     |    |    |    lower position sizing weight (more risk tolerance)\n",
    "        #        |     |    |    higher hold penalty (forces action)\n",
    "        #        |     |    higher trend following\n",
    "        #        |     moderate invalid penalty\n",
    "        #        portfolio growth still important\n",
    "    ),\n",
    "    \n",
    "    # Optional: Add a risk-focused strategy\n",
    "    \"risk_managed\": WeightedCompositeReward(\n",
    "        strategies=[portfolio_reward, invalid_penalty, trend_reward, hold_penalty, position_sizing_reward],\n",
    "        weights=[0.7, 2.5, 0.1, 0.05, 1.0]\n",
    "        #        ^     ^    ^     ^     ^\n",
    "        #        |     |    |     |     HIGHEST weight on position sizing\n",
    "        #        |     |    |     minimal hold penalty\n",
    "        #        |     |    minimal trend following\n",
    "        #        |     high invalid penalty\n",
    "        #        moderate portfolio focus\n",
    "    )\n",
    "}"
   ]
  },
  {
   "cell_type": "code",
   "execution_count": 10,
   "id": "91b4d711",
   "metadata": {},
   "outputs": [
    {
     "name": "stdout",
     "output_type": "stream",
     "text": [
      "✅ Created environment configs:\n",
      "   Environment names: ['standard', 'low_cost']\n"
     ]
    }
   ],
   "source": [
    "# Create multiple environment configurations for comprehensive backtesting\n",
    "# To run single experiment, you can use one of the keys in `env_configs`.\n",
    "# For example, you can use \"standard\" config to run a standard backtest.\n",
    "\n",
    "env_configs = {\n",
    "    \"standard\": {\n",
    "        'train_env_factory': lambda: SingleStockTradingEnv(\n",
    "            data=train_data_df,\n",
    "            config=SingleStockEnvConfig(\n",
    "                initial_balance=100000.0,\n",
    "                transaction_cost_pct=0.001,  # assuming a 0.1% transaction cost\n",
    "                slippage=0.0005,\n",
    "                window_size=20,\n",
    "                order_expiration_steps=5\n",
    "            ),\n",
    "            action_strategy=action_strategy,\n",
    "            reward_strategy=reward_strategies[\"balanced\"],\n",
    "            observation_strategy=observation_strategy\n",
    "        ),\n",
    "        'test_env_factory': lambda: SingleStockTradingEnv(\n",
    "            data=test_data_df,\n",
    "            config=SingleStockEnvConfig(\n",
    "                initial_balance=100000.0,\n",
    "                transaction_cost_pct=0.001,\n",
    "                slippage=0.0005,\n",
    "                window_size=20,\n",
    "                order_expiration_steps=5\n",
    "            ),\n",
    "            action_strategy=action_strategy,\n",
    "            reward_strategy=reward_strategies[\"balanced\"],\n",
    "            observation_strategy=observation_strategy\n",
    "        )\n",
    "    },\n",
    "    \"low_cost\": {\n",
    "        'train_env_factory': lambda: SingleStockTradingEnv(\n",
    "            data=train_data_df,\n",
    "            config=SingleStockEnvConfig(\n",
    "                initial_balance=100000.0,\n",
    "                transaction_cost_pct=0.0,  # assuming no transaction costs\n",
    "                slippage=0.001,\n",
    "                window_size=20,\n",
    "                order_expiration_steps=5\n",
    "            ),\n",
    "            action_strategy=action_strategy,\n",
    "            reward_strategy=reward_strategies[\"balanced\"],\n",
    "            observation_strategy=observation_strategy\n",
    "        ),\n",
    "        'test_env_factory': lambda: SingleStockTradingEnv(\n",
    "            data=test_data_df,\n",
    "            config=SingleStockEnvConfig(\n",
    "                initial_balance=100000.0,\n",
    "                transaction_cost_pct=0.0,\n",
    "                slippage=0.001,\n",
    "                window_size=20,\n",
    "                order_expiration_steps=5\n",
    "            ),\n",
    "            action_strategy=action_strategy,\n",
    "            reward_strategy=reward_strategies[\"balanced\"],\n",
    "            observation_strategy=observation_strategy\n",
    "        )\n",
    "    }\n",
    "}\n",
    "\n",
    "print(\"✅ Created environment configs:\")\n",
    "print(f\"   Environment names: {list(env_configs.keys())}\")"
   ]
  },
  {
   "cell_type": "code",
   "execution_count": 11,
   "id": "bb4a8aa3",
   "metadata": {},
   "outputs": [
    {
     "name": "stdout",
     "output_type": "stream",
     "text": [
      "✅ Single environment config created for individual experiments\n"
     ]
    }
   ],
   "source": [
    "single_env_config = env_configs[\"low_cost\"]  # Use the \"low_cost\" config for a single experiment\n",
    "\n",
    "print(\"✅ Single environment config created for individual experiments\")\n",
    "# Use single_env_config for: run_single_experiment, run_algorithm_comparison, run_preset_comparison\n",
    "# Use env_configs for: run_comprehensive_backtest, run_environment_comparison"
   ]
  },
  {
   "cell_type": "code",
   "execution_count": 12,
   "id": "0c2db74e",
   "metadata": {},
   "outputs": [
    {
     "data": {
      "text/html": [
       "<pre style=\"white-space:pre;overflow-x:auto;line-height:normal;font-family:Menlo,'DejaVu Sans Mono',consolas,'Courier New',monospace\">\n",
       "<span style=\"color: #000080; text-decoration-color: #000080; font-weight: bold\">============================================================</span>\n",
       "</pre>\n"
      ],
      "text/plain": [
       "\n",
       "\u001b[1;34m============================================================\u001b[0m\n"
      ]
     },
     "metadata": {},
     "output_type": "display_data"
    },
    {
     "data": {
      "text/html": [
       "<pre style=\"white-space:pre;overflow-x:auto;line-height:normal;font-family:Menlo,'DejaVu Sans Mono',consolas,'Courier New',monospace\"><span style=\"color: #000080; text-decoration-color: #000080; font-weight: bold\">RUNNING SINGLE EXPERIMENT: SAC</span>\n",
       "</pre>\n"
      ],
      "text/plain": [
       "\u001b[1;34mRUNNING SINGLE EXPERIMENT: SAC\u001b[0m\n"
      ]
     },
     "metadata": {},
     "output_type": "display_data"
    },
    {
     "data": {
      "text/html": [
       "<pre style=\"white-space:pre;overflow-x:auto;line-height:normal;font-family:Menlo,'DejaVu Sans Mono',consolas,'Courier New',monospace\"><span style=\"color: #808000; text-decoration-color: #808000\">Using custom configuration with </span><span style=\"color: #808000; text-decoration-color: #808000; font-weight: bold\">9</span><span style=\"color: #808000; text-decoration-color: #808000\"> parameters</span>\n",
       "</pre>\n"
      ],
      "text/plain": [
       "\u001b[33mUsing custom configuration with \u001b[0m\u001b[1;33m9\u001b[0m\u001b[33m parameters\u001b[0m\n"
      ]
     },
     "metadata": {},
     "output_type": "display_data"
    },
    {
     "data": {
      "text/html": [
       "<pre style=\"white-space:pre;overflow-x:auto;line-height:normal;font-family:Menlo,'DejaVu Sans Mono',consolas,'Courier New',monospace\"><span style=\"color: #008080; text-decoration-color: #008080\">Custom params: </span><span style=\"color: #008080; text-decoration-color: #008080; font-weight: bold\">[</span><span style=\"color: #008080; text-decoration-color: #008080\">'learning_rate'</span><span style=\"color: #008080; text-decoration-color: #008080\">, </span><span style=\"color: #008080; text-decoration-color: #008080\">'batch_size'</span><span style=\"color: #008080; text-decoration-color: #008080\">, </span><span style=\"color: #008080; text-decoration-color: #008080\">'gamma'</span><span style=\"color: #008080; text-decoration-color: #008080\">, </span><span style=\"color: #008080; text-decoration-color: #008080\">'tau'</span><span style=\"color: #008080; text-decoration-color: #008080\">, </span><span style=\"color: #008080; text-decoration-color: #008080\">'ent_coef'</span><span style=\"color: #008080; text-decoration-color: #008080\">, </span><span style=\"color: #008080; text-decoration-color: #008080\">'gradient_steps'</span><span style=\"color: #008080; text-decoration-color: #008080\">, </span><span style=\"color: #008080; text-decoration-color: #008080\">'buffer_size'</span><span style=\"color: #008080; text-decoration-color: #008080\">, </span>\n",
       "<span style=\"color: #008080; text-decoration-color: #008080\">'verbose'</span><span style=\"color: #008080; text-decoration-color: #008080\">, </span><span style=\"color: #008080; text-decoration-color: #008080\">'policy_kwargs'</span><span style=\"color: #008080; text-decoration-color: #008080; font-weight: bold\">]</span>\n",
       "</pre>\n"
      ],
      "text/plain": [
       "\u001b[36mCustom params: \u001b[0m\u001b[1;36m[\u001b[0m\u001b[36m'learning_rate'\u001b[0m\u001b[36m, \u001b[0m\u001b[36m'batch_size'\u001b[0m\u001b[36m, \u001b[0m\u001b[36m'gamma'\u001b[0m\u001b[36m, \u001b[0m\u001b[36m'tau'\u001b[0m\u001b[36m, \u001b[0m\u001b[36m'ent_coef'\u001b[0m\u001b[36m, \u001b[0m\u001b[36m'gradient_steps'\u001b[0m\u001b[36m, \u001b[0m\u001b[36m'buffer_size'\u001b[0m\u001b[36m, \u001b[0m\n",
       "\u001b[36m'verbose'\u001b[0m\u001b[36m, \u001b[0m\u001b[36m'policy_kwargs'\u001b[0m\u001b[1;36m]\u001b[0m\n"
      ]
     },
     "metadata": {},
     "output_type": "display_data"
    },
    {
     "data": {
      "text/html": [
       "<pre style=\"white-space:pre;overflow-x:auto;line-height:normal;font-family:Menlo,'DejaVu Sans Mono',consolas,'Courier New',monospace\"><span style=\"color: #808000; text-decoration-color: #808000\">Timesteps: </span><span style=\"color: #808000; text-decoration-color: #808000; font-weight: bold\">50</span><span style=\"color: #808000; text-decoration-color: #808000\">,</span><span style=\"color: #808000; text-decoration-color: #808000; font-weight: bold\">000</span>\n",
       "</pre>\n"
      ],
      "text/plain": [
       "\u001b[33mTimesteps: \u001b[0m\u001b[1;33m50\u001b[0m\u001b[33m,\u001b[0m\u001b[1;33m000\u001b[0m\n"
      ]
     },
     "metadata": {},
     "output_type": "display_data"
    },
    {
     "data": {
      "text/html": [
       "<pre style=\"white-space:pre;overflow-x:auto;line-height:normal;font-family:Menlo,'DejaVu Sans Mono',consolas,'Courier New',monospace\"><span style=\"color: #000080; text-decoration-color: #000080; font-weight: bold\">============================================================</span>\n",
       "</pre>\n"
      ],
      "text/plain": [
       "\u001b[1;34m============================================================\u001b[0m\n"
      ]
     },
     "metadata": {},
     "output_type": "display_data"
    },
    {
     "data": {
      "text/html": [
       "<pre style=\"white-space:pre;overflow-x:auto;line-height:normal;font-family:Menlo,'DejaVu Sans Mono',consolas,'Courier New',monospace\"><span style=\"color: #00ff00; text-decoration-color: #00ff00\">────────────────────────────────────────────── </span><span style=\"color: #008000; text-decoration-color: #008000; font-weight: bold\">🔄 TRAINING PHASE 🔄</span><span style=\"color: #00ff00; text-decoration-color: #00ff00\"> ───────────────────────────────────────────────</span>\n",
       "</pre>\n"
      ],
      "text/plain": [
       "\u001b[92m────────────────────────────────────────────── \u001b[0m\u001b[1;32m🔄 TRAINING PHASE 🔄\u001b[0m\u001b[92m ───────────────────────────────────────────────\u001b[0m\n"
      ]
     },
     "metadata": {},
     "output_type": "display_data"
    },
    {
     "data": {
      "text/html": [
       "<pre style=\"white-space:pre;overflow-x:auto;line-height:normal;font-family:Menlo,'DejaVu Sans Mono',consolas,'Courier New',monospace\"><span style=\"color: #008000; text-decoration-color: #008000; font-weight: bold\">Starting model training...</span>\n",
       "</pre>\n"
      ],
      "text/plain": [
       "\u001b[1;32mStarting model training\u001b[0m\u001b[1;32m...\u001b[0m\n"
      ]
     },
     "metadata": {},
     "output_type": "display_data"
    },
    {
     "data": {
      "application/vnd.jupyter.widget-view+json": {
       "model_id": "d060c20eef944203be2e3b0dd1f8daf7",
       "version_major": 2,
       "version_minor": 0
      },
      "text/plain": [
       "Output()"
      ]
     },
     "metadata": {},
     "output_type": "display_data"
    },
    {
     "data": {
      "text/html": [
       "<pre style=\"white-space:pre;overflow-x:auto;line-height:normal;font-family:Menlo,'DejaVu Sans Mono',consolas,'Courier New',monospace\"></pre>\n"
      ],
      "text/plain": []
     },
     "metadata": {},
     "output_type": "display_data"
    },
    {
     "name": "stdout",
     "output_type": "stream",
     "text": [
      "SingleStockTradingEnv closed.\n",
      "SingleStockTradingEnv closed.\n",
      "SingleStockTradingEnv closed.\n",
      "SingleStockTradingEnv closed.\n"
     ]
    },
    {
     "data": {
      "text/html": [
       "<pre style=\"white-space:pre;overflow-x:auto;line-height:normal;font-family:Menlo,'DejaVu Sans Mono',consolas,'Courier New',monospace\"><span style=\"color: #00ff00; text-decoration-color: #00ff00\">───────────────────────────────────────────── </span><span style=\"color: #000080; text-decoration-color: #000080; font-weight: bold\">📊 EVALUATION PHASE 📊</span><span style=\"color: #00ff00; text-decoration-color: #00ff00\"> ──────────────────────────────────────────────</span>\n",
       "</pre>\n"
      ],
      "text/plain": [
       "\u001b[92m───────────────────────────────────────────── \u001b[0m\u001b[1;34m📊 EVALUATION PHASE 📊\u001b[0m\u001b[92m ──────────────────────────────────────────────\u001b[0m\n"
      ]
     },
     "metadata": {},
     "output_type": "display_data"
    },
    {
     "data": {
      "text/html": [
       "<pre style=\"white-space:pre;overflow-x:auto;line-height:normal;font-family:Menlo,'DejaVu Sans Mono',consolas,'Courier New',monospace\">\n",
       "<span style=\"color: #008000; text-decoration-color: #008000; font-weight: bold\">🔍 TRAIN EVALUATION:</span><span style=\"color: #008000; text-decoration-color: #008000\"> Running model on training dataset</span>\n",
       "</pre>\n"
      ],
      "text/plain": [
       "\n",
       "\u001b[1;32m🔍 TRAIN EVALUATION:\u001b[0m\u001b[32m Running model on training dataset\u001b[0m\n"
      ]
     },
     "metadata": {},
     "output_type": "display_data"
    },
    {
     "data": {
      "text/html": [
       "<pre style=\"white-space:pre;overflow-x:auto;line-height:normal;font-family:Menlo,'DejaVu Sans Mono',consolas,'Courier New',monospace\"><span style=\"color: #000080; text-decoration-color: #000080; font-weight: bold\">Evaluating </span><span style=\"color: #008000; text-decoration-color: #008000\">SAC</span><span style=\"color: #000080; text-decoration-color: #000080; font-weight: bold\"> model for </span><span style=\"color: #808000; text-decoration-color: #808000; font-weight: bold\">3</span><span style=\"color: #000080; text-decoration-color: #000080; font-weight: bold\"> episodes...</span>\n",
       "</pre>\n"
      ],
      "text/plain": [
       "\u001b[1;34mEvaluating \u001b[0m\u001b[32mSAC\u001b[0m\u001b[1;34m model for \u001b[0m\u001b[1;33m3\u001b[0m\u001b[1;34m episodes\u001b[0m\u001b[1;34m...\u001b[0m\n"
      ]
     },
     "metadata": {},
     "output_type": "display_data"
    },
    {
     "data": {
      "application/vnd.jupyter.widget-view+json": {
       "model_id": "6e242470912445ee86256c76f9808f64",
       "version_major": 2,
       "version_minor": 0
      },
      "text/plain": [
       "Output()"
      ]
     },
     "metadata": {},
     "output_type": "display_data"
    },
    {
     "data": {
      "text/html": [
       "<pre style=\"white-space:pre;overflow-x:auto;line-height:normal;font-family:Menlo,'DejaVu Sans Mono',consolas,'Courier New',monospace\"><span style=\"color: #808000; text-decoration-color: #808000\">--- Episode </span><span style=\"color: #808000; text-decoration-color: #808000; font-weight: bold\">1</span><span style=\"color: #808000; text-decoration-color: #808000\">/</span><span style=\"color: #808000; text-decoration-color: #808000; font-weight: bold\">3</span><span style=\"color: #808000; text-decoration-color: #808000\"> ---</span>\n",
       "</pre>\n"
      ],
      "text/plain": [
       "\u001b[33m--- Episode \u001b[0m\u001b[1;33m1\u001b[0m\u001b[33m/\u001b[0m\u001b[1;33m3\u001b[0m\u001b[33m ---\u001b[0m\n"
      ]
     },
     "metadata": {},
     "output_type": "display_data"
    },
    {
     "data": {
      "text/html": [
       "<pre style=\"white-space:pre;overflow-x:auto;line-height:normal;font-family:Menlo,'DejaVu Sans Mono',consolas,'Courier New',monospace\">  Step <span style=\"color: #008080; text-decoration-color: #008080; font-weight: bold\">0</span>: <span style=\"color: #800000; text-decoration-color: #800000\">✗</span> <span style=\"color: #800080; text-decoration-color: #800080\">Sell</span>, 💰 <span style=\"color: #008080; text-decoration-color: #008080\">$</span><span style=\"color: #008080; text-decoration-color: #008080; font-weight: bold\">93.30</span>, 📊 <span style=\"color: #008000; text-decoration-color: #008000\">$</span><span style=\"color: #008000; text-decoration-color: #008000; font-weight: bold\">100000.00</span>, 🌟 <span style=\"color: #808000; text-decoration-color: #808000; font-weight: bold\">-2.0000</span>\n",
       "</pre>\n"
      ],
      "text/plain": [
       "  Step \u001b[1;36m0\u001b[0m: \u001b[31m✗\u001b[0m \u001b[35mSell\u001b[0m, 💰 \u001b[36m$\u001b[0m\u001b[1;36m93.30\u001b[0m, 📊 \u001b[32m$\u001b[0m\u001b[1;32m100000.00\u001b[0m, 🌟 \u001b[1;33m-2.0000\u001b[0m\n"
      ]
     },
     "metadata": {},
     "output_type": "display_data"
    },
    {
     "data": {
      "text/html": [
       "<pre style=\"white-space:pre;overflow-x:auto;line-height:normal;font-family:Menlo,'DejaVu Sans Mono',consolas,'Courier New',monospace\">  Step <span style=\"color: #008080; text-decoration-color: #008080; font-weight: bold\">50</span>: <span style=\"color: #008000; text-decoration-color: #008000\">✓</span> <span style=\"color: #800080; text-decoration-color: #800080\">Sell</span>, 💰 <span style=\"color: #008080; text-decoration-color: #008080\">$</span><span style=\"color: #008080; text-decoration-color: #008080; font-weight: bold\">67.71</span>, 📊 <span style=\"color: #008000; text-decoration-color: #008000\">$</span><span style=\"color: #008000; text-decoration-color: #008000; font-weight: bold\">96761.33</span>, 🌟 <span style=\"color: #808000; text-decoration-color: #808000; font-weight: bold\">0.0000</span>\n",
       "</pre>\n"
      ],
      "text/plain": [
       "  Step \u001b[1;36m50\u001b[0m: \u001b[32m✓\u001b[0m \u001b[35mSell\u001b[0m, 💰 \u001b[36m$\u001b[0m\u001b[1;36m67.71\u001b[0m, 📊 \u001b[32m$\u001b[0m\u001b[1;32m96761.33\u001b[0m, 🌟 \u001b[1;33m0.0000\u001b[0m\n"
      ]
     },
     "metadata": {},
     "output_type": "display_data"
    },
    {
     "data": {
      "text/html": [
       "<pre style=\"white-space:pre;overflow-x:auto;line-height:normal;font-family:Menlo,'DejaVu Sans Mono',consolas,'Courier New',monospace\">  Step <span style=\"color: #008080; text-decoration-color: #008080; font-weight: bold\">100</span>: <span style=\"color: #008000; text-decoration-color: #008000\">✓</span> <span style=\"color: #800080; text-decoration-color: #800080\">Sell</span>, 💰 <span style=\"color: #008080; text-decoration-color: #008080\">$</span><span style=\"color: #008080; text-decoration-color: #008080; font-weight: bold\">59.66</span>, 📊 <span style=\"color: #008000; text-decoration-color: #008000\">$</span><span style=\"color: #008000; text-decoration-color: #008000; font-weight: bold\">95019.34</span>, 🌟 <span style=\"color: #808000; text-decoration-color: #808000; font-weight: bold\">-0.0000</span>\n",
       "</pre>\n"
      ],
      "text/plain": [
       "  Step \u001b[1;36m100\u001b[0m: \u001b[32m✓\u001b[0m \u001b[35mSell\u001b[0m, 💰 \u001b[36m$\u001b[0m\u001b[1;36m59.66\u001b[0m, 📊 \u001b[32m$\u001b[0m\u001b[1;32m95019.34\u001b[0m, 🌟 \u001b[1;33m-0.0000\u001b[0m\n"
      ]
     },
     "metadata": {},
     "output_type": "display_data"
    },
    {
     "data": {
      "text/html": [
       "<pre style=\"white-space:pre;overflow-x:auto;line-height:normal;font-family:Menlo,'DejaVu Sans Mono',consolas,'Courier New',monospace\">  Step <span style=\"color: #008080; text-decoration-color: #008080; font-weight: bold\">150</span>: <span style=\"color: #008000; text-decoration-color: #008000\">✓</span> <span style=\"color: #800080; text-decoration-color: #800080\">Sell</span>, 💰 <span style=\"color: #008080; text-decoration-color: #008080\">$</span><span style=\"color: #008080; text-decoration-color: #008080; font-weight: bold\">54.73</span>, 📊 <span style=\"color: #008000; text-decoration-color: #008000\">$</span><span style=\"color: #008000; text-decoration-color: #008000; font-weight: bold\">91576.45</span>, 🌟 <span style=\"color: #808000; text-decoration-color: #808000; font-weight: bold\">0.0000</span>\n",
       "</pre>\n"
      ],
      "text/plain": [
       "  Step \u001b[1;36m150\u001b[0m: \u001b[32m✓\u001b[0m \u001b[35mSell\u001b[0m, 💰 \u001b[36m$\u001b[0m\u001b[1;36m54.73\u001b[0m, 📊 \u001b[32m$\u001b[0m\u001b[1;32m91576.45\u001b[0m, 🌟 \u001b[1;33m0.0000\u001b[0m\n"
      ]
     },
     "metadata": {},
     "output_type": "display_data"
    },
    {
     "data": {
      "text/html": [
       "<pre style=\"white-space:pre;overflow-x:auto;line-height:normal;font-family:Menlo,'DejaVu Sans Mono',consolas,'Courier New',monospace\">  Step <span style=\"color: #008080; text-decoration-color: #008080; font-weight: bold\">200</span>: <span style=\"color: #008000; text-decoration-color: #008000\">✓</span> <span style=\"color: #800080; text-decoration-color: #800080\">Sell</span>, 💰 <span style=\"color: #008080; text-decoration-color: #008080\">$</span><span style=\"color: #008080; text-decoration-color: #008080; font-weight: bold\">52.04</span>, 📊 <span style=\"color: #008000; text-decoration-color: #008000\">$</span><span style=\"color: #008000; text-decoration-color: #008000; font-weight: bold\">88899.83</span>, 🌟 <span style=\"color: #808000; text-decoration-color: #808000; font-weight: bold\">-0.0000</span>\n",
       "</pre>\n"
      ],
      "text/plain": [
       "  Step \u001b[1;36m200\u001b[0m: \u001b[32m✓\u001b[0m \u001b[35mSell\u001b[0m, 💰 \u001b[36m$\u001b[0m\u001b[1;36m52.04\u001b[0m, 📊 \u001b[32m$\u001b[0m\u001b[1;32m88899.83\u001b[0m, 🌟 \u001b[1;33m-0.0000\u001b[0m\n"
      ]
     },
     "metadata": {},
     "output_type": "display_data"
    },
    {
     "data": {
      "text/html": [
       "<pre style=\"white-space:pre;overflow-x:auto;line-height:normal;font-family:Menlo,'DejaVu Sans Mono',consolas,'Courier New',monospace\">  Step <span style=\"color: #008080; text-decoration-color: #008080; font-weight: bold\">250</span>: <span style=\"color: #008000; text-decoration-color: #008000\">✓</span> <span style=\"color: #800080; text-decoration-color: #800080\">Sell</span>, 💰 <span style=\"color: #008080; text-decoration-color: #008080\">$</span><span style=\"color: #008080; text-decoration-color: #008080; font-weight: bold\">57.34</span>, 📊 <span style=\"color: #008000; text-decoration-color: #008000\">$</span><span style=\"color: #008000; text-decoration-color: #008000; font-weight: bold\">88905.13</span>, 🌟 <span style=\"color: #808000; text-decoration-color: #808000; font-weight: bold\">-0.0000</span>\n",
       "</pre>\n"
      ],
      "text/plain": [
       "  Step \u001b[1;36m250\u001b[0m: \u001b[32m✓\u001b[0m \u001b[35mSell\u001b[0m, 💰 \u001b[36m$\u001b[0m\u001b[1;36m57.34\u001b[0m, 📊 \u001b[32m$\u001b[0m\u001b[1;32m88905.13\u001b[0m, 🌟 \u001b[1;33m-0.0000\u001b[0m\n"
      ]
     },
     "metadata": {},
     "output_type": "display_data"
    },
    {
     "data": {
      "text/html": [
       "<pre style=\"white-space:pre;overflow-x:auto;line-height:normal;font-family:Menlo,'DejaVu Sans Mono',consolas,'Courier New',monospace\">  Step <span style=\"color: #008080; text-decoration-color: #008080; font-weight: bold\">300</span>: <span style=\"color: #008000; text-decoration-color: #008000\">✓</span> <span style=\"color: #800080; text-decoration-color: #800080\">Sell</span>, 💰 <span style=\"color: #008080; text-decoration-color: #008080\">$</span><span style=\"color: #008080; text-decoration-color: #008080; font-weight: bold\">61.61</span>, 📊 <span style=\"color: #008000; text-decoration-color: #008000\">$</span><span style=\"color: #008000; text-decoration-color: #008000; font-weight: bold\">88909.40</span>, 🌟 <span style=\"color: #808000; text-decoration-color: #808000; font-weight: bold\">0.0000</span>\n",
       "</pre>\n"
      ],
      "text/plain": [
       "  Step \u001b[1;36m300\u001b[0m: \u001b[32m✓\u001b[0m \u001b[35mSell\u001b[0m, 💰 \u001b[36m$\u001b[0m\u001b[1;36m61.61\u001b[0m, 📊 \u001b[32m$\u001b[0m\u001b[1;32m88909.40\u001b[0m, 🌟 \u001b[1;33m0.0000\u001b[0m\n"
      ]
     },
     "metadata": {},
     "output_type": "display_data"
    },
    {
     "data": {
      "text/html": [
       "<pre style=\"white-space:pre;overflow-x:auto;line-height:normal;font-family:Menlo,'DejaVu Sans Mono',consolas,'Courier New',monospace\">  Step <span style=\"color: #008080; text-decoration-color: #008080; font-weight: bold\">350</span>: <span style=\"color: #008000; text-decoration-color: #008000\">✓</span> <span style=\"color: #800080; text-decoration-color: #800080\">Sell</span>, 💰 <span style=\"color: #008080; text-decoration-color: #008080\">$</span><span style=\"color: #008080; text-decoration-color: #008080; font-weight: bold\">65.68</span>, 📊 <span style=\"color: #008000; text-decoration-color: #008000\">$</span><span style=\"color: #008000; text-decoration-color: #008000; font-weight: bold\">88913.47</span>, 🌟 <span style=\"color: #808000; text-decoration-color: #808000; font-weight: bold\">0.0000</span>\n",
       "</pre>\n"
      ],
      "text/plain": [
       "  Step \u001b[1;36m350\u001b[0m: \u001b[32m✓\u001b[0m \u001b[35mSell\u001b[0m, 💰 \u001b[36m$\u001b[0m\u001b[1;36m65.68\u001b[0m, 📊 \u001b[32m$\u001b[0m\u001b[1;32m88913.47\u001b[0m, 🌟 \u001b[1;33m0.0000\u001b[0m\n"
      ]
     },
     "metadata": {},
     "output_type": "display_data"
    },
    {
     "data": {
      "text/html": [
       "<pre style=\"white-space:pre;overflow-x:auto;line-height:normal;font-family:Menlo,'DejaVu Sans Mono',consolas,'Courier New',monospace\">  Step <span style=\"color: #008080; text-decoration-color: #008080; font-weight: bold\">400</span>: <span style=\"color: #008000; text-decoration-color: #008000\">✓</span> <span style=\"color: #800080; text-decoration-color: #800080\">Sell</span>, 💰 <span style=\"color: #008080; text-decoration-color: #008080\">$</span><span style=\"color: #008080; text-decoration-color: #008080; font-weight: bold\">68.11</span>, 📊 <span style=\"color: #008000; text-decoration-color: #008000\">$</span><span style=\"color: #008000; text-decoration-color: #008000; font-weight: bold\">87308.71</span>, 🌟 <span style=\"color: #808000; text-decoration-color: #808000; font-weight: bold\">0.0000</span>\n",
       "</pre>\n"
      ],
      "text/plain": [
       "  Step \u001b[1;36m400\u001b[0m: \u001b[32m✓\u001b[0m \u001b[35mSell\u001b[0m, 💰 \u001b[36m$\u001b[0m\u001b[1;36m68.11\u001b[0m, 📊 \u001b[32m$\u001b[0m\u001b[1;32m87308.71\u001b[0m, 🌟 \u001b[1;33m0.0000\u001b[0m\n"
      ]
     },
     "metadata": {},
     "output_type": "display_data"
    },
    {
     "data": {
      "text/html": [
       "<pre style=\"white-space:pre;overflow-x:auto;line-height:normal;font-family:Menlo,'DejaVu Sans Mono',consolas,'Courier New',monospace\">  Step <span style=\"color: #008080; text-decoration-color: #008080; font-weight: bold\">450</span>: <span style=\"color: #008000; text-decoration-color: #008000\">✓</span> <span style=\"color: #800080; text-decoration-color: #800080\">Sell</span>, 💰 <span style=\"color: #008080; text-decoration-color: #008080\">$</span><span style=\"color: #008080; text-decoration-color: #008080; font-weight: bold\">82.19</span>, 📊 <span style=\"color: #008000; text-decoration-color: #008000\">$</span><span style=\"color: #008000; text-decoration-color: #008000; font-weight: bold\">87227.26</span>, 🌟 <span style=\"color: #808000; text-decoration-color: #808000; font-weight: bold\">0.0000</span>\n",
       "</pre>\n"
      ],
      "text/plain": [
       "  Step \u001b[1;36m450\u001b[0m: \u001b[32m✓\u001b[0m \u001b[35mSell\u001b[0m, 💰 \u001b[36m$\u001b[0m\u001b[1;36m82.19\u001b[0m, 📊 \u001b[32m$\u001b[0m\u001b[1;32m87227.26\u001b[0m, 🌟 \u001b[1;33m0.0000\u001b[0m\n"
      ]
     },
     "metadata": {},
     "output_type": "display_data"
    },
    {
     "data": {
      "text/html": [
       "<pre style=\"white-space:pre;overflow-x:auto;line-height:normal;font-family:Menlo,'DejaVu Sans Mono',consolas,'Courier New',monospace\">  Step <span style=\"color: #008080; text-decoration-color: #008080; font-weight: bold\">500</span>: <span style=\"color: #008000; text-decoration-color: #008000\">✓</span> <span style=\"color: #800080; text-decoration-color: #800080\">LimitBuy</span>, 💰 <span style=\"color: #008080; text-decoration-color: #008080\">$</span><span style=\"color: #008080; text-decoration-color: #008080; font-weight: bold\">89.71</span>, 📊 <span style=\"color: #008000; text-decoration-color: #008000\">$</span><span style=\"color: #008000; text-decoration-color: #008000; font-weight: bold\">35403.50</span>, 🌟 <span style=\"color: #808000; text-decoration-color: #808000; font-weight: bold\">-0.6184</span>\n",
       "</pre>\n"
      ],
      "text/plain": [
       "  Step \u001b[1;36m500\u001b[0m: \u001b[32m✓\u001b[0m \u001b[35mLimitBuy\u001b[0m, 💰 \u001b[36m$\u001b[0m\u001b[1;36m89.71\u001b[0m, 📊 \u001b[32m$\u001b[0m\u001b[1;32m35403.50\u001b[0m, 🌟 \u001b[1;33m-0.6184\u001b[0m\n"
      ]
     },
     "metadata": {},
     "output_type": "display_data"
    },
    {
     "data": {
      "text/html": [
       "<pre style=\"white-space:pre;overflow-x:auto;line-height:normal;font-family:Menlo,'DejaVu Sans Mono',consolas,'Courier New',monospace\">  Step <span style=\"color: #008080; text-decoration-color: #008080; font-weight: bold\">550</span>: <span style=\"color: #008000; text-decoration-color: #008000\">✓</span> <span style=\"color: #800080; text-decoration-color: #800080\">Sell</span>, 💰 <span style=\"color: #008080; text-decoration-color: #008080\">$</span><span style=\"color: #008080; text-decoration-color: #008080; font-weight: bold\">117.81</span>, 📊 <span style=\"color: #008000; text-decoration-color: #008000\">$</span><span style=\"color: #008000; text-decoration-color: #008000; font-weight: bold\">86895.49</span>, 🌟 <span style=\"color: #808000; text-decoration-color: #808000; font-weight: bold\">-0.0000</span>\n",
       "</pre>\n"
      ],
      "text/plain": [
       "  Step \u001b[1;36m550\u001b[0m: \u001b[32m✓\u001b[0m \u001b[35mSell\u001b[0m, 💰 \u001b[36m$\u001b[0m\u001b[1;36m117.81\u001b[0m, 📊 \u001b[32m$\u001b[0m\u001b[1;32m86895.49\u001b[0m, 🌟 \u001b[1;33m-0.0000\u001b[0m\n"
      ]
     },
     "metadata": {},
     "output_type": "display_data"
    },
    {
     "data": {
      "text/html": [
       "<pre style=\"white-space:pre;overflow-x:auto;line-height:normal;font-family:Menlo,'DejaVu Sans Mono',consolas,'Courier New',monospace\">  Step <span style=\"color: #008080; text-decoration-color: #008080; font-weight: bold\">600</span>: <span style=\"color: #008000; text-decoration-color: #008000\">✓</span> <span style=\"color: #800080; text-decoration-color: #800080\">Sell</span>, 💰 <span style=\"color: #008080; text-decoration-color: #008080\">$</span><span style=\"color: #008080; text-decoration-color: #008080; font-weight: bold\">114.25</span>, 📊 <span style=\"color: #008000; text-decoration-color: #008000\">$</span><span style=\"color: #008000; text-decoration-color: #008000; font-weight: bold\">84349.41</span>, 🌟 <span style=\"color: #808000; text-decoration-color: #808000; font-weight: bold\">-0.0000</span>\n",
       "</pre>\n"
      ],
      "text/plain": [
       "  Step \u001b[1;36m600\u001b[0m: \u001b[32m✓\u001b[0m \u001b[35mSell\u001b[0m, 💰 \u001b[36m$\u001b[0m\u001b[1;36m114.25\u001b[0m, 📊 \u001b[32m$\u001b[0m\u001b[1;32m84349.41\u001b[0m, 🌟 \u001b[1;33m-0.0000\u001b[0m\n"
      ]
     },
     "metadata": {},
     "output_type": "display_data"
    },
    {
     "data": {
      "text/html": [
       "<pre style=\"white-space:pre;overflow-x:auto;line-height:normal;font-family:Menlo,'DejaVu Sans Mono',consolas,'Courier New',monospace\">  Step <span style=\"color: #008080; text-decoration-color: #008080; font-weight: bold\">650</span>: <span style=\"color: #008000; text-decoration-color: #008000\">✓</span> <span style=\"color: #800080; text-decoration-color: #800080\">Sell</span>, 💰 <span style=\"color: #008080; text-decoration-color: #008080\">$</span><span style=\"color: #008080; text-decoration-color: #008080; font-weight: bold\">99.85</span>, 📊 <span style=\"color: #008000; text-decoration-color: #008000\">$</span><span style=\"color: #008000; text-decoration-color: #008000; font-weight: bold\">84335.02</span>, 🌟 <span style=\"color: #808000; text-decoration-color: #808000; font-weight: bold\">-0.0000</span>\n",
       "</pre>\n"
      ],
      "text/plain": [
       "  Step \u001b[1;36m650\u001b[0m: \u001b[32m✓\u001b[0m \u001b[35mSell\u001b[0m, 💰 \u001b[36m$\u001b[0m\u001b[1;36m99.85\u001b[0m, 📊 \u001b[32m$\u001b[0m\u001b[1;32m84335.02\u001b[0m, 🌟 \u001b[1;33m-0.0000\u001b[0m\n"
      ]
     },
     "metadata": {},
     "output_type": "display_data"
    },
    {
     "data": {
      "text/html": [
       "<pre style=\"white-space:pre;overflow-x:auto;line-height:normal;font-family:Menlo,'DejaVu Sans Mono',consolas,'Courier New',monospace\"><span style=\"color: #008000; text-decoration-color: #008000; font-weight: bold\">Episode </span><span style=\"color: #008000; text-decoration-color: #008000; font-weight: bold\">1</span><span style=\"color: #008000; text-decoration-color: #008000; font-weight: bold\"> Results:</span>\n",
       "</pre>\n"
      ],
      "text/plain": [
       "\u001b[1;32mEpisode \u001b[0m\u001b[1;32m1\u001b[0m\u001b[1;32m Results:\u001b[0m\n"
      ]
     },
     "metadata": {},
     "output_type": "display_data"
    },
    {
     "data": {
      "text/html": [
       "<pre style=\"white-space:pre;overflow-x:auto;line-height:normal;font-family:Menlo,'DejaVu Sans Mono',consolas,'Courier New',monospace\">  Total Steps: <span style=\"color: #008080; text-decoration-color: #008080; font-weight: bold\">680</span>\n",
       "</pre>\n"
      ],
      "text/plain": [
       "  Total Steps: \u001b[1;36m680\u001b[0m\n"
      ]
     },
     "metadata": {},
     "output_type": "display_data"
    },
    {
     "data": {
      "text/html": [
       "<pre style=\"white-space:pre;overflow-x:auto;line-height:normal;font-family:Menlo,'DejaVu Sans Mono',consolas,'Courier New',monospace\">  Initial Portfolio Value: <span style=\"color: #008000; text-decoration-color: #008000\">$</span><span style=\"color: #008000; text-decoration-color: #008000; font-weight: bold\">100000.00</span>\n",
       "</pre>\n"
      ],
      "text/plain": [
       "  Initial Portfolio Value: \u001b[32m$\u001b[0m\u001b[1;32m100000.00\u001b[0m\n"
      ]
     },
     "metadata": {},
     "output_type": "display_data"
    },
    {
     "data": {
      "text/html": [
       "<pre style=\"white-space:pre;overflow-x:auto;line-height:normal;font-family:Menlo,'DejaVu Sans Mono',consolas,'Courier New',monospace\">  Final Portfolio Value: <span style=\"color: #008000; text-decoration-color: #008000\">$</span><span style=\"color: #008000; text-decoration-color: #008000; font-weight: bold\">84339.27</span>\n",
       "</pre>\n"
      ],
      "text/plain": [
       "  Final Portfolio Value: \u001b[32m$\u001b[0m\u001b[1;32m84339.27\u001b[0m\n"
      ]
     },
     "metadata": {},
     "output_type": "display_data"
    },
    {
     "data": {
      "text/html": [
       "<pre style=\"white-space:pre;overflow-x:auto;line-height:normal;font-family:Menlo,'DejaVu Sans Mono',consolas,'Courier New',monospace\">  Total Return: <span style=\"color: #800000; text-decoration-color: #800000; font-weight: bold\">-15.66</span><span style=\"color: #800000; text-decoration-color: #800000\">%</span>\n",
       "</pre>\n"
      ],
      "text/plain": [
       "  Total Return: \u001b[1;31m-15.66\u001b[0m\u001b[31m%\u001b[0m\n"
      ]
     },
     "metadata": {},
     "output_type": "display_data"
    },
    {
     "data": {
      "text/html": [
       "<pre style=\"white-space:pre;overflow-x:auto;line-height:normal;font-family:Menlo,'DejaVu Sans Mono',consolas,'Courier New',monospace\">  Total Reward: <span style=\"color: #808000; text-decoration-color: #808000; font-weight: bold\">-38.64</span>\n",
       "</pre>\n"
      ],
      "text/plain": [
       "  Total Reward: \u001b[1;33m-38.64\u001b[0m\n"
      ]
     },
     "metadata": {},
     "output_type": "display_data"
    },
    {
     "data": {
      "text/html": [
       "<pre style=\"white-space:pre;overflow-x:auto;line-height:normal;font-family:Menlo,'DejaVu Sans Mono',consolas,'Courier New',monospace\"><span style=\"font-style: italic\">       Action Distribution       </span>\n",
       "┏━━━━━━━━━━┳━━━━━━━┳━━━━━━━━━━━━┓\n",
       "┃<span style=\"font-weight: bold\"> Action   </span>┃<span style=\"font-weight: bold\"> Count </span>┃<span style=\"font-weight: bold\"> Percentage </span>┃\n",
       "┡━━━━━━━━━━╇━━━━━━━╇━━━━━━━━━━━━┩\n",
       "│<span style=\"color: #008080; text-decoration-color: #008080\"> Sell     </span>│<span style=\"color: #008000; text-decoration-color: #008000\">   668 </span>│<span style=\"color: #808000; text-decoration-color: #808000\">      98.2% </span>│\n",
       "│<span style=\"color: #008080; text-decoration-color: #008080\"> LimitBuy </span>│<span style=\"color: #008000; text-decoration-color: #008000\">    11 </span>│<span style=\"color: #808000; text-decoration-color: #808000\">       1.6% </span>│\n",
       "│<span style=\"color: #008080; text-decoration-color: #008080\"> Buy      </span>│<span style=\"color: #008000; text-decoration-color: #008000\">     1 </span>│<span style=\"color: #808000; text-decoration-color: #808000\">       0.1% </span>│\n",
       "└──────────┴───────┴────────────┘\n",
       "</pre>\n"
      ],
      "text/plain": [
       "\u001b[3m       Action Distribution       \u001b[0m\n",
       "┏━━━━━━━━━━┳━━━━━━━┳━━━━━━━━━━━━┓\n",
       "┃\u001b[1m \u001b[0m\u001b[1mAction  \u001b[0m\u001b[1m \u001b[0m┃\u001b[1m \u001b[0m\u001b[1mCount\u001b[0m\u001b[1m \u001b[0m┃\u001b[1m \u001b[0m\u001b[1mPercentage\u001b[0m\u001b[1m \u001b[0m┃\n",
       "┡━━━━━━━━━━╇━━━━━━━╇━━━━━━━━━━━━┩\n",
       "│\u001b[36m \u001b[0m\u001b[36mSell    \u001b[0m\u001b[36m \u001b[0m│\u001b[32m \u001b[0m\u001b[32m  668\u001b[0m\u001b[32m \u001b[0m│\u001b[33m \u001b[0m\u001b[33m     98.2%\u001b[0m\u001b[33m \u001b[0m│\n",
       "│\u001b[36m \u001b[0m\u001b[36mLimitBuy\u001b[0m\u001b[36m \u001b[0m│\u001b[32m \u001b[0m\u001b[32m   11\u001b[0m\u001b[32m \u001b[0m│\u001b[33m \u001b[0m\u001b[33m      1.6%\u001b[0m\u001b[33m \u001b[0m│\n",
       "│\u001b[36m \u001b[0m\u001b[36mBuy     \u001b[0m\u001b[36m \u001b[0m│\u001b[32m \u001b[0m\u001b[32m    1\u001b[0m\u001b[32m \u001b[0m│\u001b[33m \u001b[0m\u001b[33m      0.1%\u001b[0m\u001b[33m \u001b[0m│\n",
       "└──────────┴───────┴────────────┘\n"
      ]
     },
     "metadata": {},
     "output_type": "display_data"
    },
    {
     "data": {
      "text/html": [
       "<pre style=\"white-space:pre;overflow-x:auto;line-height:normal;font-family:Menlo,'DejaVu Sans Mono',consolas,'Courier New',monospace\"><span style=\"color: #808000; text-decoration-color: #808000\">--- Episode </span><span style=\"color: #808000; text-decoration-color: #808000; font-weight: bold\">2</span><span style=\"color: #808000; text-decoration-color: #808000\">/</span><span style=\"color: #808000; text-decoration-color: #808000; font-weight: bold\">3</span><span style=\"color: #808000; text-decoration-color: #808000\"> ---</span>\n",
       "</pre>\n"
      ],
      "text/plain": [
       "\u001b[33m--- Episode \u001b[0m\u001b[1;33m2\u001b[0m\u001b[33m/\u001b[0m\u001b[1;33m3\u001b[0m\u001b[33m ---\u001b[0m\n"
      ]
     },
     "metadata": {},
     "output_type": "display_data"
    },
    {
     "data": {
      "text/html": [
       "<pre style=\"white-space:pre;overflow-x:auto;line-height:normal;font-family:Menlo,'DejaVu Sans Mono',consolas,'Courier New',monospace\">  Step <span style=\"color: #008080; text-decoration-color: #008080; font-weight: bold\">0</span>: <span style=\"color: #800000; text-decoration-color: #800000\">✗</span> <span style=\"color: #800080; text-decoration-color: #800080\">Sell</span>, 💰 <span style=\"color: #008080; text-decoration-color: #008080\">$</span><span style=\"color: #008080; text-decoration-color: #008080; font-weight: bold\">93.30</span>, 📊 <span style=\"color: #008000; text-decoration-color: #008000\">$</span><span style=\"color: #008000; text-decoration-color: #008000; font-weight: bold\">100000.00</span>, 🌟 <span style=\"color: #808000; text-decoration-color: #808000; font-weight: bold\">-2.0000</span>\n",
       "</pre>\n"
      ],
      "text/plain": [
       "  Step \u001b[1;36m0\u001b[0m: \u001b[31m✗\u001b[0m \u001b[35mSell\u001b[0m, 💰 \u001b[36m$\u001b[0m\u001b[1;36m93.30\u001b[0m, 📊 \u001b[32m$\u001b[0m\u001b[1;32m100000.00\u001b[0m, 🌟 \u001b[1;33m-2.0000\u001b[0m\n"
      ]
     },
     "metadata": {},
     "output_type": "display_data"
    },
    {
     "data": {
      "text/html": [
       "<pre style=\"white-space:pre;overflow-x:auto;line-height:normal;font-family:Menlo,'DejaVu Sans Mono',consolas,'Courier New',monospace\">  Step <span style=\"color: #008080; text-decoration-color: #008080; font-weight: bold\">50</span>: <span style=\"color: #008000; text-decoration-color: #008000\">✓</span> <span style=\"color: #800080; text-decoration-color: #800080\">Sell</span>, 💰 <span style=\"color: #008080; text-decoration-color: #008080\">$</span><span style=\"color: #008080; text-decoration-color: #008080; font-weight: bold\">67.71</span>, 📊 <span style=\"color: #008000; text-decoration-color: #008000\">$</span><span style=\"color: #008000; text-decoration-color: #008000; font-weight: bold\">96761.33</span>, 🌟 <span style=\"color: #808000; text-decoration-color: #808000; font-weight: bold\">0.0000</span>\n",
       "</pre>\n"
      ],
      "text/plain": [
       "  Step \u001b[1;36m50\u001b[0m: \u001b[32m✓\u001b[0m \u001b[35mSell\u001b[0m, 💰 \u001b[36m$\u001b[0m\u001b[1;36m67.71\u001b[0m, 📊 \u001b[32m$\u001b[0m\u001b[1;32m96761.33\u001b[0m, 🌟 \u001b[1;33m0.0000\u001b[0m\n"
      ]
     },
     "metadata": {},
     "output_type": "display_data"
    },
    {
     "data": {
      "text/html": [
       "<pre style=\"white-space:pre;overflow-x:auto;line-height:normal;font-family:Menlo,'DejaVu Sans Mono',consolas,'Courier New',monospace\">  Step <span style=\"color: #008080; text-decoration-color: #008080; font-weight: bold\">100</span>: <span style=\"color: #008000; text-decoration-color: #008000\">✓</span> <span style=\"color: #800080; text-decoration-color: #800080\">Sell</span>, 💰 <span style=\"color: #008080; text-decoration-color: #008080\">$</span><span style=\"color: #008080; text-decoration-color: #008080; font-weight: bold\">59.66</span>, 📊 <span style=\"color: #008000; text-decoration-color: #008000\">$</span><span style=\"color: #008000; text-decoration-color: #008000; font-weight: bold\">95019.34</span>, 🌟 <span style=\"color: #808000; text-decoration-color: #808000; font-weight: bold\">-0.0000</span>\n",
       "</pre>\n"
      ],
      "text/plain": [
       "  Step \u001b[1;36m100\u001b[0m: \u001b[32m✓\u001b[0m \u001b[35mSell\u001b[0m, 💰 \u001b[36m$\u001b[0m\u001b[1;36m59.66\u001b[0m, 📊 \u001b[32m$\u001b[0m\u001b[1;32m95019.34\u001b[0m, 🌟 \u001b[1;33m-0.0000\u001b[0m\n"
      ]
     },
     "metadata": {},
     "output_type": "display_data"
    },
    {
     "data": {
      "text/html": [
       "<pre style=\"white-space:pre;overflow-x:auto;line-height:normal;font-family:Menlo,'DejaVu Sans Mono',consolas,'Courier New',monospace\">  Step <span style=\"color: #008080; text-decoration-color: #008080; font-weight: bold\">150</span>: <span style=\"color: #008000; text-decoration-color: #008000\">✓</span> <span style=\"color: #800080; text-decoration-color: #800080\">Sell</span>, 💰 <span style=\"color: #008080; text-decoration-color: #008080\">$</span><span style=\"color: #008080; text-decoration-color: #008080; font-weight: bold\">54.73</span>, 📊 <span style=\"color: #008000; text-decoration-color: #008000\">$</span><span style=\"color: #008000; text-decoration-color: #008000; font-weight: bold\">91576.45</span>, 🌟 <span style=\"color: #808000; text-decoration-color: #808000; font-weight: bold\">0.0000</span>\n",
       "</pre>\n"
      ],
      "text/plain": [
       "  Step \u001b[1;36m150\u001b[0m: \u001b[32m✓\u001b[0m \u001b[35mSell\u001b[0m, 💰 \u001b[36m$\u001b[0m\u001b[1;36m54.73\u001b[0m, 📊 \u001b[32m$\u001b[0m\u001b[1;32m91576.45\u001b[0m, 🌟 \u001b[1;33m0.0000\u001b[0m\n"
      ]
     },
     "metadata": {},
     "output_type": "display_data"
    },
    {
     "data": {
      "text/html": [
       "<pre style=\"white-space:pre;overflow-x:auto;line-height:normal;font-family:Menlo,'DejaVu Sans Mono',consolas,'Courier New',monospace\">  Step <span style=\"color: #008080; text-decoration-color: #008080; font-weight: bold\">200</span>: <span style=\"color: #008000; text-decoration-color: #008000\">✓</span> <span style=\"color: #800080; text-decoration-color: #800080\">Sell</span>, 💰 <span style=\"color: #008080; text-decoration-color: #008080\">$</span><span style=\"color: #008080; text-decoration-color: #008080; font-weight: bold\">52.04</span>, 📊 <span style=\"color: #008000; text-decoration-color: #008000\">$</span><span style=\"color: #008000; text-decoration-color: #008000; font-weight: bold\">88899.83</span>, 🌟 <span style=\"color: #808000; text-decoration-color: #808000; font-weight: bold\">-0.0000</span>\n",
       "</pre>\n"
      ],
      "text/plain": [
       "  Step \u001b[1;36m200\u001b[0m: \u001b[32m✓\u001b[0m \u001b[35mSell\u001b[0m, 💰 \u001b[36m$\u001b[0m\u001b[1;36m52.04\u001b[0m, 📊 \u001b[32m$\u001b[0m\u001b[1;32m88899.83\u001b[0m, 🌟 \u001b[1;33m-0.0000\u001b[0m\n"
      ]
     },
     "metadata": {},
     "output_type": "display_data"
    },
    {
     "data": {
      "text/html": [
       "<pre style=\"white-space:pre;overflow-x:auto;line-height:normal;font-family:Menlo,'DejaVu Sans Mono',consolas,'Courier New',monospace\">  Step <span style=\"color: #008080; text-decoration-color: #008080; font-weight: bold\">250</span>: <span style=\"color: #008000; text-decoration-color: #008000\">✓</span> <span style=\"color: #800080; text-decoration-color: #800080\">Sell</span>, 💰 <span style=\"color: #008080; text-decoration-color: #008080\">$</span><span style=\"color: #008080; text-decoration-color: #008080; font-weight: bold\">57.34</span>, 📊 <span style=\"color: #008000; text-decoration-color: #008000\">$</span><span style=\"color: #008000; text-decoration-color: #008000; font-weight: bold\">88905.13</span>, 🌟 <span style=\"color: #808000; text-decoration-color: #808000; font-weight: bold\">-0.0000</span>\n",
       "</pre>\n"
      ],
      "text/plain": [
       "  Step \u001b[1;36m250\u001b[0m: \u001b[32m✓\u001b[0m \u001b[35mSell\u001b[0m, 💰 \u001b[36m$\u001b[0m\u001b[1;36m57.34\u001b[0m, 📊 \u001b[32m$\u001b[0m\u001b[1;32m88905.13\u001b[0m, 🌟 \u001b[1;33m-0.0000\u001b[0m\n"
      ]
     },
     "metadata": {},
     "output_type": "display_data"
    },
    {
     "data": {
      "text/html": [
       "<pre style=\"white-space:pre;overflow-x:auto;line-height:normal;font-family:Menlo,'DejaVu Sans Mono',consolas,'Courier New',monospace\">  Step <span style=\"color: #008080; text-decoration-color: #008080; font-weight: bold\">300</span>: <span style=\"color: #008000; text-decoration-color: #008000\">✓</span> <span style=\"color: #800080; text-decoration-color: #800080\">Sell</span>, 💰 <span style=\"color: #008080; text-decoration-color: #008080\">$</span><span style=\"color: #008080; text-decoration-color: #008080; font-weight: bold\">61.61</span>, 📊 <span style=\"color: #008000; text-decoration-color: #008000\">$</span><span style=\"color: #008000; text-decoration-color: #008000; font-weight: bold\">88909.40</span>, 🌟 <span style=\"color: #808000; text-decoration-color: #808000; font-weight: bold\">0.0000</span>\n",
       "</pre>\n"
      ],
      "text/plain": [
       "  Step \u001b[1;36m300\u001b[0m: \u001b[32m✓\u001b[0m \u001b[35mSell\u001b[0m, 💰 \u001b[36m$\u001b[0m\u001b[1;36m61.61\u001b[0m, 📊 \u001b[32m$\u001b[0m\u001b[1;32m88909.40\u001b[0m, 🌟 \u001b[1;33m0.0000\u001b[0m\n"
      ]
     },
     "metadata": {},
     "output_type": "display_data"
    },
    {
     "data": {
      "text/html": [
       "<pre style=\"white-space:pre;overflow-x:auto;line-height:normal;font-family:Menlo,'DejaVu Sans Mono',consolas,'Courier New',monospace\">  Step <span style=\"color: #008080; text-decoration-color: #008080; font-weight: bold\">350</span>: <span style=\"color: #008000; text-decoration-color: #008000\">✓</span> <span style=\"color: #800080; text-decoration-color: #800080\">Sell</span>, 💰 <span style=\"color: #008080; text-decoration-color: #008080\">$</span><span style=\"color: #008080; text-decoration-color: #008080; font-weight: bold\">65.68</span>, 📊 <span style=\"color: #008000; text-decoration-color: #008000\">$</span><span style=\"color: #008000; text-decoration-color: #008000; font-weight: bold\">88913.47</span>, 🌟 <span style=\"color: #808000; text-decoration-color: #808000; font-weight: bold\">0.0000</span>\n",
       "</pre>\n"
      ],
      "text/plain": [
       "  Step \u001b[1;36m350\u001b[0m: \u001b[32m✓\u001b[0m \u001b[35mSell\u001b[0m, 💰 \u001b[36m$\u001b[0m\u001b[1;36m65.68\u001b[0m, 📊 \u001b[32m$\u001b[0m\u001b[1;32m88913.47\u001b[0m, 🌟 \u001b[1;33m0.0000\u001b[0m\n"
      ]
     },
     "metadata": {},
     "output_type": "display_data"
    },
    {
     "data": {
      "text/html": [
       "<pre style=\"white-space:pre;overflow-x:auto;line-height:normal;font-family:Menlo,'DejaVu Sans Mono',consolas,'Courier New',monospace\">  Step <span style=\"color: #008080; text-decoration-color: #008080; font-weight: bold\">400</span>: <span style=\"color: #008000; text-decoration-color: #008000\">✓</span> <span style=\"color: #800080; text-decoration-color: #800080\">Sell</span>, 💰 <span style=\"color: #008080; text-decoration-color: #008080\">$</span><span style=\"color: #008080; text-decoration-color: #008080; font-weight: bold\">68.11</span>, 📊 <span style=\"color: #008000; text-decoration-color: #008000\">$</span><span style=\"color: #008000; text-decoration-color: #008000; font-weight: bold\">87308.71</span>, 🌟 <span style=\"color: #808000; text-decoration-color: #808000; font-weight: bold\">0.0000</span>\n",
       "</pre>\n"
      ],
      "text/plain": [
       "  Step \u001b[1;36m400\u001b[0m: \u001b[32m✓\u001b[0m \u001b[35mSell\u001b[0m, 💰 \u001b[36m$\u001b[0m\u001b[1;36m68.11\u001b[0m, 📊 \u001b[32m$\u001b[0m\u001b[1;32m87308.71\u001b[0m, 🌟 \u001b[1;33m0.0000\u001b[0m\n"
      ]
     },
     "metadata": {},
     "output_type": "display_data"
    },
    {
     "data": {
      "text/html": [
       "<pre style=\"white-space:pre;overflow-x:auto;line-height:normal;font-family:Menlo,'DejaVu Sans Mono',consolas,'Courier New',monospace\">  Step <span style=\"color: #008080; text-decoration-color: #008080; font-weight: bold\">450</span>: <span style=\"color: #008000; text-decoration-color: #008000\">✓</span> <span style=\"color: #800080; text-decoration-color: #800080\">Sell</span>, 💰 <span style=\"color: #008080; text-decoration-color: #008080\">$</span><span style=\"color: #008080; text-decoration-color: #008080; font-weight: bold\">82.19</span>, 📊 <span style=\"color: #008000; text-decoration-color: #008000\">$</span><span style=\"color: #008000; text-decoration-color: #008000; font-weight: bold\">87227.26</span>, 🌟 <span style=\"color: #808000; text-decoration-color: #808000; font-weight: bold\">0.0000</span>\n",
       "</pre>\n"
      ],
      "text/plain": [
       "  Step \u001b[1;36m450\u001b[0m: \u001b[32m✓\u001b[0m \u001b[35mSell\u001b[0m, 💰 \u001b[36m$\u001b[0m\u001b[1;36m82.19\u001b[0m, 📊 \u001b[32m$\u001b[0m\u001b[1;32m87227.26\u001b[0m, 🌟 \u001b[1;33m0.0000\u001b[0m\n"
      ]
     },
     "metadata": {},
     "output_type": "display_data"
    },
    {
     "data": {
      "text/html": [
       "<pre style=\"white-space:pre;overflow-x:auto;line-height:normal;font-family:Menlo,'DejaVu Sans Mono',consolas,'Courier New',monospace\">  Step <span style=\"color: #008080; text-decoration-color: #008080; font-weight: bold\">500</span>: <span style=\"color: #008000; text-decoration-color: #008000\">✓</span> <span style=\"color: #800080; text-decoration-color: #800080\">LimitBuy</span>, 💰 <span style=\"color: #008080; text-decoration-color: #008080\">$</span><span style=\"color: #008080; text-decoration-color: #008080; font-weight: bold\">89.71</span>, 📊 <span style=\"color: #008000; text-decoration-color: #008000\">$</span><span style=\"color: #008000; text-decoration-color: #008000; font-weight: bold\">35403.50</span>, 🌟 <span style=\"color: #808000; text-decoration-color: #808000; font-weight: bold\">-0.6184</span>\n",
       "</pre>\n"
      ],
      "text/plain": [
       "  Step \u001b[1;36m500\u001b[0m: \u001b[32m✓\u001b[0m \u001b[35mLimitBuy\u001b[0m, 💰 \u001b[36m$\u001b[0m\u001b[1;36m89.71\u001b[0m, 📊 \u001b[32m$\u001b[0m\u001b[1;32m35403.50\u001b[0m, 🌟 \u001b[1;33m-0.6184\u001b[0m\n"
      ]
     },
     "metadata": {},
     "output_type": "display_data"
    },
    {
     "data": {
      "text/html": [
       "<pre style=\"white-space:pre;overflow-x:auto;line-height:normal;font-family:Menlo,'DejaVu Sans Mono',consolas,'Courier New',monospace\">  Step <span style=\"color: #008080; text-decoration-color: #008080; font-weight: bold\">550</span>: <span style=\"color: #008000; text-decoration-color: #008000\">✓</span> <span style=\"color: #800080; text-decoration-color: #800080\">Sell</span>, 💰 <span style=\"color: #008080; text-decoration-color: #008080\">$</span><span style=\"color: #008080; text-decoration-color: #008080; font-weight: bold\">117.81</span>, 📊 <span style=\"color: #008000; text-decoration-color: #008000\">$</span><span style=\"color: #008000; text-decoration-color: #008000; font-weight: bold\">86895.49</span>, 🌟 <span style=\"color: #808000; text-decoration-color: #808000; font-weight: bold\">-0.0000</span>\n",
       "</pre>\n"
      ],
      "text/plain": [
       "  Step \u001b[1;36m550\u001b[0m: \u001b[32m✓\u001b[0m \u001b[35mSell\u001b[0m, 💰 \u001b[36m$\u001b[0m\u001b[1;36m117.81\u001b[0m, 📊 \u001b[32m$\u001b[0m\u001b[1;32m86895.49\u001b[0m, 🌟 \u001b[1;33m-0.0000\u001b[0m\n"
      ]
     },
     "metadata": {},
     "output_type": "display_data"
    },
    {
     "data": {
      "text/html": [
       "<pre style=\"white-space:pre;overflow-x:auto;line-height:normal;font-family:Menlo,'DejaVu Sans Mono',consolas,'Courier New',monospace\">  Step <span style=\"color: #008080; text-decoration-color: #008080; font-weight: bold\">600</span>: <span style=\"color: #008000; text-decoration-color: #008000\">✓</span> <span style=\"color: #800080; text-decoration-color: #800080\">Sell</span>, 💰 <span style=\"color: #008080; text-decoration-color: #008080\">$</span><span style=\"color: #008080; text-decoration-color: #008080; font-weight: bold\">114.25</span>, 📊 <span style=\"color: #008000; text-decoration-color: #008000\">$</span><span style=\"color: #008000; text-decoration-color: #008000; font-weight: bold\">84349.41</span>, 🌟 <span style=\"color: #808000; text-decoration-color: #808000; font-weight: bold\">-0.0000</span>\n",
       "</pre>\n"
      ],
      "text/plain": [
       "  Step \u001b[1;36m600\u001b[0m: \u001b[32m✓\u001b[0m \u001b[35mSell\u001b[0m, 💰 \u001b[36m$\u001b[0m\u001b[1;36m114.25\u001b[0m, 📊 \u001b[32m$\u001b[0m\u001b[1;32m84349.41\u001b[0m, 🌟 \u001b[1;33m-0.0000\u001b[0m\n"
      ]
     },
     "metadata": {},
     "output_type": "display_data"
    },
    {
     "data": {
      "text/html": [
       "<pre style=\"white-space:pre;overflow-x:auto;line-height:normal;font-family:Menlo,'DejaVu Sans Mono',consolas,'Courier New',monospace\">  Step <span style=\"color: #008080; text-decoration-color: #008080; font-weight: bold\">650</span>: <span style=\"color: #008000; text-decoration-color: #008000\">✓</span> <span style=\"color: #800080; text-decoration-color: #800080\">Sell</span>, 💰 <span style=\"color: #008080; text-decoration-color: #008080\">$</span><span style=\"color: #008080; text-decoration-color: #008080; font-weight: bold\">99.85</span>, 📊 <span style=\"color: #008000; text-decoration-color: #008000\">$</span><span style=\"color: #008000; text-decoration-color: #008000; font-weight: bold\">84335.02</span>, 🌟 <span style=\"color: #808000; text-decoration-color: #808000; font-weight: bold\">-0.0000</span>\n",
       "</pre>\n"
      ],
      "text/plain": [
       "  Step \u001b[1;36m650\u001b[0m: \u001b[32m✓\u001b[0m \u001b[35mSell\u001b[0m, 💰 \u001b[36m$\u001b[0m\u001b[1;36m99.85\u001b[0m, 📊 \u001b[32m$\u001b[0m\u001b[1;32m84335.02\u001b[0m, 🌟 \u001b[1;33m-0.0000\u001b[0m\n"
      ]
     },
     "metadata": {},
     "output_type": "display_data"
    },
    {
     "data": {
      "text/html": [
       "<pre style=\"white-space:pre;overflow-x:auto;line-height:normal;font-family:Menlo,'DejaVu Sans Mono',consolas,'Courier New',monospace\"><span style=\"color: #008000; text-decoration-color: #008000; font-weight: bold\">Episode </span><span style=\"color: #008000; text-decoration-color: #008000; font-weight: bold\">2</span><span style=\"color: #008000; text-decoration-color: #008000; font-weight: bold\"> Results:</span>\n",
       "</pre>\n"
      ],
      "text/plain": [
       "\u001b[1;32mEpisode \u001b[0m\u001b[1;32m2\u001b[0m\u001b[1;32m Results:\u001b[0m\n"
      ]
     },
     "metadata": {},
     "output_type": "display_data"
    },
    {
     "data": {
      "text/html": [
       "<pre style=\"white-space:pre;overflow-x:auto;line-height:normal;font-family:Menlo,'DejaVu Sans Mono',consolas,'Courier New',monospace\">  Total Steps: <span style=\"color: #008080; text-decoration-color: #008080; font-weight: bold\">680</span>\n",
       "</pre>\n"
      ],
      "text/plain": [
       "  Total Steps: \u001b[1;36m680\u001b[0m\n"
      ]
     },
     "metadata": {},
     "output_type": "display_data"
    },
    {
     "data": {
      "text/html": [
       "<pre style=\"white-space:pre;overflow-x:auto;line-height:normal;font-family:Menlo,'DejaVu Sans Mono',consolas,'Courier New',monospace\">  Initial Portfolio Value: <span style=\"color: #008000; text-decoration-color: #008000\">$</span><span style=\"color: #008000; text-decoration-color: #008000; font-weight: bold\">100000.00</span>\n",
       "</pre>\n"
      ],
      "text/plain": [
       "  Initial Portfolio Value: \u001b[32m$\u001b[0m\u001b[1;32m100000.00\u001b[0m\n"
      ]
     },
     "metadata": {},
     "output_type": "display_data"
    },
    {
     "data": {
      "text/html": [
       "<pre style=\"white-space:pre;overflow-x:auto;line-height:normal;font-family:Menlo,'DejaVu Sans Mono',consolas,'Courier New',monospace\">  Final Portfolio Value: <span style=\"color: #008000; text-decoration-color: #008000\">$</span><span style=\"color: #008000; text-decoration-color: #008000; font-weight: bold\">84339.27</span>\n",
       "</pre>\n"
      ],
      "text/plain": [
       "  Final Portfolio Value: \u001b[32m$\u001b[0m\u001b[1;32m84339.27\u001b[0m\n"
      ]
     },
     "metadata": {},
     "output_type": "display_data"
    },
    {
     "data": {
      "text/html": [
       "<pre style=\"white-space:pre;overflow-x:auto;line-height:normal;font-family:Menlo,'DejaVu Sans Mono',consolas,'Courier New',monospace\">  Total Return: <span style=\"color: #800000; text-decoration-color: #800000; font-weight: bold\">-15.66</span><span style=\"color: #800000; text-decoration-color: #800000\">%</span>\n",
       "</pre>\n"
      ],
      "text/plain": [
       "  Total Return: \u001b[1;31m-15.66\u001b[0m\u001b[31m%\u001b[0m\n"
      ]
     },
     "metadata": {},
     "output_type": "display_data"
    },
    {
     "data": {
      "text/html": [
       "<pre style=\"white-space:pre;overflow-x:auto;line-height:normal;font-family:Menlo,'DejaVu Sans Mono',consolas,'Courier New',monospace\">  Total Reward: <span style=\"color: #808000; text-decoration-color: #808000; font-weight: bold\">-38.64</span>\n",
       "</pre>\n"
      ],
      "text/plain": [
       "  Total Reward: \u001b[1;33m-38.64\u001b[0m\n"
      ]
     },
     "metadata": {},
     "output_type": "display_data"
    },
    {
     "data": {
      "text/html": [
       "<pre style=\"white-space:pre;overflow-x:auto;line-height:normal;font-family:Menlo,'DejaVu Sans Mono',consolas,'Courier New',monospace\"><span style=\"font-style: italic\">       Action Distribution       </span>\n",
       "┏━━━━━━━━━━┳━━━━━━━┳━━━━━━━━━━━━┓\n",
       "┃<span style=\"font-weight: bold\"> Action   </span>┃<span style=\"font-weight: bold\"> Count </span>┃<span style=\"font-weight: bold\"> Percentage </span>┃\n",
       "┡━━━━━━━━━━╇━━━━━━━╇━━━━━━━━━━━━┩\n",
       "│<span style=\"color: #008080; text-decoration-color: #008080\"> Sell     </span>│<span style=\"color: #008000; text-decoration-color: #008000\">   668 </span>│<span style=\"color: #808000; text-decoration-color: #808000\">      98.2% </span>│\n",
       "│<span style=\"color: #008080; text-decoration-color: #008080\"> LimitBuy </span>│<span style=\"color: #008000; text-decoration-color: #008000\">    11 </span>│<span style=\"color: #808000; text-decoration-color: #808000\">       1.6% </span>│\n",
       "│<span style=\"color: #008080; text-decoration-color: #008080\"> Buy      </span>│<span style=\"color: #008000; text-decoration-color: #008000\">     1 </span>│<span style=\"color: #808000; text-decoration-color: #808000\">       0.1% </span>│\n",
       "└──────────┴───────┴────────────┘\n",
       "</pre>\n"
      ],
      "text/plain": [
       "\u001b[3m       Action Distribution       \u001b[0m\n",
       "┏━━━━━━━━━━┳━━━━━━━┳━━━━━━━━━━━━┓\n",
       "┃\u001b[1m \u001b[0m\u001b[1mAction  \u001b[0m\u001b[1m \u001b[0m┃\u001b[1m \u001b[0m\u001b[1mCount\u001b[0m\u001b[1m \u001b[0m┃\u001b[1m \u001b[0m\u001b[1mPercentage\u001b[0m\u001b[1m \u001b[0m┃\n",
       "┡━━━━━━━━━━╇━━━━━━━╇━━━━━━━━━━━━┩\n",
       "│\u001b[36m \u001b[0m\u001b[36mSell    \u001b[0m\u001b[36m \u001b[0m│\u001b[32m \u001b[0m\u001b[32m  668\u001b[0m\u001b[32m \u001b[0m│\u001b[33m \u001b[0m\u001b[33m     98.2%\u001b[0m\u001b[33m \u001b[0m│\n",
       "│\u001b[36m \u001b[0m\u001b[36mLimitBuy\u001b[0m\u001b[36m \u001b[0m│\u001b[32m \u001b[0m\u001b[32m   11\u001b[0m\u001b[32m \u001b[0m│\u001b[33m \u001b[0m\u001b[33m      1.6%\u001b[0m\u001b[33m \u001b[0m│\n",
       "│\u001b[36m \u001b[0m\u001b[36mBuy     \u001b[0m\u001b[36m \u001b[0m│\u001b[32m \u001b[0m\u001b[32m    1\u001b[0m\u001b[32m \u001b[0m│\u001b[33m \u001b[0m\u001b[33m      0.1%\u001b[0m\u001b[33m \u001b[0m│\n",
       "└──────────┴───────┴────────────┘\n"
      ]
     },
     "metadata": {},
     "output_type": "display_data"
    },
    {
     "data": {
      "text/html": [
       "<pre style=\"white-space:pre;overflow-x:auto;line-height:normal;font-family:Menlo,'DejaVu Sans Mono',consolas,'Courier New',monospace\"><span style=\"color: #808000; text-decoration-color: #808000\">--- Episode </span><span style=\"color: #808000; text-decoration-color: #808000; font-weight: bold\">3</span><span style=\"color: #808000; text-decoration-color: #808000\">/</span><span style=\"color: #808000; text-decoration-color: #808000; font-weight: bold\">3</span><span style=\"color: #808000; text-decoration-color: #808000\"> ---</span>\n",
       "</pre>\n"
      ],
      "text/plain": [
       "\u001b[33m--- Episode \u001b[0m\u001b[1;33m3\u001b[0m\u001b[33m/\u001b[0m\u001b[1;33m3\u001b[0m\u001b[33m ---\u001b[0m\n"
      ]
     },
     "metadata": {},
     "output_type": "display_data"
    },
    {
     "data": {
      "text/html": [
       "<pre style=\"white-space:pre;overflow-x:auto;line-height:normal;font-family:Menlo,'DejaVu Sans Mono',consolas,'Courier New',monospace\">  Step <span style=\"color: #008080; text-decoration-color: #008080; font-weight: bold\">0</span>: <span style=\"color: #800000; text-decoration-color: #800000\">✗</span> <span style=\"color: #800080; text-decoration-color: #800080\">Sell</span>, 💰 <span style=\"color: #008080; text-decoration-color: #008080\">$</span><span style=\"color: #008080; text-decoration-color: #008080; font-weight: bold\">93.30</span>, 📊 <span style=\"color: #008000; text-decoration-color: #008000\">$</span><span style=\"color: #008000; text-decoration-color: #008000; font-weight: bold\">100000.00</span>, 🌟 <span style=\"color: #808000; text-decoration-color: #808000; font-weight: bold\">-2.0000</span>\n",
       "</pre>\n"
      ],
      "text/plain": [
       "  Step \u001b[1;36m0\u001b[0m: \u001b[31m✗\u001b[0m \u001b[35mSell\u001b[0m, 💰 \u001b[36m$\u001b[0m\u001b[1;36m93.30\u001b[0m, 📊 \u001b[32m$\u001b[0m\u001b[1;32m100000.00\u001b[0m, 🌟 \u001b[1;33m-2.0000\u001b[0m\n"
      ]
     },
     "metadata": {},
     "output_type": "display_data"
    },
    {
     "data": {
      "text/html": [
       "<pre style=\"white-space:pre;overflow-x:auto;line-height:normal;font-family:Menlo,'DejaVu Sans Mono',consolas,'Courier New',monospace\">  Step <span style=\"color: #008080; text-decoration-color: #008080; font-weight: bold\">50</span>: <span style=\"color: #008000; text-decoration-color: #008000\">✓</span> <span style=\"color: #800080; text-decoration-color: #800080\">Sell</span>, 💰 <span style=\"color: #008080; text-decoration-color: #008080\">$</span><span style=\"color: #008080; text-decoration-color: #008080; font-weight: bold\">67.71</span>, 📊 <span style=\"color: #008000; text-decoration-color: #008000\">$</span><span style=\"color: #008000; text-decoration-color: #008000; font-weight: bold\">96761.33</span>, 🌟 <span style=\"color: #808000; text-decoration-color: #808000; font-weight: bold\">0.0000</span>\n",
       "</pre>\n"
      ],
      "text/plain": [
       "  Step \u001b[1;36m50\u001b[0m: \u001b[32m✓\u001b[0m \u001b[35mSell\u001b[0m, 💰 \u001b[36m$\u001b[0m\u001b[1;36m67.71\u001b[0m, 📊 \u001b[32m$\u001b[0m\u001b[1;32m96761.33\u001b[0m, 🌟 \u001b[1;33m0.0000\u001b[0m\n"
      ]
     },
     "metadata": {},
     "output_type": "display_data"
    },
    {
     "data": {
      "text/html": [
       "<pre style=\"white-space:pre;overflow-x:auto;line-height:normal;font-family:Menlo,'DejaVu Sans Mono',consolas,'Courier New',monospace\">  Step <span style=\"color: #008080; text-decoration-color: #008080; font-weight: bold\">100</span>: <span style=\"color: #008000; text-decoration-color: #008000\">✓</span> <span style=\"color: #800080; text-decoration-color: #800080\">Sell</span>, 💰 <span style=\"color: #008080; text-decoration-color: #008080\">$</span><span style=\"color: #008080; text-decoration-color: #008080; font-weight: bold\">59.66</span>, 📊 <span style=\"color: #008000; text-decoration-color: #008000\">$</span><span style=\"color: #008000; text-decoration-color: #008000; font-weight: bold\">95019.34</span>, 🌟 <span style=\"color: #808000; text-decoration-color: #808000; font-weight: bold\">-0.0000</span>\n",
       "</pre>\n"
      ],
      "text/plain": [
       "  Step \u001b[1;36m100\u001b[0m: \u001b[32m✓\u001b[0m \u001b[35mSell\u001b[0m, 💰 \u001b[36m$\u001b[0m\u001b[1;36m59.66\u001b[0m, 📊 \u001b[32m$\u001b[0m\u001b[1;32m95019.34\u001b[0m, 🌟 \u001b[1;33m-0.0000\u001b[0m\n"
      ]
     },
     "metadata": {},
     "output_type": "display_data"
    },
    {
     "data": {
      "text/html": [
       "<pre style=\"white-space:pre;overflow-x:auto;line-height:normal;font-family:Menlo,'DejaVu Sans Mono',consolas,'Courier New',monospace\">  Step <span style=\"color: #008080; text-decoration-color: #008080; font-weight: bold\">150</span>: <span style=\"color: #008000; text-decoration-color: #008000\">✓</span> <span style=\"color: #800080; text-decoration-color: #800080\">Sell</span>, 💰 <span style=\"color: #008080; text-decoration-color: #008080\">$</span><span style=\"color: #008080; text-decoration-color: #008080; font-weight: bold\">54.73</span>, 📊 <span style=\"color: #008000; text-decoration-color: #008000\">$</span><span style=\"color: #008000; text-decoration-color: #008000; font-weight: bold\">91576.45</span>, 🌟 <span style=\"color: #808000; text-decoration-color: #808000; font-weight: bold\">0.0000</span>\n",
       "</pre>\n"
      ],
      "text/plain": [
       "  Step \u001b[1;36m150\u001b[0m: \u001b[32m✓\u001b[0m \u001b[35mSell\u001b[0m, 💰 \u001b[36m$\u001b[0m\u001b[1;36m54.73\u001b[0m, 📊 \u001b[32m$\u001b[0m\u001b[1;32m91576.45\u001b[0m, 🌟 \u001b[1;33m0.0000\u001b[0m\n"
      ]
     },
     "metadata": {},
     "output_type": "display_data"
    },
    {
     "data": {
      "text/html": [
       "<pre style=\"white-space:pre;overflow-x:auto;line-height:normal;font-family:Menlo,'DejaVu Sans Mono',consolas,'Courier New',monospace\">  Step <span style=\"color: #008080; text-decoration-color: #008080; font-weight: bold\">200</span>: <span style=\"color: #008000; text-decoration-color: #008000\">✓</span> <span style=\"color: #800080; text-decoration-color: #800080\">Sell</span>, 💰 <span style=\"color: #008080; text-decoration-color: #008080\">$</span><span style=\"color: #008080; text-decoration-color: #008080; font-weight: bold\">52.04</span>, 📊 <span style=\"color: #008000; text-decoration-color: #008000\">$</span><span style=\"color: #008000; text-decoration-color: #008000; font-weight: bold\">88899.83</span>, 🌟 <span style=\"color: #808000; text-decoration-color: #808000; font-weight: bold\">-0.0000</span>\n",
       "</pre>\n"
      ],
      "text/plain": [
       "  Step \u001b[1;36m200\u001b[0m: \u001b[32m✓\u001b[0m \u001b[35mSell\u001b[0m, 💰 \u001b[36m$\u001b[0m\u001b[1;36m52.04\u001b[0m, 📊 \u001b[32m$\u001b[0m\u001b[1;32m88899.83\u001b[0m, 🌟 \u001b[1;33m-0.0000\u001b[0m\n"
      ]
     },
     "metadata": {},
     "output_type": "display_data"
    },
    {
     "data": {
      "text/html": [
       "<pre style=\"white-space:pre;overflow-x:auto;line-height:normal;font-family:Menlo,'DejaVu Sans Mono',consolas,'Courier New',monospace\">  Step <span style=\"color: #008080; text-decoration-color: #008080; font-weight: bold\">250</span>: <span style=\"color: #008000; text-decoration-color: #008000\">✓</span> <span style=\"color: #800080; text-decoration-color: #800080\">Sell</span>, 💰 <span style=\"color: #008080; text-decoration-color: #008080\">$</span><span style=\"color: #008080; text-decoration-color: #008080; font-weight: bold\">57.34</span>, 📊 <span style=\"color: #008000; text-decoration-color: #008000\">$</span><span style=\"color: #008000; text-decoration-color: #008000; font-weight: bold\">88905.13</span>, 🌟 <span style=\"color: #808000; text-decoration-color: #808000; font-weight: bold\">-0.0000</span>\n",
       "</pre>\n"
      ],
      "text/plain": [
       "  Step \u001b[1;36m250\u001b[0m: \u001b[32m✓\u001b[0m \u001b[35mSell\u001b[0m, 💰 \u001b[36m$\u001b[0m\u001b[1;36m57.34\u001b[0m, 📊 \u001b[32m$\u001b[0m\u001b[1;32m88905.13\u001b[0m, 🌟 \u001b[1;33m-0.0000\u001b[0m\n"
      ]
     },
     "metadata": {},
     "output_type": "display_data"
    },
    {
     "data": {
      "text/html": [
       "<pre style=\"white-space:pre;overflow-x:auto;line-height:normal;font-family:Menlo,'DejaVu Sans Mono',consolas,'Courier New',monospace\">  Step <span style=\"color: #008080; text-decoration-color: #008080; font-weight: bold\">300</span>: <span style=\"color: #008000; text-decoration-color: #008000\">✓</span> <span style=\"color: #800080; text-decoration-color: #800080\">Sell</span>, 💰 <span style=\"color: #008080; text-decoration-color: #008080\">$</span><span style=\"color: #008080; text-decoration-color: #008080; font-weight: bold\">61.61</span>, 📊 <span style=\"color: #008000; text-decoration-color: #008000\">$</span><span style=\"color: #008000; text-decoration-color: #008000; font-weight: bold\">88909.40</span>, 🌟 <span style=\"color: #808000; text-decoration-color: #808000; font-weight: bold\">0.0000</span>\n",
       "</pre>\n"
      ],
      "text/plain": [
       "  Step \u001b[1;36m300\u001b[0m: \u001b[32m✓\u001b[0m \u001b[35mSell\u001b[0m, 💰 \u001b[36m$\u001b[0m\u001b[1;36m61.61\u001b[0m, 📊 \u001b[32m$\u001b[0m\u001b[1;32m88909.40\u001b[0m, 🌟 \u001b[1;33m0.0000\u001b[0m\n"
      ]
     },
     "metadata": {},
     "output_type": "display_data"
    },
    {
     "data": {
      "text/html": [
       "<pre style=\"white-space:pre;overflow-x:auto;line-height:normal;font-family:Menlo,'DejaVu Sans Mono',consolas,'Courier New',monospace\">  Step <span style=\"color: #008080; text-decoration-color: #008080; font-weight: bold\">350</span>: <span style=\"color: #008000; text-decoration-color: #008000\">✓</span> <span style=\"color: #800080; text-decoration-color: #800080\">Sell</span>, 💰 <span style=\"color: #008080; text-decoration-color: #008080\">$</span><span style=\"color: #008080; text-decoration-color: #008080; font-weight: bold\">65.68</span>, 📊 <span style=\"color: #008000; text-decoration-color: #008000\">$</span><span style=\"color: #008000; text-decoration-color: #008000; font-weight: bold\">88913.47</span>, 🌟 <span style=\"color: #808000; text-decoration-color: #808000; font-weight: bold\">0.0000</span>\n",
       "</pre>\n"
      ],
      "text/plain": [
       "  Step \u001b[1;36m350\u001b[0m: \u001b[32m✓\u001b[0m \u001b[35mSell\u001b[0m, 💰 \u001b[36m$\u001b[0m\u001b[1;36m65.68\u001b[0m, 📊 \u001b[32m$\u001b[0m\u001b[1;32m88913.47\u001b[0m, 🌟 \u001b[1;33m0.0000\u001b[0m\n"
      ]
     },
     "metadata": {},
     "output_type": "display_data"
    },
    {
     "data": {
      "text/html": [
       "<pre style=\"white-space:pre;overflow-x:auto;line-height:normal;font-family:Menlo,'DejaVu Sans Mono',consolas,'Courier New',monospace\">  Step <span style=\"color: #008080; text-decoration-color: #008080; font-weight: bold\">400</span>: <span style=\"color: #008000; text-decoration-color: #008000\">✓</span> <span style=\"color: #800080; text-decoration-color: #800080\">Sell</span>, 💰 <span style=\"color: #008080; text-decoration-color: #008080\">$</span><span style=\"color: #008080; text-decoration-color: #008080; font-weight: bold\">68.11</span>, 📊 <span style=\"color: #008000; text-decoration-color: #008000\">$</span><span style=\"color: #008000; text-decoration-color: #008000; font-weight: bold\">87308.71</span>, 🌟 <span style=\"color: #808000; text-decoration-color: #808000; font-weight: bold\">0.0000</span>\n",
       "</pre>\n"
      ],
      "text/plain": [
       "  Step \u001b[1;36m400\u001b[0m: \u001b[32m✓\u001b[0m \u001b[35mSell\u001b[0m, 💰 \u001b[36m$\u001b[0m\u001b[1;36m68.11\u001b[0m, 📊 \u001b[32m$\u001b[0m\u001b[1;32m87308.71\u001b[0m, 🌟 \u001b[1;33m0.0000\u001b[0m\n"
      ]
     },
     "metadata": {},
     "output_type": "display_data"
    },
    {
     "data": {
      "text/html": [
       "<pre style=\"white-space:pre;overflow-x:auto;line-height:normal;font-family:Menlo,'DejaVu Sans Mono',consolas,'Courier New',monospace\">  Step <span style=\"color: #008080; text-decoration-color: #008080; font-weight: bold\">450</span>: <span style=\"color: #008000; text-decoration-color: #008000\">✓</span> <span style=\"color: #800080; text-decoration-color: #800080\">Sell</span>, 💰 <span style=\"color: #008080; text-decoration-color: #008080\">$</span><span style=\"color: #008080; text-decoration-color: #008080; font-weight: bold\">82.19</span>, 📊 <span style=\"color: #008000; text-decoration-color: #008000\">$</span><span style=\"color: #008000; text-decoration-color: #008000; font-weight: bold\">87227.26</span>, 🌟 <span style=\"color: #808000; text-decoration-color: #808000; font-weight: bold\">0.0000</span>\n",
       "</pre>\n"
      ],
      "text/plain": [
       "  Step \u001b[1;36m450\u001b[0m: \u001b[32m✓\u001b[0m \u001b[35mSell\u001b[0m, 💰 \u001b[36m$\u001b[0m\u001b[1;36m82.19\u001b[0m, 📊 \u001b[32m$\u001b[0m\u001b[1;32m87227.26\u001b[0m, 🌟 \u001b[1;33m0.0000\u001b[0m\n"
      ]
     },
     "metadata": {},
     "output_type": "display_data"
    },
    {
     "data": {
      "text/html": [
       "<pre style=\"white-space:pre;overflow-x:auto;line-height:normal;font-family:Menlo,'DejaVu Sans Mono',consolas,'Courier New',monospace\">  Step <span style=\"color: #008080; text-decoration-color: #008080; font-weight: bold\">500</span>: <span style=\"color: #008000; text-decoration-color: #008000\">✓</span> <span style=\"color: #800080; text-decoration-color: #800080\">LimitBuy</span>, 💰 <span style=\"color: #008080; text-decoration-color: #008080\">$</span><span style=\"color: #008080; text-decoration-color: #008080; font-weight: bold\">89.71</span>, 📊 <span style=\"color: #008000; text-decoration-color: #008000\">$</span><span style=\"color: #008000; text-decoration-color: #008000; font-weight: bold\">35403.50</span>, 🌟 <span style=\"color: #808000; text-decoration-color: #808000; font-weight: bold\">-0.6184</span>\n",
       "</pre>\n"
      ],
      "text/plain": [
       "  Step \u001b[1;36m500\u001b[0m: \u001b[32m✓\u001b[0m \u001b[35mLimitBuy\u001b[0m, 💰 \u001b[36m$\u001b[0m\u001b[1;36m89.71\u001b[0m, 📊 \u001b[32m$\u001b[0m\u001b[1;32m35403.50\u001b[0m, 🌟 \u001b[1;33m-0.6184\u001b[0m\n"
      ]
     },
     "metadata": {},
     "output_type": "display_data"
    },
    {
     "data": {
      "text/html": [
       "<pre style=\"white-space:pre;overflow-x:auto;line-height:normal;font-family:Menlo,'DejaVu Sans Mono',consolas,'Courier New',monospace\">  Step <span style=\"color: #008080; text-decoration-color: #008080; font-weight: bold\">550</span>: <span style=\"color: #008000; text-decoration-color: #008000\">✓</span> <span style=\"color: #800080; text-decoration-color: #800080\">Sell</span>, 💰 <span style=\"color: #008080; text-decoration-color: #008080\">$</span><span style=\"color: #008080; text-decoration-color: #008080; font-weight: bold\">117.81</span>, 📊 <span style=\"color: #008000; text-decoration-color: #008000\">$</span><span style=\"color: #008000; text-decoration-color: #008000; font-weight: bold\">86895.49</span>, 🌟 <span style=\"color: #808000; text-decoration-color: #808000; font-weight: bold\">-0.0000</span>\n",
       "</pre>\n"
      ],
      "text/plain": [
       "  Step \u001b[1;36m550\u001b[0m: \u001b[32m✓\u001b[0m \u001b[35mSell\u001b[0m, 💰 \u001b[36m$\u001b[0m\u001b[1;36m117.81\u001b[0m, 📊 \u001b[32m$\u001b[0m\u001b[1;32m86895.49\u001b[0m, 🌟 \u001b[1;33m-0.0000\u001b[0m\n"
      ]
     },
     "metadata": {},
     "output_type": "display_data"
    },
    {
     "data": {
      "text/html": [
       "<pre style=\"white-space:pre;overflow-x:auto;line-height:normal;font-family:Menlo,'DejaVu Sans Mono',consolas,'Courier New',monospace\">  Step <span style=\"color: #008080; text-decoration-color: #008080; font-weight: bold\">600</span>: <span style=\"color: #008000; text-decoration-color: #008000\">✓</span> <span style=\"color: #800080; text-decoration-color: #800080\">Sell</span>, 💰 <span style=\"color: #008080; text-decoration-color: #008080\">$</span><span style=\"color: #008080; text-decoration-color: #008080; font-weight: bold\">114.25</span>, 📊 <span style=\"color: #008000; text-decoration-color: #008000\">$</span><span style=\"color: #008000; text-decoration-color: #008000; font-weight: bold\">84349.41</span>, 🌟 <span style=\"color: #808000; text-decoration-color: #808000; font-weight: bold\">-0.0000</span>\n",
       "</pre>\n"
      ],
      "text/plain": [
       "  Step \u001b[1;36m600\u001b[0m: \u001b[32m✓\u001b[0m \u001b[35mSell\u001b[0m, 💰 \u001b[36m$\u001b[0m\u001b[1;36m114.25\u001b[0m, 📊 \u001b[32m$\u001b[0m\u001b[1;32m84349.41\u001b[0m, 🌟 \u001b[1;33m-0.0000\u001b[0m\n"
      ]
     },
     "metadata": {},
     "output_type": "display_data"
    },
    {
     "data": {
      "text/html": [
       "<pre style=\"white-space:pre;overflow-x:auto;line-height:normal;font-family:Menlo,'DejaVu Sans Mono',consolas,'Courier New',monospace\">  Step <span style=\"color: #008080; text-decoration-color: #008080; font-weight: bold\">650</span>: <span style=\"color: #008000; text-decoration-color: #008000\">✓</span> <span style=\"color: #800080; text-decoration-color: #800080\">Sell</span>, 💰 <span style=\"color: #008080; text-decoration-color: #008080\">$</span><span style=\"color: #008080; text-decoration-color: #008080; font-weight: bold\">99.85</span>, 📊 <span style=\"color: #008000; text-decoration-color: #008000\">$</span><span style=\"color: #008000; text-decoration-color: #008000; font-weight: bold\">84335.02</span>, 🌟 <span style=\"color: #808000; text-decoration-color: #808000; font-weight: bold\">-0.0000</span>\n",
       "</pre>\n"
      ],
      "text/plain": [
       "  Step \u001b[1;36m650\u001b[0m: \u001b[32m✓\u001b[0m \u001b[35mSell\u001b[0m, 💰 \u001b[36m$\u001b[0m\u001b[1;36m99.85\u001b[0m, 📊 \u001b[32m$\u001b[0m\u001b[1;32m84335.02\u001b[0m, 🌟 \u001b[1;33m-0.0000\u001b[0m\n"
      ]
     },
     "metadata": {},
     "output_type": "display_data"
    },
    {
     "data": {
      "text/html": [
       "<pre style=\"white-space:pre;overflow-x:auto;line-height:normal;font-family:Menlo,'DejaVu Sans Mono',consolas,'Courier New',monospace\"><span style=\"color: #008000; text-decoration-color: #008000; font-weight: bold\">Episode </span><span style=\"color: #008000; text-decoration-color: #008000; font-weight: bold\">3</span><span style=\"color: #008000; text-decoration-color: #008000; font-weight: bold\"> Results:</span>\n",
       "</pre>\n"
      ],
      "text/plain": [
       "\u001b[1;32mEpisode \u001b[0m\u001b[1;32m3\u001b[0m\u001b[1;32m Results:\u001b[0m\n"
      ]
     },
     "metadata": {},
     "output_type": "display_data"
    },
    {
     "data": {
      "text/html": [
       "<pre style=\"white-space:pre;overflow-x:auto;line-height:normal;font-family:Menlo,'DejaVu Sans Mono',consolas,'Courier New',monospace\">  Total Steps: <span style=\"color: #008080; text-decoration-color: #008080; font-weight: bold\">680</span>\n",
       "</pre>\n"
      ],
      "text/plain": [
       "  Total Steps: \u001b[1;36m680\u001b[0m\n"
      ]
     },
     "metadata": {},
     "output_type": "display_data"
    },
    {
     "data": {
      "text/html": [
       "<pre style=\"white-space:pre;overflow-x:auto;line-height:normal;font-family:Menlo,'DejaVu Sans Mono',consolas,'Courier New',monospace\">  Initial Portfolio Value: <span style=\"color: #008000; text-decoration-color: #008000\">$</span><span style=\"color: #008000; text-decoration-color: #008000; font-weight: bold\">100000.00</span>\n",
       "</pre>\n"
      ],
      "text/plain": [
       "  Initial Portfolio Value: \u001b[32m$\u001b[0m\u001b[1;32m100000.00\u001b[0m\n"
      ]
     },
     "metadata": {},
     "output_type": "display_data"
    },
    {
     "data": {
      "text/html": [
       "<pre style=\"white-space:pre;overflow-x:auto;line-height:normal;font-family:Menlo,'DejaVu Sans Mono',consolas,'Courier New',monospace\">  Final Portfolio Value: <span style=\"color: #008000; text-decoration-color: #008000\">$</span><span style=\"color: #008000; text-decoration-color: #008000; font-weight: bold\">84339.27</span>\n",
       "</pre>\n"
      ],
      "text/plain": [
       "  Final Portfolio Value: \u001b[32m$\u001b[0m\u001b[1;32m84339.27\u001b[0m\n"
      ]
     },
     "metadata": {},
     "output_type": "display_data"
    },
    {
     "data": {
      "text/html": [
       "<pre style=\"white-space:pre;overflow-x:auto;line-height:normal;font-family:Menlo,'DejaVu Sans Mono',consolas,'Courier New',monospace\">  Total Return: <span style=\"color: #800000; text-decoration-color: #800000; font-weight: bold\">-15.66</span><span style=\"color: #800000; text-decoration-color: #800000\">%</span>\n",
       "</pre>\n"
      ],
      "text/plain": [
       "  Total Return: \u001b[1;31m-15.66\u001b[0m\u001b[31m%\u001b[0m\n"
      ]
     },
     "metadata": {},
     "output_type": "display_data"
    },
    {
     "data": {
      "text/html": [
       "<pre style=\"white-space:pre;overflow-x:auto;line-height:normal;font-family:Menlo,'DejaVu Sans Mono',consolas,'Courier New',monospace\">  Total Reward: <span style=\"color: #808000; text-decoration-color: #808000; font-weight: bold\">-38.64</span>\n",
       "</pre>\n"
      ],
      "text/plain": [
       "  Total Reward: \u001b[1;33m-38.64\u001b[0m\n"
      ]
     },
     "metadata": {},
     "output_type": "display_data"
    },
    {
     "data": {
      "text/html": [
       "<pre style=\"white-space:pre;overflow-x:auto;line-height:normal;font-family:Menlo,'DejaVu Sans Mono',consolas,'Courier New',monospace\"><span style=\"font-style: italic\">       Action Distribution       </span>\n",
       "┏━━━━━━━━━━┳━━━━━━━┳━━━━━━━━━━━━┓\n",
       "┃<span style=\"font-weight: bold\"> Action   </span>┃<span style=\"font-weight: bold\"> Count </span>┃<span style=\"font-weight: bold\"> Percentage </span>┃\n",
       "┡━━━━━━━━━━╇━━━━━━━╇━━━━━━━━━━━━┩\n",
       "│<span style=\"color: #008080; text-decoration-color: #008080\"> Sell     </span>│<span style=\"color: #008000; text-decoration-color: #008000\">   668 </span>│<span style=\"color: #808000; text-decoration-color: #808000\">      98.2% </span>│\n",
       "│<span style=\"color: #008080; text-decoration-color: #008080\"> LimitBuy </span>│<span style=\"color: #008000; text-decoration-color: #008000\">    11 </span>│<span style=\"color: #808000; text-decoration-color: #808000\">       1.6% </span>│\n",
       "│<span style=\"color: #008080; text-decoration-color: #008080\"> Buy      </span>│<span style=\"color: #008000; text-decoration-color: #008000\">     1 </span>│<span style=\"color: #808000; text-decoration-color: #808000\">       0.1% </span>│\n",
       "└──────────┴───────┴────────────┘\n",
       "</pre>\n"
      ],
      "text/plain": [
       "\u001b[3m       Action Distribution       \u001b[0m\n",
       "┏━━━━━━━━━━┳━━━━━━━┳━━━━━━━━━━━━┓\n",
       "┃\u001b[1m \u001b[0m\u001b[1mAction  \u001b[0m\u001b[1m \u001b[0m┃\u001b[1m \u001b[0m\u001b[1mCount\u001b[0m\u001b[1m \u001b[0m┃\u001b[1m \u001b[0m\u001b[1mPercentage\u001b[0m\u001b[1m \u001b[0m┃\n",
       "┡━━━━━━━━━━╇━━━━━━━╇━━━━━━━━━━━━┩\n",
       "│\u001b[36m \u001b[0m\u001b[36mSell    \u001b[0m\u001b[36m \u001b[0m│\u001b[32m \u001b[0m\u001b[32m  668\u001b[0m\u001b[32m \u001b[0m│\u001b[33m \u001b[0m\u001b[33m     98.2%\u001b[0m\u001b[33m \u001b[0m│\n",
       "│\u001b[36m \u001b[0m\u001b[36mLimitBuy\u001b[0m\u001b[36m \u001b[0m│\u001b[32m \u001b[0m\u001b[32m   11\u001b[0m\u001b[32m \u001b[0m│\u001b[33m \u001b[0m\u001b[33m      1.6%\u001b[0m\u001b[33m \u001b[0m│\n",
       "│\u001b[36m \u001b[0m\u001b[36mBuy     \u001b[0m\u001b[36m \u001b[0m│\u001b[32m \u001b[0m\u001b[32m    1\u001b[0m\u001b[32m \u001b[0m│\u001b[33m \u001b[0m\u001b[33m      0.1%\u001b[0m\u001b[33m \u001b[0m│\n",
       "└──────────┴───────┴────────────┘\n"
      ]
     },
     "metadata": {},
     "output_type": "display_data"
    },
    {
     "data": {
      "text/html": [
       "<pre style=\"white-space:pre;overflow-x:auto;line-height:normal;font-family:Menlo,'DejaVu Sans Mono',consolas,'Courier New',monospace\"></pre>\n"
      ],
      "text/plain": []
     },
     "metadata": {},
     "output_type": "display_data"
    },
    {
     "data": {
      "text/html": [
       "<pre style=\"white-space:pre;overflow-x:auto;line-height:normal;font-family:Menlo,'DejaVu Sans Mono',consolas,'Courier New',monospace\">\n",
       "<span style=\"color: #800080; text-decoration-color: #800080; font-weight: bold\">=== Overall Evaluation Summary ===</span>\n",
       "</pre>\n"
      ],
      "text/plain": [
       "\n",
       "\u001b[1;35m=== Overall Evaluation Summary ===\u001b[0m\n"
      ]
     },
     "metadata": {},
     "output_type": "display_data"
    },
    {
     "data": {
      "text/html": [
       "<pre style=\"white-space:pre;overflow-x:auto;line-height:normal;font-family:Menlo,'DejaVu Sans Mono',consolas,'Courier New',monospace\"><span style=\"font-style: italic\">        Summary Statistics        </span>\n",
       "┏━━━━━━━━━━━━━━━━━━━━━━┳━━━━━━━━━┓\n",
       "┃<span style=\"font-weight: bold\"> Metric               </span>┃<span style=\"font-weight: bold\"> Value   </span>┃\n",
       "┡━━━━━━━━━━━━━━━━━━━━━━╇━━━━━━━━━┩\n",
       "│<span style=\"color: #008080; text-decoration-color: #008080\"> Total Episodes       </span>│<span style=\"color: #008000; text-decoration-color: #008000\"> 3       </span>│\n",
       "│<span style=\"color: #008080; text-decoration-color: #008080\"> Average Reward       </span>│<span style=\"color: #008000; text-decoration-color: #008000\"> -38.64  </span>│\n",
       "│<span style=\"color: #008080; text-decoration-color: #008080\"> Reward Std Dev       </span>│<span style=\"color: #008000; text-decoration-color: #008000\"> 0.00    </span>│\n",
       "│<span style=\"color: #008080; text-decoration-color: #008080\"> Best Episode Reward  </span>│<span style=\"color: #008000; text-decoration-color: #008000\"> -38.64  </span>│\n",
       "│<span style=\"color: #008080; text-decoration-color: #008080\"> Worst Episode Reward </span>│<span style=\"color: #008000; text-decoration-color: #008000\"> -38.64  </span>│\n",
       "│<span style=\"color: #008080; text-decoration-color: #008080\"> Average Return       </span>│<span style=\"color: #008000; text-decoration-color: #008000\"> </span><span style=\"color: #800000; text-decoration-color: #800000\">-15.66%</span><span style=\"color: #008000; text-decoration-color: #008000\"> </span>│\n",
       "└──────────────────────┴─────────┘\n",
       "</pre>\n"
      ],
      "text/plain": [
       "\u001b[3m        Summary Statistics        \u001b[0m\n",
       "┏━━━━━━━━━━━━━━━━━━━━━━┳━━━━━━━━━┓\n",
       "┃\u001b[1m \u001b[0m\u001b[1mMetric              \u001b[0m\u001b[1m \u001b[0m┃\u001b[1m \u001b[0m\u001b[1mValue  \u001b[0m\u001b[1m \u001b[0m┃\n",
       "┡━━━━━━━━━━━━━━━━━━━━━━╇━━━━━━━━━┩\n",
       "│\u001b[36m \u001b[0m\u001b[36mTotal Episodes      \u001b[0m\u001b[36m \u001b[0m│\u001b[32m \u001b[0m\u001b[32m3      \u001b[0m\u001b[32m \u001b[0m│\n",
       "│\u001b[36m \u001b[0m\u001b[36mAverage Reward      \u001b[0m\u001b[36m \u001b[0m│\u001b[32m \u001b[0m\u001b[32m-38.64 \u001b[0m\u001b[32m \u001b[0m│\n",
       "│\u001b[36m \u001b[0m\u001b[36mReward Std Dev      \u001b[0m\u001b[36m \u001b[0m│\u001b[32m \u001b[0m\u001b[32m0.00   \u001b[0m\u001b[32m \u001b[0m│\n",
       "│\u001b[36m \u001b[0m\u001b[36mBest Episode Reward \u001b[0m\u001b[36m \u001b[0m│\u001b[32m \u001b[0m\u001b[32m-38.64 \u001b[0m\u001b[32m \u001b[0m│\n",
       "│\u001b[36m \u001b[0m\u001b[36mWorst Episode Reward\u001b[0m\u001b[36m \u001b[0m│\u001b[32m \u001b[0m\u001b[32m-38.64 \u001b[0m\u001b[32m \u001b[0m│\n",
       "│\u001b[36m \u001b[0m\u001b[36mAverage Return      \u001b[0m\u001b[36m \u001b[0m│\u001b[32m \u001b[0m\u001b[31m-15.66%\u001b[0m\u001b[32m \u001b[0m│\n",
       "└──────────────────────┴─────────┘\n"
      ]
     },
     "metadata": {},
     "output_type": "display_data"
    },
    {
     "name": "stdout",
     "output_type": "stream",
     "text": [
      "SingleStockTradingEnv closed.\n"
     ]
    },
    {
     "data": {
      "text/html": [
       "<pre style=\"white-space:pre;overflow-x:auto;line-height:normal;font-family:Menlo,'DejaVu Sans Mono',consolas,'Courier New',monospace\">\n",
       "<span style=\"color: #000080; text-decoration-color: #000080; font-weight: bold\">🧪 TEST EVALUATION:</span><span style=\"color: #000080; text-decoration-color: #000080\"> Running model on unseen test dataset</span>\n",
       "</pre>\n"
      ],
      "text/plain": [
       "\n",
       "\u001b[1;34m🧪 TEST EVALUATION:\u001b[0m\u001b[34m Running model on unseen test dataset\u001b[0m\n"
      ]
     },
     "metadata": {},
     "output_type": "display_data"
    },
    {
     "data": {
      "text/html": [
       "<pre style=\"white-space:pre;overflow-x:auto;line-height:normal;font-family:Menlo,'DejaVu Sans Mono',consolas,'Courier New',monospace\"><span style=\"color: #000080; text-decoration-color: #000080; font-weight: bold\">Evaluating </span><span style=\"color: #008000; text-decoration-color: #008000\">SAC</span><span style=\"color: #000080; text-decoration-color: #000080; font-weight: bold\"> model for </span><span style=\"color: #808000; text-decoration-color: #808000; font-weight: bold\">3</span><span style=\"color: #000080; text-decoration-color: #000080; font-weight: bold\"> episodes...</span>\n",
       "</pre>\n"
      ],
      "text/plain": [
       "\u001b[1;34mEvaluating \u001b[0m\u001b[32mSAC\u001b[0m\u001b[1;34m model for \u001b[0m\u001b[1;33m3\u001b[0m\u001b[1;34m episodes\u001b[0m\u001b[1;34m...\u001b[0m\n"
      ]
     },
     "metadata": {},
     "output_type": "display_data"
    },
    {
     "data": {
      "application/vnd.jupyter.widget-view+json": {
       "model_id": "524285a4a6d0487da7aabc774fe31b03",
       "version_major": 2,
       "version_minor": 0
      },
      "text/plain": [
       "Output()"
      ]
     },
     "metadata": {},
     "output_type": "display_data"
    },
    {
     "data": {
      "text/html": [
       "<pre style=\"white-space:pre;overflow-x:auto;line-height:normal;font-family:Menlo,'DejaVu Sans Mono',consolas,'Courier New',monospace\"><span style=\"color: #808000; text-decoration-color: #808000\">--- Episode </span><span style=\"color: #808000; text-decoration-color: #808000; font-weight: bold\">1</span><span style=\"color: #808000; text-decoration-color: #808000\">/</span><span style=\"color: #808000; text-decoration-color: #808000; font-weight: bold\">3</span><span style=\"color: #808000; text-decoration-color: #808000\"> ---</span>\n",
       "</pre>\n"
      ],
      "text/plain": [
       "\u001b[33m--- Episode \u001b[0m\u001b[1;33m1\u001b[0m\u001b[33m/\u001b[0m\u001b[1;33m3\u001b[0m\u001b[33m ---\u001b[0m\n"
      ]
     },
     "metadata": {},
     "output_type": "display_data"
    },
    {
     "data": {
      "text/html": [
       "<pre style=\"white-space:pre;overflow-x:auto;line-height:normal;font-family:Menlo,'DejaVu Sans Mono',consolas,'Courier New',monospace\">  Step <span style=\"color: #008080; text-decoration-color: #008080; font-weight: bold\">0</span>: <span style=\"color: #800000; text-decoration-color: #800000\">✗</span> <span style=\"color: #800080; text-decoration-color: #800080\">Sell</span>, 💰 <span style=\"color: #008080; text-decoration-color: #008080\">$</span><span style=\"color: #008080; text-decoration-color: #008080; font-weight: bold\">102.50</span>, 📊 <span style=\"color: #008000; text-decoration-color: #008000\">$</span><span style=\"color: #008000; text-decoration-color: #008000; font-weight: bold\">100000.00</span>, 🌟 <span style=\"color: #808000; text-decoration-color: #808000; font-weight: bold\">-2.0000</span>\n",
       "</pre>\n"
      ],
      "text/plain": [
       "  Step \u001b[1;36m0\u001b[0m: \u001b[31m✗\u001b[0m \u001b[35mSell\u001b[0m, 💰 \u001b[36m$\u001b[0m\u001b[1;36m102.50\u001b[0m, 📊 \u001b[32m$\u001b[0m\u001b[1;32m100000.00\u001b[0m, 🌟 \u001b[1;33m-2.0000\u001b[0m\n"
      ]
     },
     "metadata": {},
     "output_type": "display_data"
    },
    {
     "data": {
      "text/html": [
       "<pre style=\"white-space:pre;overflow-x:auto;line-height:normal;font-family:Menlo,'DejaVu Sans Mono',consolas,'Courier New',monospace\">  Step <span style=\"color: #008080; text-decoration-color: #008080; font-weight: bold\">50</span>: <span style=\"color: #008000; text-decoration-color: #008000\">✓</span> <span style=\"color: #800080; text-decoration-color: #800080\">Sell</span>, 💰 <span style=\"color: #008080; text-decoration-color: #008080\">$</span><span style=\"color: #008080; text-decoration-color: #008080; font-weight: bold\">93.63</span>, 📊 <span style=\"color: #008000; text-decoration-color: #008000\">$</span><span style=\"color: #008000; text-decoration-color: #008000; font-weight: bold\">105984.90</span>, 🌟 <span style=\"color: #808000; text-decoration-color: #808000; font-weight: bold\">0.0000</span>\n",
       "</pre>\n"
      ],
      "text/plain": [
       "  Step \u001b[1;36m50\u001b[0m: \u001b[32m✓\u001b[0m \u001b[35mSell\u001b[0m, 💰 \u001b[36m$\u001b[0m\u001b[1;36m93.63\u001b[0m, 📊 \u001b[32m$\u001b[0m\u001b[1;32m105984.90\u001b[0m, 🌟 \u001b[1;33m0.0000\u001b[0m\n"
      ]
     },
     "metadata": {},
     "output_type": "display_data"
    },
    {
     "data": {
      "text/html": [
       "<pre style=\"white-space:pre;overflow-x:auto;line-height:normal;font-family:Menlo,'DejaVu Sans Mono',consolas,'Courier New',monospace\">  Step <span style=\"color: #008080; text-decoration-color: #008080; font-weight: bold\">100</span>: <span style=\"color: #008000; text-decoration-color: #008000\">✓</span> <span style=\"color: #800080; text-decoration-color: #800080\">Sell</span>, 💰 <span style=\"color: #008080; text-decoration-color: #008080\">$</span><span style=\"color: #008080; text-decoration-color: #008080; font-weight: bold\">92.29</span>, 📊 <span style=\"color: #008000; text-decoration-color: #008000\">$</span><span style=\"color: #008000; text-decoration-color: #008000; font-weight: bold\">94016.76</span>, 🌟 <span style=\"color: #808000; text-decoration-color: #808000; font-weight: bold\">0.0001</span>\n",
       "</pre>\n"
      ],
      "text/plain": [
       "  Step \u001b[1;36m100\u001b[0m: \u001b[32m✓\u001b[0m \u001b[35mSell\u001b[0m, 💰 \u001b[36m$\u001b[0m\u001b[1;36m92.29\u001b[0m, 📊 \u001b[32m$\u001b[0m\u001b[1;32m94016.76\u001b[0m, 🌟 \u001b[1;33m0.0001\u001b[0m\n"
      ]
     },
     "metadata": {},
     "output_type": "display_data"
    },
    {
     "data": {
      "text/html": [
       "<pre style=\"white-space:pre;overflow-x:auto;line-height:normal;font-family:Menlo,'DejaVu Sans Mono',consolas,'Courier New',monospace\">  Step <span style=\"color: #008080; text-decoration-color: #008080; font-weight: bold\">150</span>: <span style=\"color: #008000; text-decoration-color: #008000\">✓</span> <span style=\"color: #800080; text-decoration-color: #800080\">Sell</span>, 💰 <span style=\"color: #008080; text-decoration-color: #008080\">$</span><span style=\"color: #008080; text-decoration-color: #008080; font-weight: bold\">111.73</span>, 📊 <span style=\"color: #008000; text-decoration-color: #008000\">$</span><span style=\"color: #008000; text-decoration-color: #008000; font-weight: bold\">94036.20</span>, 🌟 <span style=\"color: #808000; text-decoration-color: #808000; font-weight: bold\">0.0000</span>\n",
       "</pre>\n"
      ],
      "text/plain": [
       "  Step \u001b[1;36m150\u001b[0m: \u001b[32m✓\u001b[0m \u001b[35mSell\u001b[0m, 💰 \u001b[36m$\u001b[0m\u001b[1;36m111.73\u001b[0m, 📊 \u001b[32m$\u001b[0m\u001b[1;32m94036.20\u001b[0m, 🌟 \u001b[1;33m0.0000\u001b[0m\n"
      ]
     },
     "metadata": {},
     "output_type": "display_data"
    },
    {
     "data": {
      "text/html": [
       "<pre style=\"white-space:pre;overflow-x:auto;line-height:normal;font-family:Menlo,'DejaVu Sans Mono',consolas,'Courier New',monospace\"><span style=\"color: #008000; text-decoration-color: #008000; font-weight: bold\">Episode </span><span style=\"color: #008000; text-decoration-color: #008000; font-weight: bold\">1</span><span style=\"color: #008000; text-decoration-color: #008000; font-weight: bold\"> Results:</span>\n",
       "</pre>\n"
      ],
      "text/plain": [
       "\u001b[1;32mEpisode \u001b[0m\u001b[1;32m1\u001b[0m\u001b[1;32m Results:\u001b[0m\n"
      ]
     },
     "metadata": {},
     "output_type": "display_data"
    },
    {
     "data": {
      "text/html": [
       "<pre style=\"white-space:pre;overflow-x:auto;line-height:normal;font-family:Menlo,'DejaVu Sans Mono',consolas,'Courier New',monospace\">  Total Steps: <span style=\"color: #008080; text-decoration-color: #008080; font-weight: bold\">155</span>\n",
       "</pre>\n"
      ],
      "text/plain": [
       "  Total Steps: \u001b[1;36m155\u001b[0m\n"
      ]
     },
     "metadata": {},
     "output_type": "display_data"
    },
    {
     "data": {
      "text/html": [
       "<pre style=\"white-space:pre;overflow-x:auto;line-height:normal;font-family:Menlo,'DejaVu Sans Mono',consolas,'Courier New',monospace\">  Initial Portfolio Value: <span style=\"color: #008000; text-decoration-color: #008000\">$</span><span style=\"color: #008000; text-decoration-color: #008000; font-weight: bold\">100000.00</span>\n",
       "</pre>\n"
      ],
      "text/plain": [
       "  Initial Portfolio Value: \u001b[32m$\u001b[0m\u001b[1;32m100000.00\u001b[0m\n"
      ]
     },
     "metadata": {},
     "output_type": "display_data"
    },
    {
     "data": {
      "text/html": [
       "<pre style=\"white-space:pre;overflow-x:auto;line-height:normal;font-family:Menlo,'DejaVu Sans Mono',consolas,'Courier New',monospace\">  Final Portfolio Value: <span style=\"color: #008000; text-decoration-color: #008000\">$</span><span style=\"color: #008000; text-decoration-color: #008000; font-weight: bold\">94039.21</span>\n",
       "</pre>\n"
      ],
      "text/plain": [
       "  Final Portfolio Value: \u001b[32m$\u001b[0m\u001b[1;32m94039.21\u001b[0m\n"
      ]
     },
     "metadata": {},
     "output_type": "display_data"
    },
    {
     "data": {
      "text/html": [
       "<pre style=\"white-space:pre;overflow-x:auto;line-height:normal;font-family:Menlo,'DejaVu Sans Mono',consolas,'Courier New',monospace\">  Total Return: <span style=\"color: #800000; text-decoration-color: #800000; font-weight: bold\">-5.96</span><span style=\"color: #800000; text-decoration-color: #800000\">%</span>\n",
       "</pre>\n"
      ],
      "text/plain": [
       "  Total Return: \u001b[1;31m-5.96\u001b[0m\u001b[31m%\u001b[0m\n"
      ]
     },
     "metadata": {},
     "output_type": "display_data"
    },
    {
     "data": {
      "text/html": [
       "<pre style=\"white-space:pre;overflow-x:auto;line-height:normal;font-family:Menlo,'DejaVu Sans Mono',consolas,'Courier New',monospace\">  Total Reward: <span style=\"color: #808000; text-decoration-color: #808000; font-weight: bold\">-31.41</span>\n",
       "</pre>\n"
      ],
      "text/plain": [
       "  Total Reward: \u001b[1;33m-31.41\u001b[0m\n"
      ]
     },
     "metadata": {},
     "output_type": "display_data"
    },
    {
     "data": {
      "text/html": [
       "<pre style=\"white-space:pre;overflow-x:auto;line-height:normal;font-family:Menlo,'DejaVu Sans Mono',consolas,'Courier New',monospace\"><span style=\"font-style: italic\">       Action Distribution       </span>\n",
       "┏━━━━━━━━━━┳━━━━━━━┳━━━━━━━━━━━━┓\n",
       "┃<span style=\"font-weight: bold\"> Action   </span>┃<span style=\"font-weight: bold\"> Count </span>┃<span style=\"font-weight: bold\"> Percentage </span>┃\n",
       "┡━━━━━━━━━━╇━━━━━━━╇━━━━━━━━━━━━┩\n",
       "│<span style=\"color: #008080; text-decoration-color: #008080\"> Sell     </span>│<span style=\"color: #008000; text-decoration-color: #008000\">   148 </span>│<span style=\"color: #808000; text-decoration-color: #808000\">      95.5% </span>│\n",
       "│<span style=\"color: #008080; text-decoration-color: #008080\"> Buy      </span>│<span style=\"color: #008000; text-decoration-color: #008000\">     4 </span>│<span style=\"color: #808000; text-decoration-color: #808000\">       2.6% </span>│\n",
       "│<span style=\"color: #008080; text-decoration-color: #008080\"> Hold     </span>│<span style=\"color: #008000; text-decoration-color: #008000\">     1 </span>│<span style=\"color: #808000; text-decoration-color: #808000\">       0.6% </span>│\n",
       "│<span style=\"color: #008080; text-decoration-color: #008080\"> LimitBuy </span>│<span style=\"color: #008000; text-decoration-color: #008000\">     2 </span>│<span style=\"color: #808000; text-decoration-color: #808000\">       1.3% </span>│\n",
       "└──────────┴───────┴────────────┘\n",
       "</pre>\n"
      ],
      "text/plain": [
       "\u001b[3m       Action Distribution       \u001b[0m\n",
       "┏━━━━━━━━━━┳━━━━━━━┳━━━━━━━━━━━━┓\n",
       "┃\u001b[1m \u001b[0m\u001b[1mAction  \u001b[0m\u001b[1m \u001b[0m┃\u001b[1m \u001b[0m\u001b[1mCount\u001b[0m\u001b[1m \u001b[0m┃\u001b[1m \u001b[0m\u001b[1mPercentage\u001b[0m\u001b[1m \u001b[0m┃\n",
       "┡━━━━━━━━━━╇━━━━━━━╇━━━━━━━━━━━━┩\n",
       "│\u001b[36m \u001b[0m\u001b[36mSell    \u001b[0m\u001b[36m \u001b[0m│\u001b[32m \u001b[0m\u001b[32m  148\u001b[0m\u001b[32m \u001b[0m│\u001b[33m \u001b[0m\u001b[33m     95.5%\u001b[0m\u001b[33m \u001b[0m│\n",
       "│\u001b[36m \u001b[0m\u001b[36mBuy     \u001b[0m\u001b[36m \u001b[0m│\u001b[32m \u001b[0m\u001b[32m    4\u001b[0m\u001b[32m \u001b[0m│\u001b[33m \u001b[0m\u001b[33m      2.6%\u001b[0m\u001b[33m \u001b[0m│\n",
       "│\u001b[36m \u001b[0m\u001b[36mHold    \u001b[0m\u001b[36m \u001b[0m│\u001b[32m \u001b[0m\u001b[32m    1\u001b[0m\u001b[32m \u001b[0m│\u001b[33m \u001b[0m\u001b[33m      0.6%\u001b[0m\u001b[33m \u001b[0m│\n",
       "│\u001b[36m \u001b[0m\u001b[36mLimitBuy\u001b[0m\u001b[36m \u001b[0m│\u001b[32m \u001b[0m\u001b[32m    2\u001b[0m\u001b[32m \u001b[0m│\u001b[33m \u001b[0m\u001b[33m      1.3%\u001b[0m\u001b[33m \u001b[0m│\n",
       "└──────────┴───────┴────────────┘\n"
      ]
     },
     "metadata": {},
     "output_type": "display_data"
    },
    {
     "data": {
      "text/html": [
       "<pre style=\"white-space:pre;overflow-x:auto;line-height:normal;font-family:Menlo,'DejaVu Sans Mono',consolas,'Courier New',monospace\"><span style=\"color: #808000; text-decoration-color: #808000\">--- Episode </span><span style=\"color: #808000; text-decoration-color: #808000; font-weight: bold\">2</span><span style=\"color: #808000; text-decoration-color: #808000\">/</span><span style=\"color: #808000; text-decoration-color: #808000; font-weight: bold\">3</span><span style=\"color: #808000; text-decoration-color: #808000\"> ---</span>\n",
       "</pre>\n"
      ],
      "text/plain": [
       "\u001b[33m--- Episode \u001b[0m\u001b[1;33m2\u001b[0m\u001b[33m/\u001b[0m\u001b[1;33m3\u001b[0m\u001b[33m ---\u001b[0m\n"
      ]
     },
     "metadata": {},
     "output_type": "display_data"
    },
    {
     "data": {
      "text/html": [
       "<pre style=\"white-space:pre;overflow-x:auto;line-height:normal;font-family:Menlo,'DejaVu Sans Mono',consolas,'Courier New',monospace\">  Step <span style=\"color: #008080; text-decoration-color: #008080; font-weight: bold\">0</span>: <span style=\"color: #800000; text-decoration-color: #800000\">✗</span> <span style=\"color: #800080; text-decoration-color: #800080\">Sell</span>, 💰 <span style=\"color: #008080; text-decoration-color: #008080\">$</span><span style=\"color: #008080; text-decoration-color: #008080; font-weight: bold\">102.50</span>, 📊 <span style=\"color: #008000; text-decoration-color: #008000\">$</span><span style=\"color: #008000; text-decoration-color: #008000; font-weight: bold\">100000.00</span>, 🌟 <span style=\"color: #808000; text-decoration-color: #808000; font-weight: bold\">-2.0000</span>\n",
       "</pre>\n"
      ],
      "text/plain": [
       "  Step \u001b[1;36m0\u001b[0m: \u001b[31m✗\u001b[0m \u001b[35mSell\u001b[0m, 💰 \u001b[36m$\u001b[0m\u001b[1;36m102.50\u001b[0m, 📊 \u001b[32m$\u001b[0m\u001b[1;32m100000.00\u001b[0m, 🌟 \u001b[1;33m-2.0000\u001b[0m\n"
      ]
     },
     "metadata": {},
     "output_type": "display_data"
    },
    {
     "data": {
      "text/html": [
       "<pre style=\"white-space:pre;overflow-x:auto;line-height:normal;font-family:Menlo,'DejaVu Sans Mono',consolas,'Courier New',monospace\">  Step <span style=\"color: #008080; text-decoration-color: #008080; font-weight: bold\">50</span>: <span style=\"color: #008000; text-decoration-color: #008000\">✓</span> <span style=\"color: #800080; text-decoration-color: #800080\">Sell</span>, 💰 <span style=\"color: #008080; text-decoration-color: #008080\">$</span><span style=\"color: #008080; text-decoration-color: #008080; font-weight: bold\">93.63</span>, 📊 <span style=\"color: #008000; text-decoration-color: #008000\">$</span><span style=\"color: #008000; text-decoration-color: #008000; font-weight: bold\">105984.90</span>, 🌟 <span style=\"color: #808000; text-decoration-color: #808000; font-weight: bold\">0.0000</span>\n",
       "</pre>\n"
      ],
      "text/plain": [
       "  Step \u001b[1;36m50\u001b[0m: \u001b[32m✓\u001b[0m \u001b[35mSell\u001b[0m, 💰 \u001b[36m$\u001b[0m\u001b[1;36m93.63\u001b[0m, 📊 \u001b[32m$\u001b[0m\u001b[1;32m105984.90\u001b[0m, 🌟 \u001b[1;33m0.0000\u001b[0m\n"
      ]
     },
     "metadata": {},
     "output_type": "display_data"
    },
    {
     "data": {
      "text/html": [
       "<pre style=\"white-space:pre;overflow-x:auto;line-height:normal;font-family:Menlo,'DejaVu Sans Mono',consolas,'Courier New',monospace\">  Step <span style=\"color: #008080; text-decoration-color: #008080; font-weight: bold\">100</span>: <span style=\"color: #008000; text-decoration-color: #008000\">✓</span> <span style=\"color: #800080; text-decoration-color: #800080\">Sell</span>, 💰 <span style=\"color: #008080; text-decoration-color: #008080\">$</span><span style=\"color: #008080; text-decoration-color: #008080; font-weight: bold\">92.29</span>, 📊 <span style=\"color: #008000; text-decoration-color: #008000\">$</span><span style=\"color: #008000; text-decoration-color: #008000; font-weight: bold\">94016.76</span>, 🌟 <span style=\"color: #808000; text-decoration-color: #808000; font-weight: bold\">0.0001</span>\n",
       "</pre>\n"
      ],
      "text/plain": [
       "  Step \u001b[1;36m100\u001b[0m: \u001b[32m✓\u001b[0m \u001b[35mSell\u001b[0m, 💰 \u001b[36m$\u001b[0m\u001b[1;36m92.29\u001b[0m, 📊 \u001b[32m$\u001b[0m\u001b[1;32m94016.76\u001b[0m, 🌟 \u001b[1;33m0.0001\u001b[0m\n"
      ]
     },
     "metadata": {},
     "output_type": "display_data"
    },
    {
     "data": {
      "text/html": [
       "<pre style=\"white-space:pre;overflow-x:auto;line-height:normal;font-family:Menlo,'DejaVu Sans Mono',consolas,'Courier New',monospace\">  Step <span style=\"color: #008080; text-decoration-color: #008080; font-weight: bold\">150</span>: <span style=\"color: #008000; text-decoration-color: #008000\">✓</span> <span style=\"color: #800080; text-decoration-color: #800080\">Sell</span>, 💰 <span style=\"color: #008080; text-decoration-color: #008080\">$</span><span style=\"color: #008080; text-decoration-color: #008080; font-weight: bold\">111.73</span>, 📊 <span style=\"color: #008000; text-decoration-color: #008000\">$</span><span style=\"color: #008000; text-decoration-color: #008000; font-weight: bold\">94036.20</span>, 🌟 <span style=\"color: #808000; text-decoration-color: #808000; font-weight: bold\">0.0000</span>\n",
       "</pre>\n"
      ],
      "text/plain": [
       "  Step \u001b[1;36m150\u001b[0m: \u001b[32m✓\u001b[0m \u001b[35mSell\u001b[0m, 💰 \u001b[36m$\u001b[0m\u001b[1;36m111.73\u001b[0m, 📊 \u001b[32m$\u001b[0m\u001b[1;32m94036.20\u001b[0m, 🌟 \u001b[1;33m0.0000\u001b[0m\n"
      ]
     },
     "metadata": {},
     "output_type": "display_data"
    },
    {
     "data": {
      "text/html": [
       "<pre style=\"white-space:pre;overflow-x:auto;line-height:normal;font-family:Menlo,'DejaVu Sans Mono',consolas,'Courier New',monospace\"><span style=\"color: #008000; text-decoration-color: #008000; font-weight: bold\">Episode </span><span style=\"color: #008000; text-decoration-color: #008000; font-weight: bold\">2</span><span style=\"color: #008000; text-decoration-color: #008000; font-weight: bold\"> Results:</span>\n",
       "</pre>\n"
      ],
      "text/plain": [
       "\u001b[1;32mEpisode \u001b[0m\u001b[1;32m2\u001b[0m\u001b[1;32m Results:\u001b[0m\n"
      ]
     },
     "metadata": {},
     "output_type": "display_data"
    },
    {
     "data": {
      "text/html": [
       "<pre style=\"white-space:pre;overflow-x:auto;line-height:normal;font-family:Menlo,'DejaVu Sans Mono',consolas,'Courier New',monospace\">  Total Steps: <span style=\"color: #008080; text-decoration-color: #008080; font-weight: bold\">155</span>\n",
       "</pre>\n"
      ],
      "text/plain": [
       "  Total Steps: \u001b[1;36m155\u001b[0m\n"
      ]
     },
     "metadata": {},
     "output_type": "display_data"
    },
    {
     "data": {
      "text/html": [
       "<pre style=\"white-space:pre;overflow-x:auto;line-height:normal;font-family:Menlo,'DejaVu Sans Mono',consolas,'Courier New',monospace\">  Initial Portfolio Value: <span style=\"color: #008000; text-decoration-color: #008000\">$</span><span style=\"color: #008000; text-decoration-color: #008000; font-weight: bold\">100000.00</span>\n",
       "</pre>\n"
      ],
      "text/plain": [
       "  Initial Portfolio Value: \u001b[32m$\u001b[0m\u001b[1;32m100000.00\u001b[0m\n"
      ]
     },
     "metadata": {},
     "output_type": "display_data"
    },
    {
     "data": {
      "text/html": [
       "<pre style=\"white-space:pre;overflow-x:auto;line-height:normal;font-family:Menlo,'DejaVu Sans Mono',consolas,'Courier New',monospace\">  Final Portfolio Value: <span style=\"color: #008000; text-decoration-color: #008000\">$</span><span style=\"color: #008000; text-decoration-color: #008000; font-weight: bold\">94039.21</span>\n",
       "</pre>\n"
      ],
      "text/plain": [
       "  Final Portfolio Value: \u001b[32m$\u001b[0m\u001b[1;32m94039.21\u001b[0m\n"
      ]
     },
     "metadata": {},
     "output_type": "display_data"
    },
    {
     "data": {
      "text/html": [
       "<pre style=\"white-space:pre;overflow-x:auto;line-height:normal;font-family:Menlo,'DejaVu Sans Mono',consolas,'Courier New',monospace\">  Total Return: <span style=\"color: #800000; text-decoration-color: #800000; font-weight: bold\">-5.96</span><span style=\"color: #800000; text-decoration-color: #800000\">%</span>\n",
       "</pre>\n"
      ],
      "text/plain": [
       "  Total Return: \u001b[1;31m-5.96\u001b[0m\u001b[31m%\u001b[0m\n"
      ]
     },
     "metadata": {},
     "output_type": "display_data"
    },
    {
     "data": {
      "text/html": [
       "<pre style=\"white-space:pre;overflow-x:auto;line-height:normal;font-family:Menlo,'DejaVu Sans Mono',consolas,'Courier New',monospace\">  Total Reward: <span style=\"color: #808000; text-decoration-color: #808000; font-weight: bold\">-31.41</span>\n",
       "</pre>\n"
      ],
      "text/plain": [
       "  Total Reward: \u001b[1;33m-31.41\u001b[0m\n"
      ]
     },
     "metadata": {},
     "output_type": "display_data"
    },
    {
     "data": {
      "text/html": [
       "<pre style=\"white-space:pre;overflow-x:auto;line-height:normal;font-family:Menlo,'DejaVu Sans Mono',consolas,'Courier New',monospace\"><span style=\"font-style: italic\">       Action Distribution       </span>\n",
       "┏━━━━━━━━━━┳━━━━━━━┳━━━━━━━━━━━━┓\n",
       "┃<span style=\"font-weight: bold\"> Action   </span>┃<span style=\"font-weight: bold\"> Count </span>┃<span style=\"font-weight: bold\"> Percentage </span>┃\n",
       "┡━━━━━━━━━━╇━━━━━━━╇━━━━━━━━━━━━┩\n",
       "│<span style=\"color: #008080; text-decoration-color: #008080\"> Sell     </span>│<span style=\"color: #008000; text-decoration-color: #008000\">   148 </span>│<span style=\"color: #808000; text-decoration-color: #808000\">      95.5% </span>│\n",
       "│<span style=\"color: #008080; text-decoration-color: #008080\"> Buy      </span>│<span style=\"color: #008000; text-decoration-color: #008000\">     4 </span>│<span style=\"color: #808000; text-decoration-color: #808000\">       2.6% </span>│\n",
       "│<span style=\"color: #008080; text-decoration-color: #008080\"> Hold     </span>│<span style=\"color: #008000; text-decoration-color: #008000\">     1 </span>│<span style=\"color: #808000; text-decoration-color: #808000\">       0.6% </span>│\n",
       "│<span style=\"color: #008080; text-decoration-color: #008080\"> LimitBuy </span>│<span style=\"color: #008000; text-decoration-color: #008000\">     2 </span>│<span style=\"color: #808000; text-decoration-color: #808000\">       1.3% </span>│\n",
       "└──────────┴───────┴────────────┘\n",
       "</pre>\n"
      ],
      "text/plain": [
       "\u001b[3m       Action Distribution       \u001b[0m\n",
       "┏━━━━━━━━━━┳━━━━━━━┳━━━━━━━━━━━━┓\n",
       "┃\u001b[1m \u001b[0m\u001b[1mAction  \u001b[0m\u001b[1m \u001b[0m┃\u001b[1m \u001b[0m\u001b[1mCount\u001b[0m\u001b[1m \u001b[0m┃\u001b[1m \u001b[0m\u001b[1mPercentage\u001b[0m\u001b[1m \u001b[0m┃\n",
       "┡━━━━━━━━━━╇━━━━━━━╇━━━━━━━━━━━━┩\n",
       "│\u001b[36m \u001b[0m\u001b[36mSell    \u001b[0m\u001b[36m \u001b[0m│\u001b[32m \u001b[0m\u001b[32m  148\u001b[0m\u001b[32m \u001b[0m│\u001b[33m \u001b[0m\u001b[33m     95.5%\u001b[0m\u001b[33m \u001b[0m│\n",
       "│\u001b[36m \u001b[0m\u001b[36mBuy     \u001b[0m\u001b[36m \u001b[0m│\u001b[32m \u001b[0m\u001b[32m    4\u001b[0m\u001b[32m \u001b[0m│\u001b[33m \u001b[0m\u001b[33m      2.6%\u001b[0m\u001b[33m \u001b[0m│\n",
       "│\u001b[36m \u001b[0m\u001b[36mHold    \u001b[0m\u001b[36m \u001b[0m│\u001b[32m \u001b[0m\u001b[32m    1\u001b[0m\u001b[32m \u001b[0m│\u001b[33m \u001b[0m\u001b[33m      0.6%\u001b[0m\u001b[33m \u001b[0m│\n",
       "│\u001b[36m \u001b[0m\u001b[36mLimitBuy\u001b[0m\u001b[36m \u001b[0m│\u001b[32m \u001b[0m\u001b[32m    2\u001b[0m\u001b[32m \u001b[0m│\u001b[33m \u001b[0m\u001b[33m      1.3%\u001b[0m\u001b[33m \u001b[0m│\n",
       "└──────────┴───────┴────────────┘\n"
      ]
     },
     "metadata": {},
     "output_type": "display_data"
    },
    {
     "data": {
      "text/html": [
       "<pre style=\"white-space:pre;overflow-x:auto;line-height:normal;font-family:Menlo,'DejaVu Sans Mono',consolas,'Courier New',monospace\"><span style=\"color: #808000; text-decoration-color: #808000\">--- Episode </span><span style=\"color: #808000; text-decoration-color: #808000; font-weight: bold\">3</span><span style=\"color: #808000; text-decoration-color: #808000\">/</span><span style=\"color: #808000; text-decoration-color: #808000; font-weight: bold\">3</span><span style=\"color: #808000; text-decoration-color: #808000\"> ---</span>\n",
       "</pre>\n"
      ],
      "text/plain": [
       "\u001b[33m--- Episode \u001b[0m\u001b[1;33m3\u001b[0m\u001b[33m/\u001b[0m\u001b[1;33m3\u001b[0m\u001b[33m ---\u001b[0m\n"
      ]
     },
     "metadata": {},
     "output_type": "display_data"
    },
    {
     "data": {
      "text/html": [
       "<pre style=\"white-space:pre;overflow-x:auto;line-height:normal;font-family:Menlo,'DejaVu Sans Mono',consolas,'Courier New',monospace\">  Step <span style=\"color: #008080; text-decoration-color: #008080; font-weight: bold\">0</span>: <span style=\"color: #800000; text-decoration-color: #800000\">✗</span> <span style=\"color: #800080; text-decoration-color: #800080\">Sell</span>, 💰 <span style=\"color: #008080; text-decoration-color: #008080\">$</span><span style=\"color: #008080; text-decoration-color: #008080; font-weight: bold\">102.50</span>, 📊 <span style=\"color: #008000; text-decoration-color: #008000\">$</span><span style=\"color: #008000; text-decoration-color: #008000; font-weight: bold\">100000.00</span>, 🌟 <span style=\"color: #808000; text-decoration-color: #808000; font-weight: bold\">-2.0000</span>\n",
       "</pre>\n"
      ],
      "text/plain": [
       "  Step \u001b[1;36m0\u001b[0m: \u001b[31m✗\u001b[0m \u001b[35mSell\u001b[0m, 💰 \u001b[36m$\u001b[0m\u001b[1;36m102.50\u001b[0m, 📊 \u001b[32m$\u001b[0m\u001b[1;32m100000.00\u001b[0m, 🌟 \u001b[1;33m-2.0000\u001b[0m\n"
      ]
     },
     "metadata": {},
     "output_type": "display_data"
    },
    {
     "data": {
      "text/html": [
       "<pre style=\"white-space:pre;overflow-x:auto;line-height:normal;font-family:Menlo,'DejaVu Sans Mono',consolas,'Courier New',monospace\">  Step <span style=\"color: #008080; text-decoration-color: #008080; font-weight: bold\">50</span>: <span style=\"color: #008000; text-decoration-color: #008000\">✓</span> <span style=\"color: #800080; text-decoration-color: #800080\">Sell</span>, 💰 <span style=\"color: #008080; text-decoration-color: #008080\">$</span><span style=\"color: #008080; text-decoration-color: #008080; font-weight: bold\">93.63</span>, 📊 <span style=\"color: #008000; text-decoration-color: #008000\">$</span><span style=\"color: #008000; text-decoration-color: #008000; font-weight: bold\">105984.90</span>, 🌟 <span style=\"color: #808000; text-decoration-color: #808000; font-weight: bold\">0.0000</span>\n",
       "</pre>\n"
      ],
      "text/plain": [
       "  Step \u001b[1;36m50\u001b[0m: \u001b[32m✓\u001b[0m \u001b[35mSell\u001b[0m, 💰 \u001b[36m$\u001b[0m\u001b[1;36m93.63\u001b[0m, 📊 \u001b[32m$\u001b[0m\u001b[1;32m105984.90\u001b[0m, 🌟 \u001b[1;33m0.0000\u001b[0m\n"
      ]
     },
     "metadata": {},
     "output_type": "display_data"
    },
    {
     "data": {
      "text/html": [
       "<pre style=\"white-space:pre;overflow-x:auto;line-height:normal;font-family:Menlo,'DejaVu Sans Mono',consolas,'Courier New',monospace\">  Step <span style=\"color: #008080; text-decoration-color: #008080; font-weight: bold\">100</span>: <span style=\"color: #008000; text-decoration-color: #008000\">✓</span> <span style=\"color: #800080; text-decoration-color: #800080\">Sell</span>, 💰 <span style=\"color: #008080; text-decoration-color: #008080\">$</span><span style=\"color: #008080; text-decoration-color: #008080; font-weight: bold\">92.29</span>, 📊 <span style=\"color: #008000; text-decoration-color: #008000\">$</span><span style=\"color: #008000; text-decoration-color: #008000; font-weight: bold\">94016.76</span>, 🌟 <span style=\"color: #808000; text-decoration-color: #808000; font-weight: bold\">0.0001</span>\n",
       "</pre>\n"
      ],
      "text/plain": [
       "  Step \u001b[1;36m100\u001b[0m: \u001b[32m✓\u001b[0m \u001b[35mSell\u001b[0m, 💰 \u001b[36m$\u001b[0m\u001b[1;36m92.29\u001b[0m, 📊 \u001b[32m$\u001b[0m\u001b[1;32m94016.76\u001b[0m, 🌟 \u001b[1;33m0.0001\u001b[0m\n"
      ]
     },
     "metadata": {},
     "output_type": "display_data"
    },
    {
     "data": {
      "text/html": [
       "<pre style=\"white-space:pre;overflow-x:auto;line-height:normal;font-family:Menlo,'DejaVu Sans Mono',consolas,'Courier New',monospace\">  Step <span style=\"color: #008080; text-decoration-color: #008080; font-weight: bold\">150</span>: <span style=\"color: #008000; text-decoration-color: #008000\">✓</span> <span style=\"color: #800080; text-decoration-color: #800080\">Sell</span>, 💰 <span style=\"color: #008080; text-decoration-color: #008080\">$</span><span style=\"color: #008080; text-decoration-color: #008080; font-weight: bold\">111.73</span>, 📊 <span style=\"color: #008000; text-decoration-color: #008000\">$</span><span style=\"color: #008000; text-decoration-color: #008000; font-weight: bold\">94036.20</span>, 🌟 <span style=\"color: #808000; text-decoration-color: #808000; font-weight: bold\">0.0000</span>\n",
       "</pre>\n"
      ],
      "text/plain": [
       "  Step \u001b[1;36m150\u001b[0m: \u001b[32m✓\u001b[0m \u001b[35mSell\u001b[0m, 💰 \u001b[36m$\u001b[0m\u001b[1;36m111.73\u001b[0m, 📊 \u001b[32m$\u001b[0m\u001b[1;32m94036.20\u001b[0m, 🌟 \u001b[1;33m0.0000\u001b[0m\n"
      ]
     },
     "metadata": {},
     "output_type": "display_data"
    },
    {
     "data": {
      "text/html": [
       "<pre style=\"white-space:pre;overflow-x:auto;line-height:normal;font-family:Menlo,'DejaVu Sans Mono',consolas,'Courier New',monospace\"><span style=\"color: #008000; text-decoration-color: #008000; font-weight: bold\">Episode </span><span style=\"color: #008000; text-decoration-color: #008000; font-weight: bold\">3</span><span style=\"color: #008000; text-decoration-color: #008000; font-weight: bold\"> Results:</span>\n",
       "</pre>\n"
      ],
      "text/plain": [
       "\u001b[1;32mEpisode \u001b[0m\u001b[1;32m3\u001b[0m\u001b[1;32m Results:\u001b[0m\n"
      ]
     },
     "metadata": {},
     "output_type": "display_data"
    },
    {
     "data": {
      "text/html": [
       "<pre style=\"white-space:pre;overflow-x:auto;line-height:normal;font-family:Menlo,'DejaVu Sans Mono',consolas,'Courier New',monospace\">  Total Steps: <span style=\"color: #008080; text-decoration-color: #008080; font-weight: bold\">155</span>\n",
       "</pre>\n"
      ],
      "text/plain": [
       "  Total Steps: \u001b[1;36m155\u001b[0m\n"
      ]
     },
     "metadata": {},
     "output_type": "display_data"
    },
    {
     "data": {
      "text/html": [
       "<pre style=\"white-space:pre;overflow-x:auto;line-height:normal;font-family:Menlo,'DejaVu Sans Mono',consolas,'Courier New',monospace\">  Initial Portfolio Value: <span style=\"color: #008000; text-decoration-color: #008000\">$</span><span style=\"color: #008000; text-decoration-color: #008000; font-weight: bold\">100000.00</span>\n",
       "</pre>\n"
      ],
      "text/plain": [
       "  Initial Portfolio Value: \u001b[32m$\u001b[0m\u001b[1;32m100000.00\u001b[0m\n"
      ]
     },
     "metadata": {},
     "output_type": "display_data"
    },
    {
     "data": {
      "text/html": [
       "<pre style=\"white-space:pre;overflow-x:auto;line-height:normal;font-family:Menlo,'DejaVu Sans Mono',consolas,'Courier New',monospace\">  Final Portfolio Value: <span style=\"color: #008000; text-decoration-color: #008000\">$</span><span style=\"color: #008000; text-decoration-color: #008000; font-weight: bold\">94039.21</span>\n",
       "</pre>\n"
      ],
      "text/plain": [
       "  Final Portfolio Value: \u001b[32m$\u001b[0m\u001b[1;32m94039.21\u001b[0m\n"
      ]
     },
     "metadata": {},
     "output_type": "display_data"
    },
    {
     "data": {
      "text/html": [
       "<pre style=\"white-space:pre;overflow-x:auto;line-height:normal;font-family:Menlo,'DejaVu Sans Mono',consolas,'Courier New',monospace\">  Total Return: <span style=\"color: #800000; text-decoration-color: #800000; font-weight: bold\">-5.96</span><span style=\"color: #800000; text-decoration-color: #800000\">%</span>\n",
       "</pre>\n"
      ],
      "text/plain": [
       "  Total Return: \u001b[1;31m-5.96\u001b[0m\u001b[31m%\u001b[0m\n"
      ]
     },
     "metadata": {},
     "output_type": "display_data"
    },
    {
     "data": {
      "text/html": [
       "<pre style=\"white-space:pre;overflow-x:auto;line-height:normal;font-family:Menlo,'DejaVu Sans Mono',consolas,'Courier New',monospace\">  Total Reward: <span style=\"color: #808000; text-decoration-color: #808000; font-weight: bold\">-31.41</span>\n",
       "</pre>\n"
      ],
      "text/plain": [
       "  Total Reward: \u001b[1;33m-31.41\u001b[0m\n"
      ]
     },
     "metadata": {},
     "output_type": "display_data"
    },
    {
     "data": {
      "text/html": [
       "<pre style=\"white-space:pre;overflow-x:auto;line-height:normal;font-family:Menlo,'DejaVu Sans Mono',consolas,'Courier New',monospace\"><span style=\"font-style: italic\">       Action Distribution       </span>\n",
       "┏━━━━━━━━━━┳━━━━━━━┳━━━━━━━━━━━━┓\n",
       "┃<span style=\"font-weight: bold\"> Action   </span>┃<span style=\"font-weight: bold\"> Count </span>┃<span style=\"font-weight: bold\"> Percentage </span>┃\n",
       "┡━━━━━━━━━━╇━━━━━━━╇━━━━━━━━━━━━┩\n",
       "│<span style=\"color: #008080; text-decoration-color: #008080\"> Sell     </span>│<span style=\"color: #008000; text-decoration-color: #008000\">   148 </span>│<span style=\"color: #808000; text-decoration-color: #808000\">      95.5% </span>│\n",
       "│<span style=\"color: #008080; text-decoration-color: #008080\"> Buy      </span>│<span style=\"color: #008000; text-decoration-color: #008000\">     4 </span>│<span style=\"color: #808000; text-decoration-color: #808000\">       2.6% </span>│\n",
       "│<span style=\"color: #008080; text-decoration-color: #008080\"> Hold     </span>│<span style=\"color: #008000; text-decoration-color: #008000\">     1 </span>│<span style=\"color: #808000; text-decoration-color: #808000\">       0.6% </span>│\n",
       "│<span style=\"color: #008080; text-decoration-color: #008080\"> LimitBuy </span>│<span style=\"color: #008000; text-decoration-color: #008000\">     2 </span>│<span style=\"color: #808000; text-decoration-color: #808000\">       1.3% </span>│\n",
       "└──────────┴───────┴────────────┘\n",
       "</pre>\n"
      ],
      "text/plain": [
       "\u001b[3m       Action Distribution       \u001b[0m\n",
       "┏━━━━━━━━━━┳━━━━━━━┳━━━━━━━━━━━━┓\n",
       "┃\u001b[1m \u001b[0m\u001b[1mAction  \u001b[0m\u001b[1m \u001b[0m┃\u001b[1m \u001b[0m\u001b[1mCount\u001b[0m\u001b[1m \u001b[0m┃\u001b[1m \u001b[0m\u001b[1mPercentage\u001b[0m\u001b[1m \u001b[0m┃\n",
       "┡━━━━━━━━━━╇━━━━━━━╇━━━━━━━━━━━━┩\n",
       "│\u001b[36m \u001b[0m\u001b[36mSell    \u001b[0m\u001b[36m \u001b[0m│\u001b[32m \u001b[0m\u001b[32m  148\u001b[0m\u001b[32m \u001b[0m│\u001b[33m \u001b[0m\u001b[33m     95.5%\u001b[0m\u001b[33m \u001b[0m│\n",
       "│\u001b[36m \u001b[0m\u001b[36mBuy     \u001b[0m\u001b[36m \u001b[0m│\u001b[32m \u001b[0m\u001b[32m    4\u001b[0m\u001b[32m \u001b[0m│\u001b[33m \u001b[0m\u001b[33m      2.6%\u001b[0m\u001b[33m \u001b[0m│\n",
       "│\u001b[36m \u001b[0m\u001b[36mHold    \u001b[0m\u001b[36m \u001b[0m│\u001b[32m \u001b[0m\u001b[32m    1\u001b[0m\u001b[32m \u001b[0m│\u001b[33m \u001b[0m\u001b[33m      0.6%\u001b[0m\u001b[33m \u001b[0m│\n",
       "│\u001b[36m \u001b[0m\u001b[36mLimitBuy\u001b[0m\u001b[36m \u001b[0m│\u001b[32m \u001b[0m\u001b[32m    2\u001b[0m\u001b[32m \u001b[0m│\u001b[33m \u001b[0m\u001b[33m      1.3%\u001b[0m\u001b[33m \u001b[0m│\n",
       "└──────────┴───────┴────────────┘\n"
      ]
     },
     "metadata": {},
     "output_type": "display_data"
    },
    {
     "data": {
      "text/html": [
       "<pre style=\"white-space:pre;overflow-x:auto;line-height:normal;font-family:Menlo,'DejaVu Sans Mono',consolas,'Courier New',monospace\"></pre>\n"
      ],
      "text/plain": []
     },
     "metadata": {},
     "output_type": "display_data"
    },
    {
     "data": {
      "text/html": [
       "<pre style=\"white-space:pre;overflow-x:auto;line-height:normal;font-family:Menlo,'DejaVu Sans Mono',consolas,'Courier New',monospace\">\n",
       "<span style=\"color: #800080; text-decoration-color: #800080; font-weight: bold\">=== Overall Evaluation Summary ===</span>\n",
       "</pre>\n"
      ],
      "text/plain": [
       "\n",
       "\u001b[1;35m=== Overall Evaluation Summary ===\u001b[0m\n"
      ]
     },
     "metadata": {},
     "output_type": "display_data"
    },
    {
     "data": {
      "text/html": [
       "<pre style=\"white-space:pre;overflow-x:auto;line-height:normal;font-family:Menlo,'DejaVu Sans Mono',consolas,'Courier New',monospace\"><span style=\"font-style: italic\">       Summary Statistics        </span>\n",
       "┏━━━━━━━━━━━━━━━━━━━━━━┳━━━━━━━━┓\n",
       "┃<span style=\"font-weight: bold\"> Metric               </span>┃<span style=\"font-weight: bold\"> Value  </span>┃\n",
       "┡━━━━━━━━━━━━━━━━━━━━━━╇━━━━━━━━┩\n",
       "│<span style=\"color: #008080; text-decoration-color: #008080\"> Total Episodes       </span>│<span style=\"color: #008000; text-decoration-color: #008000\"> 3      </span>│\n",
       "│<span style=\"color: #008080; text-decoration-color: #008080\"> Average Reward       </span>│<span style=\"color: #008000; text-decoration-color: #008000\"> -31.41 </span>│\n",
       "│<span style=\"color: #008080; text-decoration-color: #008080\"> Reward Std Dev       </span>│<span style=\"color: #008000; text-decoration-color: #008000\"> 0.00   </span>│\n",
       "│<span style=\"color: #008080; text-decoration-color: #008080\"> Best Episode Reward  </span>│<span style=\"color: #008000; text-decoration-color: #008000\"> -31.41 </span>│\n",
       "│<span style=\"color: #008080; text-decoration-color: #008080\"> Worst Episode Reward </span>│<span style=\"color: #008000; text-decoration-color: #008000\"> -31.41 </span>│\n",
       "│<span style=\"color: #008080; text-decoration-color: #008080\"> Average Return       </span>│<span style=\"color: #008000; text-decoration-color: #008000\"> </span><span style=\"color: #800000; text-decoration-color: #800000\">-5.96%</span><span style=\"color: #008000; text-decoration-color: #008000\"> </span>│\n",
       "└──────────────────────┴────────┘\n",
       "</pre>\n"
      ],
      "text/plain": [
       "\u001b[3m       Summary Statistics        \u001b[0m\n",
       "┏━━━━━━━━━━━━━━━━━━━━━━┳━━━━━━━━┓\n",
       "┃\u001b[1m \u001b[0m\u001b[1mMetric              \u001b[0m\u001b[1m \u001b[0m┃\u001b[1m \u001b[0m\u001b[1mValue \u001b[0m\u001b[1m \u001b[0m┃\n",
       "┡━━━━━━━━━━━━━━━━━━━━━━╇━━━━━━━━┩\n",
       "│\u001b[36m \u001b[0m\u001b[36mTotal Episodes      \u001b[0m\u001b[36m \u001b[0m│\u001b[32m \u001b[0m\u001b[32m3     \u001b[0m\u001b[32m \u001b[0m│\n",
       "│\u001b[36m \u001b[0m\u001b[36mAverage Reward      \u001b[0m\u001b[36m \u001b[0m│\u001b[32m \u001b[0m\u001b[32m-31.41\u001b[0m\u001b[32m \u001b[0m│\n",
       "│\u001b[36m \u001b[0m\u001b[36mReward Std Dev      \u001b[0m\u001b[36m \u001b[0m│\u001b[32m \u001b[0m\u001b[32m0.00  \u001b[0m\u001b[32m \u001b[0m│\n",
       "│\u001b[36m \u001b[0m\u001b[36mBest Episode Reward \u001b[0m\u001b[36m \u001b[0m│\u001b[32m \u001b[0m\u001b[32m-31.41\u001b[0m\u001b[32m \u001b[0m│\n",
       "│\u001b[36m \u001b[0m\u001b[36mWorst Episode Reward\u001b[0m\u001b[36m \u001b[0m│\u001b[32m \u001b[0m\u001b[32m-31.41\u001b[0m\u001b[32m \u001b[0m│\n",
       "│\u001b[36m \u001b[0m\u001b[36mAverage Return      \u001b[0m\u001b[36m \u001b[0m│\u001b[32m \u001b[0m\u001b[31m-5.96%\u001b[0m\u001b[32m \u001b[0m│\n",
       "└──────────────────────┴────────┘\n"
      ]
     },
     "metadata": {},
     "output_type": "display_data"
    },
    {
     "name": "stdout",
     "output_type": "stream",
     "text": [
      "SingleStockTradingEnv closed.\n"
     ]
    },
    {
     "data": {
      "text/html": [
       "<pre style=\"white-space:pre;overflow-x:auto;line-height:normal;font-family:Menlo,'DejaVu Sans Mono',consolas,'Courier New',monospace\"><span style=\"color: #00ff00; text-decoration-color: #00ff00\">────────────────────────────────────────────── </span><span style=\"color: #808000; text-decoration-color: #808000; font-weight: bold\">📋 RESULTS SUMMARY 📋</span><span style=\"color: #00ff00; text-decoration-color: #00ff00\"> ──────────────────────────────────────────────</span>\n",
       "</pre>\n"
      ],
      "text/plain": [
       "\u001b[92m────────────────────────────────────────────── \u001b[0m\u001b[1;33m📋 RESULTS SUMMARY 📋\u001b[0m\u001b[92m ──────────────────────────────────────────────\u001b[0m\n"
      ]
     },
     "metadata": {},
     "output_type": "display_data"
    },
    {
     "data": {
      "text/html": [
       "<pre style=\"white-space:pre;overflow-x:auto;line-height:normal;font-family:Menlo,'DejaVu Sans Mono',consolas,'Courier New',monospace\"><span style=\"font-style: italic\">           Experiment Results            </span>\n",
       "┏━━━━━━━━━━━━━━━━━━━━┳━━━━━━━━━┳━━━━━━━━┓\n",
       "┃<span style=\"font-weight: bold\"> Metric             </span>┃<span style=\"font-weight: bold\"> Train   </span>┃<span style=\"font-weight: bold\"> Test   </span>┃\n",
       "┡━━━━━━━━━━━━━━━━━━━━╇━━━━━━━━━╇━━━━━━━━┩\n",
       "│<span style=\"color: #008080; text-decoration-color: #008080\"> Average Return (%) </span>│<span style=\"color: #008000; text-decoration-color: #008000\"> </span><span style=\"color: #800000; text-decoration-color: #800000\">-15.66%</span><span style=\"color: #008000; text-decoration-color: #008000\"> </span>│<span style=\"color: #000080; text-decoration-color: #000080\"> </span><span style=\"color: #800000; text-decoration-color: #800000\">-5.96%</span><span style=\"color: #000080; text-decoration-color: #000080\"> </span>│\n",
       "│<span style=\"color: #008080; text-decoration-color: #008080\"> Average Reward     </span>│<span style=\"color: #008000; text-decoration-color: #008000\"> -38.64  </span>│<span style=\"color: #000080; text-decoration-color: #000080\"> -31.41 </span>│\n",
       "└────────────────────┴─────────┴────────┘\n",
       "</pre>\n"
      ],
      "text/plain": [
       "\u001b[3m           Experiment Results            \u001b[0m\n",
       "┏━━━━━━━━━━━━━━━━━━━━┳━━━━━━━━━┳━━━━━━━━┓\n",
       "┃\u001b[1m \u001b[0m\u001b[1mMetric            \u001b[0m\u001b[1m \u001b[0m┃\u001b[1m \u001b[0m\u001b[1mTrain  \u001b[0m\u001b[1m \u001b[0m┃\u001b[1m \u001b[0m\u001b[1mTest  \u001b[0m\u001b[1m \u001b[0m┃\n",
       "┡━━━━━━━━━━━━━━━━━━━━╇━━━━━━━━━╇━━━━━━━━┩\n",
       "│\u001b[36m \u001b[0m\u001b[36mAverage Return (%)\u001b[0m\u001b[36m \u001b[0m│\u001b[32m \u001b[0m\u001b[31m-15.66%\u001b[0m\u001b[32m \u001b[0m│\u001b[34m \u001b[0m\u001b[31m-5.96%\u001b[0m\u001b[34m \u001b[0m│\n",
       "│\u001b[36m \u001b[0m\u001b[36mAverage Reward    \u001b[0m\u001b[36m \u001b[0m│\u001b[32m \u001b[0m\u001b[32m-38.64 \u001b[0m\u001b[32m \u001b[0m│\u001b[34m \u001b[0m\u001b[34m-31.41\u001b[0m\u001b[34m \u001b[0m│\n",
       "└────────────────────┴─────────┴────────┘\n"
      ]
     },
     "metadata": {},
     "output_type": "display_data"
    },
    {
     "data": {
      "text/html": [
       "<pre style=\"white-space:pre;overflow-x:auto;line-height:normal;font-family:Menlo,'DejaVu Sans Mono',consolas,'Courier New',monospace\">\n",
       "<span style=\"color: #008080; text-decoration-color: #008080; font-weight: bold\">Action Statistics:</span>\n",
       "</pre>\n"
      ],
      "text/plain": [
       "\n",
       "\u001b[1;36mAction Statistics:\u001b[0m\n"
      ]
     },
     "metadata": {},
     "output_type": "display_data"
    },
    {
     "data": {
      "text/html": [
       "<pre style=\"white-space:pre;overflow-x:auto;line-height:normal;font-family:Menlo,'DejaVu Sans Mono',consolas,'Courier New',monospace\"><span style=\"font-style: italic\">                   Action Distribution                    </span>\n",
       "┏━━━━━━━━━━┳━━━━━━━━━━━━━┳━━━━━━━━━┳━━━━━━━━━━━━┳━━━━━━━━┓\n",
       "┃<span style=\"font-weight: bold\"> Action   </span>┃<span style=\"font-weight: bold\"> Train Count </span>┃<span style=\"font-weight: bold\"> Train % </span>┃<span style=\"font-weight: bold\"> Test Count </span>┃<span style=\"font-weight: bold\"> Test % </span>┃\n",
       "┡━━━━━━━━━━╇━━━━━━━━━━━━━╇━━━━━━━━━╇━━━━━━━━━━━━╇━━━━━━━━┩\n",
       "│<span style=\"color: #008080; text-decoration-color: #008080\"> Buy      </span>│<span style=\"color: #008000; text-decoration-color: #008000\">           3 </span>│<span style=\"color: #008000; text-decoration-color: #008000\">    0.1% </span>│<span style=\"color: #000080; text-decoration-color: #000080\">         12 </span>│<span style=\"color: #000080; text-decoration-color: #000080\">   2.6% </span>│\n",
       "│<span style=\"color: #008080; text-decoration-color: #008080\"> Hold     </span>│<span style=\"color: #008000; text-decoration-color: #008000\">           0 </span>│<span style=\"color: #008000; text-decoration-color: #008000\">    0.0% </span>│<span style=\"color: #000080; text-decoration-color: #000080\">          3 </span>│<span style=\"color: #000080; text-decoration-color: #000080\">   0.6% </span>│\n",
       "│<span style=\"color: #008080; text-decoration-color: #008080\"> LimitBuy </span>│<span style=\"color: #008000; text-decoration-color: #008000\">          33 </span>│<span style=\"color: #008000; text-decoration-color: #008000\">    1.6% </span>│<span style=\"color: #000080; text-decoration-color: #000080\">          6 </span>│<span style=\"color: #000080; text-decoration-color: #000080\">   1.3% </span>│\n",
       "│<span style=\"color: #008080; text-decoration-color: #008080\"> Sell     </span>│<span style=\"color: #008000; text-decoration-color: #008000\">        2004 </span>│<span style=\"color: #008000; text-decoration-color: #008000\">   98.2% </span>│<span style=\"color: #000080; text-decoration-color: #000080\">        444 </span>│<span style=\"color: #000080; text-decoration-color: #000080\">  95.5% </span>│\n",
       "└──────────┴─────────────┴─────────┴────────────┴────────┘\n",
       "</pre>\n"
      ],
      "text/plain": [
       "\u001b[3m                   Action Distribution                    \u001b[0m\n",
       "┏━━━━━━━━━━┳━━━━━━━━━━━━━┳━━━━━━━━━┳━━━━━━━━━━━━┳━━━━━━━━┓\n",
       "┃\u001b[1m \u001b[0m\u001b[1mAction  \u001b[0m\u001b[1m \u001b[0m┃\u001b[1m \u001b[0m\u001b[1mTrain Count\u001b[0m\u001b[1m \u001b[0m┃\u001b[1m \u001b[0m\u001b[1mTrain %\u001b[0m\u001b[1m \u001b[0m┃\u001b[1m \u001b[0m\u001b[1mTest Count\u001b[0m\u001b[1m \u001b[0m┃\u001b[1m \u001b[0m\u001b[1mTest %\u001b[0m\u001b[1m \u001b[0m┃\n",
       "┡━━━━━━━━━━╇━━━━━━━━━━━━━╇━━━━━━━━━╇━━━━━━━━━━━━╇━━━━━━━━┩\n",
       "│\u001b[36m \u001b[0m\u001b[36mBuy     \u001b[0m\u001b[36m \u001b[0m│\u001b[32m \u001b[0m\u001b[32m          3\u001b[0m\u001b[32m \u001b[0m│\u001b[32m \u001b[0m\u001b[32m   0.1%\u001b[0m\u001b[32m \u001b[0m│\u001b[34m \u001b[0m\u001b[34m        12\u001b[0m\u001b[34m \u001b[0m│\u001b[34m \u001b[0m\u001b[34m  2.6%\u001b[0m\u001b[34m \u001b[0m│\n",
       "│\u001b[36m \u001b[0m\u001b[36mHold    \u001b[0m\u001b[36m \u001b[0m│\u001b[32m \u001b[0m\u001b[32m          0\u001b[0m\u001b[32m \u001b[0m│\u001b[32m \u001b[0m\u001b[32m   0.0%\u001b[0m\u001b[32m \u001b[0m│\u001b[34m \u001b[0m\u001b[34m         3\u001b[0m\u001b[34m \u001b[0m│\u001b[34m \u001b[0m\u001b[34m  0.6%\u001b[0m\u001b[34m \u001b[0m│\n",
       "│\u001b[36m \u001b[0m\u001b[36mLimitBuy\u001b[0m\u001b[36m \u001b[0m│\u001b[32m \u001b[0m\u001b[32m         33\u001b[0m\u001b[32m \u001b[0m│\u001b[32m \u001b[0m\u001b[32m   1.6%\u001b[0m\u001b[32m \u001b[0m│\u001b[34m \u001b[0m\u001b[34m         6\u001b[0m\u001b[34m \u001b[0m│\u001b[34m \u001b[0m\u001b[34m  1.3%\u001b[0m\u001b[34m \u001b[0m│\n",
       "│\u001b[36m \u001b[0m\u001b[36mSell    \u001b[0m\u001b[36m \u001b[0m│\u001b[32m \u001b[0m\u001b[32m       2004\u001b[0m\u001b[32m \u001b[0m│\u001b[32m \u001b[0m\u001b[32m  98.2%\u001b[0m\u001b[32m \u001b[0m│\u001b[34m \u001b[0m\u001b[34m       444\u001b[0m\u001b[34m \u001b[0m│\u001b[34m \u001b[0m\u001b[34m 95.5%\u001b[0m\u001b[34m \u001b[0m│\n",
       "└──────────┴─────────────┴─────────┴────────────┴────────┘\n"
      ]
     },
     "metadata": {},
     "output_type": "display_data"
    },
    {
     "data": {
      "text/html": [
       "<pre style=\"white-space:pre;overflow-x:auto;line-height:normal;font-family:Menlo,'DejaVu Sans Mono',consolas,'Courier New',monospace\"><span style=\"font-style: italic\">       Step Summary       </span>\n",
       "┏━━━━━━━━━━┳━━━━━━━━━━━━━┓\n",
       "┃<span style=\"font-weight: bold\"> Phase    </span>┃<span style=\"font-weight: bold\"> Total Steps </span>┃\n",
       "┡━━━━━━━━━━╇━━━━━━━━━━━━━┩\n",
       "│<span style=\"color: #008080; text-decoration-color: #008080\"> Training </span>│<span style=\"color: #808000; text-decoration-color: #808000\">        2040 </span>│\n",
       "│<span style=\"color: #008080; text-decoration-color: #008080\"> Testing  </span>│<span style=\"color: #808000; text-decoration-color: #808000\">         465 </span>│\n",
       "└──────────┴─────────────┘\n",
       "</pre>\n"
      ],
      "text/plain": [
       "\u001b[3m       Step Summary       \u001b[0m\n",
       "┏━━━━━━━━━━┳━━━━━━━━━━━━━┓\n",
       "┃\u001b[1m \u001b[0m\u001b[1mPhase   \u001b[0m\u001b[1m \u001b[0m┃\u001b[1m \u001b[0m\u001b[1mTotal Steps\u001b[0m\u001b[1m \u001b[0m┃\n",
       "┡━━━━━━━━━━╇━━━━━━━━━━━━━┩\n",
       "│\u001b[36m \u001b[0m\u001b[36mTraining\u001b[0m\u001b[36m \u001b[0m│\u001b[33m \u001b[0m\u001b[33m       2040\u001b[0m\u001b[33m \u001b[0m│\n",
       "│\u001b[36m \u001b[0m\u001b[36mTesting \u001b[0m\u001b[36m \u001b[0m│\u001b[33m \u001b[0m\u001b[33m        465\u001b[0m\u001b[33m \u001b[0m│\n",
       "└──────────┴─────────────┘\n"
      ]
     },
     "metadata": {},
     "output_type": "display_data"
    },
    {
     "name": "stdout",
     "output_type": "stream",
     "text": [
      "✅ Single experiment completed!\n"
     ]
    }
   ],
   "source": [
    "# Single experiment using custom configuration\n",
    "\n",
    "runner = BacktestRunner(verbose=1)\n",
    "\n",
    "# TODO: read up the algorithms again \n",
    "\n",
    "custom_config = BacktestRunner.create_custom_config(\n",
    "    SAC,\n",
    "    learning_rate=0.0001,           # Lower learning rate to stabilize training\n",
    "    batch_size=256,                  # Increased batch size for more stable updates\n",
    "    gamma=0.995,                    # Higher gamma for long-term focus\n",
    "    tau=0.01,                       # Slower soft updates\n",
    "    ent_coef=0.2,                   # Higher entropy for more exploration\n",
    "    gradient_steps=1,\n",
    "    buffer_size=500000,  \n",
    "    verbose=0,  # Set to 0 to suppress output           \n",
    "    policy_kwargs={\n",
    "        'net_arch': [256, 256],      \n",
    "        'activation_fn': nn.ReLU  # not that you cannot use str here, it must be a callable\n",
    "    }\n",
    ")\n",
    "\n",
    "# Run single experiment using the single_env_config\n",
    "results = runner.run_single_experiment(\n",
    "    SAC,          # Algorithm to use\n",
    "    single_env_config,     # Use the single environment config we created\n",
    "    config=custom_config,  # Custom algorithm configuration, this is an optional parameter\n",
    "    total_timesteps=50000,  # Total timesteps for training\n",
    "    num_eval_episodes=3\n",
    ")\n",
    "\n",
    "print(f\"✅ Single experiment completed!\")"
   ]
  },
  {
   "cell_type": "code",
   "execution_count": 14,
   "id": "ec3dbfe0",
   "metadata": {},
   "outputs": [
    {
     "name": "stderr",
     "output_type": "stream",
     "text": [
      "2025/08/04 22:57:49 INFO mlflow.tracking.fluent: Experiment with name 'quantrl_hyperparameter_optimization' does not exist. Creating a new experiment.\n"
     ]
    },
    {
     "data": {
      "text/html": [
       "<pre style=\"white-space:pre;overflow-x:auto;line-height:normal;font-family:Menlo,'DejaVu Sans Mono',consolas,'Courier New',monospace\"><span style=\"color: #000080; text-decoration-color: #000080\">╭──────────────────────────────────────────── </span><span style=\"color: #808000; text-decoration-color: #808000; font-weight: bold\">QuantRL-Lab Experiment</span><span style=\"color: #000080; text-decoration-color: #000080\"> ─────────────────────────────────────────────╮</span>\n",
       "<span style=\"color: #000080; text-decoration-color: #000080\">│</span> <span style=\"color: #000080; text-decoration-color: #000080; font-weight: bold\">MLflow Tracking URI:</span> file:///Users/hanyuwu/Study/QuantRL-Lab/notebooks/mlruns                                   <span style=\"color: #000080; text-decoration-color: #000080\">│</span>\n",
       "<span style=\"color: #000080; text-decoration-color: #000080\">│</span> <span style=\"color: #000080; text-decoration-color: #000080; font-weight: bold\">MLflow Experiment:</span> <span style=\"color: #008000; text-decoration-color: #008000\">quantrl_hyperparameter_optimization</span>                                                          <span style=\"color: #000080; text-decoration-color: #000080\">│</span>\n",
       "<span style=\"color: #000080; text-decoration-color: #000080\">╰─────────────────────────────────────────────────────────────────────────────────────────────────────────────────╯</span>\n",
       "</pre>\n"
      ],
      "text/plain": [
       "\u001b[34m╭─\u001b[0m\u001b[34m───────────────────────────────────────────\u001b[0m\u001b[34m \u001b[0m\u001b[1;33mQuantRL-Lab Experiment\u001b[0m\u001b[34m \u001b[0m\u001b[34m────────────────────────────────────────────\u001b[0m\u001b[34m─╮\u001b[0m\n",
       "\u001b[34m│\u001b[0m \u001b[1;34mMLflow Tracking URI:\u001b[0m file:///Users/hanyuwu/Study/QuantRL-Lab/notebooks/mlruns                                   \u001b[34m│\u001b[0m\n",
       "\u001b[34m│\u001b[0m \u001b[1;34mMLflow Experiment:\u001b[0m \u001b[32mquantrl_hyperparameter_optimization\u001b[0m                                                          \u001b[34m│\u001b[0m\n",
       "\u001b[34m╰─────────────────────────────────────────────────────────────────────────────────────────────────────────────────╯\u001b[0m\n"
      ]
     },
     "metadata": {},
     "output_type": "display_data"
    },
    {
     "name": "stderr",
     "output_type": "stream",
     "text": [
      "/Users/hanyuwu/Study/QuantRL-Lab/src/quantrl_lab/tuning/mlflow_runner.py:69: ExperimentalWarning: MLflowCallback is experimental (supported from v1.4.0). The interface can change in the future.\n",
      "  self.mlflow_callback = MLflowCallback(\n"
     ]
    },
    {
     "name": "stdout",
     "output_type": "stream",
     "text": [
      "Starting SAC hyperparameter optimization...\n"
     ]
    },
    {
     "name": "stderr",
     "output_type": "stream",
     "text": [
      "[I 2025-08-04 22:57:49,853] Using an existing study with name 'sac_optimization' instead of creating a new one.\n"
     ]
    },
    {
     "data": {
      "text/html": [
       "<pre style=\"white-space:pre;overflow-x:auto;line-height:normal;font-family:Menlo,'DejaVu Sans Mono',consolas,'Courier New',monospace\"><span style=\"color: #000080; text-decoration-color: #000080; font-weight: bold\">Parent run for Optuna study</span> <span style=\"color: #008000; text-decoration-color: #008000\">'sac_optimization'</span> <span style=\"color: #000080; text-decoration-color: #000080; font-weight: bold\">started with ID:</span> <span style=\"color: #008080; text-decoration-color: #008080\">3c75466be56f4a32b188926c2c920ebd</span>\n",
       "</pre>\n"
      ],
      "text/plain": [
       "\u001b[1;34mParent run for Optuna study\u001b[0m \u001b[32m'\u001b[0m\u001b[32msac_optimization\u001b[0m\u001b[32m'\u001b[0m \u001b[1;34mstarted with ID:\u001b[0m \u001b[36m3c75466be56f4a32b188926c2c920ebd\u001b[0m\n"
      ]
     },
     "metadata": {},
     "output_type": "display_data"
    },
    {
     "data": {
      "text/html": [
       "<pre style=\"white-space:pre;overflow-x:auto;line-height:normal;font-family:Menlo,'DejaVu Sans Mono',consolas,'Courier New',monospace\"><span style=\"color: #00ff00; text-decoration-color: #00ff00\">─────────────────────────────────────── </span><span style=\"color: #000080; text-decoration-color: #000080; font-weight: bold\">Starting optimization for </span><span style=\"color: #808000; text-decoration-color: #808000; font-weight: bold\">2</span><span style=\"color: #000080; text-decoration-color: #000080; font-weight: bold\"> trials</span><span style=\"color: #00ff00; text-decoration-color: #00ff00\"> ────────────────────────────────────────</span>\n",
       "</pre>\n"
      ],
      "text/plain": [
       "\u001b[92m─────────────────────────────────────── \u001b[0m\u001b[1;34mStarting optimization for \u001b[0m\u001b[1;33m2\u001b[0m\u001b[1;34m trials\u001b[0m\u001b[92m ────────────────────────────────────────\u001b[0m\n"
      ]
     },
     "metadata": {},
     "output_type": "display_data"
    },
    {
     "data": {
      "text/html": [
       "<pre style=\"white-space:pre;overflow-x:auto;line-height:normal;font-family:Menlo,'DejaVu Sans Mono',consolas,'Courier New',monospace\">\n",
       "</pre>\n"
      ],
      "text/plain": [
       "\n"
      ]
     },
     "metadata": {},
     "output_type": "display_data"
    },
    {
     "data": {
      "text/html": [
       "<pre style=\"white-space:pre;overflow-x:auto;line-height:normal;font-family:Menlo,'DejaVu Sans Mono',consolas,'Courier New',monospace\"><span style=\"color: #008080; text-decoration-color: #008080; font-weight: bold\">Starting Trial </span><span style=\"color: #008080; text-decoration-color: #008080; font-weight: bold\">16</span> with params: <span style=\"color: #808000; text-decoration-color: #808000; font-weight: bold\">{</span><span style=\"color: #808000; text-decoration-color: #808000\">'learning_rate'</span><span style=\"color: #808000; text-decoration-color: #808000\">: </span><span style=\"color: #808000; text-decoration-color: #808000; font-weight: bold\">0.0009488847836753405</span><span style=\"color: #808000; text-decoration-color: #808000\">, </span><span style=\"color: #808000; text-decoration-color: #808000\">'batch_size'</span><span style=\"color: #808000; text-decoration-color: #808000\">: </span><span style=\"color: #808000; text-decoration-color: #808000; font-weight: bold\">256</span><span style=\"color: #808000; text-decoration-color: #808000\">, </span><span style=\"color: #808000; text-decoration-color: #808000\">'gamma'</span><span style=\"color: #808000; text-decoration-color: #808000\">: </span>\n",
       "<span style=\"color: #808000; text-decoration-color: #808000; font-weight: bold\">0.9670296862598182</span><span style=\"color: #808000; text-decoration-color: #808000\">, </span><span style=\"color: #808000; text-decoration-color: #808000\">'tau'</span><span style=\"color: #808000; text-decoration-color: #808000\">: </span><span style=\"color: #808000; text-decoration-color: #808000; font-weight: bold\">0.09254593878602649</span><span style=\"color: #808000; text-decoration-color: #808000\">, </span><span style=\"color: #808000; text-decoration-color: #808000\">'train_freq'</span><span style=\"color: #808000; text-decoration-color: #808000\">: </span><span style=\"color: #808000; text-decoration-color: #808000; font-weight: bold\">4</span><span style=\"color: #808000; text-decoration-color: #808000\">, </span><span style=\"color: #808000; text-decoration-color: #808000\">'gradient_steps'</span><span style=\"color: #808000; text-decoration-color: #808000\">: </span><span style=\"color: #808000; text-decoration-color: #808000; font-weight: bold\">8</span><span style=\"color: #808000; text-decoration-color: #808000\">, </span><span style=\"color: #808000; text-decoration-color: #808000\">'target_update_interval'</span><span style=\"color: #808000; text-decoration-color: #808000\">: </span><span style=\"color: #808000; text-decoration-color: #808000; font-weight: bold\">1</span><span style=\"color: #808000; text-decoration-color: #808000\">, </span>\n",
       "<span style=\"color: #808000; text-decoration-color: #808000\">'verbose'</span><span style=\"color: #808000; text-decoration-color: #808000\">: </span><span style=\"color: #808000; text-decoration-color: #808000; font-weight: bold\">0</span><span style=\"color: #808000; text-decoration-color: #808000; font-weight: bold\">}</span>\n",
       "</pre>\n"
      ],
      "text/plain": [
       "\u001b[1;36mStarting Trial \u001b[0m\u001b[1;36m16\u001b[0m with params: \u001b[1;33m{\u001b[0m\u001b[33m'learning_rate'\u001b[0m\u001b[33m: \u001b[0m\u001b[1;33m0.0009488847836753405\u001b[0m\u001b[33m, \u001b[0m\u001b[33m'batch_size'\u001b[0m\u001b[33m: \u001b[0m\u001b[1;33m256\u001b[0m\u001b[33m, \u001b[0m\u001b[33m'gamma'\u001b[0m\u001b[33m: \u001b[0m\n",
       "\u001b[1;33m0.9670296862598182\u001b[0m\u001b[33m, \u001b[0m\u001b[33m'tau'\u001b[0m\u001b[33m: \u001b[0m\u001b[1;33m0.09254593878602649\u001b[0m\u001b[33m, \u001b[0m\u001b[33m'train_freq'\u001b[0m\u001b[33m: \u001b[0m\u001b[1;33m4\u001b[0m\u001b[33m, \u001b[0m\u001b[33m'gradient_steps'\u001b[0m\u001b[33m: \u001b[0m\u001b[1;33m8\u001b[0m\u001b[33m, \u001b[0m\u001b[33m'target_update_interval'\u001b[0m\u001b[33m: \u001b[0m\u001b[1;33m1\u001b[0m\u001b[33m, \u001b[0m\n",
       "\u001b[33m'verbose'\u001b[0m\u001b[33m: \u001b[0m\u001b[1;33m0\u001b[0m\u001b[1;33m}\u001b[0m\n"
      ]
     },
     "metadata": {},
     "output_type": "display_data"
    },
    {
     "data": {
      "text/html": [
       "<pre style=\"white-space:pre;overflow-x:auto;line-height:normal;font-family:Menlo,'DejaVu Sans Mono',consolas,'Courier New',monospace\">\n",
       "<span style=\"color: #000080; text-decoration-color: #000080; font-weight: bold\">============================================================</span>\n",
       "</pre>\n"
      ],
      "text/plain": [
       "\n",
       "\u001b[1;34m============================================================\u001b[0m\n"
      ]
     },
     "metadata": {},
     "output_type": "display_data"
    },
    {
     "data": {
      "text/html": [
       "<pre style=\"white-space:pre;overflow-x:auto;line-height:normal;font-family:Menlo,'DejaVu Sans Mono',consolas,'Courier New',monospace\"><span style=\"color: #000080; text-decoration-color: #000080; font-weight: bold\">RUNNING SINGLE EXPERIMENT: SAC</span>\n",
       "</pre>\n"
      ],
      "text/plain": [
       "\u001b[1;34mRUNNING SINGLE EXPERIMENT: SAC\u001b[0m\n"
      ]
     },
     "metadata": {},
     "output_type": "display_data"
    },
    {
     "data": {
      "text/html": [
       "<pre style=\"white-space:pre;overflow-x:auto;line-height:normal;font-family:Menlo,'DejaVu Sans Mono',consolas,'Courier New',monospace\"><span style=\"color: #808000; text-decoration-color: #808000\">Using custom configuration with </span><span style=\"color: #808000; text-decoration-color: #808000; font-weight: bold\">8</span><span style=\"color: #808000; text-decoration-color: #808000\"> parameters</span>\n",
       "</pre>\n"
      ],
      "text/plain": [
       "\u001b[33mUsing custom configuration with \u001b[0m\u001b[1;33m8\u001b[0m\u001b[33m parameters\u001b[0m\n"
      ]
     },
     "metadata": {},
     "output_type": "display_data"
    },
    {
     "data": {
      "text/html": [
       "<pre style=\"white-space:pre;overflow-x:auto;line-height:normal;font-family:Menlo,'DejaVu Sans Mono',consolas,'Courier New',monospace\"><span style=\"color: #008080; text-decoration-color: #008080\">Custom params: </span><span style=\"color: #008080; text-decoration-color: #008080; font-weight: bold\">[</span><span style=\"color: #008080; text-decoration-color: #008080\">'learning_rate'</span><span style=\"color: #008080; text-decoration-color: #008080\">, </span><span style=\"color: #008080; text-decoration-color: #008080\">'batch_size'</span><span style=\"color: #008080; text-decoration-color: #008080\">, </span><span style=\"color: #008080; text-decoration-color: #008080\">'gamma'</span><span style=\"color: #008080; text-decoration-color: #008080\">, </span><span style=\"color: #008080; text-decoration-color: #008080\">'tau'</span><span style=\"color: #008080; text-decoration-color: #008080\">, </span><span style=\"color: #008080; text-decoration-color: #008080\">'train_freq'</span><span style=\"color: #008080; text-decoration-color: #008080\">, </span><span style=\"color: #008080; text-decoration-color: #008080\">'gradient_steps'</span><span style=\"color: #008080; text-decoration-color: #008080\">, </span>\n",
       "<span style=\"color: #008080; text-decoration-color: #008080\">'target_update_interval'</span><span style=\"color: #008080; text-decoration-color: #008080\">, </span><span style=\"color: #008080; text-decoration-color: #008080\">'verbose'</span><span style=\"color: #008080; text-decoration-color: #008080; font-weight: bold\">]</span>\n",
       "</pre>\n"
      ],
      "text/plain": [
       "\u001b[36mCustom params: \u001b[0m\u001b[1;36m[\u001b[0m\u001b[36m'learning_rate'\u001b[0m\u001b[36m, \u001b[0m\u001b[36m'batch_size'\u001b[0m\u001b[36m, \u001b[0m\u001b[36m'gamma'\u001b[0m\u001b[36m, \u001b[0m\u001b[36m'tau'\u001b[0m\u001b[36m, \u001b[0m\u001b[36m'train_freq'\u001b[0m\u001b[36m, \u001b[0m\u001b[36m'gradient_steps'\u001b[0m\u001b[36m, \u001b[0m\n",
       "\u001b[36m'target_update_interval'\u001b[0m\u001b[36m, \u001b[0m\u001b[36m'verbose'\u001b[0m\u001b[1;36m]\u001b[0m\n"
      ]
     },
     "metadata": {},
     "output_type": "display_data"
    },
    {
     "data": {
      "text/html": [
       "<pre style=\"white-space:pre;overflow-x:auto;line-height:normal;font-family:Menlo,'DejaVu Sans Mono',consolas,'Courier New',monospace\"><span style=\"color: #808000; text-decoration-color: #808000\">Timesteps: </span><span style=\"color: #808000; text-decoration-color: #808000; font-weight: bold\">50</span><span style=\"color: #808000; text-decoration-color: #808000\">,</span><span style=\"color: #808000; text-decoration-color: #808000; font-weight: bold\">000</span>\n",
       "</pre>\n"
      ],
      "text/plain": [
       "\u001b[33mTimesteps: \u001b[0m\u001b[1;33m50\u001b[0m\u001b[33m,\u001b[0m\u001b[1;33m000\u001b[0m\n"
      ]
     },
     "metadata": {},
     "output_type": "display_data"
    },
    {
     "data": {
      "text/html": [
       "<pre style=\"white-space:pre;overflow-x:auto;line-height:normal;font-family:Menlo,'DejaVu Sans Mono',consolas,'Courier New',monospace\"><span style=\"color: #000080; text-decoration-color: #000080; font-weight: bold\">============================================================</span>\n",
       "</pre>\n"
      ],
      "text/plain": [
       "\u001b[1;34m============================================================\u001b[0m\n"
      ]
     },
     "metadata": {},
     "output_type": "display_data"
    },
    {
     "data": {
      "text/html": [
       "<pre style=\"white-space:pre;overflow-x:auto;line-height:normal;font-family:Menlo,'DejaVu Sans Mono',consolas,'Courier New',monospace\"><span style=\"color: #00ff00; text-decoration-color: #00ff00\">────────────────────────────────────────────── </span><span style=\"color: #008000; text-decoration-color: #008000; font-weight: bold\">🔄 TRAINING PHASE 🔄</span><span style=\"color: #00ff00; text-decoration-color: #00ff00\"> ───────────────────────────────────────────────</span>\n",
       "</pre>\n"
      ],
      "text/plain": [
       "\u001b[92m────────────────────────────────────────────── \u001b[0m\u001b[1;32m🔄 TRAINING PHASE 🔄\u001b[0m\u001b[92m ───────────────────────────────────────────────\u001b[0m\n"
      ]
     },
     "metadata": {},
     "output_type": "display_data"
    },
    {
     "data": {
      "text/html": [
       "<pre style=\"white-space:pre;overflow-x:auto;line-height:normal;font-family:Menlo,'DejaVu Sans Mono',consolas,'Courier New',monospace\"><span style=\"color: #008000; text-decoration-color: #008000; font-weight: bold\">Starting model training...</span>\n",
       "</pre>\n"
      ],
      "text/plain": [
       "\u001b[1;32mStarting model training\u001b[0m\u001b[1;32m...\u001b[0m\n"
      ]
     },
     "metadata": {},
     "output_type": "display_data"
    },
    {
     "data": {
      "application/vnd.jupyter.widget-view+json": {
       "model_id": "e981a4eabf22405fa18db5a4efa9a4a7",
       "version_major": 2,
       "version_minor": 0
      },
      "text/plain": [
       "Output()"
      ]
     },
     "metadata": {},
     "output_type": "display_data"
    },
    {
     "data": {
      "text/html": [
       "<pre style=\"white-space:pre;overflow-x:auto;line-height:normal;font-family:Menlo,'DejaVu Sans Mono',consolas,'Courier New',monospace\"></pre>\n"
      ],
      "text/plain": []
     },
     "metadata": {},
     "output_type": "display_data"
    },
    {
     "name": "stdout",
     "output_type": "stream",
     "text": [
      "SingleStockTradingEnv closed.\n",
      "SingleStockTradingEnv closed.\n",
      "SingleStockTradingEnv closed.\n",
      "SingleStockTradingEnv closed.\n"
     ]
    },
    {
     "data": {
      "text/html": [
       "<pre style=\"white-space:pre;overflow-x:auto;line-height:normal;font-family:Menlo,'DejaVu Sans Mono',consolas,'Courier New',monospace\"><span style=\"color: #00ff00; text-decoration-color: #00ff00\">───────────────────────────────────────────── </span><span style=\"color: #000080; text-decoration-color: #000080; font-weight: bold\">📊 EVALUATION PHASE 📊</span><span style=\"color: #00ff00; text-decoration-color: #00ff00\"> ──────────────────────────────────────────────</span>\n",
       "</pre>\n"
      ],
      "text/plain": [
       "\u001b[92m───────────────────────────────────────────── \u001b[0m\u001b[1;34m📊 EVALUATION PHASE 📊\u001b[0m\u001b[92m ──────────────────────────────────────────────\u001b[0m\n"
      ]
     },
     "metadata": {},
     "output_type": "display_data"
    },
    {
     "data": {
      "text/html": [
       "<pre style=\"white-space:pre;overflow-x:auto;line-height:normal;font-family:Menlo,'DejaVu Sans Mono',consolas,'Courier New',monospace\">\n",
       "<span style=\"color: #008000; text-decoration-color: #008000; font-weight: bold\">🔍 TRAIN EVALUATION:</span><span style=\"color: #008000; text-decoration-color: #008000\"> Running model on training dataset</span>\n",
       "</pre>\n"
      ],
      "text/plain": [
       "\n",
       "\u001b[1;32m🔍 TRAIN EVALUATION:\u001b[0m\u001b[32m Running model on training dataset\u001b[0m\n"
      ]
     },
     "metadata": {},
     "output_type": "display_data"
    },
    {
     "data": {
      "text/html": [
       "<pre style=\"white-space:pre;overflow-x:auto;line-height:normal;font-family:Menlo,'DejaVu Sans Mono',consolas,'Courier New',monospace\"><span style=\"color: #000080; text-decoration-color: #000080; font-weight: bold\">Evaluating </span><span style=\"color: #008000; text-decoration-color: #008000\">SAC</span><span style=\"color: #000080; text-decoration-color: #000080; font-weight: bold\"> model for </span><span style=\"color: #808000; text-decoration-color: #808000; font-weight: bold\">5</span><span style=\"color: #000080; text-decoration-color: #000080; font-weight: bold\"> episodes...</span>\n",
       "</pre>\n"
      ],
      "text/plain": [
       "\u001b[1;34mEvaluating \u001b[0m\u001b[32mSAC\u001b[0m\u001b[1;34m model for \u001b[0m\u001b[1;33m5\u001b[0m\u001b[1;34m episodes\u001b[0m\u001b[1;34m...\u001b[0m\n"
      ]
     },
     "metadata": {},
     "output_type": "display_data"
    },
    {
     "data": {
      "application/vnd.jupyter.widget-view+json": {
       "model_id": "5ae1aba4ca224920815c152a67deba12",
       "version_major": 2,
       "version_minor": 0
      },
      "text/plain": [
       "Output()"
      ]
     },
     "metadata": {},
     "output_type": "display_data"
    },
    {
     "data": {
      "text/html": [
       "<pre style=\"white-space:pre;overflow-x:auto;line-height:normal;font-family:Menlo,'DejaVu Sans Mono',consolas,'Courier New',monospace\"><span style=\"color: #808000; text-decoration-color: #808000\">--- Episode </span><span style=\"color: #808000; text-decoration-color: #808000; font-weight: bold\">1</span><span style=\"color: #808000; text-decoration-color: #808000\">/</span><span style=\"color: #808000; text-decoration-color: #808000; font-weight: bold\">5</span><span style=\"color: #808000; text-decoration-color: #808000\"> ---</span>\n",
       "</pre>\n"
      ],
      "text/plain": [
       "\u001b[33m--- Episode \u001b[0m\u001b[1;33m1\u001b[0m\u001b[33m/\u001b[0m\u001b[1;33m5\u001b[0m\u001b[33m ---\u001b[0m\n"
      ]
     },
     "metadata": {},
     "output_type": "display_data"
    },
    {
     "data": {
      "text/html": [
       "<pre style=\"white-space:pre;overflow-x:auto;line-height:normal;font-family:Menlo,'DejaVu Sans Mono',consolas,'Courier New',monospace\">  Step <span style=\"color: #008080; text-decoration-color: #008080; font-weight: bold\">0</span>: <span style=\"color: #008000; text-decoration-color: #008000\">✓</span> <span style=\"color: #800080; text-decoration-color: #800080\">Hold</span>, 💰 <span style=\"color: #008080; text-decoration-color: #008080\">$</span><span style=\"color: #008080; text-decoration-color: #008080; font-weight: bold\">93.30</span>, 📊 <span style=\"color: #008000; text-decoration-color: #008000\">$</span><span style=\"color: #008000; text-decoration-color: #008000; font-weight: bold\">100000.00</span>, 🌟 <span style=\"color: #808000; text-decoration-color: #808000; font-weight: bold\">-0.0500</span>\n",
       "</pre>\n"
      ],
      "text/plain": [
       "  Step \u001b[1;36m0\u001b[0m: \u001b[32m✓\u001b[0m \u001b[35mHold\u001b[0m, 💰 \u001b[36m$\u001b[0m\u001b[1;36m93.30\u001b[0m, 📊 \u001b[32m$\u001b[0m\u001b[1;32m100000.00\u001b[0m, 🌟 \u001b[1;33m-0.0500\u001b[0m\n"
      ]
     },
     "metadata": {},
     "output_type": "display_data"
    },
    {
     "data": {
      "text/html": [
       "<pre style=\"white-space:pre;overflow-x:auto;line-height:normal;font-family:Menlo,'DejaVu Sans Mono',consolas,'Courier New',monospace\">  Step <span style=\"color: #008080; text-decoration-color: #008080; font-weight: bold\">50</span>: <span style=\"color: #008000; text-decoration-color: #008000\">✓</span> <span style=\"color: #800080; text-decoration-color: #800080\">StopLoss</span>, 💰 <span style=\"color: #008080; text-decoration-color: #008080\">$</span><span style=\"color: #008080; text-decoration-color: #008080; font-weight: bold\">67.71</span>, 📊 <span style=\"color: #008000; text-decoration-color: #008000\">$</span><span style=\"color: #008000; text-decoration-color: #008000; font-weight: bold\">5001.20</span>, 🌟 <span style=\"color: #808000; text-decoration-color: #808000; font-weight: bold\">0.0161</span>\n",
       "</pre>\n"
      ],
      "text/plain": [
       "  Step \u001b[1;36m50\u001b[0m: \u001b[32m✓\u001b[0m \u001b[35mStopLoss\u001b[0m, 💰 \u001b[36m$\u001b[0m\u001b[1;36m67.71\u001b[0m, 📊 \u001b[32m$\u001b[0m\u001b[1;32m5001.20\u001b[0m, 🌟 \u001b[1;33m0.0161\u001b[0m\n"
      ]
     },
     "metadata": {},
     "output_type": "display_data"
    },
    {
     "data": {
      "text/html": [
       "<pre style=\"white-space:pre;overflow-x:auto;line-height:normal;font-family:Menlo,'DejaVu Sans Mono',consolas,'Courier New',monospace\">  Step <span style=\"color: #008080; text-decoration-color: #008080; font-weight: bold\">100</span>: <span style=\"color: #008000; text-decoration-color: #008000\">✓</span> <span style=\"color: #800080; text-decoration-color: #800080\">TakeProfit</span>, 💰 <span style=\"color: #008080; text-decoration-color: #008080\">$</span><span style=\"color: #008080; text-decoration-color: #008080; font-weight: bold\">59.66</span>, 📊 <span style=\"color: #008000; text-decoration-color: #008000\">$</span><span style=\"color: #008000; text-decoration-color: #008000; font-weight: bold\">117.69</span>, 🌟 <span style=\"color: #808000; text-decoration-color: #808000; font-weight: bold\">0.0172</span>\n",
       "</pre>\n"
      ],
      "text/plain": [
       "  Step \u001b[1;36m100\u001b[0m: \u001b[32m✓\u001b[0m \u001b[35mTakeProfit\u001b[0m, 💰 \u001b[36m$\u001b[0m\u001b[1;36m59.66\u001b[0m, 📊 \u001b[32m$\u001b[0m\u001b[1;32m117.69\u001b[0m, 🌟 \u001b[1;33m0.0172\u001b[0m\n"
      ]
     },
     "metadata": {},
     "output_type": "display_data"
    },
    {
     "data": {
      "text/html": [
       "<pre style=\"white-space:pre;overflow-x:auto;line-height:normal;font-family:Menlo,'DejaVu Sans Mono',consolas,'Courier New',monospace\">  Step <span style=\"color: #008080; text-decoration-color: #008080; font-weight: bold\">150</span>: <span style=\"color: #008000; text-decoration-color: #008000\">✓</span> <span style=\"color: #800080; text-decoration-color: #800080\">TakeProfit</span>, 💰 <span style=\"color: #008080; text-decoration-color: #008080\">$</span><span style=\"color: #008080; text-decoration-color: #008080; font-weight: bold\">54.73</span>, 📊 <span style=\"color: #008000; text-decoration-color: #008000\">$</span><span style=\"color: #008000; text-decoration-color: #008000; font-weight: bold\">376.82</span>, 🌟 <span style=\"color: #808000; text-decoration-color: #808000; font-weight: bold\">-0.8233</span>\n",
       "</pre>\n"
      ],
      "text/plain": [
       "  Step \u001b[1;36m150\u001b[0m: \u001b[32m✓\u001b[0m \u001b[35mTakeProfit\u001b[0m, 💰 \u001b[36m$\u001b[0m\u001b[1;36m54.73\u001b[0m, 📊 \u001b[32m$\u001b[0m\u001b[1;32m376.82\u001b[0m, 🌟 \u001b[1;33m-0.8233\u001b[0m\n"
      ]
     },
     "metadata": {},
     "output_type": "display_data"
    },
    {
     "data": {
      "text/html": [
       "<pre style=\"white-space:pre;overflow-x:auto;line-height:normal;font-family:Menlo,'DejaVu Sans Mono',consolas,'Courier New',monospace\">  Step <span style=\"color: #008080; text-decoration-color: #008080; font-weight: bold\">200</span>: <span style=\"color: #008000; text-decoration-color: #008000\">✓</span> <span style=\"color: #800080; text-decoration-color: #800080\">Sell</span>, 💰 <span style=\"color: #008080; text-decoration-color: #008080\">$</span><span style=\"color: #008080; text-decoration-color: #008080; font-weight: bold\">52.04</span>, 📊 <span style=\"color: #008000; text-decoration-color: #008000\">$</span><span style=\"color: #008000; text-decoration-color: #008000; font-weight: bold\">974.11</span>, 🌟 <span style=\"color: #808000; text-decoration-color: #808000; font-weight: bold\">0.0041</span>\n",
       "</pre>\n"
      ],
      "text/plain": [
       "  Step \u001b[1;36m200\u001b[0m: \u001b[32m✓\u001b[0m \u001b[35mSell\u001b[0m, 💰 \u001b[36m$\u001b[0m\u001b[1;36m52.04\u001b[0m, 📊 \u001b[32m$\u001b[0m\u001b[1;32m974.11\u001b[0m, 🌟 \u001b[1;33m0.0041\u001b[0m\n"
      ]
     },
     "metadata": {},
     "output_type": "display_data"
    },
    {
     "data": {
      "text/html": [
       "<pre style=\"white-space:pre;overflow-x:auto;line-height:normal;font-family:Menlo,'DejaVu Sans Mono',consolas,'Courier New',monospace\">  Step <span style=\"color: #008080; text-decoration-color: #008080; font-weight: bold\">250</span>: <span style=\"color: #008000; text-decoration-color: #008000\">✓</span> <span style=\"color: #800080; text-decoration-color: #800080\">LimitSell</span>, 💰 <span style=\"color: #008080; text-decoration-color: #008080\">$</span><span style=\"color: #008080; text-decoration-color: #008080; font-weight: bold\">57.34</span>, 📊 <span style=\"color: #008000; text-decoration-color: #008000\">$</span><span style=\"color: #008000; text-decoration-color: #008000; font-weight: bold\">657.72</span>, 🌟 <span style=\"color: #808000; text-decoration-color: #808000; font-weight: bold\">0.0068</span>\n",
       "</pre>\n"
      ],
      "text/plain": [
       "  Step \u001b[1;36m250\u001b[0m: \u001b[32m✓\u001b[0m \u001b[35mLimitSell\u001b[0m, 💰 \u001b[36m$\u001b[0m\u001b[1;36m57.34\u001b[0m, 📊 \u001b[32m$\u001b[0m\u001b[1;32m657.72\u001b[0m, 🌟 \u001b[1;33m0.0068\u001b[0m\n"
      ]
     },
     "metadata": {},
     "output_type": "display_data"
    },
    {
     "data": {
      "text/html": [
       "<pre style=\"white-space:pre;overflow-x:auto;line-height:normal;font-family:Menlo,'DejaVu Sans Mono',consolas,'Courier New',monospace\">  Step <span style=\"color: #008080; text-decoration-color: #008080; font-weight: bold\">300</span>: <span style=\"color: #008000; text-decoration-color: #008000\">✓</span> <span style=\"color: #800080; text-decoration-color: #800080\">TakeProfit</span>, 💰 <span style=\"color: #008080; text-decoration-color: #008080\">$</span><span style=\"color: #008080; text-decoration-color: #008080; font-weight: bold\">61.61</span>, 📊 <span style=\"color: #008000; text-decoration-color: #008000\">$</span><span style=\"color: #008000; text-decoration-color: #008000; font-weight: bold\">88.00</span>, 🌟 <span style=\"color: #808000; text-decoration-color: #808000; font-weight: bold\">0.0328</span>\n",
       "</pre>\n"
      ],
      "text/plain": [
       "  Step \u001b[1;36m300\u001b[0m: \u001b[32m✓\u001b[0m \u001b[35mTakeProfit\u001b[0m, 💰 \u001b[36m$\u001b[0m\u001b[1;36m61.61\u001b[0m, 📊 \u001b[32m$\u001b[0m\u001b[1;32m88.00\u001b[0m, 🌟 \u001b[1;33m0.0328\u001b[0m\n"
      ]
     },
     "metadata": {},
     "output_type": "display_data"
    },
    {
     "data": {
      "text/html": [
       "<pre style=\"white-space:pre;overflow-x:auto;line-height:normal;font-family:Menlo,'DejaVu Sans Mono',consolas,'Courier New',monospace\">  Step <span style=\"color: #008080; text-decoration-color: #008080; font-weight: bold\">350</span>: <span style=\"color: #008000; text-decoration-color: #008000\">✓</span> <span style=\"color: #800080; text-decoration-color: #800080\">Hold</span>, 💰 <span style=\"color: #008080; text-decoration-color: #008080\">$</span><span style=\"color: #008080; text-decoration-color: #008080; font-weight: bold\">65.68</span>, 📊 <span style=\"color: #008000; text-decoration-color: #008000\">$</span><span style=\"color: #008000; text-decoration-color: #008000; font-weight: bold\">1117.06</span>, 🌟 <span style=\"color: #808000; text-decoration-color: #808000; font-weight: bold\">-0.0416</span>\n",
       "</pre>\n"
      ],
      "text/plain": [
       "  Step \u001b[1;36m350\u001b[0m: \u001b[32m✓\u001b[0m \u001b[35mHold\u001b[0m, 💰 \u001b[36m$\u001b[0m\u001b[1;36m65.68\u001b[0m, 📊 \u001b[32m$\u001b[0m\u001b[1;32m1117.06\u001b[0m, 🌟 \u001b[1;33m-0.0416\u001b[0m\n"
      ]
     },
     "metadata": {},
     "output_type": "display_data"
    },
    {
     "data": {
      "text/html": [
       "<pre style=\"white-space:pre;overflow-x:auto;line-height:normal;font-family:Menlo,'DejaVu Sans Mono',consolas,'Courier New',monospace\">  Step <span style=\"color: #008080; text-decoration-color: #008080; font-weight: bold\">400</span>: <span style=\"color: #008000; text-decoration-color: #008000\">✓</span> <span style=\"color: #800080; text-decoration-color: #800080\">StopLoss</span>, 💰 <span style=\"color: #008080; text-decoration-color: #008080\">$</span><span style=\"color: #008080; text-decoration-color: #008080; font-weight: bold\">68.11</span>, 📊 <span style=\"color: #008000; text-decoration-color: #008000\">$</span><span style=\"color: #008000; text-decoration-color: #008000; font-weight: bold\">3307.14</span>, 🌟 <span style=\"color: #808000; text-decoration-color: #808000; font-weight: bold\">-0.0149</span>\n",
       "</pre>\n"
      ],
      "text/plain": [
       "  Step \u001b[1;36m400\u001b[0m: \u001b[32m✓\u001b[0m \u001b[35mStopLoss\u001b[0m, 💰 \u001b[36m$\u001b[0m\u001b[1;36m68.11\u001b[0m, 📊 \u001b[32m$\u001b[0m\u001b[1;32m3307.14\u001b[0m, 🌟 \u001b[1;33m-0.0149\u001b[0m\n"
      ]
     },
     "metadata": {},
     "output_type": "display_data"
    },
    {
     "data": {
      "text/html": [
       "<pre style=\"white-space:pre;overflow-x:auto;line-height:normal;font-family:Menlo,'DejaVu Sans Mono',consolas,'Courier New',monospace\">  Step <span style=\"color: #008080; text-decoration-color: #008080; font-weight: bold\">450</span>: <span style=\"color: #008000; text-decoration-color: #008000\">✓</span> <span style=\"color: #800080; text-decoration-color: #800080\">Hold</span>, 💰 <span style=\"color: #008080; text-decoration-color: #008080\">$</span><span style=\"color: #008080; text-decoration-color: #008080; font-weight: bold\">82.19</span>, 📊 <span style=\"color: #008000; text-decoration-color: #008000\">$</span><span style=\"color: #008000; text-decoration-color: #008000; font-weight: bold\">100353.05</span>, 🌟 <span style=\"color: #808000; text-decoration-color: #808000; font-weight: bold\">-0.0400</span>\n",
       "</pre>\n"
      ],
      "text/plain": [
       "  Step \u001b[1;36m450\u001b[0m: \u001b[32m✓\u001b[0m \u001b[35mHold\u001b[0m, 💰 \u001b[36m$\u001b[0m\u001b[1;36m82.19\u001b[0m, 📊 \u001b[32m$\u001b[0m\u001b[1;32m100353.05\u001b[0m, 🌟 \u001b[1;33m-0.0400\u001b[0m\n"
      ]
     },
     "metadata": {},
     "output_type": "display_data"
    },
    {
     "data": {
      "text/html": [
       "<pre style=\"white-space:pre;overflow-x:auto;line-height:normal;font-family:Menlo,'DejaVu Sans Mono',consolas,'Courier New',monospace\">  Step <span style=\"color: #008080; text-decoration-color: #008080; font-weight: bold\">500</span>: <span style=\"color: #008000; text-decoration-color: #008000\">✓</span> <span style=\"color: #800080; text-decoration-color: #800080\">Hold</span>, 💰 <span style=\"color: #008080; text-decoration-color: #008080\">$</span><span style=\"color: #008080; text-decoration-color: #008080; font-weight: bold\">89.71</span>, 📊 <span style=\"color: #008000; text-decoration-color: #008000\">$</span><span style=\"color: #008000; text-decoration-color: #008000; font-weight: bold\">9123.23</span>, 🌟 <span style=\"color: #808000; text-decoration-color: #808000; font-weight: bold\">-0.0427</span>\n",
       "</pre>\n"
      ],
      "text/plain": [
       "  Step \u001b[1;36m500\u001b[0m: \u001b[32m✓\u001b[0m \u001b[35mHold\u001b[0m, 💰 \u001b[36m$\u001b[0m\u001b[1;36m89.71\u001b[0m, 📊 \u001b[32m$\u001b[0m\u001b[1;32m9123.23\u001b[0m, 🌟 \u001b[1;33m-0.0427\u001b[0m\n"
      ]
     },
     "metadata": {},
     "output_type": "display_data"
    },
    {
     "data": {
      "text/html": [
       "<pre style=\"white-space:pre;overflow-x:auto;line-height:normal;font-family:Menlo,'DejaVu Sans Mono',consolas,'Courier New',monospace\">  Step <span style=\"color: #008080; text-decoration-color: #008080; font-weight: bold\">550</span>: <span style=\"color: #008000; text-decoration-color: #008000\">✓</span> <span style=\"color: #800080; text-decoration-color: #800080\">Hold</span>, 💰 <span style=\"color: #008080; text-decoration-color: #008080\">$</span><span style=\"color: #008080; text-decoration-color: #008080; font-weight: bold\">117.81</span>, 📊 <span style=\"color: #008000; text-decoration-color: #008000\">$</span><span style=\"color: #008000; text-decoration-color: #008000; font-weight: bold\">2388.11</span>, 🌟 <span style=\"color: #808000; text-decoration-color: #808000; font-weight: bold\">-0.0409</span>\n",
       "</pre>\n"
      ],
      "text/plain": [
       "  Step \u001b[1;36m550\u001b[0m: \u001b[32m✓\u001b[0m \u001b[35mHold\u001b[0m, 💰 \u001b[36m$\u001b[0m\u001b[1;36m117.81\u001b[0m, 📊 \u001b[32m$\u001b[0m\u001b[1;32m2388.11\u001b[0m, 🌟 \u001b[1;33m-0.0409\u001b[0m\n"
      ]
     },
     "metadata": {},
     "output_type": "display_data"
    },
    {
     "data": {
      "text/html": [
       "<pre style=\"white-space:pre;overflow-x:auto;line-height:normal;font-family:Menlo,'DejaVu Sans Mono',consolas,'Courier New',monospace\">  Step <span style=\"color: #008080; text-decoration-color: #008080; font-weight: bold\">600</span>: <span style=\"color: #008000; text-decoration-color: #008000\">✓</span> <span style=\"color: #800080; text-decoration-color: #800080\">Hold</span>, 💰 <span style=\"color: #008080; text-decoration-color: #008080\">$</span><span style=\"color: #008080; text-decoration-color: #008080; font-weight: bold\">114.25</span>, 📊 <span style=\"color: #008000; text-decoration-color: #008000\">$</span><span style=\"color: #008000; text-decoration-color: #008000; font-weight: bold\">10466.19</span>, 🌟 <span style=\"color: #808000; text-decoration-color: #808000; font-weight: bold\">-0.0361</span>\n",
       "</pre>\n"
      ],
      "text/plain": [
       "  Step \u001b[1;36m600\u001b[0m: \u001b[32m✓\u001b[0m \u001b[35mHold\u001b[0m, 💰 \u001b[36m$\u001b[0m\u001b[1;36m114.25\u001b[0m, 📊 \u001b[32m$\u001b[0m\u001b[1;32m10466.19\u001b[0m, 🌟 \u001b[1;33m-0.0361\u001b[0m\n"
      ]
     },
     "metadata": {},
     "output_type": "display_data"
    },
    {
     "data": {
      "text/html": [
       "<pre style=\"white-space:pre;overflow-x:auto;line-height:normal;font-family:Menlo,'DejaVu Sans Mono',consolas,'Courier New',monospace\">  Step <span style=\"color: #008080; text-decoration-color: #008080; font-weight: bold\">650</span>: <span style=\"color: #008000; text-decoration-color: #008000\">✓</span> <span style=\"color: #800080; text-decoration-color: #800080\">Hold</span>, 💰 <span style=\"color: #008080; text-decoration-color: #008080\">$</span><span style=\"color: #008080; text-decoration-color: #008080; font-weight: bold\">99.85</span>, 📊 <span style=\"color: #008000; text-decoration-color: #008000\">$</span><span style=\"color: #008000; text-decoration-color: #008000; font-weight: bold\">7702.60</span>, 🌟 <span style=\"color: #808000; text-decoration-color: #808000; font-weight: bold\">-0.0364</span>\n",
       "</pre>\n"
      ],
      "text/plain": [
       "  Step \u001b[1;36m650\u001b[0m: \u001b[32m✓\u001b[0m \u001b[35mHold\u001b[0m, 💰 \u001b[36m$\u001b[0m\u001b[1;36m99.85\u001b[0m, 📊 \u001b[32m$\u001b[0m\u001b[1;32m7702.60\u001b[0m, 🌟 \u001b[1;33m-0.0364\u001b[0m\n"
      ]
     },
     "metadata": {},
     "output_type": "display_data"
    },
    {
     "data": {
      "text/html": [
       "<pre style=\"white-space:pre;overflow-x:auto;line-height:normal;font-family:Menlo,'DejaVu Sans Mono',consolas,'Courier New',monospace\"><span style=\"color: #008000; text-decoration-color: #008000; font-weight: bold\">Episode </span><span style=\"color: #008000; text-decoration-color: #008000; font-weight: bold\">1</span><span style=\"color: #008000; text-decoration-color: #008000; font-weight: bold\"> Results:</span>\n",
       "</pre>\n"
      ],
      "text/plain": [
       "\u001b[1;32mEpisode \u001b[0m\u001b[1;32m1\u001b[0m\u001b[1;32m Results:\u001b[0m\n"
      ]
     },
     "metadata": {},
     "output_type": "display_data"
    },
    {
     "data": {
      "text/html": [
       "<pre style=\"white-space:pre;overflow-x:auto;line-height:normal;font-family:Menlo,'DejaVu Sans Mono',consolas,'Courier New',monospace\">  Total Steps: <span style=\"color: #008080; text-decoration-color: #008080; font-weight: bold\">680</span>\n",
       "</pre>\n"
      ],
      "text/plain": [
       "  Total Steps: \u001b[1;36m680\u001b[0m\n"
      ]
     },
     "metadata": {},
     "output_type": "display_data"
    },
    {
     "data": {
      "text/html": [
       "<pre style=\"white-space:pre;overflow-x:auto;line-height:normal;font-family:Menlo,'DejaVu Sans Mono',consolas,'Courier New',monospace\">  Initial Portfolio Value: <span style=\"color: #008000; text-decoration-color: #008000\">$</span><span style=\"color: #008000; text-decoration-color: #008000; font-weight: bold\">100000.00</span>\n",
       "</pre>\n"
      ],
      "text/plain": [
       "  Initial Portfolio Value: \u001b[32m$\u001b[0m\u001b[1;32m100000.00\u001b[0m\n"
      ]
     },
     "metadata": {},
     "output_type": "display_data"
    },
    {
     "data": {
      "text/html": [
       "<pre style=\"white-space:pre;overflow-x:auto;line-height:normal;font-family:Menlo,'DejaVu Sans Mono',consolas,'Courier New',monospace\">  Final Portfolio Value: <span style=\"color: #008000; text-decoration-color: #008000\">$</span><span style=\"color: #008000; text-decoration-color: #008000; font-weight: bold\">5104.10</span>\n",
       "</pre>\n"
      ],
      "text/plain": [
       "  Final Portfolio Value: \u001b[32m$\u001b[0m\u001b[1;32m5104.10\u001b[0m\n"
      ]
     },
     "metadata": {},
     "output_type": "display_data"
    },
    {
     "data": {
      "text/html": [
       "<pre style=\"white-space:pre;overflow-x:auto;line-height:normal;font-family:Menlo,'DejaVu Sans Mono',consolas,'Courier New',monospace\">  Total Return: <span style=\"color: #800000; text-decoration-color: #800000; font-weight: bold\">-94.90</span><span style=\"color: #800000; text-decoration-color: #800000\">%</span>\n",
       "</pre>\n"
      ],
      "text/plain": [
       "  Total Return: \u001b[1;31m-94.90\u001b[0m\u001b[31m%\u001b[0m\n"
      ]
     },
     "metadata": {},
     "output_type": "display_data"
    },
    {
     "data": {
      "text/html": [
       "<pre style=\"white-space:pre;overflow-x:auto;line-height:normal;font-family:Menlo,'DejaVu Sans Mono',consolas,'Courier New',monospace\">  Total Reward: <span style=\"color: #808000; text-decoration-color: #808000; font-weight: bold\">83.11</span>\n",
       "</pre>\n"
      ],
      "text/plain": [
       "  Total Reward: \u001b[1;33m83.11\u001b[0m\n"
      ]
     },
     "metadata": {},
     "output_type": "display_data"
    },
    {
     "data": {
      "text/html": [
       "<pre style=\"white-space:pre;overflow-x:auto;line-height:normal;font-family:Menlo,'DejaVu Sans Mono',consolas,'Courier New',monospace\"><span style=\"font-style: italic\">        Action Distribution        </span>\n",
       "┏━━━━━━━━━━━━┳━━━━━━━┳━━━━━━━━━━━━┓\n",
       "┃<span style=\"font-weight: bold\"> Action     </span>┃<span style=\"font-weight: bold\"> Count </span>┃<span style=\"font-weight: bold\"> Percentage </span>┃\n",
       "┡━━━━━━━━━━━━╇━━━━━━━╇━━━━━━━━━━━━┩\n",
       "│<span style=\"color: #008080; text-decoration-color: #008080\"> Hold       </span>│<span style=\"color: #008000; text-decoration-color: #008000\">   215 </span>│<span style=\"color: #808000; text-decoration-color: #808000\">      31.6% </span>│\n",
       "│<span style=\"color: #008080; text-decoration-color: #008080\"> Buy        </span>│<span style=\"color: #008000; text-decoration-color: #008000\">    79 </span>│<span style=\"color: #808000; text-decoration-color: #808000\">      11.6% </span>│\n",
       "│<span style=\"color: #008080; text-decoration-color: #008080\"> Sell       </span>│<span style=\"color: #008000; text-decoration-color: #008000\">    42 </span>│<span style=\"color: #808000; text-decoration-color: #808000\">       6.2% </span>│\n",
       "│<span style=\"color: #008080; text-decoration-color: #008080\"> TakeProfit </span>│<span style=\"color: #008000; text-decoration-color: #008000\">   195 </span>│<span style=\"color: #808000; text-decoration-color: #808000\">      28.7% </span>│\n",
       "│<span style=\"color: #008080; text-decoration-color: #008080\"> LimitSell  </span>│<span style=\"color: #008000; text-decoration-color: #008000\">    45 </span>│<span style=\"color: #808000; text-decoration-color: #808000\">       6.6% </span>│\n",
       "│<span style=\"color: #008080; text-decoration-color: #008080\"> StopLoss   </span>│<span style=\"color: #008000; text-decoration-color: #008000\">    79 </span>│<span style=\"color: #808000; text-decoration-color: #808000\">      11.6% </span>│\n",
       "│<span style=\"color: #008080; text-decoration-color: #008080\"> LimitBuy   </span>│<span style=\"color: #008000; text-decoration-color: #008000\">    25 </span>│<span style=\"color: #808000; text-decoration-color: #808000\">       3.7% </span>│\n",
       "└────────────┴───────┴────────────┘\n",
       "</pre>\n"
      ],
      "text/plain": [
       "\u001b[3m        Action Distribution        \u001b[0m\n",
       "┏━━━━━━━━━━━━┳━━━━━━━┳━━━━━━━━━━━━┓\n",
       "┃\u001b[1m \u001b[0m\u001b[1mAction    \u001b[0m\u001b[1m \u001b[0m┃\u001b[1m \u001b[0m\u001b[1mCount\u001b[0m\u001b[1m \u001b[0m┃\u001b[1m \u001b[0m\u001b[1mPercentage\u001b[0m\u001b[1m \u001b[0m┃\n",
       "┡━━━━━━━━━━━━╇━━━━━━━╇━━━━━━━━━━━━┩\n",
       "│\u001b[36m \u001b[0m\u001b[36mHold      \u001b[0m\u001b[36m \u001b[0m│\u001b[32m \u001b[0m\u001b[32m  215\u001b[0m\u001b[32m \u001b[0m│\u001b[33m \u001b[0m\u001b[33m     31.6%\u001b[0m\u001b[33m \u001b[0m│\n",
       "│\u001b[36m \u001b[0m\u001b[36mBuy       \u001b[0m\u001b[36m \u001b[0m│\u001b[32m \u001b[0m\u001b[32m   79\u001b[0m\u001b[32m \u001b[0m│\u001b[33m \u001b[0m\u001b[33m     11.6%\u001b[0m\u001b[33m \u001b[0m│\n",
       "│\u001b[36m \u001b[0m\u001b[36mSell      \u001b[0m\u001b[36m \u001b[0m│\u001b[32m \u001b[0m\u001b[32m   42\u001b[0m\u001b[32m \u001b[0m│\u001b[33m \u001b[0m\u001b[33m      6.2%\u001b[0m\u001b[33m \u001b[0m│\n",
       "│\u001b[36m \u001b[0m\u001b[36mTakeProfit\u001b[0m\u001b[36m \u001b[0m│\u001b[32m \u001b[0m\u001b[32m  195\u001b[0m\u001b[32m \u001b[0m│\u001b[33m \u001b[0m\u001b[33m     28.7%\u001b[0m\u001b[33m \u001b[0m│\n",
       "│\u001b[36m \u001b[0m\u001b[36mLimitSell \u001b[0m\u001b[36m \u001b[0m│\u001b[32m \u001b[0m\u001b[32m   45\u001b[0m\u001b[32m \u001b[0m│\u001b[33m \u001b[0m\u001b[33m      6.6%\u001b[0m\u001b[33m \u001b[0m│\n",
       "│\u001b[36m \u001b[0m\u001b[36mStopLoss  \u001b[0m\u001b[36m \u001b[0m│\u001b[32m \u001b[0m\u001b[32m   79\u001b[0m\u001b[32m \u001b[0m│\u001b[33m \u001b[0m\u001b[33m     11.6%\u001b[0m\u001b[33m \u001b[0m│\n",
       "│\u001b[36m \u001b[0m\u001b[36mLimitBuy  \u001b[0m\u001b[36m \u001b[0m│\u001b[32m \u001b[0m\u001b[32m   25\u001b[0m\u001b[32m \u001b[0m│\u001b[33m \u001b[0m\u001b[33m      3.7%\u001b[0m\u001b[33m \u001b[0m│\n",
       "└────────────┴───────┴────────────┘\n"
      ]
     },
     "metadata": {},
     "output_type": "display_data"
    },
    {
     "data": {
      "text/html": [
       "<pre style=\"white-space:pre;overflow-x:auto;line-height:normal;font-family:Menlo,'DejaVu Sans Mono',consolas,'Courier New',monospace\"><span style=\"color: #808000; text-decoration-color: #808000\">--- Episode </span><span style=\"color: #808000; text-decoration-color: #808000; font-weight: bold\">2</span><span style=\"color: #808000; text-decoration-color: #808000\">/</span><span style=\"color: #808000; text-decoration-color: #808000; font-weight: bold\">5</span><span style=\"color: #808000; text-decoration-color: #808000\"> ---</span>\n",
       "</pre>\n"
      ],
      "text/plain": [
       "\u001b[33m--- Episode \u001b[0m\u001b[1;33m2\u001b[0m\u001b[33m/\u001b[0m\u001b[1;33m5\u001b[0m\u001b[33m ---\u001b[0m\n"
      ]
     },
     "metadata": {},
     "output_type": "display_data"
    },
    {
     "data": {
      "text/html": [
       "<pre style=\"white-space:pre;overflow-x:auto;line-height:normal;font-family:Menlo,'DejaVu Sans Mono',consolas,'Courier New',monospace\">  Step <span style=\"color: #008080; text-decoration-color: #008080; font-weight: bold\">0</span>: <span style=\"color: #008000; text-decoration-color: #008000\">✓</span> <span style=\"color: #800080; text-decoration-color: #800080\">Hold</span>, 💰 <span style=\"color: #008080; text-decoration-color: #008080\">$</span><span style=\"color: #008080; text-decoration-color: #008080; font-weight: bold\">93.30</span>, 📊 <span style=\"color: #008000; text-decoration-color: #008000\">$</span><span style=\"color: #008000; text-decoration-color: #008000; font-weight: bold\">100000.00</span>, 🌟 <span style=\"color: #808000; text-decoration-color: #808000; font-weight: bold\">-0.0500</span>\n",
       "</pre>\n"
      ],
      "text/plain": [
       "  Step \u001b[1;36m0\u001b[0m: \u001b[32m✓\u001b[0m \u001b[35mHold\u001b[0m, 💰 \u001b[36m$\u001b[0m\u001b[1;36m93.30\u001b[0m, 📊 \u001b[32m$\u001b[0m\u001b[1;32m100000.00\u001b[0m, 🌟 \u001b[1;33m-0.0500\u001b[0m\n"
      ]
     },
     "metadata": {},
     "output_type": "display_data"
    },
    {
     "data": {
      "text/html": [
       "<pre style=\"white-space:pre;overflow-x:auto;line-height:normal;font-family:Menlo,'DejaVu Sans Mono',consolas,'Courier New',monospace\">  Step <span style=\"color: #008080; text-decoration-color: #008080; font-weight: bold\">50</span>: <span style=\"color: #008000; text-decoration-color: #008000\">✓</span> <span style=\"color: #800080; text-decoration-color: #800080\">StopLoss</span>, 💰 <span style=\"color: #008080; text-decoration-color: #008080\">$</span><span style=\"color: #008080; text-decoration-color: #008080; font-weight: bold\">67.71</span>, 📊 <span style=\"color: #008000; text-decoration-color: #008000\">$</span><span style=\"color: #008000; text-decoration-color: #008000; font-weight: bold\">5001.20</span>, 🌟 <span style=\"color: #808000; text-decoration-color: #808000; font-weight: bold\">0.0161</span>\n",
       "</pre>\n"
      ],
      "text/plain": [
       "  Step \u001b[1;36m50\u001b[0m: \u001b[32m✓\u001b[0m \u001b[35mStopLoss\u001b[0m, 💰 \u001b[36m$\u001b[0m\u001b[1;36m67.71\u001b[0m, 📊 \u001b[32m$\u001b[0m\u001b[1;32m5001.20\u001b[0m, 🌟 \u001b[1;33m0.0161\u001b[0m\n"
      ]
     },
     "metadata": {},
     "output_type": "display_data"
    },
    {
     "data": {
      "text/html": [
       "<pre style=\"white-space:pre;overflow-x:auto;line-height:normal;font-family:Menlo,'DejaVu Sans Mono',consolas,'Courier New',monospace\">  Step <span style=\"color: #008080; text-decoration-color: #008080; font-weight: bold\">100</span>: <span style=\"color: #008000; text-decoration-color: #008000\">✓</span> <span style=\"color: #800080; text-decoration-color: #800080\">TakeProfit</span>, 💰 <span style=\"color: #008080; text-decoration-color: #008080\">$</span><span style=\"color: #008080; text-decoration-color: #008080; font-weight: bold\">59.66</span>, 📊 <span style=\"color: #008000; text-decoration-color: #008000\">$</span><span style=\"color: #008000; text-decoration-color: #008000; font-weight: bold\">117.69</span>, 🌟 <span style=\"color: #808000; text-decoration-color: #808000; font-weight: bold\">0.0172</span>\n",
       "</pre>\n"
      ],
      "text/plain": [
       "  Step \u001b[1;36m100\u001b[0m: \u001b[32m✓\u001b[0m \u001b[35mTakeProfit\u001b[0m, 💰 \u001b[36m$\u001b[0m\u001b[1;36m59.66\u001b[0m, 📊 \u001b[32m$\u001b[0m\u001b[1;32m117.69\u001b[0m, 🌟 \u001b[1;33m0.0172\u001b[0m\n"
      ]
     },
     "metadata": {},
     "output_type": "display_data"
    },
    {
     "data": {
      "text/html": [
       "<pre style=\"white-space:pre;overflow-x:auto;line-height:normal;font-family:Menlo,'DejaVu Sans Mono',consolas,'Courier New',monospace\">  Step <span style=\"color: #008080; text-decoration-color: #008080; font-weight: bold\">150</span>: <span style=\"color: #008000; text-decoration-color: #008000\">✓</span> <span style=\"color: #800080; text-decoration-color: #800080\">TakeProfit</span>, 💰 <span style=\"color: #008080; text-decoration-color: #008080\">$</span><span style=\"color: #008080; text-decoration-color: #008080; font-weight: bold\">54.73</span>, 📊 <span style=\"color: #008000; text-decoration-color: #008000\">$</span><span style=\"color: #008000; text-decoration-color: #008000; font-weight: bold\">376.82</span>, 🌟 <span style=\"color: #808000; text-decoration-color: #808000; font-weight: bold\">-0.8233</span>\n",
       "</pre>\n"
      ],
      "text/plain": [
       "  Step \u001b[1;36m150\u001b[0m: \u001b[32m✓\u001b[0m \u001b[35mTakeProfit\u001b[0m, 💰 \u001b[36m$\u001b[0m\u001b[1;36m54.73\u001b[0m, 📊 \u001b[32m$\u001b[0m\u001b[1;32m376.82\u001b[0m, 🌟 \u001b[1;33m-0.8233\u001b[0m\n"
      ]
     },
     "metadata": {},
     "output_type": "display_data"
    },
    {
     "data": {
      "text/html": [
       "<pre style=\"white-space:pre;overflow-x:auto;line-height:normal;font-family:Menlo,'DejaVu Sans Mono',consolas,'Courier New',monospace\">  Step <span style=\"color: #008080; text-decoration-color: #008080; font-weight: bold\">200</span>: <span style=\"color: #008000; text-decoration-color: #008000\">✓</span> <span style=\"color: #800080; text-decoration-color: #800080\">Sell</span>, 💰 <span style=\"color: #008080; text-decoration-color: #008080\">$</span><span style=\"color: #008080; text-decoration-color: #008080; font-weight: bold\">52.04</span>, 📊 <span style=\"color: #008000; text-decoration-color: #008000\">$</span><span style=\"color: #008000; text-decoration-color: #008000; font-weight: bold\">974.11</span>, 🌟 <span style=\"color: #808000; text-decoration-color: #808000; font-weight: bold\">0.0041</span>\n",
       "</pre>\n"
      ],
      "text/plain": [
       "  Step \u001b[1;36m200\u001b[0m: \u001b[32m✓\u001b[0m \u001b[35mSell\u001b[0m, 💰 \u001b[36m$\u001b[0m\u001b[1;36m52.04\u001b[0m, 📊 \u001b[32m$\u001b[0m\u001b[1;32m974.11\u001b[0m, 🌟 \u001b[1;33m0.0041\u001b[0m\n"
      ]
     },
     "metadata": {},
     "output_type": "display_data"
    },
    {
     "data": {
      "text/html": [
       "<pre style=\"white-space:pre;overflow-x:auto;line-height:normal;font-family:Menlo,'DejaVu Sans Mono',consolas,'Courier New',monospace\">  Step <span style=\"color: #008080; text-decoration-color: #008080; font-weight: bold\">250</span>: <span style=\"color: #008000; text-decoration-color: #008000\">✓</span> <span style=\"color: #800080; text-decoration-color: #800080\">LimitSell</span>, 💰 <span style=\"color: #008080; text-decoration-color: #008080\">$</span><span style=\"color: #008080; text-decoration-color: #008080; font-weight: bold\">57.34</span>, 📊 <span style=\"color: #008000; text-decoration-color: #008000\">$</span><span style=\"color: #008000; text-decoration-color: #008000; font-weight: bold\">657.72</span>, 🌟 <span style=\"color: #808000; text-decoration-color: #808000; font-weight: bold\">0.0068</span>\n",
       "</pre>\n"
      ],
      "text/plain": [
       "  Step \u001b[1;36m250\u001b[0m: \u001b[32m✓\u001b[0m \u001b[35mLimitSell\u001b[0m, 💰 \u001b[36m$\u001b[0m\u001b[1;36m57.34\u001b[0m, 📊 \u001b[32m$\u001b[0m\u001b[1;32m657.72\u001b[0m, 🌟 \u001b[1;33m0.0068\u001b[0m\n"
      ]
     },
     "metadata": {},
     "output_type": "display_data"
    },
    {
     "data": {
      "text/html": [
       "<pre style=\"white-space:pre;overflow-x:auto;line-height:normal;font-family:Menlo,'DejaVu Sans Mono',consolas,'Courier New',monospace\">  Step <span style=\"color: #008080; text-decoration-color: #008080; font-weight: bold\">300</span>: <span style=\"color: #008000; text-decoration-color: #008000\">✓</span> <span style=\"color: #800080; text-decoration-color: #800080\">TakeProfit</span>, 💰 <span style=\"color: #008080; text-decoration-color: #008080\">$</span><span style=\"color: #008080; text-decoration-color: #008080; font-weight: bold\">61.61</span>, 📊 <span style=\"color: #008000; text-decoration-color: #008000\">$</span><span style=\"color: #008000; text-decoration-color: #008000; font-weight: bold\">88.00</span>, 🌟 <span style=\"color: #808000; text-decoration-color: #808000; font-weight: bold\">0.0328</span>\n",
       "</pre>\n"
      ],
      "text/plain": [
       "  Step \u001b[1;36m300\u001b[0m: \u001b[32m✓\u001b[0m \u001b[35mTakeProfit\u001b[0m, 💰 \u001b[36m$\u001b[0m\u001b[1;36m61.61\u001b[0m, 📊 \u001b[32m$\u001b[0m\u001b[1;32m88.00\u001b[0m, 🌟 \u001b[1;33m0.0328\u001b[0m\n"
      ]
     },
     "metadata": {},
     "output_type": "display_data"
    },
    {
     "data": {
      "text/html": [
       "<pre style=\"white-space:pre;overflow-x:auto;line-height:normal;font-family:Menlo,'DejaVu Sans Mono',consolas,'Courier New',monospace\">  Step <span style=\"color: #008080; text-decoration-color: #008080; font-weight: bold\">350</span>: <span style=\"color: #008000; text-decoration-color: #008000\">✓</span> <span style=\"color: #800080; text-decoration-color: #800080\">Hold</span>, 💰 <span style=\"color: #008080; text-decoration-color: #008080\">$</span><span style=\"color: #008080; text-decoration-color: #008080; font-weight: bold\">65.68</span>, 📊 <span style=\"color: #008000; text-decoration-color: #008000\">$</span><span style=\"color: #008000; text-decoration-color: #008000; font-weight: bold\">1117.06</span>, 🌟 <span style=\"color: #808000; text-decoration-color: #808000; font-weight: bold\">-0.0416</span>\n",
       "</pre>\n"
      ],
      "text/plain": [
       "  Step \u001b[1;36m350\u001b[0m: \u001b[32m✓\u001b[0m \u001b[35mHold\u001b[0m, 💰 \u001b[36m$\u001b[0m\u001b[1;36m65.68\u001b[0m, 📊 \u001b[32m$\u001b[0m\u001b[1;32m1117.06\u001b[0m, 🌟 \u001b[1;33m-0.0416\u001b[0m\n"
      ]
     },
     "metadata": {},
     "output_type": "display_data"
    },
    {
     "data": {
      "text/html": [
       "<pre style=\"white-space:pre;overflow-x:auto;line-height:normal;font-family:Menlo,'DejaVu Sans Mono',consolas,'Courier New',monospace\">  Step <span style=\"color: #008080; text-decoration-color: #008080; font-weight: bold\">400</span>: <span style=\"color: #008000; text-decoration-color: #008000\">✓</span> <span style=\"color: #800080; text-decoration-color: #800080\">StopLoss</span>, 💰 <span style=\"color: #008080; text-decoration-color: #008080\">$</span><span style=\"color: #008080; text-decoration-color: #008080; font-weight: bold\">68.11</span>, 📊 <span style=\"color: #008000; text-decoration-color: #008000\">$</span><span style=\"color: #008000; text-decoration-color: #008000; font-weight: bold\">3307.14</span>, 🌟 <span style=\"color: #808000; text-decoration-color: #808000; font-weight: bold\">-0.0149</span>\n",
       "</pre>\n"
      ],
      "text/plain": [
       "  Step \u001b[1;36m400\u001b[0m: \u001b[32m✓\u001b[0m \u001b[35mStopLoss\u001b[0m, 💰 \u001b[36m$\u001b[0m\u001b[1;36m68.11\u001b[0m, 📊 \u001b[32m$\u001b[0m\u001b[1;32m3307.14\u001b[0m, 🌟 \u001b[1;33m-0.0149\u001b[0m\n"
      ]
     },
     "metadata": {},
     "output_type": "display_data"
    },
    {
     "data": {
      "text/html": [
       "<pre style=\"white-space:pre;overflow-x:auto;line-height:normal;font-family:Menlo,'DejaVu Sans Mono',consolas,'Courier New',monospace\">  Step <span style=\"color: #008080; text-decoration-color: #008080; font-weight: bold\">450</span>: <span style=\"color: #008000; text-decoration-color: #008000\">✓</span> <span style=\"color: #800080; text-decoration-color: #800080\">Hold</span>, 💰 <span style=\"color: #008080; text-decoration-color: #008080\">$</span><span style=\"color: #008080; text-decoration-color: #008080; font-weight: bold\">82.19</span>, 📊 <span style=\"color: #008000; text-decoration-color: #008000\">$</span><span style=\"color: #008000; text-decoration-color: #008000; font-weight: bold\">100353.05</span>, 🌟 <span style=\"color: #808000; text-decoration-color: #808000; font-weight: bold\">-0.0400</span>\n",
       "</pre>\n"
      ],
      "text/plain": [
       "  Step \u001b[1;36m450\u001b[0m: \u001b[32m✓\u001b[0m \u001b[35mHold\u001b[0m, 💰 \u001b[36m$\u001b[0m\u001b[1;36m82.19\u001b[0m, 📊 \u001b[32m$\u001b[0m\u001b[1;32m100353.05\u001b[0m, 🌟 \u001b[1;33m-0.0400\u001b[0m\n"
      ]
     },
     "metadata": {},
     "output_type": "display_data"
    },
    {
     "data": {
      "text/html": [
       "<pre style=\"white-space:pre;overflow-x:auto;line-height:normal;font-family:Menlo,'DejaVu Sans Mono',consolas,'Courier New',monospace\">  Step <span style=\"color: #008080; text-decoration-color: #008080; font-weight: bold\">500</span>: <span style=\"color: #008000; text-decoration-color: #008000\">✓</span> <span style=\"color: #800080; text-decoration-color: #800080\">Hold</span>, 💰 <span style=\"color: #008080; text-decoration-color: #008080\">$</span><span style=\"color: #008080; text-decoration-color: #008080; font-weight: bold\">89.71</span>, 📊 <span style=\"color: #008000; text-decoration-color: #008000\">$</span><span style=\"color: #008000; text-decoration-color: #008000; font-weight: bold\">9123.23</span>, 🌟 <span style=\"color: #808000; text-decoration-color: #808000; font-weight: bold\">-0.0427</span>\n",
       "</pre>\n"
      ],
      "text/plain": [
       "  Step \u001b[1;36m500\u001b[0m: \u001b[32m✓\u001b[0m \u001b[35mHold\u001b[0m, 💰 \u001b[36m$\u001b[0m\u001b[1;36m89.71\u001b[0m, 📊 \u001b[32m$\u001b[0m\u001b[1;32m9123.23\u001b[0m, 🌟 \u001b[1;33m-0.0427\u001b[0m\n"
      ]
     },
     "metadata": {},
     "output_type": "display_data"
    },
    {
     "data": {
      "text/html": [
       "<pre style=\"white-space:pre;overflow-x:auto;line-height:normal;font-family:Menlo,'DejaVu Sans Mono',consolas,'Courier New',monospace\">  Step <span style=\"color: #008080; text-decoration-color: #008080; font-weight: bold\">550</span>: <span style=\"color: #008000; text-decoration-color: #008000\">✓</span> <span style=\"color: #800080; text-decoration-color: #800080\">Hold</span>, 💰 <span style=\"color: #008080; text-decoration-color: #008080\">$</span><span style=\"color: #008080; text-decoration-color: #008080; font-weight: bold\">117.81</span>, 📊 <span style=\"color: #008000; text-decoration-color: #008000\">$</span><span style=\"color: #008000; text-decoration-color: #008000; font-weight: bold\">2388.11</span>, 🌟 <span style=\"color: #808000; text-decoration-color: #808000; font-weight: bold\">-0.0409</span>\n",
       "</pre>\n"
      ],
      "text/plain": [
       "  Step \u001b[1;36m550\u001b[0m: \u001b[32m✓\u001b[0m \u001b[35mHold\u001b[0m, 💰 \u001b[36m$\u001b[0m\u001b[1;36m117.81\u001b[0m, 📊 \u001b[32m$\u001b[0m\u001b[1;32m2388.11\u001b[0m, 🌟 \u001b[1;33m-0.0409\u001b[0m\n"
      ]
     },
     "metadata": {},
     "output_type": "display_data"
    },
    {
     "data": {
      "text/html": [
       "<pre style=\"white-space:pre;overflow-x:auto;line-height:normal;font-family:Menlo,'DejaVu Sans Mono',consolas,'Courier New',monospace\">  Step <span style=\"color: #008080; text-decoration-color: #008080; font-weight: bold\">600</span>: <span style=\"color: #008000; text-decoration-color: #008000\">✓</span> <span style=\"color: #800080; text-decoration-color: #800080\">Hold</span>, 💰 <span style=\"color: #008080; text-decoration-color: #008080\">$</span><span style=\"color: #008080; text-decoration-color: #008080; font-weight: bold\">114.25</span>, 📊 <span style=\"color: #008000; text-decoration-color: #008000\">$</span><span style=\"color: #008000; text-decoration-color: #008000; font-weight: bold\">10466.19</span>, 🌟 <span style=\"color: #808000; text-decoration-color: #808000; font-weight: bold\">-0.0361</span>\n",
       "</pre>\n"
      ],
      "text/plain": [
       "  Step \u001b[1;36m600\u001b[0m: \u001b[32m✓\u001b[0m \u001b[35mHold\u001b[0m, 💰 \u001b[36m$\u001b[0m\u001b[1;36m114.25\u001b[0m, 📊 \u001b[32m$\u001b[0m\u001b[1;32m10466.19\u001b[0m, 🌟 \u001b[1;33m-0.0361\u001b[0m\n"
      ]
     },
     "metadata": {},
     "output_type": "display_data"
    },
    {
     "data": {
      "text/html": [
       "<pre style=\"white-space:pre;overflow-x:auto;line-height:normal;font-family:Menlo,'DejaVu Sans Mono',consolas,'Courier New',monospace\">  Step <span style=\"color: #008080; text-decoration-color: #008080; font-weight: bold\">650</span>: <span style=\"color: #008000; text-decoration-color: #008000\">✓</span> <span style=\"color: #800080; text-decoration-color: #800080\">Hold</span>, 💰 <span style=\"color: #008080; text-decoration-color: #008080\">$</span><span style=\"color: #008080; text-decoration-color: #008080; font-weight: bold\">99.85</span>, 📊 <span style=\"color: #008000; text-decoration-color: #008000\">$</span><span style=\"color: #008000; text-decoration-color: #008000; font-weight: bold\">7702.60</span>, 🌟 <span style=\"color: #808000; text-decoration-color: #808000; font-weight: bold\">-0.0364</span>\n",
       "</pre>\n"
      ],
      "text/plain": [
       "  Step \u001b[1;36m650\u001b[0m: \u001b[32m✓\u001b[0m \u001b[35mHold\u001b[0m, 💰 \u001b[36m$\u001b[0m\u001b[1;36m99.85\u001b[0m, 📊 \u001b[32m$\u001b[0m\u001b[1;32m7702.60\u001b[0m, 🌟 \u001b[1;33m-0.0364\u001b[0m\n"
      ]
     },
     "metadata": {},
     "output_type": "display_data"
    },
    {
     "data": {
      "text/html": [
       "<pre style=\"white-space:pre;overflow-x:auto;line-height:normal;font-family:Menlo,'DejaVu Sans Mono',consolas,'Courier New',monospace\"><span style=\"color: #008000; text-decoration-color: #008000; font-weight: bold\">Episode </span><span style=\"color: #008000; text-decoration-color: #008000; font-weight: bold\">2</span><span style=\"color: #008000; text-decoration-color: #008000; font-weight: bold\"> Results:</span>\n",
       "</pre>\n"
      ],
      "text/plain": [
       "\u001b[1;32mEpisode \u001b[0m\u001b[1;32m2\u001b[0m\u001b[1;32m Results:\u001b[0m\n"
      ]
     },
     "metadata": {},
     "output_type": "display_data"
    },
    {
     "data": {
      "text/html": [
       "<pre style=\"white-space:pre;overflow-x:auto;line-height:normal;font-family:Menlo,'DejaVu Sans Mono',consolas,'Courier New',monospace\">  Total Steps: <span style=\"color: #008080; text-decoration-color: #008080; font-weight: bold\">680</span>\n",
       "</pre>\n"
      ],
      "text/plain": [
       "  Total Steps: \u001b[1;36m680\u001b[0m\n"
      ]
     },
     "metadata": {},
     "output_type": "display_data"
    },
    {
     "data": {
      "text/html": [
       "<pre style=\"white-space:pre;overflow-x:auto;line-height:normal;font-family:Menlo,'DejaVu Sans Mono',consolas,'Courier New',monospace\">  Initial Portfolio Value: <span style=\"color: #008000; text-decoration-color: #008000\">$</span><span style=\"color: #008000; text-decoration-color: #008000; font-weight: bold\">100000.00</span>\n",
       "</pre>\n"
      ],
      "text/plain": [
       "  Initial Portfolio Value: \u001b[32m$\u001b[0m\u001b[1;32m100000.00\u001b[0m\n"
      ]
     },
     "metadata": {},
     "output_type": "display_data"
    },
    {
     "data": {
      "text/html": [
       "<pre style=\"white-space:pre;overflow-x:auto;line-height:normal;font-family:Menlo,'DejaVu Sans Mono',consolas,'Courier New',monospace\">  Final Portfolio Value: <span style=\"color: #008000; text-decoration-color: #008000\">$</span><span style=\"color: #008000; text-decoration-color: #008000; font-weight: bold\">5104.10</span>\n",
       "</pre>\n"
      ],
      "text/plain": [
       "  Final Portfolio Value: \u001b[32m$\u001b[0m\u001b[1;32m5104.10\u001b[0m\n"
      ]
     },
     "metadata": {},
     "output_type": "display_data"
    },
    {
     "data": {
      "text/html": [
       "<pre style=\"white-space:pre;overflow-x:auto;line-height:normal;font-family:Menlo,'DejaVu Sans Mono',consolas,'Courier New',monospace\">  Total Return: <span style=\"color: #800000; text-decoration-color: #800000; font-weight: bold\">-94.90</span><span style=\"color: #800000; text-decoration-color: #800000\">%</span>\n",
       "</pre>\n"
      ],
      "text/plain": [
       "  Total Return: \u001b[1;31m-94.90\u001b[0m\u001b[31m%\u001b[0m\n"
      ]
     },
     "metadata": {},
     "output_type": "display_data"
    },
    {
     "data": {
      "text/html": [
       "<pre style=\"white-space:pre;overflow-x:auto;line-height:normal;font-family:Menlo,'DejaVu Sans Mono',consolas,'Courier New',monospace\">  Total Reward: <span style=\"color: #808000; text-decoration-color: #808000; font-weight: bold\">83.11</span>\n",
       "</pre>\n"
      ],
      "text/plain": [
       "  Total Reward: \u001b[1;33m83.11\u001b[0m\n"
      ]
     },
     "metadata": {},
     "output_type": "display_data"
    },
    {
     "data": {
      "text/html": [
       "<pre style=\"white-space:pre;overflow-x:auto;line-height:normal;font-family:Menlo,'DejaVu Sans Mono',consolas,'Courier New',monospace\"><span style=\"font-style: italic\">        Action Distribution        </span>\n",
       "┏━━━━━━━━━━━━┳━━━━━━━┳━━━━━━━━━━━━┓\n",
       "┃<span style=\"font-weight: bold\"> Action     </span>┃<span style=\"font-weight: bold\"> Count </span>┃<span style=\"font-weight: bold\"> Percentage </span>┃\n",
       "┡━━━━━━━━━━━━╇━━━━━━━╇━━━━━━━━━━━━┩\n",
       "│<span style=\"color: #008080; text-decoration-color: #008080\"> Hold       </span>│<span style=\"color: #008000; text-decoration-color: #008000\">   215 </span>│<span style=\"color: #808000; text-decoration-color: #808000\">      31.6% </span>│\n",
       "│<span style=\"color: #008080; text-decoration-color: #008080\"> Buy        </span>│<span style=\"color: #008000; text-decoration-color: #008000\">    79 </span>│<span style=\"color: #808000; text-decoration-color: #808000\">      11.6% </span>│\n",
       "│<span style=\"color: #008080; text-decoration-color: #008080\"> Sell       </span>│<span style=\"color: #008000; text-decoration-color: #008000\">    42 </span>│<span style=\"color: #808000; text-decoration-color: #808000\">       6.2% </span>│\n",
       "│<span style=\"color: #008080; text-decoration-color: #008080\"> TakeProfit </span>│<span style=\"color: #008000; text-decoration-color: #008000\">   195 </span>│<span style=\"color: #808000; text-decoration-color: #808000\">      28.7% </span>│\n",
       "│<span style=\"color: #008080; text-decoration-color: #008080\"> LimitSell  </span>│<span style=\"color: #008000; text-decoration-color: #008000\">    45 </span>│<span style=\"color: #808000; text-decoration-color: #808000\">       6.6% </span>│\n",
       "│<span style=\"color: #008080; text-decoration-color: #008080\"> StopLoss   </span>│<span style=\"color: #008000; text-decoration-color: #008000\">    79 </span>│<span style=\"color: #808000; text-decoration-color: #808000\">      11.6% </span>│\n",
       "│<span style=\"color: #008080; text-decoration-color: #008080\"> LimitBuy   </span>│<span style=\"color: #008000; text-decoration-color: #008000\">    25 </span>│<span style=\"color: #808000; text-decoration-color: #808000\">       3.7% </span>│\n",
       "└────────────┴───────┴────────────┘\n",
       "</pre>\n"
      ],
      "text/plain": [
       "\u001b[3m        Action Distribution        \u001b[0m\n",
       "┏━━━━━━━━━━━━┳━━━━━━━┳━━━━━━━━━━━━┓\n",
       "┃\u001b[1m \u001b[0m\u001b[1mAction    \u001b[0m\u001b[1m \u001b[0m┃\u001b[1m \u001b[0m\u001b[1mCount\u001b[0m\u001b[1m \u001b[0m┃\u001b[1m \u001b[0m\u001b[1mPercentage\u001b[0m\u001b[1m \u001b[0m┃\n",
       "┡━━━━━━━━━━━━╇━━━━━━━╇━━━━━━━━━━━━┩\n",
       "│\u001b[36m \u001b[0m\u001b[36mHold      \u001b[0m\u001b[36m \u001b[0m│\u001b[32m \u001b[0m\u001b[32m  215\u001b[0m\u001b[32m \u001b[0m│\u001b[33m \u001b[0m\u001b[33m     31.6%\u001b[0m\u001b[33m \u001b[0m│\n",
       "│\u001b[36m \u001b[0m\u001b[36mBuy       \u001b[0m\u001b[36m \u001b[0m│\u001b[32m \u001b[0m\u001b[32m   79\u001b[0m\u001b[32m \u001b[0m│\u001b[33m \u001b[0m\u001b[33m     11.6%\u001b[0m\u001b[33m \u001b[0m│\n",
       "│\u001b[36m \u001b[0m\u001b[36mSell      \u001b[0m\u001b[36m \u001b[0m│\u001b[32m \u001b[0m\u001b[32m   42\u001b[0m\u001b[32m \u001b[0m│\u001b[33m \u001b[0m\u001b[33m      6.2%\u001b[0m\u001b[33m \u001b[0m│\n",
       "│\u001b[36m \u001b[0m\u001b[36mTakeProfit\u001b[0m\u001b[36m \u001b[0m│\u001b[32m \u001b[0m\u001b[32m  195\u001b[0m\u001b[32m \u001b[0m│\u001b[33m \u001b[0m\u001b[33m     28.7%\u001b[0m\u001b[33m \u001b[0m│\n",
       "│\u001b[36m \u001b[0m\u001b[36mLimitSell \u001b[0m\u001b[36m \u001b[0m│\u001b[32m \u001b[0m\u001b[32m   45\u001b[0m\u001b[32m \u001b[0m│\u001b[33m \u001b[0m\u001b[33m      6.6%\u001b[0m\u001b[33m \u001b[0m│\n",
       "│\u001b[36m \u001b[0m\u001b[36mStopLoss  \u001b[0m\u001b[36m \u001b[0m│\u001b[32m \u001b[0m\u001b[32m   79\u001b[0m\u001b[32m \u001b[0m│\u001b[33m \u001b[0m\u001b[33m     11.6%\u001b[0m\u001b[33m \u001b[0m│\n",
       "│\u001b[36m \u001b[0m\u001b[36mLimitBuy  \u001b[0m\u001b[36m \u001b[0m│\u001b[32m \u001b[0m\u001b[32m   25\u001b[0m\u001b[32m \u001b[0m│\u001b[33m \u001b[0m\u001b[33m      3.7%\u001b[0m\u001b[33m \u001b[0m│\n",
       "└────────────┴───────┴────────────┘\n"
      ]
     },
     "metadata": {},
     "output_type": "display_data"
    },
    {
     "data": {
      "text/html": [
       "<pre style=\"white-space:pre;overflow-x:auto;line-height:normal;font-family:Menlo,'DejaVu Sans Mono',consolas,'Courier New',monospace\"><span style=\"color: #808000; text-decoration-color: #808000\">--- Episode </span><span style=\"color: #808000; text-decoration-color: #808000; font-weight: bold\">3</span><span style=\"color: #808000; text-decoration-color: #808000\">/</span><span style=\"color: #808000; text-decoration-color: #808000; font-weight: bold\">5</span><span style=\"color: #808000; text-decoration-color: #808000\"> ---</span>\n",
       "</pre>\n"
      ],
      "text/plain": [
       "\u001b[33m--- Episode \u001b[0m\u001b[1;33m3\u001b[0m\u001b[33m/\u001b[0m\u001b[1;33m5\u001b[0m\u001b[33m ---\u001b[0m\n"
      ]
     },
     "metadata": {},
     "output_type": "display_data"
    },
    {
     "data": {
      "text/html": [
       "<pre style=\"white-space:pre;overflow-x:auto;line-height:normal;font-family:Menlo,'DejaVu Sans Mono',consolas,'Courier New',monospace\">  Step <span style=\"color: #008080; text-decoration-color: #008080; font-weight: bold\">0</span>: <span style=\"color: #008000; text-decoration-color: #008000\">✓</span> <span style=\"color: #800080; text-decoration-color: #800080\">Hold</span>, 💰 <span style=\"color: #008080; text-decoration-color: #008080\">$</span><span style=\"color: #008080; text-decoration-color: #008080; font-weight: bold\">93.30</span>, 📊 <span style=\"color: #008000; text-decoration-color: #008000\">$</span><span style=\"color: #008000; text-decoration-color: #008000; font-weight: bold\">100000.00</span>, 🌟 <span style=\"color: #808000; text-decoration-color: #808000; font-weight: bold\">-0.0500</span>\n",
       "</pre>\n"
      ],
      "text/plain": [
       "  Step \u001b[1;36m0\u001b[0m: \u001b[32m✓\u001b[0m \u001b[35mHold\u001b[0m, 💰 \u001b[36m$\u001b[0m\u001b[1;36m93.30\u001b[0m, 📊 \u001b[32m$\u001b[0m\u001b[1;32m100000.00\u001b[0m, 🌟 \u001b[1;33m-0.0500\u001b[0m\n"
      ]
     },
     "metadata": {},
     "output_type": "display_data"
    },
    {
     "data": {
      "text/html": [
       "<pre style=\"white-space:pre;overflow-x:auto;line-height:normal;font-family:Menlo,'DejaVu Sans Mono',consolas,'Courier New',monospace\">  Step <span style=\"color: #008080; text-decoration-color: #008080; font-weight: bold\">50</span>: <span style=\"color: #008000; text-decoration-color: #008000\">✓</span> <span style=\"color: #800080; text-decoration-color: #800080\">StopLoss</span>, 💰 <span style=\"color: #008080; text-decoration-color: #008080\">$</span><span style=\"color: #008080; text-decoration-color: #008080; font-weight: bold\">67.71</span>, 📊 <span style=\"color: #008000; text-decoration-color: #008000\">$</span><span style=\"color: #008000; text-decoration-color: #008000; font-weight: bold\">5001.20</span>, 🌟 <span style=\"color: #808000; text-decoration-color: #808000; font-weight: bold\">0.0161</span>\n",
       "</pre>\n"
      ],
      "text/plain": [
       "  Step \u001b[1;36m50\u001b[0m: \u001b[32m✓\u001b[0m \u001b[35mStopLoss\u001b[0m, 💰 \u001b[36m$\u001b[0m\u001b[1;36m67.71\u001b[0m, 📊 \u001b[32m$\u001b[0m\u001b[1;32m5001.20\u001b[0m, 🌟 \u001b[1;33m0.0161\u001b[0m\n"
      ]
     },
     "metadata": {},
     "output_type": "display_data"
    },
    {
     "data": {
      "text/html": [
       "<pre style=\"white-space:pre;overflow-x:auto;line-height:normal;font-family:Menlo,'DejaVu Sans Mono',consolas,'Courier New',monospace\">  Step <span style=\"color: #008080; text-decoration-color: #008080; font-weight: bold\">100</span>: <span style=\"color: #008000; text-decoration-color: #008000\">✓</span> <span style=\"color: #800080; text-decoration-color: #800080\">TakeProfit</span>, 💰 <span style=\"color: #008080; text-decoration-color: #008080\">$</span><span style=\"color: #008080; text-decoration-color: #008080; font-weight: bold\">59.66</span>, 📊 <span style=\"color: #008000; text-decoration-color: #008000\">$</span><span style=\"color: #008000; text-decoration-color: #008000; font-weight: bold\">117.69</span>, 🌟 <span style=\"color: #808000; text-decoration-color: #808000; font-weight: bold\">0.0172</span>\n",
       "</pre>\n"
      ],
      "text/plain": [
       "  Step \u001b[1;36m100\u001b[0m: \u001b[32m✓\u001b[0m \u001b[35mTakeProfit\u001b[0m, 💰 \u001b[36m$\u001b[0m\u001b[1;36m59.66\u001b[0m, 📊 \u001b[32m$\u001b[0m\u001b[1;32m117.69\u001b[0m, 🌟 \u001b[1;33m0.0172\u001b[0m\n"
      ]
     },
     "metadata": {},
     "output_type": "display_data"
    },
    {
     "data": {
      "text/html": [
       "<pre style=\"white-space:pre;overflow-x:auto;line-height:normal;font-family:Menlo,'DejaVu Sans Mono',consolas,'Courier New',monospace\">  Step <span style=\"color: #008080; text-decoration-color: #008080; font-weight: bold\">150</span>: <span style=\"color: #008000; text-decoration-color: #008000\">✓</span> <span style=\"color: #800080; text-decoration-color: #800080\">TakeProfit</span>, 💰 <span style=\"color: #008080; text-decoration-color: #008080\">$</span><span style=\"color: #008080; text-decoration-color: #008080; font-weight: bold\">54.73</span>, 📊 <span style=\"color: #008000; text-decoration-color: #008000\">$</span><span style=\"color: #008000; text-decoration-color: #008000; font-weight: bold\">376.82</span>, 🌟 <span style=\"color: #808000; text-decoration-color: #808000; font-weight: bold\">-0.8233</span>\n",
       "</pre>\n"
      ],
      "text/plain": [
       "  Step \u001b[1;36m150\u001b[0m: \u001b[32m✓\u001b[0m \u001b[35mTakeProfit\u001b[0m, 💰 \u001b[36m$\u001b[0m\u001b[1;36m54.73\u001b[0m, 📊 \u001b[32m$\u001b[0m\u001b[1;32m376.82\u001b[0m, 🌟 \u001b[1;33m-0.8233\u001b[0m\n"
      ]
     },
     "metadata": {},
     "output_type": "display_data"
    },
    {
     "data": {
      "text/html": [
       "<pre style=\"white-space:pre;overflow-x:auto;line-height:normal;font-family:Menlo,'DejaVu Sans Mono',consolas,'Courier New',monospace\">  Step <span style=\"color: #008080; text-decoration-color: #008080; font-weight: bold\">200</span>: <span style=\"color: #008000; text-decoration-color: #008000\">✓</span> <span style=\"color: #800080; text-decoration-color: #800080\">Sell</span>, 💰 <span style=\"color: #008080; text-decoration-color: #008080\">$</span><span style=\"color: #008080; text-decoration-color: #008080; font-weight: bold\">52.04</span>, 📊 <span style=\"color: #008000; text-decoration-color: #008000\">$</span><span style=\"color: #008000; text-decoration-color: #008000; font-weight: bold\">974.11</span>, 🌟 <span style=\"color: #808000; text-decoration-color: #808000; font-weight: bold\">0.0041</span>\n",
       "</pre>\n"
      ],
      "text/plain": [
       "  Step \u001b[1;36m200\u001b[0m: \u001b[32m✓\u001b[0m \u001b[35mSell\u001b[0m, 💰 \u001b[36m$\u001b[0m\u001b[1;36m52.04\u001b[0m, 📊 \u001b[32m$\u001b[0m\u001b[1;32m974.11\u001b[0m, 🌟 \u001b[1;33m0.0041\u001b[0m\n"
      ]
     },
     "metadata": {},
     "output_type": "display_data"
    },
    {
     "data": {
      "text/html": [
       "<pre style=\"white-space:pre;overflow-x:auto;line-height:normal;font-family:Menlo,'DejaVu Sans Mono',consolas,'Courier New',monospace\">  Step <span style=\"color: #008080; text-decoration-color: #008080; font-weight: bold\">250</span>: <span style=\"color: #008000; text-decoration-color: #008000\">✓</span> <span style=\"color: #800080; text-decoration-color: #800080\">LimitSell</span>, 💰 <span style=\"color: #008080; text-decoration-color: #008080\">$</span><span style=\"color: #008080; text-decoration-color: #008080; font-weight: bold\">57.34</span>, 📊 <span style=\"color: #008000; text-decoration-color: #008000\">$</span><span style=\"color: #008000; text-decoration-color: #008000; font-weight: bold\">657.72</span>, 🌟 <span style=\"color: #808000; text-decoration-color: #808000; font-weight: bold\">0.0068</span>\n",
       "</pre>\n"
      ],
      "text/plain": [
       "  Step \u001b[1;36m250\u001b[0m: \u001b[32m✓\u001b[0m \u001b[35mLimitSell\u001b[0m, 💰 \u001b[36m$\u001b[0m\u001b[1;36m57.34\u001b[0m, 📊 \u001b[32m$\u001b[0m\u001b[1;32m657.72\u001b[0m, 🌟 \u001b[1;33m0.0068\u001b[0m\n"
      ]
     },
     "metadata": {},
     "output_type": "display_data"
    },
    {
     "data": {
      "text/html": [
       "<pre style=\"white-space:pre;overflow-x:auto;line-height:normal;font-family:Menlo,'DejaVu Sans Mono',consolas,'Courier New',monospace\">  Step <span style=\"color: #008080; text-decoration-color: #008080; font-weight: bold\">300</span>: <span style=\"color: #008000; text-decoration-color: #008000\">✓</span> <span style=\"color: #800080; text-decoration-color: #800080\">TakeProfit</span>, 💰 <span style=\"color: #008080; text-decoration-color: #008080\">$</span><span style=\"color: #008080; text-decoration-color: #008080; font-weight: bold\">61.61</span>, 📊 <span style=\"color: #008000; text-decoration-color: #008000\">$</span><span style=\"color: #008000; text-decoration-color: #008000; font-weight: bold\">88.00</span>, 🌟 <span style=\"color: #808000; text-decoration-color: #808000; font-weight: bold\">0.0328</span>\n",
       "</pre>\n"
      ],
      "text/plain": [
       "  Step \u001b[1;36m300\u001b[0m: \u001b[32m✓\u001b[0m \u001b[35mTakeProfit\u001b[0m, 💰 \u001b[36m$\u001b[0m\u001b[1;36m61.61\u001b[0m, 📊 \u001b[32m$\u001b[0m\u001b[1;32m88.00\u001b[0m, 🌟 \u001b[1;33m0.0328\u001b[0m\n"
      ]
     },
     "metadata": {},
     "output_type": "display_data"
    },
    {
     "data": {
      "text/html": [
       "<pre style=\"white-space:pre;overflow-x:auto;line-height:normal;font-family:Menlo,'DejaVu Sans Mono',consolas,'Courier New',monospace\">  Step <span style=\"color: #008080; text-decoration-color: #008080; font-weight: bold\">350</span>: <span style=\"color: #008000; text-decoration-color: #008000\">✓</span> <span style=\"color: #800080; text-decoration-color: #800080\">Hold</span>, 💰 <span style=\"color: #008080; text-decoration-color: #008080\">$</span><span style=\"color: #008080; text-decoration-color: #008080; font-weight: bold\">65.68</span>, 📊 <span style=\"color: #008000; text-decoration-color: #008000\">$</span><span style=\"color: #008000; text-decoration-color: #008000; font-weight: bold\">1117.06</span>, 🌟 <span style=\"color: #808000; text-decoration-color: #808000; font-weight: bold\">-0.0416</span>\n",
       "</pre>\n"
      ],
      "text/plain": [
       "  Step \u001b[1;36m350\u001b[0m: \u001b[32m✓\u001b[0m \u001b[35mHold\u001b[0m, 💰 \u001b[36m$\u001b[0m\u001b[1;36m65.68\u001b[0m, 📊 \u001b[32m$\u001b[0m\u001b[1;32m1117.06\u001b[0m, 🌟 \u001b[1;33m-0.0416\u001b[0m\n"
      ]
     },
     "metadata": {},
     "output_type": "display_data"
    },
    {
     "data": {
      "text/html": [
       "<pre style=\"white-space:pre;overflow-x:auto;line-height:normal;font-family:Menlo,'DejaVu Sans Mono',consolas,'Courier New',monospace\">  Step <span style=\"color: #008080; text-decoration-color: #008080; font-weight: bold\">400</span>: <span style=\"color: #008000; text-decoration-color: #008000\">✓</span> <span style=\"color: #800080; text-decoration-color: #800080\">StopLoss</span>, 💰 <span style=\"color: #008080; text-decoration-color: #008080\">$</span><span style=\"color: #008080; text-decoration-color: #008080; font-weight: bold\">68.11</span>, 📊 <span style=\"color: #008000; text-decoration-color: #008000\">$</span><span style=\"color: #008000; text-decoration-color: #008000; font-weight: bold\">3307.14</span>, 🌟 <span style=\"color: #808000; text-decoration-color: #808000; font-weight: bold\">-0.0149</span>\n",
       "</pre>\n"
      ],
      "text/plain": [
       "  Step \u001b[1;36m400\u001b[0m: \u001b[32m✓\u001b[0m \u001b[35mStopLoss\u001b[0m, 💰 \u001b[36m$\u001b[0m\u001b[1;36m68.11\u001b[0m, 📊 \u001b[32m$\u001b[0m\u001b[1;32m3307.14\u001b[0m, 🌟 \u001b[1;33m-0.0149\u001b[0m\n"
      ]
     },
     "metadata": {},
     "output_type": "display_data"
    },
    {
     "data": {
      "text/html": [
       "<pre style=\"white-space:pre;overflow-x:auto;line-height:normal;font-family:Menlo,'DejaVu Sans Mono',consolas,'Courier New',monospace\">  Step <span style=\"color: #008080; text-decoration-color: #008080; font-weight: bold\">450</span>: <span style=\"color: #008000; text-decoration-color: #008000\">✓</span> <span style=\"color: #800080; text-decoration-color: #800080\">Hold</span>, 💰 <span style=\"color: #008080; text-decoration-color: #008080\">$</span><span style=\"color: #008080; text-decoration-color: #008080; font-weight: bold\">82.19</span>, 📊 <span style=\"color: #008000; text-decoration-color: #008000\">$</span><span style=\"color: #008000; text-decoration-color: #008000; font-weight: bold\">100353.05</span>, 🌟 <span style=\"color: #808000; text-decoration-color: #808000; font-weight: bold\">-0.0400</span>\n",
       "</pre>\n"
      ],
      "text/plain": [
       "  Step \u001b[1;36m450\u001b[0m: \u001b[32m✓\u001b[0m \u001b[35mHold\u001b[0m, 💰 \u001b[36m$\u001b[0m\u001b[1;36m82.19\u001b[0m, 📊 \u001b[32m$\u001b[0m\u001b[1;32m100353.05\u001b[0m, 🌟 \u001b[1;33m-0.0400\u001b[0m\n"
      ]
     },
     "metadata": {},
     "output_type": "display_data"
    },
    {
     "data": {
      "text/html": [
       "<pre style=\"white-space:pre;overflow-x:auto;line-height:normal;font-family:Menlo,'DejaVu Sans Mono',consolas,'Courier New',monospace\">  Step <span style=\"color: #008080; text-decoration-color: #008080; font-weight: bold\">500</span>: <span style=\"color: #008000; text-decoration-color: #008000\">✓</span> <span style=\"color: #800080; text-decoration-color: #800080\">Hold</span>, 💰 <span style=\"color: #008080; text-decoration-color: #008080\">$</span><span style=\"color: #008080; text-decoration-color: #008080; font-weight: bold\">89.71</span>, 📊 <span style=\"color: #008000; text-decoration-color: #008000\">$</span><span style=\"color: #008000; text-decoration-color: #008000; font-weight: bold\">9123.23</span>, 🌟 <span style=\"color: #808000; text-decoration-color: #808000; font-weight: bold\">-0.0427</span>\n",
       "</pre>\n"
      ],
      "text/plain": [
       "  Step \u001b[1;36m500\u001b[0m: \u001b[32m✓\u001b[0m \u001b[35mHold\u001b[0m, 💰 \u001b[36m$\u001b[0m\u001b[1;36m89.71\u001b[0m, 📊 \u001b[32m$\u001b[0m\u001b[1;32m9123.23\u001b[0m, 🌟 \u001b[1;33m-0.0427\u001b[0m\n"
      ]
     },
     "metadata": {},
     "output_type": "display_data"
    },
    {
     "data": {
      "text/html": [
       "<pre style=\"white-space:pre;overflow-x:auto;line-height:normal;font-family:Menlo,'DejaVu Sans Mono',consolas,'Courier New',monospace\">  Step <span style=\"color: #008080; text-decoration-color: #008080; font-weight: bold\">550</span>: <span style=\"color: #008000; text-decoration-color: #008000\">✓</span> <span style=\"color: #800080; text-decoration-color: #800080\">Hold</span>, 💰 <span style=\"color: #008080; text-decoration-color: #008080\">$</span><span style=\"color: #008080; text-decoration-color: #008080; font-weight: bold\">117.81</span>, 📊 <span style=\"color: #008000; text-decoration-color: #008000\">$</span><span style=\"color: #008000; text-decoration-color: #008000; font-weight: bold\">2388.11</span>, 🌟 <span style=\"color: #808000; text-decoration-color: #808000; font-weight: bold\">-0.0409</span>\n",
       "</pre>\n"
      ],
      "text/plain": [
       "  Step \u001b[1;36m550\u001b[0m: \u001b[32m✓\u001b[0m \u001b[35mHold\u001b[0m, 💰 \u001b[36m$\u001b[0m\u001b[1;36m117.81\u001b[0m, 📊 \u001b[32m$\u001b[0m\u001b[1;32m2388.11\u001b[0m, 🌟 \u001b[1;33m-0.0409\u001b[0m\n"
      ]
     },
     "metadata": {},
     "output_type": "display_data"
    },
    {
     "data": {
      "text/html": [
       "<pre style=\"white-space:pre;overflow-x:auto;line-height:normal;font-family:Menlo,'DejaVu Sans Mono',consolas,'Courier New',monospace\">  Step <span style=\"color: #008080; text-decoration-color: #008080; font-weight: bold\">600</span>: <span style=\"color: #008000; text-decoration-color: #008000\">✓</span> <span style=\"color: #800080; text-decoration-color: #800080\">Hold</span>, 💰 <span style=\"color: #008080; text-decoration-color: #008080\">$</span><span style=\"color: #008080; text-decoration-color: #008080; font-weight: bold\">114.25</span>, 📊 <span style=\"color: #008000; text-decoration-color: #008000\">$</span><span style=\"color: #008000; text-decoration-color: #008000; font-weight: bold\">10466.19</span>, 🌟 <span style=\"color: #808000; text-decoration-color: #808000; font-weight: bold\">-0.0361</span>\n",
       "</pre>\n"
      ],
      "text/plain": [
       "  Step \u001b[1;36m600\u001b[0m: \u001b[32m✓\u001b[0m \u001b[35mHold\u001b[0m, 💰 \u001b[36m$\u001b[0m\u001b[1;36m114.25\u001b[0m, 📊 \u001b[32m$\u001b[0m\u001b[1;32m10466.19\u001b[0m, 🌟 \u001b[1;33m-0.0361\u001b[0m\n"
      ]
     },
     "metadata": {},
     "output_type": "display_data"
    },
    {
     "data": {
      "text/html": [
       "<pre style=\"white-space:pre;overflow-x:auto;line-height:normal;font-family:Menlo,'DejaVu Sans Mono',consolas,'Courier New',monospace\">  Step <span style=\"color: #008080; text-decoration-color: #008080; font-weight: bold\">650</span>: <span style=\"color: #008000; text-decoration-color: #008000\">✓</span> <span style=\"color: #800080; text-decoration-color: #800080\">Hold</span>, 💰 <span style=\"color: #008080; text-decoration-color: #008080\">$</span><span style=\"color: #008080; text-decoration-color: #008080; font-weight: bold\">99.85</span>, 📊 <span style=\"color: #008000; text-decoration-color: #008000\">$</span><span style=\"color: #008000; text-decoration-color: #008000; font-weight: bold\">7702.60</span>, 🌟 <span style=\"color: #808000; text-decoration-color: #808000; font-weight: bold\">-0.0364</span>\n",
       "</pre>\n"
      ],
      "text/plain": [
       "  Step \u001b[1;36m650\u001b[0m: \u001b[32m✓\u001b[0m \u001b[35mHold\u001b[0m, 💰 \u001b[36m$\u001b[0m\u001b[1;36m99.85\u001b[0m, 📊 \u001b[32m$\u001b[0m\u001b[1;32m7702.60\u001b[0m, 🌟 \u001b[1;33m-0.0364\u001b[0m\n"
      ]
     },
     "metadata": {},
     "output_type": "display_data"
    },
    {
     "data": {
      "text/html": [
       "<pre style=\"white-space:pre;overflow-x:auto;line-height:normal;font-family:Menlo,'DejaVu Sans Mono',consolas,'Courier New',monospace\"><span style=\"color: #008000; text-decoration-color: #008000; font-weight: bold\">Episode </span><span style=\"color: #008000; text-decoration-color: #008000; font-weight: bold\">3</span><span style=\"color: #008000; text-decoration-color: #008000; font-weight: bold\"> Results:</span>\n",
       "</pre>\n"
      ],
      "text/plain": [
       "\u001b[1;32mEpisode \u001b[0m\u001b[1;32m3\u001b[0m\u001b[1;32m Results:\u001b[0m\n"
      ]
     },
     "metadata": {},
     "output_type": "display_data"
    },
    {
     "data": {
      "text/html": [
       "<pre style=\"white-space:pre;overflow-x:auto;line-height:normal;font-family:Menlo,'DejaVu Sans Mono',consolas,'Courier New',monospace\">  Total Steps: <span style=\"color: #008080; text-decoration-color: #008080; font-weight: bold\">680</span>\n",
       "</pre>\n"
      ],
      "text/plain": [
       "  Total Steps: \u001b[1;36m680\u001b[0m\n"
      ]
     },
     "metadata": {},
     "output_type": "display_data"
    },
    {
     "data": {
      "text/html": [
       "<pre style=\"white-space:pre;overflow-x:auto;line-height:normal;font-family:Menlo,'DejaVu Sans Mono',consolas,'Courier New',monospace\">  Initial Portfolio Value: <span style=\"color: #008000; text-decoration-color: #008000\">$</span><span style=\"color: #008000; text-decoration-color: #008000; font-weight: bold\">100000.00</span>\n",
       "</pre>\n"
      ],
      "text/plain": [
       "  Initial Portfolio Value: \u001b[32m$\u001b[0m\u001b[1;32m100000.00\u001b[0m\n"
      ]
     },
     "metadata": {},
     "output_type": "display_data"
    },
    {
     "data": {
      "text/html": [
       "<pre style=\"white-space:pre;overflow-x:auto;line-height:normal;font-family:Menlo,'DejaVu Sans Mono',consolas,'Courier New',monospace\">  Final Portfolio Value: <span style=\"color: #008000; text-decoration-color: #008000\">$</span><span style=\"color: #008000; text-decoration-color: #008000; font-weight: bold\">5104.10</span>\n",
       "</pre>\n"
      ],
      "text/plain": [
       "  Final Portfolio Value: \u001b[32m$\u001b[0m\u001b[1;32m5104.10\u001b[0m\n"
      ]
     },
     "metadata": {},
     "output_type": "display_data"
    },
    {
     "data": {
      "text/html": [
       "<pre style=\"white-space:pre;overflow-x:auto;line-height:normal;font-family:Menlo,'DejaVu Sans Mono',consolas,'Courier New',monospace\">  Total Return: <span style=\"color: #800000; text-decoration-color: #800000; font-weight: bold\">-94.90</span><span style=\"color: #800000; text-decoration-color: #800000\">%</span>\n",
       "</pre>\n"
      ],
      "text/plain": [
       "  Total Return: \u001b[1;31m-94.90\u001b[0m\u001b[31m%\u001b[0m\n"
      ]
     },
     "metadata": {},
     "output_type": "display_data"
    },
    {
     "data": {
      "text/html": [
       "<pre style=\"white-space:pre;overflow-x:auto;line-height:normal;font-family:Menlo,'DejaVu Sans Mono',consolas,'Courier New',monospace\">  Total Reward: <span style=\"color: #808000; text-decoration-color: #808000; font-weight: bold\">83.11</span>\n",
       "</pre>\n"
      ],
      "text/plain": [
       "  Total Reward: \u001b[1;33m83.11\u001b[0m\n"
      ]
     },
     "metadata": {},
     "output_type": "display_data"
    },
    {
     "data": {
      "text/html": [
       "<pre style=\"white-space:pre;overflow-x:auto;line-height:normal;font-family:Menlo,'DejaVu Sans Mono',consolas,'Courier New',monospace\"><span style=\"font-style: italic\">        Action Distribution        </span>\n",
       "┏━━━━━━━━━━━━┳━━━━━━━┳━━━━━━━━━━━━┓\n",
       "┃<span style=\"font-weight: bold\"> Action     </span>┃<span style=\"font-weight: bold\"> Count </span>┃<span style=\"font-weight: bold\"> Percentage </span>┃\n",
       "┡━━━━━━━━━━━━╇━━━━━━━╇━━━━━━━━━━━━┩\n",
       "│<span style=\"color: #008080; text-decoration-color: #008080\"> Hold       </span>│<span style=\"color: #008000; text-decoration-color: #008000\">   215 </span>│<span style=\"color: #808000; text-decoration-color: #808000\">      31.6% </span>│\n",
       "│<span style=\"color: #008080; text-decoration-color: #008080\"> Buy        </span>│<span style=\"color: #008000; text-decoration-color: #008000\">    79 </span>│<span style=\"color: #808000; text-decoration-color: #808000\">      11.6% </span>│\n",
       "│<span style=\"color: #008080; text-decoration-color: #008080\"> Sell       </span>│<span style=\"color: #008000; text-decoration-color: #008000\">    42 </span>│<span style=\"color: #808000; text-decoration-color: #808000\">       6.2% </span>│\n",
       "│<span style=\"color: #008080; text-decoration-color: #008080\"> TakeProfit </span>│<span style=\"color: #008000; text-decoration-color: #008000\">   195 </span>│<span style=\"color: #808000; text-decoration-color: #808000\">      28.7% </span>│\n",
       "│<span style=\"color: #008080; text-decoration-color: #008080\"> LimitSell  </span>│<span style=\"color: #008000; text-decoration-color: #008000\">    45 </span>│<span style=\"color: #808000; text-decoration-color: #808000\">       6.6% </span>│\n",
       "│<span style=\"color: #008080; text-decoration-color: #008080\"> StopLoss   </span>│<span style=\"color: #008000; text-decoration-color: #008000\">    79 </span>│<span style=\"color: #808000; text-decoration-color: #808000\">      11.6% </span>│\n",
       "│<span style=\"color: #008080; text-decoration-color: #008080\"> LimitBuy   </span>│<span style=\"color: #008000; text-decoration-color: #008000\">    25 </span>│<span style=\"color: #808000; text-decoration-color: #808000\">       3.7% </span>│\n",
       "└────────────┴───────┴────────────┘\n",
       "</pre>\n"
      ],
      "text/plain": [
       "\u001b[3m        Action Distribution        \u001b[0m\n",
       "┏━━━━━━━━━━━━┳━━━━━━━┳━━━━━━━━━━━━┓\n",
       "┃\u001b[1m \u001b[0m\u001b[1mAction    \u001b[0m\u001b[1m \u001b[0m┃\u001b[1m \u001b[0m\u001b[1mCount\u001b[0m\u001b[1m \u001b[0m┃\u001b[1m \u001b[0m\u001b[1mPercentage\u001b[0m\u001b[1m \u001b[0m┃\n",
       "┡━━━━━━━━━━━━╇━━━━━━━╇━━━━━━━━━━━━┩\n",
       "│\u001b[36m \u001b[0m\u001b[36mHold      \u001b[0m\u001b[36m \u001b[0m│\u001b[32m \u001b[0m\u001b[32m  215\u001b[0m\u001b[32m \u001b[0m│\u001b[33m \u001b[0m\u001b[33m     31.6%\u001b[0m\u001b[33m \u001b[0m│\n",
       "│\u001b[36m \u001b[0m\u001b[36mBuy       \u001b[0m\u001b[36m \u001b[0m│\u001b[32m \u001b[0m\u001b[32m   79\u001b[0m\u001b[32m \u001b[0m│\u001b[33m \u001b[0m\u001b[33m     11.6%\u001b[0m\u001b[33m \u001b[0m│\n",
       "│\u001b[36m \u001b[0m\u001b[36mSell      \u001b[0m\u001b[36m \u001b[0m│\u001b[32m \u001b[0m\u001b[32m   42\u001b[0m\u001b[32m \u001b[0m│\u001b[33m \u001b[0m\u001b[33m      6.2%\u001b[0m\u001b[33m \u001b[0m│\n",
       "│\u001b[36m \u001b[0m\u001b[36mTakeProfit\u001b[0m\u001b[36m \u001b[0m│\u001b[32m \u001b[0m\u001b[32m  195\u001b[0m\u001b[32m \u001b[0m│\u001b[33m \u001b[0m\u001b[33m     28.7%\u001b[0m\u001b[33m \u001b[0m│\n",
       "│\u001b[36m \u001b[0m\u001b[36mLimitSell \u001b[0m\u001b[36m \u001b[0m│\u001b[32m \u001b[0m\u001b[32m   45\u001b[0m\u001b[32m \u001b[0m│\u001b[33m \u001b[0m\u001b[33m      6.6%\u001b[0m\u001b[33m \u001b[0m│\n",
       "│\u001b[36m \u001b[0m\u001b[36mStopLoss  \u001b[0m\u001b[36m \u001b[0m│\u001b[32m \u001b[0m\u001b[32m   79\u001b[0m\u001b[32m \u001b[0m│\u001b[33m \u001b[0m\u001b[33m     11.6%\u001b[0m\u001b[33m \u001b[0m│\n",
       "│\u001b[36m \u001b[0m\u001b[36mLimitBuy  \u001b[0m\u001b[36m \u001b[0m│\u001b[32m \u001b[0m\u001b[32m   25\u001b[0m\u001b[32m \u001b[0m│\u001b[33m \u001b[0m\u001b[33m      3.7%\u001b[0m\u001b[33m \u001b[0m│\n",
       "└────────────┴───────┴────────────┘\n"
      ]
     },
     "metadata": {},
     "output_type": "display_data"
    },
    {
     "data": {
      "text/html": [
       "<pre style=\"white-space:pre;overflow-x:auto;line-height:normal;font-family:Menlo,'DejaVu Sans Mono',consolas,'Courier New',monospace\"><span style=\"color: #808000; text-decoration-color: #808000\">--- Episode </span><span style=\"color: #808000; text-decoration-color: #808000; font-weight: bold\">4</span><span style=\"color: #808000; text-decoration-color: #808000\">/</span><span style=\"color: #808000; text-decoration-color: #808000; font-weight: bold\">5</span><span style=\"color: #808000; text-decoration-color: #808000\"> ---</span>\n",
       "</pre>\n"
      ],
      "text/plain": [
       "\u001b[33m--- Episode \u001b[0m\u001b[1;33m4\u001b[0m\u001b[33m/\u001b[0m\u001b[1;33m5\u001b[0m\u001b[33m ---\u001b[0m\n"
      ]
     },
     "metadata": {},
     "output_type": "display_data"
    },
    {
     "data": {
      "text/html": [
       "<pre style=\"white-space:pre;overflow-x:auto;line-height:normal;font-family:Menlo,'DejaVu Sans Mono',consolas,'Courier New',monospace\">  Step <span style=\"color: #008080; text-decoration-color: #008080; font-weight: bold\">0</span>: <span style=\"color: #008000; text-decoration-color: #008000\">✓</span> <span style=\"color: #800080; text-decoration-color: #800080\">Hold</span>, 💰 <span style=\"color: #008080; text-decoration-color: #008080\">$</span><span style=\"color: #008080; text-decoration-color: #008080; font-weight: bold\">93.30</span>, 📊 <span style=\"color: #008000; text-decoration-color: #008000\">$</span><span style=\"color: #008000; text-decoration-color: #008000; font-weight: bold\">100000.00</span>, 🌟 <span style=\"color: #808000; text-decoration-color: #808000; font-weight: bold\">-0.0500</span>\n",
       "</pre>\n"
      ],
      "text/plain": [
       "  Step \u001b[1;36m0\u001b[0m: \u001b[32m✓\u001b[0m \u001b[35mHold\u001b[0m, 💰 \u001b[36m$\u001b[0m\u001b[1;36m93.30\u001b[0m, 📊 \u001b[32m$\u001b[0m\u001b[1;32m100000.00\u001b[0m, 🌟 \u001b[1;33m-0.0500\u001b[0m\n"
      ]
     },
     "metadata": {},
     "output_type": "display_data"
    },
    {
     "data": {
      "text/html": [
       "<pre style=\"white-space:pre;overflow-x:auto;line-height:normal;font-family:Menlo,'DejaVu Sans Mono',consolas,'Courier New',monospace\">  Step <span style=\"color: #008080; text-decoration-color: #008080; font-weight: bold\">50</span>: <span style=\"color: #008000; text-decoration-color: #008000\">✓</span> <span style=\"color: #800080; text-decoration-color: #800080\">StopLoss</span>, 💰 <span style=\"color: #008080; text-decoration-color: #008080\">$</span><span style=\"color: #008080; text-decoration-color: #008080; font-weight: bold\">67.71</span>, 📊 <span style=\"color: #008000; text-decoration-color: #008000\">$</span><span style=\"color: #008000; text-decoration-color: #008000; font-weight: bold\">5001.20</span>, 🌟 <span style=\"color: #808000; text-decoration-color: #808000; font-weight: bold\">0.0161</span>\n",
       "</pre>\n"
      ],
      "text/plain": [
       "  Step \u001b[1;36m50\u001b[0m: \u001b[32m✓\u001b[0m \u001b[35mStopLoss\u001b[0m, 💰 \u001b[36m$\u001b[0m\u001b[1;36m67.71\u001b[0m, 📊 \u001b[32m$\u001b[0m\u001b[1;32m5001.20\u001b[0m, 🌟 \u001b[1;33m0.0161\u001b[0m\n"
      ]
     },
     "metadata": {},
     "output_type": "display_data"
    },
    {
     "data": {
      "text/html": [
       "<pre style=\"white-space:pre;overflow-x:auto;line-height:normal;font-family:Menlo,'DejaVu Sans Mono',consolas,'Courier New',monospace\">  Step <span style=\"color: #008080; text-decoration-color: #008080; font-weight: bold\">100</span>: <span style=\"color: #008000; text-decoration-color: #008000\">✓</span> <span style=\"color: #800080; text-decoration-color: #800080\">TakeProfit</span>, 💰 <span style=\"color: #008080; text-decoration-color: #008080\">$</span><span style=\"color: #008080; text-decoration-color: #008080; font-weight: bold\">59.66</span>, 📊 <span style=\"color: #008000; text-decoration-color: #008000\">$</span><span style=\"color: #008000; text-decoration-color: #008000; font-weight: bold\">117.69</span>, 🌟 <span style=\"color: #808000; text-decoration-color: #808000; font-weight: bold\">0.0172</span>\n",
       "</pre>\n"
      ],
      "text/plain": [
       "  Step \u001b[1;36m100\u001b[0m: \u001b[32m✓\u001b[0m \u001b[35mTakeProfit\u001b[0m, 💰 \u001b[36m$\u001b[0m\u001b[1;36m59.66\u001b[0m, 📊 \u001b[32m$\u001b[0m\u001b[1;32m117.69\u001b[0m, 🌟 \u001b[1;33m0.0172\u001b[0m\n"
      ]
     },
     "metadata": {},
     "output_type": "display_data"
    },
    {
     "data": {
      "text/html": [
       "<pre style=\"white-space:pre;overflow-x:auto;line-height:normal;font-family:Menlo,'DejaVu Sans Mono',consolas,'Courier New',monospace\">  Step <span style=\"color: #008080; text-decoration-color: #008080; font-weight: bold\">150</span>: <span style=\"color: #008000; text-decoration-color: #008000\">✓</span> <span style=\"color: #800080; text-decoration-color: #800080\">TakeProfit</span>, 💰 <span style=\"color: #008080; text-decoration-color: #008080\">$</span><span style=\"color: #008080; text-decoration-color: #008080; font-weight: bold\">54.73</span>, 📊 <span style=\"color: #008000; text-decoration-color: #008000\">$</span><span style=\"color: #008000; text-decoration-color: #008000; font-weight: bold\">376.82</span>, 🌟 <span style=\"color: #808000; text-decoration-color: #808000; font-weight: bold\">-0.8233</span>\n",
       "</pre>\n"
      ],
      "text/plain": [
       "  Step \u001b[1;36m150\u001b[0m: \u001b[32m✓\u001b[0m \u001b[35mTakeProfit\u001b[0m, 💰 \u001b[36m$\u001b[0m\u001b[1;36m54.73\u001b[0m, 📊 \u001b[32m$\u001b[0m\u001b[1;32m376.82\u001b[0m, 🌟 \u001b[1;33m-0.8233\u001b[0m\n"
      ]
     },
     "metadata": {},
     "output_type": "display_data"
    },
    {
     "data": {
      "text/html": [
       "<pre style=\"white-space:pre;overflow-x:auto;line-height:normal;font-family:Menlo,'DejaVu Sans Mono',consolas,'Courier New',monospace\">  Step <span style=\"color: #008080; text-decoration-color: #008080; font-weight: bold\">200</span>: <span style=\"color: #008000; text-decoration-color: #008000\">✓</span> <span style=\"color: #800080; text-decoration-color: #800080\">Sell</span>, 💰 <span style=\"color: #008080; text-decoration-color: #008080\">$</span><span style=\"color: #008080; text-decoration-color: #008080; font-weight: bold\">52.04</span>, 📊 <span style=\"color: #008000; text-decoration-color: #008000\">$</span><span style=\"color: #008000; text-decoration-color: #008000; font-weight: bold\">974.11</span>, 🌟 <span style=\"color: #808000; text-decoration-color: #808000; font-weight: bold\">0.0041</span>\n",
       "</pre>\n"
      ],
      "text/plain": [
       "  Step \u001b[1;36m200\u001b[0m: \u001b[32m✓\u001b[0m \u001b[35mSell\u001b[0m, 💰 \u001b[36m$\u001b[0m\u001b[1;36m52.04\u001b[0m, 📊 \u001b[32m$\u001b[0m\u001b[1;32m974.11\u001b[0m, 🌟 \u001b[1;33m0.0041\u001b[0m\n"
      ]
     },
     "metadata": {},
     "output_type": "display_data"
    },
    {
     "data": {
      "text/html": [
       "<pre style=\"white-space:pre;overflow-x:auto;line-height:normal;font-family:Menlo,'DejaVu Sans Mono',consolas,'Courier New',monospace\">  Step <span style=\"color: #008080; text-decoration-color: #008080; font-weight: bold\">250</span>: <span style=\"color: #008000; text-decoration-color: #008000\">✓</span> <span style=\"color: #800080; text-decoration-color: #800080\">LimitSell</span>, 💰 <span style=\"color: #008080; text-decoration-color: #008080\">$</span><span style=\"color: #008080; text-decoration-color: #008080; font-weight: bold\">57.34</span>, 📊 <span style=\"color: #008000; text-decoration-color: #008000\">$</span><span style=\"color: #008000; text-decoration-color: #008000; font-weight: bold\">657.72</span>, 🌟 <span style=\"color: #808000; text-decoration-color: #808000; font-weight: bold\">0.0068</span>\n",
       "</pre>\n"
      ],
      "text/plain": [
       "  Step \u001b[1;36m250\u001b[0m: \u001b[32m✓\u001b[0m \u001b[35mLimitSell\u001b[0m, 💰 \u001b[36m$\u001b[0m\u001b[1;36m57.34\u001b[0m, 📊 \u001b[32m$\u001b[0m\u001b[1;32m657.72\u001b[0m, 🌟 \u001b[1;33m0.0068\u001b[0m\n"
      ]
     },
     "metadata": {},
     "output_type": "display_data"
    },
    {
     "data": {
      "text/html": [
       "<pre style=\"white-space:pre;overflow-x:auto;line-height:normal;font-family:Menlo,'DejaVu Sans Mono',consolas,'Courier New',monospace\">  Step <span style=\"color: #008080; text-decoration-color: #008080; font-weight: bold\">300</span>: <span style=\"color: #008000; text-decoration-color: #008000\">✓</span> <span style=\"color: #800080; text-decoration-color: #800080\">TakeProfit</span>, 💰 <span style=\"color: #008080; text-decoration-color: #008080\">$</span><span style=\"color: #008080; text-decoration-color: #008080; font-weight: bold\">61.61</span>, 📊 <span style=\"color: #008000; text-decoration-color: #008000\">$</span><span style=\"color: #008000; text-decoration-color: #008000; font-weight: bold\">88.00</span>, 🌟 <span style=\"color: #808000; text-decoration-color: #808000; font-weight: bold\">0.0328</span>\n",
       "</pre>\n"
      ],
      "text/plain": [
       "  Step \u001b[1;36m300\u001b[0m: \u001b[32m✓\u001b[0m \u001b[35mTakeProfit\u001b[0m, 💰 \u001b[36m$\u001b[0m\u001b[1;36m61.61\u001b[0m, 📊 \u001b[32m$\u001b[0m\u001b[1;32m88.00\u001b[0m, 🌟 \u001b[1;33m0.0328\u001b[0m\n"
      ]
     },
     "metadata": {},
     "output_type": "display_data"
    },
    {
     "data": {
      "text/html": [
       "<pre style=\"white-space:pre;overflow-x:auto;line-height:normal;font-family:Menlo,'DejaVu Sans Mono',consolas,'Courier New',monospace\">  Step <span style=\"color: #008080; text-decoration-color: #008080; font-weight: bold\">350</span>: <span style=\"color: #008000; text-decoration-color: #008000\">✓</span> <span style=\"color: #800080; text-decoration-color: #800080\">Hold</span>, 💰 <span style=\"color: #008080; text-decoration-color: #008080\">$</span><span style=\"color: #008080; text-decoration-color: #008080; font-weight: bold\">65.68</span>, 📊 <span style=\"color: #008000; text-decoration-color: #008000\">$</span><span style=\"color: #008000; text-decoration-color: #008000; font-weight: bold\">1117.06</span>, 🌟 <span style=\"color: #808000; text-decoration-color: #808000; font-weight: bold\">-0.0416</span>\n",
       "</pre>\n"
      ],
      "text/plain": [
       "  Step \u001b[1;36m350\u001b[0m: \u001b[32m✓\u001b[0m \u001b[35mHold\u001b[0m, 💰 \u001b[36m$\u001b[0m\u001b[1;36m65.68\u001b[0m, 📊 \u001b[32m$\u001b[0m\u001b[1;32m1117.06\u001b[0m, 🌟 \u001b[1;33m-0.0416\u001b[0m\n"
      ]
     },
     "metadata": {},
     "output_type": "display_data"
    },
    {
     "data": {
      "text/html": [
       "<pre style=\"white-space:pre;overflow-x:auto;line-height:normal;font-family:Menlo,'DejaVu Sans Mono',consolas,'Courier New',monospace\">  Step <span style=\"color: #008080; text-decoration-color: #008080; font-weight: bold\">400</span>: <span style=\"color: #008000; text-decoration-color: #008000\">✓</span> <span style=\"color: #800080; text-decoration-color: #800080\">StopLoss</span>, 💰 <span style=\"color: #008080; text-decoration-color: #008080\">$</span><span style=\"color: #008080; text-decoration-color: #008080; font-weight: bold\">68.11</span>, 📊 <span style=\"color: #008000; text-decoration-color: #008000\">$</span><span style=\"color: #008000; text-decoration-color: #008000; font-weight: bold\">3307.14</span>, 🌟 <span style=\"color: #808000; text-decoration-color: #808000; font-weight: bold\">-0.0149</span>\n",
       "</pre>\n"
      ],
      "text/plain": [
       "  Step \u001b[1;36m400\u001b[0m: \u001b[32m✓\u001b[0m \u001b[35mStopLoss\u001b[0m, 💰 \u001b[36m$\u001b[0m\u001b[1;36m68.11\u001b[0m, 📊 \u001b[32m$\u001b[0m\u001b[1;32m3307.14\u001b[0m, 🌟 \u001b[1;33m-0.0149\u001b[0m\n"
      ]
     },
     "metadata": {},
     "output_type": "display_data"
    },
    {
     "data": {
      "text/html": [
       "<pre style=\"white-space:pre;overflow-x:auto;line-height:normal;font-family:Menlo,'DejaVu Sans Mono',consolas,'Courier New',monospace\">  Step <span style=\"color: #008080; text-decoration-color: #008080; font-weight: bold\">450</span>: <span style=\"color: #008000; text-decoration-color: #008000\">✓</span> <span style=\"color: #800080; text-decoration-color: #800080\">Hold</span>, 💰 <span style=\"color: #008080; text-decoration-color: #008080\">$</span><span style=\"color: #008080; text-decoration-color: #008080; font-weight: bold\">82.19</span>, 📊 <span style=\"color: #008000; text-decoration-color: #008000\">$</span><span style=\"color: #008000; text-decoration-color: #008000; font-weight: bold\">100353.05</span>, 🌟 <span style=\"color: #808000; text-decoration-color: #808000; font-weight: bold\">-0.0400</span>\n",
       "</pre>\n"
      ],
      "text/plain": [
       "  Step \u001b[1;36m450\u001b[0m: \u001b[32m✓\u001b[0m \u001b[35mHold\u001b[0m, 💰 \u001b[36m$\u001b[0m\u001b[1;36m82.19\u001b[0m, 📊 \u001b[32m$\u001b[0m\u001b[1;32m100353.05\u001b[0m, 🌟 \u001b[1;33m-0.0400\u001b[0m\n"
      ]
     },
     "metadata": {},
     "output_type": "display_data"
    },
    {
     "data": {
      "text/html": [
       "<pre style=\"white-space:pre;overflow-x:auto;line-height:normal;font-family:Menlo,'DejaVu Sans Mono',consolas,'Courier New',monospace\">  Step <span style=\"color: #008080; text-decoration-color: #008080; font-weight: bold\">500</span>: <span style=\"color: #008000; text-decoration-color: #008000\">✓</span> <span style=\"color: #800080; text-decoration-color: #800080\">Hold</span>, 💰 <span style=\"color: #008080; text-decoration-color: #008080\">$</span><span style=\"color: #008080; text-decoration-color: #008080; font-weight: bold\">89.71</span>, 📊 <span style=\"color: #008000; text-decoration-color: #008000\">$</span><span style=\"color: #008000; text-decoration-color: #008000; font-weight: bold\">9123.23</span>, 🌟 <span style=\"color: #808000; text-decoration-color: #808000; font-weight: bold\">-0.0427</span>\n",
       "</pre>\n"
      ],
      "text/plain": [
       "  Step \u001b[1;36m500\u001b[0m: \u001b[32m✓\u001b[0m \u001b[35mHold\u001b[0m, 💰 \u001b[36m$\u001b[0m\u001b[1;36m89.71\u001b[0m, 📊 \u001b[32m$\u001b[0m\u001b[1;32m9123.23\u001b[0m, 🌟 \u001b[1;33m-0.0427\u001b[0m\n"
      ]
     },
     "metadata": {},
     "output_type": "display_data"
    },
    {
     "data": {
      "text/html": [
       "<pre style=\"white-space:pre;overflow-x:auto;line-height:normal;font-family:Menlo,'DejaVu Sans Mono',consolas,'Courier New',monospace\">  Step <span style=\"color: #008080; text-decoration-color: #008080; font-weight: bold\">550</span>: <span style=\"color: #008000; text-decoration-color: #008000\">✓</span> <span style=\"color: #800080; text-decoration-color: #800080\">Hold</span>, 💰 <span style=\"color: #008080; text-decoration-color: #008080\">$</span><span style=\"color: #008080; text-decoration-color: #008080; font-weight: bold\">117.81</span>, 📊 <span style=\"color: #008000; text-decoration-color: #008000\">$</span><span style=\"color: #008000; text-decoration-color: #008000; font-weight: bold\">2388.11</span>, 🌟 <span style=\"color: #808000; text-decoration-color: #808000; font-weight: bold\">-0.0409</span>\n",
       "</pre>\n"
      ],
      "text/plain": [
       "  Step \u001b[1;36m550\u001b[0m: \u001b[32m✓\u001b[0m \u001b[35mHold\u001b[0m, 💰 \u001b[36m$\u001b[0m\u001b[1;36m117.81\u001b[0m, 📊 \u001b[32m$\u001b[0m\u001b[1;32m2388.11\u001b[0m, 🌟 \u001b[1;33m-0.0409\u001b[0m\n"
      ]
     },
     "metadata": {},
     "output_type": "display_data"
    },
    {
     "data": {
      "text/html": [
       "<pre style=\"white-space:pre;overflow-x:auto;line-height:normal;font-family:Menlo,'DejaVu Sans Mono',consolas,'Courier New',monospace\">  Step <span style=\"color: #008080; text-decoration-color: #008080; font-weight: bold\">600</span>: <span style=\"color: #008000; text-decoration-color: #008000\">✓</span> <span style=\"color: #800080; text-decoration-color: #800080\">Hold</span>, 💰 <span style=\"color: #008080; text-decoration-color: #008080\">$</span><span style=\"color: #008080; text-decoration-color: #008080; font-weight: bold\">114.25</span>, 📊 <span style=\"color: #008000; text-decoration-color: #008000\">$</span><span style=\"color: #008000; text-decoration-color: #008000; font-weight: bold\">10466.19</span>, 🌟 <span style=\"color: #808000; text-decoration-color: #808000; font-weight: bold\">-0.0361</span>\n",
       "</pre>\n"
      ],
      "text/plain": [
       "  Step \u001b[1;36m600\u001b[0m: \u001b[32m✓\u001b[0m \u001b[35mHold\u001b[0m, 💰 \u001b[36m$\u001b[0m\u001b[1;36m114.25\u001b[0m, 📊 \u001b[32m$\u001b[0m\u001b[1;32m10466.19\u001b[0m, 🌟 \u001b[1;33m-0.0361\u001b[0m\n"
      ]
     },
     "metadata": {},
     "output_type": "display_data"
    },
    {
     "data": {
      "text/html": [
       "<pre style=\"white-space:pre;overflow-x:auto;line-height:normal;font-family:Menlo,'DejaVu Sans Mono',consolas,'Courier New',monospace\">  Step <span style=\"color: #008080; text-decoration-color: #008080; font-weight: bold\">650</span>: <span style=\"color: #008000; text-decoration-color: #008000\">✓</span> <span style=\"color: #800080; text-decoration-color: #800080\">Hold</span>, 💰 <span style=\"color: #008080; text-decoration-color: #008080\">$</span><span style=\"color: #008080; text-decoration-color: #008080; font-weight: bold\">99.85</span>, 📊 <span style=\"color: #008000; text-decoration-color: #008000\">$</span><span style=\"color: #008000; text-decoration-color: #008000; font-weight: bold\">7702.60</span>, 🌟 <span style=\"color: #808000; text-decoration-color: #808000; font-weight: bold\">-0.0364</span>\n",
       "</pre>\n"
      ],
      "text/plain": [
       "  Step \u001b[1;36m650\u001b[0m: \u001b[32m✓\u001b[0m \u001b[35mHold\u001b[0m, 💰 \u001b[36m$\u001b[0m\u001b[1;36m99.85\u001b[0m, 📊 \u001b[32m$\u001b[0m\u001b[1;32m7702.60\u001b[0m, 🌟 \u001b[1;33m-0.0364\u001b[0m\n"
      ]
     },
     "metadata": {},
     "output_type": "display_data"
    },
    {
     "data": {
      "text/html": [
       "<pre style=\"white-space:pre;overflow-x:auto;line-height:normal;font-family:Menlo,'DejaVu Sans Mono',consolas,'Courier New',monospace\"><span style=\"color: #008000; text-decoration-color: #008000; font-weight: bold\">Episode </span><span style=\"color: #008000; text-decoration-color: #008000; font-weight: bold\">4</span><span style=\"color: #008000; text-decoration-color: #008000; font-weight: bold\"> Results:</span>\n",
       "</pre>\n"
      ],
      "text/plain": [
       "\u001b[1;32mEpisode \u001b[0m\u001b[1;32m4\u001b[0m\u001b[1;32m Results:\u001b[0m\n"
      ]
     },
     "metadata": {},
     "output_type": "display_data"
    },
    {
     "data": {
      "text/html": [
       "<pre style=\"white-space:pre;overflow-x:auto;line-height:normal;font-family:Menlo,'DejaVu Sans Mono',consolas,'Courier New',monospace\">  Total Steps: <span style=\"color: #008080; text-decoration-color: #008080; font-weight: bold\">680</span>\n",
       "</pre>\n"
      ],
      "text/plain": [
       "  Total Steps: \u001b[1;36m680\u001b[0m\n"
      ]
     },
     "metadata": {},
     "output_type": "display_data"
    },
    {
     "data": {
      "text/html": [
       "<pre style=\"white-space:pre;overflow-x:auto;line-height:normal;font-family:Menlo,'DejaVu Sans Mono',consolas,'Courier New',monospace\">  Initial Portfolio Value: <span style=\"color: #008000; text-decoration-color: #008000\">$</span><span style=\"color: #008000; text-decoration-color: #008000; font-weight: bold\">100000.00</span>\n",
       "</pre>\n"
      ],
      "text/plain": [
       "  Initial Portfolio Value: \u001b[32m$\u001b[0m\u001b[1;32m100000.00\u001b[0m\n"
      ]
     },
     "metadata": {},
     "output_type": "display_data"
    },
    {
     "data": {
      "text/html": [
       "<pre style=\"white-space:pre;overflow-x:auto;line-height:normal;font-family:Menlo,'DejaVu Sans Mono',consolas,'Courier New',monospace\">  Final Portfolio Value: <span style=\"color: #008000; text-decoration-color: #008000\">$</span><span style=\"color: #008000; text-decoration-color: #008000; font-weight: bold\">5104.10</span>\n",
       "</pre>\n"
      ],
      "text/plain": [
       "  Final Portfolio Value: \u001b[32m$\u001b[0m\u001b[1;32m5104.10\u001b[0m\n"
      ]
     },
     "metadata": {},
     "output_type": "display_data"
    },
    {
     "data": {
      "text/html": [
       "<pre style=\"white-space:pre;overflow-x:auto;line-height:normal;font-family:Menlo,'DejaVu Sans Mono',consolas,'Courier New',monospace\">  Total Return: <span style=\"color: #800000; text-decoration-color: #800000; font-weight: bold\">-94.90</span><span style=\"color: #800000; text-decoration-color: #800000\">%</span>\n",
       "</pre>\n"
      ],
      "text/plain": [
       "  Total Return: \u001b[1;31m-94.90\u001b[0m\u001b[31m%\u001b[0m\n"
      ]
     },
     "metadata": {},
     "output_type": "display_data"
    },
    {
     "data": {
      "text/html": [
       "<pre style=\"white-space:pre;overflow-x:auto;line-height:normal;font-family:Menlo,'DejaVu Sans Mono',consolas,'Courier New',monospace\">  Total Reward: <span style=\"color: #808000; text-decoration-color: #808000; font-weight: bold\">83.11</span>\n",
       "</pre>\n"
      ],
      "text/plain": [
       "  Total Reward: \u001b[1;33m83.11\u001b[0m\n"
      ]
     },
     "metadata": {},
     "output_type": "display_data"
    },
    {
     "data": {
      "text/html": [
       "<pre style=\"white-space:pre;overflow-x:auto;line-height:normal;font-family:Menlo,'DejaVu Sans Mono',consolas,'Courier New',monospace\"><span style=\"font-style: italic\">        Action Distribution        </span>\n",
       "┏━━━━━━━━━━━━┳━━━━━━━┳━━━━━━━━━━━━┓\n",
       "┃<span style=\"font-weight: bold\"> Action     </span>┃<span style=\"font-weight: bold\"> Count </span>┃<span style=\"font-weight: bold\"> Percentage </span>┃\n",
       "┡━━━━━━━━━━━━╇━━━━━━━╇━━━━━━━━━━━━┩\n",
       "│<span style=\"color: #008080; text-decoration-color: #008080\"> Hold       </span>│<span style=\"color: #008000; text-decoration-color: #008000\">   215 </span>│<span style=\"color: #808000; text-decoration-color: #808000\">      31.6% </span>│\n",
       "│<span style=\"color: #008080; text-decoration-color: #008080\"> Buy        </span>│<span style=\"color: #008000; text-decoration-color: #008000\">    79 </span>│<span style=\"color: #808000; text-decoration-color: #808000\">      11.6% </span>│\n",
       "│<span style=\"color: #008080; text-decoration-color: #008080\"> Sell       </span>│<span style=\"color: #008000; text-decoration-color: #008000\">    42 </span>│<span style=\"color: #808000; text-decoration-color: #808000\">       6.2% </span>│\n",
       "│<span style=\"color: #008080; text-decoration-color: #008080\"> TakeProfit </span>│<span style=\"color: #008000; text-decoration-color: #008000\">   195 </span>│<span style=\"color: #808000; text-decoration-color: #808000\">      28.7% </span>│\n",
       "│<span style=\"color: #008080; text-decoration-color: #008080\"> LimitSell  </span>│<span style=\"color: #008000; text-decoration-color: #008000\">    45 </span>│<span style=\"color: #808000; text-decoration-color: #808000\">       6.6% </span>│\n",
       "│<span style=\"color: #008080; text-decoration-color: #008080\"> StopLoss   </span>│<span style=\"color: #008000; text-decoration-color: #008000\">    79 </span>│<span style=\"color: #808000; text-decoration-color: #808000\">      11.6% </span>│\n",
       "│<span style=\"color: #008080; text-decoration-color: #008080\"> LimitBuy   </span>│<span style=\"color: #008000; text-decoration-color: #008000\">    25 </span>│<span style=\"color: #808000; text-decoration-color: #808000\">       3.7% </span>│\n",
       "└────────────┴───────┴────────────┘\n",
       "</pre>\n"
      ],
      "text/plain": [
       "\u001b[3m        Action Distribution        \u001b[0m\n",
       "┏━━━━━━━━━━━━┳━━━━━━━┳━━━━━━━━━━━━┓\n",
       "┃\u001b[1m \u001b[0m\u001b[1mAction    \u001b[0m\u001b[1m \u001b[0m┃\u001b[1m \u001b[0m\u001b[1mCount\u001b[0m\u001b[1m \u001b[0m┃\u001b[1m \u001b[0m\u001b[1mPercentage\u001b[0m\u001b[1m \u001b[0m┃\n",
       "┡━━━━━━━━━━━━╇━━━━━━━╇━━━━━━━━━━━━┩\n",
       "│\u001b[36m \u001b[0m\u001b[36mHold      \u001b[0m\u001b[36m \u001b[0m│\u001b[32m \u001b[0m\u001b[32m  215\u001b[0m\u001b[32m \u001b[0m│\u001b[33m \u001b[0m\u001b[33m     31.6%\u001b[0m\u001b[33m \u001b[0m│\n",
       "│\u001b[36m \u001b[0m\u001b[36mBuy       \u001b[0m\u001b[36m \u001b[0m│\u001b[32m \u001b[0m\u001b[32m   79\u001b[0m\u001b[32m \u001b[0m│\u001b[33m \u001b[0m\u001b[33m     11.6%\u001b[0m\u001b[33m \u001b[0m│\n",
       "│\u001b[36m \u001b[0m\u001b[36mSell      \u001b[0m\u001b[36m \u001b[0m│\u001b[32m \u001b[0m\u001b[32m   42\u001b[0m\u001b[32m \u001b[0m│\u001b[33m \u001b[0m\u001b[33m      6.2%\u001b[0m\u001b[33m \u001b[0m│\n",
       "│\u001b[36m \u001b[0m\u001b[36mTakeProfit\u001b[0m\u001b[36m \u001b[0m│\u001b[32m \u001b[0m\u001b[32m  195\u001b[0m\u001b[32m \u001b[0m│\u001b[33m \u001b[0m\u001b[33m     28.7%\u001b[0m\u001b[33m \u001b[0m│\n",
       "│\u001b[36m \u001b[0m\u001b[36mLimitSell \u001b[0m\u001b[36m \u001b[0m│\u001b[32m \u001b[0m\u001b[32m   45\u001b[0m\u001b[32m \u001b[0m│\u001b[33m \u001b[0m\u001b[33m      6.6%\u001b[0m\u001b[33m \u001b[0m│\n",
       "│\u001b[36m \u001b[0m\u001b[36mStopLoss  \u001b[0m\u001b[36m \u001b[0m│\u001b[32m \u001b[0m\u001b[32m   79\u001b[0m\u001b[32m \u001b[0m│\u001b[33m \u001b[0m\u001b[33m     11.6%\u001b[0m\u001b[33m \u001b[0m│\n",
       "│\u001b[36m \u001b[0m\u001b[36mLimitBuy  \u001b[0m\u001b[36m \u001b[0m│\u001b[32m \u001b[0m\u001b[32m   25\u001b[0m\u001b[32m \u001b[0m│\u001b[33m \u001b[0m\u001b[33m      3.7%\u001b[0m\u001b[33m \u001b[0m│\n",
       "└────────────┴───────┴────────────┘\n"
      ]
     },
     "metadata": {},
     "output_type": "display_data"
    },
    {
     "data": {
      "text/html": [
       "<pre style=\"white-space:pre;overflow-x:auto;line-height:normal;font-family:Menlo,'DejaVu Sans Mono',consolas,'Courier New',monospace\"><span style=\"color: #808000; text-decoration-color: #808000\">--- Episode </span><span style=\"color: #808000; text-decoration-color: #808000; font-weight: bold\">5</span><span style=\"color: #808000; text-decoration-color: #808000\">/</span><span style=\"color: #808000; text-decoration-color: #808000; font-weight: bold\">5</span><span style=\"color: #808000; text-decoration-color: #808000\"> ---</span>\n",
       "</pre>\n"
      ],
      "text/plain": [
       "\u001b[33m--- Episode \u001b[0m\u001b[1;33m5\u001b[0m\u001b[33m/\u001b[0m\u001b[1;33m5\u001b[0m\u001b[33m ---\u001b[0m\n"
      ]
     },
     "metadata": {},
     "output_type": "display_data"
    },
    {
     "data": {
      "text/html": [
       "<pre style=\"white-space:pre;overflow-x:auto;line-height:normal;font-family:Menlo,'DejaVu Sans Mono',consolas,'Courier New',monospace\">  Step <span style=\"color: #008080; text-decoration-color: #008080; font-weight: bold\">0</span>: <span style=\"color: #008000; text-decoration-color: #008000\">✓</span> <span style=\"color: #800080; text-decoration-color: #800080\">Hold</span>, 💰 <span style=\"color: #008080; text-decoration-color: #008080\">$</span><span style=\"color: #008080; text-decoration-color: #008080; font-weight: bold\">93.30</span>, 📊 <span style=\"color: #008000; text-decoration-color: #008000\">$</span><span style=\"color: #008000; text-decoration-color: #008000; font-weight: bold\">100000.00</span>, 🌟 <span style=\"color: #808000; text-decoration-color: #808000; font-weight: bold\">-0.0500</span>\n",
       "</pre>\n"
      ],
      "text/plain": [
       "  Step \u001b[1;36m0\u001b[0m: \u001b[32m✓\u001b[0m \u001b[35mHold\u001b[0m, 💰 \u001b[36m$\u001b[0m\u001b[1;36m93.30\u001b[0m, 📊 \u001b[32m$\u001b[0m\u001b[1;32m100000.00\u001b[0m, 🌟 \u001b[1;33m-0.0500\u001b[0m\n"
      ]
     },
     "metadata": {},
     "output_type": "display_data"
    },
    {
     "data": {
      "text/html": [
       "<pre style=\"white-space:pre;overflow-x:auto;line-height:normal;font-family:Menlo,'DejaVu Sans Mono',consolas,'Courier New',monospace\">  Step <span style=\"color: #008080; text-decoration-color: #008080; font-weight: bold\">50</span>: <span style=\"color: #008000; text-decoration-color: #008000\">✓</span> <span style=\"color: #800080; text-decoration-color: #800080\">StopLoss</span>, 💰 <span style=\"color: #008080; text-decoration-color: #008080\">$</span><span style=\"color: #008080; text-decoration-color: #008080; font-weight: bold\">67.71</span>, 📊 <span style=\"color: #008000; text-decoration-color: #008000\">$</span><span style=\"color: #008000; text-decoration-color: #008000; font-weight: bold\">5001.20</span>, 🌟 <span style=\"color: #808000; text-decoration-color: #808000; font-weight: bold\">0.0161</span>\n",
       "</pre>\n"
      ],
      "text/plain": [
       "  Step \u001b[1;36m50\u001b[0m: \u001b[32m✓\u001b[0m \u001b[35mStopLoss\u001b[0m, 💰 \u001b[36m$\u001b[0m\u001b[1;36m67.71\u001b[0m, 📊 \u001b[32m$\u001b[0m\u001b[1;32m5001.20\u001b[0m, 🌟 \u001b[1;33m0.0161\u001b[0m\n"
      ]
     },
     "metadata": {},
     "output_type": "display_data"
    },
    {
     "data": {
      "text/html": [
       "<pre style=\"white-space:pre;overflow-x:auto;line-height:normal;font-family:Menlo,'DejaVu Sans Mono',consolas,'Courier New',monospace\">  Step <span style=\"color: #008080; text-decoration-color: #008080; font-weight: bold\">100</span>: <span style=\"color: #008000; text-decoration-color: #008000\">✓</span> <span style=\"color: #800080; text-decoration-color: #800080\">TakeProfit</span>, 💰 <span style=\"color: #008080; text-decoration-color: #008080\">$</span><span style=\"color: #008080; text-decoration-color: #008080; font-weight: bold\">59.66</span>, 📊 <span style=\"color: #008000; text-decoration-color: #008000\">$</span><span style=\"color: #008000; text-decoration-color: #008000; font-weight: bold\">117.69</span>, 🌟 <span style=\"color: #808000; text-decoration-color: #808000; font-weight: bold\">0.0172</span>\n",
       "</pre>\n"
      ],
      "text/plain": [
       "  Step \u001b[1;36m100\u001b[0m: \u001b[32m✓\u001b[0m \u001b[35mTakeProfit\u001b[0m, 💰 \u001b[36m$\u001b[0m\u001b[1;36m59.66\u001b[0m, 📊 \u001b[32m$\u001b[0m\u001b[1;32m117.69\u001b[0m, 🌟 \u001b[1;33m0.0172\u001b[0m\n"
      ]
     },
     "metadata": {},
     "output_type": "display_data"
    },
    {
     "data": {
      "text/html": [
       "<pre style=\"white-space:pre;overflow-x:auto;line-height:normal;font-family:Menlo,'DejaVu Sans Mono',consolas,'Courier New',monospace\">  Step <span style=\"color: #008080; text-decoration-color: #008080; font-weight: bold\">150</span>: <span style=\"color: #008000; text-decoration-color: #008000\">✓</span> <span style=\"color: #800080; text-decoration-color: #800080\">TakeProfit</span>, 💰 <span style=\"color: #008080; text-decoration-color: #008080\">$</span><span style=\"color: #008080; text-decoration-color: #008080; font-weight: bold\">54.73</span>, 📊 <span style=\"color: #008000; text-decoration-color: #008000\">$</span><span style=\"color: #008000; text-decoration-color: #008000; font-weight: bold\">376.82</span>, 🌟 <span style=\"color: #808000; text-decoration-color: #808000; font-weight: bold\">-0.8233</span>\n",
       "</pre>\n"
      ],
      "text/plain": [
       "  Step \u001b[1;36m150\u001b[0m: \u001b[32m✓\u001b[0m \u001b[35mTakeProfit\u001b[0m, 💰 \u001b[36m$\u001b[0m\u001b[1;36m54.73\u001b[0m, 📊 \u001b[32m$\u001b[0m\u001b[1;32m376.82\u001b[0m, 🌟 \u001b[1;33m-0.8233\u001b[0m\n"
      ]
     },
     "metadata": {},
     "output_type": "display_data"
    },
    {
     "data": {
      "text/html": [
       "<pre style=\"white-space:pre;overflow-x:auto;line-height:normal;font-family:Menlo,'DejaVu Sans Mono',consolas,'Courier New',monospace\">  Step <span style=\"color: #008080; text-decoration-color: #008080; font-weight: bold\">200</span>: <span style=\"color: #008000; text-decoration-color: #008000\">✓</span> <span style=\"color: #800080; text-decoration-color: #800080\">Sell</span>, 💰 <span style=\"color: #008080; text-decoration-color: #008080\">$</span><span style=\"color: #008080; text-decoration-color: #008080; font-weight: bold\">52.04</span>, 📊 <span style=\"color: #008000; text-decoration-color: #008000\">$</span><span style=\"color: #008000; text-decoration-color: #008000; font-weight: bold\">974.11</span>, 🌟 <span style=\"color: #808000; text-decoration-color: #808000; font-weight: bold\">0.0041</span>\n",
       "</pre>\n"
      ],
      "text/plain": [
       "  Step \u001b[1;36m200\u001b[0m: \u001b[32m✓\u001b[0m \u001b[35mSell\u001b[0m, 💰 \u001b[36m$\u001b[0m\u001b[1;36m52.04\u001b[0m, 📊 \u001b[32m$\u001b[0m\u001b[1;32m974.11\u001b[0m, 🌟 \u001b[1;33m0.0041\u001b[0m\n"
      ]
     },
     "metadata": {},
     "output_type": "display_data"
    },
    {
     "data": {
      "text/html": [
       "<pre style=\"white-space:pre;overflow-x:auto;line-height:normal;font-family:Menlo,'DejaVu Sans Mono',consolas,'Courier New',monospace\">  Step <span style=\"color: #008080; text-decoration-color: #008080; font-weight: bold\">250</span>: <span style=\"color: #008000; text-decoration-color: #008000\">✓</span> <span style=\"color: #800080; text-decoration-color: #800080\">LimitSell</span>, 💰 <span style=\"color: #008080; text-decoration-color: #008080\">$</span><span style=\"color: #008080; text-decoration-color: #008080; font-weight: bold\">57.34</span>, 📊 <span style=\"color: #008000; text-decoration-color: #008000\">$</span><span style=\"color: #008000; text-decoration-color: #008000; font-weight: bold\">657.72</span>, 🌟 <span style=\"color: #808000; text-decoration-color: #808000; font-weight: bold\">0.0068</span>\n",
       "</pre>\n"
      ],
      "text/plain": [
       "  Step \u001b[1;36m250\u001b[0m: \u001b[32m✓\u001b[0m \u001b[35mLimitSell\u001b[0m, 💰 \u001b[36m$\u001b[0m\u001b[1;36m57.34\u001b[0m, 📊 \u001b[32m$\u001b[0m\u001b[1;32m657.72\u001b[0m, 🌟 \u001b[1;33m0.0068\u001b[0m\n"
      ]
     },
     "metadata": {},
     "output_type": "display_data"
    },
    {
     "data": {
      "text/html": [
       "<pre style=\"white-space:pre;overflow-x:auto;line-height:normal;font-family:Menlo,'DejaVu Sans Mono',consolas,'Courier New',monospace\">  Step <span style=\"color: #008080; text-decoration-color: #008080; font-weight: bold\">300</span>: <span style=\"color: #008000; text-decoration-color: #008000\">✓</span> <span style=\"color: #800080; text-decoration-color: #800080\">TakeProfit</span>, 💰 <span style=\"color: #008080; text-decoration-color: #008080\">$</span><span style=\"color: #008080; text-decoration-color: #008080; font-weight: bold\">61.61</span>, 📊 <span style=\"color: #008000; text-decoration-color: #008000\">$</span><span style=\"color: #008000; text-decoration-color: #008000; font-weight: bold\">88.00</span>, 🌟 <span style=\"color: #808000; text-decoration-color: #808000; font-weight: bold\">0.0328</span>\n",
       "</pre>\n"
      ],
      "text/plain": [
       "  Step \u001b[1;36m300\u001b[0m: \u001b[32m✓\u001b[0m \u001b[35mTakeProfit\u001b[0m, 💰 \u001b[36m$\u001b[0m\u001b[1;36m61.61\u001b[0m, 📊 \u001b[32m$\u001b[0m\u001b[1;32m88.00\u001b[0m, 🌟 \u001b[1;33m0.0328\u001b[0m\n"
      ]
     },
     "metadata": {},
     "output_type": "display_data"
    },
    {
     "data": {
      "text/html": [
       "<pre style=\"white-space:pre;overflow-x:auto;line-height:normal;font-family:Menlo,'DejaVu Sans Mono',consolas,'Courier New',monospace\">  Step <span style=\"color: #008080; text-decoration-color: #008080; font-weight: bold\">350</span>: <span style=\"color: #008000; text-decoration-color: #008000\">✓</span> <span style=\"color: #800080; text-decoration-color: #800080\">Hold</span>, 💰 <span style=\"color: #008080; text-decoration-color: #008080\">$</span><span style=\"color: #008080; text-decoration-color: #008080; font-weight: bold\">65.68</span>, 📊 <span style=\"color: #008000; text-decoration-color: #008000\">$</span><span style=\"color: #008000; text-decoration-color: #008000; font-weight: bold\">1117.06</span>, 🌟 <span style=\"color: #808000; text-decoration-color: #808000; font-weight: bold\">-0.0416</span>\n",
       "</pre>\n"
      ],
      "text/plain": [
       "  Step \u001b[1;36m350\u001b[0m: \u001b[32m✓\u001b[0m \u001b[35mHold\u001b[0m, 💰 \u001b[36m$\u001b[0m\u001b[1;36m65.68\u001b[0m, 📊 \u001b[32m$\u001b[0m\u001b[1;32m1117.06\u001b[0m, 🌟 \u001b[1;33m-0.0416\u001b[0m\n"
      ]
     },
     "metadata": {},
     "output_type": "display_data"
    },
    {
     "data": {
      "text/html": [
       "<pre style=\"white-space:pre;overflow-x:auto;line-height:normal;font-family:Menlo,'DejaVu Sans Mono',consolas,'Courier New',monospace\">  Step <span style=\"color: #008080; text-decoration-color: #008080; font-weight: bold\">400</span>: <span style=\"color: #008000; text-decoration-color: #008000\">✓</span> <span style=\"color: #800080; text-decoration-color: #800080\">StopLoss</span>, 💰 <span style=\"color: #008080; text-decoration-color: #008080\">$</span><span style=\"color: #008080; text-decoration-color: #008080; font-weight: bold\">68.11</span>, 📊 <span style=\"color: #008000; text-decoration-color: #008000\">$</span><span style=\"color: #008000; text-decoration-color: #008000; font-weight: bold\">3307.14</span>, 🌟 <span style=\"color: #808000; text-decoration-color: #808000; font-weight: bold\">-0.0149</span>\n",
       "</pre>\n"
      ],
      "text/plain": [
       "  Step \u001b[1;36m400\u001b[0m: \u001b[32m✓\u001b[0m \u001b[35mStopLoss\u001b[0m, 💰 \u001b[36m$\u001b[0m\u001b[1;36m68.11\u001b[0m, 📊 \u001b[32m$\u001b[0m\u001b[1;32m3307.14\u001b[0m, 🌟 \u001b[1;33m-0.0149\u001b[0m\n"
      ]
     },
     "metadata": {},
     "output_type": "display_data"
    },
    {
     "data": {
      "text/html": [
       "<pre style=\"white-space:pre;overflow-x:auto;line-height:normal;font-family:Menlo,'DejaVu Sans Mono',consolas,'Courier New',monospace\">  Step <span style=\"color: #008080; text-decoration-color: #008080; font-weight: bold\">450</span>: <span style=\"color: #008000; text-decoration-color: #008000\">✓</span> <span style=\"color: #800080; text-decoration-color: #800080\">Hold</span>, 💰 <span style=\"color: #008080; text-decoration-color: #008080\">$</span><span style=\"color: #008080; text-decoration-color: #008080; font-weight: bold\">82.19</span>, 📊 <span style=\"color: #008000; text-decoration-color: #008000\">$</span><span style=\"color: #008000; text-decoration-color: #008000; font-weight: bold\">100353.05</span>, 🌟 <span style=\"color: #808000; text-decoration-color: #808000; font-weight: bold\">-0.0400</span>\n",
       "</pre>\n"
      ],
      "text/plain": [
       "  Step \u001b[1;36m450\u001b[0m: \u001b[32m✓\u001b[0m \u001b[35mHold\u001b[0m, 💰 \u001b[36m$\u001b[0m\u001b[1;36m82.19\u001b[0m, 📊 \u001b[32m$\u001b[0m\u001b[1;32m100353.05\u001b[0m, 🌟 \u001b[1;33m-0.0400\u001b[0m\n"
      ]
     },
     "metadata": {},
     "output_type": "display_data"
    },
    {
     "data": {
      "text/html": [
       "<pre style=\"white-space:pre;overflow-x:auto;line-height:normal;font-family:Menlo,'DejaVu Sans Mono',consolas,'Courier New',monospace\">  Step <span style=\"color: #008080; text-decoration-color: #008080; font-weight: bold\">500</span>: <span style=\"color: #008000; text-decoration-color: #008000\">✓</span> <span style=\"color: #800080; text-decoration-color: #800080\">Hold</span>, 💰 <span style=\"color: #008080; text-decoration-color: #008080\">$</span><span style=\"color: #008080; text-decoration-color: #008080; font-weight: bold\">89.71</span>, 📊 <span style=\"color: #008000; text-decoration-color: #008000\">$</span><span style=\"color: #008000; text-decoration-color: #008000; font-weight: bold\">9123.23</span>, 🌟 <span style=\"color: #808000; text-decoration-color: #808000; font-weight: bold\">-0.0427</span>\n",
       "</pre>\n"
      ],
      "text/plain": [
       "  Step \u001b[1;36m500\u001b[0m: \u001b[32m✓\u001b[0m \u001b[35mHold\u001b[0m, 💰 \u001b[36m$\u001b[0m\u001b[1;36m89.71\u001b[0m, 📊 \u001b[32m$\u001b[0m\u001b[1;32m9123.23\u001b[0m, 🌟 \u001b[1;33m-0.0427\u001b[0m\n"
      ]
     },
     "metadata": {},
     "output_type": "display_data"
    },
    {
     "data": {
      "text/html": [
       "<pre style=\"white-space:pre;overflow-x:auto;line-height:normal;font-family:Menlo,'DejaVu Sans Mono',consolas,'Courier New',monospace\">  Step <span style=\"color: #008080; text-decoration-color: #008080; font-weight: bold\">550</span>: <span style=\"color: #008000; text-decoration-color: #008000\">✓</span> <span style=\"color: #800080; text-decoration-color: #800080\">Hold</span>, 💰 <span style=\"color: #008080; text-decoration-color: #008080\">$</span><span style=\"color: #008080; text-decoration-color: #008080; font-weight: bold\">117.81</span>, 📊 <span style=\"color: #008000; text-decoration-color: #008000\">$</span><span style=\"color: #008000; text-decoration-color: #008000; font-weight: bold\">2388.11</span>, 🌟 <span style=\"color: #808000; text-decoration-color: #808000; font-weight: bold\">-0.0409</span>\n",
       "</pre>\n"
      ],
      "text/plain": [
       "  Step \u001b[1;36m550\u001b[0m: \u001b[32m✓\u001b[0m \u001b[35mHold\u001b[0m, 💰 \u001b[36m$\u001b[0m\u001b[1;36m117.81\u001b[0m, 📊 \u001b[32m$\u001b[0m\u001b[1;32m2388.11\u001b[0m, 🌟 \u001b[1;33m-0.0409\u001b[0m\n"
      ]
     },
     "metadata": {},
     "output_type": "display_data"
    },
    {
     "data": {
      "text/html": [
       "<pre style=\"white-space:pre;overflow-x:auto;line-height:normal;font-family:Menlo,'DejaVu Sans Mono',consolas,'Courier New',monospace\">  Step <span style=\"color: #008080; text-decoration-color: #008080; font-weight: bold\">600</span>: <span style=\"color: #008000; text-decoration-color: #008000\">✓</span> <span style=\"color: #800080; text-decoration-color: #800080\">Hold</span>, 💰 <span style=\"color: #008080; text-decoration-color: #008080\">$</span><span style=\"color: #008080; text-decoration-color: #008080; font-weight: bold\">114.25</span>, 📊 <span style=\"color: #008000; text-decoration-color: #008000\">$</span><span style=\"color: #008000; text-decoration-color: #008000; font-weight: bold\">10466.19</span>, 🌟 <span style=\"color: #808000; text-decoration-color: #808000; font-weight: bold\">-0.0361</span>\n",
       "</pre>\n"
      ],
      "text/plain": [
       "  Step \u001b[1;36m600\u001b[0m: \u001b[32m✓\u001b[0m \u001b[35mHold\u001b[0m, 💰 \u001b[36m$\u001b[0m\u001b[1;36m114.25\u001b[0m, 📊 \u001b[32m$\u001b[0m\u001b[1;32m10466.19\u001b[0m, 🌟 \u001b[1;33m-0.0361\u001b[0m\n"
      ]
     },
     "metadata": {},
     "output_type": "display_data"
    },
    {
     "data": {
      "text/html": [
       "<pre style=\"white-space:pre;overflow-x:auto;line-height:normal;font-family:Menlo,'DejaVu Sans Mono',consolas,'Courier New',monospace\">  Step <span style=\"color: #008080; text-decoration-color: #008080; font-weight: bold\">650</span>: <span style=\"color: #008000; text-decoration-color: #008000\">✓</span> <span style=\"color: #800080; text-decoration-color: #800080\">Hold</span>, 💰 <span style=\"color: #008080; text-decoration-color: #008080\">$</span><span style=\"color: #008080; text-decoration-color: #008080; font-weight: bold\">99.85</span>, 📊 <span style=\"color: #008000; text-decoration-color: #008000\">$</span><span style=\"color: #008000; text-decoration-color: #008000; font-weight: bold\">7702.60</span>, 🌟 <span style=\"color: #808000; text-decoration-color: #808000; font-weight: bold\">-0.0364</span>\n",
       "</pre>\n"
      ],
      "text/plain": [
       "  Step \u001b[1;36m650\u001b[0m: \u001b[32m✓\u001b[0m \u001b[35mHold\u001b[0m, 💰 \u001b[36m$\u001b[0m\u001b[1;36m99.85\u001b[0m, 📊 \u001b[32m$\u001b[0m\u001b[1;32m7702.60\u001b[0m, 🌟 \u001b[1;33m-0.0364\u001b[0m\n"
      ]
     },
     "metadata": {},
     "output_type": "display_data"
    },
    {
     "data": {
      "text/html": [
       "<pre style=\"white-space:pre;overflow-x:auto;line-height:normal;font-family:Menlo,'DejaVu Sans Mono',consolas,'Courier New',monospace\">  Total Steps: <span style=\"color: #008080; text-decoration-color: #008080; font-weight: bold\">680</span>\n",
       "</pre>\n"
      ],
      "text/plain": [
       "  Total Steps: \u001b[1;36m680\u001b[0m\n"
      ]
     },
     "metadata": {},
     "output_type": "display_data"
    },
    {
     "data": {
      "text/html": [
       "<pre style=\"white-space:pre;overflow-x:auto;line-height:normal;font-family:Menlo,'DejaVu Sans Mono',consolas,'Courier New',monospace\">  Initial Portfolio Value: <span style=\"color: #008000; text-decoration-color: #008000\">$</span><span style=\"color: #008000; text-decoration-color: #008000; font-weight: bold\">100000.00</span>\n",
       "</pre>\n"
      ],
      "text/plain": [
       "  Initial Portfolio Value: \u001b[32m$\u001b[0m\u001b[1;32m100000.00\u001b[0m\n"
      ]
     },
     "metadata": {},
     "output_type": "display_data"
    },
    {
     "data": {
      "text/html": [
       "<pre style=\"white-space:pre;overflow-x:auto;line-height:normal;font-family:Menlo,'DejaVu Sans Mono',consolas,'Courier New',monospace\">  Final Portfolio Value: <span style=\"color: #008000; text-decoration-color: #008000\">$</span><span style=\"color: #008000; text-decoration-color: #008000; font-weight: bold\">5104.10</span>\n",
       "</pre>\n"
      ],
      "text/plain": [
       "  Final Portfolio Value: \u001b[32m$\u001b[0m\u001b[1;32m5104.10\u001b[0m\n"
      ]
     },
     "metadata": {},
     "output_type": "display_data"
    },
    {
     "data": {
      "text/html": [
       "<pre style=\"white-space:pre;overflow-x:auto;line-height:normal;font-family:Menlo,'DejaVu Sans Mono',consolas,'Courier New',monospace\">  Total Return: <span style=\"color: #800000; text-decoration-color: #800000; font-weight: bold\">-94.90</span><span style=\"color: #800000; text-decoration-color: #800000\">%</span>\n",
       "</pre>\n"
      ],
      "text/plain": [
       "  Total Return: \u001b[1;31m-94.90\u001b[0m\u001b[31m%\u001b[0m\n"
      ]
     },
     "metadata": {},
     "output_type": "display_data"
    },
    {
     "data": {
      "text/html": [
       "<pre style=\"white-space:pre;overflow-x:auto;line-height:normal;font-family:Menlo,'DejaVu Sans Mono',consolas,'Courier New',monospace\">  Total Reward: <span style=\"color: #808000; text-decoration-color: #808000; font-weight: bold\">83.11</span>\n",
       "</pre>\n"
      ],
      "text/plain": [
       "  Total Reward: \u001b[1;33m83.11\u001b[0m\n"
      ]
     },
     "metadata": {},
     "output_type": "display_data"
    },
    {
     "data": {
      "text/html": [
       "<pre style=\"white-space:pre;overflow-x:auto;line-height:normal;font-family:Menlo,'DejaVu Sans Mono',consolas,'Courier New',monospace\"><span style=\"font-style: italic\">        Action Distribution        </span>\n",
       "┏━━━━━━━━━━━━┳━━━━━━━┳━━━━━━━━━━━━┓\n",
       "┃<span style=\"font-weight: bold\"> Action     </span>┃<span style=\"font-weight: bold\"> Count </span>┃<span style=\"font-weight: bold\"> Percentage </span>┃\n",
       "┡━━━━━━━━━━━━╇━━━━━━━╇━━━━━━━━━━━━┩\n",
       "│<span style=\"color: #008080; text-decoration-color: #008080\"> Hold       </span>│<span style=\"color: #008000; text-decoration-color: #008000\">   215 </span>│<span style=\"color: #808000; text-decoration-color: #808000\">      31.6% </span>│\n",
       "│<span style=\"color: #008080; text-decoration-color: #008080\"> Buy        </span>│<span style=\"color: #008000; text-decoration-color: #008000\">    79 </span>│<span style=\"color: #808000; text-decoration-color: #808000\">      11.6% </span>│\n",
       "│<span style=\"color: #008080; text-decoration-color: #008080\"> Sell       </span>│<span style=\"color: #008000; text-decoration-color: #008000\">    42 </span>│<span style=\"color: #808000; text-decoration-color: #808000\">       6.2% </span>│\n",
       "│<span style=\"color: #008080; text-decoration-color: #008080\"> TakeProfit </span>│<span style=\"color: #008000; text-decoration-color: #008000\">   195 </span>│<span style=\"color: #808000; text-decoration-color: #808000\">      28.7% </span>│\n",
       "│<span style=\"color: #008080; text-decoration-color: #008080\"> LimitSell  </span>│<span style=\"color: #008000; text-decoration-color: #008000\">    45 </span>│<span style=\"color: #808000; text-decoration-color: #808000\">       6.6% </span>│\n",
       "│<span style=\"color: #008080; text-decoration-color: #008080\"> StopLoss   </span>│<span style=\"color: #008000; text-decoration-color: #008000\">    79 </span>│<span style=\"color: #808000; text-decoration-color: #808000\">      11.6% </span>│\n",
       "│<span style=\"color: #008080; text-decoration-color: #008080\"> LimitBuy   </span>│<span style=\"color: #008000; text-decoration-color: #008000\">    25 </span>│<span style=\"color: #808000; text-decoration-color: #808000\">       3.7% </span>│\n",
       "└────────────┴───────┴────────────┘\n",
       "</pre>\n"
      ],
      "text/plain": [
       "\u001b[3m        Action Distribution        \u001b[0m\n",
       "┏━━━━━━━━━━━━┳━━━━━━━┳━━━━━━━━━━━━┓\n",
       "┃\u001b[1m \u001b[0m\u001b[1mAction    \u001b[0m\u001b[1m \u001b[0m┃\u001b[1m \u001b[0m\u001b[1mCount\u001b[0m\u001b[1m \u001b[0m┃\u001b[1m \u001b[0m\u001b[1mPercentage\u001b[0m\u001b[1m \u001b[0m┃\n",
       "┡━━━━━━━━━━━━╇━━━━━━━╇━━━━━━━━━━━━┩\n",
       "│\u001b[36m \u001b[0m\u001b[36mHold      \u001b[0m\u001b[36m \u001b[0m│\u001b[32m \u001b[0m\u001b[32m  215\u001b[0m\u001b[32m \u001b[0m│\u001b[33m \u001b[0m\u001b[33m     31.6%\u001b[0m\u001b[33m \u001b[0m│\n",
       "│\u001b[36m \u001b[0m\u001b[36mBuy       \u001b[0m\u001b[36m \u001b[0m│\u001b[32m \u001b[0m\u001b[32m   79\u001b[0m\u001b[32m \u001b[0m│\u001b[33m \u001b[0m\u001b[33m     11.6%\u001b[0m\u001b[33m \u001b[0m│\n",
       "│\u001b[36m \u001b[0m\u001b[36mSell      \u001b[0m\u001b[36m \u001b[0m│\u001b[32m \u001b[0m\u001b[32m   42\u001b[0m\u001b[32m \u001b[0m│\u001b[33m \u001b[0m\u001b[33m      6.2%\u001b[0m\u001b[33m \u001b[0m│\n",
       "│\u001b[36m \u001b[0m\u001b[36mTakeProfit\u001b[0m\u001b[36m \u001b[0m│\u001b[32m \u001b[0m\u001b[32m  195\u001b[0m\u001b[32m \u001b[0m│\u001b[33m \u001b[0m\u001b[33m     28.7%\u001b[0m\u001b[33m \u001b[0m│\n",
       "│\u001b[36m \u001b[0m\u001b[36mLimitSell \u001b[0m\u001b[36m \u001b[0m│\u001b[32m \u001b[0m\u001b[32m   45\u001b[0m\u001b[32m \u001b[0m│\u001b[33m \u001b[0m\u001b[33m      6.6%\u001b[0m\u001b[33m \u001b[0m│\n",
       "│\u001b[36m \u001b[0m\u001b[36mStopLoss  \u001b[0m\u001b[36m \u001b[0m│\u001b[32m \u001b[0m\u001b[32m   79\u001b[0m\u001b[32m \u001b[0m│\u001b[33m \u001b[0m\u001b[33m     11.6%\u001b[0m\u001b[33m \u001b[0m│\n",
       "│\u001b[36m \u001b[0m\u001b[36mLimitBuy  \u001b[0m\u001b[36m \u001b[0m│\u001b[32m \u001b[0m\u001b[32m   25\u001b[0m\u001b[32m \u001b[0m│\u001b[33m \u001b[0m\u001b[33m      3.7%\u001b[0m\u001b[33m \u001b[0m│\n",
       "└────────────┴───────┴────────────┘\n"
      ]
     },
     "metadata": {},
     "output_type": "display_data"
    },
    {
     "data": {
      "text/html": [
       "<pre style=\"white-space:pre;overflow-x:auto;line-height:normal;font-family:Menlo,'DejaVu Sans Mono',consolas,'Courier New',monospace\"></pre>\n"
      ],
      "text/plain": []
     },
     "metadata": {},
     "output_type": "display_data"
    },
    {
     "data": {
      "text/html": [
       "<pre style=\"white-space:pre;overflow-x:auto;line-height:normal;font-family:Menlo,'DejaVu Sans Mono',consolas,'Courier New',monospace\">\n",
       "<span style=\"color: #800080; text-decoration-color: #800080; font-weight: bold\">=== Overall Evaluation Summary ===</span>\n",
       "</pre>\n"
      ],
      "text/plain": [
       "\n",
       "\u001b[1;35m=== Overall Evaluation Summary ===\u001b[0m\n"
      ]
     },
     "metadata": {},
     "output_type": "display_data"
    },
    {
     "data": {
      "text/html": [
       "<pre style=\"white-space:pre;overflow-x:auto;line-height:normal;font-family:Menlo,'DejaVu Sans Mono',consolas,'Courier New',monospace\"><span style=\"font-style: italic\">        Summary Statistics        </span>\n",
       "┏━━━━━━━━━━━━━━━━━━━━━━┳━━━━━━━━━┓\n",
       "┃<span style=\"font-weight: bold\"> Metric               </span>┃<span style=\"font-weight: bold\"> Value   </span>┃\n",
       "┡━━━━━━━━━━━━━━━━━━━━━━╇━━━━━━━━━┩\n",
       "│<span style=\"color: #008080; text-decoration-color: #008080\"> Total Episodes       </span>│<span style=\"color: #008000; text-decoration-color: #008000\"> 5       </span>│\n",
       "│<span style=\"color: #008080; text-decoration-color: #008080\"> Average Reward       </span>│<span style=\"color: #008000; text-decoration-color: #008000\"> 83.11   </span>│\n",
       "│<span style=\"color: #008080; text-decoration-color: #008080\"> Reward Std Dev       </span>│<span style=\"color: #008000; text-decoration-color: #008000\"> 0.00    </span>│\n",
       "│<span style=\"color: #008080; text-decoration-color: #008080\"> Best Episode Reward  </span>│<span style=\"color: #008000; text-decoration-color: #008000\"> 83.11   </span>│\n",
       "│<span style=\"color: #008080; text-decoration-color: #008080\"> Worst Episode Reward </span>│<span style=\"color: #008000; text-decoration-color: #008000\"> 83.11   </span>│\n",
       "│<span style=\"color: #008080; text-decoration-color: #008080\"> Average Return       </span>│<span style=\"color: #008000; text-decoration-color: #008000\"> </span><span style=\"color: #800000; text-decoration-color: #800000\">-94.90%</span><span style=\"color: #008000; text-decoration-color: #008000\"> </span>│\n",
       "└──────────────────────┴─────────┘\n",
       "</pre>\n"
      ],
      "text/plain": [
       "\u001b[3m        Summary Statistics        \u001b[0m\n",
       "┏━━━━━━━━━━━━━━━━━━━━━━┳━━━━━━━━━┓\n",
       "┃\u001b[1m \u001b[0m\u001b[1mMetric              \u001b[0m\u001b[1m \u001b[0m┃\u001b[1m \u001b[0m\u001b[1mValue  \u001b[0m\u001b[1m \u001b[0m┃\n",
       "┡━━━━━━━━━━━━━━━━━━━━━━╇━━━━━━━━━┩\n",
       "│\u001b[36m \u001b[0m\u001b[36mTotal Episodes      \u001b[0m\u001b[36m \u001b[0m│\u001b[32m \u001b[0m\u001b[32m5      \u001b[0m\u001b[32m \u001b[0m│\n",
       "│\u001b[36m \u001b[0m\u001b[36mAverage Reward      \u001b[0m\u001b[36m \u001b[0m│\u001b[32m \u001b[0m\u001b[32m83.11  \u001b[0m\u001b[32m \u001b[0m│\n",
       "│\u001b[36m \u001b[0m\u001b[36mReward Std Dev      \u001b[0m\u001b[36m \u001b[0m│\u001b[32m \u001b[0m\u001b[32m0.00   \u001b[0m\u001b[32m \u001b[0m│\n",
       "│\u001b[36m \u001b[0m\u001b[36mBest Episode Reward \u001b[0m\u001b[36m \u001b[0m│\u001b[32m \u001b[0m\u001b[32m83.11  \u001b[0m\u001b[32m \u001b[0m│\n",
       "│\u001b[36m \u001b[0m\u001b[36mWorst Episode Reward\u001b[0m\u001b[36m \u001b[0m│\u001b[32m \u001b[0m\u001b[32m83.11  \u001b[0m\u001b[32m \u001b[0m│\n",
       "│\u001b[36m \u001b[0m\u001b[36mAverage Return      \u001b[0m\u001b[36m \u001b[0m│\u001b[32m \u001b[0m\u001b[31m-94.90%\u001b[0m\u001b[32m \u001b[0m│\n",
       "└──────────────────────┴─────────┘\n"
      ]
     },
     "metadata": {},
     "output_type": "display_data"
    },
    {
     "name": "stdout",
     "output_type": "stream",
     "text": [
      "SingleStockTradingEnv closed.\n"
     ]
    },
    {
     "data": {
      "text/html": [
       "<pre style=\"white-space:pre;overflow-x:auto;line-height:normal;font-family:Menlo,'DejaVu Sans Mono',consolas,'Courier New',monospace\">\n",
       "<span style=\"color: #000080; text-decoration-color: #000080; font-weight: bold\">🧪 TEST EVALUATION:</span><span style=\"color: #000080; text-decoration-color: #000080\"> Running model on unseen test dataset</span>\n",
       "</pre>\n"
      ],
      "text/plain": [
       "\n",
       "\u001b[1;34m🧪 TEST EVALUATION:\u001b[0m\u001b[34m Running model on unseen test dataset\u001b[0m\n"
      ]
     },
     "metadata": {},
     "output_type": "display_data"
    },
    {
     "data": {
      "text/html": [
       "<pre style=\"white-space:pre;overflow-x:auto;line-height:normal;font-family:Menlo,'DejaVu Sans Mono',consolas,'Courier New',monospace\"><span style=\"color: #000080; text-decoration-color: #000080; font-weight: bold\">Evaluating </span><span style=\"color: #008000; text-decoration-color: #008000\">SAC</span><span style=\"color: #000080; text-decoration-color: #000080; font-weight: bold\"> model for </span><span style=\"color: #808000; text-decoration-color: #808000; font-weight: bold\">5</span><span style=\"color: #000080; text-decoration-color: #000080; font-weight: bold\"> episodes...</span>\n",
       "</pre>\n"
      ],
      "text/plain": [
       "\u001b[1;34mEvaluating \u001b[0m\u001b[32mSAC\u001b[0m\u001b[1;34m model for \u001b[0m\u001b[1;33m5\u001b[0m\u001b[1;34m episodes\u001b[0m\u001b[1;34m...\u001b[0m\n"
      ]
     },
     "metadata": {},
     "output_type": "display_data"
    },
    {
     "data": {
      "application/vnd.jupyter.widget-view+json": {
       "model_id": "0516b8029a1e4fb7814ccc661859ad56",
       "version_major": 2,
       "version_minor": 0
      },
      "text/plain": [
       "Output()"
      ]
     },
     "metadata": {},
     "output_type": "display_data"
    },
    {
     "data": {
      "text/html": [
       "<pre style=\"white-space:pre;overflow-x:auto;line-height:normal;font-family:Menlo,'DejaVu Sans Mono',consolas,'Courier New',monospace\"><span style=\"color: #808000; text-decoration-color: #808000\">--- Episode </span><span style=\"color: #808000; text-decoration-color: #808000; font-weight: bold\">1</span><span style=\"color: #808000; text-decoration-color: #808000\">/</span><span style=\"color: #808000; text-decoration-color: #808000; font-weight: bold\">5</span><span style=\"color: #808000; text-decoration-color: #808000\"> ---</span>\n",
       "</pre>\n"
      ],
      "text/plain": [
       "\u001b[33m--- Episode \u001b[0m\u001b[1;33m1\u001b[0m\u001b[33m/\u001b[0m\u001b[1;33m5\u001b[0m\u001b[33m ---\u001b[0m\n"
      ]
     },
     "metadata": {},
     "output_type": "display_data"
    },
    {
     "data": {
      "text/html": [
       "<pre style=\"white-space:pre;overflow-x:auto;line-height:normal;font-family:Menlo,'DejaVu Sans Mono',consolas,'Courier New',monospace\">  Step <span style=\"color: #008080; text-decoration-color: #008080; font-weight: bold\">0</span>: <span style=\"color: #008000; text-decoration-color: #008000\">✓</span> <span style=\"color: #800080; text-decoration-color: #800080\">Hold</span>, 💰 <span style=\"color: #008080; text-decoration-color: #008080\">$</span><span style=\"color: #008080; text-decoration-color: #008080; font-weight: bold\">102.50</span>, 📊 <span style=\"color: #008000; text-decoration-color: #008000\">$</span><span style=\"color: #008000; text-decoration-color: #008000; font-weight: bold\">100000.00</span>, 🌟 <span style=\"color: #808000; text-decoration-color: #808000; font-weight: bold\">-0.0500</span>\n",
       "</pre>\n"
      ],
      "text/plain": [
       "  Step \u001b[1;36m0\u001b[0m: \u001b[32m✓\u001b[0m \u001b[35mHold\u001b[0m, 💰 \u001b[36m$\u001b[0m\u001b[1;36m102.50\u001b[0m, 📊 \u001b[32m$\u001b[0m\u001b[1;32m100000.00\u001b[0m, 🌟 \u001b[1;33m-0.0500\u001b[0m\n"
      ]
     },
     "metadata": {},
     "output_type": "display_data"
    },
    {
     "data": {
      "text/html": [
       "<pre style=\"white-space:pre;overflow-x:auto;line-height:normal;font-family:Menlo,'DejaVu Sans Mono',consolas,'Courier New',monospace\">  Step <span style=\"color: #008080; text-decoration-color: #008080; font-weight: bold\">50</span>: <span style=\"color: #008000; text-decoration-color: #008000\">✓</span> <span style=\"color: #800080; text-decoration-color: #800080\">Hold</span>, 💰 <span style=\"color: #008080; text-decoration-color: #008080\">$</span><span style=\"color: #008080; text-decoration-color: #008080; font-weight: bold\">93.63</span>, 📊 <span style=\"color: #008000; text-decoration-color: #008000\">$</span><span style=\"color: #008000; text-decoration-color: #008000; font-weight: bold\">80238.83</span>, 🌟 <span style=\"color: #808000; text-decoration-color: #808000; font-weight: bold\">-0.0500</span>\n",
       "</pre>\n"
      ],
      "text/plain": [
       "  Step \u001b[1;36m50\u001b[0m: \u001b[32m✓\u001b[0m \u001b[35mHold\u001b[0m, 💰 \u001b[36m$\u001b[0m\u001b[1;36m93.63\u001b[0m, 📊 \u001b[32m$\u001b[0m\u001b[1;32m80238.83\u001b[0m, 🌟 \u001b[1;33m-0.0500\u001b[0m\n"
      ]
     },
     "metadata": {},
     "output_type": "display_data"
    },
    {
     "data": {
      "text/html": [
       "<pre style=\"white-space:pre;overflow-x:auto;line-height:normal;font-family:Menlo,'DejaVu Sans Mono',consolas,'Courier New',monospace\">  Step <span style=\"color: #008080; text-decoration-color: #008080; font-weight: bold\">100</span>: <span style=\"color: #008000; text-decoration-color: #008000\">✓</span> <span style=\"color: #800080; text-decoration-color: #800080\">Buy</span>, 💰 <span style=\"color: #008080; text-decoration-color: #008080\">$</span><span style=\"color: #008080; text-decoration-color: #008080; font-weight: bold\">92.29</span>, 📊 <span style=\"color: #008000; text-decoration-color: #008000\">$</span><span style=\"color: #008000; text-decoration-color: #008000; font-weight: bold\">63804.42</span>, 🌟 <span style=\"color: #808000; text-decoration-color: #808000; font-weight: bold\">0.0798</span>\n",
       "</pre>\n"
      ],
      "text/plain": [
       "  Step \u001b[1;36m100\u001b[0m: \u001b[32m✓\u001b[0m \u001b[35mBuy\u001b[0m, 💰 \u001b[36m$\u001b[0m\u001b[1;36m92.29\u001b[0m, 📊 \u001b[32m$\u001b[0m\u001b[1;32m63804.42\u001b[0m, 🌟 \u001b[1;33m0.0798\u001b[0m\n"
      ]
     },
     "metadata": {},
     "output_type": "display_data"
    },
    {
     "data": {
      "text/html": [
       "<pre style=\"white-space:pre;overflow-x:auto;line-height:normal;font-family:Menlo,'DejaVu Sans Mono',consolas,'Courier New',monospace\">  Step <span style=\"color: #008080; text-decoration-color: #008080; font-weight: bold\">150</span>: <span style=\"color: #008000; text-decoration-color: #008000\">✓</span> <span style=\"color: #800080; text-decoration-color: #800080\">Hold</span>, 💰 <span style=\"color: #008080; text-decoration-color: #008080\">$</span><span style=\"color: #008080; text-decoration-color: #008080; font-weight: bold\">111.73</span>, 📊 <span style=\"color: #008000; text-decoration-color: #008000\">$</span><span style=\"color: #008000; text-decoration-color: #008000; font-weight: bold\">79907.07</span>, 🌟 <span style=\"color: #808000; text-decoration-color: #808000; font-weight: bold\">-0.0450</span>\n",
       "</pre>\n"
      ],
      "text/plain": [
       "  Step \u001b[1;36m150\u001b[0m: \u001b[32m✓\u001b[0m \u001b[35mHold\u001b[0m, 💰 \u001b[36m$\u001b[0m\u001b[1;36m111.73\u001b[0m, 📊 \u001b[32m$\u001b[0m\u001b[1;32m79907.07\u001b[0m, 🌟 \u001b[1;33m-0.0450\u001b[0m\n"
      ]
     },
     "metadata": {},
     "output_type": "display_data"
    },
    {
     "data": {
      "text/html": [
       "<pre style=\"white-space:pre;overflow-x:auto;line-height:normal;font-family:Menlo,'DejaVu Sans Mono',consolas,'Courier New',monospace\"><span style=\"color: #008000; text-decoration-color: #008000; font-weight: bold\">Episode </span><span style=\"color: #008000; text-decoration-color: #008000; font-weight: bold\">1</span><span style=\"color: #008000; text-decoration-color: #008000; font-weight: bold\"> Results:</span>\n",
       "</pre>\n"
      ],
      "text/plain": [
       "\u001b[1;32mEpisode \u001b[0m\u001b[1;32m1\u001b[0m\u001b[1;32m Results:\u001b[0m\n"
      ]
     },
     "metadata": {},
     "output_type": "display_data"
    },
    {
     "data": {
      "text/html": [
       "<pre style=\"white-space:pre;overflow-x:auto;line-height:normal;font-family:Menlo,'DejaVu Sans Mono',consolas,'Courier New',monospace\">  Total Steps: <span style=\"color: #008080; text-decoration-color: #008080; font-weight: bold\">155</span>\n",
       "</pre>\n"
      ],
      "text/plain": [
       "  Total Steps: \u001b[1;36m155\u001b[0m\n"
      ]
     },
     "metadata": {},
     "output_type": "display_data"
    },
    {
     "data": {
      "text/html": [
       "<pre style=\"white-space:pre;overflow-x:auto;line-height:normal;font-family:Menlo,'DejaVu Sans Mono',consolas,'Courier New',monospace\">  Initial Portfolio Value: <span style=\"color: #008000; text-decoration-color: #008000\">$</span><span style=\"color: #008000; text-decoration-color: #008000; font-weight: bold\">100000.00</span>\n",
       "</pre>\n"
      ],
      "text/plain": [
       "  Initial Portfolio Value: \u001b[32m$\u001b[0m\u001b[1;32m100000.00\u001b[0m\n"
      ]
     },
     "metadata": {},
     "output_type": "display_data"
    },
    {
     "data": {
      "text/html": [
       "<pre style=\"white-space:pre;overflow-x:auto;line-height:normal;font-family:Menlo,'DejaVu Sans Mono',consolas,'Courier New',monospace\">  Final Portfolio Value: <span style=\"color: #008000; text-decoration-color: #008000\">$</span><span style=\"color: #008000; text-decoration-color: #008000; font-weight: bold\">11376.77</span>\n",
       "</pre>\n"
      ],
      "text/plain": [
       "  Final Portfolio Value: \u001b[32m$\u001b[0m\u001b[1;32m11376.77\u001b[0m\n"
      ]
     },
     "metadata": {},
     "output_type": "display_data"
    },
    {
     "data": {
      "text/html": [
       "<pre style=\"white-space:pre;overflow-x:auto;line-height:normal;font-family:Menlo,'DejaVu Sans Mono',consolas,'Courier New',monospace\">  Total Return: <span style=\"color: #800000; text-decoration-color: #800000; font-weight: bold\">-88.62</span><span style=\"color: #800000; text-decoration-color: #800000\">%</span>\n",
       "</pre>\n"
      ],
      "text/plain": [
       "  Total Return: \u001b[1;31m-88.62\u001b[0m\u001b[31m%\u001b[0m\n"
      ]
     },
     "metadata": {},
     "output_type": "display_data"
    },
    {
     "data": {
      "text/html": [
       "<pre style=\"white-space:pre;overflow-x:auto;line-height:normal;font-family:Menlo,'DejaVu Sans Mono',consolas,'Courier New',monospace\">  Total Reward: <span style=\"color: #808000; text-decoration-color: #808000; font-weight: bold\">11.39</span>\n",
       "</pre>\n"
      ],
      "text/plain": [
       "  Total Reward: \u001b[1;33m11.39\u001b[0m\n"
      ]
     },
     "metadata": {},
     "output_type": "display_data"
    },
    {
     "data": {
      "text/html": [
       "<pre style=\"white-space:pre;overflow-x:auto;line-height:normal;font-family:Menlo,'DejaVu Sans Mono',consolas,'Courier New',monospace\"><span style=\"font-style: italic\">        Action Distribution        </span>\n",
       "┏━━━━━━━━━━━━┳━━━━━━━┳━━━━━━━━━━━━┓\n",
       "┃<span style=\"font-weight: bold\"> Action     </span>┃<span style=\"font-weight: bold\"> Count </span>┃<span style=\"font-weight: bold\"> Percentage </span>┃\n",
       "┡━━━━━━━━━━━━╇━━━━━━━╇━━━━━━━━━━━━┩\n",
       "│<span style=\"color: #008080; text-decoration-color: #008080\"> Hold       </span>│<span style=\"color: #008000; text-decoration-color: #008000\">   110 </span>│<span style=\"color: #808000; text-decoration-color: #808000\">      71.0% </span>│\n",
       "│<span style=\"color: #008080; text-decoration-color: #008080\"> LimitBuy   </span>│<span style=\"color: #008000; text-decoration-color: #008000\">     7 </span>│<span style=\"color: #808000; text-decoration-color: #808000\">       4.5% </span>│\n",
       "│<span style=\"color: #008080; text-decoration-color: #008080\"> StopLoss   </span>│<span style=\"color: #008000; text-decoration-color: #008000\">     5 </span>│<span style=\"color: #808000; text-decoration-color: #808000\">       3.2% </span>│\n",
       "│<span style=\"color: #008080; text-decoration-color: #008080\"> LimitSell  </span>│<span style=\"color: #008000; text-decoration-color: #008000\">     3 </span>│<span style=\"color: #808000; text-decoration-color: #808000\">       1.9% </span>│\n",
       "│<span style=\"color: #008080; text-decoration-color: #008080\"> TakeProfit </span>│<span style=\"color: #008000; text-decoration-color: #008000\">     9 </span>│<span style=\"color: #808000; text-decoration-color: #808000\">       5.8% </span>│\n",
       "│<span style=\"color: #008080; text-decoration-color: #008080\"> Buy        </span>│<span style=\"color: #008000; text-decoration-color: #008000\">    16 </span>│<span style=\"color: #808000; text-decoration-color: #808000\">      10.3% </span>│\n",
       "│<span style=\"color: #008080; text-decoration-color: #008080\"> Sell       </span>│<span style=\"color: #008000; text-decoration-color: #008000\">     5 </span>│<span style=\"color: #808000; text-decoration-color: #808000\">       3.2% </span>│\n",
       "└────────────┴───────┴────────────┘\n",
       "</pre>\n"
      ],
      "text/plain": [
       "\u001b[3m        Action Distribution        \u001b[0m\n",
       "┏━━━━━━━━━━━━┳━━━━━━━┳━━━━━━━━━━━━┓\n",
       "┃\u001b[1m \u001b[0m\u001b[1mAction    \u001b[0m\u001b[1m \u001b[0m┃\u001b[1m \u001b[0m\u001b[1mCount\u001b[0m\u001b[1m \u001b[0m┃\u001b[1m \u001b[0m\u001b[1mPercentage\u001b[0m\u001b[1m \u001b[0m┃\n",
       "┡━━━━━━━━━━━━╇━━━━━━━╇━━━━━━━━━━━━┩\n",
       "│\u001b[36m \u001b[0m\u001b[36mHold      \u001b[0m\u001b[36m \u001b[0m│\u001b[32m \u001b[0m\u001b[32m  110\u001b[0m\u001b[32m \u001b[0m│\u001b[33m \u001b[0m\u001b[33m     71.0%\u001b[0m\u001b[33m \u001b[0m│\n",
       "│\u001b[36m \u001b[0m\u001b[36mLimitBuy  \u001b[0m\u001b[36m \u001b[0m│\u001b[32m \u001b[0m\u001b[32m    7\u001b[0m\u001b[32m \u001b[0m│\u001b[33m \u001b[0m\u001b[33m      4.5%\u001b[0m\u001b[33m \u001b[0m│\n",
       "│\u001b[36m \u001b[0m\u001b[36mStopLoss  \u001b[0m\u001b[36m \u001b[0m│\u001b[32m \u001b[0m\u001b[32m    5\u001b[0m\u001b[32m \u001b[0m│\u001b[33m \u001b[0m\u001b[33m      3.2%\u001b[0m\u001b[33m \u001b[0m│\n",
       "│\u001b[36m \u001b[0m\u001b[36mLimitSell \u001b[0m\u001b[36m \u001b[0m│\u001b[32m \u001b[0m\u001b[32m    3\u001b[0m\u001b[32m \u001b[0m│\u001b[33m \u001b[0m\u001b[33m      1.9%\u001b[0m\u001b[33m \u001b[0m│\n",
       "│\u001b[36m \u001b[0m\u001b[36mTakeProfit\u001b[0m\u001b[36m \u001b[0m│\u001b[32m \u001b[0m\u001b[32m    9\u001b[0m\u001b[32m \u001b[0m│\u001b[33m \u001b[0m\u001b[33m      5.8%\u001b[0m\u001b[33m \u001b[0m│\n",
       "│\u001b[36m \u001b[0m\u001b[36mBuy       \u001b[0m\u001b[36m \u001b[0m│\u001b[32m \u001b[0m\u001b[32m   16\u001b[0m\u001b[32m \u001b[0m│\u001b[33m \u001b[0m\u001b[33m     10.3%\u001b[0m\u001b[33m \u001b[0m│\n",
       "│\u001b[36m \u001b[0m\u001b[36mSell      \u001b[0m\u001b[36m \u001b[0m│\u001b[32m \u001b[0m\u001b[32m    5\u001b[0m\u001b[32m \u001b[0m│\u001b[33m \u001b[0m\u001b[33m      3.2%\u001b[0m\u001b[33m \u001b[0m│\n",
       "└────────────┴───────┴────────────┘\n"
      ]
     },
     "metadata": {},
     "output_type": "display_data"
    },
    {
     "data": {
      "text/html": [
       "<pre style=\"white-space:pre;overflow-x:auto;line-height:normal;font-family:Menlo,'DejaVu Sans Mono',consolas,'Courier New',monospace\"><span style=\"color: #808000; text-decoration-color: #808000\">--- Episode </span><span style=\"color: #808000; text-decoration-color: #808000; font-weight: bold\">2</span><span style=\"color: #808000; text-decoration-color: #808000\">/</span><span style=\"color: #808000; text-decoration-color: #808000; font-weight: bold\">5</span><span style=\"color: #808000; text-decoration-color: #808000\"> ---</span>\n",
       "</pre>\n"
      ],
      "text/plain": [
       "\u001b[33m--- Episode \u001b[0m\u001b[1;33m2\u001b[0m\u001b[33m/\u001b[0m\u001b[1;33m5\u001b[0m\u001b[33m ---\u001b[0m\n"
      ]
     },
     "metadata": {},
     "output_type": "display_data"
    },
    {
     "data": {
      "text/html": [
       "<pre style=\"white-space:pre;overflow-x:auto;line-height:normal;font-family:Menlo,'DejaVu Sans Mono',consolas,'Courier New',monospace\">  Step <span style=\"color: #008080; text-decoration-color: #008080; font-weight: bold\">0</span>: <span style=\"color: #008000; text-decoration-color: #008000\">✓</span> <span style=\"color: #800080; text-decoration-color: #800080\">Hold</span>, 💰 <span style=\"color: #008080; text-decoration-color: #008080\">$</span><span style=\"color: #008080; text-decoration-color: #008080; font-weight: bold\">102.50</span>, 📊 <span style=\"color: #008000; text-decoration-color: #008000\">$</span><span style=\"color: #008000; text-decoration-color: #008000; font-weight: bold\">100000.00</span>, 🌟 <span style=\"color: #808000; text-decoration-color: #808000; font-weight: bold\">-0.0500</span>\n",
       "</pre>\n"
      ],
      "text/plain": [
       "  Step \u001b[1;36m0\u001b[0m: \u001b[32m✓\u001b[0m \u001b[35mHold\u001b[0m, 💰 \u001b[36m$\u001b[0m\u001b[1;36m102.50\u001b[0m, 📊 \u001b[32m$\u001b[0m\u001b[1;32m100000.00\u001b[0m, 🌟 \u001b[1;33m-0.0500\u001b[0m\n"
      ]
     },
     "metadata": {},
     "output_type": "display_data"
    },
    {
     "data": {
      "text/html": [
       "<pre style=\"white-space:pre;overflow-x:auto;line-height:normal;font-family:Menlo,'DejaVu Sans Mono',consolas,'Courier New',monospace\">  Step <span style=\"color: #008080; text-decoration-color: #008080; font-weight: bold\">50</span>: <span style=\"color: #008000; text-decoration-color: #008000\">✓</span> <span style=\"color: #800080; text-decoration-color: #800080\">Hold</span>, 💰 <span style=\"color: #008080; text-decoration-color: #008080\">$</span><span style=\"color: #008080; text-decoration-color: #008080; font-weight: bold\">93.63</span>, 📊 <span style=\"color: #008000; text-decoration-color: #008000\">$</span><span style=\"color: #008000; text-decoration-color: #008000; font-weight: bold\">80238.83</span>, 🌟 <span style=\"color: #808000; text-decoration-color: #808000; font-weight: bold\">-0.0500</span>\n",
       "</pre>\n"
      ],
      "text/plain": [
       "  Step \u001b[1;36m50\u001b[0m: \u001b[32m✓\u001b[0m \u001b[35mHold\u001b[0m, 💰 \u001b[36m$\u001b[0m\u001b[1;36m93.63\u001b[0m, 📊 \u001b[32m$\u001b[0m\u001b[1;32m80238.83\u001b[0m, 🌟 \u001b[1;33m-0.0500\u001b[0m\n"
      ]
     },
     "metadata": {},
     "output_type": "display_data"
    },
    {
     "data": {
      "text/html": [
       "<pre style=\"white-space:pre;overflow-x:auto;line-height:normal;font-family:Menlo,'DejaVu Sans Mono',consolas,'Courier New',monospace\">  Step <span style=\"color: #008080; text-decoration-color: #008080; font-weight: bold\">100</span>: <span style=\"color: #008000; text-decoration-color: #008000\">✓</span> <span style=\"color: #800080; text-decoration-color: #800080\">Buy</span>, 💰 <span style=\"color: #008080; text-decoration-color: #008080\">$</span><span style=\"color: #008080; text-decoration-color: #008080; font-weight: bold\">92.29</span>, 📊 <span style=\"color: #008000; text-decoration-color: #008000\">$</span><span style=\"color: #008000; text-decoration-color: #008000; font-weight: bold\">63804.42</span>, 🌟 <span style=\"color: #808000; text-decoration-color: #808000; font-weight: bold\">0.0798</span>\n",
       "</pre>\n"
      ],
      "text/plain": [
       "  Step \u001b[1;36m100\u001b[0m: \u001b[32m✓\u001b[0m \u001b[35mBuy\u001b[0m, 💰 \u001b[36m$\u001b[0m\u001b[1;36m92.29\u001b[0m, 📊 \u001b[32m$\u001b[0m\u001b[1;32m63804.42\u001b[0m, 🌟 \u001b[1;33m0.0798\u001b[0m\n"
      ]
     },
     "metadata": {},
     "output_type": "display_data"
    },
    {
     "data": {
      "text/html": [
       "<pre style=\"white-space:pre;overflow-x:auto;line-height:normal;font-family:Menlo,'DejaVu Sans Mono',consolas,'Courier New',monospace\">  Step <span style=\"color: #008080; text-decoration-color: #008080; font-weight: bold\">150</span>: <span style=\"color: #008000; text-decoration-color: #008000\">✓</span> <span style=\"color: #800080; text-decoration-color: #800080\">Hold</span>, 💰 <span style=\"color: #008080; text-decoration-color: #008080\">$</span><span style=\"color: #008080; text-decoration-color: #008080; font-weight: bold\">111.73</span>, 📊 <span style=\"color: #008000; text-decoration-color: #008000\">$</span><span style=\"color: #008000; text-decoration-color: #008000; font-weight: bold\">79907.07</span>, 🌟 <span style=\"color: #808000; text-decoration-color: #808000; font-weight: bold\">-0.0450</span>\n",
       "</pre>\n"
      ],
      "text/plain": [
       "  Step \u001b[1;36m150\u001b[0m: \u001b[32m✓\u001b[0m \u001b[35mHold\u001b[0m, 💰 \u001b[36m$\u001b[0m\u001b[1;36m111.73\u001b[0m, 📊 \u001b[32m$\u001b[0m\u001b[1;32m79907.07\u001b[0m, 🌟 \u001b[1;33m-0.0450\u001b[0m\n"
      ]
     },
     "metadata": {},
     "output_type": "display_data"
    },
    {
     "data": {
      "text/html": [
       "<pre style=\"white-space:pre;overflow-x:auto;line-height:normal;font-family:Menlo,'DejaVu Sans Mono',consolas,'Courier New',monospace\"><span style=\"color: #008000; text-decoration-color: #008000; font-weight: bold\">Episode </span><span style=\"color: #008000; text-decoration-color: #008000; font-weight: bold\">2</span><span style=\"color: #008000; text-decoration-color: #008000; font-weight: bold\"> Results:</span>\n",
       "</pre>\n"
      ],
      "text/plain": [
       "\u001b[1;32mEpisode \u001b[0m\u001b[1;32m2\u001b[0m\u001b[1;32m Results:\u001b[0m\n"
      ]
     },
     "metadata": {},
     "output_type": "display_data"
    },
    {
     "data": {
      "text/html": [
       "<pre style=\"white-space:pre;overflow-x:auto;line-height:normal;font-family:Menlo,'DejaVu Sans Mono',consolas,'Courier New',monospace\">  Total Steps: <span style=\"color: #008080; text-decoration-color: #008080; font-weight: bold\">155</span>\n",
       "</pre>\n"
      ],
      "text/plain": [
       "  Total Steps: \u001b[1;36m155\u001b[0m\n"
      ]
     },
     "metadata": {},
     "output_type": "display_data"
    },
    {
     "data": {
      "text/html": [
       "<pre style=\"white-space:pre;overflow-x:auto;line-height:normal;font-family:Menlo,'DejaVu Sans Mono',consolas,'Courier New',monospace\">  Initial Portfolio Value: <span style=\"color: #008000; text-decoration-color: #008000\">$</span><span style=\"color: #008000; text-decoration-color: #008000; font-weight: bold\">100000.00</span>\n",
       "</pre>\n"
      ],
      "text/plain": [
       "  Initial Portfolio Value: \u001b[32m$\u001b[0m\u001b[1;32m100000.00\u001b[0m\n"
      ]
     },
     "metadata": {},
     "output_type": "display_data"
    },
    {
     "data": {
      "text/html": [
       "<pre style=\"white-space:pre;overflow-x:auto;line-height:normal;font-family:Menlo,'DejaVu Sans Mono',consolas,'Courier New',monospace\">  Final Portfolio Value: <span style=\"color: #008000; text-decoration-color: #008000\">$</span><span style=\"color: #008000; text-decoration-color: #008000; font-weight: bold\">11376.77</span>\n",
       "</pre>\n"
      ],
      "text/plain": [
       "  Final Portfolio Value: \u001b[32m$\u001b[0m\u001b[1;32m11376.77\u001b[0m\n"
      ]
     },
     "metadata": {},
     "output_type": "display_data"
    },
    {
     "data": {
      "text/html": [
       "<pre style=\"white-space:pre;overflow-x:auto;line-height:normal;font-family:Menlo,'DejaVu Sans Mono',consolas,'Courier New',monospace\">  Total Return: <span style=\"color: #800000; text-decoration-color: #800000; font-weight: bold\">-88.62</span><span style=\"color: #800000; text-decoration-color: #800000\">%</span>\n",
       "</pre>\n"
      ],
      "text/plain": [
       "  Total Return: \u001b[1;31m-88.62\u001b[0m\u001b[31m%\u001b[0m\n"
      ]
     },
     "metadata": {},
     "output_type": "display_data"
    },
    {
     "data": {
      "text/html": [
       "<pre style=\"white-space:pre;overflow-x:auto;line-height:normal;font-family:Menlo,'DejaVu Sans Mono',consolas,'Courier New',monospace\">  Total Reward: <span style=\"color: #808000; text-decoration-color: #808000; font-weight: bold\">11.39</span>\n",
       "</pre>\n"
      ],
      "text/plain": [
       "  Total Reward: \u001b[1;33m11.39\u001b[0m\n"
      ]
     },
     "metadata": {},
     "output_type": "display_data"
    },
    {
     "data": {
      "text/html": [
       "<pre style=\"white-space:pre;overflow-x:auto;line-height:normal;font-family:Menlo,'DejaVu Sans Mono',consolas,'Courier New',monospace\"><span style=\"font-style: italic\">        Action Distribution        </span>\n",
       "┏━━━━━━━━━━━━┳━━━━━━━┳━━━━━━━━━━━━┓\n",
       "┃<span style=\"font-weight: bold\"> Action     </span>┃<span style=\"font-weight: bold\"> Count </span>┃<span style=\"font-weight: bold\"> Percentage </span>┃\n",
       "┡━━━━━━━━━━━━╇━━━━━━━╇━━━━━━━━━━━━┩\n",
       "│<span style=\"color: #008080; text-decoration-color: #008080\"> Hold       </span>│<span style=\"color: #008000; text-decoration-color: #008000\">   110 </span>│<span style=\"color: #808000; text-decoration-color: #808000\">      71.0% </span>│\n",
       "│<span style=\"color: #008080; text-decoration-color: #008080\"> LimitBuy   </span>│<span style=\"color: #008000; text-decoration-color: #008000\">     7 </span>│<span style=\"color: #808000; text-decoration-color: #808000\">       4.5% </span>│\n",
       "│<span style=\"color: #008080; text-decoration-color: #008080\"> StopLoss   </span>│<span style=\"color: #008000; text-decoration-color: #008000\">     5 </span>│<span style=\"color: #808000; text-decoration-color: #808000\">       3.2% </span>│\n",
       "│<span style=\"color: #008080; text-decoration-color: #008080\"> LimitSell  </span>│<span style=\"color: #008000; text-decoration-color: #008000\">     3 </span>│<span style=\"color: #808000; text-decoration-color: #808000\">       1.9% </span>│\n",
       "│<span style=\"color: #008080; text-decoration-color: #008080\"> TakeProfit </span>│<span style=\"color: #008000; text-decoration-color: #008000\">     9 </span>│<span style=\"color: #808000; text-decoration-color: #808000\">       5.8% </span>│\n",
       "│<span style=\"color: #008080; text-decoration-color: #008080\"> Buy        </span>│<span style=\"color: #008000; text-decoration-color: #008000\">    16 </span>│<span style=\"color: #808000; text-decoration-color: #808000\">      10.3% </span>│\n",
       "│<span style=\"color: #008080; text-decoration-color: #008080\"> Sell       </span>│<span style=\"color: #008000; text-decoration-color: #008000\">     5 </span>│<span style=\"color: #808000; text-decoration-color: #808000\">       3.2% </span>│\n",
       "└────────────┴───────┴────────────┘\n",
       "</pre>\n"
      ],
      "text/plain": [
       "\u001b[3m        Action Distribution        \u001b[0m\n",
       "┏━━━━━━━━━━━━┳━━━━━━━┳━━━━━━━━━━━━┓\n",
       "┃\u001b[1m \u001b[0m\u001b[1mAction    \u001b[0m\u001b[1m \u001b[0m┃\u001b[1m \u001b[0m\u001b[1mCount\u001b[0m\u001b[1m \u001b[0m┃\u001b[1m \u001b[0m\u001b[1mPercentage\u001b[0m\u001b[1m \u001b[0m┃\n",
       "┡━━━━━━━━━━━━╇━━━━━━━╇━━━━━━━━━━━━┩\n",
       "│\u001b[36m \u001b[0m\u001b[36mHold      \u001b[0m\u001b[36m \u001b[0m│\u001b[32m \u001b[0m\u001b[32m  110\u001b[0m\u001b[32m \u001b[0m│\u001b[33m \u001b[0m\u001b[33m     71.0%\u001b[0m\u001b[33m \u001b[0m│\n",
       "│\u001b[36m \u001b[0m\u001b[36mLimitBuy  \u001b[0m\u001b[36m \u001b[0m│\u001b[32m \u001b[0m\u001b[32m    7\u001b[0m\u001b[32m \u001b[0m│\u001b[33m \u001b[0m\u001b[33m      4.5%\u001b[0m\u001b[33m \u001b[0m│\n",
       "│\u001b[36m \u001b[0m\u001b[36mStopLoss  \u001b[0m\u001b[36m \u001b[0m│\u001b[32m \u001b[0m\u001b[32m    5\u001b[0m\u001b[32m \u001b[0m│\u001b[33m \u001b[0m\u001b[33m      3.2%\u001b[0m\u001b[33m \u001b[0m│\n",
       "│\u001b[36m \u001b[0m\u001b[36mLimitSell \u001b[0m\u001b[36m \u001b[0m│\u001b[32m \u001b[0m\u001b[32m    3\u001b[0m\u001b[32m \u001b[0m│\u001b[33m \u001b[0m\u001b[33m      1.9%\u001b[0m\u001b[33m \u001b[0m│\n",
       "│\u001b[36m \u001b[0m\u001b[36mTakeProfit\u001b[0m\u001b[36m \u001b[0m│\u001b[32m \u001b[0m\u001b[32m    9\u001b[0m\u001b[32m \u001b[0m│\u001b[33m \u001b[0m\u001b[33m      5.8%\u001b[0m\u001b[33m \u001b[0m│\n",
       "│\u001b[36m \u001b[0m\u001b[36mBuy       \u001b[0m\u001b[36m \u001b[0m│\u001b[32m \u001b[0m\u001b[32m   16\u001b[0m\u001b[32m \u001b[0m│\u001b[33m \u001b[0m\u001b[33m     10.3%\u001b[0m\u001b[33m \u001b[0m│\n",
       "│\u001b[36m \u001b[0m\u001b[36mSell      \u001b[0m\u001b[36m \u001b[0m│\u001b[32m \u001b[0m\u001b[32m    5\u001b[0m\u001b[32m \u001b[0m│\u001b[33m \u001b[0m\u001b[33m      3.2%\u001b[0m\u001b[33m \u001b[0m│\n",
       "└────────────┴───────┴────────────┘\n"
      ]
     },
     "metadata": {},
     "output_type": "display_data"
    },
    {
     "data": {
      "text/html": [
       "<pre style=\"white-space:pre;overflow-x:auto;line-height:normal;font-family:Menlo,'DejaVu Sans Mono',consolas,'Courier New',monospace\"><span style=\"color: #808000; text-decoration-color: #808000\">--- Episode </span><span style=\"color: #808000; text-decoration-color: #808000; font-weight: bold\">3</span><span style=\"color: #808000; text-decoration-color: #808000\">/</span><span style=\"color: #808000; text-decoration-color: #808000; font-weight: bold\">5</span><span style=\"color: #808000; text-decoration-color: #808000\"> ---</span>\n",
       "</pre>\n"
      ],
      "text/plain": [
       "\u001b[33m--- Episode \u001b[0m\u001b[1;33m3\u001b[0m\u001b[33m/\u001b[0m\u001b[1;33m5\u001b[0m\u001b[33m ---\u001b[0m\n"
      ]
     },
     "metadata": {},
     "output_type": "display_data"
    },
    {
     "data": {
      "text/html": [
       "<pre style=\"white-space:pre;overflow-x:auto;line-height:normal;font-family:Menlo,'DejaVu Sans Mono',consolas,'Courier New',monospace\">  Step <span style=\"color: #008080; text-decoration-color: #008080; font-weight: bold\">0</span>: <span style=\"color: #008000; text-decoration-color: #008000\">✓</span> <span style=\"color: #800080; text-decoration-color: #800080\">Hold</span>, 💰 <span style=\"color: #008080; text-decoration-color: #008080\">$</span><span style=\"color: #008080; text-decoration-color: #008080; font-weight: bold\">102.50</span>, 📊 <span style=\"color: #008000; text-decoration-color: #008000\">$</span><span style=\"color: #008000; text-decoration-color: #008000; font-weight: bold\">100000.00</span>, 🌟 <span style=\"color: #808000; text-decoration-color: #808000; font-weight: bold\">-0.0500</span>\n",
       "</pre>\n"
      ],
      "text/plain": [
       "  Step \u001b[1;36m0\u001b[0m: \u001b[32m✓\u001b[0m \u001b[35mHold\u001b[0m, 💰 \u001b[36m$\u001b[0m\u001b[1;36m102.50\u001b[0m, 📊 \u001b[32m$\u001b[0m\u001b[1;32m100000.00\u001b[0m, 🌟 \u001b[1;33m-0.0500\u001b[0m\n"
      ]
     },
     "metadata": {},
     "output_type": "display_data"
    },
    {
     "data": {
      "text/html": [
       "<pre style=\"white-space:pre;overflow-x:auto;line-height:normal;font-family:Menlo,'DejaVu Sans Mono',consolas,'Courier New',monospace\">  Step <span style=\"color: #008080; text-decoration-color: #008080; font-weight: bold\">50</span>: <span style=\"color: #008000; text-decoration-color: #008000\">✓</span> <span style=\"color: #800080; text-decoration-color: #800080\">Hold</span>, 💰 <span style=\"color: #008080; text-decoration-color: #008080\">$</span><span style=\"color: #008080; text-decoration-color: #008080; font-weight: bold\">93.63</span>, 📊 <span style=\"color: #008000; text-decoration-color: #008000\">$</span><span style=\"color: #008000; text-decoration-color: #008000; font-weight: bold\">80238.83</span>, 🌟 <span style=\"color: #808000; text-decoration-color: #808000; font-weight: bold\">-0.0500</span>\n",
       "</pre>\n"
      ],
      "text/plain": [
       "  Step \u001b[1;36m50\u001b[0m: \u001b[32m✓\u001b[0m \u001b[35mHold\u001b[0m, 💰 \u001b[36m$\u001b[0m\u001b[1;36m93.63\u001b[0m, 📊 \u001b[32m$\u001b[0m\u001b[1;32m80238.83\u001b[0m, 🌟 \u001b[1;33m-0.0500\u001b[0m\n"
      ]
     },
     "metadata": {},
     "output_type": "display_data"
    },
    {
     "data": {
      "text/html": [
       "<pre style=\"white-space:pre;overflow-x:auto;line-height:normal;font-family:Menlo,'DejaVu Sans Mono',consolas,'Courier New',monospace\">  Step <span style=\"color: #008080; text-decoration-color: #008080; font-weight: bold\">100</span>: <span style=\"color: #008000; text-decoration-color: #008000\">✓</span> <span style=\"color: #800080; text-decoration-color: #800080\">Buy</span>, 💰 <span style=\"color: #008080; text-decoration-color: #008080\">$</span><span style=\"color: #008080; text-decoration-color: #008080; font-weight: bold\">92.29</span>, 📊 <span style=\"color: #008000; text-decoration-color: #008000\">$</span><span style=\"color: #008000; text-decoration-color: #008000; font-weight: bold\">63804.42</span>, 🌟 <span style=\"color: #808000; text-decoration-color: #808000; font-weight: bold\">0.0798</span>\n",
       "</pre>\n"
      ],
      "text/plain": [
       "  Step \u001b[1;36m100\u001b[0m: \u001b[32m✓\u001b[0m \u001b[35mBuy\u001b[0m, 💰 \u001b[36m$\u001b[0m\u001b[1;36m92.29\u001b[0m, 📊 \u001b[32m$\u001b[0m\u001b[1;32m63804.42\u001b[0m, 🌟 \u001b[1;33m0.0798\u001b[0m\n"
      ]
     },
     "metadata": {},
     "output_type": "display_data"
    },
    {
     "data": {
      "text/html": [
       "<pre style=\"white-space:pre;overflow-x:auto;line-height:normal;font-family:Menlo,'DejaVu Sans Mono',consolas,'Courier New',monospace\">  Step <span style=\"color: #008080; text-decoration-color: #008080; font-weight: bold\">150</span>: <span style=\"color: #008000; text-decoration-color: #008000\">✓</span> <span style=\"color: #800080; text-decoration-color: #800080\">Hold</span>, 💰 <span style=\"color: #008080; text-decoration-color: #008080\">$</span><span style=\"color: #008080; text-decoration-color: #008080; font-weight: bold\">111.73</span>, 📊 <span style=\"color: #008000; text-decoration-color: #008000\">$</span><span style=\"color: #008000; text-decoration-color: #008000; font-weight: bold\">79907.07</span>, 🌟 <span style=\"color: #808000; text-decoration-color: #808000; font-weight: bold\">-0.0450</span>\n",
       "</pre>\n"
      ],
      "text/plain": [
       "  Step \u001b[1;36m150\u001b[0m: \u001b[32m✓\u001b[0m \u001b[35mHold\u001b[0m, 💰 \u001b[36m$\u001b[0m\u001b[1;36m111.73\u001b[0m, 📊 \u001b[32m$\u001b[0m\u001b[1;32m79907.07\u001b[0m, 🌟 \u001b[1;33m-0.0450\u001b[0m\n"
      ]
     },
     "metadata": {},
     "output_type": "display_data"
    },
    {
     "data": {
      "text/html": [
       "<pre style=\"white-space:pre;overflow-x:auto;line-height:normal;font-family:Menlo,'DejaVu Sans Mono',consolas,'Courier New',monospace\"><span style=\"color: #008000; text-decoration-color: #008000; font-weight: bold\">Episode </span><span style=\"color: #008000; text-decoration-color: #008000; font-weight: bold\">3</span><span style=\"color: #008000; text-decoration-color: #008000; font-weight: bold\"> Results:</span>\n",
       "</pre>\n"
      ],
      "text/plain": [
       "\u001b[1;32mEpisode \u001b[0m\u001b[1;32m3\u001b[0m\u001b[1;32m Results:\u001b[0m\n"
      ]
     },
     "metadata": {},
     "output_type": "display_data"
    },
    {
     "data": {
      "text/html": [
       "<pre style=\"white-space:pre;overflow-x:auto;line-height:normal;font-family:Menlo,'DejaVu Sans Mono',consolas,'Courier New',monospace\">  Total Steps: <span style=\"color: #008080; text-decoration-color: #008080; font-weight: bold\">155</span>\n",
       "</pre>\n"
      ],
      "text/plain": [
       "  Total Steps: \u001b[1;36m155\u001b[0m\n"
      ]
     },
     "metadata": {},
     "output_type": "display_data"
    },
    {
     "data": {
      "text/html": [
       "<pre style=\"white-space:pre;overflow-x:auto;line-height:normal;font-family:Menlo,'DejaVu Sans Mono',consolas,'Courier New',monospace\">  Initial Portfolio Value: <span style=\"color: #008000; text-decoration-color: #008000\">$</span><span style=\"color: #008000; text-decoration-color: #008000; font-weight: bold\">100000.00</span>\n",
       "</pre>\n"
      ],
      "text/plain": [
       "  Initial Portfolio Value: \u001b[32m$\u001b[0m\u001b[1;32m100000.00\u001b[0m\n"
      ]
     },
     "metadata": {},
     "output_type": "display_data"
    },
    {
     "data": {
      "text/html": [
       "<pre style=\"white-space:pre;overflow-x:auto;line-height:normal;font-family:Menlo,'DejaVu Sans Mono',consolas,'Courier New',monospace\">  Final Portfolio Value: <span style=\"color: #008000; text-decoration-color: #008000\">$</span><span style=\"color: #008000; text-decoration-color: #008000; font-weight: bold\">11376.77</span>\n",
       "</pre>\n"
      ],
      "text/plain": [
       "  Final Portfolio Value: \u001b[32m$\u001b[0m\u001b[1;32m11376.77\u001b[0m\n"
      ]
     },
     "metadata": {},
     "output_type": "display_data"
    },
    {
     "data": {
      "text/html": [
       "<pre style=\"white-space:pre;overflow-x:auto;line-height:normal;font-family:Menlo,'DejaVu Sans Mono',consolas,'Courier New',monospace\">  Total Return: <span style=\"color: #800000; text-decoration-color: #800000; font-weight: bold\">-88.62</span><span style=\"color: #800000; text-decoration-color: #800000\">%</span>\n",
       "</pre>\n"
      ],
      "text/plain": [
       "  Total Return: \u001b[1;31m-88.62\u001b[0m\u001b[31m%\u001b[0m\n"
      ]
     },
     "metadata": {},
     "output_type": "display_data"
    },
    {
     "data": {
      "text/html": [
       "<pre style=\"white-space:pre;overflow-x:auto;line-height:normal;font-family:Menlo,'DejaVu Sans Mono',consolas,'Courier New',monospace\">  Total Reward: <span style=\"color: #808000; text-decoration-color: #808000; font-weight: bold\">11.39</span>\n",
       "</pre>\n"
      ],
      "text/plain": [
       "  Total Reward: \u001b[1;33m11.39\u001b[0m\n"
      ]
     },
     "metadata": {},
     "output_type": "display_data"
    },
    {
     "data": {
      "text/html": [
       "<pre style=\"white-space:pre;overflow-x:auto;line-height:normal;font-family:Menlo,'DejaVu Sans Mono',consolas,'Courier New',monospace\"><span style=\"font-style: italic\">        Action Distribution        </span>\n",
       "┏━━━━━━━━━━━━┳━━━━━━━┳━━━━━━━━━━━━┓\n",
       "┃<span style=\"font-weight: bold\"> Action     </span>┃<span style=\"font-weight: bold\"> Count </span>┃<span style=\"font-weight: bold\"> Percentage </span>┃\n",
       "┡━━━━━━━━━━━━╇━━━━━━━╇━━━━━━━━━━━━┩\n",
       "│<span style=\"color: #008080; text-decoration-color: #008080\"> Hold       </span>│<span style=\"color: #008000; text-decoration-color: #008000\">   110 </span>│<span style=\"color: #808000; text-decoration-color: #808000\">      71.0% </span>│\n",
       "│<span style=\"color: #008080; text-decoration-color: #008080\"> LimitBuy   </span>│<span style=\"color: #008000; text-decoration-color: #008000\">     7 </span>│<span style=\"color: #808000; text-decoration-color: #808000\">       4.5% </span>│\n",
       "│<span style=\"color: #008080; text-decoration-color: #008080\"> StopLoss   </span>│<span style=\"color: #008000; text-decoration-color: #008000\">     5 </span>│<span style=\"color: #808000; text-decoration-color: #808000\">       3.2% </span>│\n",
       "│<span style=\"color: #008080; text-decoration-color: #008080\"> LimitSell  </span>│<span style=\"color: #008000; text-decoration-color: #008000\">     3 </span>│<span style=\"color: #808000; text-decoration-color: #808000\">       1.9% </span>│\n",
       "│<span style=\"color: #008080; text-decoration-color: #008080\"> TakeProfit </span>│<span style=\"color: #008000; text-decoration-color: #008000\">     9 </span>│<span style=\"color: #808000; text-decoration-color: #808000\">       5.8% </span>│\n",
       "│<span style=\"color: #008080; text-decoration-color: #008080\"> Buy        </span>│<span style=\"color: #008000; text-decoration-color: #008000\">    16 </span>│<span style=\"color: #808000; text-decoration-color: #808000\">      10.3% </span>│\n",
       "│<span style=\"color: #008080; text-decoration-color: #008080\"> Sell       </span>│<span style=\"color: #008000; text-decoration-color: #008000\">     5 </span>│<span style=\"color: #808000; text-decoration-color: #808000\">       3.2% </span>│\n",
       "└────────────┴───────┴────────────┘\n",
       "</pre>\n"
      ],
      "text/plain": [
       "\u001b[3m        Action Distribution        \u001b[0m\n",
       "┏━━━━━━━━━━━━┳━━━━━━━┳━━━━━━━━━━━━┓\n",
       "┃\u001b[1m \u001b[0m\u001b[1mAction    \u001b[0m\u001b[1m \u001b[0m┃\u001b[1m \u001b[0m\u001b[1mCount\u001b[0m\u001b[1m \u001b[0m┃\u001b[1m \u001b[0m\u001b[1mPercentage\u001b[0m\u001b[1m \u001b[0m┃\n",
       "┡━━━━━━━━━━━━╇━━━━━━━╇━━━━━━━━━━━━┩\n",
       "│\u001b[36m \u001b[0m\u001b[36mHold      \u001b[0m\u001b[36m \u001b[0m│\u001b[32m \u001b[0m\u001b[32m  110\u001b[0m\u001b[32m \u001b[0m│\u001b[33m \u001b[0m\u001b[33m     71.0%\u001b[0m\u001b[33m \u001b[0m│\n",
       "│\u001b[36m \u001b[0m\u001b[36mLimitBuy  \u001b[0m\u001b[36m \u001b[0m│\u001b[32m \u001b[0m\u001b[32m    7\u001b[0m\u001b[32m \u001b[0m│\u001b[33m \u001b[0m\u001b[33m      4.5%\u001b[0m\u001b[33m \u001b[0m│\n",
       "│\u001b[36m \u001b[0m\u001b[36mStopLoss  \u001b[0m\u001b[36m \u001b[0m│\u001b[32m \u001b[0m\u001b[32m    5\u001b[0m\u001b[32m \u001b[0m│\u001b[33m \u001b[0m\u001b[33m      3.2%\u001b[0m\u001b[33m \u001b[0m│\n",
       "│\u001b[36m \u001b[0m\u001b[36mLimitSell \u001b[0m\u001b[36m \u001b[0m│\u001b[32m \u001b[0m\u001b[32m    3\u001b[0m\u001b[32m \u001b[0m│\u001b[33m \u001b[0m\u001b[33m      1.9%\u001b[0m\u001b[33m \u001b[0m│\n",
       "│\u001b[36m \u001b[0m\u001b[36mTakeProfit\u001b[0m\u001b[36m \u001b[0m│\u001b[32m \u001b[0m\u001b[32m    9\u001b[0m\u001b[32m \u001b[0m│\u001b[33m \u001b[0m\u001b[33m      5.8%\u001b[0m\u001b[33m \u001b[0m│\n",
       "│\u001b[36m \u001b[0m\u001b[36mBuy       \u001b[0m\u001b[36m \u001b[0m│\u001b[32m \u001b[0m\u001b[32m   16\u001b[0m\u001b[32m \u001b[0m│\u001b[33m \u001b[0m\u001b[33m     10.3%\u001b[0m\u001b[33m \u001b[0m│\n",
       "│\u001b[36m \u001b[0m\u001b[36mSell      \u001b[0m\u001b[36m \u001b[0m│\u001b[32m \u001b[0m\u001b[32m    5\u001b[0m\u001b[32m \u001b[0m│\u001b[33m \u001b[0m\u001b[33m      3.2%\u001b[0m\u001b[33m \u001b[0m│\n",
       "└────────────┴───────┴────────────┘\n"
      ]
     },
     "metadata": {},
     "output_type": "display_data"
    },
    {
     "data": {
      "text/html": [
       "<pre style=\"white-space:pre;overflow-x:auto;line-height:normal;font-family:Menlo,'DejaVu Sans Mono',consolas,'Courier New',monospace\"><span style=\"color: #808000; text-decoration-color: #808000\">--- Episode </span><span style=\"color: #808000; text-decoration-color: #808000; font-weight: bold\">4</span><span style=\"color: #808000; text-decoration-color: #808000\">/</span><span style=\"color: #808000; text-decoration-color: #808000; font-weight: bold\">5</span><span style=\"color: #808000; text-decoration-color: #808000\"> ---</span>\n",
       "</pre>\n"
      ],
      "text/plain": [
       "\u001b[33m--- Episode \u001b[0m\u001b[1;33m4\u001b[0m\u001b[33m/\u001b[0m\u001b[1;33m5\u001b[0m\u001b[33m ---\u001b[0m\n"
      ]
     },
     "metadata": {},
     "output_type": "display_data"
    },
    {
     "data": {
      "text/html": [
       "<pre style=\"white-space:pre;overflow-x:auto;line-height:normal;font-family:Menlo,'DejaVu Sans Mono',consolas,'Courier New',monospace\">  Step <span style=\"color: #008080; text-decoration-color: #008080; font-weight: bold\">0</span>: <span style=\"color: #008000; text-decoration-color: #008000\">✓</span> <span style=\"color: #800080; text-decoration-color: #800080\">Hold</span>, 💰 <span style=\"color: #008080; text-decoration-color: #008080\">$</span><span style=\"color: #008080; text-decoration-color: #008080; font-weight: bold\">102.50</span>, 📊 <span style=\"color: #008000; text-decoration-color: #008000\">$</span><span style=\"color: #008000; text-decoration-color: #008000; font-weight: bold\">100000.00</span>, 🌟 <span style=\"color: #808000; text-decoration-color: #808000; font-weight: bold\">-0.0500</span>\n",
       "</pre>\n"
      ],
      "text/plain": [
       "  Step \u001b[1;36m0\u001b[0m: \u001b[32m✓\u001b[0m \u001b[35mHold\u001b[0m, 💰 \u001b[36m$\u001b[0m\u001b[1;36m102.50\u001b[0m, 📊 \u001b[32m$\u001b[0m\u001b[1;32m100000.00\u001b[0m, 🌟 \u001b[1;33m-0.0500\u001b[0m\n"
      ]
     },
     "metadata": {},
     "output_type": "display_data"
    },
    {
     "data": {
      "text/html": [
       "<pre style=\"white-space:pre;overflow-x:auto;line-height:normal;font-family:Menlo,'DejaVu Sans Mono',consolas,'Courier New',monospace\">  Step <span style=\"color: #008080; text-decoration-color: #008080; font-weight: bold\">50</span>: <span style=\"color: #008000; text-decoration-color: #008000\">✓</span> <span style=\"color: #800080; text-decoration-color: #800080\">Hold</span>, 💰 <span style=\"color: #008080; text-decoration-color: #008080\">$</span><span style=\"color: #008080; text-decoration-color: #008080; font-weight: bold\">93.63</span>, 📊 <span style=\"color: #008000; text-decoration-color: #008000\">$</span><span style=\"color: #008000; text-decoration-color: #008000; font-weight: bold\">80238.83</span>, 🌟 <span style=\"color: #808000; text-decoration-color: #808000; font-weight: bold\">-0.0500</span>\n",
       "</pre>\n"
      ],
      "text/plain": [
       "  Step \u001b[1;36m50\u001b[0m: \u001b[32m✓\u001b[0m \u001b[35mHold\u001b[0m, 💰 \u001b[36m$\u001b[0m\u001b[1;36m93.63\u001b[0m, 📊 \u001b[32m$\u001b[0m\u001b[1;32m80238.83\u001b[0m, 🌟 \u001b[1;33m-0.0500\u001b[0m\n"
      ]
     },
     "metadata": {},
     "output_type": "display_data"
    },
    {
     "data": {
      "text/html": [
       "<pre style=\"white-space:pre;overflow-x:auto;line-height:normal;font-family:Menlo,'DejaVu Sans Mono',consolas,'Courier New',monospace\">  Step <span style=\"color: #008080; text-decoration-color: #008080; font-weight: bold\">100</span>: <span style=\"color: #008000; text-decoration-color: #008000\">✓</span> <span style=\"color: #800080; text-decoration-color: #800080\">Buy</span>, 💰 <span style=\"color: #008080; text-decoration-color: #008080\">$</span><span style=\"color: #008080; text-decoration-color: #008080; font-weight: bold\">92.29</span>, 📊 <span style=\"color: #008000; text-decoration-color: #008000\">$</span><span style=\"color: #008000; text-decoration-color: #008000; font-weight: bold\">63804.42</span>, 🌟 <span style=\"color: #808000; text-decoration-color: #808000; font-weight: bold\">0.0798</span>\n",
       "</pre>\n"
      ],
      "text/plain": [
       "  Step \u001b[1;36m100\u001b[0m: \u001b[32m✓\u001b[0m \u001b[35mBuy\u001b[0m, 💰 \u001b[36m$\u001b[0m\u001b[1;36m92.29\u001b[0m, 📊 \u001b[32m$\u001b[0m\u001b[1;32m63804.42\u001b[0m, 🌟 \u001b[1;33m0.0798\u001b[0m\n"
      ]
     },
     "metadata": {},
     "output_type": "display_data"
    },
    {
     "data": {
      "text/html": [
       "<pre style=\"white-space:pre;overflow-x:auto;line-height:normal;font-family:Menlo,'DejaVu Sans Mono',consolas,'Courier New',monospace\">  Step <span style=\"color: #008080; text-decoration-color: #008080; font-weight: bold\">150</span>: <span style=\"color: #008000; text-decoration-color: #008000\">✓</span> <span style=\"color: #800080; text-decoration-color: #800080\">Hold</span>, 💰 <span style=\"color: #008080; text-decoration-color: #008080\">$</span><span style=\"color: #008080; text-decoration-color: #008080; font-weight: bold\">111.73</span>, 📊 <span style=\"color: #008000; text-decoration-color: #008000\">$</span><span style=\"color: #008000; text-decoration-color: #008000; font-weight: bold\">79907.07</span>, 🌟 <span style=\"color: #808000; text-decoration-color: #808000; font-weight: bold\">-0.0450</span>\n",
       "</pre>\n"
      ],
      "text/plain": [
       "  Step \u001b[1;36m150\u001b[0m: \u001b[32m✓\u001b[0m \u001b[35mHold\u001b[0m, 💰 \u001b[36m$\u001b[0m\u001b[1;36m111.73\u001b[0m, 📊 \u001b[32m$\u001b[0m\u001b[1;32m79907.07\u001b[0m, 🌟 \u001b[1;33m-0.0450\u001b[0m\n"
      ]
     },
     "metadata": {},
     "output_type": "display_data"
    },
    {
     "data": {
      "text/html": [
       "<pre style=\"white-space:pre;overflow-x:auto;line-height:normal;font-family:Menlo,'DejaVu Sans Mono',consolas,'Courier New',monospace\"><span style=\"color: #008000; text-decoration-color: #008000; font-weight: bold\">Episode </span><span style=\"color: #008000; text-decoration-color: #008000; font-weight: bold\">4</span><span style=\"color: #008000; text-decoration-color: #008000; font-weight: bold\"> Results:</span>\n",
       "</pre>\n"
      ],
      "text/plain": [
       "\u001b[1;32mEpisode \u001b[0m\u001b[1;32m4\u001b[0m\u001b[1;32m Results:\u001b[0m\n"
      ]
     },
     "metadata": {},
     "output_type": "display_data"
    },
    {
     "data": {
      "text/html": [
       "<pre style=\"white-space:pre;overflow-x:auto;line-height:normal;font-family:Menlo,'DejaVu Sans Mono',consolas,'Courier New',monospace\">  Total Steps: <span style=\"color: #008080; text-decoration-color: #008080; font-weight: bold\">155</span>\n",
       "</pre>\n"
      ],
      "text/plain": [
       "  Total Steps: \u001b[1;36m155\u001b[0m\n"
      ]
     },
     "metadata": {},
     "output_type": "display_data"
    },
    {
     "data": {
      "text/html": [
       "<pre style=\"white-space:pre;overflow-x:auto;line-height:normal;font-family:Menlo,'DejaVu Sans Mono',consolas,'Courier New',monospace\">  Initial Portfolio Value: <span style=\"color: #008000; text-decoration-color: #008000\">$</span><span style=\"color: #008000; text-decoration-color: #008000; font-weight: bold\">100000.00</span>\n",
       "</pre>\n"
      ],
      "text/plain": [
       "  Initial Portfolio Value: \u001b[32m$\u001b[0m\u001b[1;32m100000.00\u001b[0m\n"
      ]
     },
     "metadata": {},
     "output_type": "display_data"
    },
    {
     "data": {
      "text/html": [
       "<pre style=\"white-space:pre;overflow-x:auto;line-height:normal;font-family:Menlo,'DejaVu Sans Mono',consolas,'Courier New',monospace\">  Final Portfolio Value: <span style=\"color: #008000; text-decoration-color: #008000\">$</span><span style=\"color: #008000; text-decoration-color: #008000; font-weight: bold\">11376.77</span>\n",
       "</pre>\n"
      ],
      "text/plain": [
       "  Final Portfolio Value: \u001b[32m$\u001b[0m\u001b[1;32m11376.77\u001b[0m\n"
      ]
     },
     "metadata": {},
     "output_type": "display_data"
    },
    {
     "data": {
      "text/html": [
       "<pre style=\"white-space:pre;overflow-x:auto;line-height:normal;font-family:Menlo,'DejaVu Sans Mono',consolas,'Courier New',monospace\">  Total Return: <span style=\"color: #800000; text-decoration-color: #800000; font-weight: bold\">-88.62</span><span style=\"color: #800000; text-decoration-color: #800000\">%</span>\n",
       "</pre>\n"
      ],
      "text/plain": [
       "  Total Return: \u001b[1;31m-88.62\u001b[0m\u001b[31m%\u001b[0m\n"
      ]
     },
     "metadata": {},
     "output_type": "display_data"
    },
    {
     "data": {
      "text/html": [
       "<pre style=\"white-space:pre;overflow-x:auto;line-height:normal;font-family:Menlo,'DejaVu Sans Mono',consolas,'Courier New',monospace\">  Total Reward: <span style=\"color: #808000; text-decoration-color: #808000; font-weight: bold\">11.39</span>\n",
       "</pre>\n"
      ],
      "text/plain": [
       "  Total Reward: \u001b[1;33m11.39\u001b[0m\n"
      ]
     },
     "metadata": {},
     "output_type": "display_data"
    },
    {
     "data": {
      "text/html": [
       "<pre style=\"white-space:pre;overflow-x:auto;line-height:normal;font-family:Menlo,'DejaVu Sans Mono',consolas,'Courier New',monospace\"><span style=\"font-style: italic\">        Action Distribution        </span>\n",
       "┏━━━━━━━━━━━━┳━━━━━━━┳━━━━━━━━━━━━┓\n",
       "┃<span style=\"font-weight: bold\"> Action     </span>┃<span style=\"font-weight: bold\"> Count </span>┃<span style=\"font-weight: bold\"> Percentage </span>┃\n",
       "┡━━━━━━━━━━━━╇━━━━━━━╇━━━━━━━━━━━━┩\n",
       "│<span style=\"color: #008080; text-decoration-color: #008080\"> Hold       </span>│<span style=\"color: #008000; text-decoration-color: #008000\">   110 </span>│<span style=\"color: #808000; text-decoration-color: #808000\">      71.0% </span>│\n",
       "│<span style=\"color: #008080; text-decoration-color: #008080\"> LimitBuy   </span>│<span style=\"color: #008000; text-decoration-color: #008000\">     7 </span>│<span style=\"color: #808000; text-decoration-color: #808000\">       4.5% </span>│\n",
       "│<span style=\"color: #008080; text-decoration-color: #008080\"> StopLoss   </span>│<span style=\"color: #008000; text-decoration-color: #008000\">     5 </span>│<span style=\"color: #808000; text-decoration-color: #808000\">       3.2% </span>│\n",
       "│<span style=\"color: #008080; text-decoration-color: #008080\"> LimitSell  </span>│<span style=\"color: #008000; text-decoration-color: #008000\">     3 </span>│<span style=\"color: #808000; text-decoration-color: #808000\">       1.9% </span>│\n",
       "│<span style=\"color: #008080; text-decoration-color: #008080\"> TakeProfit </span>│<span style=\"color: #008000; text-decoration-color: #008000\">     9 </span>│<span style=\"color: #808000; text-decoration-color: #808000\">       5.8% </span>│\n",
       "│<span style=\"color: #008080; text-decoration-color: #008080\"> Buy        </span>│<span style=\"color: #008000; text-decoration-color: #008000\">    16 </span>│<span style=\"color: #808000; text-decoration-color: #808000\">      10.3% </span>│\n",
       "│<span style=\"color: #008080; text-decoration-color: #008080\"> Sell       </span>│<span style=\"color: #008000; text-decoration-color: #008000\">     5 </span>│<span style=\"color: #808000; text-decoration-color: #808000\">       3.2% </span>│\n",
       "└────────────┴───────┴────────────┘\n",
       "</pre>\n"
      ],
      "text/plain": [
       "\u001b[3m        Action Distribution        \u001b[0m\n",
       "┏━━━━━━━━━━━━┳━━━━━━━┳━━━━━━━━━━━━┓\n",
       "┃\u001b[1m \u001b[0m\u001b[1mAction    \u001b[0m\u001b[1m \u001b[0m┃\u001b[1m \u001b[0m\u001b[1mCount\u001b[0m\u001b[1m \u001b[0m┃\u001b[1m \u001b[0m\u001b[1mPercentage\u001b[0m\u001b[1m \u001b[0m┃\n",
       "┡━━━━━━━━━━━━╇━━━━━━━╇━━━━━━━━━━━━┩\n",
       "│\u001b[36m \u001b[0m\u001b[36mHold      \u001b[0m\u001b[36m \u001b[0m│\u001b[32m \u001b[0m\u001b[32m  110\u001b[0m\u001b[32m \u001b[0m│\u001b[33m \u001b[0m\u001b[33m     71.0%\u001b[0m\u001b[33m \u001b[0m│\n",
       "│\u001b[36m \u001b[0m\u001b[36mLimitBuy  \u001b[0m\u001b[36m \u001b[0m│\u001b[32m \u001b[0m\u001b[32m    7\u001b[0m\u001b[32m \u001b[0m│\u001b[33m \u001b[0m\u001b[33m      4.5%\u001b[0m\u001b[33m \u001b[0m│\n",
       "│\u001b[36m \u001b[0m\u001b[36mStopLoss  \u001b[0m\u001b[36m \u001b[0m│\u001b[32m \u001b[0m\u001b[32m    5\u001b[0m\u001b[32m \u001b[0m│\u001b[33m \u001b[0m\u001b[33m      3.2%\u001b[0m\u001b[33m \u001b[0m│\n",
       "│\u001b[36m \u001b[0m\u001b[36mLimitSell \u001b[0m\u001b[36m \u001b[0m│\u001b[32m \u001b[0m\u001b[32m    3\u001b[0m\u001b[32m \u001b[0m│\u001b[33m \u001b[0m\u001b[33m      1.9%\u001b[0m\u001b[33m \u001b[0m│\n",
       "│\u001b[36m \u001b[0m\u001b[36mTakeProfit\u001b[0m\u001b[36m \u001b[0m│\u001b[32m \u001b[0m\u001b[32m    9\u001b[0m\u001b[32m \u001b[0m│\u001b[33m \u001b[0m\u001b[33m      5.8%\u001b[0m\u001b[33m \u001b[0m│\n",
       "│\u001b[36m \u001b[0m\u001b[36mBuy       \u001b[0m\u001b[36m \u001b[0m│\u001b[32m \u001b[0m\u001b[32m   16\u001b[0m\u001b[32m \u001b[0m│\u001b[33m \u001b[0m\u001b[33m     10.3%\u001b[0m\u001b[33m \u001b[0m│\n",
       "│\u001b[36m \u001b[0m\u001b[36mSell      \u001b[0m\u001b[36m \u001b[0m│\u001b[32m \u001b[0m\u001b[32m    5\u001b[0m\u001b[32m \u001b[0m│\u001b[33m \u001b[0m\u001b[33m      3.2%\u001b[0m\u001b[33m \u001b[0m│\n",
       "└────────────┴───────┴────────────┘\n"
      ]
     },
     "metadata": {},
     "output_type": "display_data"
    },
    {
     "data": {
      "text/html": [
       "<pre style=\"white-space:pre;overflow-x:auto;line-height:normal;font-family:Menlo,'DejaVu Sans Mono',consolas,'Courier New',monospace\"><span style=\"color: #808000; text-decoration-color: #808000\">--- Episode </span><span style=\"color: #808000; text-decoration-color: #808000; font-weight: bold\">5</span><span style=\"color: #808000; text-decoration-color: #808000\">/</span><span style=\"color: #808000; text-decoration-color: #808000; font-weight: bold\">5</span><span style=\"color: #808000; text-decoration-color: #808000\"> ---</span>\n",
       "</pre>\n"
      ],
      "text/plain": [
       "\u001b[33m--- Episode \u001b[0m\u001b[1;33m5\u001b[0m\u001b[33m/\u001b[0m\u001b[1;33m5\u001b[0m\u001b[33m ---\u001b[0m\n"
      ]
     },
     "metadata": {},
     "output_type": "display_data"
    },
    {
     "data": {
      "text/html": [
       "<pre style=\"white-space:pre;overflow-x:auto;line-height:normal;font-family:Menlo,'DejaVu Sans Mono',consolas,'Courier New',monospace\">  Step <span style=\"color: #008080; text-decoration-color: #008080; font-weight: bold\">0</span>: <span style=\"color: #008000; text-decoration-color: #008000\">✓</span> <span style=\"color: #800080; text-decoration-color: #800080\">Hold</span>, 💰 <span style=\"color: #008080; text-decoration-color: #008080\">$</span><span style=\"color: #008080; text-decoration-color: #008080; font-weight: bold\">102.50</span>, 📊 <span style=\"color: #008000; text-decoration-color: #008000\">$</span><span style=\"color: #008000; text-decoration-color: #008000; font-weight: bold\">100000.00</span>, 🌟 <span style=\"color: #808000; text-decoration-color: #808000; font-weight: bold\">-0.0500</span>\n",
       "</pre>\n"
      ],
      "text/plain": [
       "  Step \u001b[1;36m0\u001b[0m: \u001b[32m✓\u001b[0m \u001b[35mHold\u001b[0m, 💰 \u001b[36m$\u001b[0m\u001b[1;36m102.50\u001b[0m, 📊 \u001b[32m$\u001b[0m\u001b[1;32m100000.00\u001b[0m, 🌟 \u001b[1;33m-0.0500\u001b[0m\n"
      ]
     },
     "metadata": {},
     "output_type": "display_data"
    },
    {
     "data": {
      "text/html": [
       "<pre style=\"white-space:pre;overflow-x:auto;line-height:normal;font-family:Menlo,'DejaVu Sans Mono',consolas,'Courier New',monospace\">  Step <span style=\"color: #008080; text-decoration-color: #008080; font-weight: bold\">50</span>: <span style=\"color: #008000; text-decoration-color: #008000\">✓</span> <span style=\"color: #800080; text-decoration-color: #800080\">Hold</span>, 💰 <span style=\"color: #008080; text-decoration-color: #008080\">$</span><span style=\"color: #008080; text-decoration-color: #008080; font-weight: bold\">93.63</span>, 📊 <span style=\"color: #008000; text-decoration-color: #008000\">$</span><span style=\"color: #008000; text-decoration-color: #008000; font-weight: bold\">80238.83</span>, 🌟 <span style=\"color: #808000; text-decoration-color: #808000; font-weight: bold\">-0.0500</span>\n",
       "</pre>\n"
      ],
      "text/plain": [
       "  Step \u001b[1;36m50\u001b[0m: \u001b[32m✓\u001b[0m \u001b[35mHold\u001b[0m, 💰 \u001b[36m$\u001b[0m\u001b[1;36m93.63\u001b[0m, 📊 \u001b[32m$\u001b[0m\u001b[1;32m80238.83\u001b[0m, 🌟 \u001b[1;33m-0.0500\u001b[0m\n"
      ]
     },
     "metadata": {},
     "output_type": "display_data"
    },
    {
     "data": {
      "text/html": [
       "<pre style=\"white-space:pre;overflow-x:auto;line-height:normal;font-family:Menlo,'DejaVu Sans Mono',consolas,'Courier New',monospace\">  Step <span style=\"color: #008080; text-decoration-color: #008080; font-weight: bold\">100</span>: <span style=\"color: #008000; text-decoration-color: #008000\">✓</span> <span style=\"color: #800080; text-decoration-color: #800080\">Buy</span>, 💰 <span style=\"color: #008080; text-decoration-color: #008080\">$</span><span style=\"color: #008080; text-decoration-color: #008080; font-weight: bold\">92.29</span>, 📊 <span style=\"color: #008000; text-decoration-color: #008000\">$</span><span style=\"color: #008000; text-decoration-color: #008000; font-weight: bold\">63804.42</span>, 🌟 <span style=\"color: #808000; text-decoration-color: #808000; font-weight: bold\">0.0798</span>\n",
       "</pre>\n"
      ],
      "text/plain": [
       "  Step \u001b[1;36m100\u001b[0m: \u001b[32m✓\u001b[0m \u001b[35mBuy\u001b[0m, 💰 \u001b[36m$\u001b[0m\u001b[1;36m92.29\u001b[0m, 📊 \u001b[32m$\u001b[0m\u001b[1;32m63804.42\u001b[0m, 🌟 \u001b[1;33m0.0798\u001b[0m\n"
      ]
     },
     "metadata": {},
     "output_type": "display_data"
    },
    {
     "data": {
      "text/html": [
       "<pre style=\"white-space:pre;overflow-x:auto;line-height:normal;font-family:Menlo,'DejaVu Sans Mono',consolas,'Courier New',monospace\">  Step <span style=\"color: #008080; text-decoration-color: #008080; font-weight: bold\">150</span>: <span style=\"color: #008000; text-decoration-color: #008000\">✓</span> <span style=\"color: #800080; text-decoration-color: #800080\">Hold</span>, 💰 <span style=\"color: #008080; text-decoration-color: #008080\">$</span><span style=\"color: #008080; text-decoration-color: #008080; font-weight: bold\">111.73</span>, 📊 <span style=\"color: #008000; text-decoration-color: #008000\">$</span><span style=\"color: #008000; text-decoration-color: #008000; font-weight: bold\">79907.07</span>, 🌟 <span style=\"color: #808000; text-decoration-color: #808000; font-weight: bold\">-0.0450</span>\n",
       "</pre>\n"
      ],
      "text/plain": [
       "  Step \u001b[1;36m150\u001b[0m: \u001b[32m✓\u001b[0m \u001b[35mHold\u001b[0m, 💰 \u001b[36m$\u001b[0m\u001b[1;36m111.73\u001b[0m, 📊 \u001b[32m$\u001b[0m\u001b[1;32m79907.07\u001b[0m, 🌟 \u001b[1;33m-0.0450\u001b[0m\n"
      ]
     },
     "metadata": {},
     "output_type": "display_data"
    },
    {
     "data": {
      "text/html": [
       "<pre style=\"white-space:pre;overflow-x:auto;line-height:normal;font-family:Menlo,'DejaVu Sans Mono',consolas,'Courier New',monospace\"><span style=\"color: #008000; text-decoration-color: #008000; font-weight: bold\">Episode </span><span style=\"color: #008000; text-decoration-color: #008000; font-weight: bold\">5</span><span style=\"color: #008000; text-decoration-color: #008000; font-weight: bold\"> Results:</span>\n",
       "</pre>\n"
      ],
      "text/plain": [
       "\u001b[1;32mEpisode \u001b[0m\u001b[1;32m5\u001b[0m\u001b[1;32m Results:\u001b[0m\n"
      ]
     },
     "metadata": {},
     "output_type": "display_data"
    },
    {
     "data": {
      "text/html": [
       "<pre style=\"white-space:pre;overflow-x:auto;line-height:normal;font-family:Menlo,'DejaVu Sans Mono',consolas,'Courier New',monospace\">  Total Steps: <span style=\"color: #008080; text-decoration-color: #008080; font-weight: bold\">155</span>\n",
       "</pre>\n"
      ],
      "text/plain": [
       "  Total Steps: \u001b[1;36m155\u001b[0m\n"
      ]
     },
     "metadata": {},
     "output_type": "display_data"
    },
    {
     "data": {
      "text/html": [
       "<pre style=\"white-space:pre;overflow-x:auto;line-height:normal;font-family:Menlo,'DejaVu Sans Mono',consolas,'Courier New',monospace\">  Initial Portfolio Value: <span style=\"color: #008000; text-decoration-color: #008000\">$</span><span style=\"color: #008000; text-decoration-color: #008000; font-weight: bold\">100000.00</span>\n",
       "</pre>\n"
      ],
      "text/plain": [
       "  Initial Portfolio Value: \u001b[32m$\u001b[0m\u001b[1;32m100000.00\u001b[0m\n"
      ]
     },
     "metadata": {},
     "output_type": "display_data"
    },
    {
     "data": {
      "text/html": [
       "<pre style=\"white-space:pre;overflow-x:auto;line-height:normal;font-family:Menlo,'DejaVu Sans Mono',consolas,'Courier New',monospace\">  Final Portfolio Value: <span style=\"color: #008000; text-decoration-color: #008000\">$</span><span style=\"color: #008000; text-decoration-color: #008000; font-weight: bold\">11376.77</span>\n",
       "</pre>\n"
      ],
      "text/plain": [
       "  Final Portfolio Value: \u001b[32m$\u001b[0m\u001b[1;32m11376.77\u001b[0m\n"
      ]
     },
     "metadata": {},
     "output_type": "display_data"
    },
    {
     "data": {
      "text/html": [
       "<pre style=\"white-space:pre;overflow-x:auto;line-height:normal;font-family:Menlo,'DejaVu Sans Mono',consolas,'Courier New',monospace\">  Total Return: <span style=\"color: #800000; text-decoration-color: #800000; font-weight: bold\">-88.62</span><span style=\"color: #800000; text-decoration-color: #800000\">%</span>\n",
       "</pre>\n"
      ],
      "text/plain": [
       "  Total Return: \u001b[1;31m-88.62\u001b[0m\u001b[31m%\u001b[0m\n"
      ]
     },
     "metadata": {},
     "output_type": "display_data"
    },
    {
     "data": {
      "text/html": [
       "<pre style=\"white-space:pre;overflow-x:auto;line-height:normal;font-family:Menlo,'DejaVu Sans Mono',consolas,'Courier New',monospace\">  Total Reward: <span style=\"color: #808000; text-decoration-color: #808000; font-weight: bold\">11.39</span>\n",
       "</pre>\n"
      ],
      "text/plain": [
       "  Total Reward: \u001b[1;33m11.39\u001b[0m\n"
      ]
     },
     "metadata": {},
     "output_type": "display_data"
    },
    {
     "data": {
      "text/html": [
       "<pre style=\"white-space:pre;overflow-x:auto;line-height:normal;font-family:Menlo,'DejaVu Sans Mono',consolas,'Courier New',monospace\"><span style=\"font-style: italic\">        Action Distribution        </span>\n",
       "┏━━━━━━━━━━━━┳━━━━━━━┳━━━━━━━━━━━━┓\n",
       "┃<span style=\"font-weight: bold\"> Action     </span>┃<span style=\"font-weight: bold\"> Count </span>┃<span style=\"font-weight: bold\"> Percentage </span>┃\n",
       "┡━━━━━━━━━━━━╇━━━━━━━╇━━━━━━━━━━━━┩\n",
       "│<span style=\"color: #008080; text-decoration-color: #008080\"> Hold       </span>│<span style=\"color: #008000; text-decoration-color: #008000\">   110 </span>│<span style=\"color: #808000; text-decoration-color: #808000\">      71.0% </span>│\n",
       "│<span style=\"color: #008080; text-decoration-color: #008080\"> LimitBuy   </span>│<span style=\"color: #008000; text-decoration-color: #008000\">     7 </span>│<span style=\"color: #808000; text-decoration-color: #808000\">       4.5% </span>│\n",
       "│<span style=\"color: #008080; text-decoration-color: #008080\"> StopLoss   </span>│<span style=\"color: #008000; text-decoration-color: #008000\">     5 </span>│<span style=\"color: #808000; text-decoration-color: #808000\">       3.2% </span>│\n",
       "│<span style=\"color: #008080; text-decoration-color: #008080\"> LimitSell  </span>│<span style=\"color: #008000; text-decoration-color: #008000\">     3 </span>│<span style=\"color: #808000; text-decoration-color: #808000\">       1.9% </span>│\n",
       "│<span style=\"color: #008080; text-decoration-color: #008080\"> TakeProfit </span>│<span style=\"color: #008000; text-decoration-color: #008000\">     9 </span>│<span style=\"color: #808000; text-decoration-color: #808000\">       5.8% </span>│\n",
       "│<span style=\"color: #008080; text-decoration-color: #008080\"> Buy        </span>│<span style=\"color: #008000; text-decoration-color: #008000\">    16 </span>│<span style=\"color: #808000; text-decoration-color: #808000\">      10.3% </span>│\n",
       "│<span style=\"color: #008080; text-decoration-color: #008080\"> Sell       </span>│<span style=\"color: #008000; text-decoration-color: #008000\">     5 </span>│<span style=\"color: #808000; text-decoration-color: #808000\">       3.2% </span>│\n",
       "└────────────┴───────┴────────────┘\n",
       "</pre>\n"
      ],
      "text/plain": [
       "\u001b[3m        Action Distribution        \u001b[0m\n",
       "┏━━━━━━━━━━━━┳━━━━━━━┳━━━━━━━━━━━━┓\n",
       "┃\u001b[1m \u001b[0m\u001b[1mAction    \u001b[0m\u001b[1m \u001b[0m┃\u001b[1m \u001b[0m\u001b[1mCount\u001b[0m\u001b[1m \u001b[0m┃\u001b[1m \u001b[0m\u001b[1mPercentage\u001b[0m\u001b[1m \u001b[0m┃\n",
       "┡━━━━━━━━━━━━╇━━━━━━━╇━━━━━━━━━━━━┩\n",
       "│\u001b[36m \u001b[0m\u001b[36mHold      \u001b[0m\u001b[36m \u001b[0m│\u001b[32m \u001b[0m\u001b[32m  110\u001b[0m\u001b[32m \u001b[0m│\u001b[33m \u001b[0m\u001b[33m     71.0%\u001b[0m\u001b[33m \u001b[0m│\n",
       "│\u001b[36m \u001b[0m\u001b[36mLimitBuy  \u001b[0m\u001b[36m \u001b[0m│\u001b[32m \u001b[0m\u001b[32m    7\u001b[0m\u001b[32m \u001b[0m│\u001b[33m \u001b[0m\u001b[33m      4.5%\u001b[0m\u001b[33m \u001b[0m│\n",
       "│\u001b[36m \u001b[0m\u001b[36mStopLoss  \u001b[0m\u001b[36m \u001b[0m│\u001b[32m \u001b[0m\u001b[32m    5\u001b[0m\u001b[32m \u001b[0m│\u001b[33m \u001b[0m\u001b[33m      3.2%\u001b[0m\u001b[33m \u001b[0m│\n",
       "│\u001b[36m \u001b[0m\u001b[36mLimitSell \u001b[0m\u001b[36m \u001b[0m│\u001b[32m \u001b[0m\u001b[32m    3\u001b[0m\u001b[32m \u001b[0m│\u001b[33m \u001b[0m\u001b[33m      1.9%\u001b[0m\u001b[33m \u001b[0m│\n",
       "│\u001b[36m \u001b[0m\u001b[36mTakeProfit\u001b[0m\u001b[36m \u001b[0m│\u001b[32m \u001b[0m\u001b[32m    9\u001b[0m\u001b[32m \u001b[0m│\u001b[33m \u001b[0m\u001b[33m      5.8%\u001b[0m\u001b[33m \u001b[0m│\n",
       "│\u001b[36m \u001b[0m\u001b[36mBuy       \u001b[0m\u001b[36m \u001b[0m│\u001b[32m \u001b[0m\u001b[32m   16\u001b[0m\u001b[32m \u001b[0m│\u001b[33m \u001b[0m\u001b[33m     10.3%\u001b[0m\u001b[33m \u001b[0m│\n",
       "│\u001b[36m \u001b[0m\u001b[36mSell      \u001b[0m\u001b[36m \u001b[0m│\u001b[32m \u001b[0m\u001b[32m    5\u001b[0m\u001b[32m \u001b[0m│\u001b[33m \u001b[0m\u001b[33m      3.2%\u001b[0m\u001b[33m \u001b[0m│\n",
       "└────────────┴───────┴────────────┘\n"
      ]
     },
     "metadata": {},
     "output_type": "display_data"
    },
    {
     "data": {
      "text/html": [
       "<pre style=\"white-space:pre;overflow-x:auto;line-height:normal;font-family:Menlo,'DejaVu Sans Mono',consolas,'Courier New',monospace\"></pre>\n"
      ],
      "text/plain": []
     },
     "metadata": {},
     "output_type": "display_data"
    },
    {
     "data": {
      "text/html": [
       "<pre style=\"white-space:pre;overflow-x:auto;line-height:normal;font-family:Menlo,'DejaVu Sans Mono',consolas,'Courier New',monospace\">\n",
       "<span style=\"color: #800080; text-decoration-color: #800080; font-weight: bold\">=== Overall Evaluation Summary ===</span>\n",
       "</pre>\n"
      ],
      "text/plain": [
       "\n",
       "\u001b[1;35m=== Overall Evaluation Summary ===\u001b[0m\n"
      ]
     },
     "metadata": {},
     "output_type": "display_data"
    },
    {
     "data": {
      "text/html": [
       "<pre style=\"white-space:pre;overflow-x:auto;line-height:normal;font-family:Menlo,'DejaVu Sans Mono',consolas,'Courier New',monospace\"><span style=\"font-style: italic\">        Summary Statistics        </span>\n",
       "┏━━━━━━━━━━━━━━━━━━━━━━┳━━━━━━━━━┓\n",
       "┃<span style=\"font-weight: bold\"> Metric               </span>┃<span style=\"font-weight: bold\"> Value   </span>┃\n",
       "┡━━━━━━━━━━━━━━━━━━━━━━╇━━━━━━━━━┩\n",
       "│<span style=\"color: #008080; text-decoration-color: #008080\"> Total Episodes       </span>│<span style=\"color: #008000; text-decoration-color: #008000\"> 5       </span>│\n",
       "│<span style=\"color: #008080; text-decoration-color: #008080\"> Average Reward       </span>│<span style=\"color: #008000; text-decoration-color: #008000\"> 11.39   </span>│\n",
       "│<span style=\"color: #008080; text-decoration-color: #008080\"> Reward Std Dev       </span>│<span style=\"color: #008000; text-decoration-color: #008000\"> 0.00    </span>│\n",
       "│<span style=\"color: #008080; text-decoration-color: #008080\"> Best Episode Reward  </span>│<span style=\"color: #008000; text-decoration-color: #008000\"> 11.39   </span>│\n",
       "│<span style=\"color: #008080; text-decoration-color: #008080\"> Worst Episode Reward </span>│<span style=\"color: #008000; text-decoration-color: #008000\"> 11.39   </span>│\n",
       "│<span style=\"color: #008080; text-decoration-color: #008080\"> Average Return       </span>│<span style=\"color: #008000; text-decoration-color: #008000\"> </span><span style=\"color: #800000; text-decoration-color: #800000\">-88.62%</span><span style=\"color: #008000; text-decoration-color: #008000\"> </span>│\n",
       "└──────────────────────┴─────────┘\n",
       "</pre>\n"
      ],
      "text/plain": [
       "\u001b[3m        Summary Statistics        \u001b[0m\n",
       "┏━━━━━━━━━━━━━━━━━━━━━━┳━━━━━━━━━┓\n",
       "┃\u001b[1m \u001b[0m\u001b[1mMetric              \u001b[0m\u001b[1m \u001b[0m┃\u001b[1m \u001b[0m\u001b[1mValue  \u001b[0m\u001b[1m \u001b[0m┃\n",
       "┡━━━━━━━━━━━━━━━━━━━━━━╇━━━━━━━━━┩\n",
       "│\u001b[36m \u001b[0m\u001b[36mTotal Episodes      \u001b[0m\u001b[36m \u001b[0m│\u001b[32m \u001b[0m\u001b[32m5      \u001b[0m\u001b[32m \u001b[0m│\n",
       "│\u001b[36m \u001b[0m\u001b[36mAverage Reward      \u001b[0m\u001b[36m \u001b[0m│\u001b[32m \u001b[0m\u001b[32m11.39  \u001b[0m\u001b[32m \u001b[0m│\n",
       "│\u001b[36m \u001b[0m\u001b[36mReward Std Dev      \u001b[0m\u001b[36m \u001b[0m│\u001b[32m \u001b[0m\u001b[32m0.00   \u001b[0m\u001b[32m \u001b[0m│\n",
       "│\u001b[36m \u001b[0m\u001b[36mBest Episode Reward \u001b[0m\u001b[36m \u001b[0m│\u001b[32m \u001b[0m\u001b[32m11.39  \u001b[0m\u001b[32m \u001b[0m│\n",
       "│\u001b[36m \u001b[0m\u001b[36mWorst Episode Reward\u001b[0m\u001b[36m \u001b[0m│\u001b[32m \u001b[0m\u001b[32m11.39  \u001b[0m\u001b[32m \u001b[0m│\n",
       "│\u001b[36m \u001b[0m\u001b[36mAverage Return      \u001b[0m\u001b[36m \u001b[0m│\u001b[32m \u001b[0m\u001b[31m-88.62%\u001b[0m\u001b[32m \u001b[0m│\n",
       "└──────────────────────┴─────────┘\n"
      ]
     },
     "metadata": {},
     "output_type": "display_data"
    },
    {
     "name": "stdout",
     "output_type": "stream",
     "text": [
      "SingleStockTradingEnv closed.\n"
     ]
    },
    {
     "data": {
      "text/html": [
       "<pre style=\"white-space:pre;overflow-x:auto;line-height:normal;font-family:Menlo,'DejaVu Sans Mono',consolas,'Courier New',monospace\"><span style=\"color: #00ff00; text-decoration-color: #00ff00\">────────────────────────────────────────────── </span><span style=\"color: #808000; text-decoration-color: #808000; font-weight: bold\">📋 RESULTS SUMMARY 📋</span><span style=\"color: #00ff00; text-decoration-color: #00ff00\"> ──────────────────────────────────────────────</span>\n",
       "</pre>\n"
      ],
      "text/plain": [
       "\u001b[92m────────────────────────────────────────────── \u001b[0m\u001b[1;33m📋 RESULTS SUMMARY 📋\u001b[0m\u001b[92m ──────────────────────────────────────────────\u001b[0m\n"
      ]
     },
     "metadata": {},
     "output_type": "display_data"
    },
    {
     "data": {
      "text/html": [
       "<pre style=\"white-space:pre;overflow-x:auto;line-height:normal;font-family:Menlo,'DejaVu Sans Mono',consolas,'Courier New',monospace\"><span style=\"font-style: italic\">            Experiment Results            </span>\n",
       "┏━━━━━━━━━━━━━━━━━━━━┳━━━━━━━━━┳━━━━━━━━━┓\n",
       "┃<span style=\"font-weight: bold\"> Metric             </span>┃<span style=\"font-weight: bold\"> Train   </span>┃<span style=\"font-weight: bold\"> Test    </span>┃\n",
       "┡━━━━━━━━━━━━━━━━━━━━╇━━━━━━━━━╇━━━━━━━━━┩\n",
       "│<span style=\"color: #008080; text-decoration-color: #008080\"> Average Return (%) </span>│<span style=\"color: #008000; text-decoration-color: #008000\"> </span><span style=\"color: #800000; text-decoration-color: #800000\">-94.90%</span><span style=\"color: #008000; text-decoration-color: #008000\"> </span>│<span style=\"color: #000080; text-decoration-color: #000080\"> </span><span style=\"color: #800000; text-decoration-color: #800000\">-88.62%</span><span style=\"color: #000080; text-decoration-color: #000080\"> </span>│\n",
       "│<span style=\"color: #008080; text-decoration-color: #008080\"> Average Reward     </span>│<span style=\"color: #008000; text-decoration-color: #008000\"> 83.11   </span>│<span style=\"color: #000080; text-decoration-color: #000080\"> 11.39   </span>│\n",
       "└────────────────────┴─────────┴─────────┘\n",
       "</pre>\n"
      ],
      "text/plain": [
       "\u001b[3m            Experiment Results            \u001b[0m\n",
       "┏━━━━━━━━━━━━━━━━━━━━┳━━━━━━━━━┳━━━━━━━━━┓\n",
       "┃\u001b[1m \u001b[0m\u001b[1mMetric            \u001b[0m\u001b[1m \u001b[0m┃\u001b[1m \u001b[0m\u001b[1mTrain  \u001b[0m\u001b[1m \u001b[0m┃\u001b[1m \u001b[0m\u001b[1mTest   \u001b[0m\u001b[1m \u001b[0m┃\n",
       "┡━━━━━━━━━━━━━━━━━━━━╇━━━━━━━━━╇━━━━━━━━━┩\n",
       "│\u001b[36m \u001b[0m\u001b[36mAverage Return (%)\u001b[0m\u001b[36m \u001b[0m│\u001b[32m \u001b[0m\u001b[31m-94.90%\u001b[0m\u001b[32m \u001b[0m│\u001b[34m \u001b[0m\u001b[31m-88.62%\u001b[0m\u001b[34m \u001b[0m│\n",
       "│\u001b[36m \u001b[0m\u001b[36mAverage Reward    \u001b[0m\u001b[36m \u001b[0m│\u001b[32m \u001b[0m\u001b[32m83.11  \u001b[0m\u001b[32m \u001b[0m│\u001b[34m \u001b[0m\u001b[34m11.39  \u001b[0m\u001b[34m \u001b[0m│\n",
       "└────────────────────┴─────────┴─────────┘\n"
      ]
     },
     "metadata": {},
     "output_type": "display_data"
    },
    {
     "data": {
      "text/html": [
       "<pre style=\"white-space:pre;overflow-x:auto;line-height:normal;font-family:Menlo,'DejaVu Sans Mono',consolas,'Courier New',monospace\">\n",
       "<span style=\"color: #008080; text-decoration-color: #008080; font-weight: bold\">Action Statistics:</span>\n",
       "</pre>\n"
      ],
      "text/plain": [
       "\n",
       "\u001b[1;36mAction Statistics:\u001b[0m\n"
      ]
     },
     "metadata": {},
     "output_type": "display_data"
    },
    {
     "data": {
      "text/html": [
       "<pre style=\"white-space:pre;overflow-x:auto;line-height:normal;font-family:Menlo,'DejaVu Sans Mono',consolas,'Courier New',monospace\"><span style=\"font-style: italic\">                    Action Distribution                     </span>\n",
       "┏━━━━━━━━━━━━┳━━━━━━━━━━━━━┳━━━━━━━━━┳━━━━━━━━━━━━┳━━━━━━━━┓\n",
       "┃<span style=\"font-weight: bold\"> Action     </span>┃<span style=\"font-weight: bold\"> Train Count </span>┃<span style=\"font-weight: bold\"> Train % </span>┃<span style=\"font-weight: bold\"> Test Count </span>┃<span style=\"font-weight: bold\"> Test % </span>┃\n",
       "┡━━━━━━━━━━━━╇━━━━━━━━━━━━━╇━━━━━━━━━╇━━━━━━━━━━━━╇━━━━━━━━┩\n",
       "│<span style=\"color: #008080; text-decoration-color: #008080\"> Buy        </span>│<span style=\"color: #008000; text-decoration-color: #008000\">         395 </span>│<span style=\"color: #008000; text-decoration-color: #008000\">   11.6% </span>│<span style=\"color: #000080; text-decoration-color: #000080\">         80 </span>│<span style=\"color: #000080; text-decoration-color: #000080\">  10.3% </span>│\n",
       "│<span style=\"color: #008080; text-decoration-color: #008080\"> Hold       </span>│<span style=\"color: #008000; text-decoration-color: #008000\">        1075 </span>│<span style=\"color: #008000; text-decoration-color: #008000\">   31.6% </span>│<span style=\"color: #000080; text-decoration-color: #000080\">        550 </span>│<span style=\"color: #000080; text-decoration-color: #000080\">  71.0% </span>│\n",
       "│<span style=\"color: #008080; text-decoration-color: #008080\"> LimitBuy   </span>│<span style=\"color: #008000; text-decoration-color: #008000\">         125 </span>│<span style=\"color: #008000; text-decoration-color: #008000\">    3.7% </span>│<span style=\"color: #000080; text-decoration-color: #000080\">         35 </span>│<span style=\"color: #000080; text-decoration-color: #000080\">   4.5% </span>│\n",
       "│<span style=\"color: #008080; text-decoration-color: #008080\"> LimitSell  </span>│<span style=\"color: #008000; text-decoration-color: #008000\">         225 </span>│<span style=\"color: #008000; text-decoration-color: #008000\">    6.6% </span>│<span style=\"color: #000080; text-decoration-color: #000080\">         15 </span>│<span style=\"color: #000080; text-decoration-color: #000080\">   1.9% </span>│\n",
       "│<span style=\"color: #008080; text-decoration-color: #008080\"> Sell       </span>│<span style=\"color: #008000; text-decoration-color: #008000\">         210 </span>│<span style=\"color: #008000; text-decoration-color: #008000\">    6.2% </span>│<span style=\"color: #000080; text-decoration-color: #000080\">         25 </span>│<span style=\"color: #000080; text-decoration-color: #000080\">   3.2% </span>│\n",
       "│<span style=\"color: #008080; text-decoration-color: #008080\"> StopLoss   </span>│<span style=\"color: #008000; text-decoration-color: #008000\">         395 </span>│<span style=\"color: #008000; text-decoration-color: #008000\">   11.6% </span>│<span style=\"color: #000080; text-decoration-color: #000080\">         25 </span>│<span style=\"color: #000080; text-decoration-color: #000080\">   3.2% </span>│\n",
       "│<span style=\"color: #008080; text-decoration-color: #008080\"> TakeProfit </span>│<span style=\"color: #008000; text-decoration-color: #008000\">         975 </span>│<span style=\"color: #008000; text-decoration-color: #008000\">   28.7% </span>│<span style=\"color: #000080; text-decoration-color: #000080\">         45 </span>│<span style=\"color: #000080; text-decoration-color: #000080\">   5.8% </span>│\n",
       "└────────────┴─────────────┴─────────┴────────────┴────────┘\n",
       "</pre>\n"
      ],
      "text/plain": [
       "\u001b[3m                    Action Distribution                     \u001b[0m\n",
       "┏━━━━━━━━━━━━┳━━━━━━━━━━━━━┳━━━━━━━━━┳━━━━━━━━━━━━┳━━━━━━━━┓\n",
       "┃\u001b[1m \u001b[0m\u001b[1mAction    \u001b[0m\u001b[1m \u001b[0m┃\u001b[1m \u001b[0m\u001b[1mTrain Count\u001b[0m\u001b[1m \u001b[0m┃\u001b[1m \u001b[0m\u001b[1mTrain %\u001b[0m\u001b[1m \u001b[0m┃\u001b[1m \u001b[0m\u001b[1mTest Count\u001b[0m\u001b[1m \u001b[0m┃\u001b[1m \u001b[0m\u001b[1mTest %\u001b[0m\u001b[1m \u001b[0m┃\n",
       "┡━━━━━━━━━━━━╇━━━━━━━━━━━━━╇━━━━━━━━━╇━━━━━━━━━━━━╇━━━━━━━━┩\n",
       "│\u001b[36m \u001b[0m\u001b[36mBuy       \u001b[0m\u001b[36m \u001b[0m│\u001b[32m \u001b[0m\u001b[32m        395\u001b[0m\u001b[32m \u001b[0m│\u001b[32m \u001b[0m\u001b[32m  11.6%\u001b[0m\u001b[32m \u001b[0m│\u001b[34m \u001b[0m\u001b[34m        80\u001b[0m\u001b[34m \u001b[0m│\u001b[34m \u001b[0m\u001b[34m 10.3%\u001b[0m\u001b[34m \u001b[0m│\n",
       "│\u001b[36m \u001b[0m\u001b[36mHold      \u001b[0m\u001b[36m \u001b[0m│\u001b[32m \u001b[0m\u001b[32m       1075\u001b[0m\u001b[32m \u001b[0m│\u001b[32m \u001b[0m\u001b[32m  31.6%\u001b[0m\u001b[32m \u001b[0m│\u001b[34m \u001b[0m\u001b[34m       550\u001b[0m\u001b[34m \u001b[0m│\u001b[34m \u001b[0m\u001b[34m 71.0%\u001b[0m\u001b[34m \u001b[0m│\n",
       "│\u001b[36m \u001b[0m\u001b[36mLimitBuy  \u001b[0m\u001b[36m \u001b[0m│\u001b[32m \u001b[0m\u001b[32m        125\u001b[0m\u001b[32m \u001b[0m│\u001b[32m \u001b[0m\u001b[32m   3.7%\u001b[0m\u001b[32m \u001b[0m│\u001b[34m \u001b[0m\u001b[34m        35\u001b[0m\u001b[34m \u001b[0m│\u001b[34m \u001b[0m\u001b[34m  4.5%\u001b[0m\u001b[34m \u001b[0m│\n",
       "│\u001b[36m \u001b[0m\u001b[36mLimitSell \u001b[0m\u001b[36m \u001b[0m│\u001b[32m \u001b[0m\u001b[32m        225\u001b[0m\u001b[32m \u001b[0m│\u001b[32m \u001b[0m\u001b[32m   6.6%\u001b[0m\u001b[32m \u001b[0m│\u001b[34m \u001b[0m\u001b[34m        15\u001b[0m\u001b[34m \u001b[0m│\u001b[34m \u001b[0m\u001b[34m  1.9%\u001b[0m\u001b[34m \u001b[0m│\n",
       "│\u001b[36m \u001b[0m\u001b[36mSell      \u001b[0m\u001b[36m \u001b[0m│\u001b[32m \u001b[0m\u001b[32m        210\u001b[0m\u001b[32m \u001b[0m│\u001b[32m \u001b[0m\u001b[32m   6.2%\u001b[0m\u001b[32m \u001b[0m│\u001b[34m \u001b[0m\u001b[34m        25\u001b[0m\u001b[34m \u001b[0m│\u001b[34m \u001b[0m\u001b[34m  3.2%\u001b[0m\u001b[34m \u001b[0m│\n",
       "│\u001b[36m \u001b[0m\u001b[36mStopLoss  \u001b[0m\u001b[36m \u001b[0m│\u001b[32m \u001b[0m\u001b[32m        395\u001b[0m\u001b[32m \u001b[0m│\u001b[32m \u001b[0m\u001b[32m  11.6%\u001b[0m\u001b[32m \u001b[0m│\u001b[34m \u001b[0m\u001b[34m        25\u001b[0m\u001b[34m \u001b[0m│\u001b[34m \u001b[0m\u001b[34m  3.2%\u001b[0m\u001b[34m \u001b[0m│\n",
       "│\u001b[36m \u001b[0m\u001b[36mTakeProfit\u001b[0m\u001b[36m \u001b[0m│\u001b[32m \u001b[0m\u001b[32m        975\u001b[0m\u001b[32m \u001b[0m│\u001b[32m \u001b[0m\u001b[32m  28.7%\u001b[0m\u001b[32m \u001b[0m│\u001b[34m \u001b[0m\u001b[34m        45\u001b[0m\u001b[34m \u001b[0m│\u001b[34m \u001b[0m\u001b[34m  5.8%\u001b[0m\u001b[34m \u001b[0m│\n",
       "└────────────┴─────────────┴─────────┴────────────┴────────┘\n"
      ]
     },
     "metadata": {},
     "output_type": "display_data"
    },
    {
     "data": {
      "text/html": [
       "<pre style=\"white-space:pre;overflow-x:auto;line-height:normal;font-family:Menlo,'DejaVu Sans Mono',consolas,'Courier New',monospace\"><span style=\"font-style: italic\">       Step Summary       </span>\n",
       "┏━━━━━━━━━━┳━━━━━━━━━━━━━┓\n",
       "┃<span style=\"font-weight: bold\"> Phase    </span>┃<span style=\"font-weight: bold\"> Total Steps </span>┃\n",
       "┡━━━━━━━━━━╇━━━━━━━━━━━━━┩\n",
       "│<span style=\"color: #008080; text-decoration-color: #008080\"> Training </span>│<span style=\"color: #808000; text-decoration-color: #808000\">        3400 </span>│\n",
       "│<span style=\"color: #008080; text-decoration-color: #008080\"> Testing  </span>│<span style=\"color: #808000; text-decoration-color: #808000\">         775 </span>│\n",
       "└──────────┴─────────────┘\n",
       "</pre>\n"
      ],
      "text/plain": [
       "\u001b[3m       Step Summary       \u001b[0m\n",
       "┏━━━━━━━━━━┳━━━━━━━━━━━━━┓\n",
       "┃\u001b[1m \u001b[0m\u001b[1mPhase   \u001b[0m\u001b[1m \u001b[0m┃\u001b[1m \u001b[0m\u001b[1mTotal Steps\u001b[0m\u001b[1m \u001b[0m┃\n",
       "┡━━━━━━━━━━╇━━━━━━━━━━━━━┩\n",
       "│\u001b[36m \u001b[0m\u001b[36mTraining\u001b[0m\u001b[36m \u001b[0m│\u001b[33m \u001b[0m\u001b[33m       3400\u001b[0m\u001b[33m \u001b[0m│\n",
       "│\u001b[36m \u001b[0m\u001b[36mTesting \u001b[0m\u001b[36m \u001b[0m│\u001b[33m \u001b[0m\u001b[33m        775\u001b[0m\u001b[33m \u001b[0m│\n",
       "└──────────┴─────────────┘\n"
      ]
     },
     "metadata": {},
     "output_type": "display_data"
    },
    {
     "data": {
      "text/html": [
       "<pre style=\"white-space:pre;overflow-x:auto;line-height:normal;font-family:Menlo,'DejaVu Sans Mono',consolas,'Courier New',monospace\"><span style=\"color: #008000; text-decoration-color: #008000; font-weight: bold\">Trial </span><span style=\"color: #008000; text-decoration-color: #008000; font-weight: bold\">16</span><span style=\"color: #008000; text-decoration-color: #008000; font-weight: bold\"> finished.</span> <span style=\"color: #000080; text-decoration-color: #000080\">test_avg_return_pct</span> = <span style=\"color: #008080; text-decoration-color: #008080; font-weight: bold\">-88.6232</span> ✓\n",
       "</pre>\n"
      ],
      "text/plain": [
       "\u001b[1;32mTrial \u001b[0m\u001b[1;32m16\u001b[0m\u001b[1;32m finished.\u001b[0m \u001b[34mtest_avg_return_pct\u001b[0m = \u001b[1;36m-88.6232\u001b[0m ✓\n"
      ]
     },
     "metadata": {},
     "output_type": "display_data"
    },
    {
     "name": "stderr",
     "output_type": "stream",
     "text": [
      "[I 2025-08-04 23:01:32,078] Trial 16 finished with value: -88.62322235107422 and parameters: {'learning_rate': 0.0009488847836753405, 'batch_size': 256, 'gamma': 0.9670296862598182, 'tau': 0.09254593878602649, 'train_freq': 4, 'gradient_steps': 8, 'target_update_interval': 1}. Best is trial 11 with value: 33.12828063964844.\n"
     ]
    },
    {
     "data": {
      "text/html": [
       "<pre style=\"white-space:pre;overflow-x:auto;line-height:normal;font-family:Menlo,'DejaVu Sans Mono',consolas,'Courier New',monospace\"><span style=\"color: #008080; text-decoration-color: #008080; font-weight: bold\">Starting Trial </span><span style=\"color: #008080; text-decoration-color: #008080; font-weight: bold\">17</span> with params: <span style=\"color: #808000; text-decoration-color: #808000; font-weight: bold\">{</span><span style=\"color: #808000; text-decoration-color: #808000\">'learning_rate'</span><span style=\"color: #808000; text-decoration-color: #808000\">: </span><span style=\"color: #808000; text-decoration-color: #808000; font-weight: bold\">0.0002998541882170933</span><span style=\"color: #808000; text-decoration-color: #808000\">, </span><span style=\"color: #808000; text-decoration-color: #808000\">'batch_size'</span><span style=\"color: #808000; text-decoration-color: #808000\">: </span><span style=\"color: #808000; text-decoration-color: #808000; font-weight: bold\">256</span><span style=\"color: #808000; text-decoration-color: #808000\">, </span><span style=\"color: #808000; text-decoration-color: #808000\">'gamma'</span><span style=\"color: #808000; text-decoration-color: #808000\">: </span>\n",
       "<span style=\"color: #808000; text-decoration-color: #808000; font-weight: bold\">0.9055448775320112</span><span style=\"color: #808000; text-decoration-color: #808000\">, </span><span style=\"color: #808000; text-decoration-color: #808000\">'tau'</span><span style=\"color: #808000; text-decoration-color: #808000\">: </span><span style=\"color: #808000; text-decoration-color: #808000; font-weight: bold\">0.07176579021834961</span><span style=\"color: #808000; text-decoration-color: #808000\">, </span><span style=\"color: #808000; text-decoration-color: #808000\">'train_freq'</span><span style=\"color: #808000; text-decoration-color: #808000\">: </span><span style=\"color: #808000; text-decoration-color: #808000; font-weight: bold\">8</span><span style=\"color: #808000; text-decoration-color: #808000\">, </span><span style=\"color: #808000; text-decoration-color: #808000\">'gradient_steps'</span><span style=\"color: #808000; text-decoration-color: #808000\">: </span><span style=\"color: #808000; text-decoration-color: #808000; font-weight: bold\">1</span><span style=\"color: #808000; text-decoration-color: #808000\">, </span><span style=\"color: #808000; text-decoration-color: #808000\">'target_update_interval'</span><span style=\"color: #808000; text-decoration-color: #808000\">: </span><span style=\"color: #808000; text-decoration-color: #808000; font-weight: bold\">8</span><span style=\"color: #808000; text-decoration-color: #808000\">, </span>\n",
       "<span style=\"color: #808000; text-decoration-color: #808000\">'verbose'</span><span style=\"color: #808000; text-decoration-color: #808000\">: </span><span style=\"color: #808000; text-decoration-color: #808000; font-weight: bold\">0</span><span style=\"color: #808000; text-decoration-color: #808000; font-weight: bold\">}</span>\n",
       "</pre>\n"
      ],
      "text/plain": [
       "\u001b[1;36mStarting Trial \u001b[0m\u001b[1;36m17\u001b[0m with params: \u001b[1;33m{\u001b[0m\u001b[33m'learning_rate'\u001b[0m\u001b[33m: \u001b[0m\u001b[1;33m0.0002998541882170933\u001b[0m\u001b[33m, \u001b[0m\u001b[33m'batch_size'\u001b[0m\u001b[33m: \u001b[0m\u001b[1;33m256\u001b[0m\u001b[33m, \u001b[0m\u001b[33m'gamma'\u001b[0m\u001b[33m: \u001b[0m\n",
       "\u001b[1;33m0.9055448775320112\u001b[0m\u001b[33m, \u001b[0m\u001b[33m'tau'\u001b[0m\u001b[33m: \u001b[0m\u001b[1;33m0.07176579021834961\u001b[0m\u001b[33m, \u001b[0m\u001b[33m'train_freq'\u001b[0m\u001b[33m: \u001b[0m\u001b[1;33m8\u001b[0m\u001b[33m, \u001b[0m\u001b[33m'gradient_steps'\u001b[0m\u001b[33m: \u001b[0m\u001b[1;33m1\u001b[0m\u001b[33m, \u001b[0m\u001b[33m'target_update_interval'\u001b[0m\u001b[33m: \u001b[0m\u001b[1;33m8\u001b[0m\u001b[33m, \u001b[0m\n",
       "\u001b[33m'verbose'\u001b[0m\u001b[33m: \u001b[0m\u001b[1;33m0\u001b[0m\u001b[1;33m}\u001b[0m\n"
      ]
     },
     "metadata": {},
     "output_type": "display_data"
    },
    {
     "data": {
      "text/html": [
       "<pre style=\"white-space:pre;overflow-x:auto;line-height:normal;font-family:Menlo,'DejaVu Sans Mono',consolas,'Courier New',monospace\">\n",
       "<span style=\"color: #000080; text-decoration-color: #000080; font-weight: bold\">============================================================</span>\n",
       "</pre>\n"
      ],
      "text/plain": [
       "\n",
       "\u001b[1;34m============================================================\u001b[0m\n"
      ]
     },
     "metadata": {},
     "output_type": "display_data"
    },
    {
     "data": {
      "text/html": [
       "<pre style=\"white-space:pre;overflow-x:auto;line-height:normal;font-family:Menlo,'DejaVu Sans Mono',consolas,'Courier New',monospace\"><span style=\"color: #000080; text-decoration-color: #000080; font-weight: bold\">RUNNING SINGLE EXPERIMENT: SAC</span>\n",
       "</pre>\n"
      ],
      "text/plain": [
       "\u001b[1;34mRUNNING SINGLE EXPERIMENT: SAC\u001b[0m\n"
      ]
     },
     "metadata": {},
     "output_type": "display_data"
    },
    {
     "data": {
      "text/html": [
       "<pre style=\"white-space:pre;overflow-x:auto;line-height:normal;font-family:Menlo,'DejaVu Sans Mono',consolas,'Courier New',monospace\"><span style=\"color: #808000; text-decoration-color: #808000\">Using custom configuration with </span><span style=\"color: #808000; text-decoration-color: #808000; font-weight: bold\">8</span><span style=\"color: #808000; text-decoration-color: #808000\"> parameters</span>\n",
       "</pre>\n"
      ],
      "text/plain": [
       "\u001b[33mUsing custom configuration with \u001b[0m\u001b[1;33m8\u001b[0m\u001b[33m parameters\u001b[0m\n"
      ]
     },
     "metadata": {},
     "output_type": "display_data"
    },
    {
     "data": {
      "text/html": [
       "<pre style=\"white-space:pre;overflow-x:auto;line-height:normal;font-family:Menlo,'DejaVu Sans Mono',consolas,'Courier New',monospace\"><span style=\"color: #008080; text-decoration-color: #008080\">Custom params: </span><span style=\"color: #008080; text-decoration-color: #008080; font-weight: bold\">[</span><span style=\"color: #008080; text-decoration-color: #008080\">'learning_rate'</span><span style=\"color: #008080; text-decoration-color: #008080\">, </span><span style=\"color: #008080; text-decoration-color: #008080\">'batch_size'</span><span style=\"color: #008080; text-decoration-color: #008080\">, </span><span style=\"color: #008080; text-decoration-color: #008080\">'gamma'</span><span style=\"color: #008080; text-decoration-color: #008080\">, </span><span style=\"color: #008080; text-decoration-color: #008080\">'tau'</span><span style=\"color: #008080; text-decoration-color: #008080\">, </span><span style=\"color: #008080; text-decoration-color: #008080\">'train_freq'</span><span style=\"color: #008080; text-decoration-color: #008080\">, </span><span style=\"color: #008080; text-decoration-color: #008080\">'gradient_steps'</span><span style=\"color: #008080; text-decoration-color: #008080\">, </span>\n",
       "<span style=\"color: #008080; text-decoration-color: #008080\">'target_update_interval'</span><span style=\"color: #008080; text-decoration-color: #008080\">, </span><span style=\"color: #008080; text-decoration-color: #008080\">'verbose'</span><span style=\"color: #008080; text-decoration-color: #008080; font-weight: bold\">]</span>\n",
       "</pre>\n"
      ],
      "text/plain": [
       "\u001b[36mCustom params: \u001b[0m\u001b[1;36m[\u001b[0m\u001b[36m'learning_rate'\u001b[0m\u001b[36m, \u001b[0m\u001b[36m'batch_size'\u001b[0m\u001b[36m, \u001b[0m\u001b[36m'gamma'\u001b[0m\u001b[36m, \u001b[0m\u001b[36m'tau'\u001b[0m\u001b[36m, \u001b[0m\u001b[36m'train_freq'\u001b[0m\u001b[36m, \u001b[0m\u001b[36m'gradient_steps'\u001b[0m\u001b[36m, \u001b[0m\n",
       "\u001b[36m'target_update_interval'\u001b[0m\u001b[36m, \u001b[0m\u001b[36m'verbose'\u001b[0m\u001b[1;36m]\u001b[0m\n"
      ]
     },
     "metadata": {},
     "output_type": "display_data"
    },
    {
     "data": {
      "text/html": [
       "<pre style=\"white-space:pre;overflow-x:auto;line-height:normal;font-family:Menlo,'DejaVu Sans Mono',consolas,'Courier New',monospace\"><span style=\"color: #808000; text-decoration-color: #808000\">Timesteps: </span><span style=\"color: #808000; text-decoration-color: #808000; font-weight: bold\">50</span><span style=\"color: #808000; text-decoration-color: #808000\">,</span><span style=\"color: #808000; text-decoration-color: #808000; font-weight: bold\">000</span>\n",
       "</pre>\n"
      ],
      "text/plain": [
       "\u001b[33mTimesteps: \u001b[0m\u001b[1;33m50\u001b[0m\u001b[33m,\u001b[0m\u001b[1;33m000\u001b[0m\n"
      ]
     },
     "metadata": {},
     "output_type": "display_data"
    },
    {
     "data": {
      "text/html": [
       "<pre style=\"white-space:pre;overflow-x:auto;line-height:normal;font-family:Menlo,'DejaVu Sans Mono',consolas,'Courier New',monospace\"><span style=\"color: #000080; text-decoration-color: #000080; font-weight: bold\">============================================================</span>\n",
       "</pre>\n"
      ],
      "text/plain": [
       "\u001b[1;34m============================================================\u001b[0m\n"
      ]
     },
     "metadata": {},
     "output_type": "display_data"
    },
    {
     "data": {
      "text/html": [
       "<pre style=\"white-space:pre;overflow-x:auto;line-height:normal;font-family:Menlo,'DejaVu Sans Mono',consolas,'Courier New',monospace\"><span style=\"color: #00ff00; text-decoration-color: #00ff00\">────────────────────────────────────────────── </span><span style=\"color: #008000; text-decoration-color: #008000; font-weight: bold\">🔄 TRAINING PHASE 🔄</span><span style=\"color: #00ff00; text-decoration-color: #00ff00\"> ───────────────────────────────────────────────</span>\n",
       "</pre>\n"
      ],
      "text/plain": [
       "\u001b[92m────────────────────────────────────────────── \u001b[0m\u001b[1;32m🔄 TRAINING PHASE 🔄\u001b[0m\u001b[92m ───────────────────────────────────────────────\u001b[0m\n"
      ]
     },
     "metadata": {},
     "output_type": "display_data"
    },
    {
     "data": {
      "text/html": [
       "<pre style=\"white-space:pre;overflow-x:auto;line-height:normal;font-family:Menlo,'DejaVu Sans Mono',consolas,'Courier New',monospace\"><span style=\"color: #008000; text-decoration-color: #008000; font-weight: bold\">Starting model training...</span>\n",
       "</pre>\n"
      ],
      "text/plain": [
       "\u001b[1;32mStarting model training\u001b[0m\u001b[1;32m...\u001b[0m\n"
      ]
     },
     "metadata": {},
     "output_type": "display_data"
    },
    {
     "data": {
      "application/vnd.jupyter.widget-view+json": {
       "model_id": "5eb0e74680dc461e9c69465707a0f0b8",
       "version_major": 2,
       "version_minor": 0
      },
      "text/plain": [
       "Output()"
      ]
     },
     "metadata": {},
     "output_type": "display_data"
    },
    {
     "data": {
      "text/html": [
       "<pre style=\"white-space:pre;overflow-x:auto;line-height:normal;font-family:Menlo,'DejaVu Sans Mono',consolas,'Courier New',monospace\"></pre>\n"
      ],
      "text/plain": []
     },
     "metadata": {},
     "output_type": "display_data"
    },
    {
     "name": "stdout",
     "output_type": "stream",
     "text": [
      "SingleStockTradingEnv closed.\n",
      "SingleStockTradingEnv closed.\n",
      "SingleStockTradingEnv closed.\n",
      "SingleStockTradingEnv closed.\n"
     ]
    },
    {
     "data": {
      "text/html": [
       "<pre style=\"white-space:pre;overflow-x:auto;line-height:normal;font-family:Menlo,'DejaVu Sans Mono',consolas,'Courier New',monospace\"><span style=\"color: #00ff00; text-decoration-color: #00ff00\">───────────────────────────────────────────── </span><span style=\"color: #000080; text-decoration-color: #000080; font-weight: bold\">📊 EVALUATION PHASE 📊</span><span style=\"color: #00ff00; text-decoration-color: #00ff00\"> ──────────────────────────────────────────────</span>\n",
       "</pre>\n"
      ],
      "text/plain": [
       "\u001b[92m───────────────────────────────────────────── \u001b[0m\u001b[1;34m📊 EVALUATION PHASE 📊\u001b[0m\u001b[92m ──────────────────────────────────────────────\u001b[0m\n"
      ]
     },
     "metadata": {},
     "output_type": "display_data"
    },
    {
     "data": {
      "text/html": [
       "<pre style=\"white-space:pre;overflow-x:auto;line-height:normal;font-family:Menlo,'DejaVu Sans Mono',consolas,'Courier New',monospace\">\n",
       "<span style=\"color: #008000; text-decoration-color: #008000; font-weight: bold\">🔍 TRAIN EVALUATION:</span><span style=\"color: #008000; text-decoration-color: #008000\"> Running model on training dataset</span>\n",
       "</pre>\n"
      ],
      "text/plain": [
       "\n",
       "\u001b[1;32m🔍 TRAIN EVALUATION:\u001b[0m\u001b[32m Running model on training dataset\u001b[0m\n"
      ]
     },
     "metadata": {},
     "output_type": "display_data"
    },
    {
     "data": {
      "text/html": [
       "<pre style=\"white-space:pre;overflow-x:auto;line-height:normal;font-family:Menlo,'DejaVu Sans Mono',consolas,'Courier New',monospace\"><span style=\"color: #000080; text-decoration-color: #000080; font-weight: bold\">Evaluating </span><span style=\"color: #008000; text-decoration-color: #008000\">SAC</span><span style=\"color: #000080; text-decoration-color: #000080; font-weight: bold\"> model for </span><span style=\"color: #808000; text-decoration-color: #808000; font-weight: bold\">5</span><span style=\"color: #000080; text-decoration-color: #000080; font-weight: bold\"> episodes...</span>\n",
       "</pre>\n"
      ],
      "text/plain": [
       "\u001b[1;34mEvaluating \u001b[0m\u001b[32mSAC\u001b[0m\u001b[1;34m model for \u001b[0m\u001b[1;33m5\u001b[0m\u001b[1;34m episodes\u001b[0m\u001b[1;34m...\u001b[0m\n"
      ]
     },
     "metadata": {},
     "output_type": "display_data"
    },
    {
     "data": {
      "application/vnd.jupyter.widget-view+json": {
       "model_id": "db516f03b49748049bdb72911a2a38d8",
       "version_major": 2,
       "version_minor": 0
      },
      "text/plain": [
       "Output()"
      ]
     },
     "metadata": {},
     "output_type": "display_data"
    },
    {
     "data": {
      "text/html": [
       "<pre style=\"white-space:pre;overflow-x:auto;line-height:normal;font-family:Menlo,'DejaVu Sans Mono',consolas,'Courier New',monospace\"><span style=\"color: #808000; text-decoration-color: #808000\">--- Episode </span><span style=\"color: #808000; text-decoration-color: #808000; font-weight: bold\">1</span><span style=\"color: #808000; text-decoration-color: #808000\">/</span><span style=\"color: #808000; text-decoration-color: #808000; font-weight: bold\">5</span><span style=\"color: #808000; text-decoration-color: #808000\"> ---</span>\n",
       "</pre>\n"
      ],
      "text/plain": [
       "\u001b[33m--- Episode \u001b[0m\u001b[1;33m1\u001b[0m\u001b[33m/\u001b[0m\u001b[1;33m5\u001b[0m\u001b[33m ---\u001b[0m\n"
      ]
     },
     "metadata": {},
     "output_type": "display_data"
    },
    {
     "data": {
      "text/html": [
       "<pre style=\"white-space:pre;overflow-x:auto;line-height:normal;font-family:Menlo,'DejaVu Sans Mono',consolas,'Courier New',monospace\">  Step <span style=\"color: #008080; text-decoration-color: #008080; font-weight: bold\">0</span>: <span style=\"color: #008000; text-decoration-color: #008000\">✓</span> <span style=\"color: #800080; text-decoration-color: #800080\">LimitBuy</span>, 💰 <span style=\"color: #008080; text-decoration-color: #008080\">$</span><span style=\"color: #008080; text-decoration-color: #008080; font-weight: bold\">93.30</span>, 📊 <span style=\"color: #008000; text-decoration-color: #008000\">$</span><span style=\"color: #008000; text-decoration-color: #008000; font-weight: bold\">52817.56</span>, 🌟 <span style=\"color: #808000; text-decoration-color: #808000; font-weight: bold\">-0.4809</span>\n",
       "</pre>\n"
      ],
      "text/plain": [
       "  Step \u001b[1;36m0\u001b[0m: \u001b[32m✓\u001b[0m \u001b[35mLimitBuy\u001b[0m, 💰 \u001b[36m$\u001b[0m\u001b[1;36m93.30\u001b[0m, 📊 \u001b[32m$\u001b[0m\u001b[1;32m52817.56\u001b[0m, 🌟 \u001b[1;33m-0.4809\u001b[0m\n"
      ]
     },
     "metadata": {},
     "output_type": "display_data"
    },
    {
     "data": {
      "text/html": [
       "<pre style=\"white-space:pre;overflow-x:auto;line-height:normal;font-family:Menlo,'DejaVu Sans Mono',consolas,'Courier New',monospace\">  Step <span style=\"color: #008080; text-decoration-color: #008080; font-weight: bold\">50</span>: <span style=\"color: #008000; text-decoration-color: #008000\">✓</span> <span style=\"color: #800080; text-decoration-color: #800080\">LimitBuy</span>, 💰 <span style=\"color: #008080; text-decoration-color: #008080\">$</span><span style=\"color: #008080; text-decoration-color: #008080; font-weight: bold\">67.71</span>, 📊 <span style=\"color: #008000; text-decoration-color: #008000\">$</span><span style=\"color: #008000; text-decoration-color: #008000; font-weight: bold\">77639.55</span>, 🌟 <span style=\"color: #808000; text-decoration-color: #808000; font-weight: bold\">0.0162</span>\n",
       "</pre>\n"
      ],
      "text/plain": [
       "  Step \u001b[1;36m50\u001b[0m: \u001b[32m✓\u001b[0m \u001b[35mLimitBuy\u001b[0m, 💰 \u001b[36m$\u001b[0m\u001b[1;36m67.71\u001b[0m, 📊 \u001b[32m$\u001b[0m\u001b[1;32m77639.55\u001b[0m, 🌟 \u001b[1;33m0.0162\u001b[0m\n"
      ]
     },
     "metadata": {},
     "output_type": "display_data"
    },
    {
     "data": {
      "text/html": [
       "<pre style=\"white-space:pre;overflow-x:auto;line-height:normal;font-family:Menlo,'DejaVu Sans Mono',consolas,'Courier New',monospace\">  Step <span style=\"color: #008080; text-decoration-color: #008080; font-weight: bold\">100</span>: <span style=\"color: #008000; text-decoration-color: #008000\">✓</span> <span style=\"color: #800080; text-decoration-color: #800080\">LimitBuy</span>, 💰 <span style=\"color: #008080; text-decoration-color: #008080\">$</span><span style=\"color: #008080; text-decoration-color: #008080; font-weight: bold\">59.66</span>, 📊 <span style=\"color: #008000; text-decoration-color: #008000\">$</span><span style=\"color: #008000; text-decoration-color: #008000; font-weight: bold\">65042.98</span>, 🌟 <span style=\"color: #808000; text-decoration-color: #808000; font-weight: bold\">0.0175</span>\n",
       "</pre>\n"
      ],
      "text/plain": [
       "  Step \u001b[1;36m100\u001b[0m: \u001b[32m✓\u001b[0m \u001b[35mLimitBuy\u001b[0m, 💰 \u001b[36m$\u001b[0m\u001b[1;36m59.66\u001b[0m, 📊 \u001b[32m$\u001b[0m\u001b[1;32m65042.98\u001b[0m, 🌟 \u001b[1;33m0.0175\u001b[0m\n"
      ]
     },
     "metadata": {},
     "output_type": "display_data"
    },
    {
     "data": {
      "text/html": [
       "<pre style=\"white-space:pre;overflow-x:auto;line-height:normal;font-family:Menlo,'DejaVu Sans Mono',consolas,'Courier New',monospace\">  Step <span style=\"color: #008080; text-decoration-color: #008080; font-weight: bold\">150</span>: <span style=\"color: #008000; text-decoration-color: #008000\">✓</span> <span style=\"color: #800080; text-decoration-color: #800080\">LimitBuy</span>, 💰 <span style=\"color: #008080; text-decoration-color: #008080\">$</span><span style=\"color: #008080; text-decoration-color: #008080; font-weight: bold\">54.73</span>, 📊 <span style=\"color: #008000; text-decoration-color: #008000\">$</span><span style=\"color: #008000; text-decoration-color: #008000; font-weight: bold\">60215.80</span>, 🌟 <span style=\"color: #808000; text-decoration-color: #808000; font-weight: bold\">0.0193</span>\n",
       "</pre>\n"
      ],
      "text/plain": [
       "  Step \u001b[1;36m150\u001b[0m: \u001b[32m✓\u001b[0m \u001b[35mLimitBuy\u001b[0m, 💰 \u001b[36m$\u001b[0m\u001b[1;36m54.73\u001b[0m, 📊 \u001b[32m$\u001b[0m\u001b[1;32m60215.80\u001b[0m, 🌟 \u001b[1;33m0.0193\u001b[0m\n"
      ]
     },
     "metadata": {},
     "output_type": "display_data"
    },
    {
     "data": {
      "text/html": [
       "<pre style=\"white-space:pre;overflow-x:auto;line-height:normal;font-family:Menlo,'DejaVu Sans Mono',consolas,'Courier New',monospace\">  Step <span style=\"color: #008080; text-decoration-color: #008080; font-weight: bold\">200</span>: <span style=\"color: #008000; text-decoration-color: #008000\">✓</span> <span style=\"color: #800080; text-decoration-color: #800080\">LimitBuy</span>, 💰 <span style=\"color: #008080; text-decoration-color: #008080\">$</span><span style=\"color: #008080; text-decoration-color: #008080; font-weight: bold\">52.04</span>, 📊 <span style=\"color: #008000; text-decoration-color: #008000\">$</span><span style=\"color: #008000; text-decoration-color: #008000; font-weight: bold\">57259.50</span>, 🌟 <span style=\"color: #808000; text-decoration-color: #808000; font-weight: bold\">-0.0417</span>\n",
       "</pre>\n"
      ],
      "text/plain": [
       "  Step \u001b[1;36m200\u001b[0m: \u001b[32m✓\u001b[0m \u001b[35mLimitBuy\u001b[0m, 💰 \u001b[36m$\u001b[0m\u001b[1;36m52.04\u001b[0m, 📊 \u001b[32m$\u001b[0m\u001b[1;32m57259.50\u001b[0m, 🌟 \u001b[1;33m-0.0417\u001b[0m\n"
      ]
     },
     "metadata": {},
     "output_type": "display_data"
    },
    {
     "data": {
      "text/html": [
       "<pre style=\"white-space:pre;overflow-x:auto;line-height:normal;font-family:Menlo,'DejaVu Sans Mono',consolas,'Courier New',monospace\">  Step <span style=\"color: #008080; text-decoration-color: #008080; font-weight: bold\">250</span>: <span style=\"color: #008000; text-decoration-color: #008000\">✓</span> <span style=\"color: #800080; text-decoration-color: #800080\">LimitBuy</span>, 💰 <span style=\"color: #008080; text-decoration-color: #008080\">$</span><span style=\"color: #008080; text-decoration-color: #008080; font-weight: bold\">57.34</span>, 📊 <span style=\"color: #008000; text-decoration-color: #008000\">$</span><span style=\"color: #008000; text-decoration-color: #008000; font-weight: bold\">63084.20</span>, 🌟 <span style=\"color: #808000; text-decoration-color: #808000; font-weight: bold\">-0.0033</span>\n",
       "</pre>\n"
      ],
      "text/plain": [
       "  Step \u001b[1;36m250\u001b[0m: \u001b[32m✓\u001b[0m \u001b[35mLimitBuy\u001b[0m, 💰 \u001b[36m$\u001b[0m\u001b[1;36m57.34\u001b[0m, 📊 \u001b[32m$\u001b[0m\u001b[1;32m63084.20\u001b[0m, 🌟 \u001b[1;33m-0.0033\u001b[0m\n"
      ]
     },
     "metadata": {},
     "output_type": "display_data"
    },
    {
     "data": {
      "text/html": [
       "<pre style=\"white-space:pre;overflow-x:auto;line-height:normal;font-family:Menlo,'DejaVu Sans Mono',consolas,'Courier New',monospace\">  Step <span style=\"color: #008080; text-decoration-color: #008080; font-weight: bold\">300</span>: <span style=\"color: #008000; text-decoration-color: #008000\">✓</span> <span style=\"color: #800080; text-decoration-color: #800080\">LimitBuy</span>, 💰 <span style=\"color: #008080; text-decoration-color: #008080\">$</span><span style=\"color: #008080; text-decoration-color: #008080; font-weight: bold\">61.61</span>, 📊 <span style=\"color: #008000; text-decoration-color: #008000\">$</span><span style=\"color: #008000; text-decoration-color: #008000; font-weight: bold\">67776.93</span>, 🌟 <span style=\"color: #808000; text-decoration-color: #808000; font-weight: bold\">0.0320</span>\n",
       "</pre>\n"
      ],
      "text/plain": [
       "  Step \u001b[1;36m300\u001b[0m: \u001b[32m✓\u001b[0m \u001b[35mLimitBuy\u001b[0m, 💰 \u001b[36m$\u001b[0m\u001b[1;36m61.61\u001b[0m, 📊 \u001b[32m$\u001b[0m\u001b[1;32m67776.93\u001b[0m, 🌟 \u001b[1;33m0.0320\u001b[0m\n"
      ]
     },
     "metadata": {},
     "output_type": "display_data"
    },
    {
     "data": {
      "text/html": [
       "<pre style=\"white-space:pre;overflow-x:auto;line-height:normal;font-family:Menlo,'DejaVu Sans Mono',consolas,'Courier New',monospace\">  Step <span style=\"color: #008080; text-decoration-color: #008080; font-weight: bold\">350</span>: <span style=\"color: #008000; text-decoration-color: #008000\">✓</span> <span style=\"color: #800080; text-decoration-color: #800080\">LimitBuy</span>, 💰 <span style=\"color: #008080; text-decoration-color: #008080\">$</span><span style=\"color: #008080; text-decoration-color: #008080; font-weight: bold\">65.68</span>, 📊 <span style=\"color: #008000; text-decoration-color: #008000\">$</span><span style=\"color: #008000; text-decoration-color: #008000; font-weight: bold\">72249.86</span>, 🌟 <span style=\"color: #808000; text-decoration-color: #808000; font-weight: bold\">0.0081</span>\n",
       "</pre>\n"
      ],
      "text/plain": [
       "  Step \u001b[1;36m350\u001b[0m: \u001b[32m✓\u001b[0m \u001b[35mLimitBuy\u001b[0m, 💰 \u001b[36m$\u001b[0m\u001b[1;36m65.68\u001b[0m, 📊 \u001b[32m$\u001b[0m\u001b[1;32m72249.86\u001b[0m, 🌟 \u001b[1;33m0.0081\u001b[0m\n"
      ]
     },
     "metadata": {},
     "output_type": "display_data"
    },
    {
     "data": {
      "text/html": [
       "<pre style=\"white-space:pre;overflow-x:auto;line-height:normal;font-family:Menlo,'DejaVu Sans Mono',consolas,'Courier New',monospace\">  Step <span style=\"color: #008080; text-decoration-color: #008080; font-weight: bold\">400</span>: <span style=\"color: #008000; text-decoration-color: #008000\">✓</span> <span style=\"color: #800080; text-decoration-color: #800080\">LimitBuy</span>, 💰 <span style=\"color: #008080; text-decoration-color: #008080\">$</span><span style=\"color: #008080; text-decoration-color: #008080; font-weight: bold\">68.11</span>, 📊 <span style=\"color: #008000; text-decoration-color: #008000\">$</span><span style=\"color: #008000; text-decoration-color: #008000; font-weight: bold\">73357.54</span>, 🌟 <span style=\"color: #808000; text-decoration-color: #808000; font-weight: bold\">0.0082</span>\n",
       "</pre>\n"
      ],
      "text/plain": [
       "  Step \u001b[1;36m400\u001b[0m: \u001b[32m✓\u001b[0m \u001b[35mLimitBuy\u001b[0m, 💰 \u001b[36m$\u001b[0m\u001b[1;36m68.11\u001b[0m, 📊 \u001b[32m$\u001b[0m\u001b[1;32m73357.54\u001b[0m, 🌟 \u001b[1;33m0.0082\u001b[0m\n"
      ]
     },
     "metadata": {},
     "output_type": "display_data"
    },
    {
     "data": {
      "text/html": [
       "<pre style=\"white-space:pre;overflow-x:auto;line-height:normal;font-family:Menlo,'DejaVu Sans Mono',consolas,'Courier New',monospace\">  Step <span style=\"color: #008080; text-decoration-color: #008080; font-weight: bold\">450</span>: <span style=\"color: #008000; text-decoration-color: #008000\">✓</span> <span style=\"color: #800080; text-decoration-color: #800080\">LimitBuy</span>, 💰 <span style=\"color: #008080; text-decoration-color: #008080\">$</span><span style=\"color: #008080; text-decoration-color: #008080; font-weight: bold\">82.19</span>, 📊 <span style=\"color: #008000; text-decoration-color: #008000\">$</span><span style=\"color: #008000; text-decoration-color: #008000; font-weight: bold\">88964.62</span>, 🌟 <span style=\"color: #808000; text-decoration-color: #808000; font-weight: bold\">0.0350</span>\n",
       "</pre>\n"
      ],
      "text/plain": [
       "  Step \u001b[1;36m450\u001b[0m: \u001b[32m✓\u001b[0m \u001b[35mLimitBuy\u001b[0m, 💰 \u001b[36m$\u001b[0m\u001b[1;36m82.19\u001b[0m, 📊 \u001b[32m$\u001b[0m\u001b[1;32m88964.62\u001b[0m, 🌟 \u001b[1;33m0.0350\u001b[0m\n"
      ]
     },
     "metadata": {},
     "output_type": "display_data"
    },
    {
     "data": {
      "text/html": [
       "<pre style=\"white-space:pre;overflow-x:auto;line-height:normal;font-family:Menlo,'DejaVu Sans Mono',consolas,'Courier New',monospace\">  Step <span style=\"color: #008080; text-decoration-color: #008080; font-weight: bold\">500</span>: <span style=\"color: #008000; text-decoration-color: #008000\">✓</span> <span style=\"color: #800080; text-decoration-color: #800080\">LimitBuy</span>, 💰 <span style=\"color: #008080; text-decoration-color: #008080\">$</span><span style=\"color: #008080; text-decoration-color: #008080; font-weight: bold\">89.71</span>, 📊 <span style=\"color: #008000; text-decoration-color: #008000\">$</span><span style=\"color: #008000; text-decoration-color: #008000; font-weight: bold\">97093.73</span>, 🌟 <span style=\"color: #808000; text-decoration-color: #808000; font-weight: bold\">-0.0183</span>\n",
       "</pre>\n"
      ],
      "text/plain": [
       "  Step \u001b[1;36m500\u001b[0m: \u001b[32m✓\u001b[0m \u001b[35mLimitBuy\u001b[0m, 💰 \u001b[36m$\u001b[0m\u001b[1;36m89.71\u001b[0m, 📊 \u001b[32m$\u001b[0m\u001b[1;32m97093.73\u001b[0m, 🌟 \u001b[1;33m-0.0183\u001b[0m\n"
      ]
     },
     "metadata": {},
     "output_type": "display_data"
    },
    {
     "data": {
      "text/html": [
       "<pre style=\"white-space:pre;overflow-x:auto;line-height:normal;font-family:Menlo,'DejaVu Sans Mono',consolas,'Courier New',monospace\">  Step <span style=\"color: #008080; text-decoration-color: #008080; font-weight: bold\">550</span>: <span style=\"color: #008000; text-decoration-color: #008000\">✓</span> <span style=\"color: #800080; text-decoration-color: #800080\">LimitBuy</span>, 💰 <span style=\"color: #008080; text-decoration-color: #008080\">$</span><span style=\"color: #008080; text-decoration-color: #008080; font-weight: bold\">117.81</span>, 📊 <span style=\"color: #008000; text-decoration-color: #008000\">$</span><span style=\"color: #008000; text-decoration-color: #008000; font-weight: bold\">111646.28</span>, 🌟 <span style=\"color: #808000; text-decoration-color: #808000; font-weight: bold\">-0.0076</span>\n",
       "</pre>\n"
      ],
      "text/plain": [
       "  Step \u001b[1;36m550\u001b[0m: \u001b[32m✓\u001b[0m \u001b[35mLimitBuy\u001b[0m, 💰 \u001b[36m$\u001b[0m\u001b[1;36m117.81\u001b[0m, 📊 \u001b[32m$\u001b[0m\u001b[1;32m111646.28\u001b[0m, 🌟 \u001b[1;33m-0.0076\u001b[0m\n"
      ]
     },
     "metadata": {},
     "output_type": "display_data"
    },
    {
     "data": {
      "text/html": [
       "<pre style=\"white-space:pre;overflow-x:auto;line-height:normal;font-family:Menlo,'DejaVu Sans Mono',consolas,'Courier New',monospace\">  Step <span style=\"color: #008080; text-decoration-color: #008080; font-weight: bold\">600</span>: <span style=\"color: #008000; text-decoration-color: #008000\">✓</span> <span style=\"color: #800080; text-decoration-color: #800080\">LimitBuy</span>, 💰 <span style=\"color: #008080; text-decoration-color: #008080\">$</span><span style=\"color: #008080; text-decoration-color: #008080; font-weight: bold\">114.25</span>, 📊 <span style=\"color: #008000; text-decoration-color: #008000\">$</span><span style=\"color: #008000; text-decoration-color: #008000; font-weight: bold\">108278.52</span>, 🌟 <span style=\"color: #808000; text-decoration-color: #808000; font-weight: bold\">-0.0039</span>\n",
       "</pre>\n"
      ],
      "text/plain": [
       "  Step \u001b[1;36m600\u001b[0m: \u001b[32m✓\u001b[0m \u001b[35mLimitBuy\u001b[0m, 💰 \u001b[36m$\u001b[0m\u001b[1;36m114.25\u001b[0m, 📊 \u001b[32m$\u001b[0m\u001b[1;32m108278.52\u001b[0m, 🌟 \u001b[1;33m-0.0039\u001b[0m\n"
      ]
     },
     "metadata": {},
     "output_type": "display_data"
    },
    {
     "data": {
      "text/html": [
       "<pre style=\"white-space:pre;overflow-x:auto;line-height:normal;font-family:Menlo,'DejaVu Sans Mono',consolas,'Courier New',monospace\">  Step <span style=\"color: #008080; text-decoration-color: #008080; font-weight: bold\">650</span>: <span style=\"color: #008000; text-decoration-color: #008000\">✓</span> <span style=\"color: #800080; text-decoration-color: #800080\">LimitBuy</span>, 💰 <span style=\"color: #008080; text-decoration-color: #008080\">$</span><span style=\"color: #008080; text-decoration-color: #008080; font-weight: bold\">99.85</span>, 📊 <span style=\"color: #008000; text-decoration-color: #008000\">$</span><span style=\"color: #008000; text-decoration-color: #008000; font-weight: bold\">94666.12</span>, 🌟 <span style=\"color: #808000; text-decoration-color: #808000; font-weight: bold\">0.0004</span>\n",
       "</pre>\n"
      ],
      "text/plain": [
       "  Step \u001b[1;36m650\u001b[0m: \u001b[32m✓\u001b[0m \u001b[35mLimitBuy\u001b[0m, 💰 \u001b[36m$\u001b[0m\u001b[1;36m99.85\u001b[0m, 📊 \u001b[32m$\u001b[0m\u001b[1;32m94666.12\u001b[0m, 🌟 \u001b[1;33m0.0004\u001b[0m\n"
      ]
     },
     "metadata": {},
     "output_type": "display_data"
    },
    {
     "data": {
      "text/html": [
       "<pre style=\"white-space:pre;overflow-x:auto;line-height:normal;font-family:Menlo,'DejaVu Sans Mono',consolas,'Courier New',monospace\"><span style=\"color: #008000; text-decoration-color: #008000; font-weight: bold\">Episode </span><span style=\"color: #008000; text-decoration-color: #008000; font-weight: bold\">1</span><span style=\"color: #008000; text-decoration-color: #008000; font-weight: bold\"> Results:</span>\n",
       "</pre>\n"
      ],
      "text/plain": [
       "\u001b[1;32mEpisode \u001b[0m\u001b[1;32m1\u001b[0m\u001b[1;32m Results:\u001b[0m\n"
      ]
     },
     "metadata": {},
     "output_type": "display_data"
    },
    {
     "data": {
      "text/html": [
       "<pre style=\"white-space:pre;overflow-x:auto;line-height:normal;font-family:Menlo,'DejaVu Sans Mono',consolas,'Courier New',monospace\">  Total Steps: <span style=\"color: #008080; text-decoration-color: #008080; font-weight: bold\">680</span>\n",
       "</pre>\n"
      ],
      "text/plain": [
       "  Total Steps: \u001b[1;36m680\u001b[0m\n"
      ]
     },
     "metadata": {},
     "output_type": "display_data"
    },
    {
     "data": {
      "text/html": [
       "<pre style=\"white-space:pre;overflow-x:auto;line-height:normal;font-family:Menlo,'DejaVu Sans Mono',consolas,'Courier New',monospace\">  Initial Portfolio Value: <span style=\"color: #008000; text-decoration-color: #008000\">$</span><span style=\"color: #008000; text-decoration-color: #008000; font-weight: bold\">100000.00</span>\n",
       "</pre>\n"
      ],
      "text/plain": [
       "  Initial Portfolio Value: \u001b[32m$\u001b[0m\u001b[1;32m100000.00\u001b[0m\n"
      ]
     },
     "metadata": {},
     "output_type": "display_data"
    },
    {
     "data": {
      "text/html": [
       "<pre style=\"white-space:pre;overflow-x:auto;line-height:normal;font-family:Menlo,'DejaVu Sans Mono',consolas,'Courier New',monospace\">  Final Portfolio Value: <span style=\"color: #008000; text-decoration-color: #008000\">$</span><span style=\"color: #008000; text-decoration-color: #008000; font-weight: bold\">98690.87</span>\n",
       "</pre>\n"
      ],
      "text/plain": [
       "  Final Portfolio Value: \u001b[32m$\u001b[0m\u001b[1;32m98690.87\u001b[0m\n"
      ]
     },
     "metadata": {},
     "output_type": "display_data"
    },
    {
     "data": {
      "text/html": [
       "<pre style=\"white-space:pre;overflow-x:auto;line-height:normal;font-family:Menlo,'DejaVu Sans Mono',consolas,'Courier New',monospace\">  Total Return: <span style=\"color: #800000; text-decoration-color: #800000; font-weight: bold\">-1.31</span><span style=\"color: #800000; text-decoration-color: #800000\">%</span>\n",
       "</pre>\n"
      ],
      "text/plain": [
       "  Total Return: \u001b[1;31m-1.31\u001b[0m\u001b[31m%\u001b[0m\n"
      ]
     },
     "metadata": {},
     "output_type": "display_data"
    },
    {
     "data": {
      "text/html": [
       "<pre style=\"white-space:pre;overflow-x:auto;line-height:normal;font-family:Menlo,'DejaVu Sans Mono',consolas,'Courier New',monospace\">  Total Reward: <span style=\"color: #808000; text-decoration-color: #808000; font-weight: bold\">5.68</span>\n",
       "</pre>\n"
      ],
      "text/plain": [
       "  Total Reward: \u001b[1;33m5.68\u001b[0m\n"
      ]
     },
     "metadata": {},
     "output_type": "display_data"
    },
    {
     "data": {
      "text/html": [
       "<pre style=\"white-space:pre;overflow-x:auto;line-height:normal;font-family:Menlo,'DejaVu Sans Mono',consolas,'Courier New',monospace\"><span style=\"font-style: italic\">       Action Distribution        </span>\n",
       "┏━━━━━━━━━━━┳━━━━━━━┳━━━━━━━━━━━━┓\n",
       "┃<span style=\"font-weight: bold\"> Action    </span>┃<span style=\"font-weight: bold\"> Count </span>┃<span style=\"font-weight: bold\"> Percentage </span>┃\n",
       "┡━━━━━━━━━━━╇━━━━━━━╇━━━━━━━━━━━━┩\n",
       "│<span style=\"color: #008080; text-decoration-color: #008080\"> LimitBuy  </span>│<span style=\"color: #008000; text-decoration-color: #008000\">   672 </span>│<span style=\"color: #808000; text-decoration-color: #808000\">      98.8% </span>│\n",
       "│<span style=\"color: #008080; text-decoration-color: #008080\"> LimitSell </span>│<span style=\"color: #008000; text-decoration-color: #008000\">     3 </span>│<span style=\"color: #808000; text-decoration-color: #808000\">       0.4% </span>│\n",
       "│<span style=\"color: #008080; text-decoration-color: #008080\"> Sell      </span>│<span style=\"color: #008000; text-decoration-color: #008000\">     4 </span>│<span style=\"color: #808000; text-decoration-color: #808000\">       0.6% </span>│\n",
       "│<span style=\"color: #008080; text-decoration-color: #008080\"> Hold      </span>│<span style=\"color: #008000; text-decoration-color: #008000\">     1 </span>│<span style=\"color: #808000; text-decoration-color: #808000\">       0.1% </span>│\n",
       "└───────────┴───────┴────────────┘\n",
       "</pre>\n"
      ],
      "text/plain": [
       "\u001b[3m       Action Distribution        \u001b[0m\n",
       "┏━━━━━━━━━━━┳━━━━━━━┳━━━━━━━━━━━━┓\n",
       "┃\u001b[1m \u001b[0m\u001b[1mAction   \u001b[0m\u001b[1m \u001b[0m┃\u001b[1m \u001b[0m\u001b[1mCount\u001b[0m\u001b[1m \u001b[0m┃\u001b[1m \u001b[0m\u001b[1mPercentage\u001b[0m\u001b[1m \u001b[0m┃\n",
       "┡━━━━━━━━━━━╇━━━━━━━╇━━━━━━━━━━━━┩\n",
       "│\u001b[36m \u001b[0m\u001b[36mLimitBuy \u001b[0m\u001b[36m \u001b[0m│\u001b[32m \u001b[0m\u001b[32m  672\u001b[0m\u001b[32m \u001b[0m│\u001b[33m \u001b[0m\u001b[33m     98.8%\u001b[0m\u001b[33m \u001b[0m│\n",
       "│\u001b[36m \u001b[0m\u001b[36mLimitSell\u001b[0m\u001b[36m \u001b[0m│\u001b[32m \u001b[0m\u001b[32m    3\u001b[0m\u001b[32m \u001b[0m│\u001b[33m \u001b[0m\u001b[33m      0.4%\u001b[0m\u001b[33m \u001b[0m│\n",
       "│\u001b[36m \u001b[0m\u001b[36mSell     \u001b[0m\u001b[36m \u001b[0m│\u001b[32m \u001b[0m\u001b[32m    4\u001b[0m\u001b[32m \u001b[0m│\u001b[33m \u001b[0m\u001b[33m      0.6%\u001b[0m\u001b[33m \u001b[0m│\n",
       "│\u001b[36m \u001b[0m\u001b[36mHold     \u001b[0m\u001b[36m \u001b[0m│\u001b[32m \u001b[0m\u001b[32m    1\u001b[0m\u001b[32m \u001b[0m│\u001b[33m \u001b[0m\u001b[33m      0.1%\u001b[0m\u001b[33m \u001b[0m│\n",
       "└───────────┴───────┴────────────┘\n"
      ]
     },
     "metadata": {},
     "output_type": "display_data"
    },
    {
     "data": {
      "text/html": [
       "<pre style=\"white-space:pre;overflow-x:auto;line-height:normal;font-family:Menlo,'DejaVu Sans Mono',consolas,'Courier New',monospace\"><span style=\"color: #808000; text-decoration-color: #808000\">--- Episode </span><span style=\"color: #808000; text-decoration-color: #808000; font-weight: bold\">2</span><span style=\"color: #808000; text-decoration-color: #808000\">/</span><span style=\"color: #808000; text-decoration-color: #808000; font-weight: bold\">5</span><span style=\"color: #808000; text-decoration-color: #808000\"> ---</span>\n",
       "</pre>\n"
      ],
      "text/plain": [
       "\u001b[33m--- Episode \u001b[0m\u001b[1;33m2\u001b[0m\u001b[33m/\u001b[0m\u001b[1;33m5\u001b[0m\u001b[33m ---\u001b[0m\n"
      ]
     },
     "metadata": {},
     "output_type": "display_data"
    },
    {
     "data": {
      "text/html": [
       "<pre style=\"white-space:pre;overflow-x:auto;line-height:normal;font-family:Menlo,'DejaVu Sans Mono',consolas,'Courier New',monospace\">  Step <span style=\"color: #008080; text-decoration-color: #008080; font-weight: bold\">0</span>: <span style=\"color: #008000; text-decoration-color: #008000\">✓</span> <span style=\"color: #800080; text-decoration-color: #800080\">LimitBuy</span>, 💰 <span style=\"color: #008080; text-decoration-color: #008080\">$</span><span style=\"color: #008080; text-decoration-color: #008080; font-weight: bold\">93.30</span>, 📊 <span style=\"color: #008000; text-decoration-color: #008000\">$</span><span style=\"color: #008000; text-decoration-color: #008000; font-weight: bold\">52817.56</span>, 🌟 <span style=\"color: #808000; text-decoration-color: #808000; font-weight: bold\">-0.4809</span>\n",
       "</pre>\n"
      ],
      "text/plain": [
       "  Step \u001b[1;36m0\u001b[0m: \u001b[32m✓\u001b[0m \u001b[35mLimitBuy\u001b[0m, 💰 \u001b[36m$\u001b[0m\u001b[1;36m93.30\u001b[0m, 📊 \u001b[32m$\u001b[0m\u001b[1;32m52817.56\u001b[0m, 🌟 \u001b[1;33m-0.4809\u001b[0m\n"
      ]
     },
     "metadata": {},
     "output_type": "display_data"
    },
    {
     "data": {
      "text/html": [
       "<pre style=\"white-space:pre;overflow-x:auto;line-height:normal;font-family:Menlo,'DejaVu Sans Mono',consolas,'Courier New',monospace\">  Step <span style=\"color: #008080; text-decoration-color: #008080; font-weight: bold\">50</span>: <span style=\"color: #008000; text-decoration-color: #008000\">✓</span> <span style=\"color: #800080; text-decoration-color: #800080\">LimitBuy</span>, 💰 <span style=\"color: #008080; text-decoration-color: #008080\">$</span><span style=\"color: #008080; text-decoration-color: #008080; font-weight: bold\">67.71</span>, 📊 <span style=\"color: #008000; text-decoration-color: #008000\">$</span><span style=\"color: #008000; text-decoration-color: #008000; font-weight: bold\">77639.55</span>, 🌟 <span style=\"color: #808000; text-decoration-color: #808000; font-weight: bold\">0.0162</span>\n",
       "</pre>\n"
      ],
      "text/plain": [
       "  Step \u001b[1;36m50\u001b[0m: \u001b[32m✓\u001b[0m \u001b[35mLimitBuy\u001b[0m, 💰 \u001b[36m$\u001b[0m\u001b[1;36m67.71\u001b[0m, 📊 \u001b[32m$\u001b[0m\u001b[1;32m77639.55\u001b[0m, 🌟 \u001b[1;33m0.0162\u001b[0m\n"
      ]
     },
     "metadata": {},
     "output_type": "display_data"
    },
    {
     "data": {
      "text/html": [
       "<pre style=\"white-space:pre;overflow-x:auto;line-height:normal;font-family:Menlo,'DejaVu Sans Mono',consolas,'Courier New',monospace\">  Step <span style=\"color: #008080; text-decoration-color: #008080; font-weight: bold\">100</span>: <span style=\"color: #008000; text-decoration-color: #008000\">✓</span> <span style=\"color: #800080; text-decoration-color: #800080\">LimitBuy</span>, 💰 <span style=\"color: #008080; text-decoration-color: #008080\">$</span><span style=\"color: #008080; text-decoration-color: #008080; font-weight: bold\">59.66</span>, 📊 <span style=\"color: #008000; text-decoration-color: #008000\">$</span><span style=\"color: #008000; text-decoration-color: #008000; font-weight: bold\">65042.98</span>, 🌟 <span style=\"color: #808000; text-decoration-color: #808000; font-weight: bold\">0.0175</span>\n",
       "</pre>\n"
      ],
      "text/plain": [
       "  Step \u001b[1;36m100\u001b[0m: \u001b[32m✓\u001b[0m \u001b[35mLimitBuy\u001b[0m, 💰 \u001b[36m$\u001b[0m\u001b[1;36m59.66\u001b[0m, 📊 \u001b[32m$\u001b[0m\u001b[1;32m65042.98\u001b[0m, 🌟 \u001b[1;33m0.0175\u001b[0m\n"
      ]
     },
     "metadata": {},
     "output_type": "display_data"
    },
    {
     "data": {
      "text/html": [
       "<pre style=\"white-space:pre;overflow-x:auto;line-height:normal;font-family:Menlo,'DejaVu Sans Mono',consolas,'Courier New',monospace\">  Step <span style=\"color: #008080; text-decoration-color: #008080; font-weight: bold\">150</span>: <span style=\"color: #008000; text-decoration-color: #008000\">✓</span> <span style=\"color: #800080; text-decoration-color: #800080\">LimitBuy</span>, 💰 <span style=\"color: #008080; text-decoration-color: #008080\">$</span><span style=\"color: #008080; text-decoration-color: #008080; font-weight: bold\">54.73</span>, 📊 <span style=\"color: #008000; text-decoration-color: #008000\">$</span><span style=\"color: #008000; text-decoration-color: #008000; font-weight: bold\">60215.80</span>, 🌟 <span style=\"color: #808000; text-decoration-color: #808000; font-weight: bold\">0.0193</span>\n",
       "</pre>\n"
      ],
      "text/plain": [
       "  Step \u001b[1;36m150\u001b[0m: \u001b[32m✓\u001b[0m \u001b[35mLimitBuy\u001b[0m, 💰 \u001b[36m$\u001b[0m\u001b[1;36m54.73\u001b[0m, 📊 \u001b[32m$\u001b[0m\u001b[1;32m60215.80\u001b[0m, 🌟 \u001b[1;33m0.0193\u001b[0m\n"
      ]
     },
     "metadata": {},
     "output_type": "display_data"
    },
    {
     "data": {
      "text/html": [
       "<pre style=\"white-space:pre;overflow-x:auto;line-height:normal;font-family:Menlo,'DejaVu Sans Mono',consolas,'Courier New',monospace\">  Step <span style=\"color: #008080; text-decoration-color: #008080; font-weight: bold\">200</span>: <span style=\"color: #008000; text-decoration-color: #008000\">✓</span> <span style=\"color: #800080; text-decoration-color: #800080\">LimitBuy</span>, 💰 <span style=\"color: #008080; text-decoration-color: #008080\">$</span><span style=\"color: #008080; text-decoration-color: #008080; font-weight: bold\">52.04</span>, 📊 <span style=\"color: #008000; text-decoration-color: #008000\">$</span><span style=\"color: #008000; text-decoration-color: #008000; font-weight: bold\">57259.50</span>, 🌟 <span style=\"color: #808000; text-decoration-color: #808000; font-weight: bold\">-0.0417</span>\n",
       "</pre>\n"
      ],
      "text/plain": [
       "  Step \u001b[1;36m200\u001b[0m: \u001b[32m✓\u001b[0m \u001b[35mLimitBuy\u001b[0m, 💰 \u001b[36m$\u001b[0m\u001b[1;36m52.04\u001b[0m, 📊 \u001b[32m$\u001b[0m\u001b[1;32m57259.50\u001b[0m, 🌟 \u001b[1;33m-0.0417\u001b[0m\n"
      ]
     },
     "metadata": {},
     "output_type": "display_data"
    },
    {
     "data": {
      "text/html": [
       "<pre style=\"white-space:pre;overflow-x:auto;line-height:normal;font-family:Menlo,'DejaVu Sans Mono',consolas,'Courier New',monospace\">  Step <span style=\"color: #008080; text-decoration-color: #008080; font-weight: bold\">250</span>: <span style=\"color: #008000; text-decoration-color: #008000\">✓</span> <span style=\"color: #800080; text-decoration-color: #800080\">LimitBuy</span>, 💰 <span style=\"color: #008080; text-decoration-color: #008080\">$</span><span style=\"color: #008080; text-decoration-color: #008080; font-weight: bold\">57.34</span>, 📊 <span style=\"color: #008000; text-decoration-color: #008000\">$</span><span style=\"color: #008000; text-decoration-color: #008000; font-weight: bold\">63084.20</span>, 🌟 <span style=\"color: #808000; text-decoration-color: #808000; font-weight: bold\">-0.0033</span>\n",
       "</pre>\n"
      ],
      "text/plain": [
       "  Step \u001b[1;36m250\u001b[0m: \u001b[32m✓\u001b[0m \u001b[35mLimitBuy\u001b[0m, 💰 \u001b[36m$\u001b[0m\u001b[1;36m57.34\u001b[0m, 📊 \u001b[32m$\u001b[0m\u001b[1;32m63084.20\u001b[0m, 🌟 \u001b[1;33m-0.0033\u001b[0m\n"
      ]
     },
     "metadata": {},
     "output_type": "display_data"
    },
    {
     "data": {
      "text/html": [
       "<pre style=\"white-space:pre;overflow-x:auto;line-height:normal;font-family:Menlo,'DejaVu Sans Mono',consolas,'Courier New',monospace\">  Step <span style=\"color: #008080; text-decoration-color: #008080; font-weight: bold\">300</span>: <span style=\"color: #008000; text-decoration-color: #008000\">✓</span> <span style=\"color: #800080; text-decoration-color: #800080\">LimitBuy</span>, 💰 <span style=\"color: #008080; text-decoration-color: #008080\">$</span><span style=\"color: #008080; text-decoration-color: #008080; font-weight: bold\">61.61</span>, 📊 <span style=\"color: #008000; text-decoration-color: #008000\">$</span><span style=\"color: #008000; text-decoration-color: #008000; font-weight: bold\">67776.93</span>, 🌟 <span style=\"color: #808000; text-decoration-color: #808000; font-weight: bold\">0.0320</span>\n",
       "</pre>\n"
      ],
      "text/plain": [
       "  Step \u001b[1;36m300\u001b[0m: \u001b[32m✓\u001b[0m \u001b[35mLimitBuy\u001b[0m, 💰 \u001b[36m$\u001b[0m\u001b[1;36m61.61\u001b[0m, 📊 \u001b[32m$\u001b[0m\u001b[1;32m67776.93\u001b[0m, 🌟 \u001b[1;33m0.0320\u001b[0m\n"
      ]
     },
     "metadata": {},
     "output_type": "display_data"
    },
    {
     "data": {
      "text/html": [
       "<pre style=\"white-space:pre;overflow-x:auto;line-height:normal;font-family:Menlo,'DejaVu Sans Mono',consolas,'Courier New',monospace\">  Step <span style=\"color: #008080; text-decoration-color: #008080; font-weight: bold\">350</span>: <span style=\"color: #008000; text-decoration-color: #008000\">✓</span> <span style=\"color: #800080; text-decoration-color: #800080\">LimitBuy</span>, 💰 <span style=\"color: #008080; text-decoration-color: #008080\">$</span><span style=\"color: #008080; text-decoration-color: #008080; font-weight: bold\">65.68</span>, 📊 <span style=\"color: #008000; text-decoration-color: #008000\">$</span><span style=\"color: #008000; text-decoration-color: #008000; font-weight: bold\">72249.86</span>, 🌟 <span style=\"color: #808000; text-decoration-color: #808000; font-weight: bold\">0.0081</span>\n",
       "</pre>\n"
      ],
      "text/plain": [
       "  Step \u001b[1;36m350\u001b[0m: \u001b[32m✓\u001b[0m \u001b[35mLimitBuy\u001b[0m, 💰 \u001b[36m$\u001b[0m\u001b[1;36m65.68\u001b[0m, 📊 \u001b[32m$\u001b[0m\u001b[1;32m72249.86\u001b[0m, 🌟 \u001b[1;33m0.0081\u001b[0m\n"
      ]
     },
     "metadata": {},
     "output_type": "display_data"
    },
    {
     "data": {
      "text/html": [
       "<pre style=\"white-space:pre;overflow-x:auto;line-height:normal;font-family:Menlo,'DejaVu Sans Mono',consolas,'Courier New',monospace\">  Step <span style=\"color: #008080; text-decoration-color: #008080; font-weight: bold\">400</span>: <span style=\"color: #008000; text-decoration-color: #008000\">✓</span> <span style=\"color: #800080; text-decoration-color: #800080\">LimitBuy</span>, 💰 <span style=\"color: #008080; text-decoration-color: #008080\">$</span><span style=\"color: #008080; text-decoration-color: #008080; font-weight: bold\">68.11</span>, 📊 <span style=\"color: #008000; text-decoration-color: #008000\">$</span><span style=\"color: #008000; text-decoration-color: #008000; font-weight: bold\">73357.54</span>, 🌟 <span style=\"color: #808000; text-decoration-color: #808000; font-weight: bold\">0.0082</span>\n",
       "</pre>\n"
      ],
      "text/plain": [
       "  Step \u001b[1;36m400\u001b[0m: \u001b[32m✓\u001b[0m \u001b[35mLimitBuy\u001b[0m, 💰 \u001b[36m$\u001b[0m\u001b[1;36m68.11\u001b[0m, 📊 \u001b[32m$\u001b[0m\u001b[1;32m73357.54\u001b[0m, 🌟 \u001b[1;33m0.0082\u001b[0m\n"
      ]
     },
     "metadata": {},
     "output_type": "display_data"
    },
    {
     "data": {
      "text/html": [
       "<pre style=\"white-space:pre;overflow-x:auto;line-height:normal;font-family:Menlo,'DejaVu Sans Mono',consolas,'Courier New',monospace\">  Step <span style=\"color: #008080; text-decoration-color: #008080; font-weight: bold\">450</span>: <span style=\"color: #008000; text-decoration-color: #008000\">✓</span> <span style=\"color: #800080; text-decoration-color: #800080\">LimitBuy</span>, 💰 <span style=\"color: #008080; text-decoration-color: #008080\">$</span><span style=\"color: #008080; text-decoration-color: #008080; font-weight: bold\">82.19</span>, 📊 <span style=\"color: #008000; text-decoration-color: #008000\">$</span><span style=\"color: #008000; text-decoration-color: #008000; font-weight: bold\">88964.62</span>, 🌟 <span style=\"color: #808000; text-decoration-color: #808000; font-weight: bold\">0.0350</span>\n",
       "</pre>\n"
      ],
      "text/plain": [
       "  Step \u001b[1;36m450\u001b[0m: \u001b[32m✓\u001b[0m \u001b[35mLimitBuy\u001b[0m, 💰 \u001b[36m$\u001b[0m\u001b[1;36m82.19\u001b[0m, 📊 \u001b[32m$\u001b[0m\u001b[1;32m88964.62\u001b[0m, 🌟 \u001b[1;33m0.0350\u001b[0m\n"
      ]
     },
     "metadata": {},
     "output_type": "display_data"
    },
    {
     "data": {
      "text/html": [
       "<pre style=\"white-space:pre;overflow-x:auto;line-height:normal;font-family:Menlo,'DejaVu Sans Mono',consolas,'Courier New',monospace\">  Step <span style=\"color: #008080; text-decoration-color: #008080; font-weight: bold\">500</span>: <span style=\"color: #008000; text-decoration-color: #008000\">✓</span> <span style=\"color: #800080; text-decoration-color: #800080\">LimitBuy</span>, 💰 <span style=\"color: #008080; text-decoration-color: #008080\">$</span><span style=\"color: #008080; text-decoration-color: #008080; font-weight: bold\">89.71</span>, 📊 <span style=\"color: #008000; text-decoration-color: #008000\">$</span><span style=\"color: #008000; text-decoration-color: #008000; font-weight: bold\">97093.73</span>, 🌟 <span style=\"color: #808000; text-decoration-color: #808000; font-weight: bold\">-0.0183</span>\n",
       "</pre>\n"
      ],
      "text/plain": [
       "  Step \u001b[1;36m500\u001b[0m: \u001b[32m✓\u001b[0m \u001b[35mLimitBuy\u001b[0m, 💰 \u001b[36m$\u001b[0m\u001b[1;36m89.71\u001b[0m, 📊 \u001b[32m$\u001b[0m\u001b[1;32m97093.73\u001b[0m, 🌟 \u001b[1;33m-0.0183\u001b[0m\n"
      ]
     },
     "metadata": {},
     "output_type": "display_data"
    },
    {
     "data": {
      "text/html": [
       "<pre style=\"white-space:pre;overflow-x:auto;line-height:normal;font-family:Menlo,'DejaVu Sans Mono',consolas,'Courier New',monospace\">  Step <span style=\"color: #008080; text-decoration-color: #008080; font-weight: bold\">550</span>: <span style=\"color: #008000; text-decoration-color: #008000\">✓</span> <span style=\"color: #800080; text-decoration-color: #800080\">LimitBuy</span>, 💰 <span style=\"color: #008080; text-decoration-color: #008080\">$</span><span style=\"color: #008080; text-decoration-color: #008080; font-weight: bold\">117.81</span>, 📊 <span style=\"color: #008000; text-decoration-color: #008000\">$</span><span style=\"color: #008000; text-decoration-color: #008000; font-weight: bold\">111646.28</span>, 🌟 <span style=\"color: #808000; text-decoration-color: #808000; font-weight: bold\">-0.0076</span>\n",
       "</pre>\n"
      ],
      "text/plain": [
       "  Step \u001b[1;36m550\u001b[0m: \u001b[32m✓\u001b[0m \u001b[35mLimitBuy\u001b[0m, 💰 \u001b[36m$\u001b[0m\u001b[1;36m117.81\u001b[0m, 📊 \u001b[32m$\u001b[0m\u001b[1;32m111646.28\u001b[0m, 🌟 \u001b[1;33m-0.0076\u001b[0m\n"
      ]
     },
     "metadata": {},
     "output_type": "display_data"
    },
    {
     "data": {
      "text/html": [
       "<pre style=\"white-space:pre;overflow-x:auto;line-height:normal;font-family:Menlo,'DejaVu Sans Mono',consolas,'Courier New',monospace\">  Step <span style=\"color: #008080; text-decoration-color: #008080; font-weight: bold\">600</span>: <span style=\"color: #008000; text-decoration-color: #008000\">✓</span> <span style=\"color: #800080; text-decoration-color: #800080\">LimitBuy</span>, 💰 <span style=\"color: #008080; text-decoration-color: #008080\">$</span><span style=\"color: #008080; text-decoration-color: #008080; font-weight: bold\">114.25</span>, 📊 <span style=\"color: #008000; text-decoration-color: #008000\">$</span><span style=\"color: #008000; text-decoration-color: #008000; font-weight: bold\">108278.52</span>, 🌟 <span style=\"color: #808000; text-decoration-color: #808000; font-weight: bold\">-0.0039</span>\n",
       "</pre>\n"
      ],
      "text/plain": [
       "  Step \u001b[1;36m600\u001b[0m: \u001b[32m✓\u001b[0m \u001b[35mLimitBuy\u001b[0m, 💰 \u001b[36m$\u001b[0m\u001b[1;36m114.25\u001b[0m, 📊 \u001b[32m$\u001b[0m\u001b[1;32m108278.52\u001b[0m, 🌟 \u001b[1;33m-0.0039\u001b[0m\n"
      ]
     },
     "metadata": {},
     "output_type": "display_data"
    },
    {
     "data": {
      "text/html": [
       "<pre style=\"white-space:pre;overflow-x:auto;line-height:normal;font-family:Menlo,'DejaVu Sans Mono',consolas,'Courier New',monospace\">  Step <span style=\"color: #008080; text-decoration-color: #008080; font-weight: bold\">650</span>: <span style=\"color: #008000; text-decoration-color: #008000\">✓</span> <span style=\"color: #800080; text-decoration-color: #800080\">LimitBuy</span>, 💰 <span style=\"color: #008080; text-decoration-color: #008080\">$</span><span style=\"color: #008080; text-decoration-color: #008080; font-weight: bold\">99.85</span>, 📊 <span style=\"color: #008000; text-decoration-color: #008000\">$</span><span style=\"color: #008000; text-decoration-color: #008000; font-weight: bold\">94666.12</span>, 🌟 <span style=\"color: #808000; text-decoration-color: #808000; font-weight: bold\">0.0004</span>\n",
       "</pre>\n"
      ],
      "text/plain": [
       "  Step \u001b[1;36m650\u001b[0m: \u001b[32m✓\u001b[0m \u001b[35mLimitBuy\u001b[0m, 💰 \u001b[36m$\u001b[0m\u001b[1;36m99.85\u001b[0m, 📊 \u001b[32m$\u001b[0m\u001b[1;32m94666.12\u001b[0m, 🌟 \u001b[1;33m0.0004\u001b[0m\n"
      ]
     },
     "metadata": {},
     "output_type": "display_data"
    },
    {
     "data": {
      "text/html": [
       "<pre style=\"white-space:pre;overflow-x:auto;line-height:normal;font-family:Menlo,'DejaVu Sans Mono',consolas,'Courier New',monospace\"><span style=\"color: #008000; text-decoration-color: #008000; font-weight: bold\">Episode </span><span style=\"color: #008000; text-decoration-color: #008000; font-weight: bold\">2</span><span style=\"color: #008000; text-decoration-color: #008000; font-weight: bold\"> Results:</span>\n",
       "</pre>\n"
      ],
      "text/plain": [
       "\u001b[1;32mEpisode \u001b[0m\u001b[1;32m2\u001b[0m\u001b[1;32m Results:\u001b[0m\n"
      ]
     },
     "metadata": {},
     "output_type": "display_data"
    },
    {
     "data": {
      "text/html": [
       "<pre style=\"white-space:pre;overflow-x:auto;line-height:normal;font-family:Menlo,'DejaVu Sans Mono',consolas,'Courier New',monospace\">  Total Steps: <span style=\"color: #008080; text-decoration-color: #008080; font-weight: bold\">680</span>\n",
       "</pre>\n"
      ],
      "text/plain": [
       "  Total Steps: \u001b[1;36m680\u001b[0m\n"
      ]
     },
     "metadata": {},
     "output_type": "display_data"
    },
    {
     "data": {
      "text/html": [
       "<pre style=\"white-space:pre;overflow-x:auto;line-height:normal;font-family:Menlo,'DejaVu Sans Mono',consolas,'Courier New',monospace\">  Initial Portfolio Value: <span style=\"color: #008000; text-decoration-color: #008000\">$</span><span style=\"color: #008000; text-decoration-color: #008000; font-weight: bold\">100000.00</span>\n",
       "</pre>\n"
      ],
      "text/plain": [
       "  Initial Portfolio Value: \u001b[32m$\u001b[0m\u001b[1;32m100000.00\u001b[0m\n"
      ]
     },
     "metadata": {},
     "output_type": "display_data"
    },
    {
     "data": {
      "text/html": [
       "<pre style=\"white-space:pre;overflow-x:auto;line-height:normal;font-family:Menlo,'DejaVu Sans Mono',consolas,'Courier New',monospace\">  Final Portfolio Value: <span style=\"color: #008000; text-decoration-color: #008000\">$</span><span style=\"color: #008000; text-decoration-color: #008000; font-weight: bold\">98690.87</span>\n",
       "</pre>\n"
      ],
      "text/plain": [
       "  Final Portfolio Value: \u001b[32m$\u001b[0m\u001b[1;32m98690.87\u001b[0m\n"
      ]
     },
     "metadata": {},
     "output_type": "display_data"
    },
    {
     "data": {
      "text/html": [
       "<pre style=\"white-space:pre;overflow-x:auto;line-height:normal;font-family:Menlo,'DejaVu Sans Mono',consolas,'Courier New',monospace\">  Total Return: <span style=\"color: #800000; text-decoration-color: #800000; font-weight: bold\">-1.31</span><span style=\"color: #800000; text-decoration-color: #800000\">%</span>\n",
       "</pre>\n"
      ],
      "text/plain": [
       "  Total Return: \u001b[1;31m-1.31\u001b[0m\u001b[31m%\u001b[0m\n"
      ]
     },
     "metadata": {},
     "output_type": "display_data"
    },
    {
     "data": {
      "text/html": [
       "<pre style=\"white-space:pre;overflow-x:auto;line-height:normal;font-family:Menlo,'DejaVu Sans Mono',consolas,'Courier New',monospace\">  Total Reward: <span style=\"color: #808000; text-decoration-color: #808000; font-weight: bold\">5.68</span>\n",
       "</pre>\n"
      ],
      "text/plain": [
       "  Total Reward: \u001b[1;33m5.68\u001b[0m\n"
      ]
     },
     "metadata": {},
     "output_type": "display_data"
    },
    {
     "data": {
      "text/html": [
       "<pre style=\"white-space:pre;overflow-x:auto;line-height:normal;font-family:Menlo,'DejaVu Sans Mono',consolas,'Courier New',monospace\"><span style=\"font-style: italic\">       Action Distribution        </span>\n",
       "┏━━━━━━━━━━━┳━━━━━━━┳━━━━━━━━━━━━┓\n",
       "┃<span style=\"font-weight: bold\"> Action    </span>┃<span style=\"font-weight: bold\"> Count </span>┃<span style=\"font-weight: bold\"> Percentage </span>┃\n",
       "┡━━━━━━━━━━━╇━━━━━━━╇━━━━━━━━━━━━┩\n",
       "│<span style=\"color: #008080; text-decoration-color: #008080\"> LimitBuy  </span>│<span style=\"color: #008000; text-decoration-color: #008000\">   672 </span>│<span style=\"color: #808000; text-decoration-color: #808000\">      98.8% </span>│\n",
       "│<span style=\"color: #008080; text-decoration-color: #008080\"> LimitSell </span>│<span style=\"color: #008000; text-decoration-color: #008000\">     3 </span>│<span style=\"color: #808000; text-decoration-color: #808000\">       0.4% </span>│\n",
       "│<span style=\"color: #008080; text-decoration-color: #008080\"> Sell      </span>│<span style=\"color: #008000; text-decoration-color: #008000\">     4 </span>│<span style=\"color: #808000; text-decoration-color: #808000\">       0.6% </span>│\n",
       "│<span style=\"color: #008080; text-decoration-color: #008080\"> Hold      </span>│<span style=\"color: #008000; text-decoration-color: #008000\">     1 </span>│<span style=\"color: #808000; text-decoration-color: #808000\">       0.1% </span>│\n",
       "└───────────┴───────┴────────────┘\n",
       "</pre>\n"
      ],
      "text/plain": [
       "\u001b[3m       Action Distribution        \u001b[0m\n",
       "┏━━━━━━━━━━━┳━━━━━━━┳━━━━━━━━━━━━┓\n",
       "┃\u001b[1m \u001b[0m\u001b[1mAction   \u001b[0m\u001b[1m \u001b[0m┃\u001b[1m \u001b[0m\u001b[1mCount\u001b[0m\u001b[1m \u001b[0m┃\u001b[1m \u001b[0m\u001b[1mPercentage\u001b[0m\u001b[1m \u001b[0m┃\n",
       "┡━━━━━━━━━━━╇━━━━━━━╇━━━━━━━━━━━━┩\n",
       "│\u001b[36m \u001b[0m\u001b[36mLimitBuy \u001b[0m\u001b[36m \u001b[0m│\u001b[32m \u001b[0m\u001b[32m  672\u001b[0m\u001b[32m \u001b[0m│\u001b[33m \u001b[0m\u001b[33m     98.8%\u001b[0m\u001b[33m \u001b[0m│\n",
       "│\u001b[36m \u001b[0m\u001b[36mLimitSell\u001b[0m\u001b[36m \u001b[0m│\u001b[32m \u001b[0m\u001b[32m    3\u001b[0m\u001b[32m \u001b[0m│\u001b[33m \u001b[0m\u001b[33m      0.4%\u001b[0m\u001b[33m \u001b[0m│\n",
       "│\u001b[36m \u001b[0m\u001b[36mSell     \u001b[0m\u001b[36m \u001b[0m│\u001b[32m \u001b[0m\u001b[32m    4\u001b[0m\u001b[32m \u001b[0m│\u001b[33m \u001b[0m\u001b[33m      0.6%\u001b[0m\u001b[33m \u001b[0m│\n",
       "│\u001b[36m \u001b[0m\u001b[36mHold     \u001b[0m\u001b[36m \u001b[0m│\u001b[32m \u001b[0m\u001b[32m    1\u001b[0m\u001b[32m \u001b[0m│\u001b[33m \u001b[0m\u001b[33m      0.1%\u001b[0m\u001b[33m \u001b[0m│\n",
       "└───────────┴───────┴────────────┘\n"
      ]
     },
     "metadata": {},
     "output_type": "display_data"
    },
    {
     "data": {
      "text/html": [
       "<pre style=\"white-space:pre;overflow-x:auto;line-height:normal;font-family:Menlo,'DejaVu Sans Mono',consolas,'Courier New',monospace\"><span style=\"color: #808000; text-decoration-color: #808000\">--- Episode </span><span style=\"color: #808000; text-decoration-color: #808000; font-weight: bold\">3</span><span style=\"color: #808000; text-decoration-color: #808000\">/</span><span style=\"color: #808000; text-decoration-color: #808000; font-weight: bold\">5</span><span style=\"color: #808000; text-decoration-color: #808000\"> ---</span>\n",
       "</pre>\n"
      ],
      "text/plain": [
       "\u001b[33m--- Episode \u001b[0m\u001b[1;33m3\u001b[0m\u001b[33m/\u001b[0m\u001b[1;33m5\u001b[0m\u001b[33m ---\u001b[0m\n"
      ]
     },
     "metadata": {},
     "output_type": "display_data"
    },
    {
     "data": {
      "text/html": [
       "<pre style=\"white-space:pre;overflow-x:auto;line-height:normal;font-family:Menlo,'DejaVu Sans Mono',consolas,'Courier New',monospace\">  Step <span style=\"color: #008080; text-decoration-color: #008080; font-weight: bold\">0</span>: <span style=\"color: #008000; text-decoration-color: #008000\">✓</span> <span style=\"color: #800080; text-decoration-color: #800080\">LimitBuy</span>, 💰 <span style=\"color: #008080; text-decoration-color: #008080\">$</span><span style=\"color: #008080; text-decoration-color: #008080; font-weight: bold\">93.30</span>, 📊 <span style=\"color: #008000; text-decoration-color: #008000\">$</span><span style=\"color: #008000; text-decoration-color: #008000; font-weight: bold\">52817.56</span>, 🌟 <span style=\"color: #808000; text-decoration-color: #808000; font-weight: bold\">-0.4809</span>\n",
       "</pre>\n"
      ],
      "text/plain": [
       "  Step \u001b[1;36m0\u001b[0m: \u001b[32m✓\u001b[0m \u001b[35mLimitBuy\u001b[0m, 💰 \u001b[36m$\u001b[0m\u001b[1;36m93.30\u001b[0m, 📊 \u001b[32m$\u001b[0m\u001b[1;32m52817.56\u001b[0m, 🌟 \u001b[1;33m-0.4809\u001b[0m\n"
      ]
     },
     "metadata": {},
     "output_type": "display_data"
    },
    {
     "data": {
      "text/html": [
       "<pre style=\"white-space:pre;overflow-x:auto;line-height:normal;font-family:Menlo,'DejaVu Sans Mono',consolas,'Courier New',monospace\">  Step <span style=\"color: #008080; text-decoration-color: #008080; font-weight: bold\">50</span>: <span style=\"color: #008000; text-decoration-color: #008000\">✓</span> <span style=\"color: #800080; text-decoration-color: #800080\">LimitBuy</span>, 💰 <span style=\"color: #008080; text-decoration-color: #008080\">$</span><span style=\"color: #008080; text-decoration-color: #008080; font-weight: bold\">67.71</span>, 📊 <span style=\"color: #008000; text-decoration-color: #008000\">$</span><span style=\"color: #008000; text-decoration-color: #008000; font-weight: bold\">77639.55</span>, 🌟 <span style=\"color: #808000; text-decoration-color: #808000; font-weight: bold\">0.0162</span>\n",
       "</pre>\n"
      ],
      "text/plain": [
       "  Step \u001b[1;36m50\u001b[0m: \u001b[32m✓\u001b[0m \u001b[35mLimitBuy\u001b[0m, 💰 \u001b[36m$\u001b[0m\u001b[1;36m67.71\u001b[0m, 📊 \u001b[32m$\u001b[0m\u001b[1;32m77639.55\u001b[0m, 🌟 \u001b[1;33m0.0162\u001b[0m\n"
      ]
     },
     "metadata": {},
     "output_type": "display_data"
    },
    {
     "data": {
      "text/html": [
       "<pre style=\"white-space:pre;overflow-x:auto;line-height:normal;font-family:Menlo,'DejaVu Sans Mono',consolas,'Courier New',monospace\">  Step <span style=\"color: #008080; text-decoration-color: #008080; font-weight: bold\">100</span>: <span style=\"color: #008000; text-decoration-color: #008000\">✓</span> <span style=\"color: #800080; text-decoration-color: #800080\">LimitBuy</span>, 💰 <span style=\"color: #008080; text-decoration-color: #008080\">$</span><span style=\"color: #008080; text-decoration-color: #008080; font-weight: bold\">59.66</span>, 📊 <span style=\"color: #008000; text-decoration-color: #008000\">$</span><span style=\"color: #008000; text-decoration-color: #008000; font-weight: bold\">65042.98</span>, 🌟 <span style=\"color: #808000; text-decoration-color: #808000; font-weight: bold\">0.0175</span>\n",
       "</pre>\n"
      ],
      "text/plain": [
       "  Step \u001b[1;36m100\u001b[0m: \u001b[32m✓\u001b[0m \u001b[35mLimitBuy\u001b[0m, 💰 \u001b[36m$\u001b[0m\u001b[1;36m59.66\u001b[0m, 📊 \u001b[32m$\u001b[0m\u001b[1;32m65042.98\u001b[0m, 🌟 \u001b[1;33m0.0175\u001b[0m\n"
      ]
     },
     "metadata": {},
     "output_type": "display_data"
    },
    {
     "data": {
      "text/html": [
       "<pre style=\"white-space:pre;overflow-x:auto;line-height:normal;font-family:Menlo,'DejaVu Sans Mono',consolas,'Courier New',monospace\">  Step <span style=\"color: #008080; text-decoration-color: #008080; font-weight: bold\">150</span>: <span style=\"color: #008000; text-decoration-color: #008000\">✓</span> <span style=\"color: #800080; text-decoration-color: #800080\">LimitBuy</span>, 💰 <span style=\"color: #008080; text-decoration-color: #008080\">$</span><span style=\"color: #008080; text-decoration-color: #008080; font-weight: bold\">54.73</span>, 📊 <span style=\"color: #008000; text-decoration-color: #008000\">$</span><span style=\"color: #008000; text-decoration-color: #008000; font-weight: bold\">60215.80</span>, 🌟 <span style=\"color: #808000; text-decoration-color: #808000; font-weight: bold\">0.0193</span>\n",
       "</pre>\n"
      ],
      "text/plain": [
       "  Step \u001b[1;36m150\u001b[0m: \u001b[32m✓\u001b[0m \u001b[35mLimitBuy\u001b[0m, 💰 \u001b[36m$\u001b[0m\u001b[1;36m54.73\u001b[0m, 📊 \u001b[32m$\u001b[0m\u001b[1;32m60215.80\u001b[0m, 🌟 \u001b[1;33m0.0193\u001b[0m\n"
      ]
     },
     "metadata": {},
     "output_type": "display_data"
    },
    {
     "data": {
      "text/html": [
       "<pre style=\"white-space:pre;overflow-x:auto;line-height:normal;font-family:Menlo,'DejaVu Sans Mono',consolas,'Courier New',monospace\">  Step <span style=\"color: #008080; text-decoration-color: #008080; font-weight: bold\">200</span>: <span style=\"color: #008000; text-decoration-color: #008000\">✓</span> <span style=\"color: #800080; text-decoration-color: #800080\">LimitBuy</span>, 💰 <span style=\"color: #008080; text-decoration-color: #008080\">$</span><span style=\"color: #008080; text-decoration-color: #008080; font-weight: bold\">52.04</span>, 📊 <span style=\"color: #008000; text-decoration-color: #008000\">$</span><span style=\"color: #008000; text-decoration-color: #008000; font-weight: bold\">57259.50</span>, 🌟 <span style=\"color: #808000; text-decoration-color: #808000; font-weight: bold\">-0.0417</span>\n",
       "</pre>\n"
      ],
      "text/plain": [
       "  Step \u001b[1;36m200\u001b[0m: \u001b[32m✓\u001b[0m \u001b[35mLimitBuy\u001b[0m, 💰 \u001b[36m$\u001b[0m\u001b[1;36m52.04\u001b[0m, 📊 \u001b[32m$\u001b[0m\u001b[1;32m57259.50\u001b[0m, 🌟 \u001b[1;33m-0.0417\u001b[0m\n"
      ]
     },
     "metadata": {},
     "output_type": "display_data"
    },
    {
     "data": {
      "text/html": [
       "<pre style=\"white-space:pre;overflow-x:auto;line-height:normal;font-family:Menlo,'DejaVu Sans Mono',consolas,'Courier New',monospace\">  Step <span style=\"color: #008080; text-decoration-color: #008080; font-weight: bold\">250</span>: <span style=\"color: #008000; text-decoration-color: #008000\">✓</span> <span style=\"color: #800080; text-decoration-color: #800080\">LimitBuy</span>, 💰 <span style=\"color: #008080; text-decoration-color: #008080\">$</span><span style=\"color: #008080; text-decoration-color: #008080; font-weight: bold\">57.34</span>, 📊 <span style=\"color: #008000; text-decoration-color: #008000\">$</span><span style=\"color: #008000; text-decoration-color: #008000; font-weight: bold\">63084.20</span>, 🌟 <span style=\"color: #808000; text-decoration-color: #808000; font-weight: bold\">-0.0033</span>\n",
       "</pre>\n"
      ],
      "text/plain": [
       "  Step \u001b[1;36m250\u001b[0m: \u001b[32m✓\u001b[0m \u001b[35mLimitBuy\u001b[0m, 💰 \u001b[36m$\u001b[0m\u001b[1;36m57.34\u001b[0m, 📊 \u001b[32m$\u001b[0m\u001b[1;32m63084.20\u001b[0m, 🌟 \u001b[1;33m-0.0033\u001b[0m\n"
      ]
     },
     "metadata": {},
     "output_type": "display_data"
    },
    {
     "data": {
      "text/html": [
       "<pre style=\"white-space:pre;overflow-x:auto;line-height:normal;font-family:Menlo,'DejaVu Sans Mono',consolas,'Courier New',monospace\">  Step <span style=\"color: #008080; text-decoration-color: #008080; font-weight: bold\">300</span>: <span style=\"color: #008000; text-decoration-color: #008000\">✓</span> <span style=\"color: #800080; text-decoration-color: #800080\">LimitBuy</span>, 💰 <span style=\"color: #008080; text-decoration-color: #008080\">$</span><span style=\"color: #008080; text-decoration-color: #008080; font-weight: bold\">61.61</span>, 📊 <span style=\"color: #008000; text-decoration-color: #008000\">$</span><span style=\"color: #008000; text-decoration-color: #008000; font-weight: bold\">67776.93</span>, 🌟 <span style=\"color: #808000; text-decoration-color: #808000; font-weight: bold\">0.0320</span>\n",
       "</pre>\n"
      ],
      "text/plain": [
       "  Step \u001b[1;36m300\u001b[0m: \u001b[32m✓\u001b[0m \u001b[35mLimitBuy\u001b[0m, 💰 \u001b[36m$\u001b[0m\u001b[1;36m61.61\u001b[0m, 📊 \u001b[32m$\u001b[0m\u001b[1;32m67776.93\u001b[0m, 🌟 \u001b[1;33m0.0320\u001b[0m\n"
      ]
     },
     "metadata": {},
     "output_type": "display_data"
    },
    {
     "data": {
      "text/html": [
       "<pre style=\"white-space:pre;overflow-x:auto;line-height:normal;font-family:Menlo,'DejaVu Sans Mono',consolas,'Courier New',monospace\">  Step <span style=\"color: #008080; text-decoration-color: #008080; font-weight: bold\">350</span>: <span style=\"color: #008000; text-decoration-color: #008000\">✓</span> <span style=\"color: #800080; text-decoration-color: #800080\">LimitBuy</span>, 💰 <span style=\"color: #008080; text-decoration-color: #008080\">$</span><span style=\"color: #008080; text-decoration-color: #008080; font-weight: bold\">65.68</span>, 📊 <span style=\"color: #008000; text-decoration-color: #008000\">$</span><span style=\"color: #008000; text-decoration-color: #008000; font-weight: bold\">72249.86</span>, 🌟 <span style=\"color: #808000; text-decoration-color: #808000; font-weight: bold\">0.0081</span>\n",
       "</pre>\n"
      ],
      "text/plain": [
       "  Step \u001b[1;36m350\u001b[0m: \u001b[32m✓\u001b[0m \u001b[35mLimitBuy\u001b[0m, 💰 \u001b[36m$\u001b[0m\u001b[1;36m65.68\u001b[0m, 📊 \u001b[32m$\u001b[0m\u001b[1;32m72249.86\u001b[0m, 🌟 \u001b[1;33m0.0081\u001b[0m\n"
      ]
     },
     "metadata": {},
     "output_type": "display_data"
    },
    {
     "data": {
      "text/html": [
       "<pre style=\"white-space:pre;overflow-x:auto;line-height:normal;font-family:Menlo,'DejaVu Sans Mono',consolas,'Courier New',monospace\">  Step <span style=\"color: #008080; text-decoration-color: #008080; font-weight: bold\">400</span>: <span style=\"color: #008000; text-decoration-color: #008000\">✓</span> <span style=\"color: #800080; text-decoration-color: #800080\">LimitBuy</span>, 💰 <span style=\"color: #008080; text-decoration-color: #008080\">$</span><span style=\"color: #008080; text-decoration-color: #008080; font-weight: bold\">68.11</span>, 📊 <span style=\"color: #008000; text-decoration-color: #008000\">$</span><span style=\"color: #008000; text-decoration-color: #008000; font-weight: bold\">73357.54</span>, 🌟 <span style=\"color: #808000; text-decoration-color: #808000; font-weight: bold\">0.0082</span>\n",
       "</pre>\n"
      ],
      "text/plain": [
       "  Step \u001b[1;36m400\u001b[0m: \u001b[32m✓\u001b[0m \u001b[35mLimitBuy\u001b[0m, 💰 \u001b[36m$\u001b[0m\u001b[1;36m68.11\u001b[0m, 📊 \u001b[32m$\u001b[0m\u001b[1;32m73357.54\u001b[0m, 🌟 \u001b[1;33m0.0082\u001b[0m\n"
      ]
     },
     "metadata": {},
     "output_type": "display_data"
    },
    {
     "data": {
      "text/html": [
       "<pre style=\"white-space:pre;overflow-x:auto;line-height:normal;font-family:Menlo,'DejaVu Sans Mono',consolas,'Courier New',monospace\">  Step <span style=\"color: #008080; text-decoration-color: #008080; font-weight: bold\">450</span>: <span style=\"color: #008000; text-decoration-color: #008000\">✓</span> <span style=\"color: #800080; text-decoration-color: #800080\">LimitBuy</span>, 💰 <span style=\"color: #008080; text-decoration-color: #008080\">$</span><span style=\"color: #008080; text-decoration-color: #008080; font-weight: bold\">82.19</span>, 📊 <span style=\"color: #008000; text-decoration-color: #008000\">$</span><span style=\"color: #008000; text-decoration-color: #008000; font-weight: bold\">88964.62</span>, 🌟 <span style=\"color: #808000; text-decoration-color: #808000; font-weight: bold\">0.0350</span>\n",
       "</pre>\n"
      ],
      "text/plain": [
       "  Step \u001b[1;36m450\u001b[0m: \u001b[32m✓\u001b[0m \u001b[35mLimitBuy\u001b[0m, 💰 \u001b[36m$\u001b[0m\u001b[1;36m82.19\u001b[0m, 📊 \u001b[32m$\u001b[0m\u001b[1;32m88964.62\u001b[0m, 🌟 \u001b[1;33m0.0350\u001b[0m\n"
      ]
     },
     "metadata": {},
     "output_type": "display_data"
    },
    {
     "data": {
      "text/html": [
       "<pre style=\"white-space:pre;overflow-x:auto;line-height:normal;font-family:Menlo,'DejaVu Sans Mono',consolas,'Courier New',monospace\">  Step <span style=\"color: #008080; text-decoration-color: #008080; font-weight: bold\">500</span>: <span style=\"color: #008000; text-decoration-color: #008000\">✓</span> <span style=\"color: #800080; text-decoration-color: #800080\">LimitBuy</span>, 💰 <span style=\"color: #008080; text-decoration-color: #008080\">$</span><span style=\"color: #008080; text-decoration-color: #008080; font-weight: bold\">89.71</span>, 📊 <span style=\"color: #008000; text-decoration-color: #008000\">$</span><span style=\"color: #008000; text-decoration-color: #008000; font-weight: bold\">97093.73</span>, 🌟 <span style=\"color: #808000; text-decoration-color: #808000; font-weight: bold\">-0.0183</span>\n",
       "</pre>\n"
      ],
      "text/plain": [
       "  Step \u001b[1;36m500\u001b[0m: \u001b[32m✓\u001b[0m \u001b[35mLimitBuy\u001b[0m, 💰 \u001b[36m$\u001b[0m\u001b[1;36m89.71\u001b[0m, 📊 \u001b[32m$\u001b[0m\u001b[1;32m97093.73\u001b[0m, 🌟 \u001b[1;33m-0.0183\u001b[0m\n"
      ]
     },
     "metadata": {},
     "output_type": "display_data"
    },
    {
     "data": {
      "text/html": [
       "<pre style=\"white-space:pre;overflow-x:auto;line-height:normal;font-family:Menlo,'DejaVu Sans Mono',consolas,'Courier New',monospace\">  Step <span style=\"color: #008080; text-decoration-color: #008080; font-weight: bold\">550</span>: <span style=\"color: #008000; text-decoration-color: #008000\">✓</span> <span style=\"color: #800080; text-decoration-color: #800080\">LimitBuy</span>, 💰 <span style=\"color: #008080; text-decoration-color: #008080\">$</span><span style=\"color: #008080; text-decoration-color: #008080; font-weight: bold\">117.81</span>, 📊 <span style=\"color: #008000; text-decoration-color: #008000\">$</span><span style=\"color: #008000; text-decoration-color: #008000; font-weight: bold\">111646.28</span>, 🌟 <span style=\"color: #808000; text-decoration-color: #808000; font-weight: bold\">-0.0076</span>\n",
       "</pre>\n"
      ],
      "text/plain": [
       "  Step \u001b[1;36m550\u001b[0m: \u001b[32m✓\u001b[0m \u001b[35mLimitBuy\u001b[0m, 💰 \u001b[36m$\u001b[0m\u001b[1;36m117.81\u001b[0m, 📊 \u001b[32m$\u001b[0m\u001b[1;32m111646.28\u001b[0m, 🌟 \u001b[1;33m-0.0076\u001b[0m\n"
      ]
     },
     "metadata": {},
     "output_type": "display_data"
    },
    {
     "data": {
      "text/html": [
       "<pre style=\"white-space:pre;overflow-x:auto;line-height:normal;font-family:Menlo,'DejaVu Sans Mono',consolas,'Courier New',monospace\">  Step <span style=\"color: #008080; text-decoration-color: #008080; font-weight: bold\">600</span>: <span style=\"color: #008000; text-decoration-color: #008000\">✓</span> <span style=\"color: #800080; text-decoration-color: #800080\">LimitBuy</span>, 💰 <span style=\"color: #008080; text-decoration-color: #008080\">$</span><span style=\"color: #008080; text-decoration-color: #008080; font-weight: bold\">114.25</span>, 📊 <span style=\"color: #008000; text-decoration-color: #008000\">$</span><span style=\"color: #008000; text-decoration-color: #008000; font-weight: bold\">108278.52</span>, 🌟 <span style=\"color: #808000; text-decoration-color: #808000; font-weight: bold\">-0.0039</span>\n",
       "</pre>\n"
      ],
      "text/plain": [
       "  Step \u001b[1;36m600\u001b[0m: \u001b[32m✓\u001b[0m \u001b[35mLimitBuy\u001b[0m, 💰 \u001b[36m$\u001b[0m\u001b[1;36m114.25\u001b[0m, 📊 \u001b[32m$\u001b[0m\u001b[1;32m108278.52\u001b[0m, 🌟 \u001b[1;33m-0.0039\u001b[0m\n"
      ]
     },
     "metadata": {},
     "output_type": "display_data"
    },
    {
     "data": {
      "text/html": [
       "<pre style=\"white-space:pre;overflow-x:auto;line-height:normal;font-family:Menlo,'DejaVu Sans Mono',consolas,'Courier New',monospace\">  Step <span style=\"color: #008080; text-decoration-color: #008080; font-weight: bold\">650</span>: <span style=\"color: #008000; text-decoration-color: #008000\">✓</span> <span style=\"color: #800080; text-decoration-color: #800080\">LimitBuy</span>, 💰 <span style=\"color: #008080; text-decoration-color: #008080\">$</span><span style=\"color: #008080; text-decoration-color: #008080; font-weight: bold\">99.85</span>, 📊 <span style=\"color: #008000; text-decoration-color: #008000\">$</span><span style=\"color: #008000; text-decoration-color: #008000; font-weight: bold\">94666.12</span>, 🌟 <span style=\"color: #808000; text-decoration-color: #808000; font-weight: bold\">0.0004</span>\n",
       "</pre>\n"
      ],
      "text/plain": [
       "  Step \u001b[1;36m650\u001b[0m: \u001b[32m✓\u001b[0m \u001b[35mLimitBuy\u001b[0m, 💰 \u001b[36m$\u001b[0m\u001b[1;36m99.85\u001b[0m, 📊 \u001b[32m$\u001b[0m\u001b[1;32m94666.12\u001b[0m, 🌟 \u001b[1;33m0.0004\u001b[0m\n"
      ]
     },
     "metadata": {},
     "output_type": "display_data"
    },
    {
     "data": {
      "text/html": [
       "<pre style=\"white-space:pre;overflow-x:auto;line-height:normal;font-family:Menlo,'DejaVu Sans Mono',consolas,'Courier New',monospace\"><span style=\"color: #008000; text-decoration-color: #008000; font-weight: bold\">Episode </span><span style=\"color: #008000; text-decoration-color: #008000; font-weight: bold\">3</span><span style=\"color: #008000; text-decoration-color: #008000; font-weight: bold\"> Results:</span>\n",
       "</pre>\n"
      ],
      "text/plain": [
       "\u001b[1;32mEpisode \u001b[0m\u001b[1;32m3\u001b[0m\u001b[1;32m Results:\u001b[0m\n"
      ]
     },
     "metadata": {},
     "output_type": "display_data"
    },
    {
     "data": {
      "text/html": [
       "<pre style=\"white-space:pre;overflow-x:auto;line-height:normal;font-family:Menlo,'DejaVu Sans Mono',consolas,'Courier New',monospace\">  Total Steps: <span style=\"color: #008080; text-decoration-color: #008080; font-weight: bold\">680</span>\n",
       "</pre>\n"
      ],
      "text/plain": [
       "  Total Steps: \u001b[1;36m680\u001b[0m\n"
      ]
     },
     "metadata": {},
     "output_type": "display_data"
    },
    {
     "data": {
      "text/html": [
       "<pre style=\"white-space:pre;overflow-x:auto;line-height:normal;font-family:Menlo,'DejaVu Sans Mono',consolas,'Courier New',monospace\">  Initial Portfolio Value: <span style=\"color: #008000; text-decoration-color: #008000\">$</span><span style=\"color: #008000; text-decoration-color: #008000; font-weight: bold\">100000.00</span>\n",
       "</pre>\n"
      ],
      "text/plain": [
       "  Initial Portfolio Value: \u001b[32m$\u001b[0m\u001b[1;32m100000.00\u001b[0m\n"
      ]
     },
     "metadata": {},
     "output_type": "display_data"
    },
    {
     "data": {
      "text/html": [
       "<pre style=\"white-space:pre;overflow-x:auto;line-height:normal;font-family:Menlo,'DejaVu Sans Mono',consolas,'Courier New',monospace\">  Final Portfolio Value: <span style=\"color: #008000; text-decoration-color: #008000\">$</span><span style=\"color: #008000; text-decoration-color: #008000; font-weight: bold\">98690.87</span>\n",
       "</pre>\n"
      ],
      "text/plain": [
       "  Final Portfolio Value: \u001b[32m$\u001b[0m\u001b[1;32m98690.87\u001b[0m\n"
      ]
     },
     "metadata": {},
     "output_type": "display_data"
    },
    {
     "data": {
      "text/html": [
       "<pre style=\"white-space:pre;overflow-x:auto;line-height:normal;font-family:Menlo,'DejaVu Sans Mono',consolas,'Courier New',monospace\">  Total Return: <span style=\"color: #800000; text-decoration-color: #800000; font-weight: bold\">-1.31</span><span style=\"color: #800000; text-decoration-color: #800000\">%</span>\n",
       "</pre>\n"
      ],
      "text/plain": [
       "  Total Return: \u001b[1;31m-1.31\u001b[0m\u001b[31m%\u001b[0m\n"
      ]
     },
     "metadata": {},
     "output_type": "display_data"
    },
    {
     "data": {
      "text/html": [
       "<pre style=\"white-space:pre;overflow-x:auto;line-height:normal;font-family:Menlo,'DejaVu Sans Mono',consolas,'Courier New',monospace\">  Total Reward: <span style=\"color: #808000; text-decoration-color: #808000; font-weight: bold\">5.68</span>\n",
       "</pre>\n"
      ],
      "text/plain": [
       "  Total Reward: \u001b[1;33m5.68\u001b[0m\n"
      ]
     },
     "metadata": {},
     "output_type": "display_data"
    },
    {
     "data": {
      "text/html": [
       "<pre style=\"white-space:pre;overflow-x:auto;line-height:normal;font-family:Menlo,'DejaVu Sans Mono',consolas,'Courier New',monospace\"><span style=\"font-style: italic\">       Action Distribution        </span>\n",
       "┏━━━━━━━━━━━┳━━━━━━━┳━━━━━━━━━━━━┓\n",
       "┃<span style=\"font-weight: bold\"> Action    </span>┃<span style=\"font-weight: bold\"> Count </span>┃<span style=\"font-weight: bold\"> Percentage </span>┃\n",
       "┡━━━━━━━━━━━╇━━━━━━━╇━━━━━━━━━━━━┩\n",
       "│<span style=\"color: #008080; text-decoration-color: #008080\"> LimitBuy  </span>│<span style=\"color: #008000; text-decoration-color: #008000\">   672 </span>│<span style=\"color: #808000; text-decoration-color: #808000\">      98.8% </span>│\n",
       "│<span style=\"color: #008080; text-decoration-color: #008080\"> LimitSell </span>│<span style=\"color: #008000; text-decoration-color: #008000\">     3 </span>│<span style=\"color: #808000; text-decoration-color: #808000\">       0.4% </span>│\n",
       "│<span style=\"color: #008080; text-decoration-color: #008080\"> Sell      </span>│<span style=\"color: #008000; text-decoration-color: #008000\">     4 </span>│<span style=\"color: #808000; text-decoration-color: #808000\">       0.6% </span>│\n",
       "│<span style=\"color: #008080; text-decoration-color: #008080\"> Hold      </span>│<span style=\"color: #008000; text-decoration-color: #008000\">     1 </span>│<span style=\"color: #808000; text-decoration-color: #808000\">       0.1% </span>│\n",
       "└───────────┴───────┴────────────┘\n",
       "</pre>\n"
      ],
      "text/plain": [
       "\u001b[3m       Action Distribution        \u001b[0m\n",
       "┏━━━━━━━━━━━┳━━━━━━━┳━━━━━━━━━━━━┓\n",
       "┃\u001b[1m \u001b[0m\u001b[1mAction   \u001b[0m\u001b[1m \u001b[0m┃\u001b[1m \u001b[0m\u001b[1mCount\u001b[0m\u001b[1m \u001b[0m┃\u001b[1m \u001b[0m\u001b[1mPercentage\u001b[0m\u001b[1m \u001b[0m┃\n",
       "┡━━━━━━━━━━━╇━━━━━━━╇━━━━━━━━━━━━┩\n",
       "│\u001b[36m \u001b[0m\u001b[36mLimitBuy \u001b[0m\u001b[36m \u001b[0m│\u001b[32m \u001b[0m\u001b[32m  672\u001b[0m\u001b[32m \u001b[0m│\u001b[33m \u001b[0m\u001b[33m     98.8%\u001b[0m\u001b[33m \u001b[0m│\n",
       "│\u001b[36m \u001b[0m\u001b[36mLimitSell\u001b[0m\u001b[36m \u001b[0m│\u001b[32m \u001b[0m\u001b[32m    3\u001b[0m\u001b[32m \u001b[0m│\u001b[33m \u001b[0m\u001b[33m      0.4%\u001b[0m\u001b[33m \u001b[0m│\n",
       "│\u001b[36m \u001b[0m\u001b[36mSell     \u001b[0m\u001b[36m \u001b[0m│\u001b[32m \u001b[0m\u001b[32m    4\u001b[0m\u001b[32m \u001b[0m│\u001b[33m \u001b[0m\u001b[33m      0.6%\u001b[0m\u001b[33m \u001b[0m│\n",
       "│\u001b[36m \u001b[0m\u001b[36mHold     \u001b[0m\u001b[36m \u001b[0m│\u001b[32m \u001b[0m\u001b[32m    1\u001b[0m\u001b[32m \u001b[0m│\u001b[33m \u001b[0m\u001b[33m      0.1%\u001b[0m\u001b[33m \u001b[0m│\n",
       "└───────────┴───────┴────────────┘\n"
      ]
     },
     "metadata": {},
     "output_type": "display_data"
    },
    {
     "data": {
      "text/html": [
       "<pre style=\"white-space:pre;overflow-x:auto;line-height:normal;font-family:Menlo,'DejaVu Sans Mono',consolas,'Courier New',monospace\"><span style=\"color: #808000; text-decoration-color: #808000\">--- Episode </span><span style=\"color: #808000; text-decoration-color: #808000; font-weight: bold\">4</span><span style=\"color: #808000; text-decoration-color: #808000\">/</span><span style=\"color: #808000; text-decoration-color: #808000; font-weight: bold\">5</span><span style=\"color: #808000; text-decoration-color: #808000\"> ---</span>\n",
       "</pre>\n"
      ],
      "text/plain": [
       "\u001b[33m--- Episode \u001b[0m\u001b[1;33m4\u001b[0m\u001b[33m/\u001b[0m\u001b[1;33m5\u001b[0m\u001b[33m ---\u001b[0m\n"
      ]
     },
     "metadata": {},
     "output_type": "display_data"
    },
    {
     "data": {
      "text/html": [
       "<pre style=\"white-space:pre;overflow-x:auto;line-height:normal;font-family:Menlo,'DejaVu Sans Mono',consolas,'Courier New',monospace\">  Step <span style=\"color: #008080; text-decoration-color: #008080; font-weight: bold\">0</span>: <span style=\"color: #008000; text-decoration-color: #008000\">✓</span> <span style=\"color: #800080; text-decoration-color: #800080\">LimitBuy</span>, 💰 <span style=\"color: #008080; text-decoration-color: #008080\">$</span><span style=\"color: #008080; text-decoration-color: #008080; font-weight: bold\">93.30</span>, 📊 <span style=\"color: #008000; text-decoration-color: #008000\">$</span><span style=\"color: #008000; text-decoration-color: #008000; font-weight: bold\">52817.56</span>, 🌟 <span style=\"color: #808000; text-decoration-color: #808000; font-weight: bold\">-0.4809</span>\n",
       "</pre>\n"
      ],
      "text/plain": [
       "  Step \u001b[1;36m0\u001b[0m: \u001b[32m✓\u001b[0m \u001b[35mLimitBuy\u001b[0m, 💰 \u001b[36m$\u001b[0m\u001b[1;36m93.30\u001b[0m, 📊 \u001b[32m$\u001b[0m\u001b[1;32m52817.56\u001b[0m, 🌟 \u001b[1;33m-0.4809\u001b[0m\n"
      ]
     },
     "metadata": {},
     "output_type": "display_data"
    },
    {
     "data": {
      "text/html": [
       "<pre style=\"white-space:pre;overflow-x:auto;line-height:normal;font-family:Menlo,'DejaVu Sans Mono',consolas,'Courier New',monospace\">  Step <span style=\"color: #008080; text-decoration-color: #008080; font-weight: bold\">50</span>: <span style=\"color: #008000; text-decoration-color: #008000\">✓</span> <span style=\"color: #800080; text-decoration-color: #800080\">LimitBuy</span>, 💰 <span style=\"color: #008080; text-decoration-color: #008080\">$</span><span style=\"color: #008080; text-decoration-color: #008080; font-weight: bold\">67.71</span>, 📊 <span style=\"color: #008000; text-decoration-color: #008000\">$</span><span style=\"color: #008000; text-decoration-color: #008000; font-weight: bold\">77639.55</span>, 🌟 <span style=\"color: #808000; text-decoration-color: #808000; font-weight: bold\">0.0162</span>\n",
       "</pre>\n"
      ],
      "text/plain": [
       "  Step \u001b[1;36m50\u001b[0m: \u001b[32m✓\u001b[0m \u001b[35mLimitBuy\u001b[0m, 💰 \u001b[36m$\u001b[0m\u001b[1;36m67.71\u001b[0m, 📊 \u001b[32m$\u001b[0m\u001b[1;32m77639.55\u001b[0m, 🌟 \u001b[1;33m0.0162\u001b[0m\n"
      ]
     },
     "metadata": {},
     "output_type": "display_data"
    },
    {
     "data": {
      "text/html": [
       "<pre style=\"white-space:pre;overflow-x:auto;line-height:normal;font-family:Menlo,'DejaVu Sans Mono',consolas,'Courier New',monospace\">  Step <span style=\"color: #008080; text-decoration-color: #008080; font-weight: bold\">100</span>: <span style=\"color: #008000; text-decoration-color: #008000\">✓</span> <span style=\"color: #800080; text-decoration-color: #800080\">LimitBuy</span>, 💰 <span style=\"color: #008080; text-decoration-color: #008080\">$</span><span style=\"color: #008080; text-decoration-color: #008080; font-weight: bold\">59.66</span>, 📊 <span style=\"color: #008000; text-decoration-color: #008000\">$</span><span style=\"color: #008000; text-decoration-color: #008000; font-weight: bold\">65042.98</span>, 🌟 <span style=\"color: #808000; text-decoration-color: #808000; font-weight: bold\">0.0175</span>\n",
       "</pre>\n"
      ],
      "text/plain": [
       "  Step \u001b[1;36m100\u001b[0m: \u001b[32m✓\u001b[0m \u001b[35mLimitBuy\u001b[0m, 💰 \u001b[36m$\u001b[0m\u001b[1;36m59.66\u001b[0m, 📊 \u001b[32m$\u001b[0m\u001b[1;32m65042.98\u001b[0m, 🌟 \u001b[1;33m0.0175\u001b[0m\n"
      ]
     },
     "metadata": {},
     "output_type": "display_data"
    },
    {
     "data": {
      "text/html": [
       "<pre style=\"white-space:pre;overflow-x:auto;line-height:normal;font-family:Menlo,'DejaVu Sans Mono',consolas,'Courier New',monospace\">  Step <span style=\"color: #008080; text-decoration-color: #008080; font-weight: bold\">150</span>: <span style=\"color: #008000; text-decoration-color: #008000\">✓</span> <span style=\"color: #800080; text-decoration-color: #800080\">LimitBuy</span>, 💰 <span style=\"color: #008080; text-decoration-color: #008080\">$</span><span style=\"color: #008080; text-decoration-color: #008080; font-weight: bold\">54.73</span>, 📊 <span style=\"color: #008000; text-decoration-color: #008000\">$</span><span style=\"color: #008000; text-decoration-color: #008000; font-weight: bold\">60215.80</span>, 🌟 <span style=\"color: #808000; text-decoration-color: #808000; font-weight: bold\">0.0193</span>\n",
       "</pre>\n"
      ],
      "text/plain": [
       "  Step \u001b[1;36m150\u001b[0m: \u001b[32m✓\u001b[0m \u001b[35mLimitBuy\u001b[0m, 💰 \u001b[36m$\u001b[0m\u001b[1;36m54.73\u001b[0m, 📊 \u001b[32m$\u001b[0m\u001b[1;32m60215.80\u001b[0m, 🌟 \u001b[1;33m0.0193\u001b[0m\n"
      ]
     },
     "metadata": {},
     "output_type": "display_data"
    },
    {
     "data": {
      "text/html": [
       "<pre style=\"white-space:pre;overflow-x:auto;line-height:normal;font-family:Menlo,'DejaVu Sans Mono',consolas,'Courier New',monospace\">  Step <span style=\"color: #008080; text-decoration-color: #008080; font-weight: bold\">200</span>: <span style=\"color: #008000; text-decoration-color: #008000\">✓</span> <span style=\"color: #800080; text-decoration-color: #800080\">LimitBuy</span>, 💰 <span style=\"color: #008080; text-decoration-color: #008080\">$</span><span style=\"color: #008080; text-decoration-color: #008080; font-weight: bold\">52.04</span>, 📊 <span style=\"color: #008000; text-decoration-color: #008000\">$</span><span style=\"color: #008000; text-decoration-color: #008000; font-weight: bold\">57259.50</span>, 🌟 <span style=\"color: #808000; text-decoration-color: #808000; font-weight: bold\">-0.0417</span>\n",
       "</pre>\n"
      ],
      "text/plain": [
       "  Step \u001b[1;36m200\u001b[0m: \u001b[32m✓\u001b[0m \u001b[35mLimitBuy\u001b[0m, 💰 \u001b[36m$\u001b[0m\u001b[1;36m52.04\u001b[0m, 📊 \u001b[32m$\u001b[0m\u001b[1;32m57259.50\u001b[0m, 🌟 \u001b[1;33m-0.0417\u001b[0m\n"
      ]
     },
     "metadata": {},
     "output_type": "display_data"
    },
    {
     "data": {
      "text/html": [
       "<pre style=\"white-space:pre;overflow-x:auto;line-height:normal;font-family:Menlo,'DejaVu Sans Mono',consolas,'Courier New',monospace\">  Step <span style=\"color: #008080; text-decoration-color: #008080; font-weight: bold\">250</span>: <span style=\"color: #008000; text-decoration-color: #008000\">✓</span> <span style=\"color: #800080; text-decoration-color: #800080\">LimitBuy</span>, 💰 <span style=\"color: #008080; text-decoration-color: #008080\">$</span><span style=\"color: #008080; text-decoration-color: #008080; font-weight: bold\">57.34</span>, 📊 <span style=\"color: #008000; text-decoration-color: #008000\">$</span><span style=\"color: #008000; text-decoration-color: #008000; font-weight: bold\">63084.20</span>, 🌟 <span style=\"color: #808000; text-decoration-color: #808000; font-weight: bold\">-0.0033</span>\n",
       "</pre>\n"
      ],
      "text/plain": [
       "  Step \u001b[1;36m250\u001b[0m: \u001b[32m✓\u001b[0m \u001b[35mLimitBuy\u001b[0m, 💰 \u001b[36m$\u001b[0m\u001b[1;36m57.34\u001b[0m, 📊 \u001b[32m$\u001b[0m\u001b[1;32m63084.20\u001b[0m, 🌟 \u001b[1;33m-0.0033\u001b[0m\n"
      ]
     },
     "metadata": {},
     "output_type": "display_data"
    },
    {
     "data": {
      "text/html": [
       "<pre style=\"white-space:pre;overflow-x:auto;line-height:normal;font-family:Menlo,'DejaVu Sans Mono',consolas,'Courier New',monospace\">  Step <span style=\"color: #008080; text-decoration-color: #008080; font-weight: bold\">300</span>: <span style=\"color: #008000; text-decoration-color: #008000\">✓</span> <span style=\"color: #800080; text-decoration-color: #800080\">LimitBuy</span>, 💰 <span style=\"color: #008080; text-decoration-color: #008080\">$</span><span style=\"color: #008080; text-decoration-color: #008080; font-weight: bold\">61.61</span>, 📊 <span style=\"color: #008000; text-decoration-color: #008000\">$</span><span style=\"color: #008000; text-decoration-color: #008000; font-weight: bold\">67776.93</span>, 🌟 <span style=\"color: #808000; text-decoration-color: #808000; font-weight: bold\">0.0320</span>\n",
       "</pre>\n"
      ],
      "text/plain": [
       "  Step \u001b[1;36m300\u001b[0m: \u001b[32m✓\u001b[0m \u001b[35mLimitBuy\u001b[0m, 💰 \u001b[36m$\u001b[0m\u001b[1;36m61.61\u001b[0m, 📊 \u001b[32m$\u001b[0m\u001b[1;32m67776.93\u001b[0m, 🌟 \u001b[1;33m0.0320\u001b[0m\n"
      ]
     },
     "metadata": {},
     "output_type": "display_data"
    },
    {
     "data": {
      "text/html": [
       "<pre style=\"white-space:pre;overflow-x:auto;line-height:normal;font-family:Menlo,'DejaVu Sans Mono',consolas,'Courier New',monospace\">  Step <span style=\"color: #008080; text-decoration-color: #008080; font-weight: bold\">350</span>: <span style=\"color: #008000; text-decoration-color: #008000\">✓</span> <span style=\"color: #800080; text-decoration-color: #800080\">LimitBuy</span>, 💰 <span style=\"color: #008080; text-decoration-color: #008080\">$</span><span style=\"color: #008080; text-decoration-color: #008080; font-weight: bold\">65.68</span>, 📊 <span style=\"color: #008000; text-decoration-color: #008000\">$</span><span style=\"color: #008000; text-decoration-color: #008000; font-weight: bold\">72249.86</span>, 🌟 <span style=\"color: #808000; text-decoration-color: #808000; font-weight: bold\">0.0081</span>\n",
       "</pre>\n"
      ],
      "text/plain": [
       "  Step \u001b[1;36m350\u001b[0m: \u001b[32m✓\u001b[0m \u001b[35mLimitBuy\u001b[0m, 💰 \u001b[36m$\u001b[0m\u001b[1;36m65.68\u001b[0m, 📊 \u001b[32m$\u001b[0m\u001b[1;32m72249.86\u001b[0m, 🌟 \u001b[1;33m0.0081\u001b[0m\n"
      ]
     },
     "metadata": {},
     "output_type": "display_data"
    },
    {
     "data": {
      "text/html": [
       "<pre style=\"white-space:pre;overflow-x:auto;line-height:normal;font-family:Menlo,'DejaVu Sans Mono',consolas,'Courier New',monospace\">  Step <span style=\"color: #008080; text-decoration-color: #008080; font-weight: bold\">400</span>: <span style=\"color: #008000; text-decoration-color: #008000\">✓</span> <span style=\"color: #800080; text-decoration-color: #800080\">LimitBuy</span>, 💰 <span style=\"color: #008080; text-decoration-color: #008080\">$</span><span style=\"color: #008080; text-decoration-color: #008080; font-weight: bold\">68.11</span>, 📊 <span style=\"color: #008000; text-decoration-color: #008000\">$</span><span style=\"color: #008000; text-decoration-color: #008000; font-weight: bold\">73357.54</span>, 🌟 <span style=\"color: #808000; text-decoration-color: #808000; font-weight: bold\">0.0082</span>\n",
       "</pre>\n"
      ],
      "text/plain": [
       "  Step \u001b[1;36m400\u001b[0m: \u001b[32m✓\u001b[0m \u001b[35mLimitBuy\u001b[0m, 💰 \u001b[36m$\u001b[0m\u001b[1;36m68.11\u001b[0m, 📊 \u001b[32m$\u001b[0m\u001b[1;32m73357.54\u001b[0m, 🌟 \u001b[1;33m0.0082\u001b[0m\n"
      ]
     },
     "metadata": {},
     "output_type": "display_data"
    },
    {
     "data": {
      "text/html": [
       "<pre style=\"white-space:pre;overflow-x:auto;line-height:normal;font-family:Menlo,'DejaVu Sans Mono',consolas,'Courier New',monospace\">  Step <span style=\"color: #008080; text-decoration-color: #008080; font-weight: bold\">450</span>: <span style=\"color: #008000; text-decoration-color: #008000\">✓</span> <span style=\"color: #800080; text-decoration-color: #800080\">LimitBuy</span>, 💰 <span style=\"color: #008080; text-decoration-color: #008080\">$</span><span style=\"color: #008080; text-decoration-color: #008080; font-weight: bold\">82.19</span>, 📊 <span style=\"color: #008000; text-decoration-color: #008000\">$</span><span style=\"color: #008000; text-decoration-color: #008000; font-weight: bold\">88964.62</span>, 🌟 <span style=\"color: #808000; text-decoration-color: #808000; font-weight: bold\">0.0350</span>\n",
       "</pre>\n"
      ],
      "text/plain": [
       "  Step \u001b[1;36m450\u001b[0m: \u001b[32m✓\u001b[0m \u001b[35mLimitBuy\u001b[0m, 💰 \u001b[36m$\u001b[0m\u001b[1;36m82.19\u001b[0m, 📊 \u001b[32m$\u001b[0m\u001b[1;32m88964.62\u001b[0m, 🌟 \u001b[1;33m0.0350\u001b[0m\n"
      ]
     },
     "metadata": {},
     "output_type": "display_data"
    },
    {
     "data": {
      "text/html": [
       "<pre style=\"white-space:pre;overflow-x:auto;line-height:normal;font-family:Menlo,'DejaVu Sans Mono',consolas,'Courier New',monospace\">  Step <span style=\"color: #008080; text-decoration-color: #008080; font-weight: bold\">500</span>: <span style=\"color: #008000; text-decoration-color: #008000\">✓</span> <span style=\"color: #800080; text-decoration-color: #800080\">LimitBuy</span>, 💰 <span style=\"color: #008080; text-decoration-color: #008080\">$</span><span style=\"color: #008080; text-decoration-color: #008080; font-weight: bold\">89.71</span>, 📊 <span style=\"color: #008000; text-decoration-color: #008000\">$</span><span style=\"color: #008000; text-decoration-color: #008000; font-weight: bold\">97093.73</span>, 🌟 <span style=\"color: #808000; text-decoration-color: #808000; font-weight: bold\">-0.0183</span>\n",
       "</pre>\n"
      ],
      "text/plain": [
       "  Step \u001b[1;36m500\u001b[0m: \u001b[32m✓\u001b[0m \u001b[35mLimitBuy\u001b[0m, 💰 \u001b[36m$\u001b[0m\u001b[1;36m89.71\u001b[0m, 📊 \u001b[32m$\u001b[0m\u001b[1;32m97093.73\u001b[0m, 🌟 \u001b[1;33m-0.0183\u001b[0m\n"
      ]
     },
     "metadata": {},
     "output_type": "display_data"
    },
    {
     "data": {
      "text/html": [
       "<pre style=\"white-space:pre;overflow-x:auto;line-height:normal;font-family:Menlo,'DejaVu Sans Mono',consolas,'Courier New',monospace\">  Step <span style=\"color: #008080; text-decoration-color: #008080; font-weight: bold\">550</span>: <span style=\"color: #008000; text-decoration-color: #008000\">✓</span> <span style=\"color: #800080; text-decoration-color: #800080\">LimitBuy</span>, 💰 <span style=\"color: #008080; text-decoration-color: #008080\">$</span><span style=\"color: #008080; text-decoration-color: #008080; font-weight: bold\">117.81</span>, 📊 <span style=\"color: #008000; text-decoration-color: #008000\">$</span><span style=\"color: #008000; text-decoration-color: #008000; font-weight: bold\">111646.28</span>, 🌟 <span style=\"color: #808000; text-decoration-color: #808000; font-weight: bold\">-0.0076</span>\n",
       "</pre>\n"
      ],
      "text/plain": [
       "  Step \u001b[1;36m550\u001b[0m: \u001b[32m✓\u001b[0m \u001b[35mLimitBuy\u001b[0m, 💰 \u001b[36m$\u001b[0m\u001b[1;36m117.81\u001b[0m, 📊 \u001b[32m$\u001b[0m\u001b[1;32m111646.28\u001b[0m, 🌟 \u001b[1;33m-0.0076\u001b[0m\n"
      ]
     },
     "metadata": {},
     "output_type": "display_data"
    },
    {
     "data": {
      "text/html": [
       "<pre style=\"white-space:pre;overflow-x:auto;line-height:normal;font-family:Menlo,'DejaVu Sans Mono',consolas,'Courier New',monospace\">  Step <span style=\"color: #008080; text-decoration-color: #008080; font-weight: bold\">600</span>: <span style=\"color: #008000; text-decoration-color: #008000\">✓</span> <span style=\"color: #800080; text-decoration-color: #800080\">LimitBuy</span>, 💰 <span style=\"color: #008080; text-decoration-color: #008080\">$</span><span style=\"color: #008080; text-decoration-color: #008080; font-weight: bold\">114.25</span>, 📊 <span style=\"color: #008000; text-decoration-color: #008000\">$</span><span style=\"color: #008000; text-decoration-color: #008000; font-weight: bold\">108278.52</span>, 🌟 <span style=\"color: #808000; text-decoration-color: #808000; font-weight: bold\">-0.0039</span>\n",
       "</pre>\n"
      ],
      "text/plain": [
       "  Step \u001b[1;36m600\u001b[0m: \u001b[32m✓\u001b[0m \u001b[35mLimitBuy\u001b[0m, 💰 \u001b[36m$\u001b[0m\u001b[1;36m114.25\u001b[0m, 📊 \u001b[32m$\u001b[0m\u001b[1;32m108278.52\u001b[0m, 🌟 \u001b[1;33m-0.0039\u001b[0m\n"
      ]
     },
     "metadata": {},
     "output_type": "display_data"
    },
    {
     "data": {
      "text/html": [
       "<pre style=\"white-space:pre;overflow-x:auto;line-height:normal;font-family:Menlo,'DejaVu Sans Mono',consolas,'Courier New',monospace\">  Step <span style=\"color: #008080; text-decoration-color: #008080; font-weight: bold\">650</span>: <span style=\"color: #008000; text-decoration-color: #008000\">✓</span> <span style=\"color: #800080; text-decoration-color: #800080\">LimitBuy</span>, 💰 <span style=\"color: #008080; text-decoration-color: #008080\">$</span><span style=\"color: #008080; text-decoration-color: #008080; font-weight: bold\">99.85</span>, 📊 <span style=\"color: #008000; text-decoration-color: #008000\">$</span><span style=\"color: #008000; text-decoration-color: #008000; font-weight: bold\">94666.12</span>, 🌟 <span style=\"color: #808000; text-decoration-color: #808000; font-weight: bold\">0.0004</span>\n",
       "</pre>\n"
      ],
      "text/plain": [
       "  Step \u001b[1;36m650\u001b[0m: \u001b[32m✓\u001b[0m \u001b[35mLimitBuy\u001b[0m, 💰 \u001b[36m$\u001b[0m\u001b[1;36m99.85\u001b[0m, 📊 \u001b[32m$\u001b[0m\u001b[1;32m94666.12\u001b[0m, 🌟 \u001b[1;33m0.0004\u001b[0m\n"
      ]
     },
     "metadata": {},
     "output_type": "display_data"
    },
    {
     "data": {
      "text/html": [
       "<pre style=\"white-space:pre;overflow-x:auto;line-height:normal;font-family:Menlo,'DejaVu Sans Mono',consolas,'Courier New',monospace\"><span style=\"color: #008000; text-decoration-color: #008000; font-weight: bold\">Episode </span><span style=\"color: #008000; text-decoration-color: #008000; font-weight: bold\">4</span><span style=\"color: #008000; text-decoration-color: #008000; font-weight: bold\"> Results:</span>\n",
       "</pre>\n"
      ],
      "text/plain": [
       "\u001b[1;32mEpisode \u001b[0m\u001b[1;32m4\u001b[0m\u001b[1;32m Results:\u001b[0m\n"
      ]
     },
     "metadata": {},
     "output_type": "display_data"
    },
    {
     "data": {
      "text/html": [
       "<pre style=\"white-space:pre;overflow-x:auto;line-height:normal;font-family:Menlo,'DejaVu Sans Mono',consolas,'Courier New',monospace\">  Total Steps: <span style=\"color: #008080; text-decoration-color: #008080; font-weight: bold\">680</span>\n",
       "</pre>\n"
      ],
      "text/plain": [
       "  Total Steps: \u001b[1;36m680\u001b[0m\n"
      ]
     },
     "metadata": {},
     "output_type": "display_data"
    },
    {
     "data": {
      "text/html": [
       "<pre style=\"white-space:pre;overflow-x:auto;line-height:normal;font-family:Menlo,'DejaVu Sans Mono',consolas,'Courier New',monospace\">  Initial Portfolio Value: <span style=\"color: #008000; text-decoration-color: #008000\">$</span><span style=\"color: #008000; text-decoration-color: #008000; font-weight: bold\">100000.00</span>\n",
       "</pre>\n"
      ],
      "text/plain": [
       "  Initial Portfolio Value: \u001b[32m$\u001b[0m\u001b[1;32m100000.00\u001b[0m\n"
      ]
     },
     "metadata": {},
     "output_type": "display_data"
    },
    {
     "data": {
      "text/html": [
       "<pre style=\"white-space:pre;overflow-x:auto;line-height:normal;font-family:Menlo,'DejaVu Sans Mono',consolas,'Courier New',monospace\">  Final Portfolio Value: <span style=\"color: #008000; text-decoration-color: #008000\">$</span><span style=\"color: #008000; text-decoration-color: #008000; font-weight: bold\">98690.87</span>\n",
       "</pre>\n"
      ],
      "text/plain": [
       "  Final Portfolio Value: \u001b[32m$\u001b[0m\u001b[1;32m98690.87\u001b[0m\n"
      ]
     },
     "metadata": {},
     "output_type": "display_data"
    },
    {
     "data": {
      "text/html": [
       "<pre style=\"white-space:pre;overflow-x:auto;line-height:normal;font-family:Menlo,'DejaVu Sans Mono',consolas,'Courier New',monospace\">  Total Return: <span style=\"color: #800000; text-decoration-color: #800000; font-weight: bold\">-1.31</span><span style=\"color: #800000; text-decoration-color: #800000\">%</span>\n",
       "</pre>\n"
      ],
      "text/plain": [
       "  Total Return: \u001b[1;31m-1.31\u001b[0m\u001b[31m%\u001b[0m\n"
      ]
     },
     "metadata": {},
     "output_type": "display_data"
    },
    {
     "data": {
      "text/html": [
       "<pre style=\"white-space:pre;overflow-x:auto;line-height:normal;font-family:Menlo,'DejaVu Sans Mono',consolas,'Courier New',monospace\">  Total Reward: <span style=\"color: #808000; text-decoration-color: #808000; font-weight: bold\">5.68</span>\n",
       "</pre>\n"
      ],
      "text/plain": [
       "  Total Reward: \u001b[1;33m5.68\u001b[0m\n"
      ]
     },
     "metadata": {},
     "output_type": "display_data"
    },
    {
     "data": {
      "text/html": [
       "<pre style=\"white-space:pre;overflow-x:auto;line-height:normal;font-family:Menlo,'DejaVu Sans Mono',consolas,'Courier New',monospace\"><span style=\"font-style: italic\">       Action Distribution        </span>\n",
       "┏━━━━━━━━━━━┳━━━━━━━┳━━━━━━━━━━━━┓\n",
       "┃<span style=\"font-weight: bold\"> Action    </span>┃<span style=\"font-weight: bold\"> Count </span>┃<span style=\"font-weight: bold\"> Percentage </span>┃\n",
       "┡━━━━━━━━━━━╇━━━━━━━╇━━━━━━━━━━━━┩\n",
       "│<span style=\"color: #008080; text-decoration-color: #008080\"> LimitBuy  </span>│<span style=\"color: #008000; text-decoration-color: #008000\">   672 </span>│<span style=\"color: #808000; text-decoration-color: #808000\">      98.8% </span>│\n",
       "│<span style=\"color: #008080; text-decoration-color: #008080\"> LimitSell </span>│<span style=\"color: #008000; text-decoration-color: #008000\">     3 </span>│<span style=\"color: #808000; text-decoration-color: #808000\">       0.4% </span>│\n",
       "│<span style=\"color: #008080; text-decoration-color: #008080\"> Sell      </span>│<span style=\"color: #008000; text-decoration-color: #008000\">     4 </span>│<span style=\"color: #808000; text-decoration-color: #808000\">       0.6% </span>│\n",
       "│<span style=\"color: #008080; text-decoration-color: #008080\"> Hold      </span>│<span style=\"color: #008000; text-decoration-color: #008000\">     1 </span>│<span style=\"color: #808000; text-decoration-color: #808000\">       0.1% </span>│\n",
       "└───────────┴───────┴────────────┘\n",
       "</pre>\n"
      ],
      "text/plain": [
       "\u001b[3m       Action Distribution        \u001b[0m\n",
       "┏━━━━━━━━━━━┳━━━━━━━┳━━━━━━━━━━━━┓\n",
       "┃\u001b[1m \u001b[0m\u001b[1mAction   \u001b[0m\u001b[1m \u001b[0m┃\u001b[1m \u001b[0m\u001b[1mCount\u001b[0m\u001b[1m \u001b[0m┃\u001b[1m \u001b[0m\u001b[1mPercentage\u001b[0m\u001b[1m \u001b[0m┃\n",
       "┡━━━━━━━━━━━╇━━━━━━━╇━━━━━━━━━━━━┩\n",
       "│\u001b[36m \u001b[0m\u001b[36mLimitBuy \u001b[0m\u001b[36m \u001b[0m│\u001b[32m \u001b[0m\u001b[32m  672\u001b[0m\u001b[32m \u001b[0m│\u001b[33m \u001b[0m\u001b[33m     98.8%\u001b[0m\u001b[33m \u001b[0m│\n",
       "│\u001b[36m \u001b[0m\u001b[36mLimitSell\u001b[0m\u001b[36m \u001b[0m│\u001b[32m \u001b[0m\u001b[32m    3\u001b[0m\u001b[32m \u001b[0m│\u001b[33m \u001b[0m\u001b[33m      0.4%\u001b[0m\u001b[33m \u001b[0m│\n",
       "│\u001b[36m \u001b[0m\u001b[36mSell     \u001b[0m\u001b[36m \u001b[0m│\u001b[32m \u001b[0m\u001b[32m    4\u001b[0m\u001b[32m \u001b[0m│\u001b[33m \u001b[0m\u001b[33m      0.6%\u001b[0m\u001b[33m \u001b[0m│\n",
       "│\u001b[36m \u001b[0m\u001b[36mHold     \u001b[0m\u001b[36m \u001b[0m│\u001b[32m \u001b[0m\u001b[32m    1\u001b[0m\u001b[32m \u001b[0m│\u001b[33m \u001b[0m\u001b[33m      0.1%\u001b[0m\u001b[33m \u001b[0m│\n",
       "└───────────┴───────┴────────────┘\n"
      ]
     },
     "metadata": {},
     "output_type": "display_data"
    },
    {
     "data": {
      "text/html": [
       "<pre style=\"white-space:pre;overflow-x:auto;line-height:normal;font-family:Menlo,'DejaVu Sans Mono',consolas,'Courier New',monospace\"><span style=\"color: #808000; text-decoration-color: #808000\">--- Episode </span><span style=\"color: #808000; text-decoration-color: #808000; font-weight: bold\">5</span><span style=\"color: #808000; text-decoration-color: #808000\">/</span><span style=\"color: #808000; text-decoration-color: #808000; font-weight: bold\">5</span><span style=\"color: #808000; text-decoration-color: #808000\"> ---</span>\n",
       "</pre>\n"
      ],
      "text/plain": [
       "\u001b[33m--- Episode \u001b[0m\u001b[1;33m5\u001b[0m\u001b[33m/\u001b[0m\u001b[1;33m5\u001b[0m\u001b[33m ---\u001b[0m\n"
      ]
     },
     "metadata": {},
     "output_type": "display_data"
    },
    {
     "data": {
      "text/html": [
       "<pre style=\"white-space:pre;overflow-x:auto;line-height:normal;font-family:Menlo,'DejaVu Sans Mono',consolas,'Courier New',monospace\">  Step <span style=\"color: #008080; text-decoration-color: #008080; font-weight: bold\">0</span>: <span style=\"color: #008000; text-decoration-color: #008000\">✓</span> <span style=\"color: #800080; text-decoration-color: #800080\">LimitBuy</span>, 💰 <span style=\"color: #008080; text-decoration-color: #008080\">$</span><span style=\"color: #008080; text-decoration-color: #008080; font-weight: bold\">93.30</span>, 📊 <span style=\"color: #008000; text-decoration-color: #008000\">$</span><span style=\"color: #008000; text-decoration-color: #008000; font-weight: bold\">52817.56</span>, 🌟 <span style=\"color: #808000; text-decoration-color: #808000; font-weight: bold\">-0.4809</span>\n",
       "</pre>\n"
      ],
      "text/plain": [
       "  Step \u001b[1;36m0\u001b[0m: \u001b[32m✓\u001b[0m \u001b[35mLimitBuy\u001b[0m, 💰 \u001b[36m$\u001b[0m\u001b[1;36m93.30\u001b[0m, 📊 \u001b[32m$\u001b[0m\u001b[1;32m52817.56\u001b[0m, 🌟 \u001b[1;33m-0.4809\u001b[0m\n"
      ]
     },
     "metadata": {},
     "output_type": "display_data"
    },
    {
     "data": {
      "text/html": [
       "<pre style=\"white-space:pre;overflow-x:auto;line-height:normal;font-family:Menlo,'DejaVu Sans Mono',consolas,'Courier New',monospace\">  Step <span style=\"color: #008080; text-decoration-color: #008080; font-weight: bold\">50</span>: <span style=\"color: #008000; text-decoration-color: #008000\">✓</span> <span style=\"color: #800080; text-decoration-color: #800080\">LimitBuy</span>, 💰 <span style=\"color: #008080; text-decoration-color: #008080\">$</span><span style=\"color: #008080; text-decoration-color: #008080; font-weight: bold\">67.71</span>, 📊 <span style=\"color: #008000; text-decoration-color: #008000\">$</span><span style=\"color: #008000; text-decoration-color: #008000; font-weight: bold\">77639.55</span>, 🌟 <span style=\"color: #808000; text-decoration-color: #808000; font-weight: bold\">0.0162</span>\n",
       "</pre>\n"
      ],
      "text/plain": [
       "  Step \u001b[1;36m50\u001b[0m: \u001b[32m✓\u001b[0m \u001b[35mLimitBuy\u001b[0m, 💰 \u001b[36m$\u001b[0m\u001b[1;36m67.71\u001b[0m, 📊 \u001b[32m$\u001b[0m\u001b[1;32m77639.55\u001b[0m, 🌟 \u001b[1;33m0.0162\u001b[0m\n"
      ]
     },
     "metadata": {},
     "output_type": "display_data"
    },
    {
     "data": {
      "text/html": [
       "<pre style=\"white-space:pre;overflow-x:auto;line-height:normal;font-family:Menlo,'DejaVu Sans Mono',consolas,'Courier New',monospace\">  Step <span style=\"color: #008080; text-decoration-color: #008080; font-weight: bold\">100</span>: <span style=\"color: #008000; text-decoration-color: #008000\">✓</span> <span style=\"color: #800080; text-decoration-color: #800080\">LimitBuy</span>, 💰 <span style=\"color: #008080; text-decoration-color: #008080\">$</span><span style=\"color: #008080; text-decoration-color: #008080; font-weight: bold\">59.66</span>, 📊 <span style=\"color: #008000; text-decoration-color: #008000\">$</span><span style=\"color: #008000; text-decoration-color: #008000; font-weight: bold\">65042.98</span>, 🌟 <span style=\"color: #808000; text-decoration-color: #808000; font-weight: bold\">0.0175</span>\n",
       "</pre>\n"
      ],
      "text/plain": [
       "  Step \u001b[1;36m100\u001b[0m: \u001b[32m✓\u001b[0m \u001b[35mLimitBuy\u001b[0m, 💰 \u001b[36m$\u001b[0m\u001b[1;36m59.66\u001b[0m, 📊 \u001b[32m$\u001b[0m\u001b[1;32m65042.98\u001b[0m, 🌟 \u001b[1;33m0.0175\u001b[0m\n"
      ]
     },
     "metadata": {},
     "output_type": "display_data"
    },
    {
     "data": {
      "text/html": [
       "<pre style=\"white-space:pre;overflow-x:auto;line-height:normal;font-family:Menlo,'DejaVu Sans Mono',consolas,'Courier New',monospace\">  Step <span style=\"color: #008080; text-decoration-color: #008080; font-weight: bold\">150</span>: <span style=\"color: #008000; text-decoration-color: #008000\">✓</span> <span style=\"color: #800080; text-decoration-color: #800080\">LimitBuy</span>, 💰 <span style=\"color: #008080; text-decoration-color: #008080\">$</span><span style=\"color: #008080; text-decoration-color: #008080; font-weight: bold\">54.73</span>, 📊 <span style=\"color: #008000; text-decoration-color: #008000\">$</span><span style=\"color: #008000; text-decoration-color: #008000; font-weight: bold\">60215.80</span>, 🌟 <span style=\"color: #808000; text-decoration-color: #808000; font-weight: bold\">0.0193</span>\n",
       "</pre>\n"
      ],
      "text/plain": [
       "  Step \u001b[1;36m150\u001b[0m: \u001b[32m✓\u001b[0m \u001b[35mLimitBuy\u001b[0m, 💰 \u001b[36m$\u001b[0m\u001b[1;36m54.73\u001b[0m, 📊 \u001b[32m$\u001b[0m\u001b[1;32m60215.80\u001b[0m, 🌟 \u001b[1;33m0.0193\u001b[0m\n"
      ]
     },
     "metadata": {},
     "output_type": "display_data"
    },
    {
     "data": {
      "text/html": [
       "<pre style=\"white-space:pre;overflow-x:auto;line-height:normal;font-family:Menlo,'DejaVu Sans Mono',consolas,'Courier New',monospace\">  Step <span style=\"color: #008080; text-decoration-color: #008080; font-weight: bold\">200</span>: <span style=\"color: #008000; text-decoration-color: #008000\">✓</span> <span style=\"color: #800080; text-decoration-color: #800080\">LimitBuy</span>, 💰 <span style=\"color: #008080; text-decoration-color: #008080\">$</span><span style=\"color: #008080; text-decoration-color: #008080; font-weight: bold\">52.04</span>, 📊 <span style=\"color: #008000; text-decoration-color: #008000\">$</span><span style=\"color: #008000; text-decoration-color: #008000; font-weight: bold\">57259.50</span>, 🌟 <span style=\"color: #808000; text-decoration-color: #808000; font-weight: bold\">-0.0417</span>\n",
       "</pre>\n"
      ],
      "text/plain": [
       "  Step \u001b[1;36m200\u001b[0m: \u001b[32m✓\u001b[0m \u001b[35mLimitBuy\u001b[0m, 💰 \u001b[36m$\u001b[0m\u001b[1;36m52.04\u001b[0m, 📊 \u001b[32m$\u001b[0m\u001b[1;32m57259.50\u001b[0m, 🌟 \u001b[1;33m-0.0417\u001b[0m\n"
      ]
     },
     "metadata": {},
     "output_type": "display_data"
    },
    {
     "data": {
      "text/html": [
       "<pre style=\"white-space:pre;overflow-x:auto;line-height:normal;font-family:Menlo,'DejaVu Sans Mono',consolas,'Courier New',monospace\">  Step <span style=\"color: #008080; text-decoration-color: #008080; font-weight: bold\">250</span>: <span style=\"color: #008000; text-decoration-color: #008000\">✓</span> <span style=\"color: #800080; text-decoration-color: #800080\">LimitBuy</span>, 💰 <span style=\"color: #008080; text-decoration-color: #008080\">$</span><span style=\"color: #008080; text-decoration-color: #008080; font-weight: bold\">57.34</span>, 📊 <span style=\"color: #008000; text-decoration-color: #008000\">$</span><span style=\"color: #008000; text-decoration-color: #008000; font-weight: bold\">63084.20</span>, 🌟 <span style=\"color: #808000; text-decoration-color: #808000; font-weight: bold\">-0.0033</span>\n",
       "</pre>\n"
      ],
      "text/plain": [
       "  Step \u001b[1;36m250\u001b[0m: \u001b[32m✓\u001b[0m \u001b[35mLimitBuy\u001b[0m, 💰 \u001b[36m$\u001b[0m\u001b[1;36m57.34\u001b[0m, 📊 \u001b[32m$\u001b[0m\u001b[1;32m63084.20\u001b[0m, 🌟 \u001b[1;33m-0.0033\u001b[0m\n"
      ]
     },
     "metadata": {},
     "output_type": "display_data"
    },
    {
     "data": {
      "text/html": [
       "<pre style=\"white-space:pre;overflow-x:auto;line-height:normal;font-family:Menlo,'DejaVu Sans Mono',consolas,'Courier New',monospace\">  Step <span style=\"color: #008080; text-decoration-color: #008080; font-weight: bold\">300</span>: <span style=\"color: #008000; text-decoration-color: #008000\">✓</span> <span style=\"color: #800080; text-decoration-color: #800080\">LimitBuy</span>, 💰 <span style=\"color: #008080; text-decoration-color: #008080\">$</span><span style=\"color: #008080; text-decoration-color: #008080; font-weight: bold\">61.61</span>, 📊 <span style=\"color: #008000; text-decoration-color: #008000\">$</span><span style=\"color: #008000; text-decoration-color: #008000; font-weight: bold\">67776.93</span>, 🌟 <span style=\"color: #808000; text-decoration-color: #808000; font-weight: bold\">0.0320</span>\n",
       "</pre>\n"
      ],
      "text/plain": [
       "  Step \u001b[1;36m300\u001b[0m: \u001b[32m✓\u001b[0m \u001b[35mLimitBuy\u001b[0m, 💰 \u001b[36m$\u001b[0m\u001b[1;36m61.61\u001b[0m, 📊 \u001b[32m$\u001b[0m\u001b[1;32m67776.93\u001b[0m, 🌟 \u001b[1;33m0.0320\u001b[0m\n"
      ]
     },
     "metadata": {},
     "output_type": "display_data"
    },
    {
     "data": {
      "text/html": [
       "<pre style=\"white-space:pre;overflow-x:auto;line-height:normal;font-family:Menlo,'DejaVu Sans Mono',consolas,'Courier New',monospace\">  Step <span style=\"color: #008080; text-decoration-color: #008080; font-weight: bold\">350</span>: <span style=\"color: #008000; text-decoration-color: #008000\">✓</span> <span style=\"color: #800080; text-decoration-color: #800080\">LimitBuy</span>, 💰 <span style=\"color: #008080; text-decoration-color: #008080\">$</span><span style=\"color: #008080; text-decoration-color: #008080; font-weight: bold\">65.68</span>, 📊 <span style=\"color: #008000; text-decoration-color: #008000\">$</span><span style=\"color: #008000; text-decoration-color: #008000; font-weight: bold\">72249.86</span>, 🌟 <span style=\"color: #808000; text-decoration-color: #808000; font-weight: bold\">0.0081</span>\n",
       "</pre>\n"
      ],
      "text/plain": [
       "  Step \u001b[1;36m350\u001b[0m: \u001b[32m✓\u001b[0m \u001b[35mLimitBuy\u001b[0m, 💰 \u001b[36m$\u001b[0m\u001b[1;36m65.68\u001b[0m, 📊 \u001b[32m$\u001b[0m\u001b[1;32m72249.86\u001b[0m, 🌟 \u001b[1;33m0.0081\u001b[0m\n"
      ]
     },
     "metadata": {},
     "output_type": "display_data"
    },
    {
     "data": {
      "text/html": [
       "<pre style=\"white-space:pre;overflow-x:auto;line-height:normal;font-family:Menlo,'DejaVu Sans Mono',consolas,'Courier New',monospace\">  Step <span style=\"color: #008080; text-decoration-color: #008080; font-weight: bold\">400</span>: <span style=\"color: #008000; text-decoration-color: #008000\">✓</span> <span style=\"color: #800080; text-decoration-color: #800080\">LimitBuy</span>, 💰 <span style=\"color: #008080; text-decoration-color: #008080\">$</span><span style=\"color: #008080; text-decoration-color: #008080; font-weight: bold\">68.11</span>, 📊 <span style=\"color: #008000; text-decoration-color: #008000\">$</span><span style=\"color: #008000; text-decoration-color: #008000; font-weight: bold\">73357.54</span>, 🌟 <span style=\"color: #808000; text-decoration-color: #808000; font-weight: bold\">0.0082</span>\n",
       "</pre>\n"
      ],
      "text/plain": [
       "  Step \u001b[1;36m400\u001b[0m: \u001b[32m✓\u001b[0m \u001b[35mLimitBuy\u001b[0m, 💰 \u001b[36m$\u001b[0m\u001b[1;36m68.11\u001b[0m, 📊 \u001b[32m$\u001b[0m\u001b[1;32m73357.54\u001b[0m, 🌟 \u001b[1;33m0.0082\u001b[0m\n"
      ]
     },
     "metadata": {},
     "output_type": "display_data"
    },
    {
     "data": {
      "text/html": [
       "<pre style=\"white-space:pre;overflow-x:auto;line-height:normal;font-family:Menlo,'DejaVu Sans Mono',consolas,'Courier New',monospace\">  Step <span style=\"color: #008080; text-decoration-color: #008080; font-weight: bold\">450</span>: <span style=\"color: #008000; text-decoration-color: #008000\">✓</span> <span style=\"color: #800080; text-decoration-color: #800080\">LimitBuy</span>, 💰 <span style=\"color: #008080; text-decoration-color: #008080\">$</span><span style=\"color: #008080; text-decoration-color: #008080; font-weight: bold\">82.19</span>, 📊 <span style=\"color: #008000; text-decoration-color: #008000\">$</span><span style=\"color: #008000; text-decoration-color: #008000; font-weight: bold\">88964.62</span>, 🌟 <span style=\"color: #808000; text-decoration-color: #808000; font-weight: bold\">0.0350</span>\n",
       "</pre>\n"
      ],
      "text/plain": [
       "  Step \u001b[1;36m450\u001b[0m: \u001b[32m✓\u001b[0m \u001b[35mLimitBuy\u001b[0m, 💰 \u001b[36m$\u001b[0m\u001b[1;36m82.19\u001b[0m, 📊 \u001b[32m$\u001b[0m\u001b[1;32m88964.62\u001b[0m, 🌟 \u001b[1;33m0.0350\u001b[0m\n"
      ]
     },
     "metadata": {},
     "output_type": "display_data"
    },
    {
     "data": {
      "text/html": [
       "<pre style=\"white-space:pre;overflow-x:auto;line-height:normal;font-family:Menlo,'DejaVu Sans Mono',consolas,'Courier New',monospace\">  Step <span style=\"color: #008080; text-decoration-color: #008080; font-weight: bold\">500</span>: <span style=\"color: #008000; text-decoration-color: #008000\">✓</span> <span style=\"color: #800080; text-decoration-color: #800080\">LimitBuy</span>, 💰 <span style=\"color: #008080; text-decoration-color: #008080\">$</span><span style=\"color: #008080; text-decoration-color: #008080; font-weight: bold\">89.71</span>, 📊 <span style=\"color: #008000; text-decoration-color: #008000\">$</span><span style=\"color: #008000; text-decoration-color: #008000; font-weight: bold\">97093.73</span>, 🌟 <span style=\"color: #808000; text-decoration-color: #808000; font-weight: bold\">-0.0183</span>\n",
       "</pre>\n"
      ],
      "text/plain": [
       "  Step \u001b[1;36m500\u001b[0m: \u001b[32m✓\u001b[0m \u001b[35mLimitBuy\u001b[0m, 💰 \u001b[36m$\u001b[0m\u001b[1;36m89.71\u001b[0m, 📊 \u001b[32m$\u001b[0m\u001b[1;32m97093.73\u001b[0m, 🌟 \u001b[1;33m-0.0183\u001b[0m\n"
      ]
     },
     "metadata": {},
     "output_type": "display_data"
    },
    {
     "data": {
      "text/html": [
       "<pre style=\"white-space:pre;overflow-x:auto;line-height:normal;font-family:Menlo,'DejaVu Sans Mono',consolas,'Courier New',monospace\">  Step <span style=\"color: #008080; text-decoration-color: #008080; font-weight: bold\">550</span>: <span style=\"color: #008000; text-decoration-color: #008000\">✓</span> <span style=\"color: #800080; text-decoration-color: #800080\">LimitBuy</span>, 💰 <span style=\"color: #008080; text-decoration-color: #008080\">$</span><span style=\"color: #008080; text-decoration-color: #008080; font-weight: bold\">117.81</span>, 📊 <span style=\"color: #008000; text-decoration-color: #008000\">$</span><span style=\"color: #008000; text-decoration-color: #008000; font-weight: bold\">111646.28</span>, 🌟 <span style=\"color: #808000; text-decoration-color: #808000; font-weight: bold\">-0.0076</span>\n",
       "</pre>\n"
      ],
      "text/plain": [
       "  Step \u001b[1;36m550\u001b[0m: \u001b[32m✓\u001b[0m \u001b[35mLimitBuy\u001b[0m, 💰 \u001b[36m$\u001b[0m\u001b[1;36m117.81\u001b[0m, 📊 \u001b[32m$\u001b[0m\u001b[1;32m111646.28\u001b[0m, 🌟 \u001b[1;33m-0.0076\u001b[0m\n"
      ]
     },
     "metadata": {},
     "output_type": "display_data"
    },
    {
     "data": {
      "text/html": [
       "<pre style=\"white-space:pre;overflow-x:auto;line-height:normal;font-family:Menlo,'DejaVu Sans Mono',consolas,'Courier New',monospace\">  Step <span style=\"color: #008080; text-decoration-color: #008080; font-weight: bold\">600</span>: <span style=\"color: #008000; text-decoration-color: #008000\">✓</span> <span style=\"color: #800080; text-decoration-color: #800080\">LimitBuy</span>, 💰 <span style=\"color: #008080; text-decoration-color: #008080\">$</span><span style=\"color: #008080; text-decoration-color: #008080; font-weight: bold\">114.25</span>, 📊 <span style=\"color: #008000; text-decoration-color: #008000\">$</span><span style=\"color: #008000; text-decoration-color: #008000; font-weight: bold\">108278.52</span>, 🌟 <span style=\"color: #808000; text-decoration-color: #808000; font-weight: bold\">-0.0039</span>\n",
       "</pre>\n"
      ],
      "text/plain": [
       "  Step \u001b[1;36m600\u001b[0m: \u001b[32m✓\u001b[0m \u001b[35mLimitBuy\u001b[0m, 💰 \u001b[36m$\u001b[0m\u001b[1;36m114.25\u001b[0m, 📊 \u001b[32m$\u001b[0m\u001b[1;32m108278.52\u001b[0m, 🌟 \u001b[1;33m-0.0039\u001b[0m\n"
      ]
     },
     "metadata": {},
     "output_type": "display_data"
    },
    {
     "data": {
      "text/html": [
       "<pre style=\"white-space:pre;overflow-x:auto;line-height:normal;font-family:Menlo,'DejaVu Sans Mono',consolas,'Courier New',monospace\">  Step <span style=\"color: #008080; text-decoration-color: #008080; font-weight: bold\">650</span>: <span style=\"color: #008000; text-decoration-color: #008000\">✓</span> <span style=\"color: #800080; text-decoration-color: #800080\">LimitBuy</span>, 💰 <span style=\"color: #008080; text-decoration-color: #008080\">$</span><span style=\"color: #008080; text-decoration-color: #008080; font-weight: bold\">99.85</span>, 📊 <span style=\"color: #008000; text-decoration-color: #008000\">$</span><span style=\"color: #008000; text-decoration-color: #008000; font-weight: bold\">94666.12</span>, 🌟 <span style=\"color: #808000; text-decoration-color: #808000; font-weight: bold\">0.0004</span>\n",
       "</pre>\n"
      ],
      "text/plain": [
       "  Step \u001b[1;36m650\u001b[0m: \u001b[32m✓\u001b[0m \u001b[35mLimitBuy\u001b[0m, 💰 \u001b[36m$\u001b[0m\u001b[1;36m99.85\u001b[0m, 📊 \u001b[32m$\u001b[0m\u001b[1;32m94666.12\u001b[0m, 🌟 \u001b[1;33m0.0004\u001b[0m\n"
      ]
     },
     "metadata": {},
     "output_type": "display_data"
    },
    {
     "data": {
      "text/html": [
       "<pre style=\"white-space:pre;overflow-x:auto;line-height:normal;font-family:Menlo,'DejaVu Sans Mono',consolas,'Courier New',monospace\"><span style=\"color: #008000; text-decoration-color: #008000; font-weight: bold\">Episode </span><span style=\"color: #008000; text-decoration-color: #008000; font-weight: bold\">5</span><span style=\"color: #008000; text-decoration-color: #008000; font-weight: bold\"> Results:</span>\n",
       "</pre>\n"
      ],
      "text/plain": [
       "\u001b[1;32mEpisode \u001b[0m\u001b[1;32m5\u001b[0m\u001b[1;32m Results:\u001b[0m\n"
      ]
     },
     "metadata": {},
     "output_type": "display_data"
    },
    {
     "data": {
      "text/html": [
       "<pre style=\"white-space:pre;overflow-x:auto;line-height:normal;font-family:Menlo,'DejaVu Sans Mono',consolas,'Courier New',monospace\">  Total Steps: <span style=\"color: #008080; text-decoration-color: #008080; font-weight: bold\">680</span>\n",
       "</pre>\n"
      ],
      "text/plain": [
       "  Total Steps: \u001b[1;36m680\u001b[0m\n"
      ]
     },
     "metadata": {},
     "output_type": "display_data"
    },
    {
     "data": {
      "text/html": [
       "<pre style=\"white-space:pre;overflow-x:auto;line-height:normal;font-family:Menlo,'DejaVu Sans Mono',consolas,'Courier New',monospace\">  Initial Portfolio Value: <span style=\"color: #008000; text-decoration-color: #008000\">$</span><span style=\"color: #008000; text-decoration-color: #008000; font-weight: bold\">100000.00</span>\n",
       "</pre>\n"
      ],
      "text/plain": [
       "  Initial Portfolio Value: \u001b[32m$\u001b[0m\u001b[1;32m100000.00\u001b[0m\n"
      ]
     },
     "metadata": {},
     "output_type": "display_data"
    },
    {
     "data": {
      "text/html": [
       "<pre style=\"white-space:pre;overflow-x:auto;line-height:normal;font-family:Menlo,'DejaVu Sans Mono',consolas,'Courier New',monospace\">  Final Portfolio Value: <span style=\"color: #008000; text-decoration-color: #008000\">$</span><span style=\"color: #008000; text-decoration-color: #008000; font-weight: bold\">98690.87</span>\n",
       "</pre>\n"
      ],
      "text/plain": [
       "  Final Portfolio Value: \u001b[32m$\u001b[0m\u001b[1;32m98690.87\u001b[0m\n"
      ]
     },
     "metadata": {},
     "output_type": "display_data"
    },
    {
     "data": {
      "text/html": [
       "<pre style=\"white-space:pre;overflow-x:auto;line-height:normal;font-family:Menlo,'DejaVu Sans Mono',consolas,'Courier New',monospace\">  Total Return: <span style=\"color: #800000; text-decoration-color: #800000; font-weight: bold\">-1.31</span><span style=\"color: #800000; text-decoration-color: #800000\">%</span>\n",
       "</pre>\n"
      ],
      "text/plain": [
       "  Total Return: \u001b[1;31m-1.31\u001b[0m\u001b[31m%\u001b[0m\n"
      ]
     },
     "metadata": {},
     "output_type": "display_data"
    },
    {
     "data": {
      "text/html": [
       "<pre style=\"white-space:pre;overflow-x:auto;line-height:normal;font-family:Menlo,'DejaVu Sans Mono',consolas,'Courier New',monospace\">  Total Reward: <span style=\"color: #808000; text-decoration-color: #808000; font-weight: bold\">5.68</span>\n",
       "</pre>\n"
      ],
      "text/plain": [
       "  Total Reward: \u001b[1;33m5.68\u001b[0m\n"
      ]
     },
     "metadata": {},
     "output_type": "display_data"
    },
    {
     "data": {
      "text/html": [
       "<pre style=\"white-space:pre;overflow-x:auto;line-height:normal;font-family:Menlo,'DejaVu Sans Mono',consolas,'Courier New',monospace\"><span style=\"font-style: italic\">       Action Distribution        </span>\n",
       "┏━━━━━━━━━━━┳━━━━━━━┳━━━━━━━━━━━━┓\n",
       "┃<span style=\"font-weight: bold\"> Action    </span>┃<span style=\"font-weight: bold\"> Count </span>┃<span style=\"font-weight: bold\"> Percentage </span>┃\n",
       "┡━━━━━━━━━━━╇━━━━━━━╇━━━━━━━━━━━━┩\n",
       "│<span style=\"color: #008080; text-decoration-color: #008080\"> LimitBuy  </span>│<span style=\"color: #008000; text-decoration-color: #008000\">   672 </span>│<span style=\"color: #808000; text-decoration-color: #808000\">      98.8% </span>│\n",
       "│<span style=\"color: #008080; text-decoration-color: #008080\"> LimitSell </span>│<span style=\"color: #008000; text-decoration-color: #008000\">     3 </span>│<span style=\"color: #808000; text-decoration-color: #808000\">       0.4% </span>│\n",
       "│<span style=\"color: #008080; text-decoration-color: #008080\"> Sell      </span>│<span style=\"color: #008000; text-decoration-color: #008000\">     4 </span>│<span style=\"color: #808000; text-decoration-color: #808000\">       0.6% </span>│\n",
       "│<span style=\"color: #008080; text-decoration-color: #008080\"> Hold      </span>│<span style=\"color: #008000; text-decoration-color: #008000\">     1 </span>│<span style=\"color: #808000; text-decoration-color: #808000\">       0.1% </span>│\n",
       "└───────────┴───────┴────────────┘\n",
       "</pre>\n"
      ],
      "text/plain": [
       "\u001b[3m       Action Distribution        \u001b[0m\n",
       "┏━━━━━━━━━━━┳━━━━━━━┳━━━━━━━━━━━━┓\n",
       "┃\u001b[1m \u001b[0m\u001b[1mAction   \u001b[0m\u001b[1m \u001b[0m┃\u001b[1m \u001b[0m\u001b[1mCount\u001b[0m\u001b[1m \u001b[0m┃\u001b[1m \u001b[0m\u001b[1mPercentage\u001b[0m\u001b[1m \u001b[0m┃\n",
       "┡━━━━━━━━━━━╇━━━━━━━╇━━━━━━━━━━━━┩\n",
       "│\u001b[36m \u001b[0m\u001b[36mLimitBuy \u001b[0m\u001b[36m \u001b[0m│\u001b[32m \u001b[0m\u001b[32m  672\u001b[0m\u001b[32m \u001b[0m│\u001b[33m \u001b[0m\u001b[33m     98.8%\u001b[0m\u001b[33m \u001b[0m│\n",
       "│\u001b[36m \u001b[0m\u001b[36mLimitSell\u001b[0m\u001b[36m \u001b[0m│\u001b[32m \u001b[0m\u001b[32m    3\u001b[0m\u001b[32m \u001b[0m│\u001b[33m \u001b[0m\u001b[33m      0.4%\u001b[0m\u001b[33m \u001b[0m│\n",
       "│\u001b[36m \u001b[0m\u001b[36mSell     \u001b[0m\u001b[36m \u001b[0m│\u001b[32m \u001b[0m\u001b[32m    4\u001b[0m\u001b[32m \u001b[0m│\u001b[33m \u001b[0m\u001b[33m      0.6%\u001b[0m\u001b[33m \u001b[0m│\n",
       "│\u001b[36m \u001b[0m\u001b[36mHold     \u001b[0m\u001b[36m \u001b[0m│\u001b[32m \u001b[0m\u001b[32m    1\u001b[0m\u001b[32m \u001b[0m│\u001b[33m \u001b[0m\u001b[33m      0.1%\u001b[0m\u001b[33m \u001b[0m│\n",
       "└───────────┴───────┴────────────┘\n"
      ]
     },
     "metadata": {},
     "output_type": "display_data"
    },
    {
     "data": {
      "text/html": [
       "<pre style=\"white-space:pre;overflow-x:auto;line-height:normal;font-family:Menlo,'DejaVu Sans Mono',consolas,'Courier New',monospace\"></pre>\n"
      ],
      "text/plain": []
     },
     "metadata": {},
     "output_type": "display_data"
    },
    {
     "data": {
      "text/html": [
       "<pre style=\"white-space:pre;overflow-x:auto;line-height:normal;font-family:Menlo,'DejaVu Sans Mono',consolas,'Courier New',monospace\">\n",
       "<span style=\"color: #800080; text-decoration-color: #800080; font-weight: bold\">=== Overall Evaluation Summary ===</span>\n",
       "</pre>\n"
      ],
      "text/plain": [
       "\n",
       "\u001b[1;35m=== Overall Evaluation Summary ===\u001b[0m\n"
      ]
     },
     "metadata": {},
     "output_type": "display_data"
    },
    {
     "data": {
      "text/html": [
       "<pre style=\"white-space:pre;overflow-x:auto;line-height:normal;font-family:Menlo,'DejaVu Sans Mono',consolas,'Courier New',monospace\"><span style=\"font-style: italic\">       Summary Statistics        </span>\n",
       "┏━━━━━━━━━━━━━━━━━━━━━━┳━━━━━━━━┓\n",
       "┃<span style=\"font-weight: bold\"> Metric               </span>┃<span style=\"font-weight: bold\"> Value  </span>┃\n",
       "┡━━━━━━━━━━━━━━━━━━━━━━╇━━━━━━━━┩\n",
       "│<span style=\"color: #008080; text-decoration-color: #008080\"> Total Episodes       </span>│<span style=\"color: #008000; text-decoration-color: #008000\"> 5      </span>│\n",
       "│<span style=\"color: #008080; text-decoration-color: #008080\"> Average Reward       </span>│<span style=\"color: #008000; text-decoration-color: #008000\"> 5.68   </span>│\n",
       "│<span style=\"color: #008080; text-decoration-color: #008080\"> Reward Std Dev       </span>│<span style=\"color: #008000; text-decoration-color: #008000\"> 0.00   </span>│\n",
       "│<span style=\"color: #008080; text-decoration-color: #008080\"> Best Episode Reward  </span>│<span style=\"color: #008000; text-decoration-color: #008000\"> 5.68   </span>│\n",
       "│<span style=\"color: #008080; text-decoration-color: #008080\"> Worst Episode Reward </span>│<span style=\"color: #008000; text-decoration-color: #008000\"> 5.68   </span>│\n",
       "│<span style=\"color: #008080; text-decoration-color: #008080\"> Average Return       </span>│<span style=\"color: #008000; text-decoration-color: #008000\"> </span><span style=\"color: #800000; text-decoration-color: #800000\">-1.31%</span><span style=\"color: #008000; text-decoration-color: #008000\"> </span>│\n",
       "└──────────────────────┴────────┘\n",
       "</pre>\n"
      ],
      "text/plain": [
       "\u001b[3m       Summary Statistics        \u001b[0m\n",
       "┏━━━━━━━━━━━━━━━━━━━━━━┳━━━━━━━━┓\n",
       "┃\u001b[1m \u001b[0m\u001b[1mMetric              \u001b[0m\u001b[1m \u001b[0m┃\u001b[1m \u001b[0m\u001b[1mValue \u001b[0m\u001b[1m \u001b[0m┃\n",
       "┡━━━━━━━━━━━━━━━━━━━━━━╇━━━━━━━━┩\n",
       "│\u001b[36m \u001b[0m\u001b[36mTotal Episodes      \u001b[0m\u001b[36m \u001b[0m│\u001b[32m \u001b[0m\u001b[32m5     \u001b[0m\u001b[32m \u001b[0m│\n",
       "│\u001b[36m \u001b[0m\u001b[36mAverage Reward      \u001b[0m\u001b[36m \u001b[0m│\u001b[32m \u001b[0m\u001b[32m5.68  \u001b[0m\u001b[32m \u001b[0m│\n",
       "│\u001b[36m \u001b[0m\u001b[36mReward Std Dev      \u001b[0m\u001b[36m \u001b[0m│\u001b[32m \u001b[0m\u001b[32m0.00  \u001b[0m\u001b[32m \u001b[0m│\n",
       "│\u001b[36m \u001b[0m\u001b[36mBest Episode Reward \u001b[0m\u001b[36m \u001b[0m│\u001b[32m \u001b[0m\u001b[32m5.68  \u001b[0m\u001b[32m \u001b[0m│\n",
       "│\u001b[36m \u001b[0m\u001b[36mWorst Episode Reward\u001b[0m\u001b[36m \u001b[0m│\u001b[32m \u001b[0m\u001b[32m5.68  \u001b[0m\u001b[32m \u001b[0m│\n",
       "│\u001b[36m \u001b[0m\u001b[36mAverage Return      \u001b[0m\u001b[36m \u001b[0m│\u001b[32m \u001b[0m\u001b[31m-1.31%\u001b[0m\u001b[32m \u001b[0m│\n",
       "└──────────────────────┴────────┘\n"
      ]
     },
     "metadata": {},
     "output_type": "display_data"
    },
    {
     "name": "stdout",
     "output_type": "stream",
     "text": [
      "SingleStockTradingEnv closed.\n"
     ]
    },
    {
     "data": {
      "text/html": [
       "<pre style=\"white-space:pre;overflow-x:auto;line-height:normal;font-family:Menlo,'DejaVu Sans Mono',consolas,'Courier New',monospace\">\n",
       "<span style=\"color: #000080; text-decoration-color: #000080; font-weight: bold\">🧪 TEST EVALUATION:</span><span style=\"color: #000080; text-decoration-color: #000080\"> Running model on unseen test dataset</span>\n",
       "</pre>\n"
      ],
      "text/plain": [
       "\n",
       "\u001b[1;34m🧪 TEST EVALUATION:\u001b[0m\u001b[34m Running model on unseen test dataset\u001b[0m\n"
      ]
     },
     "metadata": {},
     "output_type": "display_data"
    },
    {
     "data": {
      "text/html": [
       "<pre style=\"white-space:pre;overflow-x:auto;line-height:normal;font-family:Menlo,'DejaVu Sans Mono',consolas,'Courier New',monospace\"><span style=\"color: #000080; text-decoration-color: #000080; font-weight: bold\">Evaluating </span><span style=\"color: #008000; text-decoration-color: #008000\">SAC</span><span style=\"color: #000080; text-decoration-color: #000080; font-weight: bold\"> model for </span><span style=\"color: #808000; text-decoration-color: #808000; font-weight: bold\">5</span><span style=\"color: #000080; text-decoration-color: #000080; font-weight: bold\"> episodes...</span>\n",
       "</pre>\n"
      ],
      "text/plain": [
       "\u001b[1;34mEvaluating \u001b[0m\u001b[32mSAC\u001b[0m\u001b[1;34m model for \u001b[0m\u001b[1;33m5\u001b[0m\u001b[1;34m episodes\u001b[0m\u001b[1;34m...\u001b[0m\n"
      ]
     },
     "metadata": {},
     "output_type": "display_data"
    },
    {
     "data": {
      "application/vnd.jupyter.widget-view+json": {
       "model_id": "1c8d48cbfdd349a8978c75f065b7843b",
       "version_major": 2,
       "version_minor": 0
      },
      "text/plain": [
       "Output()"
      ]
     },
     "metadata": {},
     "output_type": "display_data"
    },
    {
     "data": {
      "text/html": [
       "<pre style=\"white-space:pre;overflow-x:auto;line-height:normal;font-family:Menlo,'DejaVu Sans Mono',consolas,'Courier New',monospace\"><span style=\"color: #808000; text-decoration-color: #808000\">--- Episode </span><span style=\"color: #808000; text-decoration-color: #808000; font-weight: bold\">1</span><span style=\"color: #808000; text-decoration-color: #808000\">/</span><span style=\"color: #808000; text-decoration-color: #808000; font-weight: bold\">5</span><span style=\"color: #808000; text-decoration-color: #808000\"> ---</span>\n",
       "</pre>\n"
      ],
      "text/plain": [
       "\u001b[33m--- Episode \u001b[0m\u001b[1;33m1\u001b[0m\u001b[33m/\u001b[0m\u001b[1;33m5\u001b[0m\u001b[33m ---\u001b[0m\n"
      ]
     },
     "metadata": {},
     "output_type": "display_data"
    },
    {
     "data": {
      "text/html": [
       "<pre style=\"white-space:pre;overflow-x:auto;line-height:normal;font-family:Menlo,'DejaVu Sans Mono',consolas,'Courier New',monospace\">  Step <span style=\"color: #008080; text-decoration-color: #008080; font-weight: bold\">0</span>: <span style=\"color: #008000; text-decoration-color: #008000\">✓</span> <span style=\"color: #800080; text-decoration-color: #800080\">LimitBuy</span>, 💰 <span style=\"color: #008080; text-decoration-color: #008080\">$</span><span style=\"color: #008080; text-decoration-color: #008080; font-weight: bold\">102.50</span>, 📊 <span style=\"color: #008000; text-decoration-color: #008000\">$</span><span style=\"color: #008000; text-decoration-color: #008000; font-weight: bold\">51073.61</span>, 🌟 <span style=\"color: #808000; text-decoration-color: #808000; font-weight: bold\">-0.5005</span>\n",
       "</pre>\n"
      ],
      "text/plain": [
       "  Step \u001b[1;36m0\u001b[0m: \u001b[32m✓\u001b[0m \u001b[35mLimitBuy\u001b[0m, 💰 \u001b[36m$\u001b[0m\u001b[1;36m102.50\u001b[0m, 📊 \u001b[32m$\u001b[0m\u001b[1;32m51073.61\u001b[0m, 🌟 \u001b[1;33m-0.5005\u001b[0m\n"
      ]
     },
     "metadata": {},
     "output_type": "display_data"
    },
    {
     "data": {
      "text/html": [
       "<pre style=\"white-space:pre;overflow-x:auto;line-height:normal;font-family:Menlo,'DejaVu Sans Mono',consolas,'Courier New',monospace\">  Step <span style=\"color: #008080; text-decoration-color: #008080; font-weight: bold\">50</span>: <span style=\"color: #008000; text-decoration-color: #008000\">✓</span> <span style=\"color: #800080; text-decoration-color: #800080\">LimitBuy</span>, 💰 <span style=\"color: #008080; text-decoration-color: #008080\">$</span><span style=\"color: #008080; text-decoration-color: #008080; font-weight: bold\">93.63</span>, 📊 <span style=\"color: #008000; text-decoration-color: #008000\">$</span><span style=\"color: #008000; text-decoration-color: #008000; font-weight: bold\">89096.73</span>, 🌟 <span style=\"color: #808000; text-decoration-color: #808000; font-weight: bold\">0.0882</span>\n",
       "</pre>\n"
      ],
      "text/plain": [
       "  Step \u001b[1;36m50\u001b[0m: \u001b[32m✓\u001b[0m \u001b[35mLimitBuy\u001b[0m, 💰 \u001b[36m$\u001b[0m\u001b[1;36m93.63\u001b[0m, 📊 \u001b[32m$\u001b[0m\u001b[1;32m89096.73\u001b[0m, 🌟 \u001b[1;33m0.0882\u001b[0m\n"
      ]
     },
     "metadata": {},
     "output_type": "display_data"
    },
    {
     "data": {
      "text/html": [
       "<pre style=\"white-space:pre;overflow-x:auto;line-height:normal;font-family:Menlo,'DejaVu Sans Mono',consolas,'Courier New',monospace\">  Step <span style=\"color: #008080; text-decoration-color: #008080; font-weight: bold\">100</span>: <span style=\"color: #008000; text-decoration-color: #008000\">✓</span> <span style=\"color: #800080; text-decoration-color: #800080\">LimitBuy</span>, 💰 <span style=\"color: #008080; text-decoration-color: #008080\">$</span><span style=\"color: #008080; text-decoration-color: #008080; font-weight: bold\">92.29</span>, 📊 <span style=\"color: #008000; text-decoration-color: #008000\">$</span><span style=\"color: #008000; text-decoration-color: #008000; font-weight: bold\">57721.44</span>, 🌟 <span style=\"color: #808000; text-decoration-color: #808000; font-weight: bold\">0.0172</span>\n",
       "</pre>\n"
      ],
      "text/plain": [
       "  Step \u001b[1;36m100\u001b[0m: \u001b[32m✓\u001b[0m \u001b[35mLimitBuy\u001b[0m, 💰 \u001b[36m$\u001b[0m\u001b[1;36m92.29\u001b[0m, 📊 \u001b[32m$\u001b[0m\u001b[1;32m57721.44\u001b[0m, 🌟 \u001b[1;33m0.0172\u001b[0m\n"
      ]
     },
     "metadata": {},
     "output_type": "display_data"
    },
    {
     "data": {
      "text/html": [
       "<pre style=\"white-space:pre;overflow-x:auto;line-height:normal;font-family:Menlo,'DejaVu Sans Mono',consolas,'Courier New',monospace\">  Step <span style=\"color: #008080; text-decoration-color: #008080; font-weight: bold\">150</span>: <span style=\"color: #008000; text-decoration-color: #008000\">✓</span> <span style=\"color: #800080; text-decoration-color: #800080\">LimitBuy</span>, 💰 <span style=\"color: #008080; text-decoration-color: #008080\">$</span><span style=\"color: #008080; text-decoration-color: #008080; font-weight: bold\">111.73</span>, 📊 <span style=\"color: #008000; text-decoration-color: #008000\">$</span><span style=\"color: #008000; text-decoration-color: #008000; font-weight: bold\">97712.63</span>, 🌟 <span style=\"color: #808000; text-decoration-color: #808000; font-weight: bold\">0.0223</span>\n",
       "</pre>\n"
      ],
      "text/plain": [
       "  Step \u001b[1;36m150\u001b[0m: \u001b[32m✓\u001b[0m \u001b[35mLimitBuy\u001b[0m, 💰 \u001b[36m$\u001b[0m\u001b[1;36m111.73\u001b[0m, 📊 \u001b[32m$\u001b[0m\u001b[1;32m97712.63\u001b[0m, 🌟 \u001b[1;33m0.0223\u001b[0m\n"
      ]
     },
     "metadata": {},
     "output_type": "display_data"
    },
    {
     "data": {
      "text/html": [
       "<pre style=\"white-space:pre;overflow-x:auto;line-height:normal;font-family:Menlo,'DejaVu Sans Mono',consolas,'Courier New',monospace\"><span style=\"color: #008000; text-decoration-color: #008000; font-weight: bold\">Episode </span><span style=\"color: #008000; text-decoration-color: #008000; font-weight: bold\">1</span><span style=\"color: #008000; text-decoration-color: #008000; font-weight: bold\"> Results:</span>\n",
       "</pre>\n"
      ],
      "text/plain": [
       "\u001b[1;32mEpisode \u001b[0m\u001b[1;32m1\u001b[0m\u001b[1;32m Results:\u001b[0m\n"
      ]
     },
     "metadata": {},
     "output_type": "display_data"
    },
    {
     "data": {
      "text/html": [
       "<pre style=\"white-space:pre;overflow-x:auto;line-height:normal;font-family:Menlo,'DejaVu Sans Mono',consolas,'Courier New',monospace\">  Total Steps: <span style=\"color: #008080; text-decoration-color: #008080; font-weight: bold\">155</span>\n",
       "</pre>\n"
      ],
      "text/plain": [
       "  Total Steps: \u001b[1;36m155\u001b[0m\n"
      ]
     },
     "metadata": {},
     "output_type": "display_data"
    },
    {
     "data": {
      "text/html": [
       "<pre style=\"white-space:pre;overflow-x:auto;line-height:normal;font-family:Menlo,'DejaVu Sans Mono',consolas,'Courier New',monospace\">  Initial Portfolio Value: <span style=\"color: #008000; text-decoration-color: #008000\">$</span><span style=\"color: #008000; text-decoration-color: #008000; font-weight: bold\">100000.00</span>\n",
       "</pre>\n"
      ],
      "text/plain": [
       "  Initial Portfolio Value: \u001b[32m$\u001b[0m\u001b[1;32m100000.00\u001b[0m\n"
      ]
     },
     "metadata": {},
     "output_type": "display_data"
    },
    {
     "data": {
      "text/html": [
       "<pre style=\"white-space:pre;overflow-x:auto;line-height:normal;font-family:Menlo,'DejaVu Sans Mono',consolas,'Courier New',monospace\">  Final Portfolio Value: <span style=\"color: #008000; text-decoration-color: #008000\">$</span><span style=\"color: #008000; text-decoration-color: #008000; font-weight: bold\">100340.36</span>\n",
       "</pre>\n"
      ],
      "text/plain": [
       "  Final Portfolio Value: \u001b[32m$\u001b[0m\u001b[1;32m100340.36\u001b[0m\n"
      ]
     },
     "metadata": {},
     "output_type": "display_data"
    },
    {
     "data": {
      "text/html": [
       "<pre style=\"white-space:pre;overflow-x:auto;line-height:normal;font-family:Menlo,'DejaVu Sans Mono',consolas,'Courier New',monospace\">  Total Return: <span style=\"color: #008000; text-decoration-color: #008000; font-weight: bold\">0.34</span><span style=\"color: #008000; text-decoration-color: #008000\">%</span>\n",
       "</pre>\n"
      ],
      "text/plain": [
       "  Total Return: \u001b[1;32m0.34\u001b[0m\u001b[32m%\u001b[0m\n"
      ]
     },
     "metadata": {},
     "output_type": "display_data"
    },
    {
     "data": {
      "text/html": [
       "<pre style=\"white-space:pre;overflow-x:auto;line-height:normal;font-family:Menlo,'DejaVu Sans Mono',consolas,'Courier New',monospace\">  Total Reward: <span style=\"color: #808000; text-decoration-color: #808000; font-weight: bold\">9.43</span>\n",
       "</pre>\n"
      ],
      "text/plain": [
       "  Total Reward: \u001b[1;33m9.43\u001b[0m\n"
      ]
     },
     "metadata": {},
     "output_type": "display_data"
    },
    {
     "data": {
      "text/html": [
       "<pre style=\"white-space:pre;overflow-x:auto;line-height:normal;font-family:Menlo,'DejaVu Sans Mono',consolas,'Courier New',monospace\"><span style=\"font-style: italic\">        Action Distribution        </span>\n",
       "┏━━━━━━━━━━━━┳━━━━━━━┳━━━━━━━━━━━━┓\n",
       "┃<span style=\"font-weight: bold\"> Action     </span>┃<span style=\"font-weight: bold\"> Count </span>┃<span style=\"font-weight: bold\"> Percentage </span>┃\n",
       "┡━━━━━━━━━━━━╇━━━━━━━╇━━━━━━━━━━━━┩\n",
       "│<span style=\"color: #008080; text-decoration-color: #008080\"> LimitBuy   </span>│<span style=\"color: #008000; text-decoration-color: #008000\">   150 </span>│<span style=\"color: #808000; text-decoration-color: #808000\">      96.8% </span>│\n",
       "│<span style=\"color: #008080; text-decoration-color: #008080\"> Buy        </span>│<span style=\"color: #008000; text-decoration-color: #008000\">     1 </span>│<span style=\"color: #808000; text-decoration-color: #808000\">       0.6% </span>│\n",
       "│<span style=\"color: #008080; text-decoration-color: #008080\"> LimitSell  </span>│<span style=\"color: #008000; text-decoration-color: #008000\">     1 </span>│<span style=\"color: #808000; text-decoration-color: #808000\">       0.6% </span>│\n",
       "│<span style=\"color: #008080; text-decoration-color: #008080\"> TakeProfit </span>│<span style=\"color: #008000; text-decoration-color: #008000\">     1 </span>│<span style=\"color: #808000; text-decoration-color: #808000\">       0.6% </span>│\n",
       "│<span style=\"color: #008080; text-decoration-color: #008080\"> Sell       </span>│<span style=\"color: #008000; text-decoration-color: #008000\">     2 </span>│<span style=\"color: #808000; text-decoration-color: #808000\">       1.3% </span>│\n",
       "└────────────┴───────┴────────────┘\n",
       "</pre>\n"
      ],
      "text/plain": [
       "\u001b[3m        Action Distribution        \u001b[0m\n",
       "┏━━━━━━━━━━━━┳━━━━━━━┳━━━━━━━━━━━━┓\n",
       "┃\u001b[1m \u001b[0m\u001b[1mAction    \u001b[0m\u001b[1m \u001b[0m┃\u001b[1m \u001b[0m\u001b[1mCount\u001b[0m\u001b[1m \u001b[0m┃\u001b[1m \u001b[0m\u001b[1mPercentage\u001b[0m\u001b[1m \u001b[0m┃\n",
       "┡━━━━━━━━━━━━╇━━━━━━━╇━━━━━━━━━━━━┩\n",
       "│\u001b[36m \u001b[0m\u001b[36mLimitBuy  \u001b[0m\u001b[36m \u001b[0m│\u001b[32m \u001b[0m\u001b[32m  150\u001b[0m\u001b[32m \u001b[0m│\u001b[33m \u001b[0m\u001b[33m     96.8%\u001b[0m\u001b[33m \u001b[0m│\n",
       "│\u001b[36m \u001b[0m\u001b[36mBuy       \u001b[0m\u001b[36m \u001b[0m│\u001b[32m \u001b[0m\u001b[32m    1\u001b[0m\u001b[32m \u001b[0m│\u001b[33m \u001b[0m\u001b[33m      0.6%\u001b[0m\u001b[33m \u001b[0m│\n",
       "│\u001b[36m \u001b[0m\u001b[36mLimitSell \u001b[0m\u001b[36m \u001b[0m│\u001b[32m \u001b[0m\u001b[32m    1\u001b[0m\u001b[32m \u001b[0m│\u001b[33m \u001b[0m\u001b[33m      0.6%\u001b[0m\u001b[33m \u001b[0m│\n",
       "│\u001b[36m \u001b[0m\u001b[36mTakeProfit\u001b[0m\u001b[36m \u001b[0m│\u001b[32m \u001b[0m\u001b[32m    1\u001b[0m\u001b[32m \u001b[0m│\u001b[33m \u001b[0m\u001b[33m      0.6%\u001b[0m\u001b[33m \u001b[0m│\n",
       "│\u001b[36m \u001b[0m\u001b[36mSell      \u001b[0m\u001b[36m \u001b[0m│\u001b[32m \u001b[0m\u001b[32m    2\u001b[0m\u001b[32m \u001b[0m│\u001b[33m \u001b[0m\u001b[33m      1.3%\u001b[0m\u001b[33m \u001b[0m│\n",
       "└────────────┴───────┴────────────┘\n"
      ]
     },
     "metadata": {},
     "output_type": "display_data"
    },
    {
     "data": {
      "text/html": [
       "<pre style=\"white-space:pre;overflow-x:auto;line-height:normal;font-family:Menlo,'DejaVu Sans Mono',consolas,'Courier New',monospace\"><span style=\"color: #808000; text-decoration-color: #808000\">--- Episode </span><span style=\"color: #808000; text-decoration-color: #808000; font-weight: bold\">2</span><span style=\"color: #808000; text-decoration-color: #808000\">/</span><span style=\"color: #808000; text-decoration-color: #808000; font-weight: bold\">5</span><span style=\"color: #808000; text-decoration-color: #808000\"> ---</span>\n",
       "</pre>\n"
      ],
      "text/plain": [
       "\u001b[33m--- Episode \u001b[0m\u001b[1;33m2\u001b[0m\u001b[33m/\u001b[0m\u001b[1;33m5\u001b[0m\u001b[33m ---\u001b[0m\n"
      ]
     },
     "metadata": {},
     "output_type": "display_data"
    },
    {
     "data": {
      "text/html": [
       "<pre style=\"white-space:pre;overflow-x:auto;line-height:normal;font-family:Menlo,'DejaVu Sans Mono',consolas,'Courier New',monospace\">  Step <span style=\"color: #008080; text-decoration-color: #008080; font-weight: bold\">0</span>: <span style=\"color: #008000; text-decoration-color: #008000\">✓</span> <span style=\"color: #800080; text-decoration-color: #800080\">LimitBuy</span>, 💰 <span style=\"color: #008080; text-decoration-color: #008080\">$</span><span style=\"color: #008080; text-decoration-color: #008080; font-weight: bold\">102.50</span>, 📊 <span style=\"color: #008000; text-decoration-color: #008000\">$</span><span style=\"color: #008000; text-decoration-color: #008000; font-weight: bold\">51073.61</span>, 🌟 <span style=\"color: #808000; text-decoration-color: #808000; font-weight: bold\">-0.5005</span>\n",
       "</pre>\n"
      ],
      "text/plain": [
       "  Step \u001b[1;36m0\u001b[0m: \u001b[32m✓\u001b[0m \u001b[35mLimitBuy\u001b[0m, 💰 \u001b[36m$\u001b[0m\u001b[1;36m102.50\u001b[0m, 📊 \u001b[32m$\u001b[0m\u001b[1;32m51073.61\u001b[0m, 🌟 \u001b[1;33m-0.5005\u001b[0m\n"
      ]
     },
     "metadata": {},
     "output_type": "display_data"
    },
    {
     "data": {
      "text/html": [
       "<pre style=\"white-space:pre;overflow-x:auto;line-height:normal;font-family:Menlo,'DejaVu Sans Mono',consolas,'Courier New',monospace\">  Step <span style=\"color: #008080; text-decoration-color: #008080; font-weight: bold\">50</span>: <span style=\"color: #008000; text-decoration-color: #008000\">✓</span> <span style=\"color: #800080; text-decoration-color: #800080\">LimitBuy</span>, 💰 <span style=\"color: #008080; text-decoration-color: #008080\">$</span><span style=\"color: #008080; text-decoration-color: #008080; font-weight: bold\">93.63</span>, 📊 <span style=\"color: #008000; text-decoration-color: #008000\">$</span><span style=\"color: #008000; text-decoration-color: #008000; font-weight: bold\">89096.73</span>, 🌟 <span style=\"color: #808000; text-decoration-color: #808000; font-weight: bold\">0.0882</span>\n",
       "</pre>\n"
      ],
      "text/plain": [
       "  Step \u001b[1;36m50\u001b[0m: \u001b[32m✓\u001b[0m \u001b[35mLimitBuy\u001b[0m, 💰 \u001b[36m$\u001b[0m\u001b[1;36m93.63\u001b[0m, 📊 \u001b[32m$\u001b[0m\u001b[1;32m89096.73\u001b[0m, 🌟 \u001b[1;33m0.0882\u001b[0m\n"
      ]
     },
     "metadata": {},
     "output_type": "display_data"
    },
    {
     "data": {
      "text/html": [
       "<pre style=\"white-space:pre;overflow-x:auto;line-height:normal;font-family:Menlo,'DejaVu Sans Mono',consolas,'Courier New',monospace\">  Step <span style=\"color: #008080; text-decoration-color: #008080; font-weight: bold\">100</span>: <span style=\"color: #008000; text-decoration-color: #008000\">✓</span> <span style=\"color: #800080; text-decoration-color: #800080\">LimitBuy</span>, 💰 <span style=\"color: #008080; text-decoration-color: #008080\">$</span><span style=\"color: #008080; text-decoration-color: #008080; font-weight: bold\">92.29</span>, 📊 <span style=\"color: #008000; text-decoration-color: #008000\">$</span><span style=\"color: #008000; text-decoration-color: #008000; font-weight: bold\">57721.44</span>, 🌟 <span style=\"color: #808000; text-decoration-color: #808000; font-weight: bold\">0.0172</span>\n",
       "</pre>\n"
      ],
      "text/plain": [
       "  Step \u001b[1;36m100\u001b[0m: \u001b[32m✓\u001b[0m \u001b[35mLimitBuy\u001b[0m, 💰 \u001b[36m$\u001b[0m\u001b[1;36m92.29\u001b[0m, 📊 \u001b[32m$\u001b[0m\u001b[1;32m57721.44\u001b[0m, 🌟 \u001b[1;33m0.0172\u001b[0m\n"
      ]
     },
     "metadata": {},
     "output_type": "display_data"
    },
    {
     "data": {
      "text/html": [
       "<pre style=\"white-space:pre;overflow-x:auto;line-height:normal;font-family:Menlo,'DejaVu Sans Mono',consolas,'Courier New',monospace\">  Step <span style=\"color: #008080; text-decoration-color: #008080; font-weight: bold\">150</span>: <span style=\"color: #008000; text-decoration-color: #008000\">✓</span> <span style=\"color: #800080; text-decoration-color: #800080\">LimitBuy</span>, 💰 <span style=\"color: #008080; text-decoration-color: #008080\">$</span><span style=\"color: #008080; text-decoration-color: #008080; font-weight: bold\">111.73</span>, 📊 <span style=\"color: #008000; text-decoration-color: #008000\">$</span><span style=\"color: #008000; text-decoration-color: #008000; font-weight: bold\">97712.63</span>, 🌟 <span style=\"color: #808000; text-decoration-color: #808000; font-weight: bold\">0.0223</span>\n",
       "</pre>\n"
      ],
      "text/plain": [
       "  Step \u001b[1;36m150\u001b[0m: \u001b[32m✓\u001b[0m \u001b[35mLimitBuy\u001b[0m, 💰 \u001b[36m$\u001b[0m\u001b[1;36m111.73\u001b[0m, 📊 \u001b[32m$\u001b[0m\u001b[1;32m97712.63\u001b[0m, 🌟 \u001b[1;33m0.0223\u001b[0m\n"
      ]
     },
     "metadata": {},
     "output_type": "display_data"
    },
    {
     "data": {
      "text/html": [
       "<pre style=\"white-space:pre;overflow-x:auto;line-height:normal;font-family:Menlo,'DejaVu Sans Mono',consolas,'Courier New',monospace\"><span style=\"color: #008000; text-decoration-color: #008000; font-weight: bold\">Episode </span><span style=\"color: #008000; text-decoration-color: #008000; font-weight: bold\">2</span><span style=\"color: #008000; text-decoration-color: #008000; font-weight: bold\"> Results:</span>\n",
       "</pre>\n"
      ],
      "text/plain": [
       "\u001b[1;32mEpisode \u001b[0m\u001b[1;32m2\u001b[0m\u001b[1;32m Results:\u001b[0m\n"
      ]
     },
     "metadata": {},
     "output_type": "display_data"
    },
    {
     "data": {
      "text/html": [
       "<pre style=\"white-space:pre;overflow-x:auto;line-height:normal;font-family:Menlo,'DejaVu Sans Mono',consolas,'Courier New',monospace\">  Total Steps: <span style=\"color: #008080; text-decoration-color: #008080; font-weight: bold\">155</span>\n",
       "</pre>\n"
      ],
      "text/plain": [
       "  Total Steps: \u001b[1;36m155\u001b[0m\n"
      ]
     },
     "metadata": {},
     "output_type": "display_data"
    },
    {
     "data": {
      "text/html": [
       "<pre style=\"white-space:pre;overflow-x:auto;line-height:normal;font-family:Menlo,'DejaVu Sans Mono',consolas,'Courier New',monospace\">  Initial Portfolio Value: <span style=\"color: #008000; text-decoration-color: #008000\">$</span><span style=\"color: #008000; text-decoration-color: #008000; font-weight: bold\">100000.00</span>\n",
       "</pre>\n"
      ],
      "text/plain": [
       "  Initial Portfolio Value: \u001b[32m$\u001b[0m\u001b[1;32m100000.00\u001b[0m\n"
      ]
     },
     "metadata": {},
     "output_type": "display_data"
    },
    {
     "data": {
      "text/html": [
       "<pre style=\"white-space:pre;overflow-x:auto;line-height:normal;font-family:Menlo,'DejaVu Sans Mono',consolas,'Courier New',monospace\">  Final Portfolio Value: <span style=\"color: #008000; text-decoration-color: #008000\">$</span><span style=\"color: #008000; text-decoration-color: #008000; font-weight: bold\">100340.36</span>\n",
       "</pre>\n"
      ],
      "text/plain": [
       "  Final Portfolio Value: \u001b[32m$\u001b[0m\u001b[1;32m100340.36\u001b[0m\n"
      ]
     },
     "metadata": {},
     "output_type": "display_data"
    },
    {
     "data": {
      "text/html": [
       "<pre style=\"white-space:pre;overflow-x:auto;line-height:normal;font-family:Menlo,'DejaVu Sans Mono',consolas,'Courier New',monospace\">  Total Return: <span style=\"color: #008000; text-decoration-color: #008000; font-weight: bold\">0.34</span><span style=\"color: #008000; text-decoration-color: #008000\">%</span>\n",
       "</pre>\n"
      ],
      "text/plain": [
       "  Total Return: \u001b[1;32m0.34\u001b[0m\u001b[32m%\u001b[0m\n"
      ]
     },
     "metadata": {},
     "output_type": "display_data"
    },
    {
     "data": {
      "text/html": [
       "<pre style=\"white-space:pre;overflow-x:auto;line-height:normal;font-family:Menlo,'DejaVu Sans Mono',consolas,'Courier New',monospace\">  Total Reward: <span style=\"color: #808000; text-decoration-color: #808000; font-weight: bold\">9.43</span>\n",
       "</pre>\n"
      ],
      "text/plain": [
       "  Total Reward: \u001b[1;33m9.43\u001b[0m\n"
      ]
     },
     "metadata": {},
     "output_type": "display_data"
    },
    {
     "data": {
      "text/html": [
       "<pre style=\"white-space:pre;overflow-x:auto;line-height:normal;font-family:Menlo,'DejaVu Sans Mono',consolas,'Courier New',monospace\"><span style=\"font-style: italic\">        Action Distribution        </span>\n",
       "┏━━━━━━━━━━━━┳━━━━━━━┳━━━━━━━━━━━━┓\n",
       "┃<span style=\"font-weight: bold\"> Action     </span>┃<span style=\"font-weight: bold\"> Count </span>┃<span style=\"font-weight: bold\"> Percentage </span>┃\n",
       "┡━━━━━━━━━━━━╇━━━━━━━╇━━━━━━━━━━━━┩\n",
       "│<span style=\"color: #008080; text-decoration-color: #008080\"> LimitBuy   </span>│<span style=\"color: #008000; text-decoration-color: #008000\">   150 </span>│<span style=\"color: #808000; text-decoration-color: #808000\">      96.8% </span>│\n",
       "│<span style=\"color: #008080; text-decoration-color: #008080\"> Buy        </span>│<span style=\"color: #008000; text-decoration-color: #008000\">     1 </span>│<span style=\"color: #808000; text-decoration-color: #808000\">       0.6% </span>│\n",
       "│<span style=\"color: #008080; text-decoration-color: #008080\"> LimitSell  </span>│<span style=\"color: #008000; text-decoration-color: #008000\">     1 </span>│<span style=\"color: #808000; text-decoration-color: #808000\">       0.6% </span>│\n",
       "│<span style=\"color: #008080; text-decoration-color: #008080\"> TakeProfit </span>│<span style=\"color: #008000; text-decoration-color: #008000\">     1 </span>│<span style=\"color: #808000; text-decoration-color: #808000\">       0.6% </span>│\n",
       "│<span style=\"color: #008080; text-decoration-color: #008080\"> Sell       </span>│<span style=\"color: #008000; text-decoration-color: #008000\">     2 </span>│<span style=\"color: #808000; text-decoration-color: #808000\">       1.3% </span>│\n",
       "└────────────┴───────┴────────────┘\n",
       "</pre>\n"
      ],
      "text/plain": [
       "\u001b[3m        Action Distribution        \u001b[0m\n",
       "┏━━━━━━━━━━━━┳━━━━━━━┳━━━━━━━━━━━━┓\n",
       "┃\u001b[1m \u001b[0m\u001b[1mAction    \u001b[0m\u001b[1m \u001b[0m┃\u001b[1m \u001b[0m\u001b[1mCount\u001b[0m\u001b[1m \u001b[0m┃\u001b[1m \u001b[0m\u001b[1mPercentage\u001b[0m\u001b[1m \u001b[0m┃\n",
       "┡━━━━━━━━━━━━╇━━━━━━━╇━━━━━━━━━━━━┩\n",
       "│\u001b[36m \u001b[0m\u001b[36mLimitBuy  \u001b[0m\u001b[36m \u001b[0m│\u001b[32m \u001b[0m\u001b[32m  150\u001b[0m\u001b[32m \u001b[0m│\u001b[33m \u001b[0m\u001b[33m     96.8%\u001b[0m\u001b[33m \u001b[0m│\n",
       "│\u001b[36m \u001b[0m\u001b[36mBuy       \u001b[0m\u001b[36m \u001b[0m│\u001b[32m \u001b[0m\u001b[32m    1\u001b[0m\u001b[32m \u001b[0m│\u001b[33m \u001b[0m\u001b[33m      0.6%\u001b[0m\u001b[33m \u001b[0m│\n",
       "│\u001b[36m \u001b[0m\u001b[36mLimitSell \u001b[0m\u001b[36m \u001b[0m│\u001b[32m \u001b[0m\u001b[32m    1\u001b[0m\u001b[32m \u001b[0m│\u001b[33m \u001b[0m\u001b[33m      0.6%\u001b[0m\u001b[33m \u001b[0m│\n",
       "│\u001b[36m \u001b[0m\u001b[36mTakeProfit\u001b[0m\u001b[36m \u001b[0m│\u001b[32m \u001b[0m\u001b[32m    1\u001b[0m\u001b[32m \u001b[0m│\u001b[33m \u001b[0m\u001b[33m      0.6%\u001b[0m\u001b[33m \u001b[0m│\n",
       "│\u001b[36m \u001b[0m\u001b[36mSell      \u001b[0m\u001b[36m \u001b[0m│\u001b[32m \u001b[0m\u001b[32m    2\u001b[0m\u001b[32m \u001b[0m│\u001b[33m \u001b[0m\u001b[33m      1.3%\u001b[0m\u001b[33m \u001b[0m│\n",
       "└────────────┴───────┴────────────┘\n"
      ]
     },
     "metadata": {},
     "output_type": "display_data"
    },
    {
     "data": {
      "text/html": [
       "<pre style=\"white-space:pre;overflow-x:auto;line-height:normal;font-family:Menlo,'DejaVu Sans Mono',consolas,'Courier New',monospace\"><span style=\"color: #808000; text-decoration-color: #808000\">--- Episode </span><span style=\"color: #808000; text-decoration-color: #808000; font-weight: bold\">3</span><span style=\"color: #808000; text-decoration-color: #808000\">/</span><span style=\"color: #808000; text-decoration-color: #808000; font-weight: bold\">5</span><span style=\"color: #808000; text-decoration-color: #808000\"> ---</span>\n",
       "</pre>\n"
      ],
      "text/plain": [
       "\u001b[33m--- Episode \u001b[0m\u001b[1;33m3\u001b[0m\u001b[33m/\u001b[0m\u001b[1;33m5\u001b[0m\u001b[33m ---\u001b[0m\n"
      ]
     },
     "metadata": {},
     "output_type": "display_data"
    },
    {
     "data": {
      "text/html": [
       "<pre style=\"white-space:pre;overflow-x:auto;line-height:normal;font-family:Menlo,'DejaVu Sans Mono',consolas,'Courier New',monospace\">  Step <span style=\"color: #008080; text-decoration-color: #008080; font-weight: bold\">0</span>: <span style=\"color: #008000; text-decoration-color: #008000\">✓</span> <span style=\"color: #800080; text-decoration-color: #800080\">LimitBuy</span>, 💰 <span style=\"color: #008080; text-decoration-color: #008080\">$</span><span style=\"color: #008080; text-decoration-color: #008080; font-weight: bold\">102.50</span>, 📊 <span style=\"color: #008000; text-decoration-color: #008000\">$</span><span style=\"color: #008000; text-decoration-color: #008000; font-weight: bold\">51073.61</span>, 🌟 <span style=\"color: #808000; text-decoration-color: #808000; font-weight: bold\">-0.5005</span>\n",
       "</pre>\n"
      ],
      "text/plain": [
       "  Step \u001b[1;36m0\u001b[0m: \u001b[32m✓\u001b[0m \u001b[35mLimitBuy\u001b[0m, 💰 \u001b[36m$\u001b[0m\u001b[1;36m102.50\u001b[0m, 📊 \u001b[32m$\u001b[0m\u001b[1;32m51073.61\u001b[0m, 🌟 \u001b[1;33m-0.5005\u001b[0m\n"
      ]
     },
     "metadata": {},
     "output_type": "display_data"
    },
    {
     "data": {
      "text/html": [
       "<pre style=\"white-space:pre;overflow-x:auto;line-height:normal;font-family:Menlo,'DejaVu Sans Mono',consolas,'Courier New',monospace\">  Step <span style=\"color: #008080; text-decoration-color: #008080; font-weight: bold\">50</span>: <span style=\"color: #008000; text-decoration-color: #008000\">✓</span> <span style=\"color: #800080; text-decoration-color: #800080\">LimitBuy</span>, 💰 <span style=\"color: #008080; text-decoration-color: #008080\">$</span><span style=\"color: #008080; text-decoration-color: #008080; font-weight: bold\">93.63</span>, 📊 <span style=\"color: #008000; text-decoration-color: #008000\">$</span><span style=\"color: #008000; text-decoration-color: #008000; font-weight: bold\">89096.73</span>, 🌟 <span style=\"color: #808000; text-decoration-color: #808000; font-weight: bold\">0.0882</span>\n",
       "</pre>\n"
      ],
      "text/plain": [
       "  Step \u001b[1;36m50\u001b[0m: \u001b[32m✓\u001b[0m \u001b[35mLimitBuy\u001b[0m, 💰 \u001b[36m$\u001b[0m\u001b[1;36m93.63\u001b[0m, 📊 \u001b[32m$\u001b[0m\u001b[1;32m89096.73\u001b[0m, 🌟 \u001b[1;33m0.0882\u001b[0m\n"
      ]
     },
     "metadata": {},
     "output_type": "display_data"
    },
    {
     "data": {
      "text/html": [
       "<pre style=\"white-space:pre;overflow-x:auto;line-height:normal;font-family:Menlo,'DejaVu Sans Mono',consolas,'Courier New',monospace\">  Step <span style=\"color: #008080; text-decoration-color: #008080; font-weight: bold\">100</span>: <span style=\"color: #008000; text-decoration-color: #008000\">✓</span> <span style=\"color: #800080; text-decoration-color: #800080\">LimitBuy</span>, 💰 <span style=\"color: #008080; text-decoration-color: #008080\">$</span><span style=\"color: #008080; text-decoration-color: #008080; font-weight: bold\">92.29</span>, 📊 <span style=\"color: #008000; text-decoration-color: #008000\">$</span><span style=\"color: #008000; text-decoration-color: #008000; font-weight: bold\">57721.44</span>, 🌟 <span style=\"color: #808000; text-decoration-color: #808000; font-weight: bold\">0.0172</span>\n",
       "</pre>\n"
      ],
      "text/plain": [
       "  Step \u001b[1;36m100\u001b[0m: \u001b[32m✓\u001b[0m \u001b[35mLimitBuy\u001b[0m, 💰 \u001b[36m$\u001b[0m\u001b[1;36m92.29\u001b[0m, 📊 \u001b[32m$\u001b[0m\u001b[1;32m57721.44\u001b[0m, 🌟 \u001b[1;33m0.0172\u001b[0m\n"
      ]
     },
     "metadata": {},
     "output_type": "display_data"
    },
    {
     "data": {
      "text/html": [
       "<pre style=\"white-space:pre;overflow-x:auto;line-height:normal;font-family:Menlo,'DejaVu Sans Mono',consolas,'Courier New',monospace\">  Step <span style=\"color: #008080; text-decoration-color: #008080; font-weight: bold\">150</span>: <span style=\"color: #008000; text-decoration-color: #008000\">✓</span> <span style=\"color: #800080; text-decoration-color: #800080\">LimitBuy</span>, 💰 <span style=\"color: #008080; text-decoration-color: #008080\">$</span><span style=\"color: #008080; text-decoration-color: #008080; font-weight: bold\">111.73</span>, 📊 <span style=\"color: #008000; text-decoration-color: #008000\">$</span><span style=\"color: #008000; text-decoration-color: #008000; font-weight: bold\">97712.63</span>, 🌟 <span style=\"color: #808000; text-decoration-color: #808000; font-weight: bold\">0.0223</span>\n",
       "</pre>\n"
      ],
      "text/plain": [
       "  Step \u001b[1;36m150\u001b[0m: \u001b[32m✓\u001b[0m \u001b[35mLimitBuy\u001b[0m, 💰 \u001b[36m$\u001b[0m\u001b[1;36m111.73\u001b[0m, 📊 \u001b[32m$\u001b[0m\u001b[1;32m97712.63\u001b[0m, 🌟 \u001b[1;33m0.0223\u001b[0m\n"
      ]
     },
     "metadata": {},
     "output_type": "display_data"
    },
    {
     "data": {
      "text/html": [
       "<pre style=\"white-space:pre;overflow-x:auto;line-height:normal;font-family:Menlo,'DejaVu Sans Mono',consolas,'Courier New',monospace\"><span style=\"color: #008000; text-decoration-color: #008000; font-weight: bold\">Episode </span><span style=\"color: #008000; text-decoration-color: #008000; font-weight: bold\">3</span><span style=\"color: #008000; text-decoration-color: #008000; font-weight: bold\"> Results:</span>\n",
       "</pre>\n"
      ],
      "text/plain": [
       "\u001b[1;32mEpisode \u001b[0m\u001b[1;32m3\u001b[0m\u001b[1;32m Results:\u001b[0m\n"
      ]
     },
     "metadata": {},
     "output_type": "display_data"
    },
    {
     "data": {
      "text/html": [
       "<pre style=\"white-space:pre;overflow-x:auto;line-height:normal;font-family:Menlo,'DejaVu Sans Mono',consolas,'Courier New',monospace\">  Total Steps: <span style=\"color: #008080; text-decoration-color: #008080; font-weight: bold\">155</span>\n",
       "</pre>\n"
      ],
      "text/plain": [
       "  Total Steps: \u001b[1;36m155\u001b[0m\n"
      ]
     },
     "metadata": {},
     "output_type": "display_data"
    },
    {
     "data": {
      "text/html": [
       "<pre style=\"white-space:pre;overflow-x:auto;line-height:normal;font-family:Menlo,'DejaVu Sans Mono',consolas,'Courier New',monospace\">  Initial Portfolio Value: <span style=\"color: #008000; text-decoration-color: #008000\">$</span><span style=\"color: #008000; text-decoration-color: #008000; font-weight: bold\">100000.00</span>\n",
       "</pre>\n"
      ],
      "text/plain": [
       "  Initial Portfolio Value: \u001b[32m$\u001b[0m\u001b[1;32m100000.00\u001b[0m\n"
      ]
     },
     "metadata": {},
     "output_type": "display_data"
    },
    {
     "data": {
      "text/html": [
       "<pre style=\"white-space:pre;overflow-x:auto;line-height:normal;font-family:Menlo,'DejaVu Sans Mono',consolas,'Courier New',monospace\">  Final Portfolio Value: <span style=\"color: #008000; text-decoration-color: #008000\">$</span><span style=\"color: #008000; text-decoration-color: #008000; font-weight: bold\">100340.36</span>\n",
       "</pre>\n"
      ],
      "text/plain": [
       "  Final Portfolio Value: \u001b[32m$\u001b[0m\u001b[1;32m100340.36\u001b[0m\n"
      ]
     },
     "metadata": {},
     "output_type": "display_data"
    },
    {
     "data": {
      "text/html": [
       "<pre style=\"white-space:pre;overflow-x:auto;line-height:normal;font-family:Menlo,'DejaVu Sans Mono',consolas,'Courier New',monospace\">  Total Return: <span style=\"color: #008000; text-decoration-color: #008000; font-weight: bold\">0.34</span><span style=\"color: #008000; text-decoration-color: #008000\">%</span>\n",
       "</pre>\n"
      ],
      "text/plain": [
       "  Total Return: \u001b[1;32m0.34\u001b[0m\u001b[32m%\u001b[0m\n"
      ]
     },
     "metadata": {},
     "output_type": "display_data"
    },
    {
     "data": {
      "text/html": [
       "<pre style=\"white-space:pre;overflow-x:auto;line-height:normal;font-family:Menlo,'DejaVu Sans Mono',consolas,'Courier New',monospace\">  Total Reward: <span style=\"color: #808000; text-decoration-color: #808000; font-weight: bold\">9.43</span>\n",
       "</pre>\n"
      ],
      "text/plain": [
       "  Total Reward: \u001b[1;33m9.43\u001b[0m\n"
      ]
     },
     "metadata": {},
     "output_type": "display_data"
    },
    {
     "data": {
      "text/html": [
       "<pre style=\"white-space:pre;overflow-x:auto;line-height:normal;font-family:Menlo,'DejaVu Sans Mono',consolas,'Courier New',monospace\"><span style=\"font-style: italic\">        Action Distribution        </span>\n",
       "┏━━━━━━━━━━━━┳━━━━━━━┳━━━━━━━━━━━━┓\n",
       "┃<span style=\"font-weight: bold\"> Action     </span>┃<span style=\"font-weight: bold\"> Count </span>┃<span style=\"font-weight: bold\"> Percentage </span>┃\n",
       "┡━━━━━━━━━━━━╇━━━━━━━╇━━━━━━━━━━━━┩\n",
       "│<span style=\"color: #008080; text-decoration-color: #008080\"> LimitBuy   </span>│<span style=\"color: #008000; text-decoration-color: #008000\">   150 </span>│<span style=\"color: #808000; text-decoration-color: #808000\">      96.8% </span>│\n",
       "│<span style=\"color: #008080; text-decoration-color: #008080\"> Buy        </span>│<span style=\"color: #008000; text-decoration-color: #008000\">     1 </span>│<span style=\"color: #808000; text-decoration-color: #808000\">       0.6% </span>│\n",
       "│<span style=\"color: #008080; text-decoration-color: #008080\"> LimitSell  </span>│<span style=\"color: #008000; text-decoration-color: #008000\">     1 </span>│<span style=\"color: #808000; text-decoration-color: #808000\">       0.6% </span>│\n",
       "│<span style=\"color: #008080; text-decoration-color: #008080\"> TakeProfit </span>│<span style=\"color: #008000; text-decoration-color: #008000\">     1 </span>│<span style=\"color: #808000; text-decoration-color: #808000\">       0.6% </span>│\n",
       "│<span style=\"color: #008080; text-decoration-color: #008080\"> Sell       </span>│<span style=\"color: #008000; text-decoration-color: #008000\">     2 </span>│<span style=\"color: #808000; text-decoration-color: #808000\">       1.3% </span>│\n",
       "└────────────┴───────┴────────────┘\n",
       "</pre>\n"
      ],
      "text/plain": [
       "\u001b[3m        Action Distribution        \u001b[0m\n",
       "┏━━━━━━━━━━━━┳━━━━━━━┳━━━━━━━━━━━━┓\n",
       "┃\u001b[1m \u001b[0m\u001b[1mAction    \u001b[0m\u001b[1m \u001b[0m┃\u001b[1m \u001b[0m\u001b[1mCount\u001b[0m\u001b[1m \u001b[0m┃\u001b[1m \u001b[0m\u001b[1mPercentage\u001b[0m\u001b[1m \u001b[0m┃\n",
       "┡━━━━━━━━━━━━╇━━━━━━━╇━━━━━━━━━━━━┩\n",
       "│\u001b[36m \u001b[0m\u001b[36mLimitBuy  \u001b[0m\u001b[36m \u001b[0m│\u001b[32m \u001b[0m\u001b[32m  150\u001b[0m\u001b[32m \u001b[0m│\u001b[33m \u001b[0m\u001b[33m     96.8%\u001b[0m\u001b[33m \u001b[0m│\n",
       "│\u001b[36m \u001b[0m\u001b[36mBuy       \u001b[0m\u001b[36m \u001b[0m│\u001b[32m \u001b[0m\u001b[32m    1\u001b[0m\u001b[32m \u001b[0m│\u001b[33m \u001b[0m\u001b[33m      0.6%\u001b[0m\u001b[33m \u001b[0m│\n",
       "│\u001b[36m \u001b[0m\u001b[36mLimitSell \u001b[0m\u001b[36m \u001b[0m│\u001b[32m \u001b[0m\u001b[32m    1\u001b[0m\u001b[32m \u001b[0m│\u001b[33m \u001b[0m\u001b[33m      0.6%\u001b[0m\u001b[33m \u001b[0m│\n",
       "│\u001b[36m \u001b[0m\u001b[36mTakeProfit\u001b[0m\u001b[36m \u001b[0m│\u001b[32m \u001b[0m\u001b[32m    1\u001b[0m\u001b[32m \u001b[0m│\u001b[33m \u001b[0m\u001b[33m      0.6%\u001b[0m\u001b[33m \u001b[0m│\n",
       "│\u001b[36m \u001b[0m\u001b[36mSell      \u001b[0m\u001b[36m \u001b[0m│\u001b[32m \u001b[0m\u001b[32m    2\u001b[0m\u001b[32m \u001b[0m│\u001b[33m \u001b[0m\u001b[33m      1.3%\u001b[0m\u001b[33m \u001b[0m│\n",
       "└────────────┴───────┴────────────┘\n"
      ]
     },
     "metadata": {},
     "output_type": "display_data"
    },
    {
     "data": {
      "text/html": [
       "<pre style=\"white-space:pre;overflow-x:auto;line-height:normal;font-family:Menlo,'DejaVu Sans Mono',consolas,'Courier New',monospace\"><span style=\"color: #808000; text-decoration-color: #808000\">--- Episode </span><span style=\"color: #808000; text-decoration-color: #808000; font-weight: bold\">4</span><span style=\"color: #808000; text-decoration-color: #808000\">/</span><span style=\"color: #808000; text-decoration-color: #808000; font-weight: bold\">5</span><span style=\"color: #808000; text-decoration-color: #808000\"> ---</span>\n",
       "</pre>\n"
      ],
      "text/plain": [
       "\u001b[33m--- Episode \u001b[0m\u001b[1;33m4\u001b[0m\u001b[33m/\u001b[0m\u001b[1;33m5\u001b[0m\u001b[33m ---\u001b[0m\n"
      ]
     },
     "metadata": {},
     "output_type": "display_data"
    },
    {
     "data": {
      "text/html": [
       "<pre style=\"white-space:pre;overflow-x:auto;line-height:normal;font-family:Menlo,'DejaVu Sans Mono',consolas,'Courier New',monospace\">  Step <span style=\"color: #008080; text-decoration-color: #008080; font-weight: bold\">0</span>: <span style=\"color: #008000; text-decoration-color: #008000\">✓</span> <span style=\"color: #800080; text-decoration-color: #800080\">LimitBuy</span>, 💰 <span style=\"color: #008080; text-decoration-color: #008080\">$</span><span style=\"color: #008080; text-decoration-color: #008080; font-weight: bold\">102.50</span>, 📊 <span style=\"color: #008000; text-decoration-color: #008000\">$</span><span style=\"color: #008000; text-decoration-color: #008000; font-weight: bold\">51073.61</span>, 🌟 <span style=\"color: #808000; text-decoration-color: #808000; font-weight: bold\">-0.5005</span>\n",
       "</pre>\n"
      ],
      "text/plain": [
       "  Step \u001b[1;36m0\u001b[0m: \u001b[32m✓\u001b[0m \u001b[35mLimitBuy\u001b[0m, 💰 \u001b[36m$\u001b[0m\u001b[1;36m102.50\u001b[0m, 📊 \u001b[32m$\u001b[0m\u001b[1;32m51073.61\u001b[0m, 🌟 \u001b[1;33m-0.5005\u001b[0m\n"
      ]
     },
     "metadata": {},
     "output_type": "display_data"
    },
    {
     "data": {
      "text/html": [
       "<pre style=\"white-space:pre;overflow-x:auto;line-height:normal;font-family:Menlo,'DejaVu Sans Mono',consolas,'Courier New',monospace\">  Step <span style=\"color: #008080; text-decoration-color: #008080; font-weight: bold\">50</span>: <span style=\"color: #008000; text-decoration-color: #008000\">✓</span> <span style=\"color: #800080; text-decoration-color: #800080\">LimitBuy</span>, 💰 <span style=\"color: #008080; text-decoration-color: #008080\">$</span><span style=\"color: #008080; text-decoration-color: #008080; font-weight: bold\">93.63</span>, 📊 <span style=\"color: #008000; text-decoration-color: #008000\">$</span><span style=\"color: #008000; text-decoration-color: #008000; font-weight: bold\">89096.73</span>, 🌟 <span style=\"color: #808000; text-decoration-color: #808000; font-weight: bold\">0.0882</span>\n",
       "</pre>\n"
      ],
      "text/plain": [
       "  Step \u001b[1;36m50\u001b[0m: \u001b[32m✓\u001b[0m \u001b[35mLimitBuy\u001b[0m, 💰 \u001b[36m$\u001b[0m\u001b[1;36m93.63\u001b[0m, 📊 \u001b[32m$\u001b[0m\u001b[1;32m89096.73\u001b[0m, 🌟 \u001b[1;33m0.0882\u001b[0m\n"
      ]
     },
     "metadata": {},
     "output_type": "display_data"
    },
    {
     "data": {
      "text/html": [
       "<pre style=\"white-space:pre;overflow-x:auto;line-height:normal;font-family:Menlo,'DejaVu Sans Mono',consolas,'Courier New',monospace\">  Step <span style=\"color: #008080; text-decoration-color: #008080; font-weight: bold\">100</span>: <span style=\"color: #008000; text-decoration-color: #008000\">✓</span> <span style=\"color: #800080; text-decoration-color: #800080\">LimitBuy</span>, 💰 <span style=\"color: #008080; text-decoration-color: #008080\">$</span><span style=\"color: #008080; text-decoration-color: #008080; font-weight: bold\">92.29</span>, 📊 <span style=\"color: #008000; text-decoration-color: #008000\">$</span><span style=\"color: #008000; text-decoration-color: #008000; font-weight: bold\">57721.44</span>, 🌟 <span style=\"color: #808000; text-decoration-color: #808000; font-weight: bold\">0.0172</span>\n",
       "</pre>\n"
      ],
      "text/plain": [
       "  Step \u001b[1;36m100\u001b[0m: \u001b[32m✓\u001b[0m \u001b[35mLimitBuy\u001b[0m, 💰 \u001b[36m$\u001b[0m\u001b[1;36m92.29\u001b[0m, 📊 \u001b[32m$\u001b[0m\u001b[1;32m57721.44\u001b[0m, 🌟 \u001b[1;33m0.0172\u001b[0m\n"
      ]
     },
     "metadata": {},
     "output_type": "display_data"
    },
    {
     "data": {
      "text/html": [
       "<pre style=\"white-space:pre;overflow-x:auto;line-height:normal;font-family:Menlo,'DejaVu Sans Mono',consolas,'Courier New',monospace\">  Step <span style=\"color: #008080; text-decoration-color: #008080; font-weight: bold\">150</span>: <span style=\"color: #008000; text-decoration-color: #008000\">✓</span> <span style=\"color: #800080; text-decoration-color: #800080\">LimitBuy</span>, 💰 <span style=\"color: #008080; text-decoration-color: #008080\">$</span><span style=\"color: #008080; text-decoration-color: #008080; font-weight: bold\">111.73</span>, 📊 <span style=\"color: #008000; text-decoration-color: #008000\">$</span><span style=\"color: #008000; text-decoration-color: #008000; font-weight: bold\">97712.63</span>, 🌟 <span style=\"color: #808000; text-decoration-color: #808000; font-weight: bold\">0.0223</span>\n",
       "</pre>\n"
      ],
      "text/plain": [
       "  Step \u001b[1;36m150\u001b[0m: \u001b[32m✓\u001b[0m \u001b[35mLimitBuy\u001b[0m, 💰 \u001b[36m$\u001b[0m\u001b[1;36m111.73\u001b[0m, 📊 \u001b[32m$\u001b[0m\u001b[1;32m97712.63\u001b[0m, 🌟 \u001b[1;33m0.0223\u001b[0m\n"
      ]
     },
     "metadata": {},
     "output_type": "display_data"
    },
    {
     "data": {
      "text/html": [
       "<pre style=\"white-space:pre;overflow-x:auto;line-height:normal;font-family:Menlo,'DejaVu Sans Mono',consolas,'Courier New',monospace\"><span style=\"color: #008000; text-decoration-color: #008000; font-weight: bold\">Episode </span><span style=\"color: #008000; text-decoration-color: #008000; font-weight: bold\">4</span><span style=\"color: #008000; text-decoration-color: #008000; font-weight: bold\"> Results:</span>\n",
       "</pre>\n"
      ],
      "text/plain": [
       "\u001b[1;32mEpisode \u001b[0m\u001b[1;32m4\u001b[0m\u001b[1;32m Results:\u001b[0m\n"
      ]
     },
     "metadata": {},
     "output_type": "display_data"
    },
    {
     "data": {
      "text/html": [
       "<pre style=\"white-space:pre;overflow-x:auto;line-height:normal;font-family:Menlo,'DejaVu Sans Mono',consolas,'Courier New',monospace\">  Total Steps: <span style=\"color: #008080; text-decoration-color: #008080; font-weight: bold\">155</span>\n",
       "</pre>\n"
      ],
      "text/plain": [
       "  Total Steps: \u001b[1;36m155\u001b[0m\n"
      ]
     },
     "metadata": {},
     "output_type": "display_data"
    },
    {
     "data": {
      "text/html": [
       "<pre style=\"white-space:pre;overflow-x:auto;line-height:normal;font-family:Menlo,'DejaVu Sans Mono',consolas,'Courier New',monospace\">  Initial Portfolio Value: <span style=\"color: #008000; text-decoration-color: #008000\">$</span><span style=\"color: #008000; text-decoration-color: #008000; font-weight: bold\">100000.00</span>\n",
       "</pre>\n"
      ],
      "text/plain": [
       "  Initial Portfolio Value: \u001b[32m$\u001b[0m\u001b[1;32m100000.00\u001b[0m\n"
      ]
     },
     "metadata": {},
     "output_type": "display_data"
    },
    {
     "data": {
      "text/html": [
       "<pre style=\"white-space:pre;overflow-x:auto;line-height:normal;font-family:Menlo,'DejaVu Sans Mono',consolas,'Courier New',monospace\">  Final Portfolio Value: <span style=\"color: #008000; text-decoration-color: #008000\">$</span><span style=\"color: #008000; text-decoration-color: #008000; font-weight: bold\">100340.36</span>\n",
       "</pre>\n"
      ],
      "text/plain": [
       "  Final Portfolio Value: \u001b[32m$\u001b[0m\u001b[1;32m100340.36\u001b[0m\n"
      ]
     },
     "metadata": {},
     "output_type": "display_data"
    },
    {
     "data": {
      "text/html": [
       "<pre style=\"white-space:pre;overflow-x:auto;line-height:normal;font-family:Menlo,'DejaVu Sans Mono',consolas,'Courier New',monospace\">  Total Return: <span style=\"color: #008000; text-decoration-color: #008000; font-weight: bold\">0.34</span><span style=\"color: #008000; text-decoration-color: #008000\">%</span>\n",
       "</pre>\n"
      ],
      "text/plain": [
       "  Total Return: \u001b[1;32m0.34\u001b[0m\u001b[32m%\u001b[0m\n"
      ]
     },
     "metadata": {},
     "output_type": "display_data"
    },
    {
     "data": {
      "text/html": [
       "<pre style=\"white-space:pre;overflow-x:auto;line-height:normal;font-family:Menlo,'DejaVu Sans Mono',consolas,'Courier New',monospace\">  Total Reward: <span style=\"color: #808000; text-decoration-color: #808000; font-weight: bold\">9.43</span>\n",
       "</pre>\n"
      ],
      "text/plain": [
       "  Total Reward: \u001b[1;33m9.43\u001b[0m\n"
      ]
     },
     "metadata": {},
     "output_type": "display_data"
    },
    {
     "data": {
      "text/html": [
       "<pre style=\"white-space:pre;overflow-x:auto;line-height:normal;font-family:Menlo,'DejaVu Sans Mono',consolas,'Courier New',monospace\"><span style=\"font-style: italic\">        Action Distribution        </span>\n",
       "┏━━━━━━━━━━━━┳━━━━━━━┳━━━━━━━━━━━━┓\n",
       "┃<span style=\"font-weight: bold\"> Action     </span>┃<span style=\"font-weight: bold\"> Count </span>┃<span style=\"font-weight: bold\"> Percentage </span>┃\n",
       "┡━━━━━━━━━━━━╇━━━━━━━╇━━━━━━━━━━━━┩\n",
       "│<span style=\"color: #008080; text-decoration-color: #008080\"> LimitBuy   </span>│<span style=\"color: #008000; text-decoration-color: #008000\">   150 </span>│<span style=\"color: #808000; text-decoration-color: #808000\">      96.8% </span>│\n",
       "│<span style=\"color: #008080; text-decoration-color: #008080\"> Buy        </span>│<span style=\"color: #008000; text-decoration-color: #008000\">     1 </span>│<span style=\"color: #808000; text-decoration-color: #808000\">       0.6% </span>│\n",
       "│<span style=\"color: #008080; text-decoration-color: #008080\"> LimitSell  </span>│<span style=\"color: #008000; text-decoration-color: #008000\">     1 </span>│<span style=\"color: #808000; text-decoration-color: #808000\">       0.6% </span>│\n",
       "│<span style=\"color: #008080; text-decoration-color: #008080\"> TakeProfit </span>│<span style=\"color: #008000; text-decoration-color: #008000\">     1 </span>│<span style=\"color: #808000; text-decoration-color: #808000\">       0.6% </span>│\n",
       "│<span style=\"color: #008080; text-decoration-color: #008080\"> Sell       </span>│<span style=\"color: #008000; text-decoration-color: #008000\">     2 </span>│<span style=\"color: #808000; text-decoration-color: #808000\">       1.3% </span>│\n",
       "└────────────┴───────┴────────────┘\n",
       "</pre>\n"
      ],
      "text/plain": [
       "\u001b[3m        Action Distribution        \u001b[0m\n",
       "┏━━━━━━━━━━━━┳━━━━━━━┳━━━━━━━━━━━━┓\n",
       "┃\u001b[1m \u001b[0m\u001b[1mAction    \u001b[0m\u001b[1m \u001b[0m┃\u001b[1m \u001b[0m\u001b[1mCount\u001b[0m\u001b[1m \u001b[0m┃\u001b[1m \u001b[0m\u001b[1mPercentage\u001b[0m\u001b[1m \u001b[0m┃\n",
       "┡━━━━━━━━━━━━╇━━━━━━━╇━━━━━━━━━━━━┩\n",
       "│\u001b[36m \u001b[0m\u001b[36mLimitBuy  \u001b[0m\u001b[36m \u001b[0m│\u001b[32m \u001b[0m\u001b[32m  150\u001b[0m\u001b[32m \u001b[0m│\u001b[33m \u001b[0m\u001b[33m     96.8%\u001b[0m\u001b[33m \u001b[0m│\n",
       "│\u001b[36m \u001b[0m\u001b[36mBuy       \u001b[0m\u001b[36m \u001b[0m│\u001b[32m \u001b[0m\u001b[32m    1\u001b[0m\u001b[32m \u001b[0m│\u001b[33m \u001b[0m\u001b[33m      0.6%\u001b[0m\u001b[33m \u001b[0m│\n",
       "│\u001b[36m \u001b[0m\u001b[36mLimitSell \u001b[0m\u001b[36m \u001b[0m│\u001b[32m \u001b[0m\u001b[32m    1\u001b[0m\u001b[32m \u001b[0m│\u001b[33m \u001b[0m\u001b[33m      0.6%\u001b[0m\u001b[33m \u001b[0m│\n",
       "│\u001b[36m \u001b[0m\u001b[36mTakeProfit\u001b[0m\u001b[36m \u001b[0m│\u001b[32m \u001b[0m\u001b[32m    1\u001b[0m\u001b[32m \u001b[0m│\u001b[33m \u001b[0m\u001b[33m      0.6%\u001b[0m\u001b[33m \u001b[0m│\n",
       "│\u001b[36m \u001b[0m\u001b[36mSell      \u001b[0m\u001b[36m \u001b[0m│\u001b[32m \u001b[0m\u001b[32m    2\u001b[0m\u001b[32m \u001b[0m│\u001b[33m \u001b[0m\u001b[33m      1.3%\u001b[0m\u001b[33m \u001b[0m│\n",
       "└────────────┴───────┴────────────┘\n"
      ]
     },
     "metadata": {},
     "output_type": "display_data"
    },
    {
     "data": {
      "text/html": [
       "<pre style=\"white-space:pre;overflow-x:auto;line-height:normal;font-family:Menlo,'DejaVu Sans Mono',consolas,'Courier New',monospace\"><span style=\"color: #808000; text-decoration-color: #808000\">--- Episode </span><span style=\"color: #808000; text-decoration-color: #808000; font-weight: bold\">5</span><span style=\"color: #808000; text-decoration-color: #808000\">/</span><span style=\"color: #808000; text-decoration-color: #808000; font-weight: bold\">5</span><span style=\"color: #808000; text-decoration-color: #808000\"> ---</span>\n",
       "</pre>\n"
      ],
      "text/plain": [
       "\u001b[33m--- Episode \u001b[0m\u001b[1;33m5\u001b[0m\u001b[33m/\u001b[0m\u001b[1;33m5\u001b[0m\u001b[33m ---\u001b[0m\n"
      ]
     },
     "metadata": {},
     "output_type": "display_data"
    },
    {
     "data": {
      "text/html": [
       "<pre style=\"white-space:pre;overflow-x:auto;line-height:normal;font-family:Menlo,'DejaVu Sans Mono',consolas,'Courier New',monospace\">  Step <span style=\"color: #008080; text-decoration-color: #008080; font-weight: bold\">0</span>: <span style=\"color: #008000; text-decoration-color: #008000\">✓</span> <span style=\"color: #800080; text-decoration-color: #800080\">LimitBuy</span>, 💰 <span style=\"color: #008080; text-decoration-color: #008080\">$</span><span style=\"color: #008080; text-decoration-color: #008080; font-weight: bold\">102.50</span>, 📊 <span style=\"color: #008000; text-decoration-color: #008000\">$</span><span style=\"color: #008000; text-decoration-color: #008000; font-weight: bold\">51073.61</span>, 🌟 <span style=\"color: #808000; text-decoration-color: #808000; font-weight: bold\">-0.5005</span>\n",
       "</pre>\n"
      ],
      "text/plain": [
       "  Step \u001b[1;36m0\u001b[0m: \u001b[32m✓\u001b[0m \u001b[35mLimitBuy\u001b[0m, 💰 \u001b[36m$\u001b[0m\u001b[1;36m102.50\u001b[0m, 📊 \u001b[32m$\u001b[0m\u001b[1;32m51073.61\u001b[0m, 🌟 \u001b[1;33m-0.5005\u001b[0m\n"
      ]
     },
     "metadata": {},
     "output_type": "display_data"
    },
    {
     "data": {
      "text/html": [
       "<pre style=\"white-space:pre;overflow-x:auto;line-height:normal;font-family:Menlo,'DejaVu Sans Mono',consolas,'Courier New',monospace\">  Step <span style=\"color: #008080; text-decoration-color: #008080; font-weight: bold\">50</span>: <span style=\"color: #008000; text-decoration-color: #008000\">✓</span> <span style=\"color: #800080; text-decoration-color: #800080\">LimitBuy</span>, 💰 <span style=\"color: #008080; text-decoration-color: #008080\">$</span><span style=\"color: #008080; text-decoration-color: #008080; font-weight: bold\">93.63</span>, 📊 <span style=\"color: #008000; text-decoration-color: #008000\">$</span><span style=\"color: #008000; text-decoration-color: #008000; font-weight: bold\">89096.73</span>, 🌟 <span style=\"color: #808000; text-decoration-color: #808000; font-weight: bold\">0.0882</span>\n",
       "</pre>\n"
      ],
      "text/plain": [
       "  Step \u001b[1;36m50\u001b[0m: \u001b[32m✓\u001b[0m \u001b[35mLimitBuy\u001b[0m, 💰 \u001b[36m$\u001b[0m\u001b[1;36m93.63\u001b[0m, 📊 \u001b[32m$\u001b[0m\u001b[1;32m89096.73\u001b[0m, 🌟 \u001b[1;33m0.0882\u001b[0m\n"
      ]
     },
     "metadata": {},
     "output_type": "display_data"
    },
    {
     "data": {
      "text/html": [
       "<pre style=\"white-space:pre;overflow-x:auto;line-height:normal;font-family:Menlo,'DejaVu Sans Mono',consolas,'Courier New',monospace\">  Step <span style=\"color: #008080; text-decoration-color: #008080; font-weight: bold\">100</span>: <span style=\"color: #008000; text-decoration-color: #008000\">✓</span> <span style=\"color: #800080; text-decoration-color: #800080\">LimitBuy</span>, 💰 <span style=\"color: #008080; text-decoration-color: #008080\">$</span><span style=\"color: #008080; text-decoration-color: #008080; font-weight: bold\">92.29</span>, 📊 <span style=\"color: #008000; text-decoration-color: #008000\">$</span><span style=\"color: #008000; text-decoration-color: #008000; font-weight: bold\">57721.44</span>, 🌟 <span style=\"color: #808000; text-decoration-color: #808000; font-weight: bold\">0.0172</span>\n",
       "</pre>\n"
      ],
      "text/plain": [
       "  Step \u001b[1;36m100\u001b[0m: \u001b[32m✓\u001b[0m \u001b[35mLimitBuy\u001b[0m, 💰 \u001b[36m$\u001b[0m\u001b[1;36m92.29\u001b[0m, 📊 \u001b[32m$\u001b[0m\u001b[1;32m57721.44\u001b[0m, 🌟 \u001b[1;33m0.0172\u001b[0m\n"
      ]
     },
     "metadata": {},
     "output_type": "display_data"
    },
    {
     "data": {
      "text/html": [
       "<pre style=\"white-space:pre;overflow-x:auto;line-height:normal;font-family:Menlo,'DejaVu Sans Mono',consolas,'Courier New',monospace\">  Step <span style=\"color: #008080; text-decoration-color: #008080; font-weight: bold\">150</span>: <span style=\"color: #008000; text-decoration-color: #008000\">✓</span> <span style=\"color: #800080; text-decoration-color: #800080\">LimitBuy</span>, 💰 <span style=\"color: #008080; text-decoration-color: #008080\">$</span><span style=\"color: #008080; text-decoration-color: #008080; font-weight: bold\">111.73</span>, 📊 <span style=\"color: #008000; text-decoration-color: #008000\">$</span><span style=\"color: #008000; text-decoration-color: #008000; font-weight: bold\">97712.63</span>, 🌟 <span style=\"color: #808000; text-decoration-color: #808000; font-weight: bold\">0.0223</span>\n",
       "</pre>\n"
      ],
      "text/plain": [
       "  Step \u001b[1;36m150\u001b[0m: \u001b[32m✓\u001b[0m \u001b[35mLimitBuy\u001b[0m, 💰 \u001b[36m$\u001b[0m\u001b[1;36m111.73\u001b[0m, 📊 \u001b[32m$\u001b[0m\u001b[1;32m97712.63\u001b[0m, 🌟 \u001b[1;33m0.0223\u001b[0m\n"
      ]
     },
     "metadata": {},
     "output_type": "display_data"
    },
    {
     "data": {
      "text/html": [
       "<pre style=\"white-space:pre;overflow-x:auto;line-height:normal;font-family:Menlo,'DejaVu Sans Mono',consolas,'Courier New',monospace\"><span style=\"color: #008000; text-decoration-color: #008000; font-weight: bold\">Episode </span><span style=\"color: #008000; text-decoration-color: #008000; font-weight: bold\">5</span><span style=\"color: #008000; text-decoration-color: #008000; font-weight: bold\"> Results:</span>\n",
       "</pre>\n"
      ],
      "text/plain": [
       "\u001b[1;32mEpisode \u001b[0m\u001b[1;32m5\u001b[0m\u001b[1;32m Results:\u001b[0m\n"
      ]
     },
     "metadata": {},
     "output_type": "display_data"
    },
    {
     "data": {
      "text/html": [
       "<pre style=\"white-space:pre;overflow-x:auto;line-height:normal;font-family:Menlo,'DejaVu Sans Mono',consolas,'Courier New',monospace\">  Total Steps: <span style=\"color: #008080; text-decoration-color: #008080; font-weight: bold\">155</span>\n",
       "</pre>\n"
      ],
      "text/plain": [
       "  Total Steps: \u001b[1;36m155\u001b[0m\n"
      ]
     },
     "metadata": {},
     "output_type": "display_data"
    },
    {
     "data": {
      "text/html": [
       "<pre style=\"white-space:pre;overflow-x:auto;line-height:normal;font-family:Menlo,'DejaVu Sans Mono',consolas,'Courier New',monospace\">  Initial Portfolio Value: <span style=\"color: #008000; text-decoration-color: #008000\">$</span><span style=\"color: #008000; text-decoration-color: #008000; font-weight: bold\">100000.00</span>\n",
       "</pre>\n"
      ],
      "text/plain": [
       "  Initial Portfolio Value: \u001b[32m$\u001b[0m\u001b[1;32m100000.00\u001b[0m\n"
      ]
     },
     "metadata": {},
     "output_type": "display_data"
    },
    {
     "data": {
      "text/html": [
       "<pre style=\"white-space:pre;overflow-x:auto;line-height:normal;font-family:Menlo,'DejaVu Sans Mono',consolas,'Courier New',monospace\">  Final Portfolio Value: <span style=\"color: #008000; text-decoration-color: #008000\">$</span><span style=\"color: #008000; text-decoration-color: #008000; font-weight: bold\">100340.36</span>\n",
       "</pre>\n"
      ],
      "text/plain": [
       "  Final Portfolio Value: \u001b[32m$\u001b[0m\u001b[1;32m100340.36\u001b[0m\n"
      ]
     },
     "metadata": {},
     "output_type": "display_data"
    },
    {
     "data": {
      "text/html": [
       "<pre style=\"white-space:pre;overflow-x:auto;line-height:normal;font-family:Menlo,'DejaVu Sans Mono',consolas,'Courier New',monospace\">  Total Return: <span style=\"color: #008000; text-decoration-color: #008000; font-weight: bold\">0.34</span><span style=\"color: #008000; text-decoration-color: #008000\">%</span>\n",
       "</pre>\n"
      ],
      "text/plain": [
       "  Total Return: \u001b[1;32m0.34\u001b[0m\u001b[32m%\u001b[0m\n"
      ]
     },
     "metadata": {},
     "output_type": "display_data"
    },
    {
     "data": {
      "text/html": [
       "<pre style=\"white-space:pre;overflow-x:auto;line-height:normal;font-family:Menlo,'DejaVu Sans Mono',consolas,'Courier New',monospace\">  Total Reward: <span style=\"color: #808000; text-decoration-color: #808000; font-weight: bold\">9.43</span>\n",
       "</pre>\n"
      ],
      "text/plain": [
       "  Total Reward: \u001b[1;33m9.43\u001b[0m\n"
      ]
     },
     "metadata": {},
     "output_type": "display_data"
    },
    {
     "data": {
      "text/html": [
       "<pre style=\"white-space:pre;overflow-x:auto;line-height:normal;font-family:Menlo,'DejaVu Sans Mono',consolas,'Courier New',monospace\"><span style=\"font-style: italic\">        Action Distribution        </span>\n",
       "┏━━━━━━━━━━━━┳━━━━━━━┳━━━━━━━━━━━━┓\n",
       "┃<span style=\"font-weight: bold\"> Action     </span>┃<span style=\"font-weight: bold\"> Count </span>┃<span style=\"font-weight: bold\"> Percentage </span>┃\n",
       "┡━━━━━━━━━━━━╇━━━━━━━╇━━━━━━━━━━━━┩\n",
       "│<span style=\"color: #008080; text-decoration-color: #008080\"> LimitBuy   </span>│<span style=\"color: #008000; text-decoration-color: #008000\">   150 </span>│<span style=\"color: #808000; text-decoration-color: #808000\">      96.8% </span>│\n",
       "│<span style=\"color: #008080; text-decoration-color: #008080\"> Buy        </span>│<span style=\"color: #008000; text-decoration-color: #008000\">     1 </span>│<span style=\"color: #808000; text-decoration-color: #808000\">       0.6% </span>│\n",
       "│<span style=\"color: #008080; text-decoration-color: #008080\"> LimitSell  </span>│<span style=\"color: #008000; text-decoration-color: #008000\">     1 </span>│<span style=\"color: #808000; text-decoration-color: #808000\">       0.6% </span>│\n",
       "│<span style=\"color: #008080; text-decoration-color: #008080\"> TakeProfit </span>│<span style=\"color: #008000; text-decoration-color: #008000\">     1 </span>│<span style=\"color: #808000; text-decoration-color: #808000\">       0.6% </span>│\n",
       "│<span style=\"color: #008080; text-decoration-color: #008080\"> Sell       </span>│<span style=\"color: #008000; text-decoration-color: #008000\">     2 </span>│<span style=\"color: #808000; text-decoration-color: #808000\">       1.3% </span>│\n",
       "└────────────┴───────┴────────────┘\n",
       "</pre>\n"
      ],
      "text/plain": [
       "\u001b[3m        Action Distribution        \u001b[0m\n",
       "┏━━━━━━━━━━━━┳━━━━━━━┳━━━━━━━━━━━━┓\n",
       "┃\u001b[1m \u001b[0m\u001b[1mAction    \u001b[0m\u001b[1m \u001b[0m┃\u001b[1m \u001b[0m\u001b[1mCount\u001b[0m\u001b[1m \u001b[0m┃\u001b[1m \u001b[0m\u001b[1mPercentage\u001b[0m\u001b[1m \u001b[0m┃\n",
       "┡━━━━━━━━━━━━╇━━━━━━━╇━━━━━━━━━━━━┩\n",
       "│\u001b[36m \u001b[0m\u001b[36mLimitBuy  \u001b[0m\u001b[36m \u001b[0m│\u001b[32m \u001b[0m\u001b[32m  150\u001b[0m\u001b[32m \u001b[0m│\u001b[33m \u001b[0m\u001b[33m     96.8%\u001b[0m\u001b[33m \u001b[0m│\n",
       "│\u001b[36m \u001b[0m\u001b[36mBuy       \u001b[0m\u001b[36m \u001b[0m│\u001b[32m \u001b[0m\u001b[32m    1\u001b[0m\u001b[32m \u001b[0m│\u001b[33m \u001b[0m\u001b[33m      0.6%\u001b[0m\u001b[33m \u001b[0m│\n",
       "│\u001b[36m \u001b[0m\u001b[36mLimitSell \u001b[0m\u001b[36m \u001b[0m│\u001b[32m \u001b[0m\u001b[32m    1\u001b[0m\u001b[32m \u001b[0m│\u001b[33m \u001b[0m\u001b[33m      0.6%\u001b[0m\u001b[33m \u001b[0m│\n",
       "│\u001b[36m \u001b[0m\u001b[36mTakeProfit\u001b[0m\u001b[36m \u001b[0m│\u001b[32m \u001b[0m\u001b[32m    1\u001b[0m\u001b[32m \u001b[0m│\u001b[33m \u001b[0m\u001b[33m      0.6%\u001b[0m\u001b[33m \u001b[0m│\n",
       "│\u001b[36m \u001b[0m\u001b[36mSell      \u001b[0m\u001b[36m \u001b[0m│\u001b[32m \u001b[0m\u001b[32m    2\u001b[0m\u001b[32m \u001b[0m│\u001b[33m \u001b[0m\u001b[33m      1.3%\u001b[0m\u001b[33m \u001b[0m│\n",
       "└────────────┴───────┴────────────┘\n"
      ]
     },
     "metadata": {},
     "output_type": "display_data"
    },
    {
     "data": {
      "text/html": [
       "<pre style=\"white-space:pre;overflow-x:auto;line-height:normal;font-family:Menlo,'DejaVu Sans Mono',consolas,'Courier New',monospace\"></pre>\n"
      ],
      "text/plain": []
     },
     "metadata": {},
     "output_type": "display_data"
    },
    {
     "data": {
      "text/html": [
       "<pre style=\"white-space:pre;overflow-x:auto;line-height:normal;font-family:Menlo,'DejaVu Sans Mono',consolas,'Courier New',monospace\">\n",
       "<span style=\"color: #800080; text-decoration-color: #800080; font-weight: bold\">=== Overall Evaluation Summary ===</span>\n",
       "</pre>\n"
      ],
      "text/plain": [
       "\n",
       "\u001b[1;35m=== Overall Evaluation Summary ===\u001b[0m\n"
      ]
     },
     "metadata": {},
     "output_type": "display_data"
    },
    {
     "data": {
      "text/html": [
       "<pre style=\"white-space:pre;overflow-x:auto;line-height:normal;font-family:Menlo,'DejaVu Sans Mono',consolas,'Courier New',monospace\"><span style=\"font-style: italic\">       Summary Statistics       </span>\n",
       "┏━━━━━━━━━━━━━━━━━━━━━━┳━━━━━━━┓\n",
       "┃<span style=\"font-weight: bold\"> Metric               </span>┃<span style=\"font-weight: bold\"> Value </span>┃\n",
       "┡━━━━━━━━━━━━━━━━━━━━━━╇━━━━━━━┩\n",
       "│<span style=\"color: #008080; text-decoration-color: #008080\"> Total Episodes       </span>│<span style=\"color: #008000; text-decoration-color: #008000\"> 5     </span>│\n",
       "│<span style=\"color: #008080; text-decoration-color: #008080\"> Average Reward       </span>│<span style=\"color: #008000; text-decoration-color: #008000\"> 9.43  </span>│\n",
       "│<span style=\"color: #008080; text-decoration-color: #008080\"> Reward Std Dev       </span>│<span style=\"color: #008000; text-decoration-color: #008000\"> 0.00  </span>│\n",
       "│<span style=\"color: #008080; text-decoration-color: #008080\"> Best Episode Reward  </span>│<span style=\"color: #008000; text-decoration-color: #008000\"> 9.43  </span>│\n",
       "│<span style=\"color: #008080; text-decoration-color: #008080\"> Worst Episode Reward </span>│<span style=\"color: #008000; text-decoration-color: #008000\"> 9.43  </span>│\n",
       "│<span style=\"color: #008080; text-decoration-color: #008080\"> Average Return       </span>│<span style=\"color: #008000; text-decoration-color: #008000\"> 0.34% </span>│\n",
       "└──────────────────────┴───────┘\n",
       "</pre>\n"
      ],
      "text/plain": [
       "\u001b[3m       Summary Statistics       \u001b[0m\n",
       "┏━━━━━━━━━━━━━━━━━━━━━━┳━━━━━━━┓\n",
       "┃\u001b[1m \u001b[0m\u001b[1mMetric              \u001b[0m\u001b[1m \u001b[0m┃\u001b[1m \u001b[0m\u001b[1mValue\u001b[0m\u001b[1m \u001b[0m┃\n",
       "┡━━━━━━━━━━━━━━━━━━━━━━╇━━━━━━━┩\n",
       "│\u001b[36m \u001b[0m\u001b[36mTotal Episodes      \u001b[0m\u001b[36m \u001b[0m│\u001b[32m \u001b[0m\u001b[32m5    \u001b[0m\u001b[32m \u001b[0m│\n",
       "│\u001b[36m \u001b[0m\u001b[36mAverage Reward      \u001b[0m\u001b[36m \u001b[0m│\u001b[32m \u001b[0m\u001b[32m9.43 \u001b[0m\u001b[32m \u001b[0m│\n",
       "│\u001b[36m \u001b[0m\u001b[36mReward Std Dev      \u001b[0m\u001b[36m \u001b[0m│\u001b[32m \u001b[0m\u001b[32m0.00 \u001b[0m\u001b[32m \u001b[0m│\n",
       "│\u001b[36m \u001b[0m\u001b[36mBest Episode Reward \u001b[0m\u001b[36m \u001b[0m│\u001b[32m \u001b[0m\u001b[32m9.43 \u001b[0m\u001b[32m \u001b[0m│\n",
       "│\u001b[36m \u001b[0m\u001b[36mWorst Episode Reward\u001b[0m\u001b[36m \u001b[0m│\u001b[32m \u001b[0m\u001b[32m9.43 \u001b[0m\u001b[32m \u001b[0m│\n",
       "│\u001b[36m \u001b[0m\u001b[36mAverage Return      \u001b[0m\u001b[36m \u001b[0m│\u001b[32m \u001b[0m\u001b[32m0.34%\u001b[0m\u001b[32m \u001b[0m│\n",
       "└──────────────────────┴───────┘\n"
      ]
     },
     "metadata": {},
     "output_type": "display_data"
    },
    {
     "name": "stdout",
     "output_type": "stream",
     "text": [
      "SingleStockTradingEnv closed.\n"
     ]
    },
    {
     "data": {
      "text/html": [
       "<pre style=\"white-space:pre;overflow-x:auto;line-height:normal;font-family:Menlo,'DejaVu Sans Mono',consolas,'Courier New',monospace\"><span style=\"color: #00ff00; text-decoration-color: #00ff00\">────────────────────────────────────────────── </span><span style=\"color: #808000; text-decoration-color: #808000; font-weight: bold\">📋 RESULTS SUMMARY 📋</span><span style=\"color: #00ff00; text-decoration-color: #00ff00\"> ──────────────────────────────────────────────</span>\n",
       "</pre>\n"
      ],
      "text/plain": [
       "\u001b[92m────────────────────────────────────────────── \u001b[0m\u001b[1;33m📋 RESULTS SUMMARY 📋\u001b[0m\u001b[92m ──────────────────────────────────────────────\u001b[0m\n"
      ]
     },
     "metadata": {},
     "output_type": "display_data"
    },
    {
     "data": {
      "text/html": [
       "<pre style=\"white-space:pre;overflow-x:auto;line-height:normal;font-family:Menlo,'DejaVu Sans Mono',consolas,'Courier New',monospace\"><span style=\"font-style: italic\">          Experiment Results           </span>\n",
       "┏━━━━━━━━━━━━━━━━━━━━┳━━━━━━━━┳━━━━━━━┓\n",
       "┃<span style=\"font-weight: bold\"> Metric             </span>┃<span style=\"font-weight: bold\"> Train  </span>┃<span style=\"font-weight: bold\"> Test  </span>┃\n",
       "┡━━━━━━━━━━━━━━━━━━━━╇━━━━━━━━╇━━━━━━━┩\n",
       "│<span style=\"color: #008080; text-decoration-color: #008080\"> Average Return (%) </span>│<span style=\"color: #008000; text-decoration-color: #008000\"> </span><span style=\"color: #800000; text-decoration-color: #800000\">-1.31%</span><span style=\"color: #008000; text-decoration-color: #008000\"> </span>│<span style=\"color: #000080; text-decoration-color: #000080\"> </span><span style=\"color: #008000; text-decoration-color: #008000\">0.34%</span><span style=\"color: #000080; text-decoration-color: #000080\"> </span>│\n",
       "│<span style=\"color: #008080; text-decoration-color: #008080\"> Average Reward     </span>│<span style=\"color: #008000; text-decoration-color: #008000\"> 5.68   </span>│<span style=\"color: #000080; text-decoration-color: #000080\"> 9.43  </span>│\n",
       "└────────────────────┴────────┴───────┘\n",
       "</pre>\n"
      ],
      "text/plain": [
       "\u001b[3m          Experiment Results           \u001b[0m\n",
       "┏━━━━━━━━━━━━━━━━━━━━┳━━━━━━━━┳━━━━━━━┓\n",
       "┃\u001b[1m \u001b[0m\u001b[1mMetric            \u001b[0m\u001b[1m \u001b[0m┃\u001b[1m \u001b[0m\u001b[1mTrain \u001b[0m\u001b[1m \u001b[0m┃\u001b[1m \u001b[0m\u001b[1mTest \u001b[0m\u001b[1m \u001b[0m┃\n",
       "┡━━━━━━━━━━━━━━━━━━━━╇━━━━━━━━╇━━━━━━━┩\n",
       "│\u001b[36m \u001b[0m\u001b[36mAverage Return (%)\u001b[0m\u001b[36m \u001b[0m│\u001b[32m \u001b[0m\u001b[31m-1.31%\u001b[0m\u001b[32m \u001b[0m│\u001b[34m \u001b[0m\u001b[32m0.34%\u001b[0m\u001b[34m \u001b[0m│\n",
       "│\u001b[36m \u001b[0m\u001b[36mAverage Reward    \u001b[0m\u001b[36m \u001b[0m│\u001b[32m \u001b[0m\u001b[32m5.68  \u001b[0m\u001b[32m \u001b[0m│\u001b[34m \u001b[0m\u001b[34m9.43 \u001b[0m\u001b[34m \u001b[0m│\n",
       "└────────────────────┴────────┴───────┘\n"
      ]
     },
     "metadata": {},
     "output_type": "display_data"
    },
    {
     "data": {
      "text/html": [
       "<pre style=\"white-space:pre;overflow-x:auto;line-height:normal;font-family:Menlo,'DejaVu Sans Mono',consolas,'Courier New',monospace\">\n",
       "<span style=\"color: #008080; text-decoration-color: #008080; font-weight: bold\">Action Statistics:</span>\n",
       "</pre>\n"
      ],
      "text/plain": [
       "\n",
       "\u001b[1;36mAction Statistics:\u001b[0m\n"
      ]
     },
     "metadata": {},
     "output_type": "display_data"
    },
    {
     "data": {
      "text/html": [
       "<pre style=\"white-space:pre;overflow-x:auto;line-height:normal;font-family:Menlo,'DejaVu Sans Mono',consolas,'Courier New',monospace\"><span style=\"font-style: italic\">                    Action Distribution                     </span>\n",
       "┏━━━━━━━━━━━━┳━━━━━━━━━━━━━┳━━━━━━━━━┳━━━━━━━━━━━━┳━━━━━━━━┓\n",
       "┃<span style=\"font-weight: bold\"> Action     </span>┃<span style=\"font-weight: bold\"> Train Count </span>┃<span style=\"font-weight: bold\"> Train % </span>┃<span style=\"font-weight: bold\"> Test Count </span>┃<span style=\"font-weight: bold\"> Test % </span>┃\n",
       "┡━━━━━━━━━━━━╇━━━━━━━━━━━━━╇━━━━━━━━━╇━━━━━━━━━━━━╇━━━━━━━━┩\n",
       "│<span style=\"color: #008080; text-decoration-color: #008080\"> Buy        </span>│<span style=\"color: #008000; text-decoration-color: #008000\">           0 </span>│<span style=\"color: #008000; text-decoration-color: #008000\">    0.0% </span>│<span style=\"color: #000080; text-decoration-color: #000080\">          5 </span>│<span style=\"color: #000080; text-decoration-color: #000080\">   0.6% </span>│\n",
       "│<span style=\"color: #008080; text-decoration-color: #008080\"> Hold       </span>│<span style=\"color: #008000; text-decoration-color: #008000\">           5 </span>│<span style=\"color: #008000; text-decoration-color: #008000\">    0.1% </span>│<span style=\"color: #000080; text-decoration-color: #000080\">          0 </span>│<span style=\"color: #000080; text-decoration-color: #000080\">   0.0% </span>│\n",
       "│<span style=\"color: #008080; text-decoration-color: #008080\"> LimitBuy   </span>│<span style=\"color: #008000; text-decoration-color: #008000\">        3360 </span>│<span style=\"color: #008000; text-decoration-color: #008000\">   98.8% </span>│<span style=\"color: #000080; text-decoration-color: #000080\">        750 </span>│<span style=\"color: #000080; text-decoration-color: #000080\">  96.8% </span>│\n",
       "│<span style=\"color: #008080; text-decoration-color: #008080\"> LimitSell  </span>│<span style=\"color: #008000; text-decoration-color: #008000\">          15 </span>│<span style=\"color: #008000; text-decoration-color: #008000\">    0.4% </span>│<span style=\"color: #000080; text-decoration-color: #000080\">          5 </span>│<span style=\"color: #000080; text-decoration-color: #000080\">   0.6% </span>│\n",
       "│<span style=\"color: #008080; text-decoration-color: #008080\"> Sell       </span>│<span style=\"color: #008000; text-decoration-color: #008000\">          20 </span>│<span style=\"color: #008000; text-decoration-color: #008000\">    0.6% </span>│<span style=\"color: #000080; text-decoration-color: #000080\">         10 </span>│<span style=\"color: #000080; text-decoration-color: #000080\">   1.3% </span>│\n",
       "│<span style=\"color: #008080; text-decoration-color: #008080\"> TakeProfit </span>│<span style=\"color: #008000; text-decoration-color: #008000\">           0 </span>│<span style=\"color: #008000; text-decoration-color: #008000\">    0.0% </span>│<span style=\"color: #000080; text-decoration-color: #000080\">          5 </span>│<span style=\"color: #000080; text-decoration-color: #000080\">   0.6% </span>│\n",
       "└────────────┴─────────────┴─────────┴────────────┴────────┘\n",
       "</pre>\n"
      ],
      "text/plain": [
       "\u001b[3m                    Action Distribution                     \u001b[0m\n",
       "┏━━━━━━━━━━━━┳━━━━━━━━━━━━━┳━━━━━━━━━┳━━━━━━━━━━━━┳━━━━━━━━┓\n",
       "┃\u001b[1m \u001b[0m\u001b[1mAction    \u001b[0m\u001b[1m \u001b[0m┃\u001b[1m \u001b[0m\u001b[1mTrain Count\u001b[0m\u001b[1m \u001b[0m┃\u001b[1m \u001b[0m\u001b[1mTrain %\u001b[0m\u001b[1m \u001b[0m┃\u001b[1m \u001b[0m\u001b[1mTest Count\u001b[0m\u001b[1m \u001b[0m┃\u001b[1m \u001b[0m\u001b[1mTest %\u001b[0m\u001b[1m \u001b[0m┃\n",
       "┡━━━━━━━━━━━━╇━━━━━━━━━━━━━╇━━━━━━━━━╇━━━━━━━━━━━━╇━━━━━━━━┩\n",
       "│\u001b[36m \u001b[0m\u001b[36mBuy       \u001b[0m\u001b[36m \u001b[0m│\u001b[32m \u001b[0m\u001b[32m          0\u001b[0m\u001b[32m \u001b[0m│\u001b[32m \u001b[0m\u001b[32m   0.0%\u001b[0m\u001b[32m \u001b[0m│\u001b[34m \u001b[0m\u001b[34m         5\u001b[0m\u001b[34m \u001b[0m│\u001b[34m \u001b[0m\u001b[34m  0.6%\u001b[0m\u001b[34m \u001b[0m│\n",
       "│\u001b[36m \u001b[0m\u001b[36mHold      \u001b[0m\u001b[36m \u001b[0m│\u001b[32m \u001b[0m\u001b[32m          5\u001b[0m\u001b[32m \u001b[0m│\u001b[32m \u001b[0m\u001b[32m   0.1%\u001b[0m\u001b[32m \u001b[0m│\u001b[34m \u001b[0m\u001b[34m         0\u001b[0m\u001b[34m \u001b[0m│\u001b[34m \u001b[0m\u001b[34m  0.0%\u001b[0m\u001b[34m \u001b[0m│\n",
       "│\u001b[36m \u001b[0m\u001b[36mLimitBuy  \u001b[0m\u001b[36m \u001b[0m│\u001b[32m \u001b[0m\u001b[32m       3360\u001b[0m\u001b[32m \u001b[0m│\u001b[32m \u001b[0m\u001b[32m  98.8%\u001b[0m\u001b[32m \u001b[0m│\u001b[34m \u001b[0m\u001b[34m       750\u001b[0m\u001b[34m \u001b[0m│\u001b[34m \u001b[0m\u001b[34m 96.8%\u001b[0m\u001b[34m \u001b[0m│\n",
       "│\u001b[36m \u001b[0m\u001b[36mLimitSell \u001b[0m\u001b[36m \u001b[0m│\u001b[32m \u001b[0m\u001b[32m         15\u001b[0m\u001b[32m \u001b[0m│\u001b[32m \u001b[0m\u001b[32m   0.4%\u001b[0m\u001b[32m \u001b[0m│\u001b[34m \u001b[0m\u001b[34m         5\u001b[0m\u001b[34m \u001b[0m│\u001b[34m \u001b[0m\u001b[34m  0.6%\u001b[0m\u001b[34m \u001b[0m│\n",
       "│\u001b[36m \u001b[0m\u001b[36mSell      \u001b[0m\u001b[36m \u001b[0m│\u001b[32m \u001b[0m\u001b[32m         20\u001b[0m\u001b[32m \u001b[0m│\u001b[32m \u001b[0m\u001b[32m   0.6%\u001b[0m\u001b[32m \u001b[0m│\u001b[34m \u001b[0m\u001b[34m        10\u001b[0m\u001b[34m \u001b[0m│\u001b[34m \u001b[0m\u001b[34m  1.3%\u001b[0m\u001b[34m \u001b[0m│\n",
       "│\u001b[36m \u001b[0m\u001b[36mTakeProfit\u001b[0m\u001b[36m \u001b[0m│\u001b[32m \u001b[0m\u001b[32m          0\u001b[0m\u001b[32m \u001b[0m│\u001b[32m \u001b[0m\u001b[32m   0.0%\u001b[0m\u001b[32m \u001b[0m│\u001b[34m \u001b[0m\u001b[34m         5\u001b[0m\u001b[34m \u001b[0m│\u001b[34m \u001b[0m\u001b[34m  0.6%\u001b[0m\u001b[34m \u001b[0m│\n",
       "└────────────┴─────────────┴─────────┴────────────┴────────┘\n"
      ]
     },
     "metadata": {},
     "output_type": "display_data"
    },
    {
     "data": {
      "text/html": [
       "<pre style=\"white-space:pre;overflow-x:auto;line-height:normal;font-family:Menlo,'DejaVu Sans Mono',consolas,'Courier New',monospace\"><span style=\"font-style: italic\">       Step Summary       </span>\n",
       "┏━━━━━━━━━━┳━━━━━━━━━━━━━┓\n",
       "┃<span style=\"font-weight: bold\"> Phase    </span>┃<span style=\"font-weight: bold\"> Total Steps </span>┃\n",
       "┡━━━━━━━━━━╇━━━━━━━━━━━━━┩\n",
       "│<span style=\"color: #008080; text-decoration-color: #008080\"> Training </span>│<span style=\"color: #808000; text-decoration-color: #808000\">        3400 </span>│\n",
       "│<span style=\"color: #008080; text-decoration-color: #008080\"> Testing  </span>│<span style=\"color: #808000; text-decoration-color: #808000\">         775 </span>│\n",
       "└──────────┴─────────────┘\n",
       "</pre>\n"
      ],
      "text/plain": [
       "\u001b[3m       Step Summary       \u001b[0m\n",
       "┏━━━━━━━━━━┳━━━━━━━━━━━━━┓\n",
       "┃\u001b[1m \u001b[0m\u001b[1mPhase   \u001b[0m\u001b[1m \u001b[0m┃\u001b[1m \u001b[0m\u001b[1mTotal Steps\u001b[0m\u001b[1m \u001b[0m┃\n",
       "┡━━━━━━━━━━╇━━━━━━━━━━━━━┩\n",
       "│\u001b[36m \u001b[0m\u001b[36mTraining\u001b[0m\u001b[36m \u001b[0m│\u001b[33m \u001b[0m\u001b[33m       3400\u001b[0m\u001b[33m \u001b[0m│\n",
       "│\u001b[36m \u001b[0m\u001b[36mTesting \u001b[0m\u001b[36m \u001b[0m│\u001b[33m \u001b[0m\u001b[33m        775\u001b[0m\u001b[33m \u001b[0m│\n",
       "└──────────┴─────────────┘\n"
      ]
     },
     "metadata": {},
     "output_type": "display_data"
    },
    {
     "data": {
      "text/html": [
       "<pre style=\"white-space:pre;overflow-x:auto;line-height:normal;font-family:Menlo,'DejaVu Sans Mono',consolas,'Courier New',monospace\"><span style=\"color: #008000; text-decoration-color: #008000; font-weight: bold\">Trial </span><span style=\"color: #008000; text-decoration-color: #008000; font-weight: bold\">17</span><span style=\"color: #008000; text-decoration-color: #008000; font-weight: bold\"> finished.</span> <span style=\"color: #000080; text-decoration-color: #000080\">test_avg_return_pct</span> = <span style=\"color: #008080; text-decoration-color: #008080; font-weight: bold\">0.3404</span> ✓\n",
       "</pre>\n"
      ],
      "text/plain": [
       "\u001b[1;32mTrial \u001b[0m\u001b[1;32m17\u001b[0m\u001b[1;32m finished.\u001b[0m \u001b[34mtest_avg_return_pct\u001b[0m = \u001b[1;36m0.3404\u001b[0m ✓\n"
      ]
     },
     "metadata": {},
     "output_type": "display_data"
    },
    {
     "name": "stderr",
     "output_type": "stream",
     "text": [
      "[I 2025-08-04 23:02:02,014] Trial 17 finished with value: 0.3403593897819519 and parameters: {'learning_rate': 0.0002998541882170933, 'batch_size': 256, 'gamma': 0.9055448775320112, 'tau': 0.07176579021834961, 'train_freq': 8, 'gradient_steps': 1, 'target_update_interval': 8}. Best is trial 11 with value: 33.12828063964844.\n"
     ]
    },
    {
     "data": {
      "text/html": [
       "<pre style=\"white-space:pre;overflow-x:auto;line-height:normal;font-family:Menlo,'DejaVu Sans Mono',consolas,'Courier New',monospace\"><span style=\"color: #00ff00; text-decoration-color: #00ff00\">────────────────────────────────────── </span><span style=\"color: #008000; text-decoration-color: #008000; font-weight: bold\">Optimization finished successfully ✓</span><span style=\"color: #00ff00; text-decoration-color: #00ff00\"> ───────────────────────────────────────</span>\n",
       "</pre>\n"
      ],
      "text/plain": [
       "\u001b[92m────────────────────────────────────── \u001b[0m\u001b[1;32mOptimization finished successfully ✓\u001b[0m\u001b[92m ───────────────────────────────────────\u001b[0m\n"
      ]
     },
     "metadata": {},
     "output_type": "display_data"
    },
    {
     "data": {
      "text/html": [
       "<pre style=\"white-space:pre;overflow-x:auto;line-height:normal;font-family:Menlo,'DejaVu Sans Mono',consolas,'Courier New',monospace\"><span style=\"color: #000080; text-decoration-color: #000080; font-weight: bold\">Best trial value:</span> <span style=\"color: #008080; text-decoration-color: #008080; font-weight: bold\">33.1283</span>\n",
       "</pre>\n"
      ],
      "text/plain": [
       "\u001b[1;34mBest trial value:\u001b[0m \u001b[1;36m33.1283\u001b[0m\n"
      ]
     },
     "metadata": {},
     "output_type": "display_data"
    },
    {
     "data": {
      "text/html": [
       "<pre style=\"white-space:pre;overflow-x:auto;line-height:normal;font-family:Menlo,'DejaVu Sans Mono',consolas,'Courier New',monospace\"><span style=\"color: #000080; text-decoration-color: #000080; font-weight: bold\">Best params:</span>\n",
       "</pre>\n"
      ],
      "text/plain": [
       "\u001b[1;34mBest params:\u001b[0m\n"
      ]
     },
     "metadata": {},
     "output_type": "display_data"
    },
    {
     "data": {
      "text/html": [
       "<pre style=\"white-space:pre;overflow-x:auto;line-height:normal;font-family:Menlo,'DejaVu Sans Mono',consolas,'Courier New',monospace\"><span style=\"color: #808000; text-decoration-color: #808000; font-weight: bold\">{</span>\n",
       "<span style=\"color: #808000; text-decoration-color: #808000\">    </span><span style=\"color: #008000; text-decoration-color: #008000\">'learning_rate'</span><span style=\"color: #808000; text-decoration-color: #808000\">: </span><span style=\"color: #008080; text-decoration-color: #008080; font-weight: bold\">0.0004588680478819734</span><span style=\"color: #808000; text-decoration-color: #808000\">,</span>\n",
       "<span style=\"color: #808000; text-decoration-color: #808000\">    </span><span style=\"color: #008000; text-decoration-color: #008000\">'batch_size'</span><span style=\"color: #808000; text-decoration-color: #808000\">: </span><span style=\"color: #008080; text-decoration-color: #008080; font-weight: bold\">256</span><span style=\"color: #808000; text-decoration-color: #808000\">,</span>\n",
       "<span style=\"color: #808000; text-decoration-color: #808000\">    </span><span style=\"color: #008000; text-decoration-color: #008000\">'gamma'</span><span style=\"color: #808000; text-decoration-color: #808000\">: </span><span style=\"color: #008080; text-decoration-color: #008080; font-weight: bold\">0.9949238538436462</span><span style=\"color: #808000; text-decoration-color: #808000\">,</span>\n",
       "<span style=\"color: #808000; text-decoration-color: #808000\">    </span><span style=\"color: #008000; text-decoration-color: #008000\">'tau'</span><span style=\"color: #808000; text-decoration-color: #808000\">: </span><span style=\"color: #008080; text-decoration-color: #008080; font-weight: bold\">0.07594400563035035</span>\n",
       "<span style=\"color: #808000; text-decoration-color: #808000; font-weight: bold\">}</span>\n",
       "</pre>\n"
      ],
      "text/plain": [
       "\u001b[1;33m{\u001b[0m\n",
       "\u001b[33m    \u001b[0m\u001b[32m'learning_rate'\u001b[0m\u001b[33m: \u001b[0m\u001b[1;36m0.0004588680478819734\u001b[0m\u001b[33m,\u001b[0m\n",
       "\u001b[33m    \u001b[0m\u001b[32m'batch_size'\u001b[0m\u001b[33m: \u001b[0m\u001b[1;36m256\u001b[0m\u001b[33m,\u001b[0m\n",
       "\u001b[33m    \u001b[0m\u001b[32m'gamma'\u001b[0m\u001b[33m: \u001b[0m\u001b[1;36m0.9949238538436462\u001b[0m\u001b[33m,\u001b[0m\n",
       "\u001b[33m    \u001b[0m\u001b[32m'tau'\u001b[0m\u001b[33m: \u001b[0m\u001b[1;36m0.07594400563035035\u001b[0m\n",
       "\u001b[1;33m}\u001b[0m\n"
      ]
     },
     "metadata": {},
     "output_type": "display_data"
    },
    {
     "name": "stdout",
     "output_type": "stream",
     "text": [
      "✅ Best parameters: {'learning_rate': 0.0004588680478819734, 'batch_size': 256, 'gamma': 0.9949238538436462, 'tau': 0.07594400563035035}\n",
      "✅ Best value: 33.1283\n",
      "✅ test_avg_return_pct: N/A\n"
     ]
    }
   ],
   "source": [
    "# End any existing MLflow runs to avoid conflicts\n",
    "try:\n",
    "    mlflow.end_run()\n",
    "except Exception:\n",
    "    pass  # No active run to end\n",
    "\n",
    "runner = BacktestRunner(verbose=1)\n",
    "\n",
    "# Initialize the tuner with your existing runner\n",
    "tuner = MLflowOptunaRunner(\n",
    "    runner=runner,\n",
    "    experiment_name=\"quantrl_hyperparameter_optimization\",\n",
    "    storage_url=\"sqlite:///optuna_studies.db\"  # Optional: for persistent storage\n",
    ")\n",
    "\n",
    "# Example: Basic hyperparameter optimization for SAC\n",
    "print(\"Starting SAC hyperparameter optimization...\")\n",
    "\n",
    "# Use the pre-defined search space or create a custom one\n",
    "sac_search_space = create_sac_search_space()\n",
    "# Run optimization\n",
    "study = tuner.optimize_hyperparameters(\n",
    "    algo_class=SAC,\n",
    "    env_config=single_env_config,  # Use your existing env config\n",
    "    search_space=sac_search_space,\n",
    "    fixed_params = { \"verbose\": 0 },  # Optional: fixed parameters to keep constant\n",
    "    study_name=\"sac_optimization\",\n",
    "    n_trials=2,  # Start with very few trials for quick testing on mlflow + optuna\n",
    "    total_timesteps=50000,\n",
    "    num_eval_episodes=5,\n",
    "    optimization_metric=\"test_avg_return_pct\",  # or \"test_avg_reward\"\n",
    "    direction=\"maximize\"\n",
    ")\n",
    "\n",
    "print(f\"✅ Best parameters: {study.best_params}\")\n",
    "print(f\"✅ Best value: {study.best_value:.4f}\")\n",
    "print(f\"✅ test_avg_return_pct: {study.best_trial.user_attrs.get('test_avg_return_pct', 'N/A')}\")\n"
   ]
  },
  {
   "cell_type": "markdown",
   "id": "06bb5ba0",
   "metadata": {},
   "source": [
    "# Running backtesting for different combinations\n",
    "\n",
    "The example below shows 3 different algorithm configs x 2 different env configs"
   ]
  },
  {
   "cell_type": "code",
   "execution_count": null,
   "id": "ff7f4e8e",
   "metadata": {},
   "outputs": [],
   "source": [
    "# Step 1: Create custom configurations for PPO and SAC\n",
    "# A2C will use the presets defined later\n",
    "custom_configs = {\n",
    "    'PPO': BacktestRunner.create_custom_config(\n",
    "        PPO,\n",
    "        learning_rate=0.001,\n",
    "        n_steps=2048,\n",
    "        batch_size=64,\n",
    "        gamma=0.99,\n",
    "        gae_lambda=0.95,\n",
    "        clip_range=0.2,\n",
    "        ent_coef=0.01\n",
    "    ),\n",
    "    'SAC': BacktestRunner.create_custom_config(\n",
    "        SAC,\n",
    "        learning_rate=0.0003,\n",
    "        batch_size=256,\n",
    "        gamma=0.99,\n",
    "        tau=0.005,\n",
    "        ent_coef='auto',\n",
    "        target_update_interval=1,\n",
    "        train_freq=1,\n",
    "        policy_kwargs={\n",
    "            'net_arch': [256, 256]\n",
    "        }\n",
    "    )\n",
    "    # A2C not specified here, so it will use presets\n",
    "}\n",
    "\n",
    "# Step 2: Define presets for A2C (and as fallback)\n",
    "presets = [\"explorative\"] # alternatives will be \"default\", \"conservative\"\n",
    "\n",
    "# Step 3: Run comprehensive backtest\n",
    "algorithms = [PPO, A2C, SAC]\n",
    "\n",
    "comprehensive_results = runner.run_comprehensive_backtest(\n",
    "    algorithms=algorithms,\n",
    "    env_configs=env_configs,\n",
    "    presets=presets,           # A2C will use these presets\n",
    "    custom_configs=custom_configs,  # PPO and SAC will use custom configs\n",
    "    total_timesteps=50000,\n",
    "    n_envs=4,\n",
    "    num_eval_episodes=5\n",
    ")\n",
    "\n",
    "print(\"\\n✅ Comprehensive backtest completed!\")"
   ]
  },
  {
   "cell_type": "code",
   "execution_count": null,
   "id": "7ac16e5d",
   "metadata": {},
   "outputs": [],
   "source": [
    "#TODO: include the following functions in a separate module for better organization\n",
    "# These functions will handle printing the results in a comprehensive and user-friendly way\n",
    "from rich.console import Console\n",
    "from rich.table import Table\n",
    "from rich.panel import Panel\n",
    "from rich.columns import Columns\n",
    "from rich.text import Text\n",
    "\n",
    "console = Console()\n",
    "\n",
    "def print_comprehensive_results_summary(results):\n",
    "    \"\"\"\n",
    "    Print a comprehensive summary of all results in a nicely formatted way.\n",
    "    \n",
    "    Args:\n",
    "        results: The comprehensive_results dictionary from run_comprehensive_backtest\n",
    "    \"\"\"\n",
    "    \n",
    "    # Main title\n",
    "    console.print(\"\\n\" + \"=\"*80, style=\"bold blue\")\n",
    "    console.print(\"COMPREHENSIVE BACKTESTING RESULTS SUMMARY\", style=\"bold blue\", justify=\"center\")\n",
    "    console.print(\"=\"*80, style=\"bold blue\")\n",
    "    \n",
    "    for algo_name, algo_results in results.items():\n",
    "        # Algorithm header\n",
    "        console.print(f\"\\n🤖 [bold cyan]{algo_name}[/bold cyan]\")\n",
    "        console.print(\"-\" * 60, style=\"cyan\")\n",
    "        \n",
    "        for env_name, env_results in algo_results.items():\n",
    "            # Environment header\n",
    "            console.print(f\"\\n  🌍 [bold yellow]{env_name.upper()} Environment[/bold yellow]\")\n",
    "            \n",
    "            for config_name, result in env_results.items():\n",
    "                if 'error' in result:\n",
    "                    console.print(f\"    ❌ [red]{config_name}: ERROR - {result['error']}[/red]\")\n",
    "                    continue\n",
    "                \n",
    "                # Create a panel for each configuration\n",
    "                panel_content = create_result_panel_content(result, config_name)\n",
    "                \n",
    "                panel = Panel(\n",
    "                    panel_content,\n",
    "                    title=f\"[bold]{config_name.upper()} Configuration[/bold]\",\n",
    "                    border_style=\"green\" if result['test_avg_return_pct'] >= 0 else \"red\",\n",
    "                    padding=(1, 2)\n",
    "                )\n",
    "                \n",
    "                console.print(panel)\n",
    "\n",
    "def create_result_panel_content(result, config_name):\n",
    "    \"\"\"Create formatted content for a result panel.\"\"\"\n",
    "    \n",
    "    # Performance metrics\n",
    "    train_return = result['train_avg_return_pct']\n",
    "    test_return = result['test_avg_return_pct']\n",
    "    \n",
    "    train_color = \"green\" if train_return >= 0 else \"red\"\n",
    "    test_color = \"green\" if test_return >= 0 else \"red\"\n",
    "    \n",
    "    # Create performance table\n",
    "    perf_table = Table(show_header=True, header_style=\"bold magenta\", box=None)\n",
    "    perf_table.add_column(\"Metric\", style=\"cyan\", no_wrap=True)\n",
    "    perf_table.add_column(\"Training\", justify=\"right\")\n",
    "    perf_table.add_column(\"Testing\", justify=\"right\")\n",
    "    \n",
    "    perf_table.add_row(\n",
    "        \"Return %\",\n",
    "        f\"[{train_color}]{train_return:.2f}%[/{train_color}]\",\n",
    "        f\"[{test_color}]{test_return:.2f}%[/{test_color}]\"\n",
    "    )\n",
    "    \n",
    "    perf_table.add_row(\n",
    "        \"Avg Reward\",\n",
    "        f\"{result['train_avg_reward']:.3f}\",\n",
    "        f\"{result['test_avg_reward']:.3f}\"\n",
    "    )\n",
    "    \n",
    "    perf_table.add_row(\n",
    "        \"Reward Std\",\n",
    "        f\"{result['train_reward_std']:.3f}\",\n",
    "        f\"{result['test_reward_std']:.3f}\"\n",
    "    )\n",
    "    \n",
    "    # Action statistics\n",
    "    train_actions = result.get('train_action_stats', {}).get('action_percentages', {})\n",
    "    test_actions = result.get('test_action_stats', {}).get('action_percentages', {})\n",
    "    \n",
    "    action_info = \"\"\n",
    "    if train_actions:\n",
    "        top_train_action = max(train_actions, key=train_actions.get)\n",
    "        top_train_pct = train_actions[top_train_action]\n",
    "        action_info += f\"🎯 Top Train Action: [bold]{top_train_action}[/bold] ({top_train_pct:.1f}%)\\n\"\n",
    "    \n",
    "    if test_actions:\n",
    "        top_test_action = max(test_actions, key=test_actions.get)\n",
    "        top_test_pct = test_actions[top_test_action]\n",
    "        action_info += f\"🎯 Top Test Action: [bold]{top_test_action}[/bold] ({top_test_pct:.1f}%)\\n\"\n",
    "    \n",
    "    # Configuration info\n",
    "    config_info = \"\"\n",
    "    if result.get('config'):\n",
    "        config_info = f\"⚙️  Custom Config: [dim]{len(result['config'])} parameters[/dim]\\n\"\n",
    "        # Show key parameters\n",
    "        key_params = ['learning_rate', 'batch_size', 'gamma', 'n_steps', 'tau', 'ent_coef']\n",
    "        shown_params = []\n",
    "        for param in key_params:\n",
    "            if param in result['config']:\n",
    "                shown_params.append(f\"{param}={result['config'][param]}\")\n",
    "        if shown_params:\n",
    "            config_info += f\"   [dim]{', '.join(shown_params[:3])}[/dim]\\n\"\n",
    "    else:\n",
    "        config_info = f\"⚙️  Preset: [dim]{result.get('preset', 'N/A')}[/dim]\\n\"\n",
    "    \n",
    "    # Training info\n",
    "    training_info = f\"🔄 Training: [dim]{result['total_timesteps']:,} timesteps[/dim]\\n\"\n",
    "    training_info += f\"📊 Episodes: [dim]{len(result['train_episodes'])} train, {len(result['test_episodes'])} test[/dim]\\n\"\n",
    "    \n",
    "    # Combine all content\n",
    "    content = f\"{config_info}{training_info}{action_info}\\n{perf_table}\"\n",
    "    \n",
    "    return content\n",
    "\n",
    "def print_algorithm_comparison_table(results):\n",
    "    \"\"\"\n",
    "    Print a comparison table across all algorithms and environments.\n",
    "    \"\"\"\n",
    "    console.print(\"\\n\" + \"=\"*100, style=\"bold magenta\")\n",
    "    console.print(\"ALGORITHM COMPARISON TABLE\", style=\"bold magenta\", justify=\"center\")\n",
    "    console.print(\"=\"*100, style=\"bold magenta\")\n",
    "    \n",
    "    # Create comparison table\n",
    "    table = Table(show_header=True, header_style=\"bold magenta\")\n",
    "    table.add_column(\"Algorithm\", style=\"cyan\", no_wrap=True)\n",
    "    table.add_column(\"Environment\", style=\"blue\", no_wrap=True)\n",
    "    table.add_column(\"Config\", style=\"yellow\", no_wrap=True)\n",
    "    table.add_column(\"Test Return %\", justify=\"right\", style=\"bold\")\n",
    "    table.add_column(\"Train Return %\", justify=\"right\", style=\"bold\")\n",
    "    table.add_column(\"Test Reward\", justify=\"right\")\n",
    "    table.add_column(\"Top Test Action\", style=\"magenta\")\n",
    "    table.add_column(\"Status\", justify=\"center\")\n",
    "    \n",
    "    # Collect all results for sorting\n",
    "    all_results = []\n",
    "    for algo_name, algo_results in results.items():\n",
    "        for env_name, env_results in algo_results.items():\n",
    "            for config_name, result in env_results.items():\n",
    "                all_results.append((algo_name, env_name, config_name, result))\n",
    "    \n",
    "    # Sort by test return percentage (descending)\n",
    "    all_results.sort(key=lambda x: x[3].get('test_avg_return_pct', -float('inf')), reverse=True)\n",
    "    \n",
    "    for algo_name, env_name, config_name, result in all_results:\n",
    "        if 'error' in result:\n",
    "            table.add_row(\n",
    "                algo_name, env_name, config_name,\n",
    "                \"[red]ERROR[/red]\", \"[red]ERROR[/red]\", \"[red]ERROR[/red]\",\n",
    "                \"[red]ERROR[/red]\", \"❌\"\n",
    "            )\n",
    "        else:\n",
    "            test_return = result['test_avg_return_pct']\n",
    "            train_return = result['train_avg_return_pct']\n",
    "            \n",
    "            test_color = \"green\" if test_return >= 0 else \"red\"\n",
    "            train_color = \"green\" if train_return >= 0 else \"red\"\n",
    "            \n",
    "            # Get top test action\n",
    "            test_actions = result.get('test_action_stats', {}).get('action_percentages', {})\n",
    "            top_test_action = \"N/A\"\n",
    "            if test_actions:\n",
    "                top_action = max(test_actions, key=test_actions.get)\n",
    "                top_pct = test_actions[top_action]\n",
    "                top_test_action = f\"{top_action} ({top_pct:.1f}%)\"\n",
    "            \n",
    "            # Status emoji\n",
    "            status = \"✅\" if test_return >= 0 else \"❌\"\n",
    "            if test_return >= 5:\n",
    "                status = \"🚀\"\n",
    "            elif test_return >= 1:\n",
    "                status = \"📈\"\n",
    "            \n",
    "            table.add_row(\n",
    "                algo_name, env_name, config_name,\n",
    "                f\"[{test_color}]{test_return:.2f}%[/{test_color}]\",\n",
    "                f\"[{train_color}]{train_return:.2f}%[/{train_color}]\",\n",
    "                f\"{result['test_avg_reward']:.3f}\",\n",
    "                top_test_action,\n",
    "                status\n",
    "            )\n",
    "    \n",
    "    console.print(table)\n",
    "\n",
    "def print_best_performers(results, top_n=3):\n",
    "    \"\"\"\n",
    "    Print the top N best performing configurations.\n",
    "    \"\"\"\n",
    "    console.print(f\"\\n🏆 [bold gold1]TOP {top_n} BEST PERFORMERS[/bold gold1]\")\n",
    "    console.print(\"=\"*50, style=\"gold1\")\n",
    "    \n",
    "    # Collect and sort results\n",
    "    all_results = []\n",
    "    for algo_name, algo_results in results.items():\n",
    "        for env_name, env_results in algo_results.items():\n",
    "            for config_name, result in env_results.items():\n",
    "                if 'error' not in result:\n",
    "                    all_results.append((algo_name, env_name, config_name, result))\n",
    "    \n",
    "    # Sort by test return percentage\n",
    "    all_results.sort(key=lambda x: x[3]['test_avg_return_pct'], reverse=True)\n",
    "    \n",
    "    for i, (algo_name, env_name, config_name, result) in enumerate(all_results[:top_n]):\n",
    "        rank_emoji = [\"🥇\", \"🥈\", \"🥉\"][i] if i < 3 else f\"{i+1}.\"\n",
    "        \n",
    "        test_return = result['test_avg_return_pct']\n",
    "        color = \"gold1\" if i == 0 else \"silver\" if i == 1 else \"orange3\"\n",
    "        \n",
    "        console.print(f\"{rank_emoji} [{color}]{algo_name}[/{color}] on [blue]{env_name}[/blue] \"\n",
    "                     f\"with [yellow]{config_name}[/yellow]: [{color}]{test_return:.2f}%[/{color}]\")\n",
    "\n",
    "# Usage examples:\n",
    "print_comprehensive_results_summary(comprehensive_results)\n",
    "print_algorithm_comparison_table(comprehensive_results)\n",
    "print_best_performers(comprehensive_results)"
   ]
  },
  {
   "cell_type": "code",
   "execution_count": null,
   "id": "d15e2276",
   "metadata": {},
   "outputs": [],
   "source": [
    "comprehensive_results[\"SAC\"][\"standard\"][\"custom\"][\"test_episodes\"]"
   ]
  },
  {
   "cell_type": "markdown",
   "id": "d525ac3a",
   "metadata": {},
   "source": [
    "## BacktestRunner API Summary\n",
    "\n",
    "### Method Overview\n",
    "\n",
    "| Method | Parameter | Type | Description | Use Case |\n",
    "|--------|-----------|------|-------------|----------|\n",
    "| `run_single_experiment` | `env_config` | `Dict[str, Callable]` | Single environment config | Test one algorithm on one environment |\n",
    "| `run_algorithm_comparison` | `env_config` | `Dict[str, Callable]` | Single environment config | Compare multiple algorithms on same environment |\n",
    "| `run_preset_comparison` | `env_config` | `Dict[str, Callable]` | Single environment config | Compare different presets for same algorithm |\n",
    "| `run_environment_comparison` | `env_configs` | `Dict[str, Dict[str, Callable]]` | Multiple environment configs | Test one algorithm across different environments |\n",
    "| `run_comprehensive_backtest` | `env_configs` | `Dict[str, Dict[str, Callable]]` | Multiple environment configs | Full comparison: multiple algorithms × environments × presets |"
   ]
  }
 ],
 "metadata": {
  "kernelspec": {
   "display_name": "quantrl-lab-iz6bnoqa-py3.10",
   "language": "python",
   "name": "python3"
  },
  "language_info": {
   "codemirror_mode": {
    "name": "ipython",
    "version": 3
   },
   "file_extension": ".py",
   "mimetype": "text/x-python",
   "name": "python",
   "nbconvert_exporter": "python",
   "pygments_lexer": "ipython3",
   "version": "3.10.4"
  }
 },
 "nbformat": 4,
 "nbformat_minor": 5
}
