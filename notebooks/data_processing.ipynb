{
 "cells": [
  {
   "cell_type": "code",
   "execution_count": null,
   "id": "fc2dfa9a",
   "metadata": {},
   "outputs": [],
   "source": [
    "import pandas as pd\n",
    "from quantrl_lab.data import (\n",
    "    DataSourceRegistry,\n",
    "    DataProcessor,\n",
    "    IndicatorRegistry,\n",
    "    AlpacaDataLoader, \n",
    "    YfinanceDataloader, \n",
    "    AlphaVantageDataLoader\n",
    ")\n",
    "\n",
    "from quantrl_lab.data.indicators.technical_indicators import *\n",
    "pd.set_option('display.max_columns', None)\n",
    "pd.set_option('display.max_rows', None)\n",
    "pd.set_option('display.width', None)"
   ]
  },
  {
   "cell_type": "markdown",
   "id": "c2fb8075",
   "metadata": {},
   "source": [
    "#### What each data source supports (as of the latest implementation)"
   ]
  },
  {
   "cell_type": "code",
   "execution_count": null,
   "id": "1de6e940",
   "metadata": {},
   "outputs": [],
   "source": [
    "data_source_apc = AlpacaDataLoader(\n",
    "    sources = {\n",
    "        \"primary_source\": AlpacaDataLoader,\n",
    "        \"news_source\": AlphaVantageDataLoader\n",
    "    }\n",
    ")\n",
    "supported_features = data_source_apc.supported_features\n",
    "print(f\"Supported features for AlpacaDataLoader: {supported_features}\") \n",
    "\n",
    "data_source_yf = YfinanceDataloader()\n",
    "supported_features = data_source_yf.supported_features\n",
    "print(f\"Supported features for YfinanceDataLoader: {supported_features}\")\n",
    "\n",
    "data_source_av = AlphaVantageDataLoader()\n",
    "supported_features = data_source_av.supported_features\n",
    "print(f\"Supported features for AlphaVantageDataLoader: {supported_features}\")"
   ]
  },
  {
   "cell_type": "code",
   "execution_count": null,
   "id": "e9fe2362",
   "metadata": {},
   "outputs": [],
   "source": [
    "print(f\"Available indicators:  {IndicatorRegistry.list_all()}\")"
   ]
  },
  {
   "cell_type": "code",
   "execution_count": null,
   "id": "7f879891",
   "metadata": {},
   "outputs": [],
   "source": [
    "data_loader = DataSourceRegistry()"
   ]
  },
  {
   "cell_type": "code",
   "execution_count": null,
   "id": "ebafc528",
   "metadata": {},
   "outputs": [],
   "source": [
    "olhcv_df = data_loader.get_historical_ohlcv_data(\n",
    "    symbols=\"MU\",\n",
    "    start=\"2023-01-01\",\n",
    "    end=\"2025-01-01\",\n",
    "    timeframe=\"1d\",\n",
    ")"
   ]
  },
  {
   "cell_type": "code",
   "execution_count": null,
   "id": "c78a1314",
   "metadata": {},
   "outputs": [],
   "source": [
    "news_df = data_loader.get_news_data(\n",
    "    \"MU\",\n",
    "    start=\"2023-01-01\",\n",
    "    end=\"2025-01-01\",\n",
    ")"
   ]
  },
  {
   "cell_type": "code",
   "execution_count": null,
   "id": "57379a83",
   "metadata": {},
   "outputs": [],
   "source": [
    "news_df.head()"
   ]
  },
  {
   "cell_type": "code",
   "execution_count": null,
   "id": "6040bf5d",
   "metadata": {},
   "outputs": [],
   "source": [
    "data_processor = DataProcessor(olhcv_data=olhcv_df, news_data=news_df)"
   ]
  },
  {
   "cell_type": "code",
   "execution_count": null,
   "id": "58bcbe34",
   "metadata": {},
   "outputs": [],
   "source": [
    "# Define comprehensive indicator configuration with multiple window sizes\n",
    "indicators = [\n",
    "    # Simple Moving Average - multiple windows\n",
    "    {\"SMA\": {\"window\": [5, 10, 20, 50]}},\n",
    "    \n",
    "    # Exponential Moving Average - multiple windows\n",
    "    {\"EMA\": {\"window\": [5, 10, 20, 50]}},\n",
    "    \n",
    "    # Relative Strength Index - multiple windows\n",
    "    {\"RSI\": {\"window\": [7, 14, 21, 28]}},\n",
    "    \n",
    "    # MACD - multiple parameter combinations\n",
    "    {\"MACD\": [\n",
    "        {\"fast\": 12, \"slow\": 26, \"signal\": 9},  # Standard MACD\n",
    "        {\"fast\": 5, \"slow\": 35, \"signal\": 5},   # Fast MACD\n",
    "        {\"fast\": 8, \"slow\": 21, \"signal\": 5},   # Custom MACD\n",
    "        {\"fast\": 19, \"slow\": 39, \"signal\": 9}   # Slow MACD\n",
    "    ]},\n",
    "    \n",
    "    # Average True Range - multiple windows\n",
    "    {\"ATR\": {\"window\": [7, 14, 21, 28]}},\n",
    "    \n",
    "    # Bollinger Bands - multiple windows and standard deviations\n",
    "    {\"BB\": [\n",
    "        {\"window\": 10, \"num_std\": 2.0},\n",
    "        {\"window\": 20, \"num_std\": 2.0},  # Standard BB\n",
    "        {\"window\": 20, \"num_std\": 2.5},\n",
    "        {\"window\": 50, \"num_std\": 2.0}\n",
    "    ]},\n",
    "    \n",
    "    # Stochastic Oscillator - multiple parameter combinations\n",
    "    {\"STOCH\": [\n",
    "        {\"k_window\": 14, \"d_window\": 3, \"smooth_k\": 1},  # Fast Stochastic\n",
    "        {\"k_window\": 14, \"d_window\": 3, \"smooth_k\": 3},  # Slow Stochastic\n",
    "        {\"k_window\": 21, \"d_window\": 5, \"smooth_k\": 3}   # Custom Stochastic\n",
    "    ]},\n",
    "    \n",
    "    # On-Balance Volume (no parameters needed)\n",
    "    \"OBV\"\n",
    "]"
   ]
  },
  {
   "cell_type": "code",
   "execution_count": null,
   "id": "ca3d95be",
   "metadata": {},
   "outputs": [],
   "source": [
    "processed_data = data_processor.data_processing_pipeline(\n",
    "    indicators=indicators,\n",
    "    fillna_strategy=\"neutral\"\n",
    ")"
   ]
  },
  {
   "cell_type": "code",
   "execution_count": null,
   "id": "8e606928",
   "metadata": {},
   "outputs": [],
   "source": [
    "processed_data.tail()"
   ]
  }
 ],
 "metadata": {
  "kernelspec": {
   "display_name": "quantrl-lab-iz6bnoqa-py3.10",
   "language": "python",
   "name": "python3"
  },
  "language_info": {
   "codemirror_mode": {
    "name": "ipython",
    "version": 3
   },
   "file_extension": ".py",
   "mimetype": "text/x-python",
   "name": "python",
   "nbconvert_exporter": "python",
   "pygments_lexer": "ipython3",
   "version": "3.10.4"
  }
 },
 "nbformat": 4,
 "nbformat_minor": 5
}
