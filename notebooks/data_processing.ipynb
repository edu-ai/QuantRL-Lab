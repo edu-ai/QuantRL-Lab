{
 "cells": [
  {
   "cell_type": "code",
   "execution_count": 1,
   "id": "fc2dfa9a",
   "metadata": {},
   "outputs": [],
   "source": [
    "import pandas as pd\n",
    "from quantrl_lab.data import (\n",
    "    DataSourceRegistry,\n",
    "    DataProcessor,\n",
    "    IndicatorRegistry,\n",
    "    AlpacaDataLoader, \n",
    "    YfinanceDataloader, \n",
    "    AlphaVantageDataLoader\n",
    ")\n",
    "\n",
    "from quantrl_lab.data.indicators.technical_indicators import *\n",
    "pd.set_option('display.max_columns', None)\n",
    "pd.set_option('display.max_rows', None)\n",
    "pd.set_option('display.width', None)"
   ]
  },
  {
   "cell_type": "markdown",
   "id": "c2fb8075",
   "metadata": {},
   "source": [
    "#### What each data source supports (as of the latest implementation)"
   ]
  },
  {
   "cell_type": "code",
   "execution_count": 2,
   "id": "1de6e940",
   "metadata": {},
   "outputs": [
    {
     "name": "stdout",
     "output_type": "stream",
     "text": [
      "Supported features for AlpacaDataLoader: ['historical_bars', 'news', 'live_data', 'streaming']\n",
      "Supported features for YfinanceDataLoader: ['historical_bars']\n",
      "Supported features for AlphaVantageDataLoader: ['historical_bars', 'news']\n"
     ]
    }
   ],
   "source": [
    "data_source_apc = AlpacaDataLoader()\n",
    "supported_features = data_source_apc.supported_features\n",
    "print(f\"Supported features for AlpacaDataLoader: {supported_features}\") \n",
    "\n",
    "data_source_yf = YfinanceDataloader()\n",
    "supported_features = data_source_yf.supported_features\n",
    "print(f\"Supported features for YfinanceDataLoader: {supported_features}\")\n",
    "\n",
    "data_source_av = AlphaVantageDataLoader()\n",
    "supported_features = data_source_av.supported_features\n",
    "print(f\"Supported features for AlphaVantageDataLoader: {supported_features}\")"
   ]
  },
  {
   "cell_type": "code",
   "execution_count": 3,
   "id": "e9fe2362",
   "metadata": {},
   "outputs": [
    {
     "name": "stdout",
     "output_type": "stream",
     "text": [
      "Available indicators:  ['SMA', 'EMA', 'RSI', 'MACD', 'ATR', 'BB', 'STOCH', 'OBV']\n"
     ]
    }
   ],
   "source": [
    "print(f\"Available indicators:  {IndicatorRegistry.list_all()}\")"
   ]
  },
  {
   "cell_type": "code",
   "execution_count": 4,
   "id": "7f879891",
   "metadata": {},
   "outputs": [],
   "source": [
    "data_loader = DataSourceRegistry()"
   ]
  },
  {
   "cell_type": "code",
   "execution_count": 5,
   "id": "ebafc528",
   "metadata": {},
   "outputs": [
    {
     "data": {
      "text/html": [
       "<pre style=\"white-space:pre;overflow-x:auto;line-height:normal;font-family:Menlo,'DejaVu Sans Mono',consolas,'Courier New',monospace\"><span style=\"color: #008000; text-decoration-color: #008000\">Fetching historical data for MU from </span><span style=\"color: #008000; text-decoration-color: #008000; font-weight: bold\">2023</span><span style=\"color: #008000; text-decoration-color: #008000\">-</span><span style=\"color: #008000; text-decoration-color: #008000; font-weight: bold\">01</span><span style=\"color: #008000; text-decoration-color: #008000\">-</span><span style=\"color: #008000; text-decoration-color: #008000; font-weight: bold\">01</span><span style=\"color: #008000; text-decoration-color: #008000\"> to </span><span style=\"color: #008000; text-decoration-color: #008000; font-weight: bold\">2025</span><span style=\"color: #008000; text-decoration-color: #008000\">-</span><span style=\"color: #008000; text-decoration-color: #008000; font-weight: bold\">01</span><span style=\"color: #008000; text-decoration-color: #008000\">-</span><span style=\"color: #008000; text-decoration-color: #008000; font-weight: bold\">01</span><span style=\"color: #008000; text-decoration-color: #008000\"> with timeframe 1d</span>\n",
       "</pre>\n"
      ],
      "text/plain": [
       "\u001b[32mFetching historical data for MU from \u001b[0m\u001b[1;32m2023\u001b[0m\u001b[32m-\u001b[0m\u001b[1;32m01\u001b[0m\u001b[32m-\u001b[0m\u001b[1;32m01\u001b[0m\u001b[32m to \u001b[0m\u001b[1;32m2025\u001b[0m\u001b[32m-\u001b[0m\u001b[1;32m01\u001b[0m\u001b[32m-\u001b[0m\u001b[1;32m01\u001b[0m\u001b[32m with timeframe 1d\u001b[0m\n"
      ]
     },
     "metadata": {},
     "output_type": "display_data"
    }
   ],
   "source": [
    "olhcv_df = data_loader.get_historical_ohlcv_data(\n",
    "    symbols=\"MU\",\n",
    "    start=\"2023-01-01\",\n",
    "    end=\"2025-01-01\",\n",
    "    timeframe=\"1d\",\n",
    ")"
   ]
  },
  {
   "cell_type": "code",
   "execution_count": 6,
   "id": "c78a1314",
   "metadata": {},
   "outputs": [
    {
     "data": {
      "application/vnd.jupyter.widget-view+json": {
       "model_id": "63543e3557a746d38c7310c32aed6bc0",
       "version_major": 2,
       "version_minor": 0
      },
      "text/plain": [
       "Output()"
      ]
     },
     "metadata": {},
     "output_type": "display_data"
    },
    {
     "data": {
      "text/html": [
       "<pre style=\"white-space:pre;overflow-x:auto;line-height:normal;font-family:Menlo,'DejaVu Sans Mono',consolas,'Courier New',monospace\"></pre>\n"
      ],
      "text/plain": []
     },
     "metadata": {},
     "output_type": "display_data"
    },
    {
     "data": {
      "text/html": [
       "<pre style=\"white-space:pre;overflow-x:auto;line-height:normal;font-family:Menlo,'DejaVu Sans Mono',consolas,'Courier New',monospace\"><span style=\"color: #008000; text-decoration-color: #008000\">✓ Total news items fetched: </span><span style=\"color: #008000; text-decoration-color: #008000; font-weight: bold\">1370</span>\n",
       "</pre>\n"
      ],
      "text/plain": [
       "\u001b[32m✓ Total news items fetched: \u001b[0m\u001b[1;32m1370\u001b[0m\n"
      ]
     },
     "metadata": {},
     "output_type": "display_data"
    }
   ],
   "source": [
    "news_df = data_loader.get_news_data(\n",
    "    \"MU\",\n",
    "    start=\"2023-01-01\",\n",
    "    end=\"2025-01-01\",\n",
    ")"
   ]
  },
  {
   "cell_type": "code",
   "execution_count": 7,
   "id": "6040bf5d",
   "metadata": {},
   "outputs": [],
   "source": [
    "data_processor = DataProcessor(olhcv_data=olhcv_df, news_data=news_df)"
   ]
  },
  {
   "cell_type": "code",
   "execution_count": 8,
   "id": "58bcbe34",
   "metadata": {},
   "outputs": [],
   "source": [
    "# Define comprehensive indicator configuration with multiple window sizes\n",
    "indicators = [\n",
    "    # Simple Moving Average - multiple windows\n",
    "    {\"SMA\": {\"window\": [5, 10, 20, 50]}},\n",
    "    \n",
    "    # Exponential Moving Average - multiple windows\n",
    "    {\"EMA\": {\"window\": [5, 10, 20, 50]}},\n",
    "    \n",
    "    # Relative Strength Index - multiple windows\n",
    "    {\"RSI\": {\"window\": [7, 14, 21, 28]}},\n",
    "    \n",
    "    # MACD - multiple parameter combinations\n",
    "    {\"MACD\": [\n",
    "        {\"fast\": 12, \"slow\": 26, \"signal\": 9},  # Standard MACD\n",
    "        {\"fast\": 5, \"slow\": 35, \"signal\": 5},   # Fast MACD\n",
    "        {\"fast\": 8, \"slow\": 21, \"signal\": 5},   # Custom MACD\n",
    "        {\"fast\": 19, \"slow\": 39, \"signal\": 9}   # Slow MACD\n",
    "    ]},\n",
    "    \n",
    "    # Average True Range - multiple windows\n",
    "    {\"ATR\": {\"window\": [7, 14, 21, 28]}},\n",
    "    \n",
    "    # Bollinger Bands - multiple windows and standard deviations\n",
    "    {\"BB\": [\n",
    "        {\"window\": 10, \"num_std\": 2.0},\n",
    "        {\"window\": 20, \"num_std\": 2.0},  # Standard BB\n",
    "        {\"window\": 20, \"num_std\": 2.5},\n",
    "        {\"window\": 50, \"num_std\": 2.0}\n",
    "    ]},\n",
    "    \n",
    "    # Stochastic Oscillator - multiple parameter combinations\n",
    "    {\"STOCH\": [\n",
    "        {\"k_window\": 14, \"d_window\": 3, \"smooth_k\": 1},  # Fast Stochastic\n",
    "        {\"k_window\": 14, \"d_window\": 3, \"smooth_k\": 3},  # Slow Stochastic\n",
    "        {\"k_window\": 21, \"d_window\": 5, \"smooth_k\": 3}   # Custom Stochastic\n",
    "    ]},\n",
    "    \n",
    "    # On-Balance Volume (no parameters needed)\n",
    "    \"OBV\"\n",
    "]"
   ]
  },
  {
   "cell_type": "code",
   "execution_count": 9,
   "id": "ca3d95be",
   "metadata": {},
   "outputs": [
    {
     "data": {
      "text/html": [
       "<pre style=\"white-space:pre;overflow-x:auto;line-height:normal;font-family:Menlo,'DejaVu Sans Mono',consolas,'Courier New',monospace\"><span style=\"color: #008080; text-decoration-color: #008080\">Applying SMA with params: </span><span style=\"color: #008080; text-decoration-color: #008080; font-weight: bold\">{</span><span style=\"color: #008080; text-decoration-color: #008080\">'window'</span><span style=\"color: #008080; text-decoration-color: #008080\">: </span><span style=\"color: #008080; text-decoration-color: #008080; font-weight: bold\">5</span><span style=\"color: #008080; text-decoration-color: #008080; font-weight: bold\">}</span>\n",
       "</pre>\n"
      ],
      "text/plain": [
       "\u001b[36mApplying SMA with params: \u001b[0m\u001b[1;36m{\u001b[0m\u001b[36m'window'\u001b[0m\u001b[36m: \u001b[0m\u001b[1;36m5\u001b[0m\u001b[1;36m}\u001b[0m\n"
      ]
     },
     "metadata": {},
     "output_type": "display_data"
    },
    {
     "data": {
      "text/html": [
       "<pre style=\"white-space:pre;overflow-x:auto;line-height:normal;font-family:Menlo,'DejaVu Sans Mono',consolas,'Courier New',monospace\"><span style=\"color: #008080; text-decoration-color: #008080\">Applying SMA with params: </span><span style=\"color: #008080; text-decoration-color: #008080; font-weight: bold\">{</span><span style=\"color: #008080; text-decoration-color: #008080\">'window'</span><span style=\"color: #008080; text-decoration-color: #008080\">: </span><span style=\"color: #008080; text-decoration-color: #008080; font-weight: bold\">10</span><span style=\"color: #008080; text-decoration-color: #008080; font-weight: bold\">}</span>\n",
       "</pre>\n"
      ],
      "text/plain": [
       "\u001b[36mApplying SMA with params: \u001b[0m\u001b[1;36m{\u001b[0m\u001b[36m'window'\u001b[0m\u001b[36m: \u001b[0m\u001b[1;36m10\u001b[0m\u001b[1;36m}\u001b[0m\n"
      ]
     },
     "metadata": {},
     "output_type": "display_data"
    },
    {
     "data": {
      "text/html": [
       "<pre style=\"white-space:pre;overflow-x:auto;line-height:normal;font-family:Menlo,'DejaVu Sans Mono',consolas,'Courier New',monospace\"><span style=\"color: #008080; text-decoration-color: #008080\">Applying SMA with params: </span><span style=\"color: #008080; text-decoration-color: #008080; font-weight: bold\">{</span><span style=\"color: #008080; text-decoration-color: #008080\">'window'</span><span style=\"color: #008080; text-decoration-color: #008080\">: </span><span style=\"color: #008080; text-decoration-color: #008080; font-weight: bold\">20</span><span style=\"color: #008080; text-decoration-color: #008080; font-weight: bold\">}</span>\n",
       "</pre>\n"
      ],
      "text/plain": [
       "\u001b[36mApplying SMA with params: \u001b[0m\u001b[1;36m{\u001b[0m\u001b[36m'window'\u001b[0m\u001b[36m: \u001b[0m\u001b[1;36m20\u001b[0m\u001b[1;36m}\u001b[0m\n"
      ]
     },
     "metadata": {},
     "output_type": "display_data"
    },
    {
     "data": {
      "text/html": [
       "<pre style=\"white-space:pre;overflow-x:auto;line-height:normal;font-family:Menlo,'DejaVu Sans Mono',consolas,'Courier New',monospace\"><span style=\"color: #008080; text-decoration-color: #008080\">Applying SMA with params: </span><span style=\"color: #008080; text-decoration-color: #008080; font-weight: bold\">{</span><span style=\"color: #008080; text-decoration-color: #008080\">'window'</span><span style=\"color: #008080; text-decoration-color: #008080\">: </span><span style=\"color: #008080; text-decoration-color: #008080; font-weight: bold\">50</span><span style=\"color: #008080; text-decoration-color: #008080; font-weight: bold\">}</span>\n",
       "</pre>\n"
      ],
      "text/plain": [
       "\u001b[36mApplying SMA with params: \u001b[0m\u001b[1;36m{\u001b[0m\u001b[36m'window'\u001b[0m\u001b[36m: \u001b[0m\u001b[1;36m50\u001b[0m\u001b[1;36m}\u001b[0m\n"
      ]
     },
     "metadata": {},
     "output_type": "display_data"
    },
    {
     "data": {
      "text/html": [
       "<pre style=\"white-space:pre;overflow-x:auto;line-height:normal;font-family:Menlo,'DejaVu Sans Mono',consolas,'Courier New',monospace\"><span style=\"color: #008080; text-decoration-color: #008080\">Applying EMA with params: </span><span style=\"color: #008080; text-decoration-color: #008080; font-weight: bold\">{</span><span style=\"color: #008080; text-decoration-color: #008080\">'window'</span><span style=\"color: #008080; text-decoration-color: #008080\">: </span><span style=\"color: #008080; text-decoration-color: #008080; font-weight: bold\">5</span><span style=\"color: #008080; text-decoration-color: #008080; font-weight: bold\">}</span>\n",
       "</pre>\n"
      ],
      "text/plain": [
       "\u001b[36mApplying EMA with params: \u001b[0m\u001b[1;36m{\u001b[0m\u001b[36m'window'\u001b[0m\u001b[36m: \u001b[0m\u001b[1;36m5\u001b[0m\u001b[1;36m}\u001b[0m\n"
      ]
     },
     "metadata": {},
     "output_type": "display_data"
    },
    {
     "data": {
      "text/html": [
       "<pre style=\"white-space:pre;overflow-x:auto;line-height:normal;font-family:Menlo,'DejaVu Sans Mono',consolas,'Courier New',monospace\"><span style=\"color: #008080; text-decoration-color: #008080\">Applying EMA with params: </span><span style=\"color: #008080; text-decoration-color: #008080; font-weight: bold\">{</span><span style=\"color: #008080; text-decoration-color: #008080\">'window'</span><span style=\"color: #008080; text-decoration-color: #008080\">: </span><span style=\"color: #008080; text-decoration-color: #008080; font-weight: bold\">10</span><span style=\"color: #008080; text-decoration-color: #008080; font-weight: bold\">}</span>\n",
       "</pre>\n"
      ],
      "text/plain": [
       "\u001b[36mApplying EMA with params: \u001b[0m\u001b[1;36m{\u001b[0m\u001b[36m'window'\u001b[0m\u001b[36m: \u001b[0m\u001b[1;36m10\u001b[0m\u001b[1;36m}\u001b[0m\n"
      ]
     },
     "metadata": {},
     "output_type": "display_data"
    },
    {
     "data": {
      "text/html": [
       "<pre style=\"white-space:pre;overflow-x:auto;line-height:normal;font-family:Menlo,'DejaVu Sans Mono',consolas,'Courier New',monospace\"><span style=\"color: #008080; text-decoration-color: #008080\">Applying EMA with params: </span><span style=\"color: #008080; text-decoration-color: #008080; font-weight: bold\">{</span><span style=\"color: #008080; text-decoration-color: #008080\">'window'</span><span style=\"color: #008080; text-decoration-color: #008080\">: </span><span style=\"color: #008080; text-decoration-color: #008080; font-weight: bold\">20</span><span style=\"color: #008080; text-decoration-color: #008080; font-weight: bold\">}</span>\n",
       "</pre>\n"
      ],
      "text/plain": [
       "\u001b[36mApplying EMA with params: \u001b[0m\u001b[1;36m{\u001b[0m\u001b[36m'window'\u001b[0m\u001b[36m: \u001b[0m\u001b[1;36m20\u001b[0m\u001b[1;36m}\u001b[0m\n"
      ]
     },
     "metadata": {},
     "output_type": "display_data"
    },
    {
     "data": {
      "text/html": [
       "<pre style=\"white-space:pre;overflow-x:auto;line-height:normal;font-family:Menlo,'DejaVu Sans Mono',consolas,'Courier New',monospace\"><span style=\"color: #008080; text-decoration-color: #008080\">Applying EMA with params: </span><span style=\"color: #008080; text-decoration-color: #008080; font-weight: bold\">{</span><span style=\"color: #008080; text-decoration-color: #008080\">'window'</span><span style=\"color: #008080; text-decoration-color: #008080\">: </span><span style=\"color: #008080; text-decoration-color: #008080; font-weight: bold\">50</span><span style=\"color: #008080; text-decoration-color: #008080; font-weight: bold\">}</span>\n",
       "</pre>\n"
      ],
      "text/plain": [
       "\u001b[36mApplying EMA with params: \u001b[0m\u001b[1;36m{\u001b[0m\u001b[36m'window'\u001b[0m\u001b[36m: \u001b[0m\u001b[1;36m50\u001b[0m\u001b[1;36m}\u001b[0m\n"
      ]
     },
     "metadata": {},
     "output_type": "display_data"
    },
    {
     "data": {
      "text/html": [
       "<pre style=\"white-space:pre;overflow-x:auto;line-height:normal;font-family:Menlo,'DejaVu Sans Mono',consolas,'Courier New',monospace\"><span style=\"color: #008080; text-decoration-color: #008080\">Applying RSI with params: </span><span style=\"color: #008080; text-decoration-color: #008080; font-weight: bold\">{</span><span style=\"color: #008080; text-decoration-color: #008080\">'window'</span><span style=\"color: #008080; text-decoration-color: #008080\">: </span><span style=\"color: #008080; text-decoration-color: #008080; font-weight: bold\">7</span><span style=\"color: #008080; text-decoration-color: #008080; font-weight: bold\">}</span>\n",
       "</pre>\n"
      ],
      "text/plain": [
       "\u001b[36mApplying RSI with params: \u001b[0m\u001b[1;36m{\u001b[0m\u001b[36m'window'\u001b[0m\u001b[36m: \u001b[0m\u001b[1;36m7\u001b[0m\u001b[1;36m}\u001b[0m\n"
      ]
     },
     "metadata": {},
     "output_type": "display_data"
    },
    {
     "data": {
      "text/html": [
       "<pre style=\"white-space:pre;overflow-x:auto;line-height:normal;font-family:Menlo,'DejaVu Sans Mono',consolas,'Courier New',monospace\"><span style=\"color: #008080; text-decoration-color: #008080\">Applying RSI with params: </span><span style=\"color: #008080; text-decoration-color: #008080; font-weight: bold\">{</span><span style=\"color: #008080; text-decoration-color: #008080\">'window'</span><span style=\"color: #008080; text-decoration-color: #008080\">: </span><span style=\"color: #008080; text-decoration-color: #008080; font-weight: bold\">14</span><span style=\"color: #008080; text-decoration-color: #008080; font-weight: bold\">}</span>\n",
       "</pre>\n"
      ],
      "text/plain": [
       "\u001b[36mApplying RSI with params: \u001b[0m\u001b[1;36m{\u001b[0m\u001b[36m'window'\u001b[0m\u001b[36m: \u001b[0m\u001b[1;36m14\u001b[0m\u001b[1;36m}\u001b[0m\n"
      ]
     },
     "metadata": {},
     "output_type": "display_data"
    },
    {
     "data": {
      "text/html": [
       "<pre style=\"white-space:pre;overflow-x:auto;line-height:normal;font-family:Menlo,'DejaVu Sans Mono',consolas,'Courier New',monospace\"><span style=\"color: #008080; text-decoration-color: #008080\">Applying RSI with params: </span><span style=\"color: #008080; text-decoration-color: #008080; font-weight: bold\">{</span><span style=\"color: #008080; text-decoration-color: #008080\">'window'</span><span style=\"color: #008080; text-decoration-color: #008080\">: </span><span style=\"color: #008080; text-decoration-color: #008080; font-weight: bold\">21</span><span style=\"color: #008080; text-decoration-color: #008080; font-weight: bold\">}</span>\n",
       "</pre>\n"
      ],
      "text/plain": [
       "\u001b[36mApplying RSI with params: \u001b[0m\u001b[1;36m{\u001b[0m\u001b[36m'window'\u001b[0m\u001b[36m: \u001b[0m\u001b[1;36m21\u001b[0m\u001b[1;36m}\u001b[0m\n"
      ]
     },
     "metadata": {},
     "output_type": "display_data"
    },
    {
     "data": {
      "text/html": [
       "<pre style=\"white-space:pre;overflow-x:auto;line-height:normal;font-family:Menlo,'DejaVu Sans Mono',consolas,'Courier New',monospace\"><span style=\"color: #008080; text-decoration-color: #008080\">Applying RSI with params: </span><span style=\"color: #008080; text-decoration-color: #008080; font-weight: bold\">{</span><span style=\"color: #008080; text-decoration-color: #008080\">'window'</span><span style=\"color: #008080; text-decoration-color: #008080\">: </span><span style=\"color: #008080; text-decoration-color: #008080; font-weight: bold\">28</span><span style=\"color: #008080; text-decoration-color: #008080; font-weight: bold\">}</span>\n",
       "</pre>\n"
      ],
      "text/plain": [
       "\u001b[36mApplying RSI with params: \u001b[0m\u001b[1;36m{\u001b[0m\u001b[36m'window'\u001b[0m\u001b[36m: \u001b[0m\u001b[1;36m28\u001b[0m\u001b[1;36m}\u001b[0m\n"
      ]
     },
     "metadata": {},
     "output_type": "display_data"
    },
    {
     "data": {
      "text/html": [
       "<pre style=\"white-space:pre;overflow-x:auto;line-height:normal;font-family:Menlo,'DejaVu Sans Mono',consolas,'Courier New',monospace\"><span style=\"color: #008080; text-decoration-color: #008080\">Applying MACD with params: </span><span style=\"color: #008080; text-decoration-color: #008080; font-weight: bold\">{</span><span style=\"color: #008080; text-decoration-color: #008080\">'fast'</span><span style=\"color: #008080; text-decoration-color: #008080\">: </span><span style=\"color: #008080; text-decoration-color: #008080; font-weight: bold\">12</span><span style=\"color: #008080; text-decoration-color: #008080\">, </span><span style=\"color: #008080; text-decoration-color: #008080\">'slow'</span><span style=\"color: #008080; text-decoration-color: #008080\">: </span><span style=\"color: #008080; text-decoration-color: #008080; font-weight: bold\">26</span><span style=\"color: #008080; text-decoration-color: #008080\">, </span><span style=\"color: #008080; text-decoration-color: #008080\">'signal'</span><span style=\"color: #008080; text-decoration-color: #008080\">: </span><span style=\"color: #008080; text-decoration-color: #008080; font-weight: bold\">9</span><span style=\"color: #008080; text-decoration-color: #008080; font-weight: bold\">}</span>\n",
       "</pre>\n"
      ],
      "text/plain": [
       "\u001b[36mApplying MACD with params: \u001b[0m\u001b[1;36m{\u001b[0m\u001b[36m'fast'\u001b[0m\u001b[36m: \u001b[0m\u001b[1;36m12\u001b[0m\u001b[36m, \u001b[0m\u001b[36m'slow'\u001b[0m\u001b[36m: \u001b[0m\u001b[1;36m26\u001b[0m\u001b[36m, \u001b[0m\u001b[36m'signal'\u001b[0m\u001b[36m: \u001b[0m\u001b[1;36m9\u001b[0m\u001b[1;36m}\u001b[0m\n"
      ]
     },
     "metadata": {},
     "output_type": "display_data"
    },
    {
     "data": {
      "text/html": [
       "<pre style=\"white-space:pre;overflow-x:auto;line-height:normal;font-family:Menlo,'DejaVu Sans Mono',consolas,'Courier New',monospace\"><span style=\"color: #008080; text-decoration-color: #008080\">Applying MACD with params: </span><span style=\"color: #008080; text-decoration-color: #008080; font-weight: bold\">{</span><span style=\"color: #008080; text-decoration-color: #008080\">'fast'</span><span style=\"color: #008080; text-decoration-color: #008080\">: </span><span style=\"color: #008080; text-decoration-color: #008080; font-weight: bold\">5</span><span style=\"color: #008080; text-decoration-color: #008080\">, </span><span style=\"color: #008080; text-decoration-color: #008080\">'slow'</span><span style=\"color: #008080; text-decoration-color: #008080\">: </span><span style=\"color: #008080; text-decoration-color: #008080; font-weight: bold\">35</span><span style=\"color: #008080; text-decoration-color: #008080\">, </span><span style=\"color: #008080; text-decoration-color: #008080\">'signal'</span><span style=\"color: #008080; text-decoration-color: #008080\">: </span><span style=\"color: #008080; text-decoration-color: #008080; font-weight: bold\">5</span><span style=\"color: #008080; text-decoration-color: #008080; font-weight: bold\">}</span>\n",
       "</pre>\n"
      ],
      "text/plain": [
       "\u001b[36mApplying MACD with params: \u001b[0m\u001b[1;36m{\u001b[0m\u001b[36m'fast'\u001b[0m\u001b[36m: \u001b[0m\u001b[1;36m5\u001b[0m\u001b[36m, \u001b[0m\u001b[36m'slow'\u001b[0m\u001b[36m: \u001b[0m\u001b[1;36m35\u001b[0m\u001b[36m, \u001b[0m\u001b[36m'signal'\u001b[0m\u001b[36m: \u001b[0m\u001b[1;36m5\u001b[0m\u001b[1;36m}\u001b[0m\n"
      ]
     },
     "metadata": {},
     "output_type": "display_data"
    },
    {
     "data": {
      "text/html": [
       "<pre style=\"white-space:pre;overflow-x:auto;line-height:normal;font-family:Menlo,'DejaVu Sans Mono',consolas,'Courier New',monospace\"><span style=\"color: #008080; text-decoration-color: #008080\">Applying MACD with params: </span><span style=\"color: #008080; text-decoration-color: #008080; font-weight: bold\">{</span><span style=\"color: #008080; text-decoration-color: #008080\">'fast'</span><span style=\"color: #008080; text-decoration-color: #008080\">: </span><span style=\"color: #008080; text-decoration-color: #008080; font-weight: bold\">8</span><span style=\"color: #008080; text-decoration-color: #008080\">, </span><span style=\"color: #008080; text-decoration-color: #008080\">'slow'</span><span style=\"color: #008080; text-decoration-color: #008080\">: </span><span style=\"color: #008080; text-decoration-color: #008080; font-weight: bold\">21</span><span style=\"color: #008080; text-decoration-color: #008080\">, </span><span style=\"color: #008080; text-decoration-color: #008080\">'signal'</span><span style=\"color: #008080; text-decoration-color: #008080\">: </span><span style=\"color: #008080; text-decoration-color: #008080; font-weight: bold\">5</span><span style=\"color: #008080; text-decoration-color: #008080; font-weight: bold\">}</span>\n",
       "</pre>\n"
      ],
      "text/plain": [
       "\u001b[36mApplying MACD with params: \u001b[0m\u001b[1;36m{\u001b[0m\u001b[36m'fast'\u001b[0m\u001b[36m: \u001b[0m\u001b[1;36m8\u001b[0m\u001b[36m, \u001b[0m\u001b[36m'slow'\u001b[0m\u001b[36m: \u001b[0m\u001b[1;36m21\u001b[0m\u001b[36m, \u001b[0m\u001b[36m'signal'\u001b[0m\u001b[36m: \u001b[0m\u001b[1;36m5\u001b[0m\u001b[1;36m}\u001b[0m\n"
      ]
     },
     "metadata": {},
     "output_type": "display_data"
    },
    {
     "data": {
      "text/html": [
       "<pre style=\"white-space:pre;overflow-x:auto;line-height:normal;font-family:Menlo,'DejaVu Sans Mono',consolas,'Courier New',monospace\"><span style=\"color: #008080; text-decoration-color: #008080\">Applying MACD with params: </span><span style=\"color: #008080; text-decoration-color: #008080; font-weight: bold\">{</span><span style=\"color: #008080; text-decoration-color: #008080\">'fast'</span><span style=\"color: #008080; text-decoration-color: #008080\">: </span><span style=\"color: #008080; text-decoration-color: #008080; font-weight: bold\">19</span><span style=\"color: #008080; text-decoration-color: #008080\">, </span><span style=\"color: #008080; text-decoration-color: #008080\">'slow'</span><span style=\"color: #008080; text-decoration-color: #008080\">: </span><span style=\"color: #008080; text-decoration-color: #008080; font-weight: bold\">39</span><span style=\"color: #008080; text-decoration-color: #008080\">, </span><span style=\"color: #008080; text-decoration-color: #008080\">'signal'</span><span style=\"color: #008080; text-decoration-color: #008080\">: </span><span style=\"color: #008080; text-decoration-color: #008080; font-weight: bold\">9</span><span style=\"color: #008080; text-decoration-color: #008080; font-weight: bold\">}</span>\n",
       "</pre>\n"
      ],
      "text/plain": [
       "\u001b[36mApplying MACD with params: \u001b[0m\u001b[1;36m{\u001b[0m\u001b[36m'fast'\u001b[0m\u001b[36m: \u001b[0m\u001b[1;36m19\u001b[0m\u001b[36m, \u001b[0m\u001b[36m'slow'\u001b[0m\u001b[36m: \u001b[0m\u001b[1;36m39\u001b[0m\u001b[36m, \u001b[0m\u001b[36m'signal'\u001b[0m\u001b[36m: \u001b[0m\u001b[1;36m9\u001b[0m\u001b[1;36m}\u001b[0m\n"
      ]
     },
     "metadata": {},
     "output_type": "display_data"
    },
    {
     "data": {
      "text/html": [
       "<pre style=\"white-space:pre;overflow-x:auto;line-height:normal;font-family:Menlo,'DejaVu Sans Mono',consolas,'Courier New',monospace\"><span style=\"color: #008080; text-decoration-color: #008080\">Applying ATR with params: </span><span style=\"color: #008080; text-decoration-color: #008080; font-weight: bold\">{</span><span style=\"color: #008080; text-decoration-color: #008080\">'window'</span><span style=\"color: #008080; text-decoration-color: #008080\">: </span><span style=\"color: #008080; text-decoration-color: #008080; font-weight: bold\">7</span><span style=\"color: #008080; text-decoration-color: #008080; font-weight: bold\">}</span>\n",
       "</pre>\n"
      ],
      "text/plain": [
       "\u001b[36mApplying ATR with params: \u001b[0m\u001b[1;36m{\u001b[0m\u001b[36m'window'\u001b[0m\u001b[36m: \u001b[0m\u001b[1;36m7\u001b[0m\u001b[1;36m}\u001b[0m\n"
      ]
     },
     "metadata": {},
     "output_type": "display_data"
    },
    {
     "data": {
      "text/html": [
       "<pre style=\"white-space:pre;overflow-x:auto;line-height:normal;font-family:Menlo,'DejaVu Sans Mono',consolas,'Courier New',monospace\"><span style=\"color: #008080; text-decoration-color: #008080\">Applying ATR with params: </span><span style=\"color: #008080; text-decoration-color: #008080; font-weight: bold\">{</span><span style=\"color: #008080; text-decoration-color: #008080\">'window'</span><span style=\"color: #008080; text-decoration-color: #008080\">: </span><span style=\"color: #008080; text-decoration-color: #008080; font-weight: bold\">14</span><span style=\"color: #008080; text-decoration-color: #008080; font-weight: bold\">}</span>\n",
       "</pre>\n"
      ],
      "text/plain": [
       "\u001b[36mApplying ATR with params: \u001b[0m\u001b[1;36m{\u001b[0m\u001b[36m'window'\u001b[0m\u001b[36m: \u001b[0m\u001b[1;36m14\u001b[0m\u001b[1;36m}\u001b[0m\n"
      ]
     },
     "metadata": {},
     "output_type": "display_data"
    },
    {
     "data": {
      "text/html": [
       "<pre style=\"white-space:pre;overflow-x:auto;line-height:normal;font-family:Menlo,'DejaVu Sans Mono',consolas,'Courier New',monospace\"><span style=\"color: #008080; text-decoration-color: #008080\">Applying ATR with params: </span><span style=\"color: #008080; text-decoration-color: #008080; font-weight: bold\">{</span><span style=\"color: #008080; text-decoration-color: #008080\">'window'</span><span style=\"color: #008080; text-decoration-color: #008080\">: </span><span style=\"color: #008080; text-decoration-color: #008080; font-weight: bold\">21</span><span style=\"color: #008080; text-decoration-color: #008080; font-weight: bold\">}</span>\n",
       "</pre>\n"
      ],
      "text/plain": [
       "\u001b[36mApplying ATR with params: \u001b[0m\u001b[1;36m{\u001b[0m\u001b[36m'window'\u001b[0m\u001b[36m: \u001b[0m\u001b[1;36m21\u001b[0m\u001b[1;36m}\u001b[0m\n"
      ]
     },
     "metadata": {},
     "output_type": "display_data"
    },
    {
     "data": {
      "text/html": [
       "<pre style=\"white-space:pre;overflow-x:auto;line-height:normal;font-family:Menlo,'DejaVu Sans Mono',consolas,'Courier New',monospace\"><span style=\"color: #008080; text-decoration-color: #008080\">Applying ATR with params: </span><span style=\"color: #008080; text-decoration-color: #008080; font-weight: bold\">{</span><span style=\"color: #008080; text-decoration-color: #008080\">'window'</span><span style=\"color: #008080; text-decoration-color: #008080\">: </span><span style=\"color: #008080; text-decoration-color: #008080; font-weight: bold\">28</span><span style=\"color: #008080; text-decoration-color: #008080; font-weight: bold\">}</span>\n",
       "</pre>\n"
      ],
      "text/plain": [
       "\u001b[36mApplying ATR with params: \u001b[0m\u001b[1;36m{\u001b[0m\u001b[36m'window'\u001b[0m\u001b[36m: \u001b[0m\u001b[1;36m28\u001b[0m\u001b[1;36m}\u001b[0m\n"
      ]
     },
     "metadata": {},
     "output_type": "display_data"
    },
    {
     "data": {
      "text/html": [
       "<pre style=\"white-space:pre;overflow-x:auto;line-height:normal;font-family:Menlo,'DejaVu Sans Mono',consolas,'Courier New',monospace\"><span style=\"color: #008080; text-decoration-color: #008080\">Applying BB with params: </span><span style=\"color: #008080; text-decoration-color: #008080; font-weight: bold\">{</span><span style=\"color: #008080; text-decoration-color: #008080\">'window'</span><span style=\"color: #008080; text-decoration-color: #008080\">: </span><span style=\"color: #008080; text-decoration-color: #008080; font-weight: bold\">10</span><span style=\"color: #008080; text-decoration-color: #008080\">, </span><span style=\"color: #008080; text-decoration-color: #008080\">'num_std'</span><span style=\"color: #008080; text-decoration-color: #008080\">: </span><span style=\"color: #008080; text-decoration-color: #008080; font-weight: bold\">2.0</span><span style=\"color: #008080; text-decoration-color: #008080; font-weight: bold\">}</span>\n",
       "</pre>\n"
      ],
      "text/plain": [
       "\u001b[36mApplying BB with params: \u001b[0m\u001b[1;36m{\u001b[0m\u001b[36m'window'\u001b[0m\u001b[36m: \u001b[0m\u001b[1;36m10\u001b[0m\u001b[36m, \u001b[0m\u001b[36m'num_std'\u001b[0m\u001b[36m: \u001b[0m\u001b[1;36m2.0\u001b[0m\u001b[1;36m}\u001b[0m\n"
      ]
     },
     "metadata": {},
     "output_type": "display_data"
    },
    {
     "data": {
      "text/html": [
       "<pre style=\"white-space:pre;overflow-x:auto;line-height:normal;font-family:Menlo,'DejaVu Sans Mono',consolas,'Courier New',monospace\"><span style=\"color: #008080; text-decoration-color: #008080\">Applying BB with params: </span><span style=\"color: #008080; text-decoration-color: #008080; font-weight: bold\">{</span><span style=\"color: #008080; text-decoration-color: #008080\">'window'</span><span style=\"color: #008080; text-decoration-color: #008080\">: </span><span style=\"color: #008080; text-decoration-color: #008080; font-weight: bold\">20</span><span style=\"color: #008080; text-decoration-color: #008080\">, </span><span style=\"color: #008080; text-decoration-color: #008080\">'num_std'</span><span style=\"color: #008080; text-decoration-color: #008080\">: </span><span style=\"color: #008080; text-decoration-color: #008080; font-weight: bold\">2.0</span><span style=\"color: #008080; text-decoration-color: #008080; font-weight: bold\">}</span>\n",
       "</pre>\n"
      ],
      "text/plain": [
       "\u001b[36mApplying BB with params: \u001b[0m\u001b[1;36m{\u001b[0m\u001b[36m'window'\u001b[0m\u001b[36m: \u001b[0m\u001b[1;36m20\u001b[0m\u001b[36m, \u001b[0m\u001b[36m'num_std'\u001b[0m\u001b[36m: \u001b[0m\u001b[1;36m2.0\u001b[0m\u001b[1;36m}\u001b[0m\n"
      ]
     },
     "metadata": {},
     "output_type": "display_data"
    },
    {
     "data": {
      "text/html": [
       "<pre style=\"white-space:pre;overflow-x:auto;line-height:normal;font-family:Menlo,'DejaVu Sans Mono',consolas,'Courier New',monospace\"><span style=\"color: #008080; text-decoration-color: #008080\">Applying BB with params: </span><span style=\"color: #008080; text-decoration-color: #008080; font-weight: bold\">{</span><span style=\"color: #008080; text-decoration-color: #008080\">'window'</span><span style=\"color: #008080; text-decoration-color: #008080\">: </span><span style=\"color: #008080; text-decoration-color: #008080; font-weight: bold\">20</span><span style=\"color: #008080; text-decoration-color: #008080\">, </span><span style=\"color: #008080; text-decoration-color: #008080\">'num_std'</span><span style=\"color: #008080; text-decoration-color: #008080\">: </span><span style=\"color: #008080; text-decoration-color: #008080; font-weight: bold\">2.5</span><span style=\"color: #008080; text-decoration-color: #008080; font-weight: bold\">}</span>\n",
       "</pre>\n"
      ],
      "text/plain": [
       "\u001b[36mApplying BB with params: \u001b[0m\u001b[1;36m{\u001b[0m\u001b[36m'window'\u001b[0m\u001b[36m: \u001b[0m\u001b[1;36m20\u001b[0m\u001b[36m, \u001b[0m\u001b[36m'num_std'\u001b[0m\u001b[36m: \u001b[0m\u001b[1;36m2.5\u001b[0m\u001b[1;36m}\u001b[0m\n"
      ]
     },
     "metadata": {},
     "output_type": "display_data"
    },
    {
     "data": {
      "text/html": [
       "<pre style=\"white-space:pre;overflow-x:auto;line-height:normal;font-family:Menlo,'DejaVu Sans Mono',consolas,'Courier New',monospace\"><span style=\"color: #008080; text-decoration-color: #008080\">Applying BB with params: </span><span style=\"color: #008080; text-decoration-color: #008080; font-weight: bold\">{</span><span style=\"color: #008080; text-decoration-color: #008080\">'window'</span><span style=\"color: #008080; text-decoration-color: #008080\">: </span><span style=\"color: #008080; text-decoration-color: #008080; font-weight: bold\">50</span><span style=\"color: #008080; text-decoration-color: #008080\">, </span><span style=\"color: #008080; text-decoration-color: #008080\">'num_std'</span><span style=\"color: #008080; text-decoration-color: #008080\">: </span><span style=\"color: #008080; text-decoration-color: #008080; font-weight: bold\">2.0</span><span style=\"color: #008080; text-decoration-color: #008080; font-weight: bold\">}</span>\n",
       "</pre>\n"
      ],
      "text/plain": [
       "\u001b[36mApplying BB with params: \u001b[0m\u001b[1;36m{\u001b[0m\u001b[36m'window'\u001b[0m\u001b[36m: \u001b[0m\u001b[1;36m50\u001b[0m\u001b[36m, \u001b[0m\u001b[36m'num_std'\u001b[0m\u001b[36m: \u001b[0m\u001b[1;36m2.0\u001b[0m\u001b[1;36m}\u001b[0m\n"
      ]
     },
     "metadata": {},
     "output_type": "display_data"
    },
    {
     "data": {
      "text/html": [
       "<pre style=\"white-space:pre;overflow-x:auto;line-height:normal;font-family:Menlo,'DejaVu Sans Mono',consolas,'Courier New',monospace\"><span style=\"color: #008080; text-decoration-color: #008080\">Applying STOCH with params: </span><span style=\"color: #008080; text-decoration-color: #008080; font-weight: bold\">{</span><span style=\"color: #008080; text-decoration-color: #008080\">'k_window'</span><span style=\"color: #008080; text-decoration-color: #008080\">: </span><span style=\"color: #008080; text-decoration-color: #008080; font-weight: bold\">14</span><span style=\"color: #008080; text-decoration-color: #008080\">, </span><span style=\"color: #008080; text-decoration-color: #008080\">'d_window'</span><span style=\"color: #008080; text-decoration-color: #008080\">: </span><span style=\"color: #008080; text-decoration-color: #008080; font-weight: bold\">3</span><span style=\"color: #008080; text-decoration-color: #008080\">, </span><span style=\"color: #008080; text-decoration-color: #008080\">'smooth_k'</span><span style=\"color: #008080; text-decoration-color: #008080\">: </span><span style=\"color: #008080; text-decoration-color: #008080; font-weight: bold\">1</span><span style=\"color: #008080; text-decoration-color: #008080; font-weight: bold\">}</span>\n",
       "</pre>\n"
      ],
      "text/plain": [
       "\u001b[36mApplying STOCH with params: \u001b[0m\u001b[1;36m{\u001b[0m\u001b[36m'k_window'\u001b[0m\u001b[36m: \u001b[0m\u001b[1;36m14\u001b[0m\u001b[36m, \u001b[0m\u001b[36m'd_window'\u001b[0m\u001b[36m: \u001b[0m\u001b[1;36m3\u001b[0m\u001b[36m, \u001b[0m\u001b[36m'smooth_k'\u001b[0m\u001b[36m: \u001b[0m\u001b[1;36m1\u001b[0m\u001b[1;36m}\u001b[0m\n"
      ]
     },
     "metadata": {},
     "output_type": "display_data"
    },
    {
     "data": {
      "text/html": [
       "<pre style=\"white-space:pre;overflow-x:auto;line-height:normal;font-family:Menlo,'DejaVu Sans Mono',consolas,'Courier New',monospace\"><span style=\"color: #008080; text-decoration-color: #008080\">Applying STOCH with params: </span><span style=\"color: #008080; text-decoration-color: #008080; font-weight: bold\">{</span><span style=\"color: #008080; text-decoration-color: #008080\">'k_window'</span><span style=\"color: #008080; text-decoration-color: #008080\">: </span><span style=\"color: #008080; text-decoration-color: #008080; font-weight: bold\">14</span><span style=\"color: #008080; text-decoration-color: #008080\">, </span><span style=\"color: #008080; text-decoration-color: #008080\">'d_window'</span><span style=\"color: #008080; text-decoration-color: #008080\">: </span><span style=\"color: #008080; text-decoration-color: #008080; font-weight: bold\">3</span><span style=\"color: #008080; text-decoration-color: #008080\">, </span><span style=\"color: #008080; text-decoration-color: #008080\">'smooth_k'</span><span style=\"color: #008080; text-decoration-color: #008080\">: </span><span style=\"color: #008080; text-decoration-color: #008080; font-weight: bold\">3</span><span style=\"color: #008080; text-decoration-color: #008080; font-weight: bold\">}</span>\n",
       "</pre>\n"
      ],
      "text/plain": [
       "\u001b[36mApplying STOCH with params: \u001b[0m\u001b[1;36m{\u001b[0m\u001b[36m'k_window'\u001b[0m\u001b[36m: \u001b[0m\u001b[1;36m14\u001b[0m\u001b[36m, \u001b[0m\u001b[36m'd_window'\u001b[0m\u001b[36m: \u001b[0m\u001b[1;36m3\u001b[0m\u001b[36m, \u001b[0m\u001b[36m'smooth_k'\u001b[0m\u001b[36m: \u001b[0m\u001b[1;36m3\u001b[0m\u001b[1;36m}\u001b[0m\n"
      ]
     },
     "metadata": {},
     "output_type": "display_data"
    },
    {
     "data": {
      "text/html": [
       "<pre style=\"white-space:pre;overflow-x:auto;line-height:normal;font-family:Menlo,'DejaVu Sans Mono',consolas,'Courier New',monospace\"><span style=\"color: #008080; text-decoration-color: #008080\">Applying STOCH with params: </span><span style=\"color: #008080; text-decoration-color: #008080; font-weight: bold\">{</span><span style=\"color: #008080; text-decoration-color: #008080\">'k_window'</span><span style=\"color: #008080; text-decoration-color: #008080\">: </span><span style=\"color: #008080; text-decoration-color: #008080; font-weight: bold\">21</span><span style=\"color: #008080; text-decoration-color: #008080\">, </span><span style=\"color: #008080; text-decoration-color: #008080\">'d_window'</span><span style=\"color: #008080; text-decoration-color: #008080\">: </span><span style=\"color: #008080; text-decoration-color: #008080; font-weight: bold\">5</span><span style=\"color: #008080; text-decoration-color: #008080\">, </span><span style=\"color: #008080; text-decoration-color: #008080\">'smooth_k'</span><span style=\"color: #008080; text-decoration-color: #008080\">: </span><span style=\"color: #008080; text-decoration-color: #008080; font-weight: bold\">3</span><span style=\"color: #008080; text-decoration-color: #008080; font-weight: bold\">}</span>\n",
       "</pre>\n"
      ],
      "text/plain": [
       "\u001b[36mApplying STOCH with params: \u001b[0m\u001b[1;36m{\u001b[0m\u001b[36m'k_window'\u001b[0m\u001b[36m: \u001b[0m\u001b[1;36m21\u001b[0m\u001b[36m, \u001b[0m\u001b[36m'd_window'\u001b[0m\u001b[36m: \u001b[0m\u001b[1;36m5\u001b[0m\u001b[36m, \u001b[0m\u001b[36m'smooth_k'\u001b[0m\u001b[36m: \u001b[0m\u001b[1;36m3\u001b[0m\u001b[1;36m}\u001b[0m\n"
      ]
     },
     "metadata": {},
     "output_type": "display_data"
    },
    {
     "data": {
      "text/html": [
       "<pre style=\"white-space:pre;overflow-x:auto;line-height:normal;font-family:Menlo,'DejaVu Sans Mono',consolas,'Courier New',monospace\"><span style=\"color: #008080; text-decoration-color: #008080\">Applying OBV with params: </span><span style=\"color: #008080; text-decoration-color: #008080; font-weight: bold\">{}</span>\n",
       "</pre>\n"
      ],
      "text/plain": [
       "\u001b[36mApplying OBV with params: \u001b[0m\u001b[1;36m{\u001b[0m\u001b[1;36m}\u001b[0m\n"
      ]
     },
     "metadata": {},
     "output_type": "display_data"
    },
    {
     "name": "stderr",
     "output_type": "stream",
     "text": [
      "Device set to use cpu\n"
     ]
    },
    {
     "data": {
      "text/html": [
       "<pre style=\"white-space:pre;overflow-x:auto;line-height:normal;font-family:Menlo,'DejaVu Sans Mono',consolas,'Courier New',monospace\"><span style=\"color: #008000; text-decoration-color: #008000\">✓ Sentiment analysis pipeline initialized with model: ProsusAI/finbert</span>\n",
       "</pre>\n"
      ],
      "text/plain": [
       "\u001b[32m✓ Sentiment analysis pipeline initialized with model: ProsusAI/finbert\u001b[0m\n"
      ]
     },
     "metadata": {},
     "output_type": "display_data"
    }
   ],
   "source": [
    "processed_data = data_processor.data_processing_pipeline(\n",
    "    indicators=indicators,\n",
    "    fillna_strategy=\"neutral\"\n",
    ")"
   ]
  },
  {
   "cell_type": "code",
   "execution_count": 10,
   "id": "8e606928",
   "metadata": {},
   "outputs": [
    {
     "data": {
      "text/html": [
       "<div>\n",
       "<style scoped>\n",
       "    .dataframe tbody tr th:only-of-type {\n",
       "        vertical-align: middle;\n",
       "    }\n",
       "\n",
       "    .dataframe tbody tr th {\n",
       "        vertical-align: top;\n",
       "    }\n",
       "\n",
       "    .dataframe thead th {\n",
       "        text-align: right;\n",
       "    }\n",
       "</style>\n",
       "<table border=\"1\" class=\"dataframe\">\n",
       "  <thead>\n",
       "    <tr style=\"text-align: right;\">\n",
       "      <th></th>\n",
       "      <th>Open</th>\n",
       "      <th>High</th>\n",
       "      <th>Low</th>\n",
       "      <th>Close</th>\n",
       "      <th>Volume</th>\n",
       "      <th>Trade_count</th>\n",
       "      <th>VWAP</th>\n",
       "      <th>SMA_5</th>\n",
       "      <th>SMA_10</th>\n",
       "      <th>SMA_20</th>\n",
       "      <th>SMA_50</th>\n",
       "      <th>EMA_5</th>\n",
       "      <th>EMA_10</th>\n",
       "      <th>EMA_20</th>\n",
       "      <th>EMA_50</th>\n",
       "      <th>RSI_7</th>\n",
       "      <th>RSI_14</th>\n",
       "      <th>RSI_21</th>\n",
       "      <th>RSI_28</th>\n",
       "      <th>MACD_line_12_26</th>\n",
       "      <th>MACD_signal_9</th>\n",
       "      <th>MACD_line_5_35</th>\n",
       "      <th>MACD_signal_5</th>\n",
       "      <th>MACD_line_8_21</th>\n",
       "      <th>MACD_line_19_39</th>\n",
       "      <th>ATR_7</th>\n",
       "      <th>ATR_14</th>\n",
       "      <th>ATR_21</th>\n",
       "      <th>ATR_28</th>\n",
       "      <th>BB_middle_10</th>\n",
       "      <th>BB_upper_10_2.0</th>\n",
       "      <th>BB_lower_10_2.0</th>\n",
       "      <th>BB_bandwidth_10</th>\n",
       "      <th>BB_middle_20</th>\n",
       "      <th>BB_upper_20_2.0</th>\n",
       "      <th>BB_lower_20_2.0</th>\n",
       "      <th>BB_bandwidth_20</th>\n",
       "      <th>BB_upper_20_2.5</th>\n",
       "      <th>BB_lower_20_2.5</th>\n",
       "      <th>BB_middle_50</th>\n",
       "      <th>BB_upper_50_2.0</th>\n",
       "      <th>BB_lower_50_2.0</th>\n",
       "      <th>BB_bandwidth_50</th>\n",
       "      <th>STOCH_%K_14_1</th>\n",
       "      <th>STOCH_%D_3</th>\n",
       "      <th>STOCH_%K_14_3</th>\n",
       "      <th>STOCH_%K_21_3</th>\n",
       "      <th>STOCH_%D_5</th>\n",
       "      <th>OBV</th>\n",
       "      <th>sentiment_score</th>\n",
       "    </tr>\n",
       "  </thead>\n",
       "  <tbody>\n",
       "    <tr>\n",
       "      <th>448</th>\n",
       "      <td>89.580</td>\n",
       "      <td>89.70</td>\n",
       "      <td>88.23</td>\n",
       "      <td>89.28</td>\n",
       "      <td>13021257.0</td>\n",
       "      <td>127908.0</td>\n",
       "      <td>89.078836</td>\n",
       "      <td>92.022</td>\n",
       "      <td>97.9765</td>\n",
       "      <td>99.11325</td>\n",
       "      <td>102.5961</td>\n",
       "      <td>92.330162</td>\n",
       "      <td>95.569614</td>\n",
       "      <td>98.176645</td>\n",
       "      <td>100.654756</td>\n",
       "      <td>33.083627</td>\n",
       "      <td>38.389479</td>\n",
       "      <td>41.010496</td>\n",
       "      <td>42.603327</td>\n",
       "      <td>-2.660272</td>\n",
       "      <td>-1.035791</td>\n",
       "      <td>-7.452382</td>\n",
       "      <td>-2.288622</td>\n",
       "      <td>-3.768755</td>\n",
       "      <td>-2.039387</td>\n",
       "      <td>5.844385</td>\n",
       "      <td>5.247510</td>\n",
       "      <td>4.904103</td>\n",
       "      <td>4.731871</td>\n",
       "      <td>97.9765</td>\n",
       "      <td>114.507978</td>\n",
       "      <td>81.445022</td>\n",
       "      <td>0.337458</td>\n",
       "      <td>99.11325</td>\n",
       "      <td>111.050452</td>\n",
       "      <td>87.176048</td>\n",
       "      <td>0.301100</td>\n",
       "      <td>114.034753</td>\n",
       "      <td>84.191747</td>\n",
       "      <td>102.5961</td>\n",
       "      <td>114.654587</td>\n",
       "      <td>90.537613</td>\n",
       "      <td>0.235067</td>\n",
       "      <td>20.140351</td>\n",
       "      <td>22.198647</td>\n",
       "      <td>21.637427</td>\n",
       "      <td>21.637427</td>\n",
       "      <td>37.057512</td>\n",
       "      <td>302556227.0</td>\n",
       "      <td>0.916668</td>\n",
       "    </tr>\n",
       "    <tr>\n",
       "      <th>449</th>\n",
       "      <td>88.500</td>\n",
       "      <td>90.63</td>\n",
       "      <td>88.10</td>\n",
       "      <td>89.82</td>\n",
       "      <td>14506092.0</td>\n",
       "      <td>151662.0</td>\n",
       "      <td>89.573184</td>\n",
       "      <td>89.206</td>\n",
       "      <td>96.7530</td>\n",
       "      <td>98.51425</td>\n",
       "      <td>102.3061</td>\n",
       "      <td>91.493442</td>\n",
       "      <td>94.524230</td>\n",
       "      <td>97.380774</td>\n",
       "      <td>100.229863</td>\n",
       "      <td>34.703900</td>\n",
       "      <td>39.166576</td>\n",
       "      <td>41.531921</td>\n",
       "      <td>42.994962</td>\n",
       "      <td>-2.982348</td>\n",
       "      <td>-1.297985</td>\n",
       "      <td>-7.735628</td>\n",
       "      <td>-2.875539</td>\n",
       "      <td>-4.049373</td>\n",
       "      <td>-2.346762</td>\n",
       "      <td>5.370901</td>\n",
       "      <td>5.053402</td>\n",
       "      <td>4.791051</td>\n",
       "      <td>4.653233</td>\n",
       "      <td>96.7530</td>\n",
       "      <td>113.747467</td>\n",
       "      <td>79.758533</td>\n",
       "      <td>0.351296</td>\n",
       "      <td>98.51425</td>\n",
       "      <td>111.070059</td>\n",
       "      <td>85.958441</td>\n",
       "      <td>0.318629</td>\n",
       "      <td>114.209012</td>\n",
       "      <td>82.819488</td>\n",
       "      <td>102.3061</td>\n",
       "      <td>114.881713</td>\n",
       "      <td>89.730487</td>\n",
       "      <td>0.245843</td>\n",
       "      <td>22.035088</td>\n",
       "      <td>20.287228</td>\n",
       "      <td>21.286550</td>\n",
       "      <td>21.286550</td>\n",
       "      <td>27.026948</td>\n",
       "      <td>317062319.0</td>\n",
       "      <td>0.928226</td>\n",
       "    </tr>\n",
       "    <tr>\n",
       "      <th>450</th>\n",
       "      <td>89.000</td>\n",
       "      <td>89.49</td>\n",
       "      <td>87.58</td>\n",
       "      <td>88.63</td>\n",
       "      <td>19422607.0</td>\n",
       "      <td>155389.0</td>\n",
       "      <td>88.569961</td>\n",
       "      <td>89.514</td>\n",
       "      <td>95.7920</td>\n",
       "      <td>98.03575</td>\n",
       "      <td>101.8939</td>\n",
       "      <td>90.538961</td>\n",
       "      <td>93.452552</td>\n",
       "      <td>96.547367</td>\n",
       "      <td>99.774967</td>\n",
       "      <td>32.670109</td>\n",
       "      <td>38.028255</td>\n",
       "      <td>40.699490</td>\n",
       "      <td>42.334816</td>\n",
       "      <td>-3.295628</td>\n",
       "      <td>-1.569855</td>\n",
       "      <td>-8.101271</td>\n",
       "      <td>-3.357775</td>\n",
       "      <td>-4.322247</td>\n",
       "      <td>-2.657333</td>\n",
       "      <td>4.923630</td>\n",
       "      <td>4.852445</td>\n",
       "      <td>4.669572</td>\n",
       "      <td>4.567046</td>\n",
       "      <td>95.7920</td>\n",
       "      <td>113.485232</td>\n",
       "      <td>78.098768</td>\n",
       "      <td>0.369409</td>\n",
       "      <td>98.03575</td>\n",
       "      <td>111.348586</td>\n",
       "      <td>84.722914</td>\n",
       "      <td>0.339489</td>\n",
       "      <td>114.676795</td>\n",
       "      <td>81.394705</td>\n",
       "      <td>101.8939</td>\n",
       "      <td>114.886049</td>\n",
       "      <td>88.901751</td>\n",
       "      <td>0.255013</td>\n",
       "      <td>17.859649</td>\n",
       "      <td>20.978558</td>\n",
       "      <td>20.011696</td>\n",
       "      <td>20.011696</td>\n",
       "      <td>21.578837</td>\n",
       "      <td>297639712.0</td>\n",
       "      <td>0.861282</td>\n",
       "    </tr>\n",
       "    <tr>\n",
       "      <th>451</th>\n",
       "      <td>86.985</td>\n",
       "      <td>87.05</td>\n",
       "      <td>84.58</td>\n",
       "      <td>85.31</td>\n",
       "      <td>22022912.0</td>\n",
       "      <td>219056.0</td>\n",
       "      <td>85.685342</td>\n",
       "      <td>88.552</td>\n",
       "      <td>94.0730</td>\n",
       "      <td>97.40375</td>\n",
       "      <td>101.3591</td>\n",
       "      <td>88.795974</td>\n",
       "      <td>91.972088</td>\n",
       "      <td>95.477142</td>\n",
       "      <td>99.207713</td>\n",
       "      <td>27.436568</td>\n",
       "      <td>34.974227</td>\n",
       "      <td>38.442361</td>\n",
       "      <td>40.534167</td>\n",
       "      <td>-3.768362</td>\n",
       "      <td>-1.871001</td>\n",
       "      <td>-9.103690</td>\n",
       "      <td>-3.859793</td>\n",
       "      <td>-4.863830</td>\n",
       "      <td>-3.075586</td>\n",
       "      <td>4.798826</td>\n",
       "      <td>4.795128</td>\n",
       "      <td>4.640069</td>\n",
       "      <td>4.548580</td>\n",
       "      <td>94.0730</td>\n",
       "      <td>112.204483</td>\n",
       "      <td>75.941517</td>\n",
       "      <td>0.385477</td>\n",
       "      <td>97.40375</td>\n",
       "      <td>111.882765</td>\n",
       "      <td>82.924735</td>\n",
       "      <td>0.371624</td>\n",
       "      <td>115.502519</td>\n",
       "      <td>79.304981</td>\n",
       "      <td>101.3591</td>\n",
       "      <td>114.837213</td>\n",
       "      <td>87.880987</td>\n",
       "      <td>0.265948</td>\n",
       "      <td>6.210526</td>\n",
       "      <td>18.888889</td>\n",
       "      <td>15.368421</td>\n",
       "      <td>15.368421</td>\n",
       "      <td>19.248360</td>\n",
       "      <td>275616800.0</td>\n",
       "      <td>0.880526</td>\n",
       "    </tr>\n",
       "    <tr>\n",
       "      <th>452</th>\n",
       "      <td>85.440</td>\n",
       "      <td>86.40</td>\n",
       "      <td>84.09</td>\n",
       "      <td>84.16</td>\n",
       "      <td>18691546.0</td>\n",
       "      <td>181722.0</td>\n",
       "      <td>84.681952</td>\n",
       "      <td>87.440</td>\n",
       "      <td>91.6630</td>\n",
       "      <td>96.68425</td>\n",
       "      <td>100.8193</td>\n",
       "      <td>87.250649</td>\n",
       "      <td>90.551708</td>\n",
       "      <td>94.399319</td>\n",
       "      <td>98.617607</td>\n",
       "      <td>25.768403</td>\n",
       "      <td>33.956949</td>\n",
       "      <td>37.682291</td>\n",
       "      <td>39.924178</td>\n",
       "      <td>-4.187531</td>\n",
       "      <td>-2.191863</td>\n",
       "      <td>-9.885700</td>\n",
       "      <td>-4.339701</td>\n",
       "      <td>-5.299518</td>\n",
       "      <td>-3.475313</td>\n",
       "      <td>4.443279</td>\n",
       "      <td>4.617618</td>\n",
       "      <td>4.529113</td>\n",
       "      <td>4.468630</td>\n",
       "      <td>91.6630</td>\n",
       "      <td>107.699134</td>\n",
       "      <td>75.626866</td>\n",
       "      <td>0.349893</td>\n",
       "      <td>96.68425</td>\n",
       "      <td>112.308309</td>\n",
       "      <td>81.060191</td>\n",
       "      <td>0.403997</td>\n",
       "      <td>116.214324</td>\n",
       "      <td>77.154176</td>\n",
       "      <td>100.8193</td>\n",
       "      <td>114.847573</td>\n",
       "      <td>86.791027</td>\n",
       "      <td>0.278285</td>\n",
       "      <td>2.175439</td>\n",
       "      <td>14.709552</td>\n",
       "      <td>8.748538</td>\n",
       "      <td>8.748538</td>\n",
       "      <td>17.410526</td>\n",
       "      <td>256925254.0</td>\n",
       "      <td>0.861282</td>\n",
       "    </tr>\n",
       "  </tbody>\n",
       "</table>\n",
       "</div>"
      ],
      "text/plain": [
       "       Open   High    Low  Close      Volume  Trade_count       VWAP   SMA_5  \\\n",
       "448  89.580  89.70  88.23  89.28  13021257.0     127908.0  89.078836  92.022   \n",
       "449  88.500  90.63  88.10  89.82  14506092.0     151662.0  89.573184  89.206   \n",
       "450  89.000  89.49  87.58  88.63  19422607.0     155389.0  88.569961  89.514   \n",
       "451  86.985  87.05  84.58  85.31  22022912.0     219056.0  85.685342  88.552   \n",
       "452  85.440  86.40  84.09  84.16  18691546.0     181722.0  84.681952  87.440   \n",
       "\n",
       "      SMA_10    SMA_20    SMA_50      EMA_5     EMA_10     EMA_20      EMA_50  \\\n",
       "448  97.9765  99.11325  102.5961  92.330162  95.569614  98.176645  100.654756   \n",
       "449  96.7530  98.51425  102.3061  91.493442  94.524230  97.380774  100.229863   \n",
       "450  95.7920  98.03575  101.8939  90.538961  93.452552  96.547367   99.774967   \n",
       "451  94.0730  97.40375  101.3591  88.795974  91.972088  95.477142   99.207713   \n",
       "452  91.6630  96.68425  100.8193  87.250649  90.551708  94.399319   98.617607   \n",
       "\n",
       "         RSI_7     RSI_14     RSI_21     RSI_28  MACD_line_12_26  \\\n",
       "448  33.083627  38.389479  41.010496  42.603327        -2.660272   \n",
       "449  34.703900  39.166576  41.531921  42.994962        -2.982348   \n",
       "450  32.670109  38.028255  40.699490  42.334816        -3.295628   \n",
       "451  27.436568  34.974227  38.442361  40.534167        -3.768362   \n",
       "452  25.768403  33.956949  37.682291  39.924178        -4.187531   \n",
       "\n",
       "     MACD_signal_9  MACD_line_5_35  MACD_signal_5  MACD_line_8_21  \\\n",
       "448      -1.035791       -7.452382      -2.288622       -3.768755   \n",
       "449      -1.297985       -7.735628      -2.875539       -4.049373   \n",
       "450      -1.569855       -8.101271      -3.357775       -4.322247   \n",
       "451      -1.871001       -9.103690      -3.859793       -4.863830   \n",
       "452      -2.191863       -9.885700      -4.339701       -5.299518   \n",
       "\n",
       "     MACD_line_19_39     ATR_7    ATR_14    ATR_21    ATR_28  BB_middle_10  \\\n",
       "448        -2.039387  5.844385  5.247510  4.904103  4.731871       97.9765   \n",
       "449        -2.346762  5.370901  5.053402  4.791051  4.653233       96.7530   \n",
       "450        -2.657333  4.923630  4.852445  4.669572  4.567046       95.7920   \n",
       "451        -3.075586  4.798826  4.795128  4.640069  4.548580       94.0730   \n",
       "452        -3.475313  4.443279  4.617618  4.529113  4.468630       91.6630   \n",
       "\n",
       "     BB_upper_10_2.0  BB_lower_10_2.0  BB_bandwidth_10  BB_middle_20  \\\n",
       "448       114.507978        81.445022         0.337458      99.11325   \n",
       "449       113.747467        79.758533         0.351296      98.51425   \n",
       "450       113.485232        78.098768         0.369409      98.03575   \n",
       "451       112.204483        75.941517         0.385477      97.40375   \n",
       "452       107.699134        75.626866         0.349893      96.68425   \n",
       "\n",
       "     BB_upper_20_2.0  BB_lower_20_2.0  BB_bandwidth_20  BB_upper_20_2.5  \\\n",
       "448       111.050452        87.176048         0.301100       114.034753   \n",
       "449       111.070059        85.958441         0.318629       114.209012   \n",
       "450       111.348586        84.722914         0.339489       114.676795   \n",
       "451       111.882765        82.924735         0.371624       115.502519   \n",
       "452       112.308309        81.060191         0.403997       116.214324   \n",
       "\n",
       "     BB_lower_20_2.5  BB_middle_50  BB_upper_50_2.0  BB_lower_50_2.0  \\\n",
       "448        84.191747      102.5961       114.654587        90.537613   \n",
       "449        82.819488      102.3061       114.881713        89.730487   \n",
       "450        81.394705      101.8939       114.886049        88.901751   \n",
       "451        79.304981      101.3591       114.837213        87.880987   \n",
       "452        77.154176      100.8193       114.847573        86.791027   \n",
       "\n",
       "     BB_bandwidth_50  STOCH_%K_14_1  STOCH_%D_3  STOCH_%K_14_3  STOCH_%K_21_3  \\\n",
       "448         0.235067      20.140351   22.198647      21.637427      21.637427   \n",
       "449         0.245843      22.035088   20.287228      21.286550      21.286550   \n",
       "450         0.255013      17.859649   20.978558      20.011696      20.011696   \n",
       "451         0.265948       6.210526   18.888889      15.368421      15.368421   \n",
       "452         0.278285       2.175439   14.709552       8.748538       8.748538   \n",
       "\n",
       "     STOCH_%D_5          OBV  sentiment_score  \n",
       "448   37.057512  302556227.0         0.916668  \n",
       "449   27.026948  317062319.0         0.928226  \n",
       "450   21.578837  297639712.0         0.861282  \n",
       "451   19.248360  275616800.0         0.880526  \n",
       "452   17.410526  256925254.0         0.861282  "
      ]
     },
     "execution_count": 10,
     "metadata": {},
     "output_type": "execute_result"
    }
   ],
   "source": [
    "processed_data.tail()"
   ]
  }
 ],
 "metadata": {
  "kernelspec": {
   "display_name": "quantrl-lab-iz6bnoqa-py3.10",
   "language": "python",
   "name": "python3"
  },
  "language_info": {
   "codemirror_mode": {
    "name": "ipython",
    "version": 3
   },
   "file_extension": ".py",
   "mimetype": "text/x-python",
   "name": "python",
   "nbconvert_exporter": "python",
   "pygments_lexer": "ipython3",
   "version": "3.10.4"
  }
 },
 "nbformat": 4,
 "nbformat_minor": 5
}
