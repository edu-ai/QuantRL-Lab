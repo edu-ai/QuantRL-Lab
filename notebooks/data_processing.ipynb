{
 "cells": [
  {
   "cell_type": "code",
   "execution_count": 1,
   "id": "fc2dfa9a",
   "metadata": {},
   "outputs": [],
   "source": [
    "import pandas as pd\n",
    "from quantrl_lab.data import (\n",
    "    DataSourceRegistry,\n",
    "    DataProcessor,\n",
    "    IndicatorRegistry,\n",
    "    AlpacaDataLoader, \n",
    "    YfinanceDataloader, \n",
    "    AlphaVantageDataLoader\n",
    ")\n",
    "\n",
    "from quantrl_lab.data.indicators.technical_indicators import *\n",
    "pd.set_option('display.max_columns', None)\n",
    "pd.set_option('display.max_rows', None)\n",
    "pd.set_option('display.width', None)"
   ]
  },
  {
   "cell_type": "markdown",
   "id": "c2fb8075",
   "metadata": {},
   "source": [
    "#### What each data source supports (as of the latest implementation)"
   ]
  },
  {
   "cell_type": "code",
   "execution_count": 2,
   "id": "1de6e940",
   "metadata": {},
   "outputs": [
    {
     "name": "stdout",
     "output_type": "stream",
     "text": [
      "Supported features for AlpacaDataLoader: ['historical_bars', 'news', 'live_data', 'streaming', 'connection_managed', 'instrument_discovery']\n",
      "Supported features for YfinanceDataLoader: ['historical_bars', 'connection_managed', 'instrument_discovery']\n",
      "Supported features for AlphaVantageDataLoader: ['historical_bars', 'news', 'connection_managed', 'instrument_discovery']\n"
     ]
    }
   ],
   "source": [
    "data_source_apc = AlpacaDataLoader(\n",
    ")\n",
    "supported_features = data_source_apc.supported_features\n",
    "print(f\"Supported features for AlpacaDataLoader: {supported_features}\") \n",
    "\n",
    "data_source_yf = YfinanceDataloader()\n",
    "supported_features = data_source_yf.supported_features\n",
    "print(f\"Supported features for YfinanceDataLoader: {supported_features}\")\n",
    "\n",
    "data_source_av = AlphaVantageDataLoader()\n",
    "supported_features = data_source_av.supported_features\n",
    "print(f\"Supported features for AlphaVantageDataLoader: {supported_features}\")"
   ]
  },
  {
   "cell_type": "code",
   "execution_count": 3,
   "id": "e9fe2362",
   "metadata": {},
   "outputs": [
    {
     "name": "stdout",
     "output_type": "stream",
     "text": [
      "Available indicators:  ['SMA', 'EMA', 'RSI', 'MACD', 'ATR', 'BB', 'STOCH', 'OBV']\n"
     ]
    }
   ],
   "source": [
    "print(f\"Available indicators:  {IndicatorRegistry.list_all()}\")"
   ]
  },
  {
   "cell_type": "code",
   "execution_count": 4,
   "id": "7f879891",
   "metadata": {},
   "outputs": [],
   "source": [
    "# * You can either initialize it with the default data source configuration\n",
    "# * or overwrite it with your own configuration\n",
    "\n",
    "data_loader = DataSourceRegistry(\n",
    "    \n",
    "    # sources = {\n",
    "    #     \"primary_source\": AlpacaDataLoader,\n",
    "    #     \"news_source\": AlpacaDataLoader\n",
    "    # }\n",
    "    \n",
    "    \n",
    "    # sources = {\n",
    "    #     \"primary_source\": AlphaVantageDataLoader,\n",
    "    #     \"news_source\": AlphaVantageDataLoader\n",
    "    # }\n",
    ")"
   ]
  },
  {
   "cell_type": "code",
   "execution_count": 5,
   "id": "ebafc528",
   "metadata": {},
   "outputs": [
    {
     "data": {
      "text/html": [
       "<pre style=\"white-space:pre;overflow-x:auto;line-height:normal;font-family:Menlo,'DejaVu Sans Mono',consolas,'Courier New',monospace\"><span style=\"color: #008000; text-decoration-color: #008000\">Fetching historical data for MU from </span><span style=\"color: #008000; text-decoration-color: #008000; font-weight: bold\">2023</span><span style=\"color: #008000; text-decoration-color: #008000\">-</span><span style=\"color: #008000; text-decoration-color: #008000; font-weight: bold\">01</span><span style=\"color: #008000; text-decoration-color: #008000\">-</span><span style=\"color: #008000; text-decoration-color: #008000; font-weight: bold\">01</span><span style=\"color: #008000; text-decoration-color: #008000\"> to </span><span style=\"color: #008000; text-decoration-color: #008000; font-weight: bold\">2025</span><span style=\"color: #008000; text-decoration-color: #008000\">-</span><span style=\"color: #008000; text-decoration-color: #008000; font-weight: bold\">01</span><span style=\"color: #008000; text-decoration-color: #008000\">-</span><span style=\"color: #008000; text-decoration-color: #008000; font-weight: bold\">01</span><span style=\"color: #008000; text-decoration-color: #008000\"> with timeframe 1d</span>\n",
       "</pre>\n"
      ],
      "text/plain": [
       "\u001b[32mFetching historical data for MU from \u001b[0m\u001b[1;32m2023\u001b[0m\u001b[32m-\u001b[0m\u001b[1;32m01\u001b[0m\u001b[32m-\u001b[0m\u001b[1;32m01\u001b[0m\u001b[32m to \u001b[0m\u001b[1;32m2025\u001b[0m\u001b[32m-\u001b[0m\u001b[1;32m01\u001b[0m\u001b[32m-\u001b[0m\u001b[1;32m01\u001b[0m\u001b[32m with timeframe 1d\u001b[0m\n"
      ]
     },
     "metadata": {},
     "output_type": "display_data"
    }
   ],
   "source": [
    "olhcv_df = data_loader.get_historical_ohlcv_data(\n",
    "    symbols=\"MU\",\n",
    "    start=\"2023-01-01\",\n",
    "    end=\"2025-01-01\",\n",
    "    timeframe=\"1d\",\n",
    ")"
   ]
  },
  {
   "cell_type": "code",
   "execution_count": 6,
   "id": "c78a1314",
   "metadata": {},
   "outputs": [
    {
     "data": {
      "application/vnd.jupyter.widget-view+json": {
       "model_id": "a9a97e013094437188e2cbf850bcf61c",
       "version_major": 2,
       "version_minor": 0
      },
      "text/plain": [
       "Output()"
      ]
     },
     "metadata": {},
     "output_type": "display_data"
    },
    {
     "data": {
      "text/html": [
       "<pre style=\"white-space:pre;overflow-x:auto;line-height:normal;font-family:Menlo,'DejaVu Sans Mono',consolas,'Courier New',monospace\"></pre>\n"
      ],
      "text/plain": []
     },
     "metadata": {},
     "output_type": "display_data"
    },
    {
     "data": {
      "text/html": [
       "<pre style=\"white-space:pre;overflow-x:auto;line-height:normal;font-family:Menlo,'DejaVu Sans Mono',consolas,'Courier New',monospace\"><span style=\"color: #008000; text-decoration-color: #008000\">✓ Total news items fetched: </span><span style=\"color: #008000; text-decoration-color: #008000; font-weight: bold\">1370</span>\n",
       "</pre>\n"
      ],
      "text/plain": [
       "\u001b[32m✓ Total news items fetched: \u001b[0m\u001b[1;32m1370\u001b[0m\n"
      ]
     },
     "metadata": {},
     "output_type": "display_data"
    }
   ],
   "source": [
    "news_df = data_loader.get_news_data(\n",
    "    \"MU\",\n",
    "    start=\"2023-01-01\",\n",
    "    end=\"2025-01-01\",\n",
    ")"
   ]
  },
  {
   "cell_type": "code",
   "execution_count": 7,
   "id": "57379a83",
   "metadata": {},
   "outputs": [
    {
     "data": {
      "text/html": [
       "<div>\n",
       "<style scoped>\n",
       "    .dataframe tbody tr th:only-of-type {\n",
       "        vertical-align: middle;\n",
       "    }\n",
       "\n",
       "    .dataframe tbody tr th {\n",
       "        vertical-align: top;\n",
       "    }\n",
       "\n",
       "    .dataframe thead th {\n",
       "        text-align: right;\n",
       "    }\n",
       "</style>\n",
       "<table border=\"1\" class=\"dataframe\">\n",
       "  <thead>\n",
       "    <tr style=\"text-align: right;\">\n",
       "      <th></th>\n",
       "      <th>author</th>\n",
       "      <th>content</th>\n",
       "      <th>created_at</th>\n",
       "      <th>headline</th>\n",
       "      <th>id</th>\n",
       "      <th>images</th>\n",
       "      <th>source</th>\n",
       "      <th>summary</th>\n",
       "      <th>symbols</th>\n",
       "      <th>updated_at</th>\n",
       "      <th>url</th>\n",
       "    </tr>\n",
       "  </thead>\n",
       "  <tbody>\n",
       "    <tr>\n",
       "      <th>0</th>\n",
       "      <td>Benzinga Insights</td>\n",
       "      <td></td>\n",
       "      <td>2024-12-31T17:35:11Z</td>\n",
       "      <td>10 Information Technology Stocks Whale Activit...</td>\n",
       "      <td>42745926</td>\n",
       "      <td>[{'size': 'large', 'url': 'https://cdn.benzing...</td>\n",
       "      <td>benzinga</td>\n",
       "      <td></td>\n",
       "      <td>[AAPL, AMD, CLSK, KC, MSTR, MU, NVDA, ORCL, PL...</td>\n",
       "      <td>2024-12-31T17:35:12Z</td>\n",
       "      <td>https://www.benzinga.com/insights/options/24/1...</td>\n",
       "    </tr>\n",
       "    <tr>\n",
       "      <th>1</th>\n",
       "      <td>Mark Putrino</td>\n",
       "      <td></td>\n",
       "      <td>2024-12-30T18:17:10Z</td>\n",
       "      <td>Stock Of The Day: Micron At Risk Of Breaking K...</td>\n",
       "      <td>42728975</td>\n",
       "      <td>[{'size': 'large', 'url': 'https://cdn.benzing...</td>\n",
       "      <td>benzinga</td>\n",
       "      <td>MU stock could drop as it breaks support at $8...</td>\n",
       "      <td>[MU]</td>\n",
       "      <td>2024-12-30T18:17:11Z</td>\n",
       "      <td>https://www.benzinga.com/trading-ideas/technic...</td>\n",
       "    </tr>\n",
       "    <tr>\n",
       "      <th>2</th>\n",
       "      <td>Benzinga Insights</td>\n",
       "      <td></td>\n",
       "      <td>2024-12-30T14:45:39Z</td>\n",
       "      <td>Market Whales and Their Recent Bets on Micron ...</td>\n",
       "      <td>42722860</td>\n",
       "      <td>[{'size': 'large', 'url': 'https://cdn.benzing...</td>\n",
       "      <td>benzinga</td>\n",
       "      <td></td>\n",
       "      <td>[MU]</td>\n",
       "      <td>2024-12-30T14:45:40Z</td>\n",
       "      <td>https://www.benzinga.com/insights/options/24/1...</td>\n",
       "    </tr>\n",
       "    <tr>\n",
       "      <th>3</th>\n",
       "      <td>Anusuya Lahiri</td>\n",
       "      <td></td>\n",
       "      <td>2024-12-30T13:47:25Z</td>\n",
       "      <td>Taiwan Semiconductor's Kaohsiung Expansion To ...</td>\n",
       "      <td>42721526</td>\n",
       "      <td>[{'size': 'large', 'url': 'https://cdn.benzing...</td>\n",
       "      <td>benzinga</td>\n",
       "      <td>Taiwan Semiconductor plans to build two new wa...</td>\n",
       "      <td>[AMD, MU, NVDA, SOXQ, TSM, USD]</td>\n",
       "      <td>2024-12-30T13:47:26Z</td>\n",
       "      <td>https://www.benzinga.com/24/12/42721526/taiwan...</td>\n",
       "    </tr>\n",
       "    <tr>\n",
       "      <th>4</th>\n",
       "      <td>Michael Cohen</td>\n",
       "      <td></td>\n",
       "      <td>2024-12-28T15:00:23Z</td>\n",
       "      <td>Benzinga Bulls And Bears: Quantum Computing, T...</td>\n",
       "      <td>42713893</td>\n",
       "      <td>[{'size': 'large', 'url': 'https://cdn.benzing...</td>\n",
       "      <td>benzinga</td>\n",
       "      <td>Benzinga examined the prospects for many inves...</td>\n",
       "      <td>[AAPL, AMD, BTCUSD, DOGEUSD, ETHUSD, F, HMC, H...</td>\n",
       "      <td>2024-12-28T15:00:24Z</td>\n",
       "      <td>https://www.benzinga.com/trading-ideas/long-id...</td>\n",
       "    </tr>\n",
       "  </tbody>\n",
       "</table>\n",
       "</div>"
      ],
      "text/plain": [
       "              author content            created_at  \\\n",
       "0  Benzinga Insights          2024-12-31T17:35:11Z   \n",
       "1       Mark Putrino          2024-12-30T18:17:10Z   \n",
       "2  Benzinga Insights          2024-12-30T14:45:39Z   \n",
       "3     Anusuya Lahiri          2024-12-30T13:47:25Z   \n",
       "4      Michael Cohen          2024-12-28T15:00:23Z   \n",
       "\n",
       "                                            headline        id  \\\n",
       "0  10 Information Technology Stocks Whale Activit...  42745926   \n",
       "1  Stock Of The Day: Micron At Risk Of Breaking K...  42728975   \n",
       "2  Market Whales and Their Recent Bets on Micron ...  42722860   \n",
       "3  Taiwan Semiconductor's Kaohsiung Expansion To ...  42721526   \n",
       "4  Benzinga Bulls And Bears: Quantum Computing, T...  42713893   \n",
       "\n",
       "                                              images    source  \\\n",
       "0  [{'size': 'large', 'url': 'https://cdn.benzing...  benzinga   \n",
       "1  [{'size': 'large', 'url': 'https://cdn.benzing...  benzinga   \n",
       "2  [{'size': 'large', 'url': 'https://cdn.benzing...  benzinga   \n",
       "3  [{'size': 'large', 'url': 'https://cdn.benzing...  benzinga   \n",
       "4  [{'size': 'large', 'url': 'https://cdn.benzing...  benzinga   \n",
       "\n",
       "                                             summary  \\\n",
       "0                                                      \n",
       "1  MU stock could drop as it breaks support at $8...   \n",
       "2                                                      \n",
       "3  Taiwan Semiconductor plans to build two new wa...   \n",
       "4  Benzinga examined the prospects for many inves...   \n",
       "\n",
       "                                             symbols            updated_at  \\\n",
       "0  [AAPL, AMD, CLSK, KC, MSTR, MU, NVDA, ORCL, PL...  2024-12-31T17:35:12Z   \n",
       "1                                               [MU]  2024-12-30T18:17:11Z   \n",
       "2                                               [MU]  2024-12-30T14:45:40Z   \n",
       "3                    [AMD, MU, NVDA, SOXQ, TSM, USD]  2024-12-30T13:47:26Z   \n",
       "4  [AAPL, AMD, BTCUSD, DOGEUSD, ETHUSD, F, HMC, H...  2024-12-28T15:00:24Z   \n",
       "\n",
       "                                                 url  \n",
       "0  https://www.benzinga.com/insights/options/24/1...  \n",
       "1  https://www.benzinga.com/trading-ideas/technic...  \n",
       "2  https://www.benzinga.com/insights/options/24/1...  \n",
       "3  https://www.benzinga.com/24/12/42721526/taiwan...  \n",
       "4  https://www.benzinga.com/trading-ideas/long-id...  "
      ]
     },
     "execution_count": 7,
     "metadata": {},
     "output_type": "execute_result"
    }
   ],
   "source": [
    "news_df.head()"
   ]
  },
  {
   "cell_type": "code",
   "execution_count": 8,
   "id": "6040bf5d",
   "metadata": {},
   "outputs": [],
   "source": [
    "data_processor = DataProcessor(olhcv_data=olhcv_df, news_data=news_df)"
   ]
  },
  {
   "cell_type": "markdown",
   "id": "484f28d0",
   "metadata": {},
   "source": [
    "#### You can input the technical indicators in the following way\n",
    "\n",
    "1. Simple string format\n",
    "indicators = [\"SMA\", \"RSI\", \"MACD\", \"BB\"] # using default window size\n",
    "\n",
    "2. Dictionary Format with Parameters\n",
    "indicators = [\n",
    "    {\"SMA\": {\"window\": 20}},\n",
    "    {\"RSI\": {\"window\": 14}},\n",
    "    {\"MACD\": {\"fast\": 12, \"slow\": 26, \"signal\": 9}},\n",
    "    {\"BB\": {\"window\": 20, \"std\": 2}}\n",
    "]\n",
    "\n",
    "3. Mixed Format\n",
    "indicators = [\n",
    "    \"SMA\",  # Uses default parameters\n",
    "    {\"RSI\": {\"window\": 21}},  # Custom parameters\n",
    "    \"MACD\"  # Uses default parameters\n",
    "]\n",
    "\n",
    "4. Complex Multi-Parameter Example\n",
    "indicators = [\n",
    "    {\"SMA\": {\"window\": [10, 20, 50]}},\n",
    "    {\"EMA\": {\"window\": [12, 26]}},\n",
    "    {\"RSI\": {\"window\": 14}},\n",
    "    {\"MACD\": {\"fast\": 12, \"slow\": 26, \"signal\": 9}},\n",
    "    {\"BollingerBands\": [\n",
    "        {\"window\": 20, \"std\": 2},\n",
    "        {\"window\": 20, \"std\": 2.5}\n",
    "    ]}\n",
    "]"
   ]
  },
  {
   "cell_type": "code",
   "execution_count": 9,
   "id": "58bcbe34",
   "metadata": {},
   "outputs": [],
   "source": [
    "# Define comprehensive indicator configuration with multiple window sizes\n",
    "indicators = [\n",
    "    # Simple Moving Average - multiple windows\n",
    "    {\"SMA\": {\"window\": [5, 10, 20, 50]}},\n",
    "    \n",
    "    # Exponential Moving Average - multiple windows\n",
    "    {\"EMA\": {\"window\": [5, 10, 20, 50]}},\n",
    "    \n",
    "    # Relative Strength Index - multiple windows\n",
    "    {\"RSI\": {\"window\": [7, 14, 21, 28]}},\n",
    "    \n",
    "    # MACD - multiple parameter combinations\n",
    "    {\"MACD\": [\n",
    "        {\"fast\": 12, \"slow\": 26, \"signal\": 9},  # Standard MACD\n",
    "        {\"fast\": 5, \"slow\": 35, \"signal\": 5},   # Fast MACD\n",
    "        {\"fast\": 8, \"slow\": 21, \"signal\": 5},   # Custom MACD\n",
    "        {\"fast\": 19, \"slow\": 39, \"signal\": 9}   # Slow MACD\n",
    "    ]},\n",
    "    \n",
    "    # Average True Range - multiple windows\n",
    "    {\"ATR\": {\"window\": [7, 14, 21, 28]}},\n",
    "    \n",
    "    # Bollinger Bands - multiple windows and standard deviations\n",
    "    {\"BB\": [\n",
    "        {\"window\": 10, \"num_std\": 2.0},\n",
    "        {\"window\": 20, \"num_std\": 2.0},  # Standard BB\n",
    "        {\"window\": 20, \"num_std\": 2.5},\n",
    "        {\"window\": 50, \"num_std\": 2.0}\n",
    "    ]},\n",
    "    \n",
    "    # Stochastic Oscillator - multiple parameter combinations\n",
    "    {\"STOCH\": [\n",
    "        {\"k_window\": 14, \"d_window\": 3, \"smooth_k\": 1},  # Fast Stochastic\n",
    "        {\"k_window\": 14, \"d_window\": 3, \"smooth_k\": 3},  # Slow Stochastic\n",
    "        {\"k_window\": 21, \"d_window\": 5, \"smooth_k\": 3}   # Custom Stochastic\n",
    "    ]},\n",
    "    \n",
    "    # On-Balance Volume (no parameters needed)\n",
    "    \"OBV\"\n",
    "]"
   ]
  },
  {
   "cell_type": "code",
   "execution_count": 10,
   "id": "ca3d95be",
   "metadata": {},
   "outputs": [
    {
     "data": {
      "text/html": [
       "<pre style=\"white-space:pre;overflow-x:auto;line-height:normal;font-family:Menlo,'DejaVu Sans Mono',consolas,'Courier New',monospace\"><span style=\"color: #008080; text-decoration-color: #008080\">Applying SMA with params: </span><span style=\"color: #008080; text-decoration-color: #008080; font-weight: bold\">{</span><span style=\"color: #008080; text-decoration-color: #008080\">'window'</span><span style=\"color: #008080; text-decoration-color: #008080\">: </span><span style=\"color: #008080; text-decoration-color: #008080; font-weight: bold\">5</span><span style=\"color: #008080; text-decoration-color: #008080; font-weight: bold\">}</span>\n",
       "</pre>\n"
      ],
      "text/plain": [
       "\u001b[36mApplying SMA with params: \u001b[0m\u001b[1;36m{\u001b[0m\u001b[36m'window'\u001b[0m\u001b[36m: \u001b[0m\u001b[1;36m5\u001b[0m\u001b[1;36m}\u001b[0m\n"
      ]
     },
     "metadata": {},
     "output_type": "display_data"
    },
    {
     "data": {
      "text/html": [
       "<pre style=\"white-space:pre;overflow-x:auto;line-height:normal;font-family:Menlo,'DejaVu Sans Mono',consolas,'Courier New',monospace\"><span style=\"color: #008080; text-decoration-color: #008080\">Applying SMA with params: </span><span style=\"color: #008080; text-decoration-color: #008080; font-weight: bold\">{</span><span style=\"color: #008080; text-decoration-color: #008080\">'window'</span><span style=\"color: #008080; text-decoration-color: #008080\">: </span><span style=\"color: #008080; text-decoration-color: #008080; font-weight: bold\">10</span><span style=\"color: #008080; text-decoration-color: #008080; font-weight: bold\">}</span>\n",
       "</pre>\n"
      ],
      "text/plain": [
       "\u001b[36mApplying SMA with params: \u001b[0m\u001b[1;36m{\u001b[0m\u001b[36m'window'\u001b[0m\u001b[36m: \u001b[0m\u001b[1;36m10\u001b[0m\u001b[1;36m}\u001b[0m\n"
      ]
     },
     "metadata": {},
     "output_type": "display_data"
    },
    {
     "data": {
      "text/html": [
       "<pre style=\"white-space:pre;overflow-x:auto;line-height:normal;font-family:Menlo,'DejaVu Sans Mono',consolas,'Courier New',monospace\"><span style=\"color: #008080; text-decoration-color: #008080\">Applying SMA with params: </span><span style=\"color: #008080; text-decoration-color: #008080; font-weight: bold\">{</span><span style=\"color: #008080; text-decoration-color: #008080\">'window'</span><span style=\"color: #008080; text-decoration-color: #008080\">: </span><span style=\"color: #008080; text-decoration-color: #008080; font-weight: bold\">20</span><span style=\"color: #008080; text-decoration-color: #008080; font-weight: bold\">}</span>\n",
       "</pre>\n"
      ],
      "text/plain": [
       "\u001b[36mApplying SMA with params: \u001b[0m\u001b[1;36m{\u001b[0m\u001b[36m'window'\u001b[0m\u001b[36m: \u001b[0m\u001b[1;36m20\u001b[0m\u001b[1;36m}\u001b[0m\n"
      ]
     },
     "metadata": {},
     "output_type": "display_data"
    },
    {
     "data": {
      "text/html": [
       "<pre style=\"white-space:pre;overflow-x:auto;line-height:normal;font-family:Menlo,'DejaVu Sans Mono',consolas,'Courier New',monospace\"><span style=\"color: #008080; text-decoration-color: #008080\">Applying SMA with params: </span><span style=\"color: #008080; text-decoration-color: #008080; font-weight: bold\">{</span><span style=\"color: #008080; text-decoration-color: #008080\">'window'</span><span style=\"color: #008080; text-decoration-color: #008080\">: </span><span style=\"color: #008080; text-decoration-color: #008080; font-weight: bold\">50</span><span style=\"color: #008080; text-decoration-color: #008080; font-weight: bold\">}</span>\n",
       "</pre>\n"
      ],
      "text/plain": [
       "\u001b[36mApplying SMA with params: \u001b[0m\u001b[1;36m{\u001b[0m\u001b[36m'window'\u001b[0m\u001b[36m: \u001b[0m\u001b[1;36m50\u001b[0m\u001b[1;36m}\u001b[0m\n"
      ]
     },
     "metadata": {},
     "output_type": "display_data"
    },
    {
     "data": {
      "text/html": [
       "<pre style=\"white-space:pre;overflow-x:auto;line-height:normal;font-family:Menlo,'DejaVu Sans Mono',consolas,'Courier New',monospace\"><span style=\"color: #008080; text-decoration-color: #008080\">Applying EMA with params: </span><span style=\"color: #008080; text-decoration-color: #008080; font-weight: bold\">{</span><span style=\"color: #008080; text-decoration-color: #008080\">'window'</span><span style=\"color: #008080; text-decoration-color: #008080\">: </span><span style=\"color: #008080; text-decoration-color: #008080; font-weight: bold\">5</span><span style=\"color: #008080; text-decoration-color: #008080; font-weight: bold\">}</span>\n",
       "</pre>\n"
      ],
      "text/plain": [
       "\u001b[36mApplying EMA with params: \u001b[0m\u001b[1;36m{\u001b[0m\u001b[36m'window'\u001b[0m\u001b[36m: \u001b[0m\u001b[1;36m5\u001b[0m\u001b[1;36m}\u001b[0m\n"
      ]
     },
     "metadata": {},
     "output_type": "display_data"
    },
    {
     "data": {
      "text/html": [
       "<pre style=\"white-space:pre;overflow-x:auto;line-height:normal;font-family:Menlo,'DejaVu Sans Mono',consolas,'Courier New',monospace\"><span style=\"color: #008080; text-decoration-color: #008080\">Applying EMA with params: </span><span style=\"color: #008080; text-decoration-color: #008080; font-weight: bold\">{</span><span style=\"color: #008080; text-decoration-color: #008080\">'window'</span><span style=\"color: #008080; text-decoration-color: #008080\">: </span><span style=\"color: #008080; text-decoration-color: #008080; font-weight: bold\">10</span><span style=\"color: #008080; text-decoration-color: #008080; font-weight: bold\">}</span>\n",
       "</pre>\n"
      ],
      "text/plain": [
       "\u001b[36mApplying EMA with params: \u001b[0m\u001b[1;36m{\u001b[0m\u001b[36m'window'\u001b[0m\u001b[36m: \u001b[0m\u001b[1;36m10\u001b[0m\u001b[1;36m}\u001b[0m\n"
      ]
     },
     "metadata": {},
     "output_type": "display_data"
    },
    {
     "data": {
      "text/html": [
       "<pre style=\"white-space:pre;overflow-x:auto;line-height:normal;font-family:Menlo,'DejaVu Sans Mono',consolas,'Courier New',monospace\"><span style=\"color: #008080; text-decoration-color: #008080\">Applying EMA with params: </span><span style=\"color: #008080; text-decoration-color: #008080; font-weight: bold\">{</span><span style=\"color: #008080; text-decoration-color: #008080\">'window'</span><span style=\"color: #008080; text-decoration-color: #008080\">: </span><span style=\"color: #008080; text-decoration-color: #008080; font-weight: bold\">20</span><span style=\"color: #008080; text-decoration-color: #008080; font-weight: bold\">}</span>\n",
       "</pre>\n"
      ],
      "text/plain": [
       "\u001b[36mApplying EMA with params: \u001b[0m\u001b[1;36m{\u001b[0m\u001b[36m'window'\u001b[0m\u001b[36m: \u001b[0m\u001b[1;36m20\u001b[0m\u001b[1;36m}\u001b[0m\n"
      ]
     },
     "metadata": {},
     "output_type": "display_data"
    },
    {
     "data": {
      "text/html": [
       "<pre style=\"white-space:pre;overflow-x:auto;line-height:normal;font-family:Menlo,'DejaVu Sans Mono',consolas,'Courier New',monospace\"><span style=\"color: #008080; text-decoration-color: #008080\">Applying EMA with params: </span><span style=\"color: #008080; text-decoration-color: #008080; font-weight: bold\">{</span><span style=\"color: #008080; text-decoration-color: #008080\">'window'</span><span style=\"color: #008080; text-decoration-color: #008080\">: </span><span style=\"color: #008080; text-decoration-color: #008080; font-weight: bold\">50</span><span style=\"color: #008080; text-decoration-color: #008080; font-weight: bold\">}</span>\n",
       "</pre>\n"
      ],
      "text/plain": [
       "\u001b[36mApplying EMA with params: \u001b[0m\u001b[1;36m{\u001b[0m\u001b[36m'window'\u001b[0m\u001b[36m: \u001b[0m\u001b[1;36m50\u001b[0m\u001b[1;36m}\u001b[0m\n"
      ]
     },
     "metadata": {},
     "output_type": "display_data"
    },
    {
     "data": {
      "text/html": [
       "<pre style=\"white-space:pre;overflow-x:auto;line-height:normal;font-family:Menlo,'DejaVu Sans Mono',consolas,'Courier New',monospace\"><span style=\"color: #008080; text-decoration-color: #008080\">Applying RSI with params: </span><span style=\"color: #008080; text-decoration-color: #008080; font-weight: bold\">{</span><span style=\"color: #008080; text-decoration-color: #008080\">'window'</span><span style=\"color: #008080; text-decoration-color: #008080\">: </span><span style=\"color: #008080; text-decoration-color: #008080; font-weight: bold\">7</span><span style=\"color: #008080; text-decoration-color: #008080; font-weight: bold\">}</span>\n",
       "</pre>\n"
      ],
      "text/plain": [
       "\u001b[36mApplying RSI with params: \u001b[0m\u001b[1;36m{\u001b[0m\u001b[36m'window'\u001b[0m\u001b[36m: \u001b[0m\u001b[1;36m7\u001b[0m\u001b[1;36m}\u001b[0m\n"
      ]
     },
     "metadata": {},
     "output_type": "display_data"
    },
    {
     "data": {
      "text/html": [
       "<pre style=\"white-space:pre;overflow-x:auto;line-height:normal;font-family:Menlo,'DejaVu Sans Mono',consolas,'Courier New',monospace\"><span style=\"color: #008080; text-decoration-color: #008080\">Applying RSI with params: </span><span style=\"color: #008080; text-decoration-color: #008080; font-weight: bold\">{</span><span style=\"color: #008080; text-decoration-color: #008080\">'window'</span><span style=\"color: #008080; text-decoration-color: #008080\">: </span><span style=\"color: #008080; text-decoration-color: #008080; font-weight: bold\">14</span><span style=\"color: #008080; text-decoration-color: #008080; font-weight: bold\">}</span>\n",
       "</pre>\n"
      ],
      "text/plain": [
       "\u001b[36mApplying RSI with params: \u001b[0m\u001b[1;36m{\u001b[0m\u001b[36m'window'\u001b[0m\u001b[36m: \u001b[0m\u001b[1;36m14\u001b[0m\u001b[1;36m}\u001b[0m\n"
      ]
     },
     "metadata": {},
     "output_type": "display_data"
    },
    {
     "data": {
      "text/html": [
       "<pre style=\"white-space:pre;overflow-x:auto;line-height:normal;font-family:Menlo,'DejaVu Sans Mono',consolas,'Courier New',monospace\"><span style=\"color: #008080; text-decoration-color: #008080\">Applying RSI with params: </span><span style=\"color: #008080; text-decoration-color: #008080; font-weight: bold\">{</span><span style=\"color: #008080; text-decoration-color: #008080\">'window'</span><span style=\"color: #008080; text-decoration-color: #008080\">: </span><span style=\"color: #008080; text-decoration-color: #008080; font-weight: bold\">21</span><span style=\"color: #008080; text-decoration-color: #008080; font-weight: bold\">}</span>\n",
       "</pre>\n"
      ],
      "text/plain": [
       "\u001b[36mApplying RSI with params: \u001b[0m\u001b[1;36m{\u001b[0m\u001b[36m'window'\u001b[0m\u001b[36m: \u001b[0m\u001b[1;36m21\u001b[0m\u001b[1;36m}\u001b[0m\n"
      ]
     },
     "metadata": {},
     "output_type": "display_data"
    },
    {
     "data": {
      "text/html": [
       "<pre style=\"white-space:pre;overflow-x:auto;line-height:normal;font-family:Menlo,'DejaVu Sans Mono',consolas,'Courier New',monospace\"><span style=\"color: #008080; text-decoration-color: #008080\">Applying RSI with params: </span><span style=\"color: #008080; text-decoration-color: #008080; font-weight: bold\">{</span><span style=\"color: #008080; text-decoration-color: #008080\">'window'</span><span style=\"color: #008080; text-decoration-color: #008080\">: </span><span style=\"color: #008080; text-decoration-color: #008080; font-weight: bold\">28</span><span style=\"color: #008080; text-decoration-color: #008080; font-weight: bold\">}</span>\n",
       "</pre>\n"
      ],
      "text/plain": [
       "\u001b[36mApplying RSI with params: \u001b[0m\u001b[1;36m{\u001b[0m\u001b[36m'window'\u001b[0m\u001b[36m: \u001b[0m\u001b[1;36m28\u001b[0m\u001b[1;36m}\u001b[0m\n"
      ]
     },
     "metadata": {},
     "output_type": "display_data"
    },
    {
     "data": {
      "text/html": [
       "<pre style=\"white-space:pre;overflow-x:auto;line-height:normal;font-family:Menlo,'DejaVu Sans Mono',consolas,'Courier New',monospace\"><span style=\"color: #008080; text-decoration-color: #008080\">Applying MACD with params: </span><span style=\"color: #008080; text-decoration-color: #008080; font-weight: bold\">{</span><span style=\"color: #008080; text-decoration-color: #008080\">'fast'</span><span style=\"color: #008080; text-decoration-color: #008080\">: </span><span style=\"color: #008080; text-decoration-color: #008080; font-weight: bold\">12</span><span style=\"color: #008080; text-decoration-color: #008080\">, </span><span style=\"color: #008080; text-decoration-color: #008080\">'slow'</span><span style=\"color: #008080; text-decoration-color: #008080\">: </span><span style=\"color: #008080; text-decoration-color: #008080; font-weight: bold\">26</span><span style=\"color: #008080; text-decoration-color: #008080\">, </span><span style=\"color: #008080; text-decoration-color: #008080\">'signal'</span><span style=\"color: #008080; text-decoration-color: #008080\">: </span><span style=\"color: #008080; text-decoration-color: #008080; font-weight: bold\">9</span><span style=\"color: #008080; text-decoration-color: #008080; font-weight: bold\">}</span>\n",
       "</pre>\n"
      ],
      "text/plain": [
       "\u001b[36mApplying MACD with params: \u001b[0m\u001b[1;36m{\u001b[0m\u001b[36m'fast'\u001b[0m\u001b[36m: \u001b[0m\u001b[1;36m12\u001b[0m\u001b[36m, \u001b[0m\u001b[36m'slow'\u001b[0m\u001b[36m: \u001b[0m\u001b[1;36m26\u001b[0m\u001b[36m, \u001b[0m\u001b[36m'signal'\u001b[0m\u001b[36m: \u001b[0m\u001b[1;36m9\u001b[0m\u001b[1;36m}\u001b[0m\n"
      ]
     },
     "metadata": {},
     "output_type": "display_data"
    },
    {
     "data": {
      "text/html": [
       "<pre style=\"white-space:pre;overflow-x:auto;line-height:normal;font-family:Menlo,'DejaVu Sans Mono',consolas,'Courier New',monospace\"><span style=\"color: #008080; text-decoration-color: #008080\">Applying MACD with params: </span><span style=\"color: #008080; text-decoration-color: #008080; font-weight: bold\">{</span><span style=\"color: #008080; text-decoration-color: #008080\">'fast'</span><span style=\"color: #008080; text-decoration-color: #008080\">: </span><span style=\"color: #008080; text-decoration-color: #008080; font-weight: bold\">5</span><span style=\"color: #008080; text-decoration-color: #008080\">, </span><span style=\"color: #008080; text-decoration-color: #008080\">'slow'</span><span style=\"color: #008080; text-decoration-color: #008080\">: </span><span style=\"color: #008080; text-decoration-color: #008080; font-weight: bold\">35</span><span style=\"color: #008080; text-decoration-color: #008080\">, </span><span style=\"color: #008080; text-decoration-color: #008080\">'signal'</span><span style=\"color: #008080; text-decoration-color: #008080\">: </span><span style=\"color: #008080; text-decoration-color: #008080; font-weight: bold\">5</span><span style=\"color: #008080; text-decoration-color: #008080; font-weight: bold\">}</span>\n",
       "</pre>\n"
      ],
      "text/plain": [
       "\u001b[36mApplying MACD with params: \u001b[0m\u001b[1;36m{\u001b[0m\u001b[36m'fast'\u001b[0m\u001b[36m: \u001b[0m\u001b[1;36m5\u001b[0m\u001b[36m, \u001b[0m\u001b[36m'slow'\u001b[0m\u001b[36m: \u001b[0m\u001b[1;36m35\u001b[0m\u001b[36m, \u001b[0m\u001b[36m'signal'\u001b[0m\u001b[36m: \u001b[0m\u001b[1;36m5\u001b[0m\u001b[1;36m}\u001b[0m\n"
      ]
     },
     "metadata": {},
     "output_type": "display_data"
    },
    {
     "data": {
      "text/html": [
       "<pre style=\"white-space:pre;overflow-x:auto;line-height:normal;font-family:Menlo,'DejaVu Sans Mono',consolas,'Courier New',monospace\"><span style=\"color: #008080; text-decoration-color: #008080\">Applying MACD with params: </span><span style=\"color: #008080; text-decoration-color: #008080; font-weight: bold\">{</span><span style=\"color: #008080; text-decoration-color: #008080\">'fast'</span><span style=\"color: #008080; text-decoration-color: #008080\">: </span><span style=\"color: #008080; text-decoration-color: #008080; font-weight: bold\">8</span><span style=\"color: #008080; text-decoration-color: #008080\">, </span><span style=\"color: #008080; text-decoration-color: #008080\">'slow'</span><span style=\"color: #008080; text-decoration-color: #008080\">: </span><span style=\"color: #008080; text-decoration-color: #008080; font-weight: bold\">21</span><span style=\"color: #008080; text-decoration-color: #008080\">, </span><span style=\"color: #008080; text-decoration-color: #008080\">'signal'</span><span style=\"color: #008080; text-decoration-color: #008080\">: </span><span style=\"color: #008080; text-decoration-color: #008080; font-weight: bold\">5</span><span style=\"color: #008080; text-decoration-color: #008080; font-weight: bold\">}</span>\n",
       "</pre>\n"
      ],
      "text/plain": [
       "\u001b[36mApplying MACD with params: \u001b[0m\u001b[1;36m{\u001b[0m\u001b[36m'fast'\u001b[0m\u001b[36m: \u001b[0m\u001b[1;36m8\u001b[0m\u001b[36m, \u001b[0m\u001b[36m'slow'\u001b[0m\u001b[36m: \u001b[0m\u001b[1;36m21\u001b[0m\u001b[36m, \u001b[0m\u001b[36m'signal'\u001b[0m\u001b[36m: \u001b[0m\u001b[1;36m5\u001b[0m\u001b[1;36m}\u001b[0m\n"
      ]
     },
     "metadata": {},
     "output_type": "display_data"
    },
    {
     "data": {
      "text/html": [
       "<pre style=\"white-space:pre;overflow-x:auto;line-height:normal;font-family:Menlo,'DejaVu Sans Mono',consolas,'Courier New',monospace\"><span style=\"color: #008080; text-decoration-color: #008080\">Applying MACD with params: </span><span style=\"color: #008080; text-decoration-color: #008080; font-weight: bold\">{</span><span style=\"color: #008080; text-decoration-color: #008080\">'fast'</span><span style=\"color: #008080; text-decoration-color: #008080\">: </span><span style=\"color: #008080; text-decoration-color: #008080; font-weight: bold\">19</span><span style=\"color: #008080; text-decoration-color: #008080\">, </span><span style=\"color: #008080; text-decoration-color: #008080\">'slow'</span><span style=\"color: #008080; text-decoration-color: #008080\">: </span><span style=\"color: #008080; text-decoration-color: #008080; font-weight: bold\">39</span><span style=\"color: #008080; text-decoration-color: #008080\">, </span><span style=\"color: #008080; text-decoration-color: #008080\">'signal'</span><span style=\"color: #008080; text-decoration-color: #008080\">: </span><span style=\"color: #008080; text-decoration-color: #008080; font-weight: bold\">9</span><span style=\"color: #008080; text-decoration-color: #008080; font-weight: bold\">}</span>\n",
       "</pre>\n"
      ],
      "text/plain": [
       "\u001b[36mApplying MACD with params: \u001b[0m\u001b[1;36m{\u001b[0m\u001b[36m'fast'\u001b[0m\u001b[36m: \u001b[0m\u001b[1;36m19\u001b[0m\u001b[36m, \u001b[0m\u001b[36m'slow'\u001b[0m\u001b[36m: \u001b[0m\u001b[1;36m39\u001b[0m\u001b[36m, \u001b[0m\u001b[36m'signal'\u001b[0m\u001b[36m: \u001b[0m\u001b[1;36m9\u001b[0m\u001b[1;36m}\u001b[0m\n"
      ]
     },
     "metadata": {},
     "output_type": "display_data"
    },
    {
     "data": {
      "text/html": [
       "<pre style=\"white-space:pre;overflow-x:auto;line-height:normal;font-family:Menlo,'DejaVu Sans Mono',consolas,'Courier New',monospace\"><span style=\"color: #008080; text-decoration-color: #008080\">Applying ATR with params: </span><span style=\"color: #008080; text-decoration-color: #008080; font-weight: bold\">{</span><span style=\"color: #008080; text-decoration-color: #008080\">'window'</span><span style=\"color: #008080; text-decoration-color: #008080\">: </span><span style=\"color: #008080; text-decoration-color: #008080; font-weight: bold\">7</span><span style=\"color: #008080; text-decoration-color: #008080; font-weight: bold\">}</span>\n",
       "</pre>\n"
      ],
      "text/plain": [
       "\u001b[36mApplying ATR with params: \u001b[0m\u001b[1;36m{\u001b[0m\u001b[36m'window'\u001b[0m\u001b[36m: \u001b[0m\u001b[1;36m7\u001b[0m\u001b[1;36m}\u001b[0m\n"
      ]
     },
     "metadata": {},
     "output_type": "display_data"
    },
    {
     "data": {
      "text/html": [
       "<pre style=\"white-space:pre;overflow-x:auto;line-height:normal;font-family:Menlo,'DejaVu Sans Mono',consolas,'Courier New',monospace\"><span style=\"color: #008080; text-decoration-color: #008080\">Applying ATR with params: </span><span style=\"color: #008080; text-decoration-color: #008080; font-weight: bold\">{</span><span style=\"color: #008080; text-decoration-color: #008080\">'window'</span><span style=\"color: #008080; text-decoration-color: #008080\">: </span><span style=\"color: #008080; text-decoration-color: #008080; font-weight: bold\">14</span><span style=\"color: #008080; text-decoration-color: #008080; font-weight: bold\">}</span>\n",
       "</pre>\n"
      ],
      "text/plain": [
       "\u001b[36mApplying ATR with params: \u001b[0m\u001b[1;36m{\u001b[0m\u001b[36m'window'\u001b[0m\u001b[36m: \u001b[0m\u001b[1;36m14\u001b[0m\u001b[1;36m}\u001b[0m\n"
      ]
     },
     "metadata": {},
     "output_type": "display_data"
    },
    {
     "data": {
      "text/html": [
       "<pre style=\"white-space:pre;overflow-x:auto;line-height:normal;font-family:Menlo,'DejaVu Sans Mono',consolas,'Courier New',monospace\"><span style=\"color: #008080; text-decoration-color: #008080\">Applying ATR with params: </span><span style=\"color: #008080; text-decoration-color: #008080; font-weight: bold\">{</span><span style=\"color: #008080; text-decoration-color: #008080\">'window'</span><span style=\"color: #008080; text-decoration-color: #008080\">: </span><span style=\"color: #008080; text-decoration-color: #008080; font-weight: bold\">21</span><span style=\"color: #008080; text-decoration-color: #008080; font-weight: bold\">}</span>\n",
       "</pre>\n"
      ],
      "text/plain": [
       "\u001b[36mApplying ATR with params: \u001b[0m\u001b[1;36m{\u001b[0m\u001b[36m'window'\u001b[0m\u001b[36m: \u001b[0m\u001b[1;36m21\u001b[0m\u001b[1;36m}\u001b[0m\n"
      ]
     },
     "metadata": {},
     "output_type": "display_data"
    },
    {
     "data": {
      "text/html": [
       "<pre style=\"white-space:pre;overflow-x:auto;line-height:normal;font-family:Menlo,'DejaVu Sans Mono',consolas,'Courier New',monospace\"><span style=\"color: #008080; text-decoration-color: #008080\">Applying ATR with params: </span><span style=\"color: #008080; text-decoration-color: #008080; font-weight: bold\">{</span><span style=\"color: #008080; text-decoration-color: #008080\">'window'</span><span style=\"color: #008080; text-decoration-color: #008080\">: </span><span style=\"color: #008080; text-decoration-color: #008080; font-weight: bold\">28</span><span style=\"color: #008080; text-decoration-color: #008080; font-weight: bold\">}</span>\n",
       "</pre>\n"
      ],
      "text/plain": [
       "\u001b[36mApplying ATR with params: \u001b[0m\u001b[1;36m{\u001b[0m\u001b[36m'window'\u001b[0m\u001b[36m: \u001b[0m\u001b[1;36m28\u001b[0m\u001b[1;36m}\u001b[0m\n"
      ]
     },
     "metadata": {},
     "output_type": "display_data"
    },
    {
     "data": {
      "text/html": [
       "<pre style=\"white-space:pre;overflow-x:auto;line-height:normal;font-family:Menlo,'DejaVu Sans Mono',consolas,'Courier New',monospace\"><span style=\"color: #008080; text-decoration-color: #008080\">Applying BB with params: </span><span style=\"color: #008080; text-decoration-color: #008080; font-weight: bold\">{</span><span style=\"color: #008080; text-decoration-color: #008080\">'window'</span><span style=\"color: #008080; text-decoration-color: #008080\">: </span><span style=\"color: #008080; text-decoration-color: #008080; font-weight: bold\">10</span><span style=\"color: #008080; text-decoration-color: #008080\">, </span><span style=\"color: #008080; text-decoration-color: #008080\">'num_std'</span><span style=\"color: #008080; text-decoration-color: #008080\">: </span><span style=\"color: #008080; text-decoration-color: #008080; font-weight: bold\">2.0</span><span style=\"color: #008080; text-decoration-color: #008080; font-weight: bold\">}</span>\n",
       "</pre>\n"
      ],
      "text/plain": [
       "\u001b[36mApplying BB with params: \u001b[0m\u001b[1;36m{\u001b[0m\u001b[36m'window'\u001b[0m\u001b[36m: \u001b[0m\u001b[1;36m10\u001b[0m\u001b[36m, \u001b[0m\u001b[36m'num_std'\u001b[0m\u001b[36m: \u001b[0m\u001b[1;36m2.0\u001b[0m\u001b[1;36m}\u001b[0m\n"
      ]
     },
     "metadata": {},
     "output_type": "display_data"
    },
    {
     "data": {
      "text/html": [
       "<pre style=\"white-space:pre;overflow-x:auto;line-height:normal;font-family:Menlo,'DejaVu Sans Mono',consolas,'Courier New',monospace\"><span style=\"color: #008080; text-decoration-color: #008080\">Applying BB with params: </span><span style=\"color: #008080; text-decoration-color: #008080; font-weight: bold\">{</span><span style=\"color: #008080; text-decoration-color: #008080\">'window'</span><span style=\"color: #008080; text-decoration-color: #008080\">: </span><span style=\"color: #008080; text-decoration-color: #008080; font-weight: bold\">20</span><span style=\"color: #008080; text-decoration-color: #008080\">, </span><span style=\"color: #008080; text-decoration-color: #008080\">'num_std'</span><span style=\"color: #008080; text-decoration-color: #008080\">: </span><span style=\"color: #008080; text-decoration-color: #008080; font-weight: bold\">2.0</span><span style=\"color: #008080; text-decoration-color: #008080; font-weight: bold\">}</span>\n",
       "</pre>\n"
      ],
      "text/plain": [
       "\u001b[36mApplying BB with params: \u001b[0m\u001b[1;36m{\u001b[0m\u001b[36m'window'\u001b[0m\u001b[36m: \u001b[0m\u001b[1;36m20\u001b[0m\u001b[36m, \u001b[0m\u001b[36m'num_std'\u001b[0m\u001b[36m: \u001b[0m\u001b[1;36m2.0\u001b[0m\u001b[1;36m}\u001b[0m\n"
      ]
     },
     "metadata": {},
     "output_type": "display_data"
    },
    {
     "data": {
      "text/html": [
       "<pre style=\"white-space:pre;overflow-x:auto;line-height:normal;font-family:Menlo,'DejaVu Sans Mono',consolas,'Courier New',monospace\"><span style=\"color: #008080; text-decoration-color: #008080\">Applying BB with params: </span><span style=\"color: #008080; text-decoration-color: #008080; font-weight: bold\">{</span><span style=\"color: #008080; text-decoration-color: #008080\">'window'</span><span style=\"color: #008080; text-decoration-color: #008080\">: </span><span style=\"color: #008080; text-decoration-color: #008080; font-weight: bold\">20</span><span style=\"color: #008080; text-decoration-color: #008080\">, </span><span style=\"color: #008080; text-decoration-color: #008080\">'num_std'</span><span style=\"color: #008080; text-decoration-color: #008080\">: </span><span style=\"color: #008080; text-decoration-color: #008080; font-weight: bold\">2.5</span><span style=\"color: #008080; text-decoration-color: #008080; font-weight: bold\">}</span>\n",
       "</pre>\n"
      ],
      "text/plain": [
       "\u001b[36mApplying BB with params: \u001b[0m\u001b[1;36m{\u001b[0m\u001b[36m'window'\u001b[0m\u001b[36m: \u001b[0m\u001b[1;36m20\u001b[0m\u001b[36m, \u001b[0m\u001b[36m'num_std'\u001b[0m\u001b[36m: \u001b[0m\u001b[1;36m2.5\u001b[0m\u001b[1;36m}\u001b[0m\n"
      ]
     },
     "metadata": {},
     "output_type": "display_data"
    },
    {
     "data": {
      "text/html": [
       "<pre style=\"white-space:pre;overflow-x:auto;line-height:normal;font-family:Menlo,'DejaVu Sans Mono',consolas,'Courier New',monospace\"><span style=\"color: #008080; text-decoration-color: #008080\">Applying BB with params: </span><span style=\"color: #008080; text-decoration-color: #008080; font-weight: bold\">{</span><span style=\"color: #008080; text-decoration-color: #008080\">'window'</span><span style=\"color: #008080; text-decoration-color: #008080\">: </span><span style=\"color: #008080; text-decoration-color: #008080; font-weight: bold\">50</span><span style=\"color: #008080; text-decoration-color: #008080\">, </span><span style=\"color: #008080; text-decoration-color: #008080\">'num_std'</span><span style=\"color: #008080; text-decoration-color: #008080\">: </span><span style=\"color: #008080; text-decoration-color: #008080; font-weight: bold\">2.0</span><span style=\"color: #008080; text-decoration-color: #008080; font-weight: bold\">}</span>\n",
       "</pre>\n"
      ],
      "text/plain": [
       "\u001b[36mApplying BB with params: \u001b[0m\u001b[1;36m{\u001b[0m\u001b[36m'window'\u001b[0m\u001b[36m: \u001b[0m\u001b[1;36m50\u001b[0m\u001b[36m, \u001b[0m\u001b[36m'num_std'\u001b[0m\u001b[36m: \u001b[0m\u001b[1;36m2.0\u001b[0m\u001b[1;36m}\u001b[0m\n"
      ]
     },
     "metadata": {},
     "output_type": "display_data"
    },
    {
     "data": {
      "text/html": [
       "<pre style=\"white-space:pre;overflow-x:auto;line-height:normal;font-family:Menlo,'DejaVu Sans Mono',consolas,'Courier New',monospace\"><span style=\"color: #008080; text-decoration-color: #008080\">Applying STOCH with params: </span><span style=\"color: #008080; text-decoration-color: #008080; font-weight: bold\">{</span><span style=\"color: #008080; text-decoration-color: #008080\">'k_window'</span><span style=\"color: #008080; text-decoration-color: #008080\">: </span><span style=\"color: #008080; text-decoration-color: #008080; font-weight: bold\">14</span><span style=\"color: #008080; text-decoration-color: #008080\">, </span><span style=\"color: #008080; text-decoration-color: #008080\">'d_window'</span><span style=\"color: #008080; text-decoration-color: #008080\">: </span><span style=\"color: #008080; text-decoration-color: #008080; font-weight: bold\">3</span><span style=\"color: #008080; text-decoration-color: #008080\">, </span><span style=\"color: #008080; text-decoration-color: #008080\">'smooth_k'</span><span style=\"color: #008080; text-decoration-color: #008080\">: </span><span style=\"color: #008080; text-decoration-color: #008080; font-weight: bold\">1</span><span style=\"color: #008080; text-decoration-color: #008080; font-weight: bold\">}</span>\n",
       "</pre>\n"
      ],
      "text/plain": [
       "\u001b[36mApplying STOCH with params: \u001b[0m\u001b[1;36m{\u001b[0m\u001b[36m'k_window'\u001b[0m\u001b[36m: \u001b[0m\u001b[1;36m14\u001b[0m\u001b[36m, \u001b[0m\u001b[36m'd_window'\u001b[0m\u001b[36m: \u001b[0m\u001b[1;36m3\u001b[0m\u001b[36m, \u001b[0m\u001b[36m'smooth_k'\u001b[0m\u001b[36m: \u001b[0m\u001b[1;36m1\u001b[0m\u001b[1;36m}\u001b[0m\n"
      ]
     },
     "metadata": {},
     "output_type": "display_data"
    },
    {
     "data": {
      "text/html": [
       "<pre style=\"white-space:pre;overflow-x:auto;line-height:normal;font-family:Menlo,'DejaVu Sans Mono',consolas,'Courier New',monospace\"><span style=\"color: #008080; text-decoration-color: #008080\">Applying STOCH with params: </span><span style=\"color: #008080; text-decoration-color: #008080; font-weight: bold\">{</span><span style=\"color: #008080; text-decoration-color: #008080\">'k_window'</span><span style=\"color: #008080; text-decoration-color: #008080\">: </span><span style=\"color: #008080; text-decoration-color: #008080; font-weight: bold\">14</span><span style=\"color: #008080; text-decoration-color: #008080\">, </span><span style=\"color: #008080; text-decoration-color: #008080\">'d_window'</span><span style=\"color: #008080; text-decoration-color: #008080\">: </span><span style=\"color: #008080; text-decoration-color: #008080; font-weight: bold\">3</span><span style=\"color: #008080; text-decoration-color: #008080\">, </span><span style=\"color: #008080; text-decoration-color: #008080\">'smooth_k'</span><span style=\"color: #008080; text-decoration-color: #008080\">: </span><span style=\"color: #008080; text-decoration-color: #008080; font-weight: bold\">3</span><span style=\"color: #008080; text-decoration-color: #008080; font-weight: bold\">}</span>\n",
       "</pre>\n"
      ],
      "text/plain": [
       "\u001b[36mApplying STOCH with params: \u001b[0m\u001b[1;36m{\u001b[0m\u001b[36m'k_window'\u001b[0m\u001b[36m: \u001b[0m\u001b[1;36m14\u001b[0m\u001b[36m, \u001b[0m\u001b[36m'd_window'\u001b[0m\u001b[36m: \u001b[0m\u001b[1;36m3\u001b[0m\u001b[36m, \u001b[0m\u001b[36m'smooth_k'\u001b[0m\u001b[36m: \u001b[0m\u001b[1;36m3\u001b[0m\u001b[1;36m}\u001b[0m\n"
      ]
     },
     "metadata": {},
     "output_type": "display_data"
    },
    {
     "data": {
      "text/html": [
       "<pre style=\"white-space:pre;overflow-x:auto;line-height:normal;font-family:Menlo,'DejaVu Sans Mono',consolas,'Courier New',monospace\"><span style=\"color: #008080; text-decoration-color: #008080\">Applying STOCH with params: </span><span style=\"color: #008080; text-decoration-color: #008080; font-weight: bold\">{</span><span style=\"color: #008080; text-decoration-color: #008080\">'k_window'</span><span style=\"color: #008080; text-decoration-color: #008080\">: </span><span style=\"color: #008080; text-decoration-color: #008080; font-weight: bold\">21</span><span style=\"color: #008080; text-decoration-color: #008080\">, </span><span style=\"color: #008080; text-decoration-color: #008080\">'d_window'</span><span style=\"color: #008080; text-decoration-color: #008080\">: </span><span style=\"color: #008080; text-decoration-color: #008080; font-weight: bold\">5</span><span style=\"color: #008080; text-decoration-color: #008080\">, </span><span style=\"color: #008080; text-decoration-color: #008080\">'smooth_k'</span><span style=\"color: #008080; text-decoration-color: #008080\">: </span><span style=\"color: #008080; text-decoration-color: #008080; font-weight: bold\">3</span><span style=\"color: #008080; text-decoration-color: #008080; font-weight: bold\">}</span>\n",
       "</pre>\n"
      ],
      "text/plain": [
       "\u001b[36mApplying STOCH with params: \u001b[0m\u001b[1;36m{\u001b[0m\u001b[36m'k_window'\u001b[0m\u001b[36m: \u001b[0m\u001b[1;36m21\u001b[0m\u001b[36m, \u001b[0m\u001b[36m'd_window'\u001b[0m\u001b[36m: \u001b[0m\u001b[1;36m5\u001b[0m\u001b[36m, \u001b[0m\u001b[36m'smooth_k'\u001b[0m\u001b[36m: \u001b[0m\u001b[1;36m3\u001b[0m\u001b[1;36m}\u001b[0m\n"
      ]
     },
     "metadata": {},
     "output_type": "display_data"
    },
    {
     "data": {
      "text/html": [
       "<pre style=\"white-space:pre;overflow-x:auto;line-height:normal;font-family:Menlo,'DejaVu Sans Mono',consolas,'Courier New',monospace\"><span style=\"color: #008080; text-decoration-color: #008080\">Applying OBV with params: </span><span style=\"color: #008080; text-decoration-color: #008080; font-weight: bold\">{}</span>\n",
       "</pre>\n"
      ],
      "text/plain": [
       "\u001b[36mApplying OBV with params: \u001b[0m\u001b[1;36m{\u001b[0m\u001b[1;36m}\u001b[0m\n"
      ]
     },
     "metadata": {},
     "output_type": "display_data"
    },
    {
     "data": {
      "text/html": [
       "<pre style=\"white-space:pre;overflow-x:auto;line-height:normal;font-family:Menlo,'DejaVu Sans Mono',consolas,'Courier New',monospace\"><span style=\"color: #008080; text-decoration-color: #008080\">Calculating sentiment scores using HF model...</span>\n",
       "</pre>\n"
      ],
      "text/plain": [
       "\u001b[36mCalculating sentiment scores using HF model\u001b[0m\u001b[36m...\u001b[0m\n"
      ]
     },
     "metadata": {},
     "output_type": "display_data"
    },
    {
     "name": "stderr",
     "output_type": "stream",
     "text": [
      "Device set to use cpu\n"
     ]
    },
    {
     "data": {
      "text/html": [
       "<pre style=\"white-space:pre;overflow-x:auto;line-height:normal;font-family:Menlo,'DejaVu Sans Mono',consolas,'Courier New',monospace\"><span style=\"color: #008000; text-decoration-color: #008000\">✓ Sentiment analysis pipeline initialized with model: ProsusAI/finbert</span>\n",
       "</pre>\n"
      ],
      "text/plain": [
       "\u001b[32m✓ Sentiment analysis pipeline initialized with model: ProsusAI/finbert\u001b[0m\n"
      ]
     },
     "metadata": {},
     "output_type": "display_data"
    }
   ],
   "source": [
    "processed_data = data_processor.data_processing_pipeline(\n",
    "    indicators=indicators,\n",
    "    fillna_strategy=\"neutral\" # for missing sentiment for the data, fill with neutral value (0)\n",
    ")"
   ]
  },
  {
   "cell_type": "code",
   "execution_count": 11,
   "id": "8e606928",
   "metadata": {},
   "outputs": [
    {
     "data": {
      "text/html": [
       "<div>\n",
       "<style scoped>\n",
       "    .dataframe tbody tr th:only-of-type {\n",
       "        vertical-align: middle;\n",
       "    }\n",
       "\n",
       "    .dataframe tbody tr th {\n",
       "        vertical-align: top;\n",
       "    }\n",
       "\n",
       "    .dataframe thead th {\n",
       "        text-align: right;\n",
       "    }\n",
       "</style>\n",
       "<table border=\"1\" class=\"dataframe\">\n",
       "  <thead>\n",
       "    <tr style=\"text-align: right;\">\n",
       "      <th></th>\n",
       "      <th>Open</th>\n",
       "      <th>High</th>\n",
       "      <th>Low</th>\n",
       "      <th>Close</th>\n",
       "      <th>Volume</th>\n",
       "      <th>Trade_count</th>\n",
       "      <th>VWAP</th>\n",
       "      <th>SMA_5</th>\n",
       "      <th>SMA_10</th>\n",
       "      <th>SMA_20</th>\n",
       "      <th>SMA_50</th>\n",
       "      <th>EMA_5</th>\n",
       "      <th>EMA_10</th>\n",
       "      <th>EMA_20</th>\n",
       "      <th>EMA_50</th>\n",
       "      <th>RSI_7</th>\n",
       "      <th>RSI_14</th>\n",
       "      <th>RSI_21</th>\n",
       "      <th>RSI_28</th>\n",
       "      <th>MACD_line_12_26</th>\n",
       "      <th>MACD_signal_9</th>\n",
       "      <th>MACD_line_5_35</th>\n",
       "      <th>MACD_signal_5</th>\n",
       "      <th>MACD_line_8_21</th>\n",
       "      <th>MACD_line_19_39</th>\n",
       "      <th>ATR_7</th>\n",
       "      <th>ATR_14</th>\n",
       "      <th>ATR_21</th>\n",
       "      <th>ATR_28</th>\n",
       "      <th>BB_middle_10</th>\n",
       "      <th>BB_upper_10_2.0</th>\n",
       "      <th>BB_lower_10_2.0</th>\n",
       "      <th>BB_bandwidth_10</th>\n",
       "      <th>BB_middle_20</th>\n",
       "      <th>BB_upper_20_2.0</th>\n",
       "      <th>BB_lower_20_2.0</th>\n",
       "      <th>BB_bandwidth_20</th>\n",
       "      <th>BB_upper_20_2.5</th>\n",
       "      <th>BB_lower_20_2.5</th>\n",
       "      <th>BB_middle_50</th>\n",
       "      <th>BB_upper_50_2.0</th>\n",
       "      <th>BB_lower_50_2.0</th>\n",
       "      <th>BB_bandwidth_50</th>\n",
       "      <th>STOCH_%K_14_1</th>\n",
       "      <th>STOCH_%D_3</th>\n",
       "      <th>STOCH_%K_14_3</th>\n",
       "      <th>STOCH_%K_21_3</th>\n",
       "      <th>STOCH_%D_5</th>\n",
       "      <th>OBV</th>\n",
       "      <th>sentiment_score</th>\n",
       "    </tr>\n",
       "  </thead>\n",
       "  <tbody>\n",
       "    <tr>\n",
       "      <th>0</th>\n",
       "      <td>53.33</td>\n",
       "      <td>54.270</td>\n",
       "      <td>52.880</td>\n",
       "      <td>54.13</td>\n",
       "      <td>16450150.0</td>\n",
       "      <td>148058.0</td>\n",
       "      <td>53.658406</td>\n",
       "      <td>54.566</td>\n",
       "      <td>55.532</td>\n",
       "      <td>57.0395</td>\n",
       "      <td>58.3376</td>\n",
       "      <td>54.637723</td>\n",
       "      <td>55.451931</td>\n",
       "      <td>56.611859</td>\n",
       "      <td>56.820710</td>\n",
       "      <td>29.686963</td>\n",
       "      <td>38.391911</td>\n",
       "      <td>45.890576</td>\n",
       "      <td>50.268689</td>\n",
       "      <td>-1.204459</td>\n",
       "      <td>-0.005189</td>\n",
       "      <td>-2.446257</td>\n",
       "      <td>-1.389417</td>\n",
       "      <td>-1.546069</td>\n",
       "      <td>-0.523198</td>\n",
       "      <td>1.804313</td>\n",
       "      <td>1.887277</td>\n",
       "      <td>1.935478</td>\n",
       "      <td>1.971536</td>\n",
       "      <td>55.532</td>\n",
       "      <td>57.887359</td>\n",
       "      <td>53.176641</td>\n",
       "      <td>0.084829</td>\n",
       "      <td>57.0395</td>\n",
       "      <td>61.070509</td>\n",
       "      <td>53.008491</td>\n",
       "      <td>0.176676</td>\n",
       "      <td>62.078261</td>\n",
       "      <td>52.000739</td>\n",
       "      <td>58.3376</td>\n",
       "      <td>64.215068</td>\n",
       "      <td>52.460132</td>\n",
       "      <td>0.201498</td>\n",
       "      <td>20.147059</td>\n",
       "      <td>15.973301</td>\n",
       "      <td>19.356404</td>\n",
       "      <td>14.038764</td>\n",
       "      <td>13.301875</td>\n",
       "      <td>-55206082.0</td>\n",
       "      <td>0.928469</td>\n",
       "    </tr>\n",
       "    <tr>\n",
       "      <th>1</th>\n",
       "      <td>53.69</td>\n",
       "      <td>56.710</td>\n",
       "      <td>53.610</td>\n",
       "      <td>56.57</td>\n",
       "      <td>16594461.0</td>\n",
       "      <td>142413.0</td>\n",
       "      <td>55.712984</td>\n",
       "      <td>54.760</td>\n",
       "      <td>55.546</td>\n",
       "      <td>56.7760</td>\n",
       "      <td>58.4616</td>\n",
       "      <td>55.281816</td>\n",
       "      <td>55.655216</td>\n",
       "      <td>56.607873</td>\n",
       "      <td>56.810878</td>\n",
       "      <td>55.175868</td>\n",
       "      <td>49.592193</td>\n",
       "      <td>52.207407</td>\n",
       "      <td>54.469922</td>\n",
       "      <td>-1.049236</td>\n",
       "      <td>-0.103168</td>\n",
       "      <td>-1.773611</td>\n",
       "      <td>-1.332152</td>\n",
       "      <td>-1.217623</td>\n",
       "      <td>-0.495082</td>\n",
       "      <td>1.989411</td>\n",
       "      <td>1.973900</td>\n",
       "      <td>1.990931</td>\n",
       "      <td>2.011838</td>\n",
       "      <td>55.546</td>\n",
       "      <td>57.926611</td>\n",
       "      <td>53.165389</td>\n",
       "      <td>0.085717</td>\n",
       "      <td>56.7760</td>\n",
       "      <td>60.115394</td>\n",
       "      <td>53.436606</td>\n",
       "      <td>0.147043</td>\n",
       "      <td>60.950243</td>\n",
       "      <td>52.601757</td>\n",
       "      <td>58.4616</td>\n",
       "      <td>63.898020</td>\n",
       "      <td>53.025180</td>\n",
       "      <td>0.185983</td>\n",
       "      <td>56.029412</td>\n",
       "      <td>22.382453</td>\n",
       "      <td>32.594981</td>\n",
       "      <td>23.892044</td>\n",
       "      <td>14.691408</td>\n",
       "      <td>-38611621.0</td>\n",
       "      <td>0.494082</td>\n",
       "    </tr>\n",
       "    <tr>\n",
       "      <th>2</th>\n",
       "      <td>56.80</td>\n",
       "      <td>57.720</td>\n",
       "      <td>56.215</td>\n",
       "      <td>56.66</td>\n",
       "      <td>35727014.0</td>\n",
       "      <td>160291.0</td>\n",
       "      <td>56.752924</td>\n",
       "      <td>55.106</td>\n",
       "      <td>55.534</td>\n",
       "      <td>56.6065</td>\n",
       "      <td>58.5108</td>\n",
       "      <td>55.741210</td>\n",
       "      <td>55.837904</td>\n",
       "      <td>56.612837</td>\n",
       "      <td>56.804961</td>\n",
       "      <td>55.864368</td>\n",
       "      <td>49.953604</td>\n",
       "      <td>52.422521</td>\n",
       "      <td>54.616575</td>\n",
       "      <td>-0.908485</td>\n",
       "      <td>-0.175348</td>\n",
       "      <td>-1.292248</td>\n",
       "      <td>-1.204425</td>\n",
       "      <td>-0.948971</td>\n",
       "      <td>-0.464068</td>\n",
       "      <td>1.920210</td>\n",
       "      <td>1.940407</td>\n",
       "      <td>1.967792</td>\n",
       "      <td>1.993737</td>\n",
       "      <td>55.534</td>\n",
       "      <td>57.888026</td>\n",
       "      <td>53.179974</td>\n",
       "      <td>0.084778</td>\n",
       "      <td>56.6065</td>\n",
       "      <td>59.569061</td>\n",
       "      <td>53.643939</td>\n",
       "      <td>0.130840</td>\n",
       "      <td>60.309702</td>\n",
       "      <td>52.903298</td>\n",
       "      <td>58.5108</td>\n",
       "      <td>63.833130</td>\n",
       "      <td>53.188470</td>\n",
       "      <td>0.181926</td>\n",
       "      <td>65.271967</td>\n",
       "      <td>33.033621</td>\n",
       "      <td>47.149479</td>\n",
       "      <td>33.752654</td>\n",
       "      <td>18.440677</td>\n",
       "      <td>-2884607.0</td>\n",
       "      <td>0.861282</td>\n",
       "    </tr>\n",
       "    <tr>\n",
       "      <th>3</th>\n",
       "      <td>56.70</td>\n",
       "      <td>57.865</td>\n",
       "      <td>56.080</td>\n",
       "      <td>57.64</td>\n",
       "      <td>11888401.0</td>\n",
       "      <td>86738.0</td>\n",
       "      <td>57.166535</td>\n",
       "      <td>55.854</td>\n",
       "      <td>55.615</td>\n",
       "      <td>56.5380</td>\n",
       "      <td>58.5694</td>\n",
       "      <td>56.374140</td>\n",
       "      <td>56.165558</td>\n",
       "      <td>56.710662</td>\n",
       "      <td>56.837708</td>\n",
       "      <td>63.070414</td>\n",
       "      <td>53.834973</td>\n",
       "      <td>54.751095</td>\n",
       "      <td>56.209341</td>\n",
       "      <td>-0.709680</td>\n",
       "      <td>-0.217524</td>\n",
       "      <td>-0.693015</td>\n",
       "      <td>-1.006669</td>\n",
       "      <td>-0.611158</td>\n",
       "      <td>-0.386230</td>\n",
       "      <td>1.900894</td>\n",
       "      <td>1.929306</td>\n",
       "      <td>1.959087</td>\n",
       "      <td>1.986282</td>\n",
       "      <td>55.615</td>\n",
       "      <td>58.210573</td>\n",
       "      <td>53.019427</td>\n",
       "      <td>0.093341</td>\n",
       "      <td>56.5380</td>\n",
       "      <td>59.324702</td>\n",
       "      <td>53.751298</td>\n",
       "      <td>0.123223</td>\n",
       "      <td>60.021378</td>\n",
       "      <td>53.054622</td>\n",
       "      <td>58.5694</td>\n",
       "      <td>63.784360</td>\n",
       "      <td>53.354440</td>\n",
       "      <td>0.178078</td>\n",
       "      <td>82.879027</td>\n",
       "      <td>49.268198</td>\n",
       "      <td>68.060135</td>\n",
       "      <td>50.896941</td>\n",
       "      <td>26.709942</td>\n",
       "      <td>9003794.0</td>\n",
       "      <td>0.000000</td>\n",
       "    </tr>\n",
       "    <tr>\n",
       "      <th>4</th>\n",
       "      <td>58.38</td>\n",
       "      <td>59.520</td>\n",
       "      <td>57.595</td>\n",
       "      <td>58.63</td>\n",
       "      <td>16093704.0</td>\n",
       "      <td>131385.0</td>\n",
       "      <td>58.541587</td>\n",
       "      <td>56.726</td>\n",
       "      <td>55.922</td>\n",
       "      <td>56.5895</td>\n",
       "      <td>58.6066</td>\n",
       "      <td>57.126094</td>\n",
       "      <td>56.613638</td>\n",
       "      <td>56.893456</td>\n",
       "      <td>56.907994</td>\n",
       "      <td>69.029870</td>\n",
       "      <td>57.427004</td>\n",
       "      <td>56.984229</td>\n",
       "      <td>57.762294</td>\n",
       "      <td>-0.466860</td>\n",
       "      <td>-0.227669</td>\n",
       "      <td>-0.027886</td>\n",
       "      <td>-0.747764</td>\n",
       "      <td>-0.229953</td>\n",
       "      <td>-0.268248</td>\n",
       "      <td>1.904338</td>\n",
       "      <td>1.928999</td>\n",
       "      <td>1.957464</td>\n",
       "      <td>1.984094</td>\n",
       "      <td>55.922</td>\n",
       "      <td>59.140209</td>\n",
       "      <td>52.703791</td>\n",
       "      <td>0.115096</td>\n",
       "      <td>56.5895</td>\n",
       "      <td>59.494403</td>\n",
       "      <td>53.684597</td>\n",
       "      <td>0.128332</td>\n",
       "      <td>60.220629</td>\n",
       "      <td>52.958371</td>\n",
       "      <td>58.6066</td>\n",
       "      <td>63.795641</td>\n",
       "      <td>53.417559</td>\n",
       "      <td>0.177080</td>\n",
       "      <td>86.834320</td>\n",
       "      <td>64.512684</td>\n",
       "      <td>78.328438</td>\n",
       "      <td>65.062900</td>\n",
       "      <td>37.528661</td>\n",
       "      <td>25097498.0</td>\n",
       "      <td>0.700520</td>\n",
       "    </tr>\n",
       "  </tbody>\n",
       "</table>\n",
       "</div>"
      ],
      "text/plain": [
       "    Open    High     Low  Close      Volume  Trade_count       VWAP   SMA_5  \\\n",
       "0  53.33  54.270  52.880  54.13  16450150.0     148058.0  53.658406  54.566   \n",
       "1  53.69  56.710  53.610  56.57  16594461.0     142413.0  55.712984  54.760   \n",
       "2  56.80  57.720  56.215  56.66  35727014.0     160291.0  56.752924  55.106   \n",
       "3  56.70  57.865  56.080  57.64  11888401.0      86738.0  57.166535  55.854   \n",
       "4  58.38  59.520  57.595  58.63  16093704.0     131385.0  58.541587  56.726   \n",
       "\n",
       "   SMA_10   SMA_20   SMA_50      EMA_5     EMA_10     EMA_20     EMA_50  \\\n",
       "0  55.532  57.0395  58.3376  54.637723  55.451931  56.611859  56.820710   \n",
       "1  55.546  56.7760  58.4616  55.281816  55.655216  56.607873  56.810878   \n",
       "2  55.534  56.6065  58.5108  55.741210  55.837904  56.612837  56.804961   \n",
       "3  55.615  56.5380  58.5694  56.374140  56.165558  56.710662  56.837708   \n",
       "4  55.922  56.5895  58.6066  57.126094  56.613638  56.893456  56.907994   \n",
       "\n",
       "       RSI_7     RSI_14     RSI_21     RSI_28  MACD_line_12_26  MACD_signal_9  \\\n",
       "0  29.686963  38.391911  45.890576  50.268689        -1.204459      -0.005189   \n",
       "1  55.175868  49.592193  52.207407  54.469922        -1.049236      -0.103168   \n",
       "2  55.864368  49.953604  52.422521  54.616575        -0.908485      -0.175348   \n",
       "3  63.070414  53.834973  54.751095  56.209341        -0.709680      -0.217524   \n",
       "4  69.029870  57.427004  56.984229  57.762294        -0.466860      -0.227669   \n",
       "\n",
       "   MACD_line_5_35  MACD_signal_5  MACD_line_8_21  MACD_line_19_39     ATR_7  \\\n",
       "0       -2.446257      -1.389417       -1.546069        -0.523198  1.804313   \n",
       "1       -1.773611      -1.332152       -1.217623        -0.495082  1.989411   \n",
       "2       -1.292248      -1.204425       -0.948971        -0.464068  1.920210   \n",
       "3       -0.693015      -1.006669       -0.611158        -0.386230  1.900894   \n",
       "4       -0.027886      -0.747764       -0.229953        -0.268248  1.904338   \n",
       "\n",
       "     ATR_14    ATR_21    ATR_28  BB_middle_10  BB_upper_10_2.0  \\\n",
       "0  1.887277  1.935478  1.971536        55.532        57.887359   \n",
       "1  1.973900  1.990931  2.011838        55.546        57.926611   \n",
       "2  1.940407  1.967792  1.993737        55.534        57.888026   \n",
       "3  1.929306  1.959087  1.986282        55.615        58.210573   \n",
       "4  1.928999  1.957464  1.984094        55.922        59.140209   \n",
       "\n",
       "   BB_lower_10_2.0  BB_bandwidth_10  BB_middle_20  BB_upper_20_2.0  \\\n",
       "0        53.176641         0.084829       57.0395        61.070509   \n",
       "1        53.165389         0.085717       56.7760        60.115394   \n",
       "2        53.179974         0.084778       56.6065        59.569061   \n",
       "3        53.019427         0.093341       56.5380        59.324702   \n",
       "4        52.703791         0.115096       56.5895        59.494403   \n",
       "\n",
       "   BB_lower_20_2.0  BB_bandwidth_20  BB_upper_20_2.5  BB_lower_20_2.5  \\\n",
       "0        53.008491         0.176676        62.078261        52.000739   \n",
       "1        53.436606         0.147043        60.950243        52.601757   \n",
       "2        53.643939         0.130840        60.309702        52.903298   \n",
       "3        53.751298         0.123223        60.021378        53.054622   \n",
       "4        53.684597         0.128332        60.220629        52.958371   \n",
       "\n",
       "   BB_middle_50  BB_upper_50_2.0  BB_lower_50_2.0  BB_bandwidth_50  \\\n",
       "0       58.3376        64.215068        52.460132         0.201498   \n",
       "1       58.4616        63.898020        53.025180         0.185983   \n",
       "2       58.5108        63.833130        53.188470         0.181926   \n",
       "3       58.5694        63.784360        53.354440         0.178078   \n",
       "4       58.6066        63.795641        53.417559         0.177080   \n",
       "\n",
       "   STOCH_%K_14_1  STOCH_%D_3  STOCH_%K_14_3  STOCH_%K_21_3  STOCH_%D_5  \\\n",
       "0      20.147059   15.973301      19.356404      14.038764   13.301875   \n",
       "1      56.029412   22.382453      32.594981      23.892044   14.691408   \n",
       "2      65.271967   33.033621      47.149479      33.752654   18.440677   \n",
       "3      82.879027   49.268198      68.060135      50.896941   26.709942   \n",
       "4      86.834320   64.512684      78.328438      65.062900   37.528661   \n",
       "\n",
       "          OBV  sentiment_score  \n",
       "0 -55206082.0         0.928469  \n",
       "1 -38611621.0         0.494082  \n",
       "2  -2884607.0         0.861282  \n",
       "3   9003794.0         0.000000  \n",
       "4  25097498.0         0.700520  "
      ]
     },
     "execution_count": 11,
     "metadata": {},
     "output_type": "execute_result"
    }
   ],
   "source": [
    "processed_data.head()"
   ]
  }
 ],
 "metadata": {
  "kernelspec": {
   "display_name": "quantrl-lab-iz6bnoqa-py3.10",
   "language": "python",
   "name": "python3"
  },
  "language_info": {
   "codemirror_mode": {
    "name": "ipython",
    "version": 3
   },
   "file_extension": ".py",
   "mimetype": "text/x-python",
   "name": "python",
   "nbconvert_exporter": "python",
   "pygments_lexer": "ipython3",
   "version": "3.10.4"
  }
 },
 "nbformat": 4,
 "nbformat_minor": 5
}
