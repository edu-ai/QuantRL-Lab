{
 "cells": [
  {
   "cell_type": "code",
   "execution_count": null,
   "id": "7d3aa807",
   "metadata": {},
   "outputs": [
    {
     "name": "stdout",
     "output_type": "stream",
     "text": [
      "   number        value             datetime_start          datetime_complete  \\\n",
      "0       0    -4.616359 2025-08-04 20:50:08.153322 2025-08-04 20:51:28.045349   \n",
      "1       1    -8.552938 2025-08-04 20:54:16.042216 2025-08-04 20:55:49.681296   \n",
      "2       2 -1000.000000 2025-08-04 21:12:24.899989 2025-08-04 21:12:24.932770   \n",
      "3       3          NaN 2025-08-04 21:20:05.374457 2025-08-04 21:20:05.413082   \n",
      "4       4          NaN 2025-08-04 21:20:05.420638 2025-08-04 21:20:05.468453   \n",
      "\n",
      "                duration  params_batch_size  params_gamma  \\\n",
      "0 0 days 00:01:19.892027                 64      0.991544   \n",
      "1 0 days 00:01:33.639080                 64      0.991544   \n",
      "2 0 days 00:00:00.032781                 64      0.991544   \n",
      "3 0 days 00:00:00.038625                 64      0.991544   \n",
      "4 0 days 00:00:00.047815                512      0.998241   \n",
      "\n",
      "   params_learning_rate  params_tau     state  \n",
      "0              0.000133    0.006750  COMPLETE  \n",
      "1              0.000133    0.006750  COMPLETE  \n",
      "2              0.000133    0.006750  COMPLETE  \n",
      "3              0.000133    0.006750    PRUNED  \n",
      "4              0.003968    0.022022    PRUNED  \n",
      "Best parameters: {'learning_rate': 0.0001329291894316216, 'batch_size': 64, 'gamma': 0.9915443457513284, 'tau': 0.006750277604651747}\n",
      "Best value: -4.616359233856201\n"
     ]
    }
   ],
   "source": [
    "import optuna\n",
    "study = optuna.load_study(\n",
    "    study_name=\"sac_optimization\",  # The name you used in optimize_hyperparameters\n",
    "    storage=\"sqlite:///optuna_studies.db\"  # Path to your SQLite DB (change as needed)\n",
    ")\n",
    "\n",
    "# Get all trials as a DataFrame\n",
    "trials_df = study.trials_dataframe()\n",
    "print(trials_df.head())\n",
    "\n",
    "# Access best parameters\n",
    "print(f\"Best parameters: {study.best_params}\")\n",
    "print(f\"Best value: {study.best_value}\")"
   ]
  }
 ],
 "metadata": {
  "kernelspec": {
   "display_name": "quantrl-lab-iz6bnoqa-py3.10",
   "language": "python",
   "name": "python3"
  },
  "language_info": {
   "codemirror_mode": {
    "name": "ipython",
    "version": 3
   },
   "file_extension": ".py",
   "mimetype": "text/x-python",
   "name": "python",
   "nbconvert_exporter": "python",
   "pygments_lexer": "ipython3",
   "version": "3.10.4"
  }
 },
 "nbformat": 4,
 "nbformat_minor": 5
}
