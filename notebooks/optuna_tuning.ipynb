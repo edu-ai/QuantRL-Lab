{
 "cells": [
  {
   "cell_type": "code",
   "execution_count": 1,
   "id": "ad33c22f",
   "metadata": {},
   "outputs": [],
   "source": [
    "import pandas as pd\n",
    "import numpy as np\n",
    "from stable_baselines3 import PPO, A2C, SAC\n",
    "from typing import Optional, Dict, Any, List, Type\n",
    "from quantrl_lab.data import DataSourceRegistry, DataProcessor\n",
    "from quantrl_lab.data.indicators.technical_indicators import *\n",
    "from quantrl_lab.backtesting import BacktestRunner\n",
    "from quantrl_lab.custom_envs.stock import SingleStockTradingEnv, SingleStockEnvConfig\n",
    "from quantrl_lab.custom_envs.stock.strategies.actions.types import StandardMarketActionStrategy\n",
    "from quantrl_lab.custom_envs.stock.strategies.observations import PortfolioWithTrendObservation\n",
    "from quantrl_lab.custom_envs.stock.strategies.rewards import (\n",
    "    PortfolioValueChangeReward,\n",
    "    InvalidActionPenalty,\n",
    "    TrendFollowingReward,\n",
    "    HoldPenalty,\n",
    "    PositionSizingRiskReward,\n",
    "    WeightedCompositeReward\n",
    ")\n",
    "\n",
    "from quantrl_lab.tuning.optuna_runner import (\n",
    "    OptunaRunner, \n",
    "    create_sac_search_space, \n",
    "    create_ppo_search_space, \n",
    "    create_a2c_search_space\n",
    ")"
   ]
  },
  {
   "cell_type": "code",
   "execution_count": 2,
   "id": "2fd0e898",
   "metadata": {},
   "outputs": [
    {
     "data": {
      "text/html": [
       "<pre style=\"white-space:pre;overflow-x:auto;line-height:normal;font-family:Menlo,'DejaVu Sans Mono',consolas,'Courier New',monospace\"><span style=\"color: #008000; text-decoration-color: #008000\">Fetching historical data for MU from </span><span style=\"color: #008000; text-decoration-color: #008000; font-weight: bold\">2022</span><span style=\"color: #008000; text-decoration-color: #008000\">-</span><span style=\"color: #008000; text-decoration-color: #008000; font-weight: bold\">01</span><span style=\"color: #008000; text-decoration-color: #008000\">-</span><span style=\"color: #008000; text-decoration-color: #008000; font-weight: bold\">01</span><span style=\"color: #008000; text-decoration-color: #008000\"> to </span><span style=\"color: #008000; text-decoration-color: #008000; font-weight: bold\">2025</span><span style=\"color: #008000; text-decoration-color: #008000\">-</span><span style=\"color: #008000; text-decoration-color: #008000; font-weight: bold\">07</span><span style=\"color: #008000; text-decoration-color: #008000\">-</span><span style=\"color: #008000; text-decoration-color: #008000; font-weight: bold\">31</span><span style=\"color: #008000; text-decoration-color: #008000\"> with timeframe 1d</span>\n",
       "</pre>\n"
      ],
      "text/plain": [
       "\u001b[32mFetching historical data for MU from \u001b[0m\u001b[1;32m2022\u001b[0m\u001b[32m-\u001b[0m\u001b[1;32m01\u001b[0m\u001b[32m-\u001b[0m\u001b[1;32m01\u001b[0m\u001b[32m to \u001b[0m\u001b[1;32m2025\u001b[0m\u001b[32m-\u001b[0m\u001b[1;32m07\u001b[0m\u001b[32m-\u001b[0m\u001b[1;32m31\u001b[0m\u001b[32m with timeframe 1d\u001b[0m\n"
      ]
     },
     "metadata": {},
     "output_type": "display_data"
    },
    {
     "data": {
      "application/vnd.jupyter.widget-view+json": {
       "model_id": "ba3cfc390a5142cab5ece0c668f363cb",
       "version_major": 2,
       "version_minor": 0
      },
      "text/plain": [
       "Output()"
      ]
     },
     "metadata": {},
     "output_type": "display_data"
    },
    {
     "data": {
      "text/html": [
       "<pre style=\"white-space:pre;overflow-x:auto;line-height:normal;font-family:Menlo,'DejaVu Sans Mono',consolas,'Courier New',monospace\"></pre>\n"
      ],
      "text/plain": []
     },
     "metadata": {},
     "output_type": "display_data"
    },
    {
     "data": {
      "text/html": [
       "<pre style=\"white-space:pre;overflow-x:auto;line-height:normal;font-family:Menlo,'DejaVu Sans Mono',consolas,'Courier New',monospace\"><span style=\"color: #008000; text-decoration-color: #008000\">✓ Total news items fetched: </span><span style=\"color: #008000; text-decoration-color: #008000; font-weight: bold\">2310</span>\n",
       "</pre>\n"
      ],
      "text/plain": [
       "\u001b[32m✓ Total news items fetched: \u001b[0m\u001b[1;32m2310\u001b[0m\n"
      ]
     },
     "metadata": {},
     "output_type": "display_data"
    }
   ],
   "source": [
    "data_loader = DataSourceRegistry()\n",
    "\n",
    "olhcv_df = data_loader.get_historical_ohlcv_data(\n",
    "    symbols=\"MU\",\n",
    "    start=\"2022-01-01\",\n",
    "    end=\"2025-07-31\",\n",
    "    timeframe=\"1d\", # can be adjusted based on the data granularity needed\n",
    ")\n",
    "\n",
    "news_df = data_loader.get_news_data(\n",
    "    \"MU\",\n",
    "    start=\"2022-01-01\",\n",
    "    end=\"2025-07-31\",\n",
    ")"
   ]
  },
  {
   "cell_type": "code",
   "execution_count": 3,
   "id": "f6fff985",
   "metadata": {},
   "outputs": [
    {
     "data": {
      "text/html": [
       "<pre style=\"white-space:pre;overflow-x:auto;line-height:normal;font-family:Menlo,'DejaVu Sans Mono',consolas,'Courier New',monospace\"><span style=\"color: #008080; text-decoration-color: #008080\">Applying SMA with params: </span><span style=\"color: #008080; text-decoration-color: #008080; font-weight: bold\">{</span><span style=\"color: #008080; text-decoration-color: #008080\">'window'</span><span style=\"color: #008080; text-decoration-color: #008080\">: </span><span style=\"color: #008080; text-decoration-color: #008080; font-weight: bold\">20</span><span style=\"color: #008080; text-decoration-color: #008080; font-weight: bold\">}</span>\n",
       "</pre>\n"
      ],
      "text/plain": [
       "\u001b[36mApplying SMA with params: \u001b[0m\u001b[1;36m{\u001b[0m\u001b[36m'window'\u001b[0m\u001b[36m: \u001b[0m\u001b[1;36m20\u001b[0m\u001b[1;36m}\u001b[0m\n"
      ]
     },
     "metadata": {},
     "output_type": "display_data"
    },
    {
     "data": {
      "text/html": [
       "<pre style=\"white-space:pre;overflow-x:auto;line-height:normal;font-family:Menlo,'DejaVu Sans Mono',consolas,'Courier New',monospace\"><span style=\"color: #008080; text-decoration-color: #008080\">Applying EMA with params: </span><span style=\"color: #008080; text-decoration-color: #008080; font-weight: bold\">{</span><span style=\"color: #008080; text-decoration-color: #008080\">'window'</span><span style=\"color: #008080; text-decoration-color: #008080\">: </span><span style=\"color: #008080; text-decoration-color: #008080; font-weight: bold\">9</span><span style=\"color: #008080; text-decoration-color: #008080; font-weight: bold\">}</span>\n",
       "</pre>\n"
      ],
      "text/plain": [
       "\u001b[36mApplying EMA with params: \u001b[0m\u001b[1;36m{\u001b[0m\u001b[36m'window'\u001b[0m\u001b[36m: \u001b[0m\u001b[1;36m9\u001b[0m\u001b[1;36m}\u001b[0m\n"
      ]
     },
     "metadata": {},
     "output_type": "display_data"
    },
    {
     "data": {
      "text/html": [
       "<pre style=\"white-space:pre;overflow-x:auto;line-height:normal;font-family:Menlo,'DejaVu Sans Mono',consolas,'Courier New',monospace\"><span style=\"color: #008080; text-decoration-color: #008080\">Applying RSI with params: </span><span style=\"color: #008080; text-decoration-color: #008080; font-weight: bold\">{</span><span style=\"color: #008080; text-decoration-color: #008080\">'window'</span><span style=\"color: #008080; text-decoration-color: #008080\">: </span><span style=\"color: #008080; text-decoration-color: #008080; font-weight: bold\">7</span><span style=\"color: #008080; text-decoration-color: #008080; font-weight: bold\">}</span>\n",
       "</pre>\n"
      ],
      "text/plain": [
       "\u001b[36mApplying RSI with params: \u001b[0m\u001b[1;36m{\u001b[0m\u001b[36m'window'\u001b[0m\u001b[36m: \u001b[0m\u001b[1;36m7\u001b[0m\u001b[1;36m}\u001b[0m\n"
      ]
     },
     "metadata": {},
     "output_type": "display_data"
    },
    {
     "data": {
      "text/html": [
       "<pre style=\"white-space:pre;overflow-x:auto;line-height:normal;font-family:Menlo,'DejaVu Sans Mono',consolas,'Courier New',monospace\"><span style=\"color: #008080; text-decoration-color: #008080\">Applying MACD with params: </span><span style=\"color: #008080; text-decoration-color: #008080; font-weight: bold\">{</span><span style=\"color: #008080; text-decoration-color: #008080\">'fast'</span><span style=\"color: #008080; text-decoration-color: #008080\">: </span><span style=\"color: #008080; text-decoration-color: #008080; font-weight: bold\">12</span><span style=\"color: #008080; text-decoration-color: #008080\">, </span><span style=\"color: #008080; text-decoration-color: #008080\">'slow'</span><span style=\"color: #008080; text-decoration-color: #008080\">: </span><span style=\"color: #008080; text-decoration-color: #008080; font-weight: bold\">26</span><span style=\"color: #008080; text-decoration-color: #008080\">, </span><span style=\"color: #008080; text-decoration-color: #008080\">'signal'</span><span style=\"color: #008080; text-decoration-color: #008080\">: </span><span style=\"color: #008080; text-decoration-color: #008080; font-weight: bold\">9</span><span style=\"color: #008080; text-decoration-color: #008080; font-weight: bold\">}</span>\n",
       "</pre>\n"
      ],
      "text/plain": [
       "\u001b[36mApplying MACD with params: \u001b[0m\u001b[1;36m{\u001b[0m\u001b[36m'fast'\u001b[0m\u001b[36m: \u001b[0m\u001b[1;36m12\u001b[0m\u001b[36m, \u001b[0m\u001b[36m'slow'\u001b[0m\u001b[36m: \u001b[0m\u001b[1;36m26\u001b[0m\u001b[36m, \u001b[0m\u001b[36m'signal'\u001b[0m\u001b[36m: \u001b[0m\u001b[1;36m9\u001b[0m\u001b[1;36m}\u001b[0m\n"
      ]
     },
     "metadata": {},
     "output_type": "display_data"
    },
    {
     "data": {
      "text/html": [
       "<pre style=\"white-space:pre;overflow-x:auto;line-height:normal;font-family:Menlo,'DejaVu Sans Mono',consolas,'Courier New',monospace\"><span style=\"color: #008080; text-decoration-color: #008080\">Applying ATR with params: </span><span style=\"color: #008080; text-decoration-color: #008080; font-weight: bold\">{</span><span style=\"color: #008080; text-decoration-color: #008080\">'window'</span><span style=\"color: #008080; text-decoration-color: #008080\">: </span><span style=\"color: #008080; text-decoration-color: #008080; font-weight: bold\">14</span><span style=\"color: #008080; text-decoration-color: #008080; font-weight: bold\">}</span>\n",
       "</pre>\n"
      ],
      "text/plain": [
       "\u001b[36mApplying ATR with params: \u001b[0m\u001b[1;36m{\u001b[0m\u001b[36m'window'\u001b[0m\u001b[36m: \u001b[0m\u001b[1;36m14\u001b[0m\u001b[1;36m}\u001b[0m\n"
      ]
     },
     "metadata": {},
     "output_type": "display_data"
    },
    {
     "data": {
      "text/html": [
       "<pre style=\"white-space:pre;overflow-x:auto;line-height:normal;font-family:Menlo,'DejaVu Sans Mono',consolas,'Courier New',monospace\"><span style=\"color: #008080; text-decoration-color: #008080\">Applying BB with params: </span><span style=\"color: #008080; text-decoration-color: #008080; font-weight: bold\">{</span><span style=\"color: #008080; text-decoration-color: #008080\">'window'</span><span style=\"color: #008080; text-decoration-color: #008080\">: </span><span style=\"color: #008080; text-decoration-color: #008080; font-weight: bold\">20</span><span style=\"color: #008080; text-decoration-color: #008080\">, </span><span style=\"color: #008080; text-decoration-color: #008080\">'num_std'</span><span style=\"color: #008080; text-decoration-color: #008080\">: </span><span style=\"color: #008080; text-decoration-color: #008080; font-weight: bold\">2</span><span style=\"color: #008080; text-decoration-color: #008080; font-weight: bold\">}</span>\n",
       "</pre>\n"
      ],
      "text/plain": [
       "\u001b[36mApplying BB with params: \u001b[0m\u001b[1;36m{\u001b[0m\u001b[36m'window'\u001b[0m\u001b[36m: \u001b[0m\u001b[1;36m20\u001b[0m\u001b[36m, \u001b[0m\u001b[36m'num_std'\u001b[0m\u001b[36m: \u001b[0m\u001b[1;36m2\u001b[0m\u001b[1;36m}\u001b[0m\n"
      ]
     },
     "metadata": {},
     "output_type": "display_data"
    },
    {
     "data": {
      "text/html": [
       "<pre style=\"white-space:pre;overflow-x:auto;line-height:normal;font-family:Menlo,'DejaVu Sans Mono',consolas,'Courier New',monospace\"><span style=\"color: #008080; text-decoration-color: #008080\">Applying STOCH with params: </span><span style=\"color: #008080; text-decoration-color: #008080; font-weight: bold\">{</span><span style=\"color: #008080; text-decoration-color: #008080\">'k_window'</span><span style=\"color: #008080; text-decoration-color: #008080\">: </span><span style=\"color: #008080; text-decoration-color: #008080; font-weight: bold\">14</span><span style=\"color: #008080; text-decoration-color: #008080\">, </span><span style=\"color: #008080; text-decoration-color: #008080\">'d_window'</span><span style=\"color: #008080; text-decoration-color: #008080\">: </span><span style=\"color: #008080; text-decoration-color: #008080; font-weight: bold\">3</span><span style=\"color: #008080; text-decoration-color: #008080\">, </span><span style=\"color: #008080; text-decoration-color: #008080\">'smooth_k'</span><span style=\"color: #008080; text-decoration-color: #008080\">: </span><span style=\"color: #008080; text-decoration-color: #008080; font-weight: bold\">1</span><span style=\"color: #008080; text-decoration-color: #008080; font-weight: bold\">}</span>\n",
       "</pre>\n"
      ],
      "text/plain": [
       "\u001b[36mApplying STOCH with params: \u001b[0m\u001b[1;36m{\u001b[0m\u001b[36m'k_window'\u001b[0m\u001b[36m: \u001b[0m\u001b[1;36m14\u001b[0m\u001b[36m, \u001b[0m\u001b[36m'd_window'\u001b[0m\u001b[36m: \u001b[0m\u001b[1;36m3\u001b[0m\u001b[36m, \u001b[0m\u001b[36m'smooth_k'\u001b[0m\u001b[36m: \u001b[0m\u001b[1;36m1\u001b[0m\u001b[1;36m}\u001b[0m\n"
      ]
     },
     "metadata": {},
     "output_type": "display_data"
    },
    {
     "data": {
      "text/html": [
       "<pre style=\"white-space:pre;overflow-x:auto;line-height:normal;font-family:Menlo,'DejaVu Sans Mono',consolas,'Courier New',monospace\"><span style=\"color: #008080; text-decoration-color: #008080\">Applying OBV with params: </span><span style=\"color: #008080; text-decoration-color: #008080; font-weight: bold\">{}</span>\n",
       "</pre>\n"
      ],
      "text/plain": [
       "\u001b[36mApplying OBV with params: \u001b[0m\u001b[1;36m{\u001b[0m\u001b[1;36m}\u001b[0m\n"
      ]
     },
     "metadata": {},
     "output_type": "display_data"
    },
    {
     "data": {
      "text/html": [
       "<pre style=\"white-space:pre;overflow-x:auto;line-height:normal;font-family:Menlo,'DejaVu Sans Mono',consolas,'Courier New',monospace\"><span style=\"color: #008080; text-decoration-color: #008080\">Calculating sentiment scores using HF model...</span>\n",
       "</pre>\n"
      ],
      "text/plain": [
       "\u001b[36mCalculating sentiment scores using HF model\u001b[0m\u001b[36m...\u001b[0m\n"
      ]
     },
     "metadata": {},
     "output_type": "display_data"
    },
    {
     "name": "stderr",
     "output_type": "stream",
     "text": [
      "Device set to use cpu\n"
     ]
    },
    {
     "data": {
      "text/html": [
       "<pre style=\"white-space:pre;overflow-x:auto;line-height:normal;font-family:Menlo,'DejaVu Sans Mono',consolas,'Courier New',monospace\"><span style=\"color: #008000; text-decoration-color: #008000\">✓ Sentiment analysis pipeline initialized with model: ProsusAI/finbert</span>\n",
       "</pre>\n"
      ],
      "text/plain": [
       "\u001b[32m✓ Sentiment analysis pipeline initialized with model: ProsusAI/finbert\u001b[0m\n"
      ]
     },
     "metadata": {},
     "output_type": "display_data"
    },
    {
     "data": {
      "text/html": [
       "<div>\n",
       "<style scoped>\n",
       "    .dataframe tbody tr th:only-of-type {\n",
       "        vertical-align: middle;\n",
       "    }\n",
       "\n",
       "    .dataframe tbody tr th {\n",
       "        vertical-align: top;\n",
       "    }\n",
       "\n",
       "    .dataframe thead th {\n",
       "        text-align: right;\n",
       "    }\n",
       "</style>\n",
       "<table border=\"1\" class=\"dataframe\">\n",
       "  <thead>\n",
       "    <tr style=\"text-align: right;\">\n",
       "      <th></th>\n",
       "      <th>Open</th>\n",
       "      <th>High</th>\n",
       "      <th>Low</th>\n",
       "      <th>Close</th>\n",
       "      <th>Volume</th>\n",
       "      <th>Trade_count</th>\n",
       "      <th>VWAP</th>\n",
       "      <th>SMA_20</th>\n",
       "      <th>EMA_9</th>\n",
       "      <th>RSI_7</th>\n",
       "      <th>...</th>\n",
       "      <th>MACD_signal_9</th>\n",
       "      <th>ATR_14</th>\n",
       "      <th>BB_middle_20</th>\n",
       "      <th>BB_upper_20_2</th>\n",
       "      <th>BB_lower_20_2</th>\n",
       "      <th>BB_bandwidth_20</th>\n",
       "      <th>STOCH_%K_14_1</th>\n",
       "      <th>STOCH_%D_3</th>\n",
       "      <th>OBV</th>\n",
       "      <th>sentiment_score</th>\n",
       "    </tr>\n",
       "  </thead>\n",
       "  <tbody>\n",
       "    <tr>\n",
       "      <th>0</th>\n",
       "      <td>78.960</td>\n",
       "      <td>82.31</td>\n",
       "      <td>78.02</td>\n",
       "      <td>82.27</td>\n",
       "      <td>25587263.0</td>\n",
       "      <td>177832.0</td>\n",
       "      <td>81.231750</td>\n",
       "      <td>89.4270</td>\n",
       "      <td>83.289881</td>\n",
       "      <td>38.546670</td>\n",
       "      <td>...</td>\n",
       "      <td>-2.957446</td>\n",
       "      <td>3.908338</td>\n",
       "      <td>89.4270</td>\n",
       "      <td>103.057519</td>\n",
       "      <td>75.796481</td>\n",
       "      <td>0.304841</td>\n",
       "      <td>29.887093</td>\n",
       "      <td>17.256112</td>\n",
       "      <td>29104168.0</td>\n",
       "      <td>0.615621</td>\n",
       "    </tr>\n",
       "    <tr>\n",
       "      <th>1</th>\n",
       "      <td>82.200</td>\n",
       "      <td>82.39</td>\n",
       "      <td>80.42</td>\n",
       "      <td>81.45</td>\n",
       "      <td>16677706.0</td>\n",
       "      <td>156159.0</td>\n",
       "      <td>81.282006</td>\n",
       "      <td>88.7120</td>\n",
       "      <td>82.921905</td>\n",
       "      <td>36.195812</td>\n",
       "      <td>...</td>\n",
       "      <td>-3.168442</td>\n",
       "      <td>3.769885</td>\n",
       "      <td>88.7120</td>\n",
       "      <td>102.445824</td>\n",
       "      <td>74.978176</td>\n",
       "      <td>0.309627</td>\n",
       "      <td>26.256365</td>\n",
       "      <td>24.249133</td>\n",
       "      <td>12426462.0</td>\n",
       "      <td>0.861282</td>\n",
       "    </tr>\n",
       "    <tr>\n",
       "      <th>2</th>\n",
       "      <td>82.920</td>\n",
       "      <td>84.70</td>\n",
       "      <td>82.54</td>\n",
       "      <td>84.51</td>\n",
       "      <td>21429140.0</td>\n",
       "      <td>174863.0</td>\n",
       "      <td>83.930710</td>\n",
       "      <td>88.1205</td>\n",
       "      <td>83.239524</td>\n",
       "      <td>49.582550</td>\n",
       "      <td>...</td>\n",
       "      <td>-3.272308</td>\n",
       "      <td>3.732750</td>\n",
       "      <td>88.1205</td>\n",
       "      <td>101.485089</td>\n",
       "      <td>74.755911</td>\n",
       "      <td>0.303325</td>\n",
       "      <td>39.805180</td>\n",
       "      <td>31.982879</td>\n",
       "      <td>33855602.0</td>\n",
       "      <td>0.000000</td>\n",
       "    </tr>\n",
       "    <tr>\n",
       "      <th>3</th>\n",
       "      <td>82.670</td>\n",
       "      <td>85.18</td>\n",
       "      <td>81.71</td>\n",
       "      <td>81.97</td>\n",
       "      <td>21519262.0</td>\n",
       "      <td>183404.0</td>\n",
       "      <td>83.199568</td>\n",
       "      <td>87.4990</td>\n",
       "      <td>82.985619</td>\n",
       "      <td>41.209527</td>\n",
       "      <td>...</td>\n",
       "      <td>-3.336647</td>\n",
       "      <td>3.713982</td>\n",
       "      <td>87.4990</td>\n",
       "      <td>100.789910</td>\n",
       "      <td>74.208090</td>\n",
       "      <td>0.303796</td>\n",
       "      <td>29.438613</td>\n",
       "      <td>31.833386</td>\n",
       "      <td>12336340.0</td>\n",
       "      <td>0.000000</td>\n",
       "    </tr>\n",
       "    <tr>\n",
       "      <th>4</th>\n",
       "      <td>81.222</td>\n",
       "      <td>82.19</td>\n",
       "      <td>79.84</td>\n",
       "      <td>81.17</td>\n",
       "      <td>16827299.0</td>\n",
       "      <td>153181.0</td>\n",
       "      <td>81.113986</td>\n",
       "      <td>86.7750</td>\n",
       "      <td>82.622495</td>\n",
       "      <td>38.801794</td>\n",
       "      <td>...</td>\n",
       "      <td>-3.377998</td>\n",
       "      <td>3.616555</td>\n",
       "      <td>86.7750</td>\n",
       "      <td>99.770654</td>\n",
       "      <td>73.779346</td>\n",
       "      <td>0.299525</td>\n",
       "      <td>27.655409</td>\n",
       "      <td>32.299734</td>\n",
       "      <td>-4490959.0</td>\n",
       "      <td>0.000000</td>\n",
       "    </tr>\n",
       "  </tbody>\n",
       "</table>\n",
       "<p>5 rows × 21 columns</p>\n",
       "</div>"
      ],
      "text/plain": [
       "     Open   High    Low  Close      Volume  Trade_count       VWAP   SMA_20  \\\n",
       "0  78.960  82.31  78.02  82.27  25587263.0     177832.0  81.231750  89.4270   \n",
       "1  82.200  82.39  80.42  81.45  16677706.0     156159.0  81.282006  88.7120   \n",
       "2  82.920  84.70  82.54  84.51  21429140.0     174863.0  83.930710  88.1205   \n",
       "3  82.670  85.18  81.71  81.97  21519262.0     183404.0  83.199568  87.4990   \n",
       "4  81.222  82.19  79.84  81.17  16827299.0     153181.0  81.113986  86.7750   \n",
       "\n",
       "       EMA_9      RSI_7  ...  MACD_signal_9    ATR_14  BB_middle_20  \\\n",
       "0  83.289881  38.546670  ...      -2.957446  3.908338       89.4270   \n",
       "1  82.921905  36.195812  ...      -3.168442  3.769885       88.7120   \n",
       "2  83.239524  49.582550  ...      -3.272308  3.732750       88.1205   \n",
       "3  82.985619  41.209527  ...      -3.336647  3.713982       87.4990   \n",
       "4  82.622495  38.801794  ...      -3.377998  3.616555       86.7750   \n",
       "\n",
       "   BB_upper_20_2  BB_lower_20_2  BB_bandwidth_20  STOCH_%K_14_1  STOCH_%D_3  \\\n",
       "0     103.057519      75.796481         0.304841      29.887093   17.256112   \n",
       "1     102.445824      74.978176         0.309627      26.256365   24.249133   \n",
       "2     101.485089      74.755911         0.303325      39.805180   31.982879   \n",
       "3     100.789910      74.208090         0.303796      29.438613   31.833386   \n",
       "4      99.770654      73.779346         0.299525      27.655409   32.299734   \n",
       "\n",
       "          OBV  sentiment_score  \n",
       "0  29104168.0         0.615621  \n",
       "1  12426462.0         0.861282  \n",
       "2  33855602.0         0.000000  \n",
       "3  12336340.0         0.000000  \n",
       "4  -4490959.0         0.000000  \n",
       "\n",
       "[5 rows x 21 columns]"
      ]
     },
     "execution_count": 3,
     "metadata": {},
     "output_type": "execute_result"
    }
   ],
   "source": [
    "data_processor = DataProcessor(olhcv_data=olhcv_df, news_data=news_df)\n",
    "\n",
    "# The window sizes can be adjusted based on the signals from feature importance analysis.\n",
    "\n",
    "# configuring the technical indicators with specific parameters\n",
    "processed_data = data_processor.data_processing_pipeline(\n",
    "    indicators=[\"SMA\", \"EMA\", \"RSI\", \"MACD\", \"ATR\", \"BB\", \"STOCH\", \"OBV\"],\n",
    "    \n",
    "    fillna_strategy=\"neutral\",\n",
    "    SMA_params={\n",
    "        \"window\": 20,\n",
    "    },\n",
    "    EMA_params={\"window\": 9},\n",
    "    RSI_params={\"window\": 7},\n",
    "    MACD_params={\"fast\": 12, \"slow\": 26, \"signal\": 9},\n",
    "    ATR_params={\"window\": 14},\n",
    "    BB_params={\"window\": 20, \"num_std\": 2},\n",
    "    STOCH_params={\"k_window\": 14, \"d_window\": 3, \"smooth_k\": 1},\n",
    "    # OBV_params={},\n",
    ")\n",
    "\n",
    "processed_data.head()"
   ]
  },
  {
   "cell_type": "code",
   "execution_count": 4,
   "id": "3c3f628e",
   "metadata": {},
   "outputs": [],
   "source": [
    "train_size = int(len(processed_data) * 0.6)\n",
    "train_data_df = processed_data[:train_size]\n",
    "eval_size = int(len(processed_data) * 0.2)\n",
    "eval_data_df = processed_data[train_size:train_size + eval_size] \n",
    "test_data_df = processed_data[train_size + eval_size:]  "
   ]
  },
  {
   "cell_type": "code",
   "execution_count": 5,
   "id": "ffe1bf53",
   "metadata": {},
   "outputs": [],
   "source": [
    "# Create strategy instances\n",
    "\n",
    "action_strategy = StandardMarketActionStrategy() # 7 actions: buy, sell ,hold, limit buy, limit sell, take profit, stop loss\n",
    "observation_strategy = PortfolioWithTrendObservation()\n",
    "\n",
    "# Create composite reward strategy\n",
    "portfolio_reward = PortfolioValueChangeReward()\n",
    "invalid_penalty = InvalidActionPenalty(penalty=-1.0) # free to adjust the penalty value\n",
    "trend_reward = TrendFollowingReward()\n",
    "hold_penalty = HoldPenalty(penalty=-0.5) # free to adjust the penalty value\n",
    "position_sizing_reward = PositionSizingRiskReward()"
   ]
  },
  {
   "cell_type": "code",
   "execution_count": 7,
   "id": "0b91df02",
   "metadata": {},
   "outputs": [],
   "source": [
    "conservative_reward_strategy = WeightedCompositeReward(\n",
    "        strategies=[portfolio_reward, invalid_penalty, trend_reward, hold_penalty, position_sizing_reward],\n",
    "        weights=[1.2, 4.0, 0.1, 0.05, 1.0]\n",
    ")\n",
    "\n",
    "sample_env_config = BacktestRunner.create_env_config_factory(\n",
    "    train_data=train_data_df,\n",
    "    test_data=eval_data_df,  # notice that we use eval data here for hyperparameter tuning\n",
    "    action_strategy=action_strategy,\n",
    "    reward_strategy=conservative_reward_strategy,\n",
    "    observation_strategy=observation_strategy,\n",
    "    initial_balance=10000,\n",
    "    transaction_cost_pct=0.001,\n",
    "    window_size=20,\n",
    ")"
   ]
  },
  {
   "cell_type": "markdown",
   "id": "91cc9dd6",
   "metadata": {},
   "source": [
    "The following tuning example is just for illustration. You should probably run it with a more powerful machine/cluster"
   ]
  },
  {
   "cell_type": "code",
   "execution_count": null,
   "id": "8a8c45e8",
   "metadata": {},
   "outputs": [],
   "source": [
    "runner = BacktestRunner(verbose=1) # prints the logs\n",
    "\n",
    "# Initialize the tuner with your existing runner\n",
    "tuner = OptunaRunner(\n",
    "    runner=runner,\n",
    "    storage_url=\"sqlite:///optuna_studies.db\"  # Optional: for persistent storage and future reference\n",
    ")\n",
    "\n",
    "# Example: Basic hyperparameter optimization for SAC\n",
    "print(\"Starting SAC hyperparameter optimization...\")\n",
    "\n",
    "# Use the pre-defined search space or create a custom one\n",
    "sac_search_space = create_sac_search_space()\n",
    "\n",
    "# Run optimization\n",
    "study = tuner.optimize_hyperparameters(\n",
    "    algo_class=SAC,\n",
    "    env_config=sample_env_config,  # Use your existing env config\n",
    "    search_space=sac_search_space,\n",
    "    fixed_params = { \"verbose\": 0 },  # Optional: fixed parameters to keep constant\n",
    "    study_name=\"sac_optimization\",\n",
    "    n_trials=3,  # Start with very few trials for quick testing on optuna\n",
    "    total_timesteps=50000,\n",
    "    num_eval_episodes=3,\n",
    "    optimization_metric=\"test_avg_return_pct\",  # or \"test_avg_reward\"\n",
    "    direction=\"maximize\"\n",
    ")\n",
    "\n"
   ]
  },
  {
   "cell_type": "code",
   "execution_count": 9,
   "id": "15f569a3",
   "metadata": {},
   "outputs": [
    {
     "name": "stdout",
     "output_type": "stream",
     "text": [
      "✅ Best parameters: {'learning_rate': 7.476312062252303e-05, 'batch_size': 64, 'gamma': 0.9455613914232819, 'tau': 0.07873242017790835, 'train_freq': 8, 'gradient_steps': 8, 'target_update_interval': 1}\n",
      "✅ Best value: 18.4322\n"
     ]
    }
   ],
   "source": [
    "print(f\"✅ Best parameters: {study.best_params}\")\n",
    "print(f\"✅ Best value: {study.best_value:.4f}\")"
   ]
  },
  {
   "cell_type": "code",
   "execution_count": 11,
   "id": "55acc364",
   "metadata": {},
   "outputs": [
    {
     "name": "stdout",
     "output_type": "stream",
     "text": [
      "   number      value             datetime_start          datetime_complete  \\\n",
      "0       0  -1.208242 2025-09-01 19:41:19.274992 2025-09-01 19:42:38.102367   \n",
      "1       1  18.432171 2025-09-01 19:42:38.116379 2025-09-01 19:43:55.785223   \n",
      "2       2 -96.862244 2025-09-01 19:43:55.792446 2025-09-01 19:47:17.900588   \n",
      "3       3 -92.218117 2025-09-05 22:23:07.226468 2025-09-05 22:24:29.984176   \n",
      "4       4        NaN 2025-09-05 22:24:29.999399 2025-09-05 22:25:43.946036   \n",
      "\n",
      "                duration  params_batch_size  params_gamma  \\\n",
      "0 0 days 00:01:18.827375                 64      0.915584   \n",
      "1 0 days 00:01:17.668844                 64      0.945561   \n",
      "2 0 days 00:03:22.108142                256      0.990841   \n",
      "3 0 days 00:01:22.757708                 64      0.915584   \n",
      "4 0 days 00:01:13.946637                 64      0.945561   \n",
      "\n",
      "   params_gradient_steps  params_learning_rate  params_target_update_interval  \\\n",
      "0                      1              0.000133                              4   \n",
      "1                      8              0.000075                              1   \n",
      "2                      2              0.001129                              4   \n",
      "3                      1              0.000133                              4   \n",
      "4                      8              0.000075                              1   \n",
      "\n",
      "   params_tau  params_train_freq     state  \n",
      "0    0.006750                  1  COMPLETE  \n",
      "1    0.078732                  8  COMPLETE  \n",
      "2    0.026619                  1  COMPLETE  \n",
      "3    0.006750                  1  COMPLETE  \n",
      "4    0.078732                  8      FAIL  \n",
      "Best parameters: {'learning_rate': 7.476312062252303e-05, 'batch_size': 64, 'gamma': 0.9455613914232819, 'tau': 0.07873242017790835, 'train_freq': 8, 'gradient_steps': 8, 'target_update_interval': 1}\n",
      "Best value: 18.432170867919922\n"
     ]
    }
   ],
   "source": [
    "import optuna\n",
    "# Reading from storage\n",
    "study = optuna.load_study(\n",
    "    study_name=\"sac_optimization\",  \n",
    "    storage=\"sqlite:///optuna_studies.db\"  # Path to your SQLite DB (change as needed)\n",
    ")\n",
    "\n",
    "# Get all trials as a DataFrame\n",
    "trials_df = study.trials_dataframe()\n",
    "print(trials_df.head())\n",
    "\n",
    "# Access best parameters\n",
    "print(f\"Best parameters: {study.best_params}\")\n",
    "print(f\"Best value: {study.best_value}\")"
   ]
  },
  {
   "cell_type": "code",
   "execution_count": null,
   "id": "b70e6796",
   "metadata": {},
   "outputs": [],
   "source": [
    "custom_sac_config = BacktestRunner.create_custom_config(\n",
    "    SAC,\n",
    "    **study.best_params\n",
    ")\n",
    "\n",
    "sample_env_config = BacktestRunner.create_env_config_factory(\n",
    "    train_data=train_data_df,\n",
    "    test_data=test_data_df,  # Change back to test set for final evaluation\n",
    "    action_strategy=action_strategy,\n",
    "    reward_strategy=conservative_reward_strategy,\n",
    "    observation_strategy=observation_strategy,\n",
    "    initial_balance=10000,\n",
    "    transaction_cost_pct=0.001,\n",
    "    window_size=20,\n",
    ")\n",
    "\n",
    "\n",
    "# Run single experiment using the single_env_config\n",
    "results = runner.run_single_experiment(\n",
    "    SAC,         \n",
    "    single_standard_config,     # Use the single environment config we created\n",
    "    config=custom_sac_config,  # Custom algorithm configuration, this is an optional parameter\n",
    "    total_timesteps=50000,  # Total timesteps for training\n",
    "    num_eval_episodes=3\n",
    ")\n",
    "\n",
    "print(f\"✅ Single experiment completed!\")"
   ]
  }
 ],
 "metadata": {
  "kernelspec": {
   "display_name": "quantrl-lab-iz6bnoqa-py3.10",
   "language": "python",
   "name": "python3"
  },
  "language_info": {
   "codemirror_mode": {
    "name": "ipython",
    "version": 3
   },
   "file_extension": ".py",
   "mimetype": "text/x-python",
   "name": "python",
   "nbconvert_exporter": "python",
   "pygments_lexer": "ipython3",
   "version": "3.10.4"
  }
 },
 "nbformat": 4,
 "nbformat_minor": 5
}
