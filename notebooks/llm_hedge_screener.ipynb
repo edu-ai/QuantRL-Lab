{
 "cells": [
  {
   "cell_type": "code",
   "execution_count": 2,
   "id": "0f8700f7",
   "metadata": {},
   "outputs": [],
   "source": [
    "from quantrl_lab.screener.llm_hedge_screener import LLMStockScreener\n",
    "from dotenv import load_dotenv\n",
    "from rich.console import Console\n",
    "from rich.json import JSON\n",
    "\n",
    "load_dotenv()\n",
    "console = Console()\n"
   ]
  },
  {
   "cell_type": "code",
   "execution_count": 3,
   "id": "831692f0",
   "metadata": {},
   "outputs": [],
   "source": [
    "screener = LLMStockScreener(model_name=\"gemini/gemini-2.5-pro\")"
   ]
  },
  {
   "cell_type": "code",
   "execution_count": 4,
   "id": "564af031",
   "metadata": {},
   "outputs": [],
   "source": [
    "structured_hedge = screener.screen_hedge_stocks_structured(\"MU\", \"protect against semiconductor sector downturn\")"
   ]
  },
  {
   "cell_type": "code",
   "execution_count": 6,
   "id": "5df32a09",
   "metadata": {},
   "outputs": [
    {
     "name": "stdout",
     "output_type": "stream",
     "text": [
      "Structured Hedge Screening Result:\n"
     ]
    },
    {
     "data": {
      "text/html": [
       "<pre style=\"white-space:pre;overflow-x:auto;line-height:normal;font-family:Menlo,'DejaVu Sans Mono',consolas,'Courier New',monospace\"><span style=\"color: #800080; text-decoration-color: #800080; font-weight: bold\">HedgeScreeningResult</span><span style=\"font-weight: bold\">(</span>\n",
       "    <span style=\"color: #808000; text-decoration-color: #808000\">target_stock</span>=<span style=\"color: #008000; text-decoration-color: #008000\">'MU'</span>,\n",
       "    <span style=\"color: #808000; text-decoration-color: #808000\">hedge_criteria</span>=<span style=\"color: #008000; text-decoration-color: #008000\">'Protection against a cyclical downturn in the semiconductor sector, which is highly sensitive </span>\n",
       "<span style=\"color: #008000; text-decoration-color: #008000\">to macroeconomic conditions and consumer demand.'</span>,\n",
       "    <span style=\"color: #808000; text-decoration-color: #808000\">hedge_recommendations</span>=<span style=\"font-weight: bold\">[</span>\n",
       "        <span style=\"color: #800080; text-decoration-color: #800080; font-weight: bold\">HedgeRecommendation</span><span style=\"font-weight: bold\">(</span>\n",
       "            <span style=\"color: #808000; text-decoration-color: #808000\">symbol</span>=<span style=\"color: #008000; text-decoration-color: #008000\">'SOXS'</span>,\n",
       "            <span style=\"color: #808000; text-decoration-color: #808000\">name</span>=<span style=\"color: #008000; text-decoration-color: #008000\">'Direxion Daily Semiconductor Bear 3X Shares'</span>,\n",
       "            <span style=\"color: #808000; text-decoration-color: #808000\">hedge_type</span>=<span style=\"color: #008000; text-decoration-color: #008000\">'inverse_sector'</span>,\n",
       "            <span style=\"color: #808000; text-decoration-color: #808000\">correlation</span>=<span style=\"color: #008000; text-decoration-color: #008000\">'Highly negative (-0.9 to -1.0) to semiconductor sector indices on a daily basis, before </span>\n",
       "<span style=\"color: #008000; text-decoration-color: #008000\">accounting for compounding effects.'</span>,\n",
       "            <span style=\"color: #808000; text-decoration-color: #808000\">rationale</span>=<span style=\"color: #008000; text-decoration-color: #008000\">'This ETF provides direct, magnified inverse exposure to the semiconductor sector. If MU and </span>\n",
       "<span style=\"color: #008000; text-decoration-color: #008000\">other semiconductor stocks fall due to a sector-wide downturn, SOXS is designed to rise by approximately three </span>\n",
       "<span style=\"color: #008000; text-decoration-color: #008000\">times that daily percentage drop. It is the most direct hedge against a decline in the PHLX Semiconductor Sector </span>\n",
       "<span style=\"color: #008000; text-decoration-color: #008000\">Index.'</span>,\n",
       "            <span style=\"color: #808000; text-decoration-color: #808000\">hedge_ratio</span>=<span style=\"color: #008000; text-decoration-color: #008000\">'10-15% of the value of the MU position. Due to the 3X leverage, a smaller allocation is </span>\n",
       "<span style=\"color: #008000; text-decoration-color: #008000\">needed to achieve a significant hedge. Over-allocation can introduce substantial risk.'</span>,\n",
       "            <span style=\"color: #808000; text-decoration-color: #808000\">effectiveness_conditions</span>=<span style=\"font-weight: bold\">[</span>\n",
       "                <span style=\"color: #008000; text-decoration-color: #008000\">'Sharp, short-term sector-wide downturns.'</span>,\n",
       "                <span style=\"color: #008000; text-decoration-color: #008000\">'Periods of negative news flow or poor earnings reports for major semiconductor companies.'</span>,\n",
       "                <span style=\"color: #008000; text-decoration-color: #008000\">'Clear downward momentum in the semiconductor index (SOX).'</span>\n",
       "            <span style=\"font-weight: bold\">]</span>,\n",
       "            <span style=\"color: #808000; text-decoration-color: #808000\">limitations</span>=<span style=\"font-weight: bold\">[</span>\n",
       "                <span style=\"color: #008000; text-decoration-color: #008000\">'Not suitable for long-term holding due to volatility decay and beta slippage. The daily </span>\n",
       "<span style=\"color: #008000; text-decoration-color: #008000\">rebalancing can cause performance to deviate significantly from -3x the index return over longer periods.'</span>,\n",
       "                <span style=\"color: #008000; text-decoration-color: #008000\">'Can experience significant losses if the semiconductor sector rallies, even for a short period.'</span>,\n",
       "                <span style=\"color: #008000; text-decoration-color: #008000\">'High expense ratio and trading costs.'</span>\n",
       "            <span style=\"font-weight: bold\">]</span>,\n",
       "            <span style=\"color: #808000; text-decoration-color: #808000\">liquidity</span>=<span style=\"color: #008000; text-decoration-color: #008000\">'high'</span>\n",
       "        <span style=\"font-weight: bold\">)</span>,\n",
       "        <span style=\"color: #800080; text-decoration-color: #800080; font-weight: bold\">HedgeRecommendation</span><span style=\"font-weight: bold\">(</span>\n",
       "            <span style=\"color: #808000; text-decoration-color: #808000\">symbol</span>=<span style=\"color: #008000; text-decoration-color: #008000\">'XLU'</span>,\n",
       "            <span style=\"color: #808000; text-decoration-color: #808000\">name</span>=<span style=\"color: #008000; text-decoration-color: #008000\">'Utilities Select Sector SPDR Fund'</span>,\n",
       "            <span style=\"color: #808000; text-decoration-color: #808000\">hedge_type</span>=<span style=\"color: #008000; text-decoration-color: #008000\">'negative_correlation'</span>,\n",
       "            <span style=\"color: #808000; text-decoration-color: #808000\">correlation</span>=<span style=\"color: #008000; text-decoration-color: #008000\">'Historically low to negative correlation with cyclical technology stocks during market </span>\n",
       "<span style=\"color: #008000; text-decoration-color: #008000\">downturns.'</span>,\n",
       "            <span style=\"color: #808000; text-decoration-color: #808000\">rationale</span>=<span style=\"color: #008000; text-decoration-color: #008000\">'During economic slowdowns or risk-off periods, capital often rotates from cyclical sectors </span>\n",
       "<span style=\"color: #008000; text-decoration-color: #008000\">like semiconductors to defensive sectors like utilities. Utilities offer stable demand and dividend yields, making </span>\n",
       "<span style=\"color: #008000; text-decoration-color: #008000\">them attractive when growth stocks fall out of favor. An allocation to XLU can provide portfolio stability when MU </span>\n",
       "<span style=\"color: #008000; text-decoration-color: #008000\">is underperforming.'</span>,\n",
       "            <span style=\"color: #808000; text-decoration-color: #808000\">hedge_ratio</span>=<span style=\"color: #008000; text-decoration-color: #008000\">'30-50% of the value of the MU position. This is a lower-volatility hedge intended to </span>\n",
       "<span style=\"color: #008000; text-decoration-color: #008000\">dampen portfolio swings rather than provide a direct inverse return.'</span>,\n",
       "            <span style=\"color: #808000; text-decoration-color: #808000\">effectiveness_conditions</span>=<span style=\"font-weight: bold\">[</span>\n",
       "                <span style=\"color: #008000; text-decoration-color: #008000\">'Prolonged economic recessions or slowdowns.'</span>,\n",
       "                <span style=\"color: #008000; text-decoration-color: #008000\">\"A 'flight to safety' market environment where investors prioritize stable dividends over growth.\"</span>,\n",
       "                <span style=\"color: #008000; text-decoration-color: #008000\">'Falling interest rate environments, which benefit high-dividend paying sectors.'</span>\n",
       "            <span style=\"font-weight: bold\">]</span>,\n",
       "            <span style=\"color: #808000; text-decoration-color: #808000\">limitations</span>=<span style=\"font-weight: bold\">[</span>\n",
       "                <span style=\"color: #008000; text-decoration-color: #008000\">'Underperforms significantly during strong bull markets or risk-on periods.'</span>,\n",
       "                <span style=\"color: #008000; text-decoration-color: #008000\">'Sensitive to rising interest rates, which increases borrowing costs for utility companies and </span>\n",
       "<span style=\"color: #008000; text-decoration-color: #008000\">makes their dividends less attractive relative to bonds.'</span>,\n",
       "                <span style=\"color: #008000; text-decoration-color: #008000\">'Does not provide a direct hedge and may not move inversely to MU on any given day.'</span>\n",
       "            <span style=\"font-weight: bold\">]</span>,\n",
       "            <span style=\"color: #808000; text-decoration-color: #808000\">liquidity</span>=<span style=\"color: #008000; text-decoration-color: #008000\">'high'</span>\n",
       "        <span style=\"font-weight: bold\">)</span>,\n",
       "        <span style=\"color: #800080; text-decoration-color: #800080; font-weight: bold\">HedgeRecommendation</span><span style=\"font-weight: bold\">(</span>\n",
       "            <span style=\"color: #808000; text-decoration-color: #808000\">symbol</span>=<span style=\"color: #008000; text-decoration-color: #008000\">'VIXY'</span>,\n",
       "            <span style=\"color: #808000; text-decoration-color: #808000\">name</span>=<span style=\"color: #008000; text-decoration-color: #008000\">'ProShares VIX Short-Term Futures ETF'</span>,\n",
       "            <span style=\"color: #808000; text-decoration-color: #808000\">hedge_type</span>=<span style=\"color: #008000; text-decoration-color: #008000\">'volatility_hedge'</span>,\n",
       "            <span style=\"color: #808000; text-decoration-color: #808000\">correlation</span>=<span style=\"color: #008000; text-decoration-color: #008000\">'Positively correlated with market fear (VIX Index), which is typically negatively </span>\n",
       "<span style=\"color: #008000; text-decoration-color: #008000\">correlated with the broader market and high-beta sectors like semiconductors during sell-offs.'</span>,\n",
       "            <span style=\"color: #808000; text-decoration-color: #808000\">rationale</span>=<span style=\"color: #008000; text-decoration-color: #008000\">'A semiconductor downturn is often accompanied by a spike in broad market volatility. VIXY </span>\n",
       "<span style=\"color: #008000; text-decoration-color: #008000\">aims to track the S&amp;P 500 VIX Short-Term Futures Index, profiting from increases in expected market volatility. It </span>\n",
       "<span style=\"color: #008000; text-decoration-color: #008000\">acts as a general market crash insurance policy that would likely pay off during a significant sector correction.'</span>,\n",
       "            <span style=\"color: #808000; text-decoration-color: #808000\">hedge_ratio</span>=<span style=\"color: #008000; text-decoration-color: #008000\">'5-10% of the value of the MU position. This is a tactical, high-volatility instrument and </span>\n",
       "<span style=\"color: #008000; text-decoration-color: #008000\">should be a small, strategic allocation.'</span>,\n",
       "            <span style=\"color: #808000; text-decoration-color: #808000\">effectiveness_conditions</span>=<span style=\"font-weight: bold\">[</span>\n",
       "                <span style=\"color: #008000; text-decoration-color: #008000\">'Sudden market shocks and sharp sell-offs.'</span>,\n",
       "                <span style=\"color: #008000; text-decoration-color: #008000\">'Periods of high uncertainty and investor fear (geopolitical events, financial crises).'</span>,\n",
       "                <span style=\"color: #008000; text-decoration-color: #008000\">'Events that trigger a rapid increase in the VIX index.'</span>\n",
       "            <span style=\"font-weight: bold\">]</span>,\n",
       "            <span style=\"color: #808000; text-decoration-color: #808000\">limitations</span>=<span style=\"font-weight: bold\">[</span>\n",
       "                <span style=\"color: #008000; text-decoration-color: #008000\">'Significant losses over time due to contango in VIX futures markets (roll yield decay). This </span>\n",
       "<span style=\"color: #008000; text-decoration-color: #008000\">instrument is not a buy-and-hold hedge.'</span>,\n",
       "                <span style=\"color: #008000; text-decoration-color: #008000\">'Only effective for short-term, tactical hedging of sharp downturns.'</span>,\n",
       "                <span style=\"color: #008000; text-decoration-color: #008000\">'Its performance is tied to VIX futures, not the spot VIX index, which can lead to tracking </span>\n",
       "<span style=\"color: #008000; text-decoration-color: #008000\">differences.'</span>\n",
       "            <span style=\"font-weight: bold\">]</span>,\n",
       "            <span style=\"color: #808000; text-decoration-color: #808000\">liquidity</span>=<span style=\"color: #008000; text-decoration-color: #008000\">'high'</span>\n",
       "        <span style=\"font-weight: bold\">)</span>,\n",
       "        <span style=\"color: #800080; text-decoration-color: #800080; font-weight: bold\">HedgeRecommendation</span><span style=\"font-weight: bold\">(</span>\n",
       "            <span style=\"color: #808000; text-decoration-color: #808000\">symbol</span>=<span style=\"color: #008000; text-decoration-color: #008000\">'GLD'</span>,\n",
       "            <span style=\"color: #808000; text-decoration-color: #808000\">name</span>=<span style=\"color: #008000; text-decoration-color: #008000\">'SPDR Gold Shares'</span>,\n",
       "            <span style=\"color: #808000; text-decoration-color: #808000\">hedge_type</span>=<span style=\"color: #008000; text-decoration-color: #008000\">'commodity_hedge'</span>,\n",
       "            <span style=\"color: #808000; text-decoration-color: #808000\">correlation</span>=<span style=\"color: #008000; text-decoration-color: #008000\">'Generally uncorrelated or negatively correlated with equity markets during periods of </span>\n",
       "<span style=\"color: #008000; text-decoration-color: #008000\">economic stress and uncertainty.'</span>,\n",
       "            <span style=\"color: #808000; text-decoration-color: #808000\">rationale</span>=<span style=\"color: #008000; text-decoration-color: #008000\">\"Gold is a traditional safe-haven asset. In a scenario where a semiconductor downturn is part</span>\n",
       "<span style=\"color: #008000; text-decoration-color: #008000\">of a broader economic problem (e.g., high inflation, recession), investors often flock to gold. It provides a hedge</span>\n",
       "<span style=\"color: #008000; text-decoration-color: #008000\">against systemic risk and currency devaluation that could be the root cause of the sector's decline.\"</span>,\n",
       "            <span style=\"color: #808000; text-decoration-color: #808000\">hedge_ratio</span>=<span style=\"color: #008000; text-decoration-color: #008000\">'20-40% of the value of the MU position. Serves as a portfolio diversifier and a hedge </span>\n",
       "<span style=\"color: #008000; text-decoration-color: #008000\">against broader macroeconomic risks.'</span>,\n",
       "            <span style=\"color: #808000; text-decoration-color: #808000\">effectiveness_conditions</span>=<span style=\"font-weight: bold\">[</span>\n",
       "                <span style=\"color: #008000; text-decoration-color: #008000\">'Broad market risk-off sentiment.'</span>,\n",
       "                <span style=\"color: #008000; text-decoration-color: #008000\">'Periods of high inflation or currency debasement fears.'</span>,\n",
       "                <span style=\"color: #008000; text-decoration-color: #008000\">'Geopolitical instability causing a flight to tangible assets.'</span>\n",
       "            <span style=\"font-weight: bold\">]</span>,\n",
       "            <span style=\"color: #808000; text-decoration-color: #808000\">limitations</span>=<span style=\"font-weight: bold\">[</span>\n",
       "                <span style=\"color: #008000; text-decoration-color: #008000\">'Does not produce income or dividends.'</span>,\n",
       "                <span style=\"color: #008000; text-decoration-color: #008000\">'Can underperform if real interest rates rise, as this increases the opportunity cost of holding </span>\n",
       "<span style=\"color: #008000; text-decoration-color: #008000\">gold.'</span>,\n",
       "                <span style=\"color: #008000; text-decoration-color: #008000\">'Its price is influenced by many global factors beyond the semiconductor cycle, so it may not act </span>\n",
       "<span style=\"color: #008000; text-decoration-color: #008000\">as a precise hedge.'</span>\n",
       "            <span style=\"font-weight: bold\">]</span>,\n",
       "            <span style=\"color: #808000; text-decoration-color: #808000\">liquidity</span>=<span style=\"color: #008000; text-decoration-color: #008000\">'high'</span>\n",
       "        <span style=\"font-weight: bold\">)</span>\n",
       "    <span style=\"font-weight: bold\">]</span>,\n",
       "    <span style=\"color: #808000; text-decoration-color: #808000\">overall_strategy</span>=<span style=\"color: #008000; text-decoration-color: #008000\">\"The proposed hedging strategy for MU against a semiconductor sector downturn is </span>\n",
       "<span style=\"color: #008000; text-decoration-color: #008000\">multi-faceted. For a direct, short-term tactical hedge, SOXS offers magnified inverse exposure but carries </span>\n",
       "<span style=\"color: #008000; text-decoration-color: #008000\">significant risk due to leverage and decay. For a more strategic, portfolio-level hedge against a protracted </span>\n",
       "<span style=\"color: #008000; text-decoration-color: #008000\">economic slowdown, a rotation into a defensive sector ETF like XLU is recommended. VIXY provides a short-term hedge</span>\n",
       "<span style=\"color: #008000; text-decoration-color: #008000\">against a sudden spike in market-wide volatility that would likely accompany a sector collapse. Finally, GLD offers</span>\n",
       "<span style=\"color: #008000; text-decoration-color: #008000\">a classic safe-haven hedge against broader macroeconomic uncertainty that could be driving the sector's weakness. </span>\n",
       "<span style=\"color: #008000; text-decoration-color: #008000\">The choice and allocation depend on the investor's specific forecast for the nature, severity, and duration of the </span>\n",
       "<span style=\"color: #008000; text-decoration-color: #008000\">potential downturn.\"</span>,\n",
       "    <span style=\"color: #808000; text-decoration-color: #808000\">disclaimer</span>=<span style=\"color: #008000; text-decoration-color: #008000\">'This information is for analytical purposes only and does not constitute financial advice. Hedging </span>\n",
       "<span style=\"color: #008000; text-decoration-color: #008000\">involves costs and risks, including the potential for the hedge to underperform and generate losses. The </span>\n",
       "<span style=\"color: #008000; text-decoration-color: #008000\">effectiveness of a hedge is not guaranteed. Leveraged and inverse products are complex, carry high risk, and are </span>\n",
       "<span style=\"color: #008000; text-decoration-color: #008000\">intended for sophisticated investors with short-term time horizons. Past performance is not indicative of future </span>\n",
       "<span style=\"color: #008000; text-decoration-color: #008000\">results. Consult with a qualified financial professional before implementing any hedging strategy.'</span>\n",
       "<span style=\"font-weight: bold\">)</span>\n",
       "</pre>\n"
      ],
      "text/plain": [
       "\u001b[1;35mHedgeScreeningResult\u001b[0m\u001b[1m(\u001b[0m\n",
       "    \u001b[33mtarget_stock\u001b[0m=\u001b[32m'MU'\u001b[0m,\n",
       "    \u001b[33mhedge_criteria\u001b[0m=\u001b[32m'Protection against a cyclical downturn in the semiconductor sector, which is highly sensitive \u001b[0m\n",
       "\u001b[32mto macroeconomic conditions and consumer demand.'\u001b[0m,\n",
       "    \u001b[33mhedge_recommendations\u001b[0m=\u001b[1m[\u001b[0m\n",
       "        \u001b[1;35mHedgeRecommendation\u001b[0m\u001b[1m(\u001b[0m\n",
       "            \u001b[33msymbol\u001b[0m=\u001b[32m'SOXS'\u001b[0m,\n",
       "            \u001b[33mname\u001b[0m=\u001b[32m'Direxion Daily Semiconductor Bear 3X Shares'\u001b[0m,\n",
       "            \u001b[33mhedge_type\u001b[0m=\u001b[32m'inverse_sector'\u001b[0m,\n",
       "            \u001b[33mcorrelation\u001b[0m=\u001b[32m'Highly negative \u001b[0m\u001b[32m(\u001b[0m\u001b[32m-0.9 to -1.0\u001b[0m\u001b[32m)\u001b[0m\u001b[32m to semiconductor sector indices on a daily basis, before \u001b[0m\n",
       "\u001b[32maccounting for compounding effects.'\u001b[0m,\n",
       "            \u001b[33mrationale\u001b[0m=\u001b[32m'This ETF provides direct, magnified inverse exposure to the semiconductor sector. If MU and \u001b[0m\n",
       "\u001b[32mother semiconductor stocks fall due to a sector-wide downturn, SOXS is designed to rise by approximately three \u001b[0m\n",
       "\u001b[32mtimes that daily percentage drop. It is the most direct hedge against a decline in the PHLX Semiconductor Sector \u001b[0m\n",
       "\u001b[32mIndex.'\u001b[0m,\n",
       "            \u001b[33mhedge_ratio\u001b[0m=\u001b[32m'10-15% of the value of the MU position. Due to the 3X leverage, a smaller allocation is \u001b[0m\n",
       "\u001b[32mneeded to achieve a significant hedge. Over-allocation can introduce substantial risk.'\u001b[0m,\n",
       "            \u001b[33meffectiveness_conditions\u001b[0m=\u001b[1m[\u001b[0m\n",
       "                \u001b[32m'Sharp, short-term sector-wide downturns.'\u001b[0m,\n",
       "                \u001b[32m'Periods of negative news flow or poor earnings reports for major semiconductor companies.'\u001b[0m,\n",
       "                \u001b[32m'Clear downward momentum in the semiconductor index \u001b[0m\u001b[32m(\u001b[0m\u001b[32mSOX\u001b[0m\u001b[32m)\u001b[0m\u001b[32m.'\u001b[0m\n",
       "            \u001b[1m]\u001b[0m,\n",
       "            \u001b[33mlimitations\u001b[0m=\u001b[1m[\u001b[0m\n",
       "                \u001b[32m'Not suitable for long-term holding due to volatility decay and beta slippage. The daily \u001b[0m\n",
       "\u001b[32mrebalancing can cause performance to deviate significantly from -3x the index return over longer periods.'\u001b[0m,\n",
       "                \u001b[32m'Can experience significant losses if the semiconductor sector rallies, even for a short period.'\u001b[0m,\n",
       "                \u001b[32m'High expense ratio and trading costs.'\u001b[0m\n",
       "            \u001b[1m]\u001b[0m,\n",
       "            \u001b[33mliquidity\u001b[0m=\u001b[32m'high'\u001b[0m\n",
       "        \u001b[1m)\u001b[0m,\n",
       "        \u001b[1;35mHedgeRecommendation\u001b[0m\u001b[1m(\u001b[0m\n",
       "            \u001b[33msymbol\u001b[0m=\u001b[32m'XLU'\u001b[0m,\n",
       "            \u001b[33mname\u001b[0m=\u001b[32m'Utilities Select Sector SPDR Fund'\u001b[0m,\n",
       "            \u001b[33mhedge_type\u001b[0m=\u001b[32m'negative_correlation'\u001b[0m,\n",
       "            \u001b[33mcorrelation\u001b[0m=\u001b[32m'Historically low to negative correlation with cyclical technology stocks during market \u001b[0m\n",
       "\u001b[32mdownturns.'\u001b[0m,\n",
       "            \u001b[33mrationale\u001b[0m=\u001b[32m'During economic slowdowns or risk-off periods, capital often rotates from cyclical sectors \u001b[0m\n",
       "\u001b[32mlike semiconductors to defensive sectors like utilities. Utilities offer stable demand and dividend yields, making \u001b[0m\n",
       "\u001b[32mthem attractive when growth stocks fall out of favor. An allocation to XLU can provide portfolio stability when MU \u001b[0m\n",
       "\u001b[32mis underperforming.'\u001b[0m,\n",
       "            \u001b[33mhedge_ratio\u001b[0m=\u001b[32m'30-50% of the value of the MU position. This is a lower-volatility hedge intended to \u001b[0m\n",
       "\u001b[32mdampen portfolio swings rather than provide a direct inverse return.'\u001b[0m,\n",
       "            \u001b[33meffectiveness_conditions\u001b[0m=\u001b[1m[\u001b[0m\n",
       "                \u001b[32m'Prolonged economic recessions or slowdowns.'\u001b[0m,\n",
       "                \u001b[32m\"A 'flight to safety' market environment where investors prioritize stable dividends over growth.\"\u001b[0m,\n",
       "                \u001b[32m'Falling interest rate environments, which benefit high-dividend paying sectors.'\u001b[0m\n",
       "            \u001b[1m]\u001b[0m,\n",
       "            \u001b[33mlimitations\u001b[0m=\u001b[1m[\u001b[0m\n",
       "                \u001b[32m'Underperforms significantly during strong bull markets or risk-on periods.'\u001b[0m,\n",
       "                \u001b[32m'Sensitive to rising interest rates, which increases borrowing costs for utility companies and \u001b[0m\n",
       "\u001b[32mmakes their dividends less attractive relative to bonds.'\u001b[0m,\n",
       "                \u001b[32m'Does not provide a direct hedge and may not move inversely to MU on any given day.'\u001b[0m\n",
       "            \u001b[1m]\u001b[0m,\n",
       "            \u001b[33mliquidity\u001b[0m=\u001b[32m'high'\u001b[0m\n",
       "        \u001b[1m)\u001b[0m,\n",
       "        \u001b[1;35mHedgeRecommendation\u001b[0m\u001b[1m(\u001b[0m\n",
       "            \u001b[33msymbol\u001b[0m=\u001b[32m'VIXY'\u001b[0m,\n",
       "            \u001b[33mname\u001b[0m=\u001b[32m'ProShares VIX Short-Term Futures ETF'\u001b[0m,\n",
       "            \u001b[33mhedge_type\u001b[0m=\u001b[32m'volatility_hedge'\u001b[0m,\n",
       "            \u001b[33mcorrelation\u001b[0m=\u001b[32m'Positively correlated with market fear \u001b[0m\u001b[32m(\u001b[0m\u001b[32mVIX Index\u001b[0m\u001b[32m)\u001b[0m\u001b[32m, which is typically negatively \u001b[0m\n",
       "\u001b[32mcorrelated with the broader market and high-beta sectors like semiconductors during sell-offs.'\u001b[0m,\n",
       "            \u001b[33mrationale\u001b[0m=\u001b[32m'A semiconductor downturn is often accompanied by a spike in broad market volatility. VIXY \u001b[0m\n",
       "\u001b[32maims to track the S&P 500 VIX Short-Term Futures Index, profiting from increases in expected market volatility. It \u001b[0m\n",
       "\u001b[32macts as a general market crash insurance policy that would likely pay off during a significant sector correction.'\u001b[0m,\n",
       "            \u001b[33mhedge_ratio\u001b[0m=\u001b[32m'5-10% of the value of the MU position. This is a tactical, high-volatility instrument and \u001b[0m\n",
       "\u001b[32mshould be a small, strategic allocation.'\u001b[0m,\n",
       "            \u001b[33meffectiveness_conditions\u001b[0m=\u001b[1m[\u001b[0m\n",
       "                \u001b[32m'Sudden market shocks and sharp sell-offs.'\u001b[0m,\n",
       "                \u001b[32m'Periods of high uncertainty and investor fear \u001b[0m\u001b[32m(\u001b[0m\u001b[32mgeopolitical events, financial crises\u001b[0m\u001b[32m)\u001b[0m\u001b[32m.'\u001b[0m,\n",
       "                \u001b[32m'Events that trigger a rapid increase in the VIX index.'\u001b[0m\n",
       "            \u001b[1m]\u001b[0m,\n",
       "            \u001b[33mlimitations\u001b[0m=\u001b[1m[\u001b[0m\n",
       "                \u001b[32m'Significant losses over time due to contango in VIX futures markets \u001b[0m\u001b[32m(\u001b[0m\u001b[32mroll yield decay\u001b[0m\u001b[32m)\u001b[0m\u001b[32m. This \u001b[0m\n",
       "\u001b[32minstrument is not a buy-and-hold hedge.'\u001b[0m,\n",
       "                \u001b[32m'Only effective for short-term, tactical hedging of sharp downturns.'\u001b[0m,\n",
       "                \u001b[32m'Its performance is tied to VIX futures, not the spot VIX index, which can lead to tracking \u001b[0m\n",
       "\u001b[32mdifferences.'\u001b[0m\n",
       "            \u001b[1m]\u001b[0m,\n",
       "            \u001b[33mliquidity\u001b[0m=\u001b[32m'high'\u001b[0m\n",
       "        \u001b[1m)\u001b[0m,\n",
       "        \u001b[1;35mHedgeRecommendation\u001b[0m\u001b[1m(\u001b[0m\n",
       "            \u001b[33msymbol\u001b[0m=\u001b[32m'GLD'\u001b[0m,\n",
       "            \u001b[33mname\u001b[0m=\u001b[32m'SPDR Gold Shares'\u001b[0m,\n",
       "            \u001b[33mhedge_type\u001b[0m=\u001b[32m'commodity_hedge'\u001b[0m,\n",
       "            \u001b[33mcorrelation\u001b[0m=\u001b[32m'Generally uncorrelated or negatively correlated with equity markets during periods of \u001b[0m\n",
       "\u001b[32meconomic stress and uncertainty.'\u001b[0m,\n",
       "            \u001b[33mrationale\u001b[0m=\u001b[32m\"Gold\u001b[0m\u001b[32m is a traditional safe-haven asset. In a scenario where a semiconductor downturn is part\u001b[0m\n",
       "\u001b[32mof a broader economic problem \u001b[0m\u001b[32m(\u001b[0m\u001b[32me.g., high inflation, recession\u001b[0m\u001b[32m)\u001b[0m\u001b[32m, investors often flock to gold. It provides a hedge\u001b[0m\n",
       "\u001b[32magainst systemic risk and currency devaluation that could be the root cause of the sector's decline.\"\u001b[0m,\n",
       "            \u001b[33mhedge_ratio\u001b[0m=\u001b[32m'20-40% of the value of the MU position. Serves as a portfolio diversifier and a hedge \u001b[0m\n",
       "\u001b[32magainst broader macroeconomic risks.'\u001b[0m,\n",
       "            \u001b[33meffectiveness_conditions\u001b[0m=\u001b[1m[\u001b[0m\n",
       "                \u001b[32m'Broad market risk-off sentiment.'\u001b[0m,\n",
       "                \u001b[32m'Periods of high inflation or currency debasement fears.'\u001b[0m,\n",
       "                \u001b[32m'Geopolitical instability causing a flight to tangible assets.'\u001b[0m\n",
       "            \u001b[1m]\u001b[0m,\n",
       "            \u001b[33mlimitations\u001b[0m=\u001b[1m[\u001b[0m\n",
       "                \u001b[32m'Does not produce income or dividends.'\u001b[0m,\n",
       "                \u001b[32m'Can underperform if real interest rates rise, as this increases the opportunity cost of holding \u001b[0m\n",
       "\u001b[32mgold.'\u001b[0m,\n",
       "                \u001b[32m'Its price is influenced by many global factors beyond the semiconductor cycle, so it may not act \u001b[0m\n",
       "\u001b[32mas a precise hedge.'\u001b[0m\n",
       "            \u001b[1m]\u001b[0m,\n",
       "            \u001b[33mliquidity\u001b[0m=\u001b[32m'high'\u001b[0m\n",
       "        \u001b[1m)\u001b[0m\n",
       "    \u001b[1m]\u001b[0m,\n",
       "    \u001b[33moverall_strategy\u001b[0m=\u001b[32m\"The\u001b[0m\u001b[32m proposed hedging strategy for MU against a semiconductor sector downturn is \u001b[0m\n",
       "\u001b[32mmulti-faceted. For a direct, short-term tactical hedge, SOXS offers magnified inverse exposure but carries \u001b[0m\n",
       "\u001b[32msignificant risk due to leverage and decay. For a more strategic, portfolio-level hedge against a protracted \u001b[0m\n",
       "\u001b[32meconomic slowdown, a rotation into a defensive sector ETF like XLU is recommended. VIXY provides a short-term hedge\u001b[0m\n",
       "\u001b[32magainst a sudden spike in market-wide volatility that would likely accompany a sector collapse. Finally, GLD offers\u001b[0m\n",
       "\u001b[32ma classic safe-haven hedge against broader macroeconomic uncertainty that could be driving the sector's weakness. \u001b[0m\n",
       "\u001b[32mThe choice and allocation depend on the investor's specific forecast for the nature, severity, and duration of the \u001b[0m\n",
       "\u001b[32mpotential downturn.\"\u001b[0m,\n",
       "    \u001b[33mdisclaimer\u001b[0m=\u001b[32m'This information is for analytical purposes only and does not constitute financial advice. Hedging \u001b[0m\n",
       "\u001b[32minvolves costs and risks, including the potential for the hedge to underperform and generate losses. The \u001b[0m\n",
       "\u001b[32meffectiveness of a hedge is not guaranteed. Leveraged and inverse products are complex, carry high risk, and are \u001b[0m\n",
       "\u001b[32mintended for sophisticated investors with short-term time horizons. Past performance is not indicative of future \u001b[0m\n",
       "\u001b[32mresults. Consult with a qualified financial professional before implementing any hedging strategy.'\u001b[0m\n",
       "\u001b[1m)\u001b[0m\n"
      ]
     },
     "metadata": {},
     "output_type": "display_data"
    }
   ],
   "source": [
    "print(\"Structured Hedge Screening Result:\")\n",
    "console.print(structured_hedge)"
   ]
  },
  {
   "cell_type": "code",
   "execution_count": 7,
   "id": "315d4f2c",
   "metadata": {},
   "outputs": [
    {
     "data": {
      "text/html": [
       "<pre style=\"white-space:pre;overflow-x:auto;line-height:normal;font-family:Menlo,'DejaVu Sans Mono',consolas,'Courier New',monospace\">Target stock: MU\n",
       "</pre>\n"
      ],
      "text/plain": [
       "Target stock: MU\n"
      ]
     },
     "metadata": {},
     "output_type": "display_data"
    },
    {
     "data": {
      "text/html": [
       "<pre style=\"white-space:pre;overflow-x:auto;line-height:normal;font-family:Menlo,'DejaVu Sans Mono',consolas,'Courier New',monospace\">Strategy: The proposed hedging strategy for MU against a semiconductor sector downturn is multi-faceted. For a \n",
       "direct, short-term tactical hedge, SOXS offers magnified inverse exposure but carries significant risk due to \n",
       "leverage and decay. For a more strategic, portfolio-level hedge against a protracted economic slowdown, a rotation \n",
       "into a defensive sector ETF like XLU is recommended. VIXY provides a short-term hedge against a sudden spike in \n",
       "market-wide volatility that would likely accompany a sector collapse. Finally, GLD offers a classic safe-haven \n",
       "hedge against broader macroeconomic uncertainty that could be driving the sector's weakness. The choice and \n",
       "allocation depend on the investor's specific forecast for the nature, severity, and duration of the potential \n",
       "downturn.\n",
       "</pre>\n"
      ],
      "text/plain": [
       "Strategy: The proposed hedging strategy for MU against a semiconductor sector downturn is multi-faceted. For a \n",
       "direct, short-term tactical hedge, SOXS offers magnified inverse exposure but carries significant risk due to \n",
       "leverage and decay. For a more strategic, portfolio-level hedge against a protracted economic slowdown, a rotation \n",
       "into a defensive sector ETF like XLU is recommended. VIXY provides a short-term hedge against a sudden spike in \n",
       "market-wide volatility that would likely accompany a sector collapse. Finally, GLD offers a classic safe-haven \n",
       "hedge against broader macroeconomic uncertainty that could be driving the sector's weakness. The choice and \n",
       "allocation depend on the investor's specific forecast for the nature, severity, and duration of the potential \n",
       "downturn.\n"
      ]
     },
     "metadata": {},
     "output_type": "display_data"
    },
    {
     "data": {
      "text/html": [
       "<pre style=\"white-space:pre;overflow-x:auto;line-height:normal;font-family:Menlo,'DejaVu Sans Mono',consolas,'Courier New',monospace\">Number of hedge recommendations: <span style=\"color: #008080; text-decoration-color: #008080; font-weight: bold\">4</span>\n",
       "</pre>\n"
      ],
      "text/plain": [
       "Number of hedge recommendations: \u001b[1;36m4\u001b[0m\n"
      ]
     },
     "metadata": {},
     "output_type": "display_data"
    },
    {
     "data": {
      "text/html": [
       "<pre style=\"white-space:pre;overflow-x:auto;line-height:normal;font-family:Menlo,'DejaVu Sans Mono',consolas,'Courier New',monospace\">Top hedge symbol: SOXS\n",
       "</pre>\n"
      ],
      "text/plain": [
       "Top hedge symbol: SOXS\n"
      ]
     },
     "metadata": {},
     "output_type": "display_data"
    },
    {
     "data": {
      "text/html": [
       "<pre style=\"white-space:pre;overflow-x:auto;line-height:normal;font-family:Menlo,'DejaVu Sans Mono',consolas,'Courier New',monospace\">Top hedge name: Direxion Daily Semiconductor Bear 3X Shares\n",
       "</pre>\n"
      ],
      "text/plain": [
       "Top hedge name: Direxion Daily Semiconductor Bear 3X Shares\n"
      ]
     },
     "metadata": {},
     "output_type": "display_data"
    },
    {
     "data": {
      "text/html": [
       "<pre style=\"white-space:pre;overflow-x:auto;line-height:normal;font-family:Menlo,'DejaVu Sans Mono',consolas,'Courier New',monospace\">Correlation: Highly negative <span style=\"font-weight: bold\">(</span><span style=\"color: #008080; text-decoration-color: #008080; font-weight: bold\">-0.9</span> to <span style=\"color: #008080; text-decoration-color: #008080; font-weight: bold\">-1.0</span><span style=\"font-weight: bold\">)</span> to semiconductor sector indices on a daily basis, before accounting for\n",
       "compounding effects.\n",
       "</pre>\n"
      ],
      "text/plain": [
       "Correlation: Highly negative \u001b[1m(\u001b[0m\u001b[1;36m-0.9\u001b[0m to \u001b[1;36m-1.0\u001b[0m\u001b[1m)\u001b[0m to semiconductor sector indices on a daily basis, before accounting for\n",
       "compounding effects.\n"
      ]
     },
     "metadata": {},
     "output_type": "display_data"
    },
    {
     "data": {
      "text/html": [
       "<pre style=\"white-space:pre;overflow-x:auto;line-height:normal;font-family:Menlo,'DejaVu Sans Mono',consolas,'Courier New',monospace\">Hedge ratio: <span style=\"color: #008080; text-decoration-color: #008080; font-weight: bold\">10</span>-<span style=\"color: #008080; text-decoration-color: #008080; font-weight: bold\">15</span>% of the value of the MU position. Due to the 3X leverage, a smaller allocation is needed to \n",
       "achieve a significant hedge. Over-allocation can introduce substantial risk.\n",
       "</pre>\n"
      ],
      "text/plain": [
       "Hedge ratio: \u001b[1;36m10\u001b[0m-\u001b[1;36m15\u001b[0m% of the value of the MU position. Due to the 3X leverage, a smaller allocation is needed to \n",
       "achieve a significant hedge. Over-allocation can introduce substantial risk.\n"
      ]
     },
     "metadata": {},
     "output_type": "display_data"
    },
    {
     "data": {
      "text/html": [
       "<pre style=\"white-space:pre;overflow-x:auto;line-height:normal;font-family:Menlo,'DejaVu Sans Mono',consolas,'Courier New',monospace\">Effectiveness conditions: Sharp, short-term sector-wide downturns., Periods of negative news flow or poor earnings \n",
       "reports for major semiconductor companies., Clear downward momentum in the semiconductor index <span style=\"font-weight: bold\">(</span>SOX<span style=\"font-weight: bold\">)</span>.\n",
       "</pre>\n"
      ],
      "text/plain": [
       "Effectiveness conditions: Sharp, short-term sector-wide downturns., Periods of negative news flow or poor earnings \n",
       "reports for major semiconductor companies., Clear downward momentum in the semiconductor index \u001b[1m(\u001b[0mSOX\u001b[1m)\u001b[0m.\n"
      ]
     },
     "metadata": {},
     "output_type": "display_data"
    },
    {
     "data": {
      "text/html": [
       "<pre style=\"white-space:pre;overflow-x:auto;line-height:normal;font-family:Menlo,'DejaVu Sans Mono',consolas,'Courier New',monospace\">Limitations: Not suitable for long-term holding due to volatility decay and beta slippage. The daily rebalancing \n",
       "can cause performance to deviate significantly from -3x the index return over longer periods., Can experience \n",
       "significant losses if the semiconductor sector rallies, even for a short period., High expense ratio and trading \n",
       "costs.\n",
       "</pre>\n"
      ],
      "text/plain": [
       "Limitations: Not suitable for long-term holding due to volatility decay and beta slippage. The daily rebalancing \n",
       "can cause performance to deviate significantly from -3x the index return over longer periods., Can experience \n",
       "significant losses if the semiconductor sector rallies, even for a short period., High expense ratio and trading \n",
       "costs.\n"
      ]
     },
     "metadata": {},
     "output_type": "display_data"
    },
    {
     "data": {
      "text/html": [
       "<pre style=\"white-space:pre;overflow-x:auto;line-height:normal;font-family:Menlo,'DejaVu Sans Mono',consolas,'Courier New',monospace\">Liquidity: high\n",
       "</pre>\n"
      ],
      "text/plain": [
       "Liquidity: high\n"
      ]
     },
     "metadata": {},
     "output_type": "display_data"
    },
    {
     "data": {
      "text/html": [
       "<pre style=\"white-space:pre;overflow-x:auto;line-height:normal;font-family:Menlo,'DejaVu Sans Mono',consolas,'Courier New',monospace\">Hedge type: inverse_sector\n",
       "</pre>\n"
      ],
      "text/plain": [
       "Hedge type: inverse_sector\n"
      ]
     },
     "metadata": {},
     "output_type": "display_data"
    },
    {
     "data": {
      "text/html": [
       "<pre style=\"white-space:pre;overflow-x:auto;line-height:normal;font-family:Menlo,'DejaVu Sans Mono',consolas,'Courier New',monospace\">Rationale: This ETF provides direct, magnified inverse exposure to the semiconductor sector. If MU and other \n",
       "semiconductor stocks fall due to a sector-wide downturn, SOXS is designed to rise by approximately three times that\n",
       "daily percentage drop. It is the most direct hedge against a decline in the PHLX Semiconductor Sector Index.\n",
       "</pre>\n"
      ],
      "text/plain": [
       "Rationale: This ETF provides direct, magnified inverse exposure to the semiconductor sector. If MU and other \n",
       "semiconductor stocks fall due to a sector-wide downturn, SOXS is designed to rise by approximately three times that\n",
       "daily percentage drop. It is the most direct hedge against a decline in the PHLX Semiconductor Sector Index.\n"
      ]
     },
     "metadata": {},
     "output_type": "display_data"
    }
   ],
   "source": [
    "console.print(f\"Target stock: {structured_hedge.target_stock}\")\n",
    "console.print(f\"Strategy: {structured_hedge.overall_strategy}\")\n",
    "console.print(f\"Number of hedge recommendations: {len(structured_hedge.hedge_recommendations)}\")\n",
    "if structured_hedge.hedge_recommendations:\n",
    "    first_hedge = structured_hedge.hedge_recommendations[0]\n",
    "    console.print(f\"Top hedge symbol: {first_hedge.symbol}\")\n",
    "    console.print(f\"Top hedge name: {first_hedge.name}\")\n",
    "    console.print(f\"Correlation: {first_hedge.correlation}\")\n",
    "    console.print(f\"Hedge ratio: {first_hedge.hedge_ratio}\")\n",
    "    console.print(f\"Effectiveness conditions: {', '.join(first_hedge.effectiveness_conditions)}\")\n",
    "    console.print(f\"Limitations: {', '.join(first_hedge.limitations)}\")\n",
    "    console.print(f\"Liquidity: {first_hedge.liquidity}\")\n",
    "    console.print(f\"Hedge type: {first_hedge.hedge_type}\")\n",
    "    console.print(f\"Rationale: {first_hedge.rationale}\")"
   ]
  }
 ],
 "metadata": {
  "kernelspec": {
   "display_name": "quantrl-lab-iz6bnoqa-py3.10",
   "language": "python",
   "name": "python3"
  },
  "language_info": {
   "codemirror_mode": {
    "name": "ipython",
    "version": 3
   },
   "file_extension": ".py",
   "mimetype": "text/x-python",
   "name": "python",
   "nbconvert_exporter": "python",
   "pygments_lexer": "ipython3",
   "version": "3.10.4"
  }
 },
 "nbformat": 4,
 "nbformat_minor": 5
}
